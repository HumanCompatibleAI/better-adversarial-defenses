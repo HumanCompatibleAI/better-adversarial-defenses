{
 "cells": [
  {
   "cell_type": "code",
   "execution_count": 1,
   "metadata": {},
   "outputs": [],
   "source": [
    "import numpy as np\n",
    "import os\n",
    "os.environ[\"TF_FORCE_GPU_ALLOW_GROWTH\"]=\"true\"\n",
    "import tensorflow as tf\n",
    "tf.compat.v1.enable_eager_execution()\n",
    "from tqdm.notebook import tqdm\n",
    "from copy import deepcopy\n",
    "from matplotlib import pyplot as plt\n",
    "import pandas as pd\n",
    "import seaborn as sns\n",
    "from sacred import Experiment\n",
    "import rock_paper_scissors as rps\n",
    "from rps_rl import RPCEnv, RPCAgent, Monitor, Universe"
   ]
  },
  {
   "cell_type": "markdown",
   "metadata": {},
   "source": [
    "## All outcomes (sanity check)"
   ]
  },
  {
   "cell_type": "code",
   "execution_count": 2,
   "metadata": {},
   "outputs": [
    {
     "name": "stdout",
     "output_type": "stream",
     "text": [
      "R vs R => tie\n",
      "R vs P => R loses\n",
      "R vs S => R wins\n",
      "P vs R => P wins\n",
      "P vs P => tie\n",
      "P vs S => P loses\n",
      "S vs R => S loses\n",
      "S vs P => S wins\n",
      "S vs S => tie\n"
     ]
    }
   ],
   "source": [
    "rps.print_outcomes()"
   ]
  },
  {
   "cell_type": "markdown",
   "metadata": {},
   "source": [
    "## Initial training phase"
   ]
  },
  {
   "cell_type": "code",
   "execution_count": 3,
   "metadata": {},
   "outputs": [],
   "source": [
    "# environment\n",
    "env = RPCEnv(noise_dim=4)\n",
    "\n",
    "# how many agents to create?\n",
    "N_AGENTS = 10\n",
    "\n",
    "# how many games to play during test?\n",
    "N_GAMES = 1000\n",
    "\n",
    "# creating agents\n",
    "AGENTS = [RPCAgent(noise_dim=env.noise_dim, identity=i) for i in range(N_AGENTS)]\n",
    "\n",
    "# to track the performance\n",
    "m = Monitor(agents=AGENTS)"
   ]
  },
  {
   "cell_type": "code",
   "execution_count": 4,
   "metadata": {},
   "outputs": [],
   "source": [
    "def sample_agent():\n",
    "    \"\"\"Get one of the agents.\"\"\"\n",
    "    return np.random.choice(AGENTS)"
   ]
  },
  {
   "cell_type": "code",
   "execution_count": 5,
   "metadata": {},
   "outputs": [
    {
     "data": {
      "application/vnd.jupyter.widget-view+json": {
       "model_id": "37c9051527f74671a56311f17139a8fe",
       "version_major": 2,
       "version_minor": 0
      },
      "text/plain": [
       "HBox(children=(FloatProgress(value=0.0, max=1000.0), HTML(value='')))"
      ]
     },
     "metadata": {},
     "output_type": "display_data"
    },
    {
     "name": "stdout",
     "output_type": "stream",
     "text": [
      "\n"
     ]
    }
   ],
   "source": [
    "# Running training games\n",
    "for _ in tqdm(range(N_GAMES)):\n",
    "    A1, A2 = sample_agent(), sample_agent()\n",
    "    A1.do_train = True\n",
    "    A2.do_train = True\n",
    "    U = Universe(environment=env, agents=[A1, A2], monitor=m)\n",
    "    rew = U.episode()\n",
    "    del U"
   ]
  },
  {
   "cell_type": "code",
   "execution_count": 6,
   "metadata": {},
   "outputs": [
    {
     "data": {
      "text/plain": [
       "[<Agent id=0 wisdom=218 opponents=10>,\n",
       " <Agent id=1 wisdom=171 opponents=10>,\n",
       " <Agent id=2 wisdom=198 opponents=10>,\n",
       " <Agent id=3 wisdom=188 opponents=10>,\n",
       " <Agent id=4 wisdom=213 opponents=10>,\n",
       " <Agent id=5 wisdom=197 opponents=10>,\n",
       " <Agent id=6 wisdom=215 opponents=10>,\n",
       " <Agent id=7 wisdom=202 opponents=10>,\n",
       " <Agent id=8 wisdom=198 opponents=10>,\n",
       " <Agent id=9 wisdom=200 opponents=10>]"
      ]
     },
     "execution_count": 6,
     "metadata": {},
     "output_type": "execute_result"
    }
   ],
   "source": [
    "AGENTS"
   ]
  },
  {
   "cell_type": "markdown",
   "metadata": {},
   "source": [
    "## Train stats"
   ]
  },
  {
   "cell_type": "code",
   "execution_count": 7,
   "metadata": {},
   "outputs": [
    {
     "data": {
      "text/plain": [
       "{'reward': {<Agent id=0 wisdom=218 opponents=10>: {-1: 75, 0: 69, 1: 74},\n",
       "  <Agent id=1 wisdom=171 opponents=10>: {-1: 65, 0: 42, 1: 64},\n",
       "  <Agent id=2 wisdom=198 opponents=10>: {-1: 69, 0: 60, 1: 69},\n",
       "  <Agent id=3 wisdom=188 opponents=10>: {-1: 53, 0: 61, 1: 74},\n",
       "  <Agent id=4 wisdom=213 opponents=10>: {-1: 65, 0: 75, 1: 73},\n",
       "  <Agent id=5 wisdom=197 opponents=10>: {-1: 74, 0: 57, 1: 66},\n",
       "  <Agent id=6 wisdom=215 opponents=10>: {-1: 78, 0: 69, 1: 68},\n",
       "  <Agent id=7 wisdom=202 opponents=10>: {-1: 60, 0: 79, 1: 63},\n",
       "  <Agent id=8 wisdom=198 opponents=10>: {-1: 72, 0: 53, 1: 73},\n",
       "  <Agent id=9 wisdom=200 opponents=10>: {-1: 71, 0: 71, 1: 58}},\n",
       " 'action': {<Agent id=0 wisdom=218 opponents=10>: [82, 72, 64],\n",
       "  <Agent id=1 wisdom=171 opponents=10>: [72, 52, 47],\n",
       "  <Agent id=2 wisdom=198 opponents=10>: [73, 43, 82],\n",
       "  <Agent id=3 wisdom=188 opponents=10>: [56, 49, 83],\n",
       "  <Agent id=4 wisdom=213 opponents=10>: [58, 83, 72],\n",
       "  <Agent id=5 wisdom=197 opponents=10>: [80, 66, 51],\n",
       "  <Agent id=6 wisdom=215 opponents=10>: [74, 76, 65],\n",
       "  <Agent id=7 wisdom=202 opponents=10>: [59, 72, 71],\n",
       "  <Agent id=8 wisdom=198 opponents=10>: [57, 71, 70],\n",
       "  <Agent id=9 wisdom=200 opponents=10>: [70, 53, 77]}}"
      ]
     },
     "execution_count": 7,
     "metadata": {},
     "output_type": "execute_result"
    }
   ],
   "source": [
    "m.stats()"
   ]
  },
  {
   "cell_type": "code",
   "execution_count": 8,
   "metadata": {},
   "outputs": [
    {
     "data": {
      "text/plain": [
       "<matplotlib.axes._subplots.AxesSubplot at 0x7f6f6c728290>"
      ]
     },
     "execution_count": 8,
     "metadata": {},
     "output_type": "execute_result"
    },
    {
     "data": {
      "image/png": "[encoded data removed]",
      "text/plain": [
       "<Figure size 432x288 with 2 Axes>"
      ]
     },
     "metadata": {
      "needs_background": "light"
     },
     "output_type": "display_data"
    }
   ],
   "source": [
    "matrix = np.zeros((len(AGENTS), len(AGENTS)))\n",
    "for i1, A1 in enumerate(AGENTS):\n",
    "    for i2, A2 in enumerate(AGENTS):\n",
    "        matrix[i1, i2] = np.mean(A1.reward_by_opponent[A2])\n",
    "cm = sns.diverging_palette(0, 129, l=70, s=100, n=20, center=\"dark\")\n",
    "sns.heatmap(matrix, vmin=-1, vmax=1, cmap=cm)"
   ]
  },
  {
   "cell_type": "markdown",
   "metadata": {},
   "source": [
    "## Running without training"
   ]
  },
  {
   "cell_type": "code",
   "execution_count": 9,
   "metadata": {},
   "outputs": [
    {
     "data": {
      "application/vnd.jupyter.widget-view+json": {
       "model_id": "3a98135abff54c9597d0c85d58f42c8a",
       "version_major": 2,
       "version_minor": 0
      },
      "text/plain": [
       "HBox(children=(FloatProgress(value=0.0, max=10.0), HTML(value='')))"
      ]
     },
     "metadata": {},
     "output_type": "display_data"
    },
    {
     "name": "stdout",
     "output_type": "stream",
     "text": [
      "\n"
     ]
    }
   ],
   "source": [
    "# our agent\n",
    "A = AGENTS[0]\n",
    "\n",
    "# number of games to test for each agent\n",
    "N_TEST_GAMES = 10\n",
    "\n",
    "# to track the performance\n",
    "m_test = Monitor(agents=AGENTS)\n",
    "\n",
    "# Running training games\n",
    "for _ in tqdm(range(N_TEST_GAMES)):\n",
    "    for A2 in AGENTS[1:]:\n",
    "        A.do_train = False\n",
    "        A2.do_train = False\n",
    "        U = Universe(environment=env, agents=[A, A2], monitor=m_test)\n",
    "        rew = U.episode()\n",
    "        del U"
   ]
  },
  {
   "cell_type": "code",
   "execution_count": 10,
   "metadata": {},
   "outputs": [],
   "source": [
    "results = {x: y[AGENTS[0]] for x, y in m_test.stats().items()}"
   ]
  },
  {
   "cell_type": "code",
   "execution_count": 11,
   "metadata": {},
   "outputs": [
    {
     "data": {
      "text/plain": [
       "[39, 28, 23]"
      ]
     },
     "execution_count": 11,
     "metadata": {},
     "output_type": "execute_result"
    }
   ],
   "source": [
    "results['action']"
   ]
  },
  {
   "cell_type": "code",
   "execution_count": 12,
   "metadata": {},
   "outputs": [],
   "source": [
    "rew = results['reward']"
   ]
  },
  {
   "cell_type": "code",
   "execution_count": 13,
   "metadata": {},
   "outputs": [
    {
     "data": {
      "image/png": "[encoded data removed]",
      "text/plain": [
       "<Figure size 432x288 with 1 Axes>"
      ]
     },
     "metadata": {
      "needs_background": "light"
     },
     "output_type": "display_data"
    }
   ],
   "source": [
    "plt.title(\"Reward histogram\")\n",
    "plt.hist([x for x, y in rew.items() for _ in range(y)])\n",
    "plt.show()"
   ]
  },
  {
   "cell_type": "markdown",
   "metadata": {},
   "source": [
    "# Playing with an UNKNOWN opponent"
   ]
  },
  {
   "cell_type": "code",
   "execution_count": 14,
   "metadata": {},
   "outputs": [
    {
     "data": {
      "text/plain": [
       "9"
      ]
     },
     "execution_count": 14,
     "metadata": {},
     "output_type": "execute_result"
    }
   ],
   "source": [
    "A1 = AGENTS[0]\n",
    "A2 = np.random.choice(AGENTS[1:])\n",
    "true_opponent = AGENTS.index(A2)\n",
    "true_opponent"
   ]
  },
  {
   "cell_type": "code",
   "execution_count": 15,
   "metadata": {},
   "outputs": [],
   "source": [
    "A1.do_train = False\n",
    "A2.do_train = False"
   ]
  },
  {
   "cell_type": "markdown",
   "metadata": {},
   "source": [
    "## Identifying threat"
   ]
  },
  {
   "cell_type": "code",
   "execution_count": 16,
   "metadata": {},
   "outputs": [
    {
     "data": {
      "application/vnd.jupyter.widget-view+json": {
       "model_id": "33a9a14e5a3d433cb9d987cc1df31335",
       "version_major": 2,
       "version_minor": 0
      },
      "text/plain": [
       "HBox(children=(FloatProgress(value=0.0, max=50.0), HTML(value='')))"
      ]
     },
     "metadata": {},
     "output_type": "display_data"
    },
    {
     "name": "stdout",
     "output_type": "stream",
     "text": [
      "\n"
     ]
    }
   ],
   "source": [
    "# to track the performance\n",
    "m_estimate = Monitor(agents=AGENTS)\n",
    "\n",
    "U = Universe(environment=env, agents=[A1, A2], monitor=m_estimate)\n",
    "for _ in tqdm(range(50)):\n",
    "    rew = U.episode()"
   ]
  },
  {
   "cell_type": "code",
   "execution_count": 17,
   "metadata": {},
   "outputs": [
    {
     "data": {
      "text/plain": [
       "<matplotlib.lines.Line2D at 0x7f6f6c695790>"
      ]
     },
     "execution_count": 17,
     "metadata": {},
     "output_type": "execute_result"
    },
    {
     "data": {
      "image/png": "[encoded data removed]",
      "text/plain": [
       "<Figure size 432x288 with 1 Axes>"
      ]
     },
     "metadata": {
      "needs_background": "light"
     },
     "output_type": "display_data"
    }
   ],
   "source": [
    "plt.plot(pd.Series(A1.reward_by_opponent[A2]).rolling(50).mean())\n",
    "plt.axhline(0)"
   ]
  },
  {
   "cell_type": "code",
   "execution_count": 18,
   "metadata": {},
   "outputs": [],
   "source": [
    "def dict_argmax(d):\n",
    "    keys = list(d.keys())\n",
    "    vals = [d[k] for k in keys]\n",
    "    idx = np.argmax(vals)\n",
    "    return keys[idx]\n",
    "\n",
    "agent_logprobs = {A: 0 for A in AGENTS}\n",
    "for (_, _, (xi, a1, a2, (r1, r2))) in m_estimate.data:\n",
    "    for A in AGENTS:\n",
    "        agent_logprobs[A] += np.log(A.model(np.array([xi]))[0][a2].numpy())\n",
    "estimated_agent = dict_argmax(agent_logprobs)"
   ]
  },
  {
   "cell_type": "code",
   "execution_count": 19,
   "metadata": {},
   "outputs": [
    {
     "name": "stdout",
     "output_type": "stream",
     "text": [
      "Estimated id 9 True id 9\n"
     ]
    }
   ],
   "source": [
    "print(\"Estimated id %d True id %d\" % (estimated_agent.identity, A2.identity))"
   ]
  },
  {
   "cell_type": "markdown",
   "metadata": {},
   "source": [
    "### Adversarial training"
   ]
  },
  {
   "cell_type": "code",
   "execution_count": 20,
   "metadata": {},
   "outputs": [],
   "source": [
    "A1.do_train = True\n",
    "estimated_agent.do_train = False"
   ]
  },
  {
   "cell_type": "code",
   "execution_count": 21,
   "metadata": {},
   "outputs": [
    {
     "data": {
      "application/vnd.jupyter.widget-view+json": {
       "model_id": "7be77081a216462da56507c5cd69284a",
       "version_major": 2,
       "version_minor": 0
      },
      "text/plain": [
       "HBox(children=(FloatProgress(value=0.0, max=1000.0), HTML(value='')))"
      ]
     },
     "metadata": {},
     "output_type": "display_data"
    },
    {
     "name": "stdout",
     "output_type": "stream",
     "text": [
      "\n"
     ]
    }
   ],
   "source": [
    "U = Universe(environment=env, agents=[A1, estimated_agent], monitor=m_estimate)\n",
    "for _ in tqdm(range(1000)):\n",
    "    rew = U.episode()"
   ]
  },
  {
   "cell_type": "markdown",
   "metadata": {},
   "source": [
    "### Testing time! "
   ]
  },
  {
   "cell_type": "code",
   "execution_count": 22,
   "metadata": {},
   "outputs": [
    {
     "data": {
      "application/vnd.jupyter.widget-view+json": {
       "model_id": "129fa90625844c32a81f7481ee4a9a6d",
       "version_major": 2,
       "version_minor": 0
      },
      "text/plain": [
       "HBox(children=(FloatProgress(value=0.0, max=50.0), HTML(value='')))"
      ]
     },
     "metadata": {},
     "output_type": "display_data"
    },
    {
     "name": "stdout",
     "output_type": "stream",
     "text": [
      "\n"
     ]
    }
   ],
   "source": [
    "# to track the performance\n",
    "m_estimate = Monitor(agents=AGENTS)\n",
    "\n",
    "U = Universe(environment=env, agents=[A1, A2], monitor=m_estimate)\n",
    "for _ in tqdm(range(50)):\n",
    "    rew = U.episode()"
   ]
  },
  {
   "cell_type": "code",
   "execution_count": 23,
   "metadata": {},
   "outputs": [
    {
     "data": {
      "text/plain": [
       "<matplotlib.lines.Line2D at 0x7f6f34733410>"
      ]
     },
     "execution_count": 23,
     "metadata": {},
     "output_type": "execute_result"
    },
    {
     "data": {
      "image/png": "[encoded data removed]",
      "text/plain": [
       "<Figure size 432x288 with 1 Axes>"
      ]
     },
     "metadata": {
      "needs_background": "light"
     },
     "output_type": "display_data"
    }
   ],
   "source": [
    "plt.plot(pd.Series(A1.reward_by_opponent[A2]).rolling(50).mean())\n",
    "plt.axhline(0)"
   ]
  }
 ],
 "metadata": {
  "kernelspec": {
   "display_name": "Python 3",
   "language": "python",
   "name": "python3"
  },
  "language_info": {
   "codemirror_mode": {
    "name": "ipython",
    "version": 3
   },
   "file_extension": ".py",
   "mimetype": "text/x-python",
   "name": "python",
   "nbconvert_exporter": "python",
   "pygments_lexer": "ipython3",
   "version": "3.7.7"
  }
 },
 "nbformat": 4,
 "nbformat_minor": 4
}
