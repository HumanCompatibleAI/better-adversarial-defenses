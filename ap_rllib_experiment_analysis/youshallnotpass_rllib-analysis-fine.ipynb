{
 "cells": [
  {
   "cell_type": "code",
   "execution_count": 38,
   "metadata": {},
   "outputs": [],
   "source": [
    "from ray.tune.analysis import Analysis\n",
    "from matplotlib import pyplot as plt\n",
    "import plotly.express as px\n",
    "import numpy as np"
   ]
  },
  {
   "cell_type": "code",
   "execution_count": 39,
   "metadata": {},
   "outputs": [],
   "source": [
    "analysis = Analysis(\"/home/sergei/ray_results/adversarial_tune_fine\")"
   ]
  },
  {
   "cell_type": "code",
   "execution_count": 40,
   "metadata": {},
   "outputs": [],
   "source": [
    "target = 'policy_reward_mean/player_1'"
   ]
  },
  {
   "cell_type": "code",
   "execution_count": 42,
   "metadata": {},
   "outputs": [
    {
     "ename": "KeyError",
     "evalue": "'policy_reward_mean/player_1'",
     "output_type": "error",
     "traceback": [
      "\u001b[0;31m---------------------------------------------------------------------------\u001b[0m",
      "\u001b[0;31mKeyError\u001b[0m                                  Traceback (most recent call last)",
      "\u001b[0;32m/scratch/sergei/miniconda3/lib/python3.7/site-packages/pandas/core/indexes/base.py\u001b[0m in \u001b[0;36mget_loc\u001b[0;34m(self, key, method, tolerance)\u001b[0m\n\u001b[1;32m   2645\u001b[0m             \u001b[0;32mtry\u001b[0m\u001b[0;34m:\u001b[0m\u001b[0;34m\u001b[0m\u001b[0;34m\u001b[0m\u001b[0m\n\u001b[0;32m-> 2646\u001b[0;31m                 \u001b[0;32mreturn\u001b[0m \u001b[0mself\u001b[0m\u001b[0;34m.\u001b[0m\u001b[0m_engine\u001b[0m\u001b[0;34m.\u001b[0m\u001b[0mget_loc\u001b[0m\u001b[0;34m(\u001b[0m\u001b[0mkey\u001b[0m\u001b[0;34m)\u001b[0m\u001b[0;34m\u001b[0m\u001b[0;34m\u001b[0m\u001b[0m\n\u001b[0m\u001b[1;32m   2647\u001b[0m             \u001b[0;32mexcept\u001b[0m \u001b[0mKeyError\u001b[0m\u001b[0;34m:\u001b[0m\u001b[0;34m\u001b[0m\u001b[0;34m\u001b[0m\u001b[0m\n",
      "\u001b[0;32mpandas/_libs/index.pyx\u001b[0m in \u001b[0;36mpandas._libs.index.IndexEngine.get_loc\u001b[0;34m()\u001b[0m\n",
      "\u001b[0;32mpandas/_libs/index.pyx\u001b[0m in \u001b[0;36mpandas._libs.index.IndexEngine.get_loc\u001b[0;34m()\u001b[0m\n",
      "\u001b[0;32mpandas/_libs/hashtable_class_helper.pxi\u001b[0m in \u001b[0;36mpandas._libs.hashtable.PyObjectHashTable.get_item\u001b[0;34m()\u001b[0m\n",
      "\u001b[0;32mpandas/_libs/hashtable_class_helper.pxi\u001b[0m in \u001b[0;36mpandas._libs.hashtable.PyObjectHashTable.get_item\u001b[0;34m()\u001b[0m\n",
      "\u001b[0;31mKeyError\u001b[0m: 'policy_reward_mean/player_1'",
      "\nDuring handling of the above exception, another exception occurred:\n",
      "\u001b[0;31mKeyError\u001b[0m                                  Traceback (most recent call last)",
      "\u001b[0;32m<ipython-input-42-c7a66a1371d4>\u001b[0m in \u001b[0;36m<module>\u001b[0;34m\u001b[0m\n\u001b[0;32m----> 1\u001b[0;31m \u001b[0mdf\u001b[0m \u001b[0;34m=\u001b[0m \u001b[0manalysis\u001b[0m\u001b[0;34m.\u001b[0m\u001b[0mdataframe\u001b[0m\u001b[0;34m(\u001b[0m\u001b[0mmetric\u001b[0m\u001b[0;34m=\u001b[0m\u001b[0mtarget\u001b[0m\u001b[0;34m,\u001b[0m \u001b[0mmode\u001b[0m\u001b[0;34m=\u001b[0m\u001b[0;34m'max'\u001b[0m\u001b[0;34m)\u001b[0m\u001b[0;34m\u001b[0m\u001b[0;34m\u001b[0m\u001b[0m\n\u001b[0m",
      "\u001b[0;32m/scratch/sergei/miniconda3/lib/python3.7/site-packages/ray/tune/analysis/experiment_analysis.py\u001b[0m in \u001b[0;36mdataframe\u001b[0;34m(self, metric, mode)\u001b[0m\n\u001b[1;32m     50\u001b[0m             \u001b[0mpd\u001b[0m\u001b[0;34m.\u001b[0m\u001b[0mDataFrame\u001b[0m\u001b[0;34m:\u001b[0m \u001b[0mConstructed\u001b[0m \u001b[0;32mfrom\u001b[0m \u001b[0ma\u001b[0m \u001b[0mresult\u001b[0m \u001b[0mdict\u001b[0m \u001b[0mof\u001b[0m \u001b[0meach\u001b[0m \u001b[0mtrial\u001b[0m\u001b[0;34m.\u001b[0m\u001b[0;34m\u001b[0m\u001b[0;34m\u001b[0m\u001b[0m\n\u001b[1;32m     51\u001b[0m         \"\"\"\n\u001b[0;32m---> 52\u001b[0;31m         \u001b[0mrows\u001b[0m \u001b[0;34m=\u001b[0m \u001b[0mself\u001b[0m\u001b[0;34m.\u001b[0m\u001b[0m_retrieve_rows\u001b[0m\u001b[0;34m(\u001b[0m\u001b[0mmetric\u001b[0m\u001b[0;34m=\u001b[0m\u001b[0mmetric\u001b[0m\u001b[0;34m,\u001b[0m \u001b[0mmode\u001b[0m\u001b[0;34m=\u001b[0m\u001b[0mmode\u001b[0m\u001b[0;34m)\u001b[0m\u001b[0;34m\u001b[0m\u001b[0;34m\u001b[0m\u001b[0m\n\u001b[0m\u001b[1;32m     53\u001b[0m         \u001b[0mall_configs\u001b[0m \u001b[0;34m=\u001b[0m \u001b[0mself\u001b[0m\u001b[0;34m.\u001b[0m\u001b[0mget_all_configs\u001b[0m\u001b[0;34m(\u001b[0m\u001b[0mprefix\u001b[0m\u001b[0;34m=\u001b[0m\u001b[0;32mTrue\u001b[0m\u001b[0;34m)\u001b[0m\u001b[0;34m\u001b[0m\u001b[0;34m\u001b[0m\u001b[0m\n\u001b[1;32m     54\u001b[0m         \u001b[0;32mfor\u001b[0m \u001b[0mpath\u001b[0m\u001b[0;34m,\u001b[0m \u001b[0mconfig\u001b[0m \u001b[0;32min\u001b[0m \u001b[0mall_configs\u001b[0m\u001b[0;34m.\u001b[0m\u001b[0mitems\u001b[0m\u001b[0;34m(\u001b[0m\u001b[0;34m)\u001b[0m\u001b[0;34m:\u001b[0m\u001b[0;34m\u001b[0m\u001b[0;34m\u001b[0m\u001b[0m\n",
      "\u001b[0;32m/scratch/sergei/miniconda3/lib/python3.7/site-packages/ray/tune/analysis/experiment_analysis.py\u001b[0m in \u001b[0;36m_retrieve_rows\u001b[0;34m(self, metric, mode)\u001b[0m\n\u001b[1;32m    157\u001b[0m         \u001b[0;32mfor\u001b[0m \u001b[0mpath\u001b[0m\u001b[0;34m,\u001b[0m \u001b[0mdf\u001b[0m \u001b[0;32min\u001b[0m \u001b[0mself\u001b[0m\u001b[0;34m.\u001b[0m\u001b[0mtrial_dataframes\u001b[0m\u001b[0;34m.\u001b[0m\u001b[0mitems\u001b[0m\u001b[0;34m(\u001b[0m\u001b[0;34m)\u001b[0m\u001b[0;34m:\u001b[0m\u001b[0;34m\u001b[0m\u001b[0;34m\u001b[0m\u001b[0m\n\u001b[1;32m    158\u001b[0m             \u001b[0;32mif\u001b[0m \u001b[0mmode\u001b[0m \u001b[0;34m==\u001b[0m \u001b[0;34m\"max\"\u001b[0m\u001b[0;34m:\u001b[0m\u001b[0;34m\u001b[0m\u001b[0;34m\u001b[0m\u001b[0m\n\u001b[0;32m--> 159\u001b[0;31m                 \u001b[0midx\u001b[0m \u001b[0;34m=\u001b[0m \u001b[0mdf\u001b[0m\u001b[0;34m[\u001b[0m\u001b[0mmetric\u001b[0m\u001b[0;34m]\u001b[0m\u001b[0;34m.\u001b[0m\u001b[0midxmax\u001b[0m\u001b[0;34m(\u001b[0m\u001b[0;34m)\u001b[0m\u001b[0;34m\u001b[0m\u001b[0;34m\u001b[0m\u001b[0m\n\u001b[0m\u001b[1;32m    160\u001b[0m             \u001b[0;32melif\u001b[0m \u001b[0mmode\u001b[0m \u001b[0;34m==\u001b[0m \u001b[0;34m\"min\"\u001b[0m\u001b[0;34m:\u001b[0m\u001b[0;34m\u001b[0m\u001b[0;34m\u001b[0m\u001b[0m\n\u001b[1;32m    161\u001b[0m                 \u001b[0midx\u001b[0m \u001b[0;34m=\u001b[0m \u001b[0mdf\u001b[0m\u001b[0;34m[\u001b[0m\u001b[0mmetric\u001b[0m\u001b[0;34m]\u001b[0m\u001b[0;34m.\u001b[0m\u001b[0midxmin\u001b[0m\u001b[0;34m(\u001b[0m\u001b[0;34m)\u001b[0m\u001b[0;34m\u001b[0m\u001b[0;34m\u001b[0m\u001b[0m\n",
      "\u001b[0;32m/scratch/sergei/miniconda3/lib/python3.7/site-packages/pandas/core/frame.py\u001b[0m in \u001b[0;36m__getitem__\u001b[0;34m(self, key)\u001b[0m\n\u001b[1;32m   2798\u001b[0m             \u001b[0;32mif\u001b[0m \u001b[0mself\u001b[0m\u001b[0;34m.\u001b[0m\u001b[0mcolumns\u001b[0m\u001b[0;34m.\u001b[0m\u001b[0mnlevels\u001b[0m \u001b[0;34m>\u001b[0m \u001b[0;36m1\u001b[0m\u001b[0;34m:\u001b[0m\u001b[0;34m\u001b[0m\u001b[0;34m\u001b[0m\u001b[0m\n\u001b[1;32m   2799\u001b[0m                 \u001b[0;32mreturn\u001b[0m \u001b[0mself\u001b[0m\u001b[0;34m.\u001b[0m\u001b[0m_getitem_multilevel\u001b[0m\u001b[0;34m(\u001b[0m\u001b[0mkey\u001b[0m\u001b[0;34m)\u001b[0m\u001b[0;34m\u001b[0m\u001b[0;34m\u001b[0m\u001b[0m\n\u001b[0;32m-> 2800\u001b[0;31m             \u001b[0mindexer\u001b[0m \u001b[0;34m=\u001b[0m \u001b[0mself\u001b[0m\u001b[0;34m.\u001b[0m\u001b[0mcolumns\u001b[0m\u001b[0;34m.\u001b[0m\u001b[0mget_loc\u001b[0m\u001b[0;34m(\u001b[0m\u001b[0mkey\u001b[0m\u001b[0;34m)\u001b[0m\u001b[0;34m\u001b[0m\u001b[0;34m\u001b[0m\u001b[0m\n\u001b[0m\u001b[1;32m   2801\u001b[0m             \u001b[0;32mif\u001b[0m \u001b[0mis_integer\u001b[0m\u001b[0;34m(\u001b[0m\u001b[0mindexer\u001b[0m\u001b[0;34m)\u001b[0m\u001b[0;34m:\u001b[0m\u001b[0;34m\u001b[0m\u001b[0;34m\u001b[0m\u001b[0m\n\u001b[1;32m   2802\u001b[0m                 \u001b[0mindexer\u001b[0m \u001b[0;34m=\u001b[0m \u001b[0;34m[\u001b[0m\u001b[0mindexer\u001b[0m\u001b[0;34m]\u001b[0m\u001b[0;34m\u001b[0m\u001b[0;34m\u001b[0m\u001b[0m\n",
      "\u001b[0;32m/scratch/sergei/miniconda3/lib/python3.7/site-packages/pandas/core/indexes/base.py\u001b[0m in \u001b[0;36mget_loc\u001b[0;34m(self, key, method, tolerance)\u001b[0m\n\u001b[1;32m   2646\u001b[0m                 \u001b[0;32mreturn\u001b[0m \u001b[0mself\u001b[0m\u001b[0;34m.\u001b[0m\u001b[0m_engine\u001b[0m\u001b[0;34m.\u001b[0m\u001b[0mget_loc\u001b[0m\u001b[0;34m(\u001b[0m\u001b[0mkey\u001b[0m\u001b[0;34m)\u001b[0m\u001b[0;34m\u001b[0m\u001b[0;34m\u001b[0m\u001b[0m\n\u001b[1;32m   2647\u001b[0m             \u001b[0;32mexcept\u001b[0m \u001b[0mKeyError\u001b[0m\u001b[0;34m:\u001b[0m\u001b[0;34m\u001b[0m\u001b[0;34m\u001b[0m\u001b[0m\n\u001b[0;32m-> 2648\u001b[0;31m                 \u001b[0;32mreturn\u001b[0m \u001b[0mself\u001b[0m\u001b[0;34m.\u001b[0m\u001b[0m_engine\u001b[0m\u001b[0;34m.\u001b[0m\u001b[0mget_loc\u001b[0m\u001b[0;34m(\u001b[0m\u001b[0mself\u001b[0m\u001b[0;34m.\u001b[0m\u001b[0m_maybe_cast_indexer\u001b[0m\u001b[0;34m(\u001b[0m\u001b[0mkey\u001b[0m\u001b[0;34m)\u001b[0m\u001b[0;34m)\u001b[0m\u001b[0;34m\u001b[0m\u001b[0;34m\u001b[0m\u001b[0m\n\u001b[0m\u001b[1;32m   2649\u001b[0m         \u001b[0mindexer\u001b[0m \u001b[0;34m=\u001b[0m \u001b[0mself\u001b[0m\u001b[0;34m.\u001b[0m\u001b[0mget_indexer\u001b[0m\u001b[0;34m(\u001b[0m\u001b[0;34m[\u001b[0m\u001b[0mkey\u001b[0m\u001b[0;34m]\u001b[0m\u001b[0;34m,\u001b[0m \u001b[0mmethod\u001b[0m\u001b[0;34m=\u001b[0m\u001b[0mmethod\u001b[0m\u001b[0;34m,\u001b[0m \u001b[0mtolerance\u001b[0m\u001b[0;34m=\u001b[0m\u001b[0mtolerance\u001b[0m\u001b[0;34m)\u001b[0m\u001b[0;34m\u001b[0m\u001b[0;34m\u001b[0m\u001b[0m\n\u001b[1;32m   2650\u001b[0m         \u001b[0;32mif\u001b[0m \u001b[0mindexer\u001b[0m\u001b[0;34m.\u001b[0m\u001b[0mndim\u001b[0m \u001b[0;34m>\u001b[0m \u001b[0;36m1\u001b[0m \u001b[0;32mor\u001b[0m \u001b[0mindexer\u001b[0m\u001b[0;34m.\u001b[0m\u001b[0msize\u001b[0m \u001b[0;34m>\u001b[0m \u001b[0;36m1\u001b[0m\u001b[0;34m:\u001b[0m\u001b[0;34m\u001b[0m\u001b[0;34m\u001b[0m\u001b[0m\n",
      "\u001b[0;32mpandas/_libs/index.pyx\u001b[0m in \u001b[0;36mpandas._libs.index.IndexEngine.get_loc\u001b[0;34m()\u001b[0m\n",
      "\u001b[0;32mpandas/_libs/index.pyx\u001b[0m in \u001b[0;36mpandas._libs.index.IndexEngine.get_loc\u001b[0;34m()\u001b[0m\n",
      "\u001b[0;32mpandas/_libs/hashtable_class_helper.pxi\u001b[0m in \u001b[0;36mpandas._libs.hashtable.PyObjectHashTable.get_item\u001b[0;34m()\u001b[0m\n",
      "\u001b[0;32mpandas/_libs/hashtable_class_helper.pxi\u001b[0m in \u001b[0;36mpandas._libs.hashtable.PyObjectHashTable.get_item\u001b[0;34m()\u001b[0m\n",
      "\u001b[0;31mKeyError\u001b[0m: 'policy_reward_mean/player_1'"
     ]
    }
   ],
   "source": [
    "df = analysis.dataframe(metric=target, mode='max')"
   ]
  },
  {
   "cell_type": "code",
   "execution_count": 43,
   "metadata": {},
   "outputs": [
    {
     "data": {
      "text/plain": [
       "checkpoint_rllib                  /home/sergei/ray_results/PPO_YouShallNotPassHu...\n",
       "policy_reward_mean/player_1                                                 6.71429\n",
       "config/lr                                                               0.000455996\n",
       "config/main_filename              /scratch/sergei/better-adversarial-defenses/yo...\n",
       "config/num_sgd_iter                                                         6.68122\n",
       "config/redis_address                                             128.32.175.10:6379\n",
       "config/rollout_fragment_length                                              4350.34\n",
       "config/sgd_minibatch_size                                                   8041.54\n",
       "config/train_batch_size                                                     8046.43\n",
       "config/train_policies                                                    [player_1]\n",
       "config/train_steps                                                         99999999\n",
       "logdir                            /home/sergei/ray_results/adversarial_tune_fine...\n",
       "Name: 21, dtype: object"
      ]
     },
     "execution_count": 43,
     "metadata": {},
     "output_type": "execute_result"
    }
   ],
   "source": [
    "df.iloc[0]"
   ]
  },
  {
   "cell_type": "code",
   "execution_count": 44,
   "metadata": {},
   "outputs": [
    {
     "data": {
      "text/plain": [
       "Index(['checkpoint_rllib', 'policy_reward_mean/player_1', 'config/lr',\n",
       "       'config/main_filename', 'config/num_sgd_iter', 'config/redis_address',\n",
       "       'config/rollout_fragment_length', 'config/sgd_minibatch_size',\n",
       "       'config/train_batch_size', 'config/train_policies',\n",
       "       'config/train_steps', 'logdir'],\n",
       "      dtype='object')"
      ]
     },
     "execution_count": 44,
     "metadata": {},
     "output_type": "execute_result"
    }
   ],
   "source": [
    "df.columns"
   ]
  },
  {
   "cell_type": "code",
   "execution_count": 45,
   "metadata": {},
   "outputs": [],
   "source": [
    "for k in df.columns:\n",
    "#     if k.startswith('episode'):\n",
    "#         del df[k]\n",
    "    if not (k.startswith('config') or k == target or k == 'checkpoint_rllib' or k == 'logdir'):\n",
    "        del df[k]"
   ]
  },
  {
   "cell_type": "code",
   "execution_count": 46,
   "metadata": {},
   "outputs": [],
   "source": [
    "df = df.sort_values(target, ascending=False)"
   ]
  },
  {
   "cell_type": "code",
   "execution_count": 47,
   "metadata": {},
   "outputs": [
    {
     "data": {
      "text/plain": [
       "(array([11.,  1.,  2.,  3.,  3.,  2.,  2.,  2.,  1.,  3.]),\n",
       " array([-8.7965616 , -7.24547687, -5.69439214, -4.14330741, -2.59222268,\n",
       "        -1.04113795,  0.50994679,  2.06103152,  3.61211625,  5.16320098,\n",
       "         6.71428571]),\n",
       " <a list of 10 Patch objects>)"
      ]
     },
     "execution_count": 47,
     "metadata": {},
     "output_type": "execute_result"
    },
    {
     "data": {
      "image/png": "[encoded data removed]",
      "text/plain": [
       "<Figure size 432x288 with 1 Axes>"
      ]
     },
     "metadata": {
      "needs_background": "light"
     },
     "output_type": "display_data"
    }
   ],
   "source": [
    "plt.hist(df[target])"
   ]
  },
  {
   "cell_type": "code",
   "execution_count": 48,
   "metadata": {},
   "outputs": [
    {
     "data": {
      "application/vnd.plotly.v1+json": {
       "config": {
        "plotlyServerURL": "https://plot.ly"
       },
       "data": [
        {
         "dimensions": [
          {
           "constraintrange": [
            1.8859058427573503,
            8.407564808795215
           ],
           "label": "policy_reward_mean/player_1",
           "values": [
            6.7142857142857135,
            5.849056603773584,
            5.4362416107382545,
            4.326923076923077,
            3.57429718875502,
            2.8,
            0.5920344456404736,
            0.5405405405405406,
            0.09966777408637874,
            -0.9743589743589745,
            -1.5217391304347827,
            -1.9912472647702408,
            -2.568306010928962,
            -2.7419354838709675,
            -3.0218978102189777,
            -3.6585365853658534,
            -4.251497005988024,
            -4.383561643835616,
            -7.142857142857142,
            -7.445783132530121,
            -7.463768115942028,
            -7.625418060200668,
            -7.712177121771218,
            -7.758241758241758,
            -7.847222222222222,
            -7.866666666666666,
            -8.114285714285714,
            -8.594594594594595,
            -8.717139852786541,
            -8.796561604584527
           ]
          },
          {
           "label": "config/lr",
           "values": [
            -3.341038846113129,
            -3.12179219670853,
            -4.969422052716611,
            -4.564412576507193,
            -4.4779700517163,
            -3.3181829288390112,
            -4.045006597082378,
            -3.4864894722618973,
            -4.403779566338192,
            -4.768831434034115,
            -4.422201857104376,
            -4.033403646804462,
            -3.001636946595978,
            -3.9229857998457107,
            -3.6340608278692015,
            -3.0550241053489824,
            -4.251245129378131,
            -3.70448954578762,
            -4.891644720032773,
            -3.039751424626367,
            -3.218183670035261,
            -4.026725007544446,
            -4.221157834221449,
            -4.504869810775188,
            -3.9854962524367945,
            -3.9346710801347373,
            -4.763776320802155,
            -4.927456138719934,
            -3.222959436179986,
            -4.7900876094243054
           ]
          },
          {
           "label": "config/num_sgd_iter",
           "values": [
            6.681215969712518,
            5.562134175488152,
            28.9278269984854,
            19.67079855305187,
            25.089852012579943,
            7.3064731540384225,
            20.631147407185477,
            11.19311011699457,
            9.947342075734,
            29.887756159922564,
            17.673449193742186,
            16.929950620829484,
            18.064561028968978,
            26.298220677069487,
            15.223364979457825,
            23.502247330243875,
            27.209945469677706,
            20.40448914535385,
            3.207514349212112,
            23.447524360989462,
            5.806304627638404,
            15.541174188835818,
            20.484884464590372,
            4.626502964854243,
            9.38214474561006,
            16.127734881914257,
            24.23936068397944,
            16.503420225062087,
            10.961211153441027,
            7.684587829871616
           ]
          },
          {
           "label": "config/rollout_fragment_length",
           "values": [
            4350.336181824299,
            2865.445788885802,
            2410.8911697510803,
            3446.377219296463,
            2038.9066351314991,
            4352.367238340121,
            2574.840923141664,
            2628.1594509017623,
            2198.059992050646,
            2434.8253891186555,
            3486.3980089989172,
            3495.0926554216453,
            2392.7847128674453,
            4946.096490704295,
            3346.2622987311706,
            4824.5533044046415,
            4045.560526350784,
            2838.8320275264846,
            2124.3587559534058,
            2119.449922265826,
            2254.5967786346955,
            4101.213627887387,
            2741.9161431834054,
            4713.3648599065045,
            2977.986897170947,
            2372.727258778645,
            4850.998876577795,
            3615.048336128738,
            2494.9773340747915,
            4616.791233419562
           ]
          },
          {
           "label": "config/sgd_minibatch_size",
           "values": [
            8041.544872826245,
            22627.467405434614,
            1158.1669468093428,
            1980.0573368688777,
            11850.547105752376,
            5480.487111917385,
            22335.162076326436,
            5275.039511892986,
            9531.80768231362,
            3052.8037359520304,
            1018.2301312122856,
            6173.5607050112085,
            11326.163422507007,
            1707.8378885531706,
            41833.11519983646,
            2772.100257104637,
            3188.9537844455576,
            2261.537952231056,
            2882.644253149341,
            9614.573727321735,
            17434.230496674394,
            7902.097862691505,
            9395.390103979911,
            1175.582183740998,
            30261.156623435945,
            3686.3645478762433,
            15323.525387396036,
            16708.70881303253,
            41148.17520506312,
            44188.16432726878
           ]
          },
          {
           "label": "config/train_batch_size",
           "values": [
            8046.4330995012815,
            42879.762832241555,
            17172.81136775083,
            21693.268099217184,
            32255.177035068973,
            6411.628326034326,
            128388.83213187892,
            5815.748477964629,
            45689.26230339747,
            20559.00593768459,
            3610.9989502872254,
            70224.55822995765,
            21798.30084475684,
            3900.2293886391662,
            96501.62322193274,
            15242.288563676768,
            72327.2391326456,
            41543.515226129835,
            6826.199419210199,
            64706.61692411251,
            46584.75355271709,
            94278.68565236594,
            88460.34763902613,
            58611.52722420992,
            96185.98203939426,
            128151.9447507246,
            46438.26299379822,
            26557.67435838783,
            145110.93971890584,
            52128.001708565556
           ]
          },
          {
           "label": "config/train_steps",
           "values": [
            99999999,
            99999999,
            99999999,
            99999999,
            99999999,
            99999999,
            99999999,
            99999999,
            99999999,
            99999999,
            99999999,
            99999999,
            99999999,
            99999999,
            99999999,
            99999999,
            99999999,
            99999999,
            99999999,
            99999999,
            99999999,
            99999999,
            99999999,
            99999999,
            99999999,
            99999999,
            99999999,
            99999999,
            99999999,
            99999999
           ]
          }
         ],
         "domain": {
          "x": [
           0,
           1
          ],
          "y": [
           0,
           1
          ]
         },
         "line": {
          "color": [
           6.7142857142857135,
           5.849056603773584,
           5.4362416107382545,
           4.326923076923077,
           3.57429718875502,
           2.8,
           0.5920344456404736,
           0.5405405405405406,
           0.09966777408637874,
           -0.9743589743589745,
           -1.5217391304347827,
           -1.9912472647702408,
           -2.568306010928962,
           -2.7419354838709675,
           -3.0218978102189777,
           -3.6585365853658534,
           -4.251497005988024,
           -4.383561643835616,
           -7.142857142857142,
           -7.445783132530121,
           -7.463768115942028,
           -7.625418060200668,
           -7.712177121771218,
           -7.758241758241758,
           -7.847222222222222,
           -7.866666666666666,
           -8.114285714285714,
           -8.594594594594595,
           -8.717139852786541,
           -8.796561604584527
          ],
          "coloraxis": "coloraxis"
         },
         "name": "",
         "type": "parcoords"
        }
       ],
       "layout": {
        "autosize": true,
        "coloraxis": {
         "cmax": 6,
         "cmid": 2,
         "cmin": -10,
         "colorbar": {
          "title": {
           "text": "policy_reward_mean/player_1"
          }
         },
         "colorscale": [
          [
           0,
           "rgb(0, 147, 146)"
          ],
          [
           0.16666666666666666,
           "rgb(114, 170, 161)"
          ],
          [
           0.3333333333333333,
           "rgb(177, 199, 179)"
          ],
          [
           0.5,
           "rgb(241, 234, 200)"
          ],
          [
           0.6666666666666666,
           "rgb(229, 185, 173)"
          ],
          [
           0.8333333333333334,
           "rgb(217, 137, 148)"
          ],
          [
           1,
           "rgb(208, 88, 126)"
          ]
         ]
        },
        "legend": {
         "tracegroupgap": 0
        },
        "margin": {
         "t": 60
        },
        "template": {
         "data": {
          "bar": [
           {
            "error_x": {
             "color": "#2a3f5f"
            },
            "error_y": {
             "color": "#2a3f5f"
            },
            "marker": {
             "line": {
              "color": "#E5ECF6",
              "width": 0.5
             }
            },
            "type": "bar"
           }
          ],
          "barpolar": [
           {
            "marker": {
             "line": {
              "color": "#E5ECF6",
              "width": 0.5
             }
            },
            "type": "barpolar"
           }
          ],
          "carpet": [
           {
            "aaxis": {
             "endlinecolor": "#2a3f5f",
             "gridcolor": "white",
             "linecolor": "white",
             "minorgridcolor": "white",
             "startlinecolor": "#2a3f5f"
            },
            "baxis": {
             "endlinecolor": "#2a3f5f",
             "gridcolor": "white",
             "linecolor": "white",
             "minorgridcolor": "white",
             "startlinecolor": "#2a3f5f"
            },
            "type": "carpet"
           }
          ],
          "choropleth": [
           {
            "colorbar": {
             "outlinewidth": 0,
             "ticks": ""
            },
            "type": "choropleth"
           }
          ],
          "contour": [
           {
            "colorbar": {
             "outlinewidth": 0,
             "ticks": ""
            },
            "colorscale": [
             [
              0,
              "#0d0887"
             ],
             [
              0.1111111111111111,
              "#46039f"
             ],
             [
              0.2222222222222222,
              "#7201a8"
             ],
             [
              0.3333333333333333,
              "#9c179e"
             ],
             [
              0.4444444444444444,
              "#bd3786"
             ],
             [
              0.5555555555555556,
              "#d8576b"
             ],
             [
              0.6666666666666666,
              "#ed7953"
             ],
             [
              0.7777777777777778,
              "#fb9f3a"
             ],
             [
              0.8888888888888888,
              "#fdca26"
             ],
             [
              1,
              "#f0f921"
             ]
            ],
            "type": "contour"
           }
          ],
          "contourcarpet": [
           {
            "colorbar": {
             "outlinewidth": 0,
             "ticks": ""
            },
            "type": "contourcarpet"
           }
          ],
          "heatmap": [
           {
            "colorbar": {
             "outlinewidth": 0,
             "ticks": ""
            },
            "colorscale": [
             [
              0,
              "#0d0887"
             ],
             [
              0.1111111111111111,
              "#46039f"
             ],
             [
              0.2222222222222222,
              "#7201a8"
             ],
             [
              0.3333333333333333,
              "#9c179e"
             ],
             [
              0.4444444444444444,
              "#bd3786"
             ],
             [
              0.5555555555555556,
              "#d8576b"
             ],
             [
              0.6666666666666666,
              "#ed7953"
             ],
             [
              0.7777777777777778,
              "#fb9f3a"
             ],
             [
              0.8888888888888888,
              "#fdca26"
             ],
             [
              1,
              "#f0f921"
             ]
            ],
            "type": "heatmap"
           }
          ],
          "heatmapgl": [
           {
            "colorbar": {
             "outlinewidth": 0,
             "ticks": ""
            },
            "colorscale": [
             [
              0,
              "#0d0887"
             ],
             [
              0.1111111111111111,
              "#46039f"
             ],
             [
              0.2222222222222222,
              "#7201a8"
             ],
             [
              0.3333333333333333,
              "#9c179e"
             ],
             [
              0.4444444444444444,
              "#bd3786"
             ],
             [
              0.5555555555555556,
              "#d8576b"
             ],
             [
              0.6666666666666666,
              "#ed7953"
             ],
             [
              0.7777777777777778,
              "#fb9f3a"
             ],
             [
              0.8888888888888888,
              "#fdca26"
             ],
             [
              1,
              "#f0f921"
             ]
            ],
            "type": "heatmapgl"
           }
          ],
          "histogram": [
           {
            "marker": {
             "colorbar": {
              "outlinewidth": 0,
              "ticks": ""
             }
            },
            "type": "histogram"
           }
          ],
          "histogram2d": [
           {
            "colorbar": {
             "outlinewidth": 0,
             "ticks": ""
            },
            "colorscale": [
             [
              0,
              "#0d0887"
             ],
             [
              0.1111111111111111,
              "#46039f"
             ],
             [
              0.2222222222222222,
              "#7201a8"
             ],
             [
              0.3333333333333333,
              "#9c179e"
             ],
             [
              0.4444444444444444,
              "#bd3786"
             ],
             [
              0.5555555555555556,
              "#d8576b"
             ],
             [
              0.6666666666666666,
              "#ed7953"
             ],
             [
              0.7777777777777778,
              "#fb9f3a"
             ],
             [
              0.8888888888888888,
              "#fdca26"
             ],
             [
              1,
              "#f0f921"
             ]
            ],
            "type": "histogram2d"
           }
          ],
          "histogram2dcontour": [
           {
            "colorbar": {
             "outlinewidth": 0,
             "ticks": ""
            },
            "colorscale": [
             [
              0,
              "#0d0887"
             ],
             [
              0.1111111111111111,
              "#46039f"
             ],
             [
              0.2222222222222222,
              "#7201a8"
             ],
             [
              0.3333333333333333,
              "#9c179e"
             ],
             [
              0.4444444444444444,
              "#bd3786"
             ],
             [
              0.5555555555555556,
              "#d8576b"
             ],
             [
              0.6666666666666666,
              "#ed7953"
             ],
             [
              0.7777777777777778,
              "#fb9f3a"
             ],
             [
              0.8888888888888888,
              "#fdca26"
             ],
             [
              1,
              "#f0f921"
             ]
            ],
            "type": "histogram2dcontour"
           }
          ],
          "mesh3d": [
           {
            "colorbar": {
             "outlinewidth": 0,
             "ticks": ""
            },
            "type": "mesh3d"
           }
          ],
          "parcoords": [
           {
            "line": {
             "colorbar": {
              "outlinewidth": 0,
              "ticks": ""
             }
            },
            "type": "parcoords"
           }
          ],
          "pie": [
           {
            "automargin": true,
            "type": "pie"
           }
          ],
          "scatter": [
           {
            "marker": {
             "colorbar": {
              "outlinewidth": 0,
              "ticks": ""
             }
            },
            "type": "scatter"
           }
          ],
          "scatter3d": [
           {
            "line": {
             "colorbar": {
              "outlinewidth": 0,
              "ticks": ""
             }
            },
            "marker": {
             "colorbar": {
              "outlinewidth": 0,
              "ticks": ""
             }
            },
            "type": "scatter3d"
           }
          ],
          "scattercarpet": [
           {
            "marker": {
             "colorbar": {
              "outlinewidth": 0,
              "ticks": ""
             }
            },
            "type": "scattercarpet"
           }
          ],
          "scattergeo": [
           {
            "marker": {
             "colorbar": {
              "outlinewidth": 0,
              "ticks": ""
             }
            },
            "type": "scattergeo"
           }
          ],
          "scattergl": [
           {
            "marker": {
             "colorbar": {
              "outlinewidth": 0,
              "ticks": ""
             }
            },
            "type": "scattergl"
           }
          ],
          "scattermapbox": [
           {
            "marker": {
             "colorbar": {
              "outlinewidth": 0,
              "ticks": ""
             }
            },
            "type": "scattermapbox"
           }
          ],
          "scatterpolar": [
           {
            "marker": {
             "colorbar": {
              "outlinewidth": 0,
              "ticks": ""
             }
            },
            "type": "scatterpolar"
           }
          ],
          "scatterpolargl": [
           {
            "marker": {
             "colorbar": {
              "outlinewidth": 0,
              "ticks": ""
             }
            },
            "type": "scatterpolargl"
           }
          ],
          "scatterternary": [
           {
            "marker": {
             "colorbar": {
              "outlinewidth": 0,
              "ticks": ""
             }
            },
            "type": "scatterternary"
           }
          ],
          "surface": [
           {
            "colorbar": {
             "outlinewidth": 0,
             "ticks": ""
            },
            "colorscale": [
             [
              0,
              "#0d0887"
             ],
             [
              0.1111111111111111,
              "#46039f"
             ],
             [
              0.2222222222222222,
              "#7201a8"
             ],
             [
              0.3333333333333333,
              "#9c179e"
             ],
             [
              0.4444444444444444,
              "#bd3786"
             ],
             [
              0.5555555555555556,
              "#d8576b"
             ],
             [
              0.6666666666666666,
              "#ed7953"
             ],
             [
              0.7777777777777778,
              "#fb9f3a"
             ],
             [
              0.8888888888888888,
              "#fdca26"
             ],
             [
              1,
              "#f0f921"
             ]
            ],
            "type": "surface"
           }
          ],
          "table": [
           {
            "cells": {
             "fill": {
              "color": "#EBF0F8"
             },
             "line": {
              "color": "white"
             }
            },
            "header": {
             "fill": {
              "color": "#C8D4E3"
             },
             "line": {
              "color": "white"
             }
            },
            "type": "table"
           }
          ]
         },
         "layout": {
          "annotationdefaults": {
           "arrowcolor": "#2a3f5f",
           "arrowhead": 0,
           "arrowwidth": 1
          },
          "coloraxis": {
           "colorbar": {
            "outlinewidth": 0,
            "ticks": ""
           }
          },
          "colorscale": {
           "diverging": [
            [
             0,
             "#8e0152"
            ],
            [
             0.1,
             "#c51b7d"
            ],
            [
             0.2,
             "#de77ae"
            ],
            [
             0.3,
             "#f1b6da"
            ],
            [
             0.4,
             "#fde0ef"
            ],
            [
             0.5,
             "#f7f7f7"
            ],
            [
             0.6,
             "#e6f5d0"
            ],
            [
             0.7,
             "#b8e186"
            ],
            [
             0.8,
             "#7fbc41"
            ],
            [
             0.9,
             "#4d9221"
            ],
            [
             1,
             "#276419"
            ]
           ],
           "sequential": [
            [
             0,
             "#0d0887"
            ],
            [
             0.1111111111111111,
             "#46039f"
            ],
            [
             0.2222222222222222,
             "#7201a8"
            ],
            [
             0.3333333333333333,
             "#9c179e"
            ],
            [
             0.4444444444444444,
             "#bd3786"
            ],
            [
             0.5555555555555556,
             "#d8576b"
            ],
            [
             0.6666666666666666,
             "#ed7953"
            ],
            [
             0.7777777777777778,
             "#fb9f3a"
            ],
            [
             0.8888888888888888,
             "#fdca26"
            ],
            [
             1,
             "#f0f921"
            ]
           ],
           "sequentialminus": [
            [
             0,
             "#0d0887"
            ],
            [
             0.1111111111111111,
             "#46039f"
            ],
            [
             0.2222222222222222,
             "#7201a8"
            ],
            [
             0.3333333333333333,
             "#9c179e"
            ],
            [
             0.4444444444444444,
             "#bd3786"
            ],
            [
             0.5555555555555556,
             "#d8576b"
            ],
            [
             0.6666666666666666,
             "#ed7953"
            ],
            [
             0.7777777777777778,
             "#fb9f3a"
            ],
            [
             0.8888888888888888,
             "#fdca26"
            ],
            [
             1,
             "#f0f921"
            ]
           ]
          },
          "colorway": [
           "#636efa",
           "#EF553B",
           "#00cc96",
           "#ab63fa",
           "#FFA15A",
           "#19d3f3",
           "#FF6692",
           "#B6E880",
           "#FF97FF",
           "#FECB52"
          ],
          "font": {
           "color": "#2a3f5f"
          },
          "geo": {
           "bgcolor": "white",
           "lakecolor": "white",
           "landcolor": "#E5ECF6",
           "showlakes": true,
           "showland": true,
           "subunitcolor": "white"
          },
          "hoverlabel": {
           "align": "left"
          },
          "hovermode": "closest",
          "mapbox": {
           "style": "light"
          },
          "paper_bgcolor": "white",
          "plot_bgcolor": "#E5ECF6",
          "polar": {
           "angularaxis": {
            "gridcolor": "white",
            "linecolor": "white",
            "ticks": ""
           },
           "bgcolor": "#E5ECF6",
           "radialaxis": {
            "gridcolor": "white",
            "linecolor": "white",
            "ticks": ""
           }
          },
          "scene": {
           "xaxis": {
            "backgroundcolor": "#E5ECF6",
            "gridcolor": "white",
            "gridwidth": 2,
            "linecolor": "white",
            "showbackground": true,
            "ticks": "",
            "zerolinecolor": "white"
           },
           "yaxis": {
            "backgroundcolor": "#E5ECF6",
            "gridcolor": "white",
            "gridwidth": 2,
            "linecolor": "white",
            "showbackground": true,
            "ticks": "",
            "zerolinecolor": "white"
           },
           "zaxis": {
            "backgroundcolor": "#E5ECF6",
            "gridcolor": "white",
            "gridwidth": 2,
            "linecolor": "white",
            "showbackground": true,
            "ticks": "",
            "zerolinecolor": "white"
           }
          },
          "shapedefaults": {
           "line": {
            "color": "#2a3f5f"
           }
          },
          "ternary": {
           "aaxis": {
            "gridcolor": "white",
            "linecolor": "white",
            "ticks": ""
           },
           "baxis": {
            "gridcolor": "white",
            "linecolor": "white",
            "ticks": ""
           },
           "bgcolor": "#E5ECF6",
           "caxis": {
            "gridcolor": "white",
            "linecolor": "white",
            "ticks": ""
           }
          },
          "title": {
           "x": 0.05
          },
          "xaxis": {
           "automargin": true,
           "gridcolor": "white",
           "linecolor": "white",
           "ticks": "",
           "title": {
            "standoff": 15
           },
           "zerolinecolor": "white",
           "zerolinewidth": 2
          },
          "yaxis": {
           "automargin": true,
           "gridcolor": "white",
           "linecolor": "white",
           "ticks": "",
           "title": {
            "standoff": 15
           },
           "zerolinecolor": "white",
           "zerolinewidth": 2
          }
         }
        }
       }
      },
      "image/png": "[encoded data removed]",
      "text/html": [
       "<div>\n",
       "        \n",
       "        \n",
       "            <div id=\"0b1d6b99-9e37-473c-94e7-11985c3de7e4\" class=\"plotly-graph-div\" style=\"height:525px; width:100%;\"></div>\n",
       "            <script type=\"text/javascript\">\n",
       "                require([\"plotly\"], function(Plotly) {\n",
       "                    window.PLOTLYENV=window.PLOTLYENV || {};\n",
       "                    \n",
       "                if (document.getElementById(\"0b1d6b99-9e37-473c-94e7-11985c3de7e4\")) {\n",
       "                    Plotly.newPlot(\n",
       "                        '0b1d6b99-9e37-473c-94e7-11985c3de7e4',\n",
       "                        [{\"dimensions\": [{\"label\": \"policy_reward_mean/player_1\", \"values\": [6.7142857142857135, 5.849056603773584, 5.4362416107382545, 4.326923076923077, 3.57429718875502, 2.8, 0.5920344456404736, 0.5405405405405406, 0.09966777408637874, -0.9743589743589745, -1.5217391304347827, -1.9912472647702408, -2.568306010928962, -2.7419354838709675, -3.0218978102189777, -3.6585365853658534, -4.251497005988024, -4.383561643835616, -7.142857142857142, -7.445783132530121, -7.463768115942028, -7.625418060200668, -7.712177121771218, -7.758241758241758, -7.847222222222222, -7.866666666666666, -8.114285714285714, -8.594594594594595, -8.717139852786541, -8.796561604584527]}, {\"label\": \"config/lr\", \"values\": [-3.341038846113129, -3.12179219670853, -4.969422052716611, -4.564412576507193, -4.4779700517163, -3.3181829288390112, -4.045006597082378, -3.4864894722618973, -4.403779566338192, -4.768831434034115, -4.422201857104376, -4.033403646804462, -3.001636946595978, -3.9229857998457107, -3.6340608278692015, -3.0550241053489824, -4.251245129378131, -3.70448954578762, -4.891644720032773, -3.039751424626367, -3.218183670035261, -4.026725007544446, -4.221157834221449, -4.504869810775188, -3.9854962524367945, -3.9346710801347373, -4.763776320802155, -4.927456138719934, -3.222959436179986, -4.7900876094243054]}, {\"label\": \"config/num_sgd_iter\", \"values\": [6.681215969712518, 5.562134175488152, 28.9278269984854, 19.67079855305187, 25.089852012579943, 7.3064731540384225, 20.631147407185477, 11.19311011699457, 9.947342075734, 29.887756159922564, 17.673449193742186, 16.929950620829484, 18.064561028968978, 26.298220677069487, 15.223364979457825, 23.502247330243875, 27.209945469677706, 20.40448914535385, 3.207514349212112, 23.447524360989462, 5.806304627638404, 15.541174188835818, 20.484884464590372, 4.626502964854243, 9.38214474561006, 16.127734881914257, 24.23936068397944, 16.503420225062087, 10.961211153441027, 7.684587829871616]}, {\"label\": \"config/rollout_fragment_length\", \"values\": [4350.336181824299, 2865.445788885802, 2410.8911697510803, 3446.377219296463, 2038.9066351314991, 4352.367238340121, 2574.840923141664, 2628.1594509017623, 2198.059992050646, 2434.8253891186555, 3486.3980089989172, 3495.0926554216453, 2392.7847128674453, 4946.096490704295, 3346.2622987311706, 4824.5533044046415, 4045.560526350784, 2838.8320275264846, 2124.3587559534058, 2119.449922265826, 2254.5967786346955, 4101.213627887387, 2741.9161431834054, 4713.3648599065045, 2977.986897170947, 2372.727258778645, 4850.998876577795, 3615.048336128738, 2494.9773340747915, 4616.791233419562]}, {\"label\": \"config/sgd_minibatch_size\", \"values\": [8041.544872826245, 22627.467405434614, 1158.1669468093428, 1980.0573368688777, 11850.547105752376, 5480.487111917385, 22335.162076326436, 5275.039511892986, 9531.80768231362, 3052.8037359520304, 1018.2301312122856, 6173.5607050112085, 11326.163422507007, 1707.8378885531706, 41833.11519983646, 2772.100257104637, 3188.9537844455576, 2261.537952231056, 2882.644253149341, 9614.573727321735, 17434.230496674394, 7902.097862691505, 9395.390103979911, 1175.582183740998, 30261.156623435945, 3686.3645478762433, 15323.525387396036, 16708.70881303253, 41148.17520506312, 44188.16432726878]}, {\"label\": \"config/train_batch_size\", \"values\": [8046.4330995012815, 42879.762832241555, 17172.81136775083, 21693.268099217184, 32255.177035068973, 6411.628326034326, 128388.83213187892, 5815.748477964629, 45689.26230339747, 20559.00593768459, 3610.9989502872254, 70224.55822995765, 21798.30084475684, 3900.2293886391662, 96501.62322193274, 15242.288563676768, 72327.2391326456, 41543.515226129835, 6826.199419210199, 64706.61692411251, 46584.75355271709, 94278.68565236594, 88460.34763902613, 58611.52722420992, 96185.98203939426, 128151.9447507246, 46438.26299379822, 26557.67435838783, 145110.93971890584, 52128.001708565556]}, {\"label\": \"config/train_steps\", \"values\": [99999999, 99999999, 99999999, 99999999, 99999999, 99999999, 99999999, 99999999, 99999999, 99999999, 99999999, 99999999, 99999999, 99999999, 99999999, 99999999, 99999999, 99999999, 99999999, 99999999, 99999999, 99999999, 99999999, 99999999, 99999999, 99999999, 99999999, 99999999, 99999999, 99999999]}], \"domain\": {\"x\": [0.0, 1.0], \"y\": [0.0, 1.0]}, \"line\": {\"color\": [6.7142857142857135, 5.849056603773584, 5.4362416107382545, 4.326923076923077, 3.57429718875502, 2.8, 0.5920344456404736, 0.5405405405405406, 0.09966777408637874, -0.9743589743589745, -1.5217391304347827, -1.9912472647702408, -2.568306010928962, -2.7419354838709675, -3.0218978102189777, -3.6585365853658534, -4.251497005988024, -4.383561643835616, -7.142857142857142, -7.445783132530121, -7.463768115942028, -7.625418060200668, -7.712177121771218, -7.758241758241758, -7.847222222222222, -7.866666666666666, -8.114285714285714, -8.594594594594595, -8.717139852786541, -8.796561604584527], \"coloraxis\": \"coloraxis\"}, \"name\": \"\", \"type\": \"parcoords\"}],\n",
       "                        {\"coloraxis\": {\"cmax\": 6, \"cmid\": 2, \"cmin\": -10, \"colorbar\": {\"title\": {\"text\": \"policy_reward_mean/player_1\"}}, \"colorscale\": [[0.0, \"rgb(0, 147, 146)\"], [0.16666666666666666, \"rgb(114, 170, 161)\"], [0.3333333333333333, \"rgb(177, 199, 179)\"], [0.5, \"rgb(241, 234, 200)\"], [0.6666666666666666, \"rgb(229, 185, 173)\"], [0.8333333333333334, \"rgb(217, 137, 148)\"], [1.0, \"rgb(208, 88, 126)\"]]}, \"legend\": {\"tracegroupgap\": 0}, \"margin\": {\"t\": 60}, \"template\": {\"data\": {\"bar\": [{\"error_x\": {\"color\": \"#2a3f5f\"}, \"error_y\": {\"color\": \"#2a3f5f\"}, \"marker\": {\"line\": {\"color\": \"#E5ECF6\", \"width\": 0.5}}, \"type\": \"bar\"}], \"barpolar\": [{\"marker\": {\"line\": {\"color\": \"#E5ECF6\", \"width\": 0.5}}, \"type\": \"barpolar\"}], \"carpet\": [{\"aaxis\": {\"endlinecolor\": \"#2a3f5f\", \"gridcolor\": \"white\", \"linecolor\": \"white\", \"minorgridcolor\": \"white\", \"startlinecolor\": \"#2a3f5f\"}, \"baxis\": {\"endlinecolor\": \"#2a3f5f\", \"gridcolor\": \"white\", \"linecolor\": \"white\", \"minorgridcolor\": \"white\", \"startlinecolor\": \"#2a3f5f\"}, \"type\": \"carpet\"}], \"choropleth\": [{\"colorbar\": {\"outlinewidth\": 0, \"ticks\": \"\"}, \"type\": \"choropleth\"}], \"contour\": [{\"colorbar\": {\"outlinewidth\": 0, \"ticks\": \"\"}, \"colorscale\": [[0.0, \"#0d0887\"], [0.1111111111111111, \"#46039f\"], [0.2222222222222222, \"#7201a8\"], [0.3333333333333333, \"#9c179e\"], [0.4444444444444444, \"#bd3786\"], [0.5555555555555556, \"#d8576b\"], [0.6666666666666666, \"#ed7953\"], [0.7777777777777778, \"#fb9f3a\"], [0.8888888888888888, \"#fdca26\"], [1.0, \"#f0f921\"]], \"type\": \"contour\"}], \"contourcarpet\": [{\"colorbar\": {\"outlinewidth\": 0, \"ticks\": \"\"}, \"type\": \"contourcarpet\"}], \"heatmap\": [{\"colorbar\": {\"outlinewidth\": 0, \"ticks\": \"\"}, \"colorscale\": [[0.0, \"#0d0887\"], [0.1111111111111111, \"#46039f\"], [0.2222222222222222, \"#7201a8\"], [0.3333333333333333, \"#9c179e\"], [0.4444444444444444, \"#bd3786\"], [0.5555555555555556, \"#d8576b\"], [0.6666666666666666, \"#ed7953\"], [0.7777777777777778, \"#fb9f3a\"], [0.8888888888888888, \"#fdca26\"], [1.0, \"#f0f921\"]], \"type\": \"heatmap\"}], \"heatmapgl\": [{\"colorbar\": {\"outlinewidth\": 0, \"ticks\": \"\"}, \"colorscale\": [[0.0, \"#0d0887\"], [0.1111111111111111, \"#46039f\"], [0.2222222222222222, \"#7201a8\"], [0.3333333333333333, \"#9c179e\"], [0.4444444444444444, \"#bd3786\"], [0.5555555555555556, \"#d8576b\"], [0.6666666666666666, \"#ed7953\"], [0.7777777777777778, \"#fb9f3a\"], [0.8888888888888888, \"#fdca26\"], [1.0, \"#f0f921\"]], \"type\": \"heatmapgl\"}], \"histogram\": [{\"marker\": {\"colorbar\": {\"outlinewidth\": 0, \"ticks\": \"\"}}, \"type\": \"histogram\"}], \"histogram2d\": [{\"colorbar\": {\"outlinewidth\": 0, \"ticks\": \"\"}, \"colorscale\": [[0.0, \"#0d0887\"], [0.1111111111111111, \"#46039f\"], [0.2222222222222222, \"#7201a8\"], [0.3333333333333333, \"#9c179e\"], [0.4444444444444444, \"#bd3786\"], [0.5555555555555556, \"#d8576b\"], [0.6666666666666666, \"#ed7953\"], [0.7777777777777778, \"#fb9f3a\"], [0.8888888888888888, \"#fdca26\"], [1.0, \"#f0f921\"]], \"type\": \"histogram2d\"}], \"histogram2dcontour\": [{\"colorbar\": {\"outlinewidth\": 0, \"ticks\": \"\"}, \"colorscale\": [[0.0, \"#0d0887\"], [0.1111111111111111, \"#46039f\"], [0.2222222222222222, \"#7201a8\"], [0.3333333333333333, \"#9c179e\"], [0.4444444444444444, \"#bd3786\"], [0.5555555555555556, \"#d8576b\"], [0.6666666666666666, \"#ed7953\"], [0.7777777777777778, \"#fb9f3a\"], [0.8888888888888888, \"#fdca26\"], [1.0, \"#f0f921\"]], \"type\": \"histogram2dcontour\"}], \"mesh3d\": [{\"colorbar\": {\"outlinewidth\": 0, \"ticks\": \"\"}, \"type\": \"mesh3d\"}], \"parcoords\": [{\"line\": {\"colorbar\": {\"outlinewidth\": 0, \"ticks\": \"\"}}, \"type\": \"parcoords\"}], \"pie\": [{\"automargin\": true, \"type\": \"pie\"}], \"scatter\": [{\"marker\": {\"colorbar\": {\"outlinewidth\": 0, \"ticks\": \"\"}}, \"type\": \"scatter\"}], \"scatter3d\": [{\"line\": {\"colorbar\": {\"outlinewidth\": 0, \"ticks\": \"\"}}, \"marker\": {\"colorbar\": {\"outlinewidth\": 0, \"ticks\": \"\"}}, \"type\": \"scatter3d\"}], \"scattercarpet\": [{\"marker\": {\"colorbar\": {\"outlinewidth\": 0, \"ticks\": \"\"}}, \"type\": \"scattercarpet\"}], \"scattergeo\": [{\"marker\": {\"colorbar\": {\"outlinewidth\": 0, \"ticks\": \"\"}}, \"type\": \"scattergeo\"}], \"scattergl\": [{\"marker\": {\"colorbar\": {\"outlinewidth\": 0, \"ticks\": \"\"}}, \"type\": \"scattergl\"}], \"scattermapbox\": [{\"marker\": {\"colorbar\": {\"outlinewidth\": 0, \"ticks\": \"\"}}, \"type\": \"scattermapbox\"}], \"scatterpolar\": [{\"marker\": {\"colorbar\": {\"outlinewidth\": 0, \"ticks\": \"\"}}, \"type\": \"scatterpolar\"}], \"scatterpolargl\": [{\"marker\": {\"colorbar\": {\"outlinewidth\": 0, \"ticks\": \"\"}}, \"type\": \"scatterpolargl\"}], \"scatterternary\": [{\"marker\": {\"colorbar\": {\"outlinewidth\": 0, \"ticks\": \"\"}}, \"type\": \"scatterternary\"}], \"surface\": [{\"colorbar\": {\"outlinewidth\": 0, \"ticks\": \"\"}, \"colorscale\": [[0.0, \"#0d0887\"], [0.1111111111111111, \"#46039f\"], [0.2222222222222222, \"#7201a8\"], [0.3333333333333333, \"#9c179e\"], [0.4444444444444444, \"#bd3786\"], [0.5555555555555556, \"#d8576b\"], [0.6666666666666666, \"#ed7953\"], [0.7777777777777778, \"#fb9f3a\"], [0.8888888888888888, \"#fdca26\"], [1.0, \"#f0f921\"]], \"type\": \"surface\"}], \"table\": [{\"cells\": {\"fill\": {\"color\": \"#EBF0F8\"}, \"line\": {\"color\": \"white\"}}, \"header\": {\"fill\": {\"color\": \"#C8D4E3\"}, \"line\": {\"color\": \"white\"}}, \"type\": \"table\"}]}, \"layout\": {\"annotationdefaults\": {\"arrowcolor\": \"#2a3f5f\", \"arrowhead\": 0, \"arrowwidth\": 1}, \"coloraxis\": {\"colorbar\": {\"outlinewidth\": 0, \"ticks\": \"\"}}, \"colorscale\": {\"diverging\": [[0, \"#8e0152\"], [0.1, \"#c51b7d\"], [0.2, \"#de77ae\"], [0.3, \"#f1b6da\"], [0.4, \"#fde0ef\"], [0.5, \"#f7f7f7\"], [0.6, \"#e6f5d0\"], [0.7, \"#b8e186\"], [0.8, \"#7fbc41\"], [0.9, \"#4d9221\"], [1, \"#276419\"]], \"sequential\": [[0.0, \"#0d0887\"], [0.1111111111111111, \"#46039f\"], [0.2222222222222222, \"#7201a8\"], [0.3333333333333333, \"#9c179e\"], [0.4444444444444444, \"#bd3786\"], [0.5555555555555556, \"#d8576b\"], [0.6666666666666666, \"#ed7953\"], [0.7777777777777778, \"#fb9f3a\"], [0.8888888888888888, \"#fdca26\"], [1.0, \"#f0f921\"]], \"sequentialminus\": [[0.0, \"#0d0887\"], [0.1111111111111111, \"#46039f\"], [0.2222222222222222, \"#7201a8\"], [0.3333333333333333, \"#9c179e\"], [0.4444444444444444, \"#bd3786\"], [0.5555555555555556, \"#d8576b\"], [0.6666666666666666, \"#ed7953\"], [0.7777777777777778, \"#fb9f3a\"], [0.8888888888888888, \"#fdca26\"], [1.0, \"#f0f921\"]]}, \"colorway\": [\"#636efa\", \"#EF553B\", \"#00cc96\", \"#ab63fa\", \"#FFA15A\", \"#19d3f3\", \"#FF6692\", \"#B6E880\", \"#FF97FF\", \"#FECB52\"], \"font\": {\"color\": \"#2a3f5f\"}, \"geo\": {\"bgcolor\": \"white\", \"lakecolor\": \"white\", \"landcolor\": \"#E5ECF6\", \"showlakes\": true, \"showland\": true, \"subunitcolor\": \"white\"}, \"hoverlabel\": {\"align\": \"left\"}, \"hovermode\": \"closest\", \"mapbox\": {\"style\": \"light\"}, \"paper_bgcolor\": \"white\", \"plot_bgcolor\": \"#E5ECF6\", \"polar\": {\"angularaxis\": {\"gridcolor\": \"white\", \"linecolor\": \"white\", \"ticks\": \"\"}, \"bgcolor\": \"#E5ECF6\", \"radialaxis\": {\"gridcolor\": \"white\", \"linecolor\": \"white\", \"ticks\": \"\"}}, \"scene\": {\"xaxis\": {\"backgroundcolor\": \"#E5ECF6\", \"gridcolor\": \"white\", \"gridwidth\": 2, \"linecolor\": \"white\", \"showbackground\": true, \"ticks\": \"\", \"zerolinecolor\": \"white\"}, \"yaxis\": {\"backgroundcolor\": \"#E5ECF6\", \"gridcolor\": \"white\", \"gridwidth\": 2, \"linecolor\": \"white\", \"showbackground\": true, \"ticks\": \"\", \"zerolinecolor\": \"white\"}, \"zaxis\": {\"backgroundcolor\": \"#E5ECF6\", \"gridcolor\": \"white\", \"gridwidth\": 2, \"linecolor\": \"white\", \"showbackground\": true, \"ticks\": \"\", \"zerolinecolor\": \"white\"}}, \"shapedefaults\": {\"line\": {\"color\": \"#2a3f5f\"}}, \"ternary\": {\"aaxis\": {\"gridcolor\": \"white\", \"linecolor\": \"white\", \"ticks\": \"\"}, \"baxis\": {\"gridcolor\": \"white\", \"linecolor\": \"white\", \"ticks\": \"\"}, \"bgcolor\": \"#E5ECF6\", \"caxis\": {\"gridcolor\": \"white\", \"linecolor\": \"white\", \"ticks\": \"\"}}, \"title\": {\"x\": 0.05}, \"xaxis\": {\"automargin\": true, \"gridcolor\": \"white\", \"linecolor\": \"white\", \"ticks\": \"\", \"title\": {\"standoff\": 15}, \"zerolinecolor\": \"white\", \"zerolinewidth\": 2}, \"yaxis\": {\"automargin\": true, \"gridcolor\": \"white\", \"linecolor\": \"white\", \"ticks\": \"\", \"title\": {\"standoff\": 15}, \"zerolinecolor\": \"white\", \"zerolinewidth\": 2}}}},\n",
       "                        {\"responsive\": true}\n",
       "                    ).then(function(){\n",
       "                            \n",
       "var gd = document.getElementById('0b1d6b99-9e37-473c-94e7-11985c3de7e4');\n",
       "var x = new MutationObserver(function (mutations, observer) {{\n",
       "        var display = window.getComputedStyle(gd).display;\n",
       "        if (!display || display === 'none') {{\n",
       "            console.log([gd, 'removed!']);\n",
       "            Plotly.purge(gd);\n",
       "            observer.disconnect();\n",
       "        }}\n",
       "}});\n",
       "\n",
       "// Listen for the removal of the full notebook cells\n",
       "var notebookContainer = gd.closest('#notebook-container');\n",
       "if (notebookContainer) {{\n",
       "    x.observe(notebookContainer, {childList: true});\n",
       "}}\n",
       "\n",
       "// Listen for the clearing of the current output cell\n",
       "var outputEl = gd.closest('.output');\n",
       "if (outputEl) {{\n",
       "    x.observe(outputEl, {childList: true});\n",
       "}}\n",
       "\n",
       "                        })\n",
       "                };\n",
       "                });\n",
       "            </script>\n",
       "        </div>"
      ]
     },
     "metadata": {},
     "output_type": "display_data"
    }
   ],
   "source": [
    "df1 = df.copy()\n",
    "df1['config/lr'] = np.log10(df1['config/lr'])\n",
    "\n",
    "fig = px.parallel_coordinates(df1, color=target,\n",
    "                             color_continuous_scale=px.colors.diverging.Tealrose,\n",
    "                             color_continuous_midpoint=2, range_color=(-10, 6))\n",
    "fig.show()"
   ]
  },
  {
   "cell_type": "code",
   "execution_count": 53,
   "metadata": {},
   "outputs": [
    {
     "data": {
      "text/plain": [
       "checkpoint_rllib                  /home/sergei/ray_results/PPO_YouShallNotPassHu...\n",
       "policy_reward_mean/player_1                                                 5.84906\n",
       "config/lr                                                               0.000755454\n",
       "config/main_filename              /scratch/sergei/better-adversarial-defenses/yo...\n",
       "config/num_sgd_iter                                                         5.56213\n",
       "config/redis_address                                             128.32.175.10:6379\n",
       "config/rollout_fragment_length                                              2865.45\n",
       "config/sgd_minibatch_size                                                   22627.5\n",
       "config/train_batch_size                                                     42879.8\n",
       "config/train_policies                                                    [player_1]\n",
       "config/train_steps                                                         99999999\n",
       "logdir                            /home/sergei/ray_results/adversarial_tune_fine...\n",
       "Name: 15, dtype: object"
      ]
     },
     "execution_count": 53,
     "metadata": {},
     "output_type": "execute_result"
    }
   ],
   "source": [
    "idx = 1\n",
    "best_trial = df.iloc[idx].logdir\n",
    "df.iloc[idx]"
   ]
  },
  {
   "cell_type": "code",
   "execution_count": 54,
   "metadata": {},
   "outputs": [
    {
     "data": {
      "text/html": [
       "<div>\n",
       "<style scoped>\n",
       "    .dataframe tbody tr th:only-of-type {\n",
       "        vertical-align: middle;\n",
       "    }\n",
       "\n",
       "    .dataframe tbody tr th {\n",
       "        vertical-align: top;\n",
       "    }\n",
       "\n",
       "    .dataframe thead th {\n",
       "        text-align: right;\n",
       "    }\n",
       "</style>\n",
       "<table border=\"1\" class=\"dataframe\">\n",
       "  <thead>\n",
       "    <tr style=\"text-align: right;\">\n",
       "      <th></th>\n",
       "      <th>checkpoint_rllib</th>\n",
       "      <th>policy_reward_mean/player_1</th>\n",
       "      <th>config/lr</th>\n",
       "      <th>config/main_filename</th>\n",
       "      <th>config/num_sgd_iter</th>\n",
       "      <th>config/redis_address</th>\n",
       "      <th>config/rollout_fragment_length</th>\n",
       "      <th>config/sgd_minibatch_size</th>\n",
       "      <th>config/train_batch_size</th>\n",
       "      <th>config/train_policies</th>\n",
       "      <th>config/train_steps</th>\n",
       "      <th>logdir</th>\n",
       "    </tr>\n",
       "  </thead>\n",
       "  <tbody>\n",
       "    <tr>\n",
       "      <th>21</th>\n",
       "      <td>/home/sergei/ray_results/PPO_YouShallNotPassHu...</td>\n",
       "      <td>6.714286</td>\n",
       "      <td>0.000456</td>\n",
       "      <td>/scratch/sergei/better-adversarial-defenses/yo...</td>\n",
       "      <td>6.681216</td>\n",
       "      <td>128.32.175.10:6379</td>\n",
       "      <td>4350.336182</td>\n",
       "      <td>8041.544873</td>\n",
       "      <td>8046.433100</td>\n",
       "      <td>[player_1]</td>\n",
       "      <td>99999999</td>\n",
       "      <td>/home/sergei/ray_results/adversarial_tune_fine...</td>\n",
       "    </tr>\n",
       "    <tr>\n",
       "      <th>15</th>\n",
       "      <td>/home/sergei/ray_results/PPO_YouShallNotPassHu...</td>\n",
       "      <td>5.849057</td>\n",
       "      <td>0.000755</td>\n",
       "      <td>/scratch/sergei/better-adversarial-defenses/yo...</td>\n",
       "      <td>5.562134</td>\n",
       "      <td>128.32.175.10:6379</td>\n",
       "      <td>2865.445789</td>\n",
       "      <td>22627.467405</td>\n",
       "      <td>42879.762832</td>\n",
       "      <td>[player_1]</td>\n",
       "      <td>99999999</td>\n",
       "      <td>/home/sergei/ray_results/adversarial_tune_fine...</td>\n",
       "    </tr>\n",
       "    <tr>\n",
       "      <th>11</th>\n",
       "      <td>/home/sergei/ray_results/PPO_YouShallNotPassHu...</td>\n",
       "      <td>5.436242</td>\n",
       "      <td>0.000011</td>\n",
       "      <td>/scratch/sergei/better-adversarial-defenses/yo...</td>\n",
       "      <td>28.927827</td>\n",
       "      <td>128.32.175.10:6379</td>\n",
       "      <td>2410.891170</td>\n",
       "      <td>1158.166947</td>\n",
       "      <td>17172.811368</td>\n",
       "      <td>[player_1]</td>\n",
       "      <td>99999999</td>\n",
       "      <td>/home/sergei/ray_results/adversarial_tune_fine...</td>\n",
       "    </tr>\n",
       "    <tr>\n",
       "      <th>26</th>\n",
       "      <td>/home/sergei/ray_results/PPO_YouShallNotPassHu...</td>\n",
       "      <td>4.326923</td>\n",
       "      <td>0.000027</td>\n",
       "      <td>/scratch/sergei/better-adversarial-defenses/yo...</td>\n",
       "      <td>19.670799</td>\n",
       "      <td>128.32.175.10:6379</td>\n",
       "      <td>3446.377219</td>\n",
       "      <td>1980.057337</td>\n",
       "      <td>21693.268099</td>\n",
       "      <td>[player_1]</td>\n",
       "      <td>99999999</td>\n",
       "      <td>/home/sergei/ray_results/adversarial_tune_fine...</td>\n",
       "    </tr>\n",
       "    <tr>\n",
       "      <th>2</th>\n",
       "      <td>/home/sergei/ray_results/PPO_YouShallNotPassHu...</td>\n",
       "      <td>3.574297</td>\n",
       "      <td>0.000033</td>\n",
       "      <td>/scratch/sergei/better-adversarial-defenses/yo...</td>\n",
       "      <td>25.089852</td>\n",
       "      <td>128.32.175.10:6379</td>\n",
       "      <td>2038.906635</td>\n",
       "      <td>11850.547106</td>\n",
       "      <td>32255.177035</td>\n",
       "      <td>[player_1]</td>\n",
       "      <td>99999999</td>\n",
       "      <td>/home/sergei/ray_results/adversarial_tune_fine...</td>\n",
       "    </tr>\n",
       "    <tr>\n",
       "      <th>7</th>\n",
       "      <td>/home/sergei/ray_results/PPO_YouShallNotPassHu...</td>\n",
       "      <td>2.800000</td>\n",
       "      <td>0.000481</td>\n",
       "      <td>/scratch/sergei/better-adversarial-defenses/yo...</td>\n",
       "      <td>7.306473</td>\n",
       "      <td>128.32.175.10:6379</td>\n",
       "      <td>4352.367238</td>\n",
       "      <td>5480.487112</td>\n",
       "      <td>6411.628326</td>\n",
       "      <td>[player_1]</td>\n",
       "      <td>99999999</td>\n",
       "      <td>/home/sergei/ray_results/adversarial_tune_fine...</td>\n",
       "    </tr>\n",
       "    <tr>\n",
       "      <th>28</th>\n",
       "      <td>/home/sergei/ray_results/PPO_YouShallNotPassHu...</td>\n",
       "      <td>0.592034</td>\n",
       "      <td>0.000090</td>\n",
       "      <td>/scratch/sergei/better-adversarial-defenses/yo...</td>\n",
       "      <td>20.631147</td>\n",
       "      <td>128.32.175.10:6379</td>\n",
       "      <td>2574.840923</td>\n",
       "      <td>22335.162076</td>\n",
       "      <td>128388.832132</td>\n",
       "      <td>[player_1]</td>\n",
       "      <td>99999999</td>\n",
       "      <td>/home/sergei/ray_results/adversarial_tune_fine...</td>\n",
       "    </tr>\n",
       "    <tr>\n",
       "      <th>8</th>\n",
       "      <td>/home/sergei/ray_results/PPO_YouShallNotPassHu...</td>\n",
       "      <td>0.540541</td>\n",
       "      <td>0.000326</td>\n",
       "      <td>/scratch/sergei/better-adversarial-defenses/yo...</td>\n",
       "      <td>11.193110</td>\n",
       "      <td>128.32.175.10:6379</td>\n",
       "      <td>2628.159451</td>\n",
       "      <td>5275.039512</td>\n",
       "      <td>5815.748478</td>\n",
       "      <td>[player_1]</td>\n",
       "      <td>99999999</td>\n",
       "      <td>/home/sergei/ray_results/adversarial_tune_fine...</td>\n",
       "    </tr>\n",
       "    <tr>\n",
       "      <th>16</th>\n",
       "      <td>/home/sergei/ray_results/PPO_YouShallNotPassHu...</td>\n",
       "      <td>0.099668</td>\n",
       "      <td>0.000039</td>\n",
       "      <td>/scratch/sergei/better-adversarial-defenses/yo...</td>\n",
       "      <td>9.947342</td>\n",
       "      <td>128.32.175.10:6379</td>\n",
       "      <td>2198.059992</td>\n",
       "      <td>9531.807682</td>\n",
       "      <td>45689.262303</td>\n",
       "      <td>[player_1]</td>\n",
       "      <td>99999999</td>\n",
       "      <td>/home/sergei/ray_results/adversarial_tune_fine...</td>\n",
       "    </tr>\n",
       "    <tr>\n",
       "      <th>17</th>\n",
       "      <td>/home/sergei/ray_results/PPO_YouShallNotPassHu...</td>\n",
       "      <td>-0.974359</td>\n",
       "      <td>0.000017</td>\n",
       "      <td>/scratch/sergei/better-adversarial-defenses/yo...</td>\n",
       "      <td>29.887756</td>\n",
       "      <td>128.32.175.10:6379</td>\n",
       "      <td>2434.825389</td>\n",
       "      <td>3052.803736</td>\n",
       "      <td>20559.005938</td>\n",
       "      <td>[player_1]</td>\n",
       "      <td>99999999</td>\n",
       "      <td>/home/sergei/ray_results/adversarial_tune_fine...</td>\n",
       "    </tr>\n",
       "    <tr>\n",
       "      <th>29</th>\n",
       "      <td>/home/sergei/ray_results/PPO_YouShallNotPassHu...</td>\n",
       "      <td>-1.521739</td>\n",
       "      <td>0.000038</td>\n",
       "      <td>/scratch/sergei/better-adversarial-defenses/yo...</td>\n",
       "      <td>17.673449</td>\n",
       "      <td>128.32.175.10:6379</td>\n",
       "      <td>3486.398009</td>\n",
       "      <td>1018.230131</td>\n",
       "      <td>3610.998950</td>\n",
       "      <td>[player_1]</td>\n",
       "      <td>99999999</td>\n",
       "      <td>/home/sergei/ray_results/adversarial_tune_fine...</td>\n",
       "    </tr>\n",
       "    <tr>\n",
       "      <th>0</th>\n",
       "      <td>/home/sergei/ray_results/PPO_YouShallNotPassHu...</td>\n",
       "      <td>-1.991247</td>\n",
       "      <td>0.000093</td>\n",
       "      <td>/scratch/sergei/better-adversarial-defenses/yo...</td>\n",
       "      <td>16.929951</td>\n",
       "      <td>128.32.175.10:6379</td>\n",
       "      <td>3495.092655</td>\n",
       "      <td>6173.560705</td>\n",
       "      <td>70224.558230</td>\n",
       "      <td>[player_1]</td>\n",
       "      <td>99999999</td>\n",
       "      <td>/home/sergei/ray_results/adversarial_tune_fine...</td>\n",
       "    </tr>\n",
       "    <tr>\n",
       "      <th>25</th>\n",
       "      <td>/home/sergei/ray_results/PPO_YouShallNotPassHu...</td>\n",
       "      <td>-2.568306</td>\n",
       "      <td>0.000996</td>\n",
       "      <td>/scratch/sergei/better-adversarial-defenses/yo...</td>\n",
       "      <td>18.064561</td>\n",
       "      <td>128.32.175.10:6379</td>\n",
       "      <td>2392.784713</td>\n",
       "      <td>11326.163423</td>\n",
       "      <td>21798.300845</td>\n",
       "      <td>[player_1]</td>\n",
       "      <td>99999999</td>\n",
       "      <td>/home/sergei/ray_results/adversarial_tune_fine...</td>\n",
       "    </tr>\n",
       "    <tr>\n",
       "      <th>27</th>\n",
       "      <td>/home/sergei/ray_results/PPO_YouShallNotPassHu...</td>\n",
       "      <td>-2.741935</td>\n",
       "      <td>0.000119</td>\n",
       "      <td>/scratch/sergei/better-adversarial-defenses/yo...</td>\n",
       "      <td>26.298221</td>\n",
       "      <td>128.32.175.10:6379</td>\n",
       "      <td>4946.096491</td>\n",
       "      <td>1707.837889</td>\n",
       "      <td>3900.229389</td>\n",
       "      <td>[player_1]</td>\n",
       "      <td>99999999</td>\n",
       "      <td>/home/sergei/ray_results/adversarial_tune_fine...</td>\n",
       "    </tr>\n",
       "    <tr>\n",
       "      <th>22</th>\n",
       "      <td>/home/sergei/ray_results/PPO_YouShallNotPassHu...</td>\n",
       "      <td>-3.021898</td>\n",
       "      <td>0.000232</td>\n",
       "      <td>/scratch/sergei/better-adversarial-defenses/yo...</td>\n",
       "      <td>15.223365</td>\n",
       "      <td>128.32.175.10:6379</td>\n",
       "      <td>3346.262299</td>\n",
       "      <td>41833.115200</td>\n",
       "      <td>96501.623222</td>\n",
       "      <td>[player_1]</td>\n",
       "      <td>99999999</td>\n",
       "      <td>/home/sergei/ray_results/adversarial_tune_fine...</td>\n",
       "    </tr>\n",
       "    <tr>\n",
       "      <th>13</th>\n",
       "      <td>/home/sergei/ray_results/PPO_YouShallNotPassHu...</td>\n",
       "      <td>-3.658537</td>\n",
       "      <td>0.000881</td>\n",
       "      <td>/scratch/sergei/better-adversarial-defenses/yo...</td>\n",
       "      <td>23.502247</td>\n",
       "      <td>128.32.175.10:6379</td>\n",
       "      <td>4824.553304</td>\n",
       "      <td>2772.100257</td>\n",
       "      <td>15242.288564</td>\n",
       "      <td>[player_1]</td>\n",
       "      <td>99999999</td>\n",
       "      <td>/home/sergei/ray_results/adversarial_tune_fine...</td>\n",
       "    </tr>\n",
       "    <tr>\n",
       "      <th>9</th>\n",
       "      <td>/home/sergei/ray_results/PPO_YouShallNotPassHu...</td>\n",
       "      <td>-4.251497</td>\n",
       "      <td>0.000056</td>\n",
       "      <td>/scratch/sergei/better-adversarial-defenses/yo...</td>\n",
       "      <td>27.209945</td>\n",
       "      <td>128.32.175.10:6379</td>\n",
       "      <td>4045.560526</td>\n",
       "      <td>3188.953784</td>\n",
       "      <td>72327.239133</td>\n",
       "      <td>[player_1]</td>\n",
       "      <td>99999999</td>\n",
       "      <td>/home/sergei/ray_results/adversarial_tune_fine...</td>\n",
       "    </tr>\n",
       "    <tr>\n",
       "      <th>24</th>\n",
       "      <td>/home/sergei/ray_results/PPO_YouShallNotPassHu...</td>\n",
       "      <td>-4.383562</td>\n",
       "      <td>0.000197</td>\n",
       "      <td>/scratch/sergei/better-adversarial-defenses/yo...</td>\n",
       "      <td>20.404489</td>\n",
       "      <td>128.32.175.10:6379</td>\n",
       "      <td>2838.832028</td>\n",
       "      <td>2261.537952</td>\n",
       "      <td>41543.515226</td>\n",
       "      <td>[player_1]</td>\n",
       "      <td>99999999</td>\n",
       "      <td>/home/sergei/ray_results/adversarial_tune_fine...</td>\n",
       "    </tr>\n",
       "    <tr>\n",
       "      <th>19</th>\n",
       "      <td>/home/sergei/ray_results/PPO_YouShallNotPassHu...</td>\n",
       "      <td>-7.142857</td>\n",
       "      <td>0.000013</td>\n",
       "      <td>/scratch/sergei/better-adversarial-defenses/yo...</td>\n",
       "      <td>3.207514</td>\n",
       "      <td>128.32.175.10:6379</td>\n",
       "      <td>2124.358756</td>\n",
       "      <td>2882.644253</td>\n",
       "      <td>6826.199419</td>\n",
       "      <td>[player_1]</td>\n",
       "      <td>99999999</td>\n",
       "      <td>/home/sergei/ray_results/adversarial_tune_fine...</td>\n",
       "    </tr>\n",
       "    <tr>\n",
       "      <th>4</th>\n",
       "      <td>/home/sergei/ray_results/PPO_YouShallNotPassHu...</td>\n",
       "      <td>-7.445783</td>\n",
       "      <td>0.000913</td>\n",
       "      <td>/scratch/sergei/better-adversarial-defenses/yo...</td>\n",
       "      <td>23.447524</td>\n",
       "      <td>128.32.175.10:6379</td>\n",
       "      <td>2119.449922</td>\n",
       "      <td>9614.573727</td>\n",
       "      <td>64706.616924</td>\n",
       "      <td>[player_1]</td>\n",
       "      <td>99999999</td>\n",
       "      <td>/home/sergei/ray_results/adversarial_tune_fine...</td>\n",
       "    </tr>\n",
       "    <tr>\n",
       "      <th>20</th>\n",
       "      <td>/home/sergei/ray_results/PPO_YouShallNotPassHu...</td>\n",
       "      <td>-7.463768</td>\n",
       "      <td>0.000605</td>\n",
       "      <td>/scratch/sergei/better-adversarial-defenses/yo...</td>\n",
       "      <td>5.806305</td>\n",
       "      <td>128.32.175.10:6379</td>\n",
       "      <td>2254.596779</td>\n",
       "      <td>17434.230497</td>\n",
       "      <td>46584.753553</td>\n",
       "      <td>[player_1]</td>\n",
       "      <td>99999999</td>\n",
       "      <td>/home/sergei/ray_results/adversarial_tune_fine...</td>\n",
       "    </tr>\n",
       "    <tr>\n",
       "      <th>23</th>\n",
       "      <td>/home/sergei/ray_results/PPO_YouShallNotPassHu...</td>\n",
       "      <td>-7.625418</td>\n",
       "      <td>0.000094</td>\n",
       "      <td>/scratch/sergei/better-adversarial-defenses/yo...</td>\n",
       "      <td>15.541174</td>\n",
       "      <td>128.32.175.10:6379</td>\n",
       "      <td>4101.213628</td>\n",
       "      <td>7902.097863</td>\n",
       "      <td>94278.685652</td>\n",
       "      <td>[player_1]</td>\n",
       "      <td>99999999</td>\n",
       "      <td>/home/sergei/ray_results/adversarial_tune_fine...</td>\n",
       "    </tr>\n",
       "    <tr>\n",
       "      <th>12</th>\n",
       "      <td>/home/sergei/ray_results/PPO_YouShallNotPassHu...</td>\n",
       "      <td>-7.712177</td>\n",
       "      <td>0.000060</td>\n",
       "      <td>/scratch/sergei/better-adversarial-defenses/yo...</td>\n",
       "      <td>20.484884</td>\n",
       "      <td>128.32.175.10:6379</td>\n",
       "      <td>2741.916143</td>\n",
       "      <td>9395.390104</td>\n",
       "      <td>88460.347639</td>\n",
       "      <td>[player_1]</td>\n",
       "      <td>99999999</td>\n",
       "      <td>/home/sergei/ray_results/adversarial_tune_fine...</td>\n",
       "    </tr>\n",
       "    <tr>\n",
       "      <th>14</th>\n",
       "      <td>/home/sergei/ray_results/PPO_YouShallNotPassHu...</td>\n",
       "      <td>-7.758242</td>\n",
       "      <td>0.000031</td>\n",
       "      <td>/scratch/sergei/better-adversarial-defenses/yo...</td>\n",
       "      <td>4.626503</td>\n",
       "      <td>128.32.175.10:6379</td>\n",
       "      <td>4713.364860</td>\n",
       "      <td>1175.582184</td>\n",
       "      <td>58611.527224</td>\n",
       "      <td>[player_1]</td>\n",
       "      <td>99999999</td>\n",
       "      <td>/home/sergei/ray_results/adversarial_tune_fine...</td>\n",
       "    </tr>\n",
       "    <tr>\n",
       "      <th>10</th>\n",
       "      <td>/home/sergei/ray_results/PPO_YouShallNotPassHu...</td>\n",
       "      <td>-7.847222</td>\n",
       "      <td>0.000103</td>\n",
       "      <td>/scratch/sergei/better-adversarial-defenses/yo...</td>\n",
       "      <td>9.382145</td>\n",
       "      <td>128.32.175.10:6379</td>\n",
       "      <td>2977.986897</td>\n",
       "      <td>30261.156623</td>\n",
       "      <td>96185.982039</td>\n",
       "      <td>[player_1]</td>\n",
       "      <td>99999999</td>\n",
       "      <td>/home/sergei/ray_results/adversarial_tune_fine...</td>\n",
       "    </tr>\n",
       "    <tr>\n",
       "      <th>1</th>\n",
       "      <td>/home/sergei/ray_results/PPO_YouShallNotPassHu...</td>\n",
       "      <td>-7.866667</td>\n",
       "      <td>0.000116</td>\n",
       "      <td>/scratch/sergei/better-adversarial-defenses/yo...</td>\n",
       "      <td>16.127735</td>\n",
       "      <td>128.32.175.10:6379</td>\n",
       "      <td>2372.727259</td>\n",
       "      <td>3686.364548</td>\n",
       "      <td>128151.944751</td>\n",
       "      <td>[player_1]</td>\n",
       "      <td>99999999</td>\n",
       "      <td>/home/sergei/ray_results/adversarial_tune_fine...</td>\n",
       "    </tr>\n",
       "    <tr>\n",
       "      <th>3</th>\n",
       "      <td>/home/sergei/ray_results/PPO_YouShallNotPassHu...</td>\n",
       "      <td>-8.114286</td>\n",
       "      <td>0.000017</td>\n",
       "      <td>/scratch/sergei/better-adversarial-defenses/yo...</td>\n",
       "      <td>24.239361</td>\n",
       "      <td>128.32.175.10:6379</td>\n",
       "      <td>4850.998877</td>\n",
       "      <td>15323.525387</td>\n",
       "      <td>46438.262994</td>\n",
       "      <td>[player_1]</td>\n",
       "      <td>99999999</td>\n",
       "      <td>/home/sergei/ray_results/adversarial_tune_fine...</td>\n",
       "    </tr>\n",
       "    <tr>\n",
       "      <th>5</th>\n",
       "      <td>/home/sergei/ray_results/PPO_YouShallNotPassHu...</td>\n",
       "      <td>-8.594595</td>\n",
       "      <td>0.000012</td>\n",
       "      <td>/scratch/sergei/better-adversarial-defenses/yo...</td>\n",
       "      <td>16.503420</td>\n",
       "      <td>128.32.175.10:6379</td>\n",
       "      <td>3615.048336</td>\n",
       "      <td>16708.708813</td>\n",
       "      <td>26557.674358</td>\n",
       "      <td>[player_1]</td>\n",
       "      <td>99999999</td>\n",
       "      <td>/home/sergei/ray_results/adversarial_tune_fine...</td>\n",
       "    </tr>\n",
       "    <tr>\n",
       "      <th>18</th>\n",
       "      <td>/home/sergei/ray_results/PPO_YouShallNotPassHu...</td>\n",
       "      <td>-8.717140</td>\n",
       "      <td>0.000598</td>\n",
       "      <td>/scratch/sergei/better-adversarial-defenses/yo...</td>\n",
       "      <td>10.961211</td>\n",
       "      <td>128.32.175.10:6379</td>\n",
       "      <td>2494.977334</td>\n",
       "      <td>41148.175205</td>\n",
       "      <td>145110.939719</td>\n",
       "      <td>[player_1]</td>\n",
       "      <td>99999999</td>\n",
       "      <td>/home/sergei/ray_results/adversarial_tune_fine...</td>\n",
       "    </tr>\n",
       "    <tr>\n",
       "      <th>6</th>\n",
       "      <td>/home/sergei/ray_results/PPO_YouShallNotPassHu...</td>\n",
       "      <td>-8.796562</td>\n",
       "      <td>0.000016</td>\n",
       "      <td>/scratch/sergei/better-adversarial-defenses/yo...</td>\n",
       "      <td>7.684588</td>\n",
       "      <td>128.32.175.10:6379</td>\n",
       "      <td>4616.791233</td>\n",
       "      <td>44188.164327</td>\n",
       "      <td>52128.001709</td>\n",
       "      <td>[player_1]</td>\n",
       "      <td>99999999</td>\n",
       "      <td>/home/sergei/ray_results/adversarial_tune_fine...</td>\n",
       "    </tr>\n",
       "  </tbody>\n",
       "</table>\n",
       "</div>"
      ],
      "text/plain": [
       "                                     checkpoint_rllib  \\\n",
       "21  /home/sergei/ray_results/PPO_YouShallNotPassHu...   \n",
       "15  /home/sergei/ray_results/PPO_YouShallNotPassHu...   \n",
       "11  /home/sergei/ray_results/PPO_YouShallNotPassHu...   \n",
       "26  /home/sergei/ray_results/PPO_YouShallNotPassHu...   \n",
       "2   /home/sergei/ray_results/PPO_YouShallNotPassHu...   \n",
       "7   /home/sergei/ray_results/PPO_YouShallNotPassHu...   \n",
       "28  /home/sergei/ray_results/PPO_YouShallNotPassHu...   \n",
       "8   /home/sergei/ray_results/PPO_YouShallNotPassHu...   \n",
       "16  /home/sergei/ray_results/PPO_YouShallNotPassHu...   \n",
       "17  /home/sergei/ray_results/PPO_YouShallNotPassHu...   \n",
       "29  /home/sergei/ray_results/PPO_YouShallNotPassHu...   \n",
       "0   /home/sergei/ray_results/PPO_YouShallNotPassHu...   \n",
       "25  /home/sergei/ray_results/PPO_YouShallNotPassHu...   \n",
       "27  /home/sergei/ray_results/PPO_YouShallNotPassHu...   \n",
       "22  /home/sergei/ray_results/PPO_YouShallNotPassHu...   \n",
       "13  /home/sergei/ray_results/PPO_YouShallNotPassHu...   \n",
       "9   /home/sergei/ray_results/PPO_YouShallNotPassHu...   \n",
       "24  /home/sergei/ray_results/PPO_YouShallNotPassHu...   \n",
       "19  /home/sergei/ray_results/PPO_YouShallNotPassHu...   \n",
       "4   /home/sergei/ray_results/PPO_YouShallNotPassHu...   \n",
       "20  /home/sergei/ray_results/PPO_YouShallNotPassHu...   \n",
       "23  /home/sergei/ray_results/PPO_YouShallNotPassHu...   \n",
       "12  /home/sergei/ray_results/PPO_YouShallNotPassHu...   \n",
       "14  /home/sergei/ray_results/PPO_YouShallNotPassHu...   \n",
       "10  /home/sergei/ray_results/PPO_YouShallNotPassHu...   \n",
       "1   /home/sergei/ray_results/PPO_YouShallNotPassHu...   \n",
       "3   /home/sergei/ray_results/PPO_YouShallNotPassHu...   \n",
       "5   /home/sergei/ray_results/PPO_YouShallNotPassHu...   \n",
       "18  /home/sergei/ray_results/PPO_YouShallNotPassHu...   \n",
       "6   /home/sergei/ray_results/PPO_YouShallNotPassHu...   \n",
       "\n",
       "    policy_reward_mean/player_1  config/lr  \\\n",
       "21                     6.714286   0.000456   \n",
       "15                     5.849057   0.000755   \n",
       "11                     5.436242   0.000011   \n",
       "26                     4.326923   0.000027   \n",
       "2                      3.574297   0.000033   \n",
       "7                      2.800000   0.000481   \n",
       "28                     0.592034   0.000090   \n",
       "8                      0.540541   0.000326   \n",
       "16                     0.099668   0.000039   \n",
       "17                    -0.974359   0.000017   \n",
       "29                    -1.521739   0.000038   \n",
       "0                     -1.991247   0.000093   \n",
       "25                    -2.568306   0.000996   \n",
       "27                    -2.741935   0.000119   \n",
       "22                    -3.021898   0.000232   \n",
       "13                    -3.658537   0.000881   \n",
       "9                     -4.251497   0.000056   \n",
       "24                    -4.383562   0.000197   \n",
       "19                    -7.142857   0.000013   \n",
       "4                     -7.445783   0.000913   \n",
       "20                    -7.463768   0.000605   \n",
       "23                    -7.625418   0.000094   \n",
       "12                    -7.712177   0.000060   \n",
       "14                    -7.758242   0.000031   \n",
       "10                    -7.847222   0.000103   \n",
       "1                     -7.866667   0.000116   \n",
       "3                     -8.114286   0.000017   \n",
       "5                     -8.594595   0.000012   \n",
       "18                    -8.717140   0.000598   \n",
       "6                     -8.796562   0.000016   \n",
       "\n",
       "                                 config/main_filename  config/num_sgd_iter  \\\n",
       "21  /scratch/sergei/better-adversarial-defenses/yo...             6.681216   \n",
       "15  /scratch/sergei/better-adversarial-defenses/yo...             5.562134   \n",
       "11  /scratch/sergei/better-adversarial-defenses/yo...            28.927827   \n",
       "26  /scratch/sergei/better-adversarial-defenses/yo...            19.670799   \n",
       "2   /scratch/sergei/better-adversarial-defenses/yo...            25.089852   \n",
       "7   /scratch/sergei/better-adversarial-defenses/yo...             7.306473   \n",
       "28  /scratch/sergei/better-adversarial-defenses/yo...            20.631147   \n",
       "8   /scratch/sergei/better-adversarial-defenses/yo...            11.193110   \n",
       "16  /scratch/sergei/better-adversarial-defenses/yo...             9.947342   \n",
       "17  /scratch/sergei/better-adversarial-defenses/yo...            29.887756   \n",
       "29  /scratch/sergei/better-adversarial-defenses/yo...            17.673449   \n",
       "0   /scratch/sergei/better-adversarial-defenses/yo...            16.929951   \n",
       "25  /scratch/sergei/better-adversarial-defenses/yo...            18.064561   \n",
       "27  /scratch/sergei/better-adversarial-defenses/yo...            26.298221   \n",
       "22  /scratch/sergei/better-adversarial-defenses/yo...            15.223365   \n",
       "13  /scratch/sergei/better-adversarial-defenses/yo...            23.502247   \n",
       "9   /scratch/sergei/better-adversarial-defenses/yo...            27.209945   \n",
       "24  /scratch/sergei/better-adversarial-defenses/yo...            20.404489   \n",
       "19  /scratch/sergei/better-adversarial-defenses/yo...             3.207514   \n",
       "4   /scratch/sergei/better-adversarial-defenses/yo...            23.447524   \n",
       "20  /scratch/sergei/better-adversarial-defenses/yo...             5.806305   \n",
       "23  /scratch/sergei/better-adversarial-defenses/yo...            15.541174   \n",
       "12  /scratch/sergei/better-adversarial-defenses/yo...            20.484884   \n",
       "14  /scratch/sergei/better-adversarial-defenses/yo...             4.626503   \n",
       "10  /scratch/sergei/better-adversarial-defenses/yo...             9.382145   \n",
       "1   /scratch/sergei/better-adversarial-defenses/yo...            16.127735   \n",
       "3   /scratch/sergei/better-adversarial-defenses/yo...            24.239361   \n",
       "5   /scratch/sergei/better-adversarial-defenses/yo...            16.503420   \n",
       "18  /scratch/sergei/better-adversarial-defenses/yo...            10.961211   \n",
       "6   /scratch/sergei/better-adversarial-defenses/yo...             7.684588   \n",
       "\n",
       "   config/redis_address  config/rollout_fragment_length  \\\n",
       "21   128.32.175.10:6379                     4350.336182   \n",
       "15   128.32.175.10:6379                     2865.445789   \n",
       "11   128.32.175.10:6379                     2410.891170   \n",
       "26   128.32.175.10:6379                     3446.377219   \n",
       "2    128.32.175.10:6379                     2038.906635   \n",
       "7    128.32.175.10:6379                     4352.367238   \n",
       "28   128.32.175.10:6379                     2574.840923   \n",
       "8    128.32.175.10:6379                     2628.159451   \n",
       "16   128.32.175.10:6379                     2198.059992   \n",
       "17   128.32.175.10:6379                     2434.825389   \n",
       "29   128.32.175.10:6379                     3486.398009   \n",
       "0    128.32.175.10:6379                     3495.092655   \n",
       "25   128.32.175.10:6379                     2392.784713   \n",
       "27   128.32.175.10:6379                     4946.096491   \n",
       "22   128.32.175.10:6379                     3346.262299   \n",
       "13   128.32.175.10:6379                     4824.553304   \n",
       "9    128.32.175.10:6379                     4045.560526   \n",
       "24   128.32.175.10:6379                     2838.832028   \n",
       "19   128.32.175.10:6379                     2124.358756   \n",
       "4    128.32.175.10:6379                     2119.449922   \n",
       "20   128.32.175.10:6379                     2254.596779   \n",
       "23   128.32.175.10:6379                     4101.213628   \n",
       "12   128.32.175.10:6379                     2741.916143   \n",
       "14   128.32.175.10:6379                     4713.364860   \n",
       "10   128.32.175.10:6379                     2977.986897   \n",
       "1    128.32.175.10:6379                     2372.727259   \n",
       "3    128.32.175.10:6379                     4850.998877   \n",
       "5    128.32.175.10:6379                     3615.048336   \n",
       "18   128.32.175.10:6379                     2494.977334   \n",
       "6    128.32.175.10:6379                     4616.791233   \n",
       "\n",
       "    config/sgd_minibatch_size  config/train_batch_size config/train_policies  \\\n",
       "21                8041.544873              8046.433100            [player_1]   \n",
       "15               22627.467405             42879.762832            [player_1]   \n",
       "11                1158.166947             17172.811368            [player_1]   \n",
       "26                1980.057337             21693.268099            [player_1]   \n",
       "2                11850.547106             32255.177035            [player_1]   \n",
       "7                 5480.487112              6411.628326            [player_1]   \n",
       "28               22335.162076            128388.832132            [player_1]   \n",
       "8                 5275.039512              5815.748478            [player_1]   \n",
       "16                9531.807682             45689.262303            [player_1]   \n",
       "17                3052.803736             20559.005938            [player_1]   \n",
       "29                1018.230131              3610.998950            [player_1]   \n",
       "0                 6173.560705             70224.558230            [player_1]   \n",
       "25               11326.163423             21798.300845            [player_1]   \n",
       "27                1707.837889              3900.229389            [player_1]   \n",
       "22               41833.115200             96501.623222            [player_1]   \n",
       "13                2772.100257             15242.288564            [player_1]   \n",
       "9                 3188.953784             72327.239133            [player_1]   \n",
       "24                2261.537952             41543.515226            [player_1]   \n",
       "19                2882.644253              6826.199419            [player_1]   \n",
       "4                 9614.573727             64706.616924            [player_1]   \n",
       "20               17434.230497             46584.753553            [player_1]   \n",
       "23                7902.097863             94278.685652            [player_1]   \n",
       "12                9395.390104             88460.347639            [player_1]   \n",
       "14                1175.582184             58611.527224            [player_1]   \n",
       "10               30261.156623             96185.982039            [player_1]   \n",
       "1                 3686.364548            128151.944751            [player_1]   \n",
       "3                15323.525387             46438.262994            [player_1]   \n",
       "5                16708.708813             26557.674358            [player_1]   \n",
       "18               41148.175205            145110.939719            [player_1]   \n",
       "6                44188.164327             52128.001709            [player_1]   \n",
       "\n",
       "    config/train_steps                                             logdir  \n",
       "21            99999999  /home/sergei/ray_results/adversarial_tune_fine...  \n",
       "15            99999999  /home/sergei/ray_results/adversarial_tune_fine...  \n",
       "11            99999999  /home/sergei/ray_results/adversarial_tune_fine...  \n",
       "26            99999999  /home/sergei/ray_results/adversarial_tune_fine...  \n",
       "2             99999999  /home/sergei/ray_results/adversarial_tune_fine...  \n",
       "7             99999999  /home/sergei/ray_results/adversarial_tune_fine...  \n",
       "28            99999999  /home/sergei/ray_results/adversarial_tune_fine...  \n",
       "8             99999999  /home/sergei/ray_results/adversarial_tune_fine...  \n",
       "16            99999999  /home/sergei/ray_results/adversarial_tune_fine...  \n",
       "17            99999999  /home/sergei/ray_results/adversarial_tune_fine...  \n",
       "29            99999999  /home/sergei/ray_results/adversarial_tune_fine...  \n",
       "0             99999999  /home/sergei/ray_results/adversarial_tune_fine...  \n",
       "25            99999999  /home/sergei/ray_results/adversarial_tune_fine...  \n",
       "27            99999999  /home/sergei/ray_results/adversarial_tune_fine...  \n",
       "22            99999999  /home/sergei/ray_results/adversarial_tune_fine...  \n",
       "13            99999999  /home/sergei/ray_results/adversarial_tune_fine...  \n",
       "9             99999999  /home/sergei/ray_results/adversarial_tune_fine...  \n",
       "24            99999999  /home/sergei/ray_results/adversarial_tune_fine...  \n",
       "19            99999999  /home/sergei/ray_results/adversarial_tune_fine...  \n",
       "4             99999999  /home/sergei/ray_results/adversarial_tune_fine...  \n",
       "20            99999999  /home/sergei/ray_results/adversarial_tune_fine...  \n",
       "23            99999999  /home/sergei/ray_results/adversarial_tune_fine...  \n",
       "12            99999999  /home/sergei/ray_results/adversarial_tune_fine...  \n",
       "14            99999999  /home/sergei/ray_results/adversarial_tune_fine...  \n",
       "10            99999999  /home/sergei/ray_results/adversarial_tune_fine...  \n",
       "1             99999999  /home/sergei/ray_results/adversarial_tune_fine...  \n",
       "3             99999999  /home/sergei/ray_results/adversarial_tune_fine...  \n",
       "5             99999999  /home/sergei/ray_results/adversarial_tune_fine...  \n",
       "18            99999999  /home/sergei/ray_results/adversarial_tune_fine...  \n",
       "6             99999999  /home/sergei/ray_results/adversarial_tune_fine...  "
      ]
     },
     "execution_count": 54,
     "metadata": {},
     "output_type": "execute_result"
    }
   ],
   "source": [
    "df"
   ]
  },
  {
   "cell_type": "code",
   "execution_count": 55,
   "metadata": {},
   "outputs": [
    {
     "data": {
      "text/plain": [
       "<matplotlib.lines.Line2D at 0x7f7fc462f5d0>"
      ]
     },
     "execution_count": 55,
     "metadata": {},
     "output_type": "execute_result"
    },
    {
     "data": {
      "image/png": "[encoded data removed]",
      "text/plain": [
       "<Figure size 432x288 with 1 Axes>"
      ]
     },
     "metadata": {
      "needs_background": "light"
     },
     "output_type": "display_data"
    }
   ],
   "source": [
    "df_best = analysis.trial_dataframes[best_trial]\n",
    "rew = df_best[target]\n",
    "plt.plot(rew)\n",
    "#imax = np.argmax(rew)\n",
    "imax = -1\n",
    "plt.axvline(imax)"
   ]
  },
  {
   "cell_type": "code",
   "execution_count": 56,
   "metadata": {},
   "outputs": [
    {
     "data": {
      "text/plain": [
       "'/home/sergei/ray_results/PPO_YouShallNotPassHumans-v0_rllib_2020-08-10_23-34-36u9w51ase/checkpoint_1061/checkpoint-1061'"
      ]
     },
     "execution_count": 56,
     "metadata": {},
     "output_type": "execute_result"
    }
   ],
   "source": [
    "checkpoint = df_best.checkpoint_rllib.iloc[imax]\n",
    "checkpoint"
   ]
  },
  {
   "cell_type": "code",
   "execution_count": 57,
   "metadata": {},
   "outputs": [
    {
     "name": "stdout",
     "output_type": "stream",
     "text": [
      "2020-08-17 07:37:48,051\tINFO resource_spec.py:212 -- Starting Ray with 136.18 GiB memory available for workers and up to 62.37 GiB for objects. You can adjust these settings with ray.init(memory=<bytes>, object_store_memory=<bytes>).\n",
      "2020-08-17 07:37:48,174\tWARNING services.py:923 -- Redis failed to start, retrying now.\n",
      "2020-08-17 07:37:48,445\tWARNING services.py:923 -- Redis failed to start, retrying now.\n",
      "2020-08-17 07:37:48,929\tINFO services.py:1165 -- View the Ray dashboard at \u001b[1m\u001b[32mlocalhost:8266\u001b[39m\u001b[22m\n",
      "Args: Namespace(checkpoint='/home/sergei/ray_results/PPO_YouShallNotPassHumans-v0_rllib_2020-08-10_23-34-36u9w51ase/checkpoint_1061/checkpoint-1061', load_normal=False, no_video=True, steps=50)\n",
      "Creating agent humanoid_blocker\n",
      "Reading agent XML from: /scratch/sergei/better-adversarial-defenses/multiagent-competition/gym_compete/new_envs/assets/humanoid_body.xml\n",
      "Creating agent humanoid\n",
      "Reading agent XML from: /scratch/sergei/better-adversarial-defenses/multiagent-competition/gym_compete/new_envs/assets/humanoid_body.xml\n",
      "Scene XML path: /scratch/sergei/better-adversarial-defenses/multiagent-competition/gym_compete/new_envs/assets/world_body.humanoid_body.humanoid_body.xml\n",
      "Created Scene with agents\n",
      "Creating env...\n",
      "Created env\n",
      "Creating agent humanoid_blocker\n",
      "Reading agent XML from: /scratch/sergei/better-adversarial-defenses/multiagent-competition/gym_compete/new_envs/assets/humanoid_body.xml\n",
      "Creating agent humanoid\n",
      "Reading agent XML from: /scratch/sergei/better-adversarial-defenses/multiagent-competition/gym_compete/new_envs/assets/humanoid_body.xml\n",
      "Scene XML path: /scratch/sergei/better-adversarial-defenses/multiagent-competition/gym_compete/new_envs/assets/world_body.humanoid_body.humanoid_body.xml\n",
      "Created Scene with agents\n",
      "Creating env...\n",
      "Created env\n",
      "Config {'env': 'YouShallNotPassHumans-v0_rllib', 'env_config': {'with_video': False}, 'use_gae': True, 'num_gpus': 0, 'batch_mode': 'complete_episodes', 'num_workers': 5, 'train_batch_size': 256, 'rollout_fragment_length': 200, 'multiagent': {'policies_to_train': [], 'policies': {'player_1': (<class 'ray.rllib.policy.tf_policy_template.PPOTFPolicy'>, Box(380,), Box(17,), {'model': {'use_lstm': False, 'fcnet_hiddens': [64, 64], 'fcnet_activation': 'tanh', 'free_log_std': True}, 'framework': 'tfe', 'observation_filter': 'MeanStdFilter'}), 'player_2': (<class 'ray.rllib.policy.tf_policy_template.PPOTFPolicy'>, Box(380,), Box(17,), {'model': {'custom_model': 'GymCompetePretrainedModel', 'custom_model_config': {'agent_id': 1, 'env_name': 'multicomp/YouShallNotPassHumans-v0', 'model_config': {}, 'name': 'model_1'}}, 'framework': 'tfe'})}, 'policy_mapping_fn': <function build_trainer_config.<locals>.select_policy at 0x7f688aef3710>}, 'framework': 'tfe', 'lr': 0, 'vf_loss_coeff': 0.5, 'gamma': 0.995, 'sgd_minibatch_size': 256, 'num_sgd_iter': 1, 'tf_session_args': {'intra_op_parallelism_threads': 32, 'inter_op_parallelism_threads': 32, 'gpu_options': {'allow_growth': True}, 'log_device_placement': True, 'device_count': {'CPU': 32}, 'allow_soft_placement': True}, 'local_tf_session_args': {'intra_op_parallelism_threads': 32, 'inter_op_parallelism_threads': 32}, 'kl_coeff': 1.0}\n",
      "2020-08-17 07:37:51,001\tINFO trainer.py:582 -- Executing eagerly, with eager_tracing=False\n",
      "2020-08-17 07:37:51,001\tINFO trainer.py:612 -- Current log_level is WARN. For more information, set 'log_level': 'INFO' / 'DEBUG' or use the -v and -vv flags.\n",
      "Creating agent humanoid_blocker\n",
      "Reading agent XML from: /scratch/sergei/better-adversarial-defenses/multiagent-competition/gym_compete/new_envs/assets/humanoid_body.xml\n",
      "Creating agent humanoid\n",
      "Reading agent XML from: /scratch/sergei/better-adversarial-defenses/multiagent-competition/gym_compete/new_envs/assets/humanoid_body.xml\n",
      "Scene XML path: /scratch/sergei/better-adversarial-defenses/multiagent-competition/gym_compete/new_envs/assets/world_body.humanoid_body.humanoid_body.xml\n",
      "Created Scene with agents\n",
      "Creating env...\n",
      "Created env\n",
      "WARNING:tensorflow:\n",
      "The following Variables were used a Lambda layer's call (lambda), but\n",
      "are not present in its tracked objects:\n",
      "  <tf.Variable 'player_1/log_std:0' shape=(17,) dtype=float32>\n",
      "It is possible that this is intended behavior, but it is more likely\n",
      "an omission. This is a strong indication that this layer should be\n",
      "formulated as a subclassed Layer rather than a Lambda layer.\n",
      "WARNING:tensorflow:From /scratch/sergei/miniconda3/lib/python3.7/site-packages/ray/rllib/models/tf/tf_action_dist.py:234: to_float (from tensorflow.python.ops.math_ops) is deprecated and will be removed in a future version.\n",
      "Instructions for updating:\n",
      "Use `tf.cast` instead.\n",
      "Creating agent humanoid_blocker\n",
      "Reading agent XML from: /scratch/sergei/better-adversarial-defenses/multiagent-competition/gym_compete/new_envs/assets/humanoid_body.xml\n",
      "Creating agent humanoid\n",
      "Reading agent XML from: /scratch/sergei/better-adversarial-defenses/multiagent-competition/gym_compete/new_envs/assets/humanoid_body.xml\n",
      "Scene XML path: /scratch/sergei/better-adversarial-defenses/multiagent-competition/gym_compete/new_envs/assets/world_body.humanoid_body.humanoid_body.xml\n",
      "Created Scene with agents\n",
      "2020-08-17 07:37:52,364\tINFO trainable.py:423 -- Restored on 128.32.175.10 from checkpoint: /home/sergei/ray_results/PPO_YouShallNotPassHumans-v0_rllib_2020-08-10_23-34-36u9w51ase/checkpoint_1061/checkpoint-1061\n",
      "2020-08-17 07:37:52,365\tINFO trainable.py:430 -- Current state after restoring: {'_iteration': 1061, '_timesteps_total': None, '_time_total': 383246.96654725075, '_episodes_total': 320693}\n",
      "  0%|                                                    | 0/50 [00:00<?, ?it/s]WARNING:tensorflow:From /scratch/sergei/miniconda3/lib/python3.7/site-packages/ray/rllib/policy/tf_policy.py:761: Variable.load (from tensorflow.python.ops.variables) is deprecated and will be removed in a future version.\n",
      "Instructions for updating:\n",
      "Prefer Variable.assign which has equivalent behavior in 2.X.\n",
      "[10.0, 10.0, 10.0, 10.0, 10.0, 10.0, 10.0, 10.0, 10.0, -10.0]\n",
      "  2%|▉                                           | 1/50 [00:13<11:14, 13.76s/it][10.0, 10.0, -10.0, 10.0, 10.0, 10.0, 10.0, 10.0, 10.0, 10.0, 10.0, 10.0, 10.0, 10.0, 10.0, 10.0, 10.0, 10.0, 10.0, 10.0, -10.0]\n",
      "  4%|█▊                                          | 2/50 [00:24<10:20, 12.93s/it][10.0, -10.0, 10.0, -10.0, 10.0, 10.0, 10.0, 10.0, 10.0, 10.0, -10.0, 10.0, 10.0, 10.0, 10.0, 10.0, 10.0, 10.0, 10.0, 10.0, -10.0, 10.0, 10.0, -10.0, 10.0, 10.0, 10.0, 10.0, 10.0, 10.0, 10.0, 10.0]\n",
      "  6%|██▋                                         | 3/50 [00:35<09:37, 12.30s/it][10.0, -10.0, 10.0, 10.0, 10.0, -10.0, -10.0, 10.0, 10.0, 10.0, 10.0, 10.0, 10.0, 10.0, 10.0, 10.0, 10.0, 10.0, 10.0, -10.0, 10.0, 10.0, -10.0, 10.0, 10.0, 10.0, 10.0, 10.0, 10.0, 10.0, 10.0, 10.0, -10.0, 10.0, -10.0, 10.0, 10.0, 10.0, 10.0, 10.0, 10.0, -10.0]\n",
      "  8%|███▌                                        | 4/50 [00:45<08:58, 11.71s/it][10.0, 10.0, 10.0, 10.0, 10.0, 10.0, -10.0, 10.0, -10.0, 10.0, 10.0, 10.0, 10.0, 10.0, 10.0, 10.0, 10.0, 10.0, 10.0, 10.0, -10.0, 10.0, 10.0, -10.0, 10.0, 10.0, 10.0, 10.0, 10.0, 10.0, 10.0, 10.0, 10.0, -10.0, 10.0, -10.0, 10.0, 10.0, 10.0, 10.0, 10.0, 10.0, -10.0, 10.0, -10.0, 10.0, 10.0, 10.0, -10.0, -10.0, 10.0, 10.0, 10.0]\n",
      " 10%|████▍                                       | 5/50 [00:54<07:58, 10.63s/it][10.0, 10.0, -10.0, 10.0, 10.0, 10.0, 10.0, 10.0, 10.0, 10.0, -10.0, 10.0, 10.0, 10.0, 10.0, 10.0, 10.0, 10.0, 10.0, 10.0, -10.0, 10.0, 10.0, -10.0, 10.0, 10.0, 10.0, 10.0, 10.0, 10.0, 10.0, 10.0, 10.0, -10.0, 10.0, -10.0, 10.0, 10.0, 10.0, 10.0, 10.0, 10.0, -10.0, 10.0, -10.0, 10.0, 10.0, 10.0, -10.0, -10.0, 10.0, 10.0, 10.0, 10.0, 10.0, 10.0, 10.0, 10.0, 10.0, -10.0, 10.0, -10.0, 10.0, 10.0]\n",
      " 12%|█████▎                                      | 6/50 [01:03<07:27, 10.18s/it][10.0, 10.0, 10.0, 10.0, -10.0, 10.0, 10.0, 10.0, 10.0, 10.0, 10.0, 10.0, 10.0, 10.0, 10.0, 10.0, 10.0, 10.0, -10.0, 10.0, 10.0, -10.0, 10.0, 10.0, 10.0, 10.0, 10.0, 10.0, 10.0, 10.0, 10.0, -10.0, 10.0, -10.0, 10.0, 10.0, 10.0, 10.0, 10.0, 10.0, -10.0, 10.0, -10.0, 10.0, 10.0, 10.0, -10.0, -10.0, 10.0, 10.0, 10.0, 10.0, 10.0, 10.0, 10.0, 10.0, 10.0, -10.0, 10.0, -10.0, 10.0, 10.0, 10.0, 10.0, -10.0, 10.0, 10.0, 10.0, 10.0, 10.0, 10.0, 10.0, -10.0]\n",
      " 14%|██████▏                                     | 7/50 [01:11<06:51,  9.57s/it][-10.0, -10.0, -10.0, 10.0, 10.0, 10.0, 10.0, 10.0, 10.0, 10.0, 10.0, 10.0, 10.0, 10.0, 10.0, 10.0, 10.0, 10.0, -10.0, 10.0, 10.0, -10.0, 10.0, 10.0, 10.0, 10.0, 10.0, 10.0, 10.0, 10.0, 10.0, -10.0, 10.0, -10.0, 10.0, 10.0, 10.0, 10.0, 10.0, 10.0, -10.0, 10.0, -10.0, 10.0, 10.0, 10.0, -10.0, -10.0, 10.0, 10.0, 10.0, 10.0, 10.0, 10.0, 10.0, 10.0, 10.0, -10.0, 10.0, -10.0, 10.0, 10.0, 10.0, 10.0, -10.0, 10.0, 10.0, 10.0, 10.0, 10.0, 10.0, 10.0, -10.0, 10.0, 10.0, 10.0, 10.0, -10.0, 10.0, 10.0, 10.0, 10.0]\n",
      " 16%|███████                                     | 8/50 [01:22<06:58,  9.96s/it][10.0, -10.0, 10.0, 10.0, 10.0, 10.0, 10.0, 10.0, 10.0, 10.0, 10.0, -10.0, 10.0, 10.0, 10.0, 10.0, 10.0, 10.0, 10.0, 10.0, 10.0, -10.0, 10.0, 10.0, -10.0, 10.0, 10.0, 10.0, 10.0, 10.0, 10.0, 10.0, 10.0, 10.0, -10.0, 10.0, -10.0, 10.0, 10.0, 10.0, 10.0, 10.0, 10.0, -10.0, 10.0, -10.0, 10.0, 10.0, 10.0, -10.0, -10.0, 10.0, 10.0, 10.0, 10.0, 10.0, 10.0, 10.0, 10.0, 10.0, -10.0, 10.0, -10.0, 10.0, 10.0, 10.0, 10.0, -10.0, 10.0, 10.0, 10.0, 10.0, 10.0, 10.0, 10.0, -10.0, 10.0, 10.0, 10.0, 10.0, -10.0, 10.0, 10.0, 10.0, 10.0, -10.0, -10.0, -10.0, 10.0, 10.0, 10.0, 10.0, 10.0, 10.0]\n",
      " 18%|███████▉                                    | 9/50 [01:34<07:14, 10.60s/it][-10.0, 10.0, -10.0, 10.0, -10.0, 10.0, -10.0, 10.0, 10.0, 10.0, 10.0, 10.0, 10.0, 10.0, 10.0, -10.0, 10.0, 10.0, -10.0, 10.0, 10.0, 10.0, 10.0, 10.0, 10.0, 10.0, 10.0, 10.0, -10.0, 10.0, -10.0, 10.0, 10.0, 10.0, 10.0, 10.0, 10.0, -10.0, 10.0, -10.0, 10.0, 10.0, 10.0, -10.0, -10.0, 10.0, 10.0, 10.0, 10.0, 10.0, 10.0, 10.0, 10.0, 10.0, -10.0, 10.0, -10.0, 10.0, 10.0, 10.0, 10.0, -10.0, 10.0, 10.0, 10.0, 10.0, 10.0, 10.0, 10.0, -10.0, 10.0, 10.0, 10.0, 10.0, -10.0, 10.0, 10.0, 10.0, 10.0, -10.0, -10.0, -10.0, 10.0, 10.0, 10.0, 10.0, 10.0, 10.0, 10.0, -10.0, 10.0, 10.0, 10.0, 10.0, 10.0, 10.0, 10.0, 10.0, 10.0, -10.0]\n",
      " 20%|████████▌                                  | 10/50 [01:43<06:52, 10.30s/it][10.0, -10.0, 10.0, 10.0, 10.0, -10.0, -10.0, 10.0, 10.0, -10.0, 10.0, 10.0, 10.0, 10.0, 10.0, 10.0, 10.0, 10.0, -10.0, 10.0, -10.0, 10.0, 10.0, 10.0, 10.0, 10.0, 10.0, -10.0, 10.0, -10.0, 10.0, 10.0, 10.0, -10.0, -10.0, 10.0, 10.0, 10.0, 10.0, 10.0, 10.0, 10.0, 10.0, 10.0, -10.0, 10.0, -10.0, 10.0, 10.0, 10.0, 10.0, -10.0, 10.0, 10.0, 10.0, 10.0, 10.0, 10.0, 10.0, -10.0, 10.0, 10.0, 10.0, 10.0, -10.0, 10.0, 10.0, 10.0, 10.0, -10.0, -10.0, -10.0, 10.0, 10.0, 10.0, 10.0, 10.0, 10.0, 10.0, -10.0, 10.0, 10.0, 10.0, 10.0, 10.0, 10.0, 10.0, 10.0, 10.0, -10.0, -10.0, 10.0, -10.0, 10.0, -10.0, 10.0, -10.0, 10.0, 10.0, 10.0]\n",
      " 22%|█████████▍                                 | 11/50 [01:53<06:30, 10.03s/it][-10.0, 10.0, 10.0, 10.0, 10.0, 10.0, -10.0, 10.0, 10.0, 10.0, -10.0, 10.0, 10.0, 10.0, 10.0, 10.0, 10.0, -10.0, 10.0, -10.0, 10.0, 10.0, 10.0, -10.0, -10.0, 10.0, 10.0, 10.0, 10.0, 10.0, 10.0, 10.0, 10.0, 10.0, -10.0, 10.0, -10.0, 10.0, 10.0, 10.0, 10.0, -10.0, 10.0, 10.0, 10.0, 10.0, 10.0, 10.0, 10.0, -10.0, 10.0, 10.0, 10.0, 10.0, -10.0, 10.0, 10.0, 10.0, 10.0, -10.0, -10.0, -10.0, 10.0, 10.0, 10.0, 10.0, 10.0, 10.0, 10.0, -10.0, 10.0, 10.0, 10.0, 10.0, 10.0, 10.0, 10.0, 10.0, 10.0, -10.0, -10.0, 10.0, -10.0, 10.0, -10.0, 10.0, -10.0, 10.0, 10.0, 10.0, 10.0, -10.0, 10.0, 10.0, 10.0, -10.0, -10.0, 10.0, 10.0, -10.0]\n",
      " 24%|██████████▎                                | 12/50 [02:01<06:02,  9.54s/it][-10.0, 10.0, 10.0, 10.0, 10.0, 10.0, -10.0, 10.0, 10.0, 10.0, -10.0, 10.0, 10.0, -10.0, -10.0, 10.0, 10.0, 10.0, 10.0, 10.0, 10.0, 10.0, 10.0, 10.0, -10.0, 10.0, -10.0, 10.0, 10.0, 10.0, 10.0, -10.0, 10.0, 10.0, 10.0, 10.0, 10.0, 10.0, 10.0, -10.0, 10.0, 10.0, 10.0, 10.0, -10.0, 10.0, 10.0, 10.0, 10.0, -10.0, -10.0, -10.0, 10.0, 10.0, 10.0, 10.0, 10.0, 10.0, 10.0, -10.0, 10.0, 10.0, 10.0, 10.0, 10.0, 10.0, 10.0, 10.0, 10.0, -10.0, -10.0, 10.0, -10.0, 10.0, -10.0, 10.0, -10.0, 10.0, 10.0, 10.0, 10.0, -10.0, 10.0, 10.0, 10.0, -10.0, -10.0, 10.0, 10.0, -10.0, -10.0, 10.0, 10.0, 10.0, 10.0, 10.0, -10.0, 10.0, 10.0, 10.0]\n",
      " 26%|███████████▏                               | 13/50 [02:09<05:37,  9.11s/it][10.0, 10.0, 10.0, 10.0, -10.0, 10.0, 10.0, 10.0, 10.0, 10.0, 10.0, 10.0, 10.0, 10.0, -10.0, 10.0, 10.0, 10.0, 10.0, -10.0, 10.0, 10.0, 10.0, 10.0, 10.0, 10.0, 10.0, -10.0, 10.0, 10.0, 10.0, 10.0, -10.0, 10.0, 10.0, 10.0, 10.0, -10.0, -10.0, -10.0, 10.0, 10.0, 10.0, 10.0, 10.0, 10.0, 10.0, -10.0, 10.0, 10.0, 10.0, 10.0, 10.0, 10.0, 10.0, 10.0, 10.0, -10.0, -10.0, 10.0, -10.0, 10.0, -10.0, 10.0, -10.0, 10.0, 10.0, 10.0, 10.0, -10.0, 10.0, 10.0, 10.0, -10.0, -10.0, 10.0, 10.0, -10.0, -10.0, 10.0, 10.0, 10.0, 10.0, 10.0, -10.0, 10.0, 10.0, 10.0, -10.0, 10.0, 10.0, 10.0, 10.0, 10.0, -10.0, 10.0, 10.0, 10.0, -10.0, 10.0]\n",
      " 28%|████████████                               | 14/50 [02:20<05:44,  9.57s/it][10.0, -10.0, 10.0, 10.0, 10.0, 10.0, -10.0, -10.0, 10.0, -10.0, 10.0, 10.0, 10.0, 10.0, -10.0, 10.0, 10.0, 10.0, 10.0, -10.0, 10.0, 10.0, 10.0, 10.0, -10.0, -10.0, -10.0, 10.0, 10.0, 10.0, 10.0, 10.0, 10.0, 10.0, -10.0, 10.0, 10.0, 10.0, 10.0, 10.0, 10.0, 10.0, 10.0, 10.0, -10.0, -10.0, 10.0, -10.0, 10.0, -10.0, 10.0, -10.0, 10.0, 10.0, 10.0, 10.0, -10.0, 10.0, 10.0, 10.0, -10.0, -10.0, 10.0, 10.0, -10.0, -10.0, 10.0, 10.0, 10.0, 10.0, 10.0, -10.0, 10.0, 10.0, 10.0, -10.0, 10.0, 10.0, 10.0, 10.0, 10.0, -10.0, 10.0, 10.0, 10.0, -10.0, 10.0, 10.0, 10.0, 10.0, 10.0, -10.0, 10.0, 10.0, 10.0, 10.0, 10.0, 10.0, 10.0, 10.0]\n",
      " 30%|████████████▉                              | 15/50 [02:31<05:50, 10.00s/it][10.0, 10.0, 10.0, 10.0, 10.0, 10.0, 10.0, 10.0, 10.0, 10.0, 10.0, 10.0, 10.0, 10.0, -10.0, -10.0, -10.0, 10.0, 10.0, 10.0, 10.0, 10.0, 10.0, 10.0, -10.0, 10.0, 10.0, 10.0, 10.0, 10.0, 10.0, 10.0, 10.0, 10.0, -10.0, -10.0, 10.0, -10.0, 10.0, -10.0, 10.0, -10.0, 10.0, 10.0, 10.0, 10.0, -10.0, 10.0, 10.0, 10.0, -10.0, -10.0, 10.0, 10.0, -10.0, -10.0, 10.0, 10.0, 10.0, 10.0, 10.0, -10.0, 10.0, 10.0, 10.0, -10.0, 10.0, 10.0, 10.0, 10.0, 10.0, -10.0, 10.0, 10.0, 10.0, -10.0, 10.0, 10.0, 10.0, 10.0, 10.0, -10.0, 10.0, 10.0, 10.0, 10.0, 10.0, 10.0, 10.0, 10.0, 10.0, -10.0, 10.0, 10.0, 10.0, 10.0, -10.0, -10.0, 10.0, -10.0]\n",
      " 32%|█████████████▊                             | 16/50 [02:38<05:06,  9.02s/it][10.0, 10.0, -10.0, 10.0, 10.0, 10.0, 10.0, 10.0, 10.0, 10.0, -10.0, 10.0, -10.0, 10.0, 10.0, 10.0, 10.0, 10.0, 10.0, 10.0, 10.0, 10.0, -10.0, -10.0, 10.0, -10.0, 10.0, -10.0, 10.0, -10.0, 10.0, 10.0, 10.0, 10.0, -10.0, 10.0, 10.0, 10.0, -10.0, -10.0, 10.0, 10.0, -10.0, -10.0, 10.0, 10.0, 10.0, 10.0, 10.0, -10.0, 10.0, 10.0, 10.0, -10.0, 10.0, 10.0, 10.0, 10.0, 10.0, -10.0, 10.0, 10.0, 10.0, -10.0, 10.0, 10.0, 10.0, 10.0, 10.0, -10.0, 10.0, 10.0, 10.0, 10.0, 10.0, 10.0, 10.0, 10.0, 10.0, -10.0, 10.0, 10.0, 10.0, 10.0, -10.0, -10.0, 10.0, -10.0, 10.0, 10.0, 10.0, 10.0, 10.0, 10.0, 10.0, 10.0, 10.0, 10.0, 10.0, 10.0]\n",
      " 34%|██████████████▌                            | 17/50 [02:47<05:02,  9.17s/it][10.0, 10.0, -10.0, 10.0, -10.0, -10.0, 10.0, -10.0, 10.0, 10.0, 10.0, -10.0, 10.0, -10.0, 10.0, -10.0, 10.0, -10.0, 10.0, 10.0, 10.0, 10.0, -10.0, 10.0, 10.0, 10.0, -10.0, -10.0, 10.0, 10.0, -10.0, -10.0, 10.0, 10.0, 10.0, 10.0, 10.0, -10.0, 10.0, 10.0, 10.0, -10.0, 10.0, 10.0, 10.0, 10.0, 10.0, -10.0, 10.0, 10.0, 10.0, -10.0, 10.0, 10.0, 10.0, 10.0, 10.0, -10.0, 10.0, 10.0, 10.0, 10.0, 10.0, 10.0, 10.0, 10.0, 10.0, -10.0, 10.0, 10.0, 10.0, 10.0, -10.0, -10.0, 10.0, -10.0, 10.0, 10.0, 10.0, 10.0, 10.0, 10.0, 10.0, 10.0, 10.0, 10.0, 10.0, 10.0, 10.0, 10.0, -10.0, 10.0, 10.0, 10.0, 10.0, 10.0, 10.0, 10.0, -10.0, 10.0]\n",
      " 36%|███████████████▍                           | 18/50 [02:57<05:01,  9.43s/it][-10.0, 10.0, 10.0, 10.0, 10.0, 10.0, 10.0, 10.0, 10.0, 10.0, 10.0, -10.0, 10.0, 10.0, 10.0, -10.0, -10.0, 10.0, 10.0, -10.0, -10.0, 10.0, 10.0, 10.0, 10.0, 10.0, -10.0, 10.0, 10.0, 10.0, -10.0, 10.0, 10.0, 10.0, 10.0, 10.0, -10.0, 10.0, 10.0, 10.0, -10.0, 10.0, 10.0, 10.0, 10.0, 10.0, -10.0, 10.0, 10.0, 10.0, 10.0, 10.0, 10.0, 10.0, 10.0, 10.0, -10.0, 10.0, 10.0, 10.0, 10.0, -10.0, -10.0, 10.0, -10.0, 10.0, 10.0, 10.0, 10.0, 10.0, 10.0, 10.0, 10.0, 10.0, 10.0, 10.0, 10.0, 10.0, 10.0, -10.0, 10.0, 10.0, 10.0, 10.0, 10.0, 10.0, 10.0, -10.0, 10.0, 10.0, 10.0, -10.0, 10.0, -10.0, -10.0, 10.0, -10.0, 10.0, 10.0, 10.0]\n",
      " 38%|████████████████▎                          | 19/50 [03:06<04:47,  9.27s/it][-10.0, 10.0, -10.0, -10.0, -10.0, 10.0, 10.0, 10.0, 10.0, 10.0, 10.0, 10.0, 10.0, 10.0, 10.0, 10.0, -10.0, 10.0, 10.0, 10.0, -10.0, 10.0, 10.0, 10.0, 10.0, 10.0, -10.0, 10.0, 10.0, 10.0, -10.0, 10.0, 10.0, 10.0, 10.0, 10.0, -10.0, 10.0, 10.0, 10.0, 10.0, 10.0, 10.0, 10.0, 10.0, 10.0, -10.0, 10.0, 10.0, 10.0, 10.0, -10.0, -10.0, 10.0, -10.0, 10.0, 10.0, 10.0, 10.0, 10.0, 10.0, 10.0, 10.0, 10.0, 10.0, 10.0, 10.0, 10.0, 10.0, -10.0, 10.0, 10.0, 10.0, 10.0, 10.0, 10.0, 10.0, -10.0, 10.0, 10.0, 10.0, -10.0, 10.0, -10.0, -10.0, 10.0, -10.0, 10.0, 10.0, 10.0, -10.0, 10.0, 10.0, 10.0, 10.0, 10.0, 10.0, 10.0, 10.0, 10.0]\n",
      " 40%|█████████████████▏                         | 20/50 [03:15<04:38,  9.28s/it][10.0, 10.0, 10.0, -10.0, 10.0, 10.0, 10.0, 10.0, 10.0, 10.0, -10.0, 10.0, 10.0, 10.0, 10.0, -10.0, 10.0, 10.0, 10.0, -10.0, 10.0, 10.0, 10.0, 10.0, 10.0, -10.0, 10.0, 10.0, 10.0, 10.0, 10.0, 10.0, 10.0, 10.0, 10.0, -10.0, 10.0, 10.0, 10.0, 10.0, -10.0, -10.0, 10.0, -10.0, 10.0, 10.0, 10.0, 10.0, 10.0, 10.0, 10.0, 10.0, 10.0, 10.0, 10.0, 10.0, 10.0, 10.0, -10.0, 10.0, 10.0, 10.0, 10.0, 10.0, 10.0, 10.0, -10.0, 10.0, 10.0, 10.0, -10.0, 10.0, -10.0, -10.0, 10.0, -10.0, 10.0, 10.0, 10.0, -10.0, 10.0, 10.0, 10.0, 10.0, 10.0, 10.0, 10.0, 10.0, 10.0, -10.0, 10.0, -10.0, -10.0, -10.0, 10.0, 10.0, 10.0, 10.0, 10.0, 10.0]\n",
      " 42%|██████████████████                         | 21/50 [03:24<04:19,  8.94s/it][10.0, 10.0, -10.0, 10.0, 10.0, 10.0, 10.0, -10.0, 10.0, 10.0, -10.0, 10.0, 10.0, 10.0, -10.0, 10.0, 10.0, 10.0, 10.0, 10.0, 10.0, 10.0, 10.0, 10.0, -10.0, 10.0, 10.0, 10.0, 10.0, -10.0, -10.0, 10.0, -10.0, 10.0, 10.0, 10.0, 10.0, 10.0, 10.0, 10.0, 10.0, 10.0, 10.0, 10.0, 10.0, 10.0, 10.0, -10.0, 10.0, 10.0, 10.0, 10.0, 10.0, 10.0, 10.0, -10.0, 10.0, 10.0, 10.0, -10.0, 10.0, -10.0, -10.0, 10.0, -10.0, 10.0, 10.0, 10.0, -10.0, 10.0, 10.0, 10.0, 10.0, 10.0, 10.0, 10.0, 10.0, 10.0, -10.0, 10.0, -10.0, -10.0, -10.0, 10.0, 10.0, 10.0, 10.0, 10.0, 10.0, 10.0, 10.0, 10.0, -10.0, 10.0, 10.0, 10.0, 10.0, 10.0, 10.0, -10.0]\n",
      " 44%|██████████████████▉                        | 22/50 [03:32<04:09,  8.91s/it][10.0, 10.0, -10.0, -10.0, 10.0, 10.0, 10.0, 10.0, 10.0, 10.0, 10.0, 10.0, 10.0, -10.0, 10.0, 10.0, 10.0, 10.0, -10.0, -10.0, 10.0, -10.0, 10.0, 10.0, 10.0, 10.0, 10.0, 10.0, 10.0, 10.0, 10.0, 10.0, 10.0, 10.0, 10.0, 10.0, -10.0, 10.0, 10.0, 10.0, 10.0, 10.0, 10.0, 10.0, -10.0, 10.0, 10.0, 10.0, -10.0, 10.0, -10.0, -10.0, 10.0, -10.0, 10.0, 10.0, 10.0, -10.0, 10.0, 10.0, 10.0, 10.0, 10.0, 10.0, 10.0, 10.0, 10.0, -10.0, 10.0, -10.0, -10.0, -10.0, 10.0, 10.0, 10.0, 10.0, 10.0, 10.0, 10.0, 10.0, 10.0, -10.0, 10.0, 10.0, 10.0, 10.0, 10.0, 10.0, -10.0, 10.0, 10.0, -10.0, 10.0, 10.0, 10.0, 10.0, -10.0, 10.0, 10.0, -10.0]\n",
      " 46%|███████████████████▊                       | 23/50 [03:41<03:55,  8.72s/it][10.0, 10.0, 10.0, 10.0, -10.0, -10.0, 10.0, 10.0, -10.0, 10.0, 10.0, -10.0, 10.0, -10.0, 10.0, 10.0, 10.0, 10.0, 10.0, 10.0, 10.0, 10.0, 10.0, 10.0, 10.0, 10.0, 10.0, 10.0, -10.0, 10.0, 10.0, 10.0, 10.0, 10.0, 10.0, 10.0, -10.0, 10.0, 10.0, 10.0, -10.0, 10.0, -10.0, -10.0, 10.0, -10.0, 10.0, 10.0, 10.0, -10.0, 10.0, 10.0, 10.0, 10.0, 10.0, 10.0, 10.0, 10.0, 10.0, -10.0, 10.0, -10.0, -10.0, -10.0, 10.0, 10.0, 10.0, 10.0, 10.0, 10.0, 10.0, 10.0, 10.0, -10.0, 10.0, 10.0, 10.0, 10.0, 10.0, 10.0, -10.0, 10.0, 10.0, -10.0, 10.0, 10.0, 10.0, 10.0, -10.0, 10.0, 10.0, -10.0, 10.0, 10.0, -10.0, -10.0, 10.0, 10.0, 10.0, 10.0]\n",
      " 48%|████████████████████▋                      | 24/50 [03:51<04:00,  9.25s/it][10.0, -10.0, 10.0, -10.0, 10.0, -10.0, 10.0, 10.0, 10.0, -10.0, 10.0, 10.0, 10.0, 10.0, 10.0, 10.0, 10.0, -10.0, 10.0, 10.0, 10.0, 10.0, 10.0, 10.0, 10.0, -10.0, 10.0, 10.0, 10.0, -10.0, 10.0, -10.0, -10.0, 10.0, -10.0, 10.0, 10.0, 10.0, -10.0, 10.0, 10.0, 10.0, 10.0, 10.0, 10.0, 10.0, 10.0, 10.0, -10.0, 10.0, -10.0, -10.0, -10.0, 10.0, 10.0, 10.0, 10.0, 10.0, 10.0, 10.0, 10.0, 10.0, -10.0, 10.0, 10.0, 10.0, 10.0, 10.0, 10.0, -10.0, 10.0, 10.0, -10.0, 10.0, 10.0, 10.0, 10.0, -10.0, 10.0, 10.0, -10.0, 10.0, 10.0, -10.0, -10.0, 10.0, 10.0, 10.0, 10.0, 10.0, 10.0, 10.0, 10.0, -10.0, -10.0, 10.0, 10.0, -10.0, 10.0, 10.0]\n",
      " 50%|█████████████████████▌                     | 25/50 [04:00<03:50,  9.23s/it][-10.0, -10.0, -10.0, 10.0, 10.0, 10.0, 10.0, 10.0, 10.0, 10.0, 10.0, 10.0, 10.0, 10.0, 10.0, -10.0, 10.0, 10.0, 10.0, -10.0, 10.0, -10.0, -10.0, 10.0, -10.0, 10.0, 10.0, 10.0, -10.0, 10.0, 10.0, 10.0, 10.0, 10.0, 10.0, 10.0, 10.0, 10.0, -10.0, 10.0, -10.0, -10.0, -10.0, 10.0, 10.0, 10.0, 10.0, 10.0, 10.0, 10.0, 10.0, 10.0, -10.0, 10.0, 10.0, 10.0, 10.0, 10.0, 10.0, -10.0, 10.0, 10.0, -10.0, 10.0, 10.0, 10.0, 10.0, -10.0, 10.0, 10.0, -10.0, 10.0, 10.0, -10.0, -10.0, 10.0, 10.0, 10.0, 10.0, 10.0, 10.0, 10.0, 10.0, -10.0, -10.0, 10.0, 10.0, -10.0, 10.0, 10.0, 10.0, -10.0, 10.0, -10.0, 10.0, -10.0, 10.0, 10.0, 10.0, -10.0]\n",
      " 52%|██████████████████████▎                    | 26/50 [04:09<03:40,  9.19s/it][10.0, 10.0, 10.0, 10.0, 10.0, 10.0, 10.0, 10.0, -10.0, -10.0, -10.0, 10.0, -10.0, -10.0, 10.0, -10.0, 10.0, 10.0, 10.0, -10.0, 10.0, 10.0, 10.0, 10.0, 10.0, 10.0, 10.0, 10.0, 10.0, -10.0, 10.0, -10.0, -10.0, -10.0, 10.0, 10.0, 10.0, 10.0, 10.0, 10.0, 10.0, 10.0, 10.0, -10.0, 10.0, 10.0, 10.0, 10.0, 10.0, 10.0, -10.0, 10.0, 10.0, -10.0, 10.0, 10.0, 10.0, 10.0, -10.0, 10.0, 10.0, -10.0, 10.0, 10.0, -10.0, -10.0, 10.0, 10.0, 10.0, 10.0, 10.0, 10.0, 10.0, 10.0, -10.0, -10.0, 10.0, 10.0, -10.0, 10.0, 10.0, 10.0, -10.0, 10.0, -10.0, 10.0, -10.0, 10.0, 10.0, 10.0, -10.0, -10.0, -10.0, -10.0, 10.0, 10.0, 10.0, 10.0, 10.0, 10.0]\n",
      " 54%|███████████████████████▏                   | 27/50 [04:17<03:23,  8.84s/it][10.0, 10.0, 10.0, 10.0, 10.0, -10.0, 10.0, 10.0, 10.0, 10.0, -10.0, 10.0, 10.0, 10.0, 10.0, 10.0, 10.0, 10.0, 10.0, -10.0, 10.0, -10.0, -10.0, -10.0, 10.0, 10.0, 10.0, 10.0, 10.0, 10.0, 10.0, 10.0, 10.0, -10.0, 10.0, 10.0, 10.0, 10.0, 10.0, 10.0, -10.0, 10.0, 10.0, -10.0, 10.0, 10.0, 10.0, 10.0, -10.0, 10.0, 10.0, -10.0, 10.0, 10.0, -10.0, -10.0, 10.0, 10.0, 10.0, 10.0, 10.0, 10.0, 10.0, 10.0, -10.0, -10.0, 10.0, 10.0, -10.0, 10.0, 10.0, 10.0, -10.0, 10.0, -10.0, 10.0, -10.0, 10.0, 10.0, 10.0, -10.0, -10.0, -10.0, -10.0, 10.0, 10.0, 10.0, 10.0, 10.0, 10.0, 10.0, 10.0, 10.0, 10.0, 10.0, 10.0, 10.0, 10.0, -10.0, -10.0]\n",
      " 56%|████████████████████████                   | 28/50 [04:26<03:14,  8.84s/it][10.0, 10.0, 10.0, 10.0, 10.0, 10.0, 10.0, 10.0, -10.0, 10.0, 10.0, -10.0, -10.0, 10.0, 10.0, 10.0, 10.0, 10.0, 10.0, 10.0, 10.0, 10.0, -10.0, 10.0, 10.0, 10.0, 10.0, 10.0, 10.0, -10.0, 10.0, 10.0, -10.0, 10.0, 10.0, 10.0, 10.0, -10.0, 10.0, 10.0, -10.0, 10.0, 10.0, -10.0, -10.0, 10.0, 10.0, 10.0, 10.0, 10.0, 10.0, 10.0, 10.0, -10.0, -10.0, 10.0, 10.0, -10.0, 10.0, 10.0, 10.0, -10.0, 10.0, -10.0, 10.0, -10.0, 10.0, 10.0, 10.0, -10.0, -10.0, -10.0, -10.0, 10.0, 10.0, 10.0, 10.0, 10.0, 10.0, 10.0, 10.0, 10.0, 10.0, 10.0, 10.0, 10.0, 10.0, -10.0, -10.0, 10.0, 10.0, 10.0, 10.0, 10.0, -10.0, 10.0, 10.0, 10.0, 10.0, -10.0]\n",
      " 58%|████████████████████████▉                  | 29/50 [04:34<02:58,  8.49s/it][10.0, 10.0, 10.0, 10.0, -10.0, 10.0, 10.0, 10.0, 10.0, 10.0, 10.0, -10.0, 10.0, 10.0, 10.0, 10.0, 10.0, 10.0, -10.0, 10.0, 10.0, -10.0, 10.0, 10.0, 10.0, 10.0, -10.0, 10.0, 10.0, -10.0, 10.0, 10.0, -10.0, -10.0, 10.0, 10.0, 10.0, 10.0, 10.0, 10.0, 10.0, 10.0, -10.0, -10.0, 10.0, 10.0, -10.0, 10.0, 10.0, 10.0, -10.0, 10.0, -10.0, 10.0, -10.0, 10.0, 10.0, 10.0, -10.0, -10.0, -10.0, -10.0, 10.0, 10.0, 10.0, 10.0, 10.0, 10.0, 10.0, 10.0, 10.0, 10.0, 10.0, 10.0, 10.0, 10.0, -10.0, -10.0, 10.0, 10.0, 10.0, 10.0, 10.0, -10.0, 10.0, 10.0, 10.0, 10.0, -10.0, 10.0, 10.0, 10.0, 10.0, 10.0, 10.0, 10.0, 10.0, -10.0, 10.0, 10.0]\n",
      " 60%|█████████████████████████▊                 | 30/50 [04:41<02:42,  8.11s/it][-10.0, -10.0, 10.0, 10.0, -10.0, 10.0, 10.0, 10.0, -10.0, -10.0, 10.0, -10.0, 10.0, 10.0, 10.0, 10.0, -10.0, 10.0, 10.0, -10.0, 10.0, 10.0, -10.0, -10.0, 10.0, 10.0, 10.0, 10.0, 10.0, 10.0, 10.0, 10.0, -10.0, -10.0, 10.0, 10.0, -10.0, 10.0, 10.0, 10.0, -10.0, 10.0, -10.0, 10.0, -10.0, 10.0, 10.0, 10.0, -10.0, -10.0, -10.0, -10.0, 10.0, 10.0, 10.0, 10.0, 10.0, 10.0, 10.0, 10.0, 10.0, 10.0, 10.0, 10.0, 10.0, 10.0, -10.0, -10.0, 10.0, 10.0, 10.0, 10.0, 10.0, -10.0, 10.0, 10.0, 10.0, 10.0, -10.0, 10.0, 10.0, 10.0, 10.0, 10.0, 10.0, 10.0, 10.0, -10.0, 10.0, 10.0, 10.0, 10.0, 10.0, 10.0, -10.0, 10.0, 10.0, 10.0, 10.0, 10.0]\n",
      " 62%|██████████████████████████▋                | 31/50 [04:52<02:50,  8.99s/it][-10.0, -10.0, -10.0, 10.0, 10.0, 10.0, 10.0, 10.0, 10.0, 10.0, -10.0, 10.0, -10.0, -10.0, 10.0, 10.0, 10.0, 10.0, 10.0, 10.0, 10.0, 10.0, -10.0, -10.0, 10.0, 10.0, -10.0, 10.0, 10.0, 10.0, -10.0, 10.0, -10.0, 10.0, -10.0, 10.0, 10.0, 10.0, -10.0, -10.0, -10.0, -10.0, 10.0, 10.0, 10.0, 10.0, 10.0, 10.0, 10.0, 10.0, 10.0, 10.0, 10.0, 10.0, 10.0, 10.0, -10.0, -10.0, 10.0, 10.0, 10.0, 10.0, 10.0, -10.0, 10.0, 10.0, 10.0, 10.0, -10.0, 10.0, 10.0, 10.0, 10.0, 10.0, 10.0, 10.0, 10.0, -10.0, 10.0, 10.0, 10.0, 10.0, 10.0, 10.0, -10.0, 10.0, 10.0, 10.0, 10.0, 10.0, -10.0, -10.0, 10.0, 10.0, -10.0, 10.0, 10.0, 10.0, -10.0, -10.0]\n",
      " 64%|███████████████████████████▌               | 32/50 [05:03<02:50,  9.46s/it][-10.0, 10.0, -10.0, 10.0, 10.0, -10.0, 10.0, 10.0, 10.0, 10.0, 10.0, -10.0, -10.0, 10.0, 10.0, -10.0, 10.0, 10.0, 10.0, -10.0, 10.0, -10.0, 10.0, -10.0, 10.0, 10.0, 10.0, -10.0, -10.0, -10.0, -10.0, 10.0, 10.0, 10.0, 10.0, 10.0, 10.0, 10.0, 10.0, 10.0, 10.0, 10.0, 10.0, 10.0, 10.0, -10.0, -10.0, 10.0, 10.0, 10.0, 10.0, 10.0, -10.0, 10.0, 10.0, 10.0, 10.0, -10.0, 10.0, 10.0, 10.0, 10.0, 10.0, 10.0, 10.0, 10.0, -10.0, 10.0, 10.0, 10.0, 10.0, 10.0, 10.0, -10.0, 10.0, 10.0, 10.0, 10.0, 10.0, -10.0, -10.0, 10.0, 10.0, -10.0, 10.0, 10.0, 10.0, -10.0, -10.0, -10.0, -10.0, -10.0, 10.0, 10.0, 10.0, 10.0, 10.0, 10.0, 10.0, -10.0]\n",
      " 66%|████████████████████████████▍              | 33/50 [05:11<02:32,  8.96s/it][10.0, -10.0, 10.0, 10.0, 10.0, 10.0, 10.0, 10.0, 10.0, 10.0, -10.0, 10.0, -10.0, 10.0, -10.0, 10.0, 10.0, 10.0, -10.0, -10.0, -10.0, -10.0, 10.0, 10.0, 10.0, 10.0, 10.0, 10.0, 10.0, 10.0, 10.0, 10.0, 10.0, 10.0, 10.0, 10.0, -10.0, -10.0, 10.0, 10.0, 10.0, 10.0, 10.0, -10.0, 10.0, 10.0, 10.0, 10.0, -10.0, 10.0, 10.0, 10.0, 10.0, 10.0, 10.0, 10.0, 10.0, -10.0, 10.0, 10.0, 10.0, 10.0, 10.0, 10.0, -10.0, 10.0, 10.0, 10.0, 10.0, 10.0, -10.0, -10.0, 10.0, 10.0, -10.0, 10.0, 10.0, 10.0, -10.0, -10.0, -10.0, -10.0, -10.0, 10.0, 10.0, 10.0, 10.0, 10.0, 10.0, 10.0, -10.0, -10.0, 10.0, -10.0, 10.0, 10.0, -10.0, 10.0, 10.0, 10.0]\n",
      " 68%|█████████████████████████████▏             | 34/50 [05:20<02:27,  9.21s/it][10.0, 10.0, 10.0, 10.0, 10.0, 10.0, -10.0, 10.0, -10.0, 10.0, 10.0, 10.0, 10.0, 10.0, 10.0, 10.0, 10.0, 10.0, 10.0, 10.0, 10.0, 10.0, 10.0, 10.0, -10.0, -10.0, 10.0, 10.0, 10.0, 10.0, 10.0, -10.0, 10.0, 10.0, 10.0, 10.0, -10.0, 10.0, 10.0, 10.0, 10.0, 10.0, 10.0, 10.0, 10.0, -10.0, 10.0, 10.0, 10.0, 10.0, 10.0, 10.0, -10.0, 10.0, 10.0, 10.0, 10.0, 10.0, -10.0, -10.0, 10.0, 10.0, -10.0, 10.0, 10.0, 10.0, -10.0, -10.0, -10.0, -10.0, -10.0, 10.0, 10.0, 10.0, 10.0, 10.0, 10.0, 10.0, -10.0, -10.0, 10.0, -10.0, 10.0, 10.0, -10.0, 10.0, 10.0, 10.0, 10.0, -10.0, 10.0, 10.0, 10.0, 10.0, 10.0, 10.0, 10.0, 10.0, -10.0, 10.0]\n",
      " 70%|██████████████████████████████             | 35/50 [05:31<02:23,  9.57s/it][10.0, 10.0, 10.0, 10.0, -10.0, 10.0, 10.0, 10.0, 10.0, 10.0, 10.0, 10.0, -10.0, -10.0, 10.0, 10.0, 10.0, 10.0, 10.0, -10.0, 10.0, 10.0, 10.0, 10.0, -10.0, 10.0, 10.0, 10.0, 10.0, 10.0, 10.0, 10.0, 10.0, -10.0, 10.0, 10.0, 10.0, 10.0, 10.0, 10.0, -10.0, 10.0, 10.0, 10.0, 10.0, 10.0, -10.0, -10.0, 10.0, 10.0, -10.0, 10.0, 10.0, 10.0, -10.0, -10.0, -10.0, -10.0, -10.0, 10.0, 10.0, 10.0, 10.0, 10.0, 10.0, 10.0, -10.0, -10.0, 10.0, -10.0, 10.0, 10.0, -10.0, 10.0, 10.0, 10.0, 10.0, -10.0, 10.0, 10.0, 10.0, 10.0, 10.0, 10.0, 10.0, 10.0, -10.0, 10.0, 10.0, 10.0, 10.0, 10.0, 10.0, 10.0, -10.0, 10.0, -10.0, 10.0, 10.0, 10.0]\n",
      " 72%|██████████████████████████████▉            | 36/50 [05:40<02:10,  9.36s/it][10.0, 10.0, 10.0, -10.0, -10.0, 10.0, -10.0, -10.0, 10.0, 10.0, 10.0, 10.0, 10.0, 10.0, -10.0, 10.0, 10.0, 10.0, 10.0, 10.0, 10.0, 10.0, 10.0, -10.0, 10.0, 10.0, 10.0, 10.0, 10.0, 10.0, -10.0, 10.0, 10.0, 10.0, 10.0, 10.0, -10.0, -10.0, 10.0, 10.0, -10.0, 10.0, 10.0, 10.0, -10.0, -10.0, -10.0, -10.0, -10.0, 10.0, 10.0, 10.0, 10.0, 10.0, 10.0, 10.0, -10.0, -10.0, 10.0, -10.0, 10.0, 10.0, -10.0, 10.0, 10.0, 10.0, 10.0, -10.0, 10.0, 10.0, 10.0, 10.0, 10.0, 10.0, 10.0, 10.0, -10.0, 10.0, 10.0, 10.0, 10.0, 10.0, 10.0, 10.0, -10.0, 10.0, -10.0, 10.0, 10.0, 10.0, 10.0, 10.0, 10.0, 10.0, -10.0, 10.0, 10.0, 10.0, 10.0, 10.0]\n",
      " 74%|███████████████████████████████▊           | 37/50 [05:49<02:01,  9.33s/it][-10.0, 10.0, 10.0, 10.0, -10.0, 10.0, 10.0, 10.0, 10.0, 10.0, 10.0, 10.0, 10.0, -10.0, 10.0, 10.0, 10.0, 10.0, 10.0, 10.0, -10.0, 10.0, 10.0, 10.0, 10.0, 10.0, -10.0, -10.0, 10.0, 10.0, -10.0, 10.0, 10.0, 10.0, -10.0, -10.0, -10.0, -10.0, -10.0, 10.0, 10.0, 10.0, 10.0, 10.0, 10.0, 10.0, -10.0, -10.0, 10.0, -10.0, 10.0, 10.0, -10.0, 10.0, 10.0, 10.0, 10.0, -10.0, 10.0, 10.0, 10.0, 10.0, 10.0, 10.0, 10.0, 10.0, -10.0, 10.0, 10.0, 10.0, 10.0, 10.0, 10.0, 10.0, -10.0, 10.0, -10.0, 10.0, 10.0, 10.0, 10.0, 10.0, 10.0, 10.0, -10.0, 10.0, 10.0, 10.0, 10.0, 10.0, 10.0, 10.0, 10.0, -10.0, -10.0, 10.0, -10.0, -10.0, 10.0, 10.0]\n",
      " 76%|████████████████████████████████▋          | 38/50 [06:00<01:56,  9.74s/it][10.0, 10.0, 10.0, 10.0, 10.0, -10.0, -10.0, 10.0, -10.0, 10.0, -10.0, 10.0, 10.0, 10.0, 10.0, 10.0, -10.0, -10.0, 10.0, 10.0, -10.0, 10.0, 10.0, 10.0, -10.0, -10.0, -10.0, -10.0, -10.0, 10.0, 10.0, 10.0, 10.0, 10.0, 10.0, 10.0, -10.0, -10.0, 10.0, -10.0, 10.0, 10.0, -10.0, 10.0, 10.0, 10.0, 10.0, -10.0, 10.0, 10.0, 10.0, 10.0, 10.0, 10.0, 10.0, 10.0, -10.0, 10.0, 10.0, 10.0, 10.0, 10.0, 10.0, 10.0, -10.0, 10.0, -10.0, 10.0, 10.0, 10.0, 10.0, 10.0, 10.0, 10.0, -10.0, 10.0, 10.0, 10.0, 10.0, 10.0, 10.0, 10.0, 10.0, -10.0, -10.0, 10.0, -10.0, -10.0, 10.0, 10.0, -10.0, 10.0, 10.0, 10.0, -10.0, 10.0, 10.0, 10.0, 10.0, 10.0]\n",
      " 78%|█████████████████████████████████▌         | 39/50 [06:09<01:45,  9.58s/it][10.0, 10.0, 10.0, 10.0, -10.0, 10.0, 10.0, 10.0, 10.0, 10.0, -10.0, 10.0, 10.0, 10.0, -10.0, -10.0, -10.0, -10.0, -10.0, 10.0, 10.0, 10.0, 10.0, 10.0, 10.0, 10.0, -10.0, -10.0, 10.0, -10.0, 10.0, 10.0, -10.0, 10.0, 10.0, 10.0, 10.0, -10.0, 10.0, 10.0, 10.0, 10.0, 10.0, 10.0, 10.0, 10.0, -10.0, 10.0, 10.0, 10.0, 10.0, 10.0, 10.0, 10.0, -10.0, 10.0, -10.0, 10.0, 10.0, 10.0, 10.0, 10.0, 10.0, 10.0, -10.0, 10.0, 10.0, 10.0, 10.0, 10.0, 10.0, 10.0, 10.0, -10.0, -10.0, 10.0, -10.0, -10.0, 10.0, 10.0, -10.0, 10.0, 10.0, 10.0, -10.0, 10.0, 10.0, 10.0, 10.0, 10.0, 10.0, 10.0, 10.0, 10.0, 10.0, -10.0, -10.0, 10.0, -10.0, 10.0]\n",
      " 80%|██████████████████████████████████▍        | 40/50 [06:20<01:39,  9.91s/it][10.0, -10.0, -10.0, 10.0, 10.0, -10.0, -10.0, 10.0, 10.0, 10.0, 10.0, 10.0, 10.0, 10.0, 10.0, -10.0, -10.0, 10.0, -10.0, 10.0, 10.0, -10.0, 10.0, 10.0, 10.0, 10.0, -10.0, 10.0, 10.0, 10.0, 10.0, 10.0, 10.0, 10.0, 10.0, -10.0, 10.0, 10.0, 10.0, 10.0, 10.0, 10.0, 10.0, -10.0, 10.0, -10.0, 10.0, 10.0, 10.0, 10.0, 10.0, 10.0, 10.0, -10.0, 10.0, 10.0, 10.0, 10.0, 10.0, 10.0, 10.0, 10.0, -10.0, -10.0, 10.0, -10.0, -10.0, 10.0, 10.0, -10.0, 10.0, 10.0, 10.0, -10.0, 10.0, 10.0, 10.0, 10.0, 10.0, 10.0, 10.0, 10.0, 10.0, 10.0, -10.0, -10.0, 10.0, -10.0, 10.0, 10.0, 10.0, 10.0, 10.0, -10.0, 10.0, 10.0, 10.0, 10.0, 10.0, -10.0]\n",
      " 82%|███████████████████████████████████▎       | 41/50 [06:30<01:32, 10.23s/it][10.0, 10.0, -10.0, -10.0, 10.0, 10.0, 10.0, 10.0, -10.0, 10.0, -10.0, -10.0, 10.0, 10.0, 10.0, 10.0, -10.0, 10.0, 10.0, 10.0, 10.0, 10.0, 10.0, 10.0, 10.0, -10.0, 10.0, 10.0, 10.0, 10.0, 10.0, 10.0, 10.0, -10.0, 10.0, -10.0, 10.0, 10.0, 10.0, 10.0, 10.0, 10.0, 10.0, -10.0, 10.0, 10.0, 10.0, 10.0, 10.0, 10.0, 10.0, 10.0, -10.0, -10.0, 10.0, -10.0, -10.0, 10.0, 10.0, -10.0, 10.0, 10.0, 10.0, -10.0, 10.0, 10.0, 10.0, 10.0, 10.0, 10.0, 10.0, 10.0, 10.0, 10.0, -10.0, -10.0, 10.0, -10.0, 10.0, 10.0, 10.0, 10.0, 10.0, -10.0, 10.0, 10.0, 10.0, 10.0, 10.0, -10.0, 10.0, -10.0, -10.0, 10.0, 10.0, -10.0, -10.0, 10.0, 10.0, 10.0]\n",
      " 84%|████████████████████████████████████       | 42/50 [06:40<01:20, 10.01s/it][10.0, 10.0, -10.0, -10.0, 10.0, 10.0, -10.0, -10.0, 10.0, 10.0, -10.0, 10.0, 10.0, 10.0, -10.0, 10.0, 10.0, 10.0, 10.0, 10.0, 10.0, 10.0, -10.0, 10.0, -10.0, 10.0, 10.0, 10.0, 10.0, 10.0, 10.0, 10.0, -10.0, 10.0, 10.0, 10.0, 10.0, 10.0, 10.0, 10.0, 10.0, -10.0, -10.0, 10.0, -10.0, -10.0, 10.0, 10.0, -10.0, 10.0, 10.0, 10.0, -10.0, 10.0, 10.0, 10.0, 10.0, 10.0, 10.0, 10.0, 10.0, 10.0, 10.0, -10.0, -10.0, 10.0, -10.0, 10.0, 10.0, 10.0, 10.0, 10.0, -10.0, 10.0, 10.0, 10.0, 10.0, 10.0, -10.0, 10.0, -10.0, -10.0, 10.0, 10.0, -10.0, -10.0, 10.0, 10.0, 10.0, 10.0, 10.0, -10.0, -10.0, 10.0, 10.0, 10.0, 10.0, -10.0, 10.0, -10.0]\n",
      " 86%|████████████████████████████████████▉      | 43/50 [06:50<01:09,  9.95s/it][-10.0, 10.0, 10.0, 10.0, 10.0, 10.0, 10.0, 10.0, -10.0, 10.0, 10.0, -10.0, 10.0, -10.0, 10.0, 10.0, 10.0, 10.0, 10.0, 10.0, 10.0, -10.0, 10.0, 10.0, 10.0, 10.0, 10.0, 10.0, 10.0, 10.0, -10.0, -10.0, 10.0, -10.0, -10.0, 10.0, 10.0, -10.0, 10.0, 10.0, 10.0, -10.0, 10.0, 10.0, 10.0, 10.0, 10.0, 10.0, 10.0, 10.0, 10.0, 10.0, -10.0, -10.0, 10.0, -10.0, 10.0, 10.0, 10.0, 10.0, 10.0, -10.0, 10.0, 10.0, 10.0, 10.0, 10.0, -10.0, 10.0, -10.0, -10.0, 10.0, 10.0, -10.0, -10.0, 10.0, 10.0, 10.0, 10.0, 10.0, -10.0, -10.0, 10.0, 10.0, 10.0, 10.0, -10.0, 10.0, -10.0, 10.0, 10.0, -10.0, -10.0, 10.0, 10.0, -10.0, -10.0, 10.0, 10.0, -10.0]\n",
      " 88%|█████████████████████████████████████▊     | 44/50 [06:58<00:56,  9.49s/it][10.0, 10.0, -10.0, 10.0, 10.0, 10.0, 10.0, -10.0, 10.0, 10.0, 10.0, -10.0, 10.0, 10.0, 10.0, 10.0, 10.0, 10.0, 10.0, 10.0, -10.0, -10.0, 10.0, -10.0, -10.0, 10.0, 10.0, -10.0, 10.0, 10.0, 10.0, -10.0, 10.0, 10.0, 10.0, 10.0, 10.0, 10.0, 10.0, 10.0, 10.0, 10.0, -10.0, -10.0, 10.0, -10.0, 10.0, 10.0, 10.0, 10.0, 10.0, -10.0, 10.0, 10.0, 10.0, 10.0, 10.0, -10.0, 10.0, -10.0, -10.0, 10.0, 10.0, -10.0, -10.0, 10.0, 10.0, 10.0, 10.0, 10.0, -10.0, -10.0, 10.0, 10.0, 10.0, 10.0, -10.0, 10.0, -10.0, 10.0, 10.0, -10.0, -10.0, 10.0, 10.0, -10.0, -10.0, 10.0, 10.0, -10.0, -10.0, 10.0, 10.0, 10.0, 10.0, 10.0, 10.0, 10.0, -10.0, 10.0]\n",
      " 90%|██████████████████████████████████████▋    | 45/50 [07:08<00:47,  9.48s/it][10.0, 10.0, 10.0, 10.0, 10.0, -10.0, 10.0, -10.0, 10.0, -10.0, -10.0, -10.0, 10.0, -10.0, -10.0, 10.0, 10.0, -10.0, 10.0, 10.0, 10.0, -10.0, 10.0, 10.0, 10.0, 10.0, 10.0, 10.0, 10.0, 10.0, 10.0, 10.0, -10.0, -10.0, 10.0, -10.0, 10.0, 10.0, 10.0, 10.0, 10.0, -10.0, 10.0, 10.0, 10.0, 10.0, 10.0, -10.0, 10.0, -10.0, -10.0, 10.0, 10.0, -10.0, -10.0, 10.0, 10.0, 10.0, 10.0, 10.0, -10.0, -10.0, 10.0, 10.0, 10.0, 10.0, -10.0, 10.0, -10.0, 10.0, 10.0, -10.0, -10.0, 10.0, 10.0, -10.0, -10.0, 10.0, 10.0, -10.0, -10.0, 10.0, 10.0, 10.0, 10.0, 10.0, 10.0, 10.0, -10.0, 10.0, 10.0, 10.0, -10.0, 10.0, 10.0, 10.0, 10.0, -10.0, 10.0, 10.0]\n",
      " 92%|███████████████████████████████████████▌   | 46/50 [07:17<00:37,  9.42s/it][10.0, 10.0, 10.0, 10.0, 10.0, -10.0, -10.0, 10.0, 10.0, 10.0, -10.0, -10.0, 10.0, 10.0, 10.0, 10.0, 10.0, 10.0, 10.0, 10.0, 10.0, 10.0, -10.0, -10.0, 10.0, -10.0, 10.0, 10.0, 10.0, 10.0, 10.0, -10.0, 10.0, 10.0, 10.0, 10.0, 10.0, -10.0, 10.0, -10.0, -10.0, 10.0, 10.0, -10.0, -10.0, 10.0, 10.0, 10.0, 10.0, 10.0, -10.0, -10.0, 10.0, 10.0, 10.0, 10.0, -10.0, 10.0, -10.0, 10.0, 10.0, -10.0, -10.0, 10.0, 10.0, -10.0, -10.0, 10.0, 10.0, -10.0, -10.0, 10.0, 10.0, 10.0, 10.0, 10.0, 10.0, 10.0, -10.0, 10.0, 10.0, 10.0, -10.0, 10.0, 10.0, 10.0, 10.0, -10.0, 10.0, 10.0, 10.0, 10.0, 10.0, 10.0, 10.0, -10.0, 10.0, -10.0, 10.0, -10.0]\n",
      " 94%|████████████████████████████████████████▍  | 47/50 [07:27<00:28,  9.59s/it][-10.0, 10.0, 10.0, 10.0, 10.0, 10.0, 10.0, 10.0, 10.0, 10.0, 10.0, -10.0, -10.0, 10.0, -10.0, 10.0, 10.0, 10.0, 10.0, 10.0, -10.0, 10.0, 10.0, 10.0, 10.0, 10.0, -10.0, 10.0, -10.0, -10.0, 10.0, 10.0, -10.0, -10.0, 10.0, 10.0, 10.0, 10.0, 10.0, -10.0, -10.0, 10.0, 10.0, 10.0, 10.0, -10.0, 10.0, -10.0, 10.0, 10.0, -10.0, -10.0, 10.0, 10.0, -10.0, -10.0, 10.0, 10.0, -10.0, -10.0, 10.0, 10.0, 10.0, 10.0, 10.0, 10.0, 10.0, -10.0, 10.0, 10.0, 10.0, -10.0, 10.0, 10.0, 10.0, 10.0, -10.0, 10.0, 10.0, 10.0, 10.0, 10.0, 10.0, 10.0, -10.0, 10.0, -10.0, 10.0, -10.0, 10.0, 10.0, 10.0, 10.0, 10.0, -10.0, -10.0, 10.0, 10.0, 10.0, -10.0]\n",
      " 96%|█████████████████████████████████████████▎ | 48/50 [07:35<00:18,  9.07s/it][-10.0, 10.0, 10.0, -10.0, 10.0, 10.0, 10.0, 10.0, 10.0, -10.0, 10.0, 10.0, 10.0, 10.0, 10.0, -10.0, 10.0, -10.0, -10.0, 10.0, 10.0, -10.0, -10.0, 10.0, 10.0, 10.0, 10.0, 10.0, -10.0, -10.0, 10.0, 10.0, 10.0, 10.0, -10.0, 10.0, -10.0, 10.0, 10.0, -10.0, -10.0, 10.0, 10.0, -10.0, -10.0, 10.0, 10.0, -10.0, -10.0, 10.0, 10.0, 10.0, 10.0, 10.0, 10.0, 10.0, -10.0, 10.0, 10.0, 10.0, -10.0, 10.0, 10.0, 10.0, 10.0, -10.0, 10.0, 10.0, 10.0, 10.0, 10.0, 10.0, 10.0, -10.0, 10.0, -10.0, 10.0, -10.0, 10.0, 10.0, 10.0, 10.0, 10.0, -10.0, -10.0, 10.0, 10.0, 10.0, -10.0, -10.0, 10.0, 10.0, 10.0, 10.0, 10.0, 10.0, 10.0, 10.0, 10.0, 10.0]\n",
      " 98%|██████████████████████████████████████████▏| 49/50 [07:42<00:08,  8.47s/it][10.0, 10.0, -10.0, 10.0, -10.0, 10.0, 10.0, -10.0, 10.0, 10.0, 10.0, 10.0, 10.0, -10.0, -10.0, 10.0, 10.0, 10.0, 10.0, 10.0, -10.0, -10.0, 10.0, 10.0, 10.0, 10.0, -10.0, 10.0, -10.0, 10.0, 10.0, -10.0, -10.0, 10.0, 10.0, -10.0, -10.0, 10.0, 10.0, -10.0, -10.0, 10.0, 10.0, 10.0, 10.0, 10.0, 10.0, 10.0, -10.0, 10.0, 10.0, 10.0, -10.0, 10.0, 10.0, 10.0, 10.0, -10.0, 10.0, 10.0, 10.0, 10.0, 10.0, 10.0, 10.0, -10.0, 10.0, -10.0, 10.0, -10.0, 10.0, 10.0, 10.0, 10.0, 10.0, -10.0, -10.0, 10.0, 10.0, 10.0, -10.0, -10.0, 10.0, 10.0, 10.0, 10.0, 10.0, 10.0, 10.0, 10.0, 10.0, 10.0, -10.0, 10.0, 10.0, -10.0, 10.0, 10.0, 10.0, 10.0]\n",
      "100%|███████████████████████████████████████████| 50/50 [07:52<00:00,  9.45s/it]\n",
      "Total trials 100 win rate 73.0% loss rate 27.0% tie rate 0.0%\n"
     ]
    }
   ],
   "source": [
    "!python youshallnotpass_rllib_adversarial_makevideo.py --checkpoint {checkpoint} --no_video=True --steps 50"
   ]
  },
  {
   "cell_type": "code",
   "execution_count": 165,
   "metadata": {},
   "outputs": [
    {
     "name": "stdout",
     "output_type": "stream",
     "text": [
      "2020-08-11 15:46:38,273\tINFO resource_spec.py:212 -- Starting Ray with 103.52 GiB memory available for workers and up to 48.36 GiB for objects. You can adjust these settings with ray.init(memory=<bytes>, object_store_memory=<bytes>).\n",
      "2020-08-11 15:46:38,423\tWARNING services.py:923 -- Redis failed to start, retrying now.\n",
      "2020-08-11 15:46:38,733\tWARNING services.py:923 -- Redis failed to start, retrying now.\n",
      "2020-08-11 15:46:39,385\tINFO services.py:1165 -- View the Ray dashboard at \u001b[1m\u001b[32mlocalhost:8266\u001b[39m\u001b[22m\n",
      "Args: Namespace(checkpoint='/home/sergei/ray_results/PPO_YouShallNotPassHumans-v0_rllib_2020-08-10_21-03-15vwhtl1_3/checkpoint_1035/checkpoint-1035', load_normal=False, no_video=False, steps=10)\n",
      "Creating agent humanoid_blocker\n",
      "Reading agent XML from: /scratch/sergei/better-adversarial-defenses/multiagent-competition/gym_compete/new_envs/assets/humanoid_body.xml\n",
      "Creating agent humanoid\n",
      "Reading agent XML from: /scratch/sergei/better-adversarial-defenses/multiagent-competition/gym_compete/new_envs/assets/humanoid_body.xml\n",
      "Scene XML path: /scratch/sergei/better-adversarial-defenses/multiagent-competition/gym_compete/new_envs/assets/world_body.humanoid_body.humanoid_body.xml\n",
      "Created Scene with agents\n",
      "GLFW error: 65544, desc: b'X11: RandR gamma ramp support seems broken'\n",
      "Creating env...\n",
      "Created env\n",
      "Creating agent humanoid_blocker\n",
      "Reading agent XML from: /scratch/sergei/better-adversarial-defenses/multiagent-competition/gym_compete/new_envs/assets/humanoid_body.xml\n",
      "Creating agent humanoid\n",
      "Reading agent XML from: /scratch/sergei/better-adversarial-defenses/multiagent-competition/gym_compete/new_envs/assets/humanoid_body.xml\n",
      "Scene XML path: /scratch/sergei/better-adversarial-defenses/multiagent-competition/gym_compete/new_envs/assets/world_body.humanoid_body.humanoid_body.xml\n",
      "Created Scene with agents\n",
      "Creating env...\n",
      "Created env\n",
      "Config {'env': 'YouShallNotPassHumans-v0_rllib', 'env_config': {'with_video': True}, 'use_gae': True, 'num_gpus': 0, 'batch_mode': 'complete_episodes', 'num_workers': 0, 'train_batch_size': 256, 'rollout_fragment_length': 200, 'multiagent': {'policies_to_train': [], 'policies': {'player_1': (<class 'ray.rllib.policy.tf_policy_template.PPOTFPolicy'>, Box(380,), Box(17,), {'model': {'use_lstm': False, 'fcnet_hiddens': [64, 64], 'fcnet_activation': 'tanh', 'free_log_std': True}, 'framework': 'tfe', 'observation_filter': 'MeanStdFilter'}), 'player_2': (<class 'ray.rllib.policy.tf_policy_template.PPOTFPolicy'>, Box(380,), Box(17,), {'model': {'custom_model': 'GymCompetePretrainedModel', 'custom_model_config': {'agent_id': 1, 'env_name': 'multicomp/YouShallNotPassHumans-v0', 'model_config': {}, 'name': 'model_1'}}, 'framework': 'tfe'})}, 'policy_mapping_fn': <function build_trainer_config.<locals>.select_policy at 0x7f594c295200>}, 'framework': 'tfe', 'lr': 0, 'vf_loss_coeff': 0.5, 'gamma': 0.995, 'sgd_minibatch_size': 256, 'num_sgd_iter': 1, 'tf_session_args': {'intra_op_parallelism_threads': 32, 'inter_op_parallelism_threads': 32, 'gpu_options': {'allow_growth': True}, 'log_device_placement': True, 'device_count': {'CPU': 32}, 'allow_soft_placement': True}, 'local_tf_session_args': {'intra_op_parallelism_threads': 32, 'inter_op_parallelism_threads': 32}, 'kl_coeff': 1.0}\n",
      "2020-08-11 15:46:50,840\tINFO trainer.py:582 -- Executing eagerly, with eager_tracing=False\n",
      "2020-08-11 15:46:50,840\tINFO trainer.py:612 -- Current log_level is WARN. For more information, set 'log_level': 'INFO' / 'DEBUG' or use the -v and -vv flags.\n",
      "Creating agent humanoid_blocker\n",
      "Reading agent XML from: /scratch/sergei/better-adversarial-defenses/multiagent-competition/gym_compete/new_envs/assets/humanoid_body.xml\n",
      "Creating agent humanoid\n",
      "Reading agent XML from: /scratch/sergei/better-adversarial-defenses/multiagent-competition/gym_compete/new_envs/assets/humanoid_body.xml\n",
      "Scene XML path: /scratch/sergei/better-adversarial-defenses/multiagent-competition/gym_compete/new_envs/assets/world_body.humanoid_body.humanoid_body.xml\n",
      "Created Scene with agents\n",
      "Creating env...\n",
      "Created env\n",
      "WARNING:tensorflow:\n",
      "The following Variables were used a Lambda layer's call (lambda), but\n",
      "are not present in its tracked objects:\n",
      "  <tf.Variable 'player_1/log_std:0' shape=(17,) dtype=float32>\n",
      "It is possible that this is intended behavior, but it is more likely\n",
      "an omission. This is a strong indication that this layer should be\n",
      "formulated as a subclassed Layer rather than a Lambda layer.\n",
      "WARNING:tensorflow:From /scratch/sergei/miniconda3/lib/python3.7/site-packages/ray/rllib/models/tf/tf_action_dist.py:234: to_float (from tensorflow.python.ops.math_ops) is deprecated and will be removed in a future version.\n",
      "Instructions for updating:\n",
      "Use `tf.cast` instead.\n",
      "Creating agent humanoid_blocker\n",
      "Reading agent XML from: /scratch/sergei/better-adversarial-defenses/multiagent-competition/gym_compete/new_envs/assets/humanoid_body.xml\n",
      "Creating agent humanoid\n",
      "Reading agent XML from: /scratch/sergei/better-adversarial-defenses/multiagent-competition/gym_compete/new_envs/assets/humanoid_body.xml\n",
      "Scene XML path: /scratch/sergei/better-adversarial-defenses/multiagent-competition/gym_compete/new_envs/assets/world_body.humanoid_body.humanoid_body.xml\n",
      "Created Scene with agents\n",
      "2020-08-11 15:46:52,921\tINFO trainable.py:423 -- Restored on 128.32.175.10 from checkpoint: /home/sergei/ray_results/PPO_YouShallNotPassHumans-v0_rllib_2020-08-10_21-03-15vwhtl1_3/checkpoint_1035/checkpoint-1035\n",
      "2020-08-11 15:46:52,922\tINFO trainable.py:430 -- Current state after restoring: {'_iteration': 1035, '_timesteps_total': None, '_time_total': 374503.1884508133, '_episodes_total': 311305}\n",
      "  0%|                                                    | 0/10 [00:00<?, ?it/s]WARNING:tensorflow:Layer observation_preprocessing_layer_1 is casting an input tensor from dtype float64 to the layer's dtype of float32, which is new behavior in TensorFlow 2.  The layer has dtype float32 because it's dtype defaults to floatx.\n",
      "\n",
      "If you intended to run this layer in float32, you can safely ignore this warning. If in doubt, this warning is likely only an issue if you are porting a TensorFlow 1.X model to TensorFlow 2.\n",
      "\n",
      "To change all layers to have dtype float64 by default, call `tf.keras.backend.set_floatx('float64')`. To change just this layer, pass dtype='float64' to the layer constructor. If you are the author of this layer, you can disable autocasting by passing autocast=False to the base Layer constructor.\n",
      "\n",
      "WARNING:tensorflow:From /scratch/sergei/miniconda3/lib/python3.7/site-packages/ray/rllib/policy/tf_policy.py:761: Variable.load (from tensorflow.python.ops.variables) is deprecated and will be removed in a future version.\n",
      "Instructions for updating:\n",
      "Prefer Variable.assign which has equivalent behavior in 2.X.\n",
      "[10.0, 10.0, 10.0]\n",
      " 10%|████▎                                      | 1/10 [01:49<16:21, 109.04s/it][10.0, 10.0, 10.0, 10.0, 10.0, 10.0]\n",
      " 20%|████████▌                                  | 2/10 [03:36<14:28, 108.60s/it][10.0, 10.0, 10.0, 10.0, 10.0, 10.0, 10.0, 10.0, 10.0, 10.0]\n",
      " 30%|████████████▉                              | 3/10 [05:47<13:26, 115.24s/it][-10.0, 10.0, 10.0, 10.0, 10.0, 10.0, 10.0, 10.0, 10.0, 10.0, 10.0, 10.0]\n",
      " 40%|█████████████████▏                         | 4/10 [07:27<11:04, 110.72s/it][10.0, 10.0, 10.0, 10.0, 10.0, 10.0, 10.0, 10.0, 10.0, 10.0, 10.0, 10.0, 10.0, -10.0, 10.0]\n",
      " 50%|█████████████████████▌                     | 5/10 [09:12<09:05, 109.03s/it][10.0, 10.0, 10.0, 10.0, 10.0, 10.0, 10.0, 10.0, 10.0, 10.0, 10.0, 10.0, 10.0, 10.0, -10.0, 10.0, 10.0, 10.0, 10.0]\n",
      " 60%|█████████████████████████▊                 | 6/10 [12:54<09:31, 142.96s/it][-10.0, 10.0, 10.0, 10.0, 10.0, 10.0, 10.0, 10.0, 10.0, 10.0, 10.0, 10.0, 10.0, -10.0, 10.0, 10.0, 10.0, 10.0, 10.0, 10.0, 10.0, 10.0]\n",
      " 70%|██████████████████████████████             | 7/10 [16:39<08:22, 167.64s/it][10.0, -10.0, 10.0, 10.0, 10.0, 10.0, 10.0, 10.0, 10.0, 10.0, 10.0, 10.0, -10.0, 10.0, 10.0, 10.0, 10.0, 10.0, 10.0, 10.0, 10.0, -10.0, 10.0, 10.0]\n",
      " 80%|██████████████████████████████████▍        | 8/10 [18:58<05:18, 159.01s/it][10.0, 10.0, 10.0, 10.0, 10.0, 10.0, 10.0, 10.0, 10.0, 10.0, 10.0, 10.0, -10.0, 10.0, 10.0, 10.0, 10.0, 10.0, 10.0, 10.0, 10.0, -10.0, 10.0, 10.0, 10.0, -10.0]\n",
      " 90%|██████████████████████████████████████▋    | 9/10 [20:58<02:27, 147.15s/it][10.0, -10.0, 10.0, 10.0, 10.0, 10.0, 10.0, 10.0, 10.0, 10.0, 10.0, 10.0, -10.0, 10.0, 10.0, 10.0, 10.0, 10.0, 10.0, 10.0, 10.0, -10.0, 10.0, 10.0, 10.0, -10.0, 10.0, 10.0]\n",
      "100%|██████████████████████████████████████████| 10/10 [23:16<00:00, 139.62s/it]\n",
      "Total trials 28 win rate 85.71428571428571% loss rate 14.285714285714286% tie rate 0.0%\n",
      "Your video is in\n",
      "/scratch/sergei/better-adversarial-defenses/video-20200811-154650-8b12dbf9-dc24-11ea-a969-1831bf455a80/video.000000.mp4\n"
     ]
    }
   ],
   "source": [
    "!export DISPLAY=:0; python youshallnotpass_rllib_adversarial_makevideo.py --checkpoint {checkpoint}"
   ]
  },
  {
   "cell_type": "code",
   "execution_count": 107,
   "metadata": {},
   "outputs": [],
   "source": [
    "#video = _\n",
    "video = \"video-20200810-063659-906f9f6d-db0e-11ea-a969-1831bf455a80/video.000000.mp4\""
   ]
  },
  {
   "cell_type": "code",
   "execution_count": 109,
   "metadata": {},
   "outputs": [
    {
     "data": {
      "text/html": [
       "Click here to download: <a href='video-20200810-063659-906f9f6d-db0e-11ea-a969-1831bf455a80/video.000000.mp4' target='_blank'>video-20200810-063659-906f9f6d-db0e-11ea-a969-1831bf455a80/video.000000.mp4</a><br>"
      ],
      "text/plain": [
       "/scratch/sergei/better-adversarial-defenses/video-20200810-063659-906f9f6d-db0e-11ea-a969-1831bf455a80/video.000000.mp4"
      ]
     },
     "metadata": {},
     "output_type": "display_data"
    }
   ],
   "source": [
    "from IPython.display import display, FileLink\n",
    "\n",
    "local_file = FileLink(video, result_html_prefix=\"Click here to download: \")\n",
    "display(local_file)"
   ]
  },
  {
   "cell_type": "code",
   "execution_count": 97,
   "metadata": {},
   "outputs": [
    {
     "data": {
      "text/html": [
       "\n",
       "    <video alt=\"test\" controls>\n",
       "        <source src=\"video-20200810-063659-906f9f6d-db0e-11ea-a969-1831bf455a80/video.000000.mp4\" type=\"video/mp4\">\n",
       "    </video>\n"
      ],
      "text/plain": [
       "<IPython.core.display.HTML object>"
      ]
     },
     "execution_count": 97,
     "metadata": {},
     "output_type": "execute_result"
    }
   ],
   "source": [
    "from IPython.display import HTML\n",
    "\n",
    "HTML(\"\"\"\n",
    "    <video alt=\"test\" controls>\n",
    "        <source src=\"video-20200810-063659-906f9f6d-db0e-11ea-a969-1831bf455a80/video.000000.mp4\" type=\"video/mp4\">\n",
    "    </video>\n",
    "\"\"\")\n"
   ]
  },
  {
   "cell_type": "code",
   "execution_count": null,
   "metadata": {},
   "outputs": [],
   "source": []
  }
 ],
 "metadata": {
  "kernelspec": {
   "display_name": "Python 3",
   "language": "python",
   "name": "python3"
  },
  "language_info": {
   "codemirror_mode": {
    "name": "ipython",
    "version": 3
   },
   "file_extension": ".py",
   "mimetype": "text/x-python",
   "name": "python",
   "nbconvert_exporter": "python",
   "pygments_lexer": "ipython3",
   "version": "3.7.7"
  }
 },
 "nbformat": 4,
 "nbformat_minor": 4
}
