{
 "cells": [
  {
   "cell_type": "code",
   "execution_count": 1,
   "metadata": {},
   "outputs": [],
   "source": [
    "import pandas as pd\n",
    "import pickle\n",
    "import numpy as np\n",
    "from tqdm.auto import tqdm\n",
    "import os"
   ]
  },
  {
   "cell_type": "code",
   "execution_count": 2,
   "metadata": {},
   "outputs": [],
   "source": [
    "# !cd /scratch/sergei/better-adversarial-defenses/adversarial-policies/experiments; ./pull_public_s3.sh\n",
    "# also check-out commit 0364447e5f6a88c4407850eeec275e15c0e5f17b (April 30th 2019) in aprl, otherwise there is an import error"
   ]
  },
  {
   "cell_type": "code",
   "execution_count": 3,
   "metadata": {},
   "outputs": [],
   "source": [
    "os.chdir('/scratch/sergei/better-adversarial-defenses/adversarial-policies/experiments')"
   ]
  },
  {
   "cell_type": "code",
   "execution_count": 4,
   "metadata": {},
   "outputs": [],
   "source": [
    "inp_path = '/scratch/sergei/better-adversarial-defenses/adversarial-policies/experiments/data/aws-public/multi_train/paper/20190429_011349/'"
   ]
  },
  {
   "cell_type": "code",
   "execution_count": 5,
   "metadata": {},
   "outputs": [],
   "source": [
    "trials = os.listdir(inp_path)\n",
    "trials = [os.path.join(inp_path, t) for t in trials]\n",
    "trials = [t for t in trials if 'YouShallNotPass' in t]"
   ]
  },
  {
   "cell_type": "code",
   "execution_count": 6,
   "metadata": {},
   "outputs": [
    {
     "data": {
      "text/plain": [
       "[\"/scratch/sergei/better-adversarial-defenses/adversarial-policies/experiments/data/aws-public/multi_train/paper/20190429_011349/train_rl-7086bd7945d8a380b53e797f3932c739_43_env_name:victim_path=['multicomp_YouShallNotPassHumans-v0', 1],seed=3,victim_index=1_2019-04-29_01-13-496q_ve3w6\",\n",
       " \"/scratch/sergei/better-adversarial-defenses/adversarial-policies/experiments/data/aws-public/multi_train/paper/20190429_011349/train_rl-7086bd7945d8a380b53e797f3932c739_10_env_name:victim_path=['multicomp_YouShallNotPassHumans-v0', 1],seed=0,victim_index=1_2019-04-29_01-13-49dzng78qx\",\n",
       " \"/scratch/sergei/better-adversarial-defenses/adversarial-policies/experiments/data/aws-public/multi_train/paper/20190429_011349/train_rl-7086bd7945d8a380b53e797f3932c739_21_env_name:victim_path=['multicomp_YouShallNotPassHumans-v0', 1],seed=1,victim_index=1_2019-04-29_01-13-49c76xordx\",\n",
       " \"/scratch/sergei/better-adversarial-defenses/adversarial-policies/experiments/data/aws-public/multi_train/paper/20190429_011349/train_rl-7086bd7945d8a380b53e797f3932c739_32_env_name:victim_path=['multicomp_YouShallNotPassHumans-v0', 1],seed=2,victim_index=1_2019-04-29_01-13-49qodrchup\",\n",
       " \"/scratch/sergei/better-adversarial-defenses/adversarial-policies/experiments/data/aws-public/multi_train/paper/20190429_011349/train_rl-7086bd7945d8a380b53e797f3932c739_54_env_name:victim_path=['multicomp_YouShallNotPassHumans-v0', 1],seed=4,victim_index=1_2019-04-29_01-13-50rtkd5uxh\"]"
      ]
     },
     "execution_count": 6,
     "metadata": {},
     "output_type": "execute_result"
    }
   ],
   "source": [
    "trials"
   ]
  },
  {
   "cell_type": "code",
   "execution_count": 11,
   "metadata": {},
   "outputs": [],
   "source": [
    "def get_trial_data(trial):\n",
    "    \"\"\"Get a dictionary of unpickled results from an aprl trial directory.\"\"\"\n",
    "    data = {}\n",
    "    for root, dirs, files in os.walk(trial):\n",
    "        for name in files:\n",
    "            if name.endswith('pkl'):\n",
    "                pkl_file = os.path.join(root, name)\n",
    "                print(\"Loading\", pkl_file)\n",
    "                with open(pkl_file, 'rb') as f:\n",
    "                    assert name not in data\n",
    "                    data[name] = pickle.load(f)\n",
    "    return data"
   ]
  },
  {
   "cell_type": "code",
   "execution_count": 13,
   "metadata": {},
   "outputs": [
    {
     "name": "stdout",
     "output_type": "stream",
     "text": [
      "Loading /scratch/sergei/better-adversarial-defenses/adversarial-policies/experiments/data/aws-public/multi_train/paper/20190429_011349/train_rl-7086bd7945d8a380b53e797f3932c739_43_env_name:victim_path=['multicomp_YouShallNotPassHumans-v0', 1],seed=3,victim_index=1_2019-04-29_01-13-496q_ve3w6/params.pkl\n",
      "Loading /scratch/sergei/better-adversarial-defenses/adversarial-policies/experiments/data/aws-public/multi_train/paper/20190429_011349/train_rl-7086bd7945d8a380b53e797f3932c739_43_env_name:victim_path=['multicomp_YouShallNotPassHumans-v0', 1],seed=3,victim_index=1_2019-04-29_01-13-496q_ve3w6/data/baselines/20190429_011354-default-env_name=multicomp_YouShallNotPassHumans-v0-victim_path=1-seed=3-victim_index=1/final_model/ret_rms.pkl\n",
      "Loading /scratch/sergei/better-adversarial-defenses/adversarial-policies/experiments/data/aws-public/multi_train/paper/20190429_011349/train_rl-7086bd7945d8a380b53e797f3932c739_43_env_name:victim_path=['multicomp_YouShallNotPassHumans-v0', 1],seed=3,victim_index=1_2019-04-29_01-13-496q_ve3w6/data/baselines/20190429_011354-default-env_name=multicomp_YouShallNotPassHumans-v0-victim_path=1-seed=3-victim_index=1/final_model/model.pkl\n",
      "Loading /scratch/sergei/better-adversarial-defenses/adversarial-policies/experiments/data/aws-public/multi_train/paper/20190429_011349/train_rl-7086bd7945d8a380b53e797f3932c739_43_env_name:victim_path=['multicomp_YouShallNotPassHumans-v0', 1],seed=3,victim_index=1_2019-04-29_01-13-496q_ve3w6/data/baselines/20190429_011354-default-env_name=multicomp_YouShallNotPassHumans-v0-victim_path=1-seed=3-victim_index=1/final_model/obs_rms.pkl\n"
     ]
    },
    {
     "data": {
      "text/plain": [
       "{'params.pkl': {'env_name:victim_path': ['multicomp/YouShallNotPassHumans-v0',\n",
       "   1],\n",
       "  'seed': 3,\n",
       "  'victim_index': 1},\n",
       " 'ret_rms.pkl': <stable_baselines.common.running_mean_std.RunningMeanStd at 0x7f14fc557750>,\n",
       " 'model.pkl': ({'gamma': 0.99,\n",
       "   'n_steps': 2048,\n",
       "   'vf_coef': 0.5,\n",
       "   'ent_coef': 0.0,\n",
       "   'max_grad_norm': 0.5,\n",
       "   'learning_rate': functools.partial(<bound method Scheduler.get_val of <modelfree.training.scheduling.Scheduler object at 0x7f14fc557d50>>, 'lr'),\n",
       "   'lam': 0.95,\n",
       "   'nminibatches': 4,\n",
       "   'noptepochs': 4,\n",
       "   'cliprange': <function stable_baselines.ppo2.ppo2.constfn.<locals>.func(_)>,\n",
       "   'verbose': 1,\n",
       "   'policy': stable_baselines.common.policies.MlpPolicy,\n",
       "   'observation_space': Box(380,),\n",
       "   'action_space': Box(17,),\n",
       "   'n_envs': 8,\n",
       "   '_vectorize_action': False,\n",
       "   'policy_kwargs': {}},\n",
       "  [array([[ 0.08474656, -0.02658829,  0.05127167, ..., -0.03986915,\n",
       "            0.07465427,  0.12608491],\n",
       "          [ 0.02955052,  0.01840544, -0.03198065, ...,  0.06725769,\n",
       "           -0.00402787, -0.03317574],\n",
       "          [ 0.15380538, -0.03458213,  0.11399449, ...,  0.15203181,\n",
       "           -0.04190576,  0.04591609],\n",
       "          ...,\n",
       "          [-0.09478921,  0.06288781, -0.16896954, ...,  0.06257502,\n",
       "            0.1246634 ,  0.01451382],\n",
       "          [ 0.03806395,  0.10388056,  0.04073851, ...,  0.00596403,\n",
       "            0.1755071 ,  0.08057177],\n",
       "          [-0.0685399 ,  0.04269426,  0.06845235, ..., -0.01102031,\n",
       "           -0.13076277, -0.01118213]], dtype=float32),\n",
       "   array([ 0.07232109,  0.16514449, -0.09027184,  0.03621551, -0.13563268,\n",
       "           0.17711727,  0.12802505, -0.11606281, -0.19894543, -0.04903037,\n",
       "           0.08316921,  0.01777902, -0.06603856,  0.00995582,  0.08062844,\n",
       "          -0.07281994,  0.13137408,  0.02298843, -0.04064044,  0.03534927,\n",
       "           0.16084819, -0.02366687,  0.0110611 , -0.0916207 ,  0.2497361 ,\n",
       "          -0.03064293, -0.01930227,  0.06104882,  0.21526237,  0.01637357,\n",
       "           0.21378519, -0.08515453, -0.13631898, -0.21090552,  0.00285895,\n",
       "           0.08512276,  0.07589464, -0.15394145,  0.00170086,  0.23318133,\n",
       "           0.10089379, -0.06426854, -0.12517771, -0.06046356, -0.23964979,\n",
       "          -0.0836146 ,  0.06021499,  0.09428551, -0.03445264, -0.08436812,\n",
       "          -0.04746825,  0.01445652, -0.06581173,  0.02253015,  0.03125267,\n",
       "           0.11379425,  0.0257424 ,  0.08176757,  0.04033646,  0.24786754,\n",
       "          -0.02027229,  0.10786053, -0.09506157,  0.0998112 ], dtype=float32),\n",
       "   array([[-0.04103586, -0.08575929, -0.00439365, ..., -0.0258061 ,\n",
       "           -0.03497013,  0.04978695],\n",
       "          [ 0.06952497,  0.05318979, -0.00674975, ...,  0.00375886,\n",
       "            0.02332205,  0.0142831 ],\n",
       "          [-0.04532256,  0.07945204, -0.16561803, ...,  0.03680428,\n",
       "           -0.03727404,  0.06664324],\n",
       "          ...,\n",
       "          [ 0.00567238,  0.11232148, -0.07201981, ...,  0.01797099,\n",
       "            0.0991402 ,  0.09566065],\n",
       "          [ 0.08891866, -0.00832247,  0.01488926, ..., -0.0490041 ,\n",
       "           -0.0317442 ,  0.00898811],\n",
       "          [-0.09003268, -0.18074569, -0.08381855, ...,  0.05318994,\n",
       "            0.02952155, -0.08165436]], dtype=float32),\n",
       "   array([ 0.14715424,  0.46225217, -0.36037788, -0.03891816,  0.19638306,\n",
       "           0.33729333, -0.44508803, -0.55627847, -0.14744866,  0.2371194 ,\n",
       "           0.18209243,  0.1689832 , -0.06599993,  0.4377958 ,  0.65805936,\n",
       "           0.07702397,  0.06963987, -0.17424774, -0.3013328 , -0.26596066,\n",
       "          -0.06799168,  0.08002722, -0.2478498 ,  0.202126  ,  0.14815219,\n",
       "           0.39804232,  0.07752366,  0.17450945, -0.43045488,  0.22960052,\n",
       "          -0.19973065,  0.45714054,  0.13472764, -0.1493996 , -0.00933532,\n",
       "          -0.0318111 ,  0.32072952,  0.28963977,  0.24790199,  0.12142722,\n",
       "          -0.09323971,  0.29747093,  0.05403163, -0.09043548, -0.4100616 ,\n",
       "           0.0624312 , -0.04325212,  0.3546953 , -0.29997548,  0.02791485,\n",
       "           0.2837118 , -0.32582954,  0.1662251 ,  0.43391585,  0.06243211,\n",
       "           0.18785436, -0.42136088, -0.02638946,  0.25286692, -0.21806481,\n",
       "           0.35249606,  0.1220118 ,  0.0806879 ,  0.03386423], dtype=float32),\n",
       "   array([[ 3.5293990e-01, -1.8203776e-01, -1.6391331e-01, ...,\n",
       "            5.1523216e-02, -3.9609492e-01, -1.8027426e-01],\n",
       "          [-3.5407528e-01, -3.3067307e-01,  1.0911208e-02, ...,\n",
       "           -5.9090739e-01,  8.3213128e-02, -2.1869246e-02],\n",
       "          [ 8.5618444e-02, -1.4262918e-01, -8.3988115e-02, ...,\n",
       "           -7.8363225e-02,  2.1137254e-02,  6.3658334e-02],\n",
       "          ...,\n",
       "          [ 2.5501880e-01,  4.8087154e-02, -1.0558208e-01, ...,\n",
       "            2.1614756e-05, -1.3852544e-01,  3.5060218e-01],\n",
       "          [-1.6178063e-01,  9.7381257e-02,  5.2949175e-02, ...,\n",
       "            3.4559441e-01,  1.4333560e-01,  3.6727732e-01],\n",
       "          [ 4.5429915e-01,  9.4246268e-03,  2.3916842e-01, ...,\n",
       "            1.9061422e-01, -3.2622573e-01,  1.2380477e-01]], dtype=float32),\n",
       "   array([ 0.17935333, -0.174822  ,  0.24337794,  0.11043305, -0.07583495,\n",
       "           0.08586395,  0.03544526,  0.08843485,  0.02603734, -0.05384682,\n",
       "           0.03381675,  0.17789187, -0.04563447,  0.2478307 ,  0.17871587,\n",
       "          -0.02518925,  0.0812318 ,  0.06547707, -0.19260599,  0.05087023,\n",
       "          -0.00544113,  0.39882916,  0.23213519, -0.17593853, -0.12215205,\n",
       "           0.02539447, -0.1655867 , -0.15220656, -0.07500765, -0.00430502,\n",
       "          -0.07301658, -0.01162972,  0.12457523, -0.04361393, -0.13894261,\n",
       "           0.2350295 , -0.15161377, -0.07766735,  0.02833321, -0.09442273,\n",
       "          -0.11269895,  0.13086528, -0.0684911 ,  0.09966394,  0.00370526,\n",
       "           0.26456183, -0.07557522, -0.08293422,  0.0889025 ,  0.0206091 ,\n",
       "           0.18160331,  0.11456411,  0.04510057,  0.03923789,  0.03975144,\n",
       "          -0.2689782 ,  0.10229873, -0.16257748, -0.14046967, -0.15692899,\n",
       "           0.24230403, -0.00547554,  0.03958333,  0.13024579], dtype=float32),\n",
       "   array([[ 0.22767292,  0.15998958, -0.11752885, ...,  0.14840762,\n",
       "           -0.35690412,  0.05423395],\n",
       "          [ 0.2632654 , -0.09494774, -0.16098791, ...,  0.6805657 ,\n",
       "           -0.17204651, -0.2630298 ],\n",
       "          [ 0.26649767,  0.3045169 ,  0.02296357, ..., -0.5033139 ,\n",
       "            0.19641438, -0.080717  ],\n",
       "          ...,\n",
       "          [-0.04770862, -0.3191847 ,  0.05814442, ..., -0.09501778,\n",
       "           -0.2806842 ,  0.00776435],\n",
       "          [-0.42385876, -0.2882108 ,  0.03096006, ...,  0.07338054,\n",
       "           -0.03498202,  0.18536885],\n",
       "          [ 0.10984649, -0.16109556,  0.21850125, ...,  0.15875365,\n",
       "           -0.22414075,  0.06724138]], dtype=float32),\n",
       "   array([-0.05707332, -0.25007343,  0.1513893 ,  0.12244372,  0.16653062,\n",
       "           0.18735829, -0.40878385, -0.27630708,  0.11200441, -0.22871359,\n",
       "           0.06961191,  0.17961414,  0.17792015,  0.11394144, -0.23403358,\n",
       "          -0.06965036, -0.01625981, -0.12032937,  0.21891676, -0.0319728 ,\n",
       "          -0.04802721,  0.08961343, -0.01289309, -0.0880247 , -0.11614197,\n",
       "           0.12418646,  0.12675889, -0.25958556, -0.00550827,  0.1150523 ,\n",
       "          -0.09767654, -0.11575054,  0.01702767, -0.03500516,  0.05256592,\n",
       "           0.05520515,  0.05373206,  0.06257537, -0.00107591, -0.00208185,\n",
       "          -0.3777964 ,  0.01542065, -0.2044715 , -0.01599332, -0.23165566,\n",
       "          -0.04226622, -0.1872321 ,  0.19905615, -0.03359597, -0.01747728,\n",
       "           0.16857181, -0.11785425, -0.08660029,  0.19719043,  0.03128086,\n",
       "           0.10500204, -0.05202301,  0.08244932,  0.09088975, -0.03550364,\n",
       "          -0.3361159 ,  0.07211719, -0.23906983,  0.10945003], dtype=float32),\n",
       "   array([[ 0.21279816],\n",
       "          [ 0.2560646 ],\n",
       "          [-0.28337723],\n",
       "          [-0.21663104],\n",
       "          [-0.19527039],\n",
       "          [-0.7040876 ],\n",
       "          [ 0.4324628 ],\n",
       "          [ 0.21982078],\n",
       "          [-0.3277559 ],\n",
       "          [ 0.09184914],\n",
       "          [-0.61152405],\n",
       "          [-0.15143411],\n",
       "          [-0.2417112 ],\n",
       "          [-0.13222373],\n",
       "          [-0.48668197],\n",
       "          [ 0.11877415],\n",
       "          [ 0.33854595],\n",
       "          [ 0.34110233],\n",
       "          [ 0.38792777],\n",
       "          [ 0.30362743],\n",
       "          [ 0.13235666],\n",
       "          [-0.2322752 ],\n",
       "          [ 0.19937044],\n",
       "          [ 0.23293245],\n",
       "          [ 0.13836725],\n",
       "          [-0.11951716],\n",
       "          [-0.12976623],\n",
       "          [ 0.28750476],\n",
       "          [-0.2926593 ],\n",
       "          [ 0.5247696 ],\n",
       "          [-0.01030026],\n",
       "          [ 0.31342036],\n",
       "          [ 0.22543323],\n",
       "          [ 0.27206257],\n",
       "          [-0.5267124 ],\n",
       "          [-0.22430262],\n",
       "          [-0.18256427],\n",
       "          [-0.22207783],\n",
       "          [ 0.3880955 ],\n",
       "          [-0.16895646],\n",
       "          [ 0.5225927 ],\n",
       "          [ 0.24764432],\n",
       "          [ 0.6074802 ],\n",
       "          [ 0.40481088],\n",
       "          [ 0.29940283],\n",
       "          [ 0.39396095],\n",
       "          [ 0.42879343],\n",
       "          [-0.2909095 ],\n",
       "          [ 0.3560769 ],\n",
       "          [-0.41681072],\n",
       "          [-0.5876237 ],\n",
       "          [ 0.29285258],\n",
       "          [ 0.24709143],\n",
       "          [-0.6660737 ],\n",
       "          [ 0.35004407],\n",
       "          [ 0.13523433],\n",
       "          [ 0.2206794 ],\n",
       "          [-0.59637135],\n",
       "          [-0.12435921],\n",
       "          [ 0.13713929],\n",
       "          [-0.39332405],\n",
       "          [ 0.47780266],\n",
       "          [ 0.32887977],\n",
       "          [-0.38589555]], dtype=float32),\n",
       "   array([-0.01301861], dtype=float32),\n",
       "   array([[ 0.06532366, -0.03577989,  0.03566206, ...,  0.20519677,\n",
       "            0.07906467,  0.10845779],\n",
       "          [ 0.20145817,  0.03363287, -0.02925632, ..., -0.04442693,\n",
       "           -0.07918003, -0.14853643],\n",
       "          [ 0.02292968, -0.14127411, -0.06436916, ...,  0.06792492,\n",
       "            0.1006638 , -0.03764014],\n",
       "          ...,\n",
       "          [ 0.06083001, -0.01353877,  0.09443565, ..., -0.0849146 ,\n",
       "           -0.06779435,  0.06936307],\n",
       "          [-0.05797117,  0.14035985, -0.05937945, ...,  0.07366505,\n",
       "            0.17097123, -0.16786942],\n",
       "          [ 0.07454022, -0.01871428, -0.08738785, ..., -0.0221775 ,\n",
       "            0.05724194, -0.10095987]], dtype=float32),\n",
       "   array([ 0.09011148, -0.19863436, -0.1824959 ,  0.0152763 ,  0.09427163,\n",
       "          -0.06631172, -0.18484853, -0.02960075, -0.12244304, -0.14688417,\n",
       "           0.03077975, -0.0595758 , -0.0320086 ,  0.24279693,  0.1246577 ,\n",
       "           0.20746826,  0.01794317], dtype=float32),\n",
       "   array([[-0.7044524 , -0.79637516, -0.4018268 , -0.6369586 , -0.29972866,\n",
       "           -0.48682448, -0.65906805, -0.28370196, -0.66776663, -0.55773467,\n",
       "           -0.46767423, -0.59309953, -0.41653618, -0.30763176, -0.5780677 ,\n",
       "           -0.38753882, -0.38350984]], dtype=float32),\n",
       "   array([[-2.0714526e-03, -1.2929970e-03, -2.4097208e-03, ...,\n",
       "           -8.2109636e-04,  2.0748163e-03, -1.2512434e-03],\n",
       "          [-1.4341527e-03,  8.7227591e-04,  2.4023189e-03, ...,\n",
       "           -8.6569233e-04, -1.3498901e-03,  1.7108758e-03],\n",
       "          [-2.6216637e-04,  1.0824753e-03, -9.6649560e-04, ...,\n",
       "           -3.3581979e-04, -8.3164638e-04, -1.6125441e-03],\n",
       "          ...,\n",
       "          [ 7.0731662e-04, -3.8151393e-05, -1.3243330e-03, ...,\n",
       "            9.8535477e-04, -8.4728893e-04, -8.2434271e-04],\n",
       "          [ 6.3055760e-04, -2.2496330e-03, -5.1157462e-04, ...,\n",
       "            1.1452324e-03, -3.0210352e-04, -4.8024196e-04],\n",
       "          [ 1.2175788e-03, -7.8156532e-04,  1.2483384e-04, ...,\n",
       "           -2.6589110e-03, -4.1915447e-04, -1.5400042e-03]], dtype=float32),\n",
       "   array([0., 0., 0., 0., 0., 0., 0., 0., 0., 0., 0., 0., 0., 0., 0., 0., 0.],\n",
       "         dtype=float32)]),\n",
       " 'obs_rms.pkl': <stable_baselines.common.running_mean_std.RunningMeanStd at 0x7f1524c35150>}"
      ]
     },
     "execution_count": 13,
     "metadata": {},
     "output_type": "execute_result"
    }
   ],
   "source": [
    "get_trial_data(trial)"
   ]
  },
  {
   "cell_type": "code",
   "execution_count": 16,
   "metadata": {},
   "outputs": [],
   "source": [
    "from gym_compete.policy import MlpPolicyValue"
   ]
  },
  {
   "cell_type": "code",
   "execution_count": 23,
   "metadata": {},
   "outputs": [
    {
     "data": {
      "text/plain": [
       "['__class__',\n",
       " '__delattr__',\n",
       " '__dict__',\n",
       " '__dir__',\n",
       " '__doc__',\n",
       " '__eq__',\n",
       " '__format__',\n",
       " '__ge__',\n",
       " '__getattribute__',\n",
       " '__gt__',\n",
       " '__hash__',\n",
       " '__init__',\n",
       " '__init_subclass__',\n",
       " '__le__',\n",
       " '__lt__',\n",
       " '__module__',\n",
       " '__ne__',\n",
       " '__new__',\n",
       " '__reduce__',\n",
       " '__reduce_ex__',\n",
       " '__repr__',\n",
       " '__setattr__',\n",
       " '__sizeof__',\n",
       " '__str__',\n",
       " '__subclasshook__',\n",
       " '__weakref__',\n",
       " 'count',\n",
       " 'mean',\n",
       " 'update',\n",
       " 'update_from_moments',\n",
       " 'var']"
      ]
     },
     "execution_count": 23,
     "metadata": {},
     "output_type": "execute_result"
    }
   ],
   "source": [
    "dir(data['obs_rms.pkl'])"
   ]
  },
  {
   "cell_type": "code",
   "execution_count": 32,
   "metadata": {},
   "outputs": [
    {
     "name": "stdout",
     "output_type": "stream",
     "text": [
      "ap_rllib policy\n",
      "0 (380, 64)\n",
      "1 (64,)\n",
      "2 (380, 64)\n",
      "3 (64,)\n",
      "4 (64, 64)\n",
      "5 (64,)\n",
      "6 (64, 64)\n",
      "7 (64,)\n",
      "8 (64, 1)\n",
      "9 (1,)\n",
      "10 (64, 17)\n",
      "11 (17,)\n",
      "12 (1, 17)\n",
      "13 (64, 17)\n",
      "14 (17,)\n"
     ]
    }
   ],
   "source": [
    "print(\"ap_rllib policy\")\n",
    "for i, x in enumerate(data['model.pkl'][1]):\n",
    "    print(i, x.shape)"
   ]
  },
  {
   "cell_type": "code",
   "execution_count": 33,
   "metadata": {},
   "outputs": [
    {
     "data": {
      "text/plain": [
       "((380,), ())"
      ]
     },
     "execution_count": 33,
     "metadata": {},
     "output_type": "execute_result"
    }
   ],
   "source": [
    "data['obs_rms.pkl'].mean.shape, data['ret_rms.pkl'].mean.shape"
   ]
  },
  {
   "cell_type": "code",
   "execution_count": null,
   "metadata": {},
   "outputs": [],
   "source": []
  }
 ],
 "metadata": {
  "kernelspec": {
   "display_name": "Python 3",
   "language": "python",
   "name": "python3"
  },
  "language_info": {
   "codemirror_mode": {
    "name": "ipython",
    "version": 3
   },
   "file_extension": ".py",
   "mimetype": "text/x-python",
   "name": "python",
   "nbconvert_exporter": "python",
   "pygments_lexer": "ipython3",
   "version": "3.7.9"
  }
 },
 "nbformat": 4,
 "nbformat_minor": 4
}
