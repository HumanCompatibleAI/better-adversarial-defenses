{
 "cells": [
  {
   "cell_type": "code",
   "execution_count": 1,
   "metadata": {},
   "outputs": [],
   "source": [
    "from ray.tune.analysis import Analysis\n",
    "from matplotlib import pyplot as plt\n",
    "import plotly.express as px\n",
    "import numpy as np\n",
    "import pandas as pd"
   ]
  },
  {
   "cell_type": "code",
   "execution_count": 2,
   "metadata": {},
   "outputs": [],
   "source": [
    "analysis = Analysis(\"/home/sergei/ray_results/adversarial_external_sb\")"
   ]
  },
  {
   "cell_type": "code",
   "execution_count": 3,
   "metadata": {},
   "outputs": [],
   "source": [
    "target = 'policy_reward_mean/player_1'"
   ]
  },
  {
   "cell_type": "code",
   "execution_count": 45,
   "metadata": {},
   "outputs": [],
   "source": [
    "df = analysis.dataframe(metric=target, mode='max')"
   ]
  },
  {
   "cell_type": "code",
   "execution_count": 46,
   "metadata": {},
   "outputs": [
    {
     "data": {
      "text/plain": [
       "episode_reward_max                                                     6.65569\n",
       "episode_reward_min                                                    -5.18928\n",
       "episode_reward_mean                                                    4.59318\n",
       "episode_len_mean                                                       158.272\n",
       "episodes_this_iter                                                         136\n",
       "                                                   ...                        \n",
       "config/sgd_minibatch_size                                                 4096\n",
       "config/train_batch_size                                                  16384\n",
       "config/use_gae                                                            True\n",
       "logdir                       /home/sergei/ray_results/adversarial_external_...\n",
       "config/run_uid                                                             NaN\n",
       "Name: 0, Length: 95, dtype: object"
      ]
     },
     "execution_count": 46,
     "metadata": {},
     "output_type": "execute_result"
    }
   ],
   "source": [
    "df.iloc[0]"
   ]
  },
  {
   "cell_type": "code",
   "execution_count": 47,
   "metadata": {},
   "outputs": [
    {
     "data": {
      "text/plain": [
       "Index(['episode_reward_max', 'episode_reward_min', 'episode_reward_mean',\n",
       "       'episode_len_mean', 'episodes_this_iter', 'num_healthy_workers',\n",
       "       'timesteps_total', 'done', 'episodes_total', 'training_iteration',\n",
       "       'experiment_id', 'date', 'timestamp', 'time_this_iter_s',\n",
       "       'time_total_s', 'pid', 'hostname', 'node_ip', 'time_since_restore',\n",
       "       'timesteps_since_restore', 'iterations_since_restore',\n",
       "       'checkpoint_rllib', 'trainer_iteration', 'trial_id', 'experiment_tag',\n",
       "       'policy_reward_min/player_1', 'policy_reward_min/player_2',\n",
       "       'policy_reward_max/player_1', 'policy_reward_max/player_2',\n",
       "       'policy_reward_mean/player_1', 'policy_reward_mean/player_2',\n",
       "       'hist_stats/episode_reward', 'hist_stats/episode_lengths',\n",
       "       'hist_stats/policy_player_1_reward',\n",
       "       'hist_stats/policy_player_2_reward', 'sampler_perf/mean_env_wait_ms',\n",
       "       'sampler_perf/mean_processing_ms', 'sampler_perf/mean_inference_ms',\n",
       "       'timers/sample_time_ms', 'timers/sample_throughput',\n",
       "       'timers/load_time_ms', 'timers/load_throughput', 'timers/learn_time_ms',\n",
       "       'timers/learn_throughput', 'timers/update_time_ms',\n",
       "       'info/num_steps_sampled', 'info/num_steps_trained',\n",
       "       'perf/cpu_util_percent', 'perf/ram_util_percent',\n",
       "       'info/learner/player_1/serial_timesteps',\n",
       "       'info/learner/player_1/n_updates',\n",
       "       'info/learner/player_1/total_timesteps', 'info/learner/player_1/fps',\n",
       "       'info/learner/player_1/explained_variance',\n",
       "       'info/learner/player_1/time_elapsed',\n",
       "       'info/learner/player_1/policy_loss', 'info/learner/player_1/value_loss',\n",
       "       'info/learner/player_1/policy_entropy',\n",
       "       'info/learner/player_1/approxkl', 'info/learner/player_1/clipfrac',\n",
       "       'config/_base_dir', 'config/_call', 'config/_env', 'config/_env_fcn',\n",
       "       'config/_env_name_rllib', 'config/_get_policies', 'config/_log_error',\n",
       "       'config/_main_filename', 'config/_model_params',\n",
       "       'config/_num_workers_tf', 'config/_policies', 'config/_policy',\n",
       "       'config/_redis_address', 'config/_run_inline', 'config/_select_policy',\n",
       "       'config/_tmp_dir', 'config/_train_policies', 'config/_train_steps',\n",
       "       'config/_trainer', 'config/_update_config', 'config/batch_mode',\n",
       "       'config/framework', 'config/http_remote_port', 'config/kl_coeff',\n",
       "       'config/lr', 'config/num_envs_per_worker', 'config/num_gpus',\n",
       "       'config/num_sgd_iter', 'config/num_workers',\n",
       "       'config/rollout_fragment_length', 'config/sgd_minibatch_size',\n",
       "       'config/train_batch_size', 'config/use_gae', 'logdir',\n",
       "       'config/run_uid'],\n",
       "      dtype='object')"
      ]
     },
     "execution_count": 47,
     "metadata": {},
     "output_type": "execute_result"
    }
   ],
   "source": [
    "df.columns"
   ]
  },
  {
   "cell_type": "code",
   "execution_count": 48,
   "metadata": {},
   "outputs": [],
   "source": [
    "for k in df.columns:\n",
    "#     if k.startswith('episode'):\n",
    "#         del df[k]\n",
    "    if not (k.startswith('config') or k == target or k == 'checkpoint_rllib' or k == 'logdir' or k == 'experiment_tag'):\n",
    "        del df[k]"
   ]
  },
  {
   "cell_type": "code",
   "execution_count": 49,
   "metadata": {},
   "outputs": [],
   "source": [
    "df = df.sort_values(target, ascending=False)"
   ]
  },
  {
   "cell_type": "code",
   "execution_count": 50,
   "metadata": {},
   "outputs": [
    {
     "data": {
      "text/html": [
       "<div>\n",
       "<style scoped>\n",
       "    .dataframe tbody tr th:only-of-type {\n",
       "        vertical-align: middle;\n",
       "    }\n",
       "\n",
       "    .dataframe tbody tr th {\n",
       "        vertical-align: top;\n",
       "    }\n",
       "\n",
       "    .dataframe thead th {\n",
       "        text-align: right;\n",
       "    }\n",
       "</style>\n",
       "<table border=\"1\" class=\"dataframe\">\n",
       "  <thead>\n",
       "    <tr style=\"text-align: right;\">\n",
       "      <th></th>\n",
       "      <th>checkpoint_rllib</th>\n",
       "      <th>experiment_tag</th>\n",
       "      <th>policy_reward_mean/player_1</th>\n",
       "      <th>config/_base_dir</th>\n",
       "      <th>config/_call</th>\n",
       "      <th>config/_env</th>\n",
       "      <th>config/_env_fcn</th>\n",
       "      <th>config/_env_name_rllib</th>\n",
       "      <th>config/_get_policies</th>\n",
       "      <th>config/_log_error</th>\n",
       "      <th>...</th>\n",
       "      <th>config/num_envs_per_worker</th>\n",
       "      <th>config/num_gpus</th>\n",
       "      <th>config/num_sgd_iter</th>\n",
       "      <th>config/num_workers</th>\n",
       "      <th>config/rollout_fragment_length</th>\n",
       "      <th>config/sgd_minibatch_size</th>\n",
       "      <th>config/train_batch_size</th>\n",
       "      <th>config/use_gae</th>\n",
       "      <th>logdir</th>\n",
       "      <th>config/run_uid</th>\n",
       "    </tr>\n",
       "  </thead>\n",
       "  <tbody>\n",
       "    <tr>\n",
       "      <th>1</th>\n",
       "      <td>/home/sergei/ray_results/External_multicomp_20...</td>\n",
       "      <td>1</td>\n",
       "      <td>8.690476</td>\n",
       "      <td>/scratch/sergei/better-adversarial-defenses</td>\n",
       "      <td>{'checkpoint_freq': 0, 'name': 'adversarial_ex...</td>\n",
       "      <td>{'SingleAgentToMultiAgent': False, 'env_name':...</td>\n",
       "      <td>&lt;function create_env at 0x7fc6831dfc20&gt;</td>\n",
       "      <td>multicomp</td>\n",
       "      <td>&lt;function get_policies_default at 0x7fc6831b87a0&gt;</td>\n",
       "      <td>True</td>\n",
       "      <td>...</td>\n",
       "      <td>10</td>\n",
       "      <td>0</td>\n",
       "      <td>4</td>\n",
       "      <td>9</td>\n",
       "      <td>100</td>\n",
       "      <td>4096</td>\n",
       "      <td>16384</td>\n",
       "      <td>True</td>\n",
       "      <td>/home/sergei/ray_results/adversarial_external_...</td>\n",
       "      <td>_setme</td>\n",
       "    </tr>\n",
       "    <tr>\n",
       "      <th>5</th>\n",
       "      <td>/home/sergei/ray_results/External_multicomp_20...</td>\n",
       "      <td>0</td>\n",
       "      <td>7.668712</td>\n",
       "      <td>/scratch/sergei/better-adversarial-defenses</td>\n",
       "      <td>{'checkpoint_freq': 0, 'name': 'adversarial_ex...</td>\n",
       "      <td>{'SingleAgentToMultiAgent': False, 'env_name':...</td>\n",
       "      <td>&lt;function create_env at 0x7fc6831dfc20&gt;</td>\n",
       "      <td>multicomp</td>\n",
       "      <td>&lt;function get_policies_default at 0x7fc6831b87a0&gt;</td>\n",
       "      <td>True</td>\n",
       "      <td>...</td>\n",
       "      <td>10</td>\n",
       "      <td>0</td>\n",
       "      <td>4</td>\n",
       "      <td>9</td>\n",
       "      <td>100</td>\n",
       "      <td>4096</td>\n",
       "      <td>16384</td>\n",
       "      <td>True</td>\n",
       "      <td>/home/sergei/ray_results/adversarial_external_...</td>\n",
       "      <td>_setme</td>\n",
       "    </tr>\n",
       "    <tr>\n",
       "      <th>6</th>\n",
       "      <td>/home/sergei/ray_results/External_multicomp_20...</td>\n",
       "      <td>0</td>\n",
       "      <td>6.235294</td>\n",
       "      <td>/scratch/sergei/better-adversarial-defenses</td>\n",
       "      <td>{'checkpoint_freq': 0, 'name': 'adversarial_ex...</td>\n",
       "      <td>{'SingleAgentToMultiAgent': False, 'env_name':...</td>\n",
       "      <td>&lt;function create_env at 0x7f8877e6add0&gt;</td>\n",
       "      <td>multicomp</td>\n",
       "      <td>&lt;function get_policies_default at 0x7f8877c113b0&gt;</td>\n",
       "      <td>True</td>\n",
       "      <td>...</td>\n",
       "      <td>10</td>\n",
       "      <td>0</td>\n",
       "      <td>4</td>\n",
       "      <td>10</td>\n",
       "      <td>100</td>\n",
       "      <td>4096</td>\n",
       "      <td>16384</td>\n",
       "      <td>True</td>\n",
       "      <td>/home/sergei/ray_results/adversarial_external_...</td>\n",
       "      <td>_setme</td>\n",
       "    </tr>\n",
       "    <tr>\n",
       "      <th>3</th>\n",
       "      <td>/home/sergei/ray_results/External_multicomp_20...</td>\n",
       "      <td>2</td>\n",
       "      <td>6.233766</td>\n",
       "      <td>/scratch/sergei/better-adversarial-defenses</td>\n",
       "      <td>{'checkpoint_freq': 0, 'name': 'adversarial_ex...</td>\n",
       "      <td>{'SingleAgentToMultiAgent': False, 'env_name':...</td>\n",
       "      <td>&lt;function create_env at 0x7fc6831dfc20&gt;</td>\n",
       "      <td>multicomp</td>\n",
       "      <td>&lt;function get_policies_default at 0x7fc6831b87a0&gt;</td>\n",
       "      <td>True</td>\n",
       "      <td>...</td>\n",
       "      <td>10</td>\n",
       "      <td>0</td>\n",
       "      <td>4</td>\n",
       "      <td>9</td>\n",
       "      <td>100</td>\n",
       "      <td>4096</td>\n",
       "      <td>16384</td>\n",
       "      <td>True</td>\n",
       "      <td>/home/sergei/ray_results/adversarial_external_...</td>\n",
       "      <td>_setme</td>\n",
       "    </tr>\n",
       "    <tr>\n",
       "      <th>7</th>\n",
       "      <td>/home/sergei/ray_results/External_multicomp_20...</td>\n",
       "      <td>1</td>\n",
       "      <td>-5.757576</td>\n",
       "      <td>/scratch/sergei/better-adversarial-defenses</td>\n",
       "      <td>{'checkpoint_freq': 0, 'name': 'adversarial_ex...</td>\n",
       "      <td>{'env_name': 'multicomp/YouShallNotPassHumans-...</td>\n",
       "      <td>&lt;function create_env at 0x7fe67f20e5f0&gt;</td>\n",
       "      <td>multicomp</td>\n",
       "      <td>&lt;function get_policies_default at 0x7fe67f20ea70&gt;</td>\n",
       "      <td>True</td>\n",
       "      <td>...</td>\n",
       "      <td>10</td>\n",
       "      <td>0</td>\n",
       "      <td>4</td>\n",
       "      <td>5</td>\n",
       "      <td>100</td>\n",
       "      <td>4096</td>\n",
       "      <td>16384</td>\n",
       "      <td>True</td>\n",
       "      <td>/home/sergei/ray_results/adversarial_external_...</td>\n",
       "      <td>_setme</td>\n",
       "    </tr>\n",
       "    <tr>\n",
       "      <th>4</th>\n",
       "      <td>/home/sergei/ray_results/External_multicomp_20...</td>\n",
       "      <td>0</td>\n",
       "      <td>-5.877863</td>\n",
       "      <td>/scratch/sergei/better-adversarial-defenses</td>\n",
       "      <td>{'checkpoint_freq': 0, 'name': 'adversarial_ex...</td>\n",
       "      <td>{'env_name': 'multicomp/YouShallNotPassHumans-...</td>\n",
       "      <td>&lt;function create_env at 0x7fe67f20e5f0&gt;</td>\n",
       "      <td>multicomp</td>\n",
       "      <td>&lt;function get_policies_default at 0x7fe67f20ea70&gt;</td>\n",
       "      <td>True</td>\n",
       "      <td>...</td>\n",
       "      <td>10</td>\n",
       "      <td>0</td>\n",
       "      <td>4</td>\n",
       "      <td>5</td>\n",
       "      <td>100</td>\n",
       "      <td>4096</td>\n",
       "      <td>16384</td>\n",
       "      <td>True</td>\n",
       "      <td>/home/sergei/ray_results/adversarial_external_...</td>\n",
       "      <td>_setme</td>\n",
       "    </tr>\n",
       "    <tr>\n",
       "      <th>0</th>\n",
       "      <td>/home/sergei/ray_results/External_multicomp_20...</td>\n",
       "      <td>0</td>\n",
       "      <td>-6.764706</td>\n",
       "      <td>/scratch/sergei/better-adversarial-defenses</td>\n",
       "      <td>{'checkpoint_freq': 0, 'name': 'adversarial_ex...</td>\n",
       "      <td>{'env_name': 'multicomp/YouShallNotPassHumans-...</td>\n",
       "      <td>&lt;function create_env at 0x7f29b2962680&gt;</td>\n",
       "      <td>multicomp</td>\n",
       "      <td>&lt;function get_policies_default at 0x7f29b2962b00&gt;</td>\n",
       "      <td>True</td>\n",
       "      <td>...</td>\n",
       "      <td>10</td>\n",
       "      <td>0</td>\n",
       "      <td>4</td>\n",
       "      <td>5</td>\n",
       "      <td>100</td>\n",
       "      <td>4096</td>\n",
       "      <td>16384</td>\n",
       "      <td>True</td>\n",
       "      <td>/home/sergei/ray_results/adversarial_external_...</td>\n",
       "      <td>NaN</td>\n",
       "    </tr>\n",
       "    <tr>\n",
       "      <th>2</th>\n",
       "      <td>/home/sergei/ray_results/External_multicomp_20...</td>\n",
       "      <td>1</td>\n",
       "      <td>-7.588652</td>\n",
       "      <td>/scratch/sergei/better-adversarial-defenses</td>\n",
       "      <td>{'checkpoint_freq': 0, 'name': 'adversarial_ex...</td>\n",
       "      <td>{'env_name': 'multicomp/YouShallNotPassHumans-...</td>\n",
       "      <td>&lt;function create_env at 0x7f29b2962680&gt;</td>\n",
       "      <td>multicomp</td>\n",
       "      <td>&lt;function get_policies_default at 0x7f29b2962b00&gt;</td>\n",
       "      <td>True</td>\n",
       "      <td>...</td>\n",
       "      <td>10</td>\n",
       "      <td>0</td>\n",
       "      <td>4</td>\n",
       "      <td>5</td>\n",
       "      <td>100</td>\n",
       "      <td>4096</td>\n",
       "      <td>16384</td>\n",
       "      <td>True</td>\n",
       "      <td>/home/sergei/ray_results/adversarial_external_...</td>\n",
       "      <td>NaN</td>\n",
       "    </tr>\n",
       "  </tbody>\n",
       "</table>\n",
       "<p>8 rows × 38 columns</p>\n",
       "</div>"
      ],
      "text/plain": [
       "                                    checkpoint_rllib  experiment_tag  \\\n",
       "1  /home/sergei/ray_results/External_multicomp_20...               1   \n",
       "5  /home/sergei/ray_results/External_multicomp_20...               0   \n",
       "6  /home/sergei/ray_results/External_multicomp_20...               0   \n",
       "3  /home/sergei/ray_results/External_multicomp_20...               2   \n",
       "7  /home/sergei/ray_results/External_multicomp_20...               1   \n",
       "4  /home/sergei/ray_results/External_multicomp_20...               0   \n",
       "0  /home/sergei/ray_results/External_multicomp_20...               0   \n",
       "2  /home/sergei/ray_results/External_multicomp_20...               1   \n",
       "\n",
       "   policy_reward_mean/player_1                             config/_base_dir  \\\n",
       "1                     8.690476  /scratch/sergei/better-adversarial-defenses   \n",
       "5                     7.668712  /scratch/sergei/better-adversarial-defenses   \n",
       "6                     6.235294  /scratch/sergei/better-adversarial-defenses   \n",
       "3                     6.233766  /scratch/sergei/better-adversarial-defenses   \n",
       "7                    -5.757576  /scratch/sergei/better-adversarial-defenses   \n",
       "4                    -5.877863  /scratch/sergei/better-adversarial-defenses   \n",
       "0                    -6.764706  /scratch/sergei/better-adversarial-defenses   \n",
       "2                    -7.588652  /scratch/sergei/better-adversarial-defenses   \n",
       "\n",
       "                                        config/_call  \\\n",
       "1  {'checkpoint_freq': 0, 'name': 'adversarial_ex...   \n",
       "5  {'checkpoint_freq': 0, 'name': 'adversarial_ex...   \n",
       "6  {'checkpoint_freq': 0, 'name': 'adversarial_ex...   \n",
       "3  {'checkpoint_freq': 0, 'name': 'adversarial_ex...   \n",
       "7  {'checkpoint_freq': 0, 'name': 'adversarial_ex...   \n",
       "4  {'checkpoint_freq': 0, 'name': 'adversarial_ex...   \n",
       "0  {'checkpoint_freq': 0, 'name': 'adversarial_ex...   \n",
       "2  {'checkpoint_freq': 0, 'name': 'adversarial_ex...   \n",
       "\n",
       "                                         config/_env  \\\n",
       "1  {'SingleAgentToMultiAgent': False, 'env_name':...   \n",
       "5  {'SingleAgentToMultiAgent': False, 'env_name':...   \n",
       "6  {'SingleAgentToMultiAgent': False, 'env_name':...   \n",
       "3  {'SingleAgentToMultiAgent': False, 'env_name':...   \n",
       "7  {'env_name': 'multicomp/YouShallNotPassHumans-...   \n",
       "4  {'env_name': 'multicomp/YouShallNotPassHumans-...   \n",
       "0  {'env_name': 'multicomp/YouShallNotPassHumans-...   \n",
       "2  {'env_name': 'multicomp/YouShallNotPassHumans-...   \n",
       "\n",
       "                           config/_env_fcn config/_env_name_rllib  \\\n",
       "1  <function create_env at 0x7fc6831dfc20>              multicomp   \n",
       "5  <function create_env at 0x7fc6831dfc20>              multicomp   \n",
       "6  <function create_env at 0x7f8877e6add0>              multicomp   \n",
       "3  <function create_env at 0x7fc6831dfc20>              multicomp   \n",
       "7  <function create_env at 0x7fe67f20e5f0>              multicomp   \n",
       "4  <function create_env at 0x7fe67f20e5f0>              multicomp   \n",
       "0  <function create_env at 0x7f29b2962680>              multicomp   \n",
       "2  <function create_env at 0x7f29b2962680>              multicomp   \n",
       "\n",
       "                                config/_get_policies  config/_log_error  ...  \\\n",
       "1  <function get_policies_default at 0x7fc6831b87a0>               True  ...   \n",
       "5  <function get_policies_default at 0x7fc6831b87a0>               True  ...   \n",
       "6  <function get_policies_default at 0x7f8877c113b0>               True  ...   \n",
       "3  <function get_policies_default at 0x7fc6831b87a0>               True  ...   \n",
       "7  <function get_policies_default at 0x7fe67f20ea70>               True  ...   \n",
       "4  <function get_policies_default at 0x7fe67f20ea70>               True  ...   \n",
       "0  <function get_policies_default at 0x7f29b2962b00>               True  ...   \n",
       "2  <function get_policies_default at 0x7f29b2962b00>               True  ...   \n",
       "\n",
       "  config/num_envs_per_worker config/num_gpus  config/num_sgd_iter  \\\n",
       "1                         10               0                    4   \n",
       "5                         10               0                    4   \n",
       "6                         10               0                    4   \n",
       "3                         10               0                    4   \n",
       "7                         10               0                    4   \n",
       "4                         10               0                    4   \n",
       "0                         10               0                    4   \n",
       "2                         10               0                    4   \n",
       "\n",
       "  config/num_workers config/rollout_fragment_length config/sgd_minibatch_size  \\\n",
       "1                  9                            100                      4096   \n",
       "5                  9                            100                      4096   \n",
       "6                 10                            100                      4096   \n",
       "3                  9                            100                      4096   \n",
       "7                  5                            100                      4096   \n",
       "4                  5                            100                      4096   \n",
       "0                  5                            100                      4096   \n",
       "2                  5                            100                      4096   \n",
       "\n",
       "   config/train_batch_size config/use_gae  \\\n",
       "1                    16384           True   \n",
       "5                    16384           True   \n",
       "6                    16384           True   \n",
       "3                    16384           True   \n",
       "7                    16384           True   \n",
       "4                    16384           True   \n",
       "0                    16384           True   \n",
       "2                    16384           True   \n",
       "\n",
       "                                              logdir config/run_uid  \n",
       "1  /home/sergei/ray_results/adversarial_external_...         _setme  \n",
       "5  /home/sergei/ray_results/adversarial_external_...         _setme  \n",
       "6  /home/sergei/ray_results/adversarial_external_...         _setme  \n",
       "3  /home/sergei/ray_results/adversarial_external_...         _setme  \n",
       "7  /home/sergei/ray_results/adversarial_external_...         _setme  \n",
       "4  /home/sergei/ray_results/adversarial_external_...         _setme  \n",
       "0  /home/sergei/ray_results/adversarial_external_...            NaN  \n",
       "2  /home/sergei/ray_results/adversarial_external_...            NaN  \n",
       "\n",
       "[8 rows x 38 columns]"
      ]
     },
     "execution_count": 50,
     "metadata": {},
     "output_type": "execute_result"
    }
   ],
   "source": [
    "df"
   ]
  },
  {
   "cell_type": "code",
   "execution_count": 51,
   "metadata": {},
   "outputs": [
    {
     "data": {
      "text/plain": [
       "(array([2., 2., 0., 0., 0., 0., 0., 0., 2., 2.]),\n",
       " array([-7.58865248, -5.96073961, -4.33282675, -2.70491388, -1.07700101,\n",
       "         0.55091185,  2.17882472,  3.80673759,  5.43465046,  7.06256332,\n",
       "         8.69047619]),\n",
       " <a list of 10 Patch objects>)"
      ]
     },
     "execution_count": 51,
     "metadata": {},
     "output_type": "execute_result"
    },
    {
     "data": {
      "image/png": "[encoded data removed]",
      "text/plain": [
       "<Figure size 432x288 with 1 Axes>"
      ]
     },
     "metadata": {
      "needs_background": "light"
     },
     "output_type": "display_data"
    }
   ],
   "source": [
    "plt.hist(df[target])"
   ]
  },
  {
   "cell_type": "code",
   "execution_count": 52,
   "metadata": {},
   "outputs": [
    {
     "data": {
      "text/plain": [
       "checkpoint_rllib                  /home/sergei/ray_results/External_multicomp_20...\n",
       "experiment_tag                                                                    0\n",
       "policy_reward_mean/player_1                                                 7.66871\n",
       "config/_base_dir                        /scratch/sergei/better-adversarial-defenses\n",
       "config/_call                      {'checkpoint_freq': 0, 'name': 'adversarial_ex...\n",
       "config/_env                       {'SingleAgentToMultiAgent': False, 'env_name':...\n",
       "config/_env_fcn                             <function create_env at 0x7fc6831dfc20>\n",
       "config/_env_name_rllib                                                    multicomp\n",
       "config/_get_policies              <function get_policies_default at 0x7fc6831b87a0>\n",
       "config/_log_error                                                              True\n",
       "config/_main_filename             /scratch/sergei/better-adversarial-defenses/tr...\n",
       "config/_model_params              {'fcnet_activation': 'tanh', 'fcnet_hiddens': ...\n",
       "config/_num_workers_tf                                                            4\n",
       "config/_policies                                [None, from_scratch_sb, pretrained]\n",
       "config/_policy                                                                  PPO\n",
       "config/_redis_address                                             128.32.175.9:6379\n",
       "config/_run_inline                                                            False\n",
       "config/_select_policy             <function select_policy_default at 0x7fc6831b8...\n",
       "config/_tmp_dir                                                                /tmp\n",
       "config/_train_policies                                                   [player_1]\n",
       "config/_train_steps                                                           10000\n",
       "config/_trainer                                                            External\n",
       "config/_update_config                                                          None\n",
       "config/batch_mode                                                 complete_episodes\n",
       "config/framework                                                                tfe\n",
       "config/http_remote_port                                      http://127.0.0.1:50001\n",
       "config/kl_coeff                                                                   1\n",
       "config/lr                                                                    0.0003\n",
       "config/num_envs_per_worker                                                       10\n",
       "config/num_gpus                                                                   0\n",
       "config/num_sgd_iter                                                               4\n",
       "config/num_workers                                                                9\n",
       "config/rollout_fragment_length                                                  100\n",
       "config/sgd_minibatch_size                                                      4096\n",
       "config/train_batch_size                                                       16384\n",
       "config/use_gae                                                                 True\n",
       "logdir                            /home/sergei/ray_results/adversarial_external_...\n",
       "config/run_uid                                                               _setme\n",
       "Name: 5, dtype: object"
      ]
     },
     "execution_count": 52,
     "metadata": {},
     "output_type": "execute_result"
    }
   ],
   "source": [
    "idx = 1\n",
    "best_trial = df.iloc[idx].logdir\n",
    "df.iloc[idx]"
   ]
  },
  {
   "cell_type": "code",
   "execution_count": 53,
   "metadata": {},
   "outputs": [
    {
     "data": {
      "image/png": "[encoded data removed]",
      "text/plain": [
       "<Figure size 432x288 with 1 Axes>"
      ]
     },
     "metadata": {
      "needs_background": "light"
     },
     "output_type": "display_data"
    }
   ],
   "source": [
    "for k, df_ in analysis.trial_dataframes.items():\n",
    "    rew = df_[target]\n",
    "    plt.plot(pd.Series(rew).rolling(10).mean()[:4000], label=k.split('-')[-1])\n",
    "    #imax = np.argmax(rew)\n",
    "    plt.legend()\n",
    "#     imax = -1\n",
    "#     plt.axvline(imax)"
   ]
  },
  {
   "cell_type": "code",
   "execution_count": 54,
   "metadata": {},
   "outputs": [
    {
     "data": {
      "text/plain": [
       "'/home/sergei/ray_results/adversarial_external_sb/train_one_with_sacred_1_2020-09-13_13-22-14be9u3htf'"
      ]
     },
     "execution_count": 54,
     "metadata": {},
     "output_type": "execute_result"
    }
   ],
   "source": [
    "idx = 0\n",
    "best_trial = df.iloc[idx].logdir\n",
    "df.iloc[idx]\n",
    "best_trial"
   ]
  },
  {
   "cell_type": "code",
   "execution_count": 55,
   "metadata": {},
   "outputs": [],
   "source": [
    "df_best = analysis.trial_dataframes[best_trial]"
   ]
  },
  {
   "cell_type": "code",
   "execution_count": 66,
   "metadata": {},
   "outputs": [
    {
     "data": {
      "text/plain": [
       "'/home/sergei/ray_results/External_multicomp_2020-09-14_15-38-15qrx746eg/checkpoint_3273/checkpoint-3273'"
      ]
     },
     "execution_count": 66,
     "metadata": {},
     "output_type": "execute_result"
    }
   ],
   "source": [
    "checkpoint = df_best.checkpoint_rllib.iloc[imax]\n",
    "checkpoint"
   ]
  },
  {
   "cell_type": "code",
   "execution_count": 68,
   "metadata": {},
   "outputs": [
    {
     "name": "stdout",
     "output_type": "stream",
     "text": [
      "Creating agent humanoid_blocker\n",
      "Reading agent XML from: /scratch/sergei/better-adversarial-defenses/multiagent-competition/gym_compete/new_envs/assets/humanoid_body.xml\n",
      "Creating agent humanoid\n",
      "Reading agent XML from: /scratch/sergei/better-adversarial-defenses/multiagent-competition/gym_compete/new_envs/assets/humanoid_body.xml\n",
      "Scene XML path: /scratch/sergei/better-adversarial-defenses/multiagent-competition/gym_compete/new_envs/assets/world_body.humanoid_body.humanoid_body.xml\n",
      "Created Scene with agents\n",
      "Config {'env': 'multicomp', 'env_config': {'with_video': False, 'SingleAgentToMultiAgent': False, 'env_name': 'multicomp/YouShallNotPassHumans-v0'}, 'multiagent': {'policies_to_train': [], 'policies': {'player_1': (<class 'ray.rllib.policy.tf_policy_template.PPOTFPolicy'>, Box(380,), Box(17,), {'model': {'custom_model': 'GymCompetePretrainedModel', 'custom_model_config': {'agent_id': 0, 'env_name': 'multicomp/YouShallNotPassHumans-v0', 'model_config': {}, 'name': 'model_0', 'load_weights': 'normalization_only'}}, 'framework': 'tfe'}), 'player_2': (<class 'ray.rllib.policy.tf_policy_template.PPOTFPolicy'>, Box(380,), Box(17,), {'model': {'custom_model': 'GymCompetePretrainedModel', 'custom_model_config': {'agent_id': 1, 'env_name': 'multicomp/YouShallNotPassHumans-v0', 'model_config': {}, 'name': 'model_1', 'load_weights': True}}, 'framework': 'tfe'})}, 'policy_mapping_fn': functools.partial(<function select_policy_default at 0x7f1eda31b710>, config={'kl_coeff': 1.0, '_num_workers_tf': 4, 'use_gae': True, 'num_gpus': 0, '_env_name_rllib': 'multicomp', '_env_fcn': <function create_env at 0x7f1eda64e8c0>, '_policies': [None, 'from_scratch_sb', 'pretrained'], '_env': {'with_video': False, 'SingleAgentToMultiAgent': False, 'env_name': 'multicomp/YouShallNotPassHumans-v0'}, 'framework': 'tfe', '_train_policies': [], '_call': {'checkpoint_freq': 0, 'name': 'adversarial_external_sb', 'num_samples': 3}, '_trainer': 'External', '_policy': 'PPO', '_train_steps': 50, '_update_config': None, '_run_inline': False, 'num_envs_per_worker': 1, '_log_error': True, '_model_params': {'use_lstm': False, 'fcnet_hiddens': [64, 64], 'fcnet_activation': 'tanh', 'free_log_std': True}, '_select_policy': <function select_policy_default at 0x7f1eda31b710>, '_get_policies': <function get_policies_default at 0x7f1eda31b680>, 'train_batch_size': 256, 'lr': 0, 'sgd_minibatch_size': 256, 'num_sgd_iter': 1, 'rollout_fragment_length': 200, 'num_workers': 0, 'run_uid': '_setme', 'batch_mode': 'complete_episodes', 'http_remote_port': 'http://127.0.0.1:50001', 'multiagent': {'policies': {'player_1': (<class 'ray.rllib.policy.tf_policy_template.PPOTFPolicy'>, Box(380,), Box(17,), {'model': {'custom_model': 'GymCompetePretrainedModel', 'custom_model_config': {'agent_id': 0, 'env_name': 'multicomp/YouShallNotPassHumans-v0', 'model_config': {}, 'name': 'model_0', 'load_weights': 'normalization_only'}}, 'framework': 'tfe'}), 'player_2': (<class 'ray.rllib.policy.tf_policy_template.PPOTFPolicy'>, Box(380,), Box(17,), {'model': {'custom_model': 'GymCompetePretrainedModel', 'custom_model_config': {'agent_id': 1, 'env_name': 'multicomp/YouShallNotPassHumans-v0', 'model_config': {}, 'name': 'model_1', 'load_weights': True}}, 'framework': 'tfe'})}}})}, 'tf_session_args': {'intra_op_parallelism_threads': 4, 'inter_op_parallelism_threads': 4, 'gpu_options': {'allow_growth': True}, 'log_device_placement': True, 'device_count': {'CPU': 4}, 'allow_soft_placement': True}, 'local_tf_session_args': {'intra_op_parallelism_threads': 4, 'inter_op_parallelism_threads': 4}, 'kl_coeff': 1.0, 'use_gae': True, 'num_gpus': 0, 'framework': 'tfe', 'num_envs_per_worker': 1, 'train_batch_size': 256, 'lr': 0, 'sgd_minibatch_size': 256, 'num_sgd_iter': 1, 'rollout_fragment_length': 200, 'num_workers': 0, 'run_uid': '_setme', 'batch_mode': 'complete_episodes', 'http_remote_port': 'http://127.0.0.1:50001'}\n",
      "Creating agent humanoid_blocker\n",
      "Reading agent XML from: /scratch/sergei/better-adversarial-defenses/multiagent-competition/gym_compete/new_envs/assets/humanoid_body.xml\n",
      "Creating agent humanoid\n",
      "Reading agent XML from: /scratch/sergei/better-adversarial-defenses/multiagent-competition/gym_compete/new_envs/assets/humanoid_body.xml\n",
      "Scene XML path: /scratch/sergei/better-adversarial-defenses/multiagent-competition/gym_compete/new_envs/assets/world_body.humanoid_body.humanoid_body.xml\n",
      "Created Scene with agents\n",
      "Not setting NN weights\n",
      "WARNING:tensorflow:From /scratch/sergei/miniconda3/lib/python3.7/site-packages/ray/rllib/models/tf/tf_action_dist.py:234: to_float (from tensorflow.python.ops.math_ops) is deprecated and will be removed in a future version.\n",
      "Instructions for updating:\n",
      "Use `tf.cast` instead.\n",
      "  0%|                                                    | 0/50 [00:00<?, ?it/s]WARNING:tensorflow:From /scratch/sergei/miniconda3/lib/python3.7/site-packages/ray/rllib/policy/tf_policy.py:761: Variable.load (from tensorflow.python.ops.variables) is deprecated and will be removed in a future version.\n",
      "Instructions for updating:\n",
      "Prefer Variable.assign which has equivalent behavior in 2.X.\n",
      "[10.0, -10.0]\n",
      "  2%|▉                                           | 1/50 [00:03<02:40,  3.27s/it][10.0, 10.0, 10.0, -10.0, 10.0, -10.0]\n",
      "  4%|█▊                                          | 2/50 [00:09<03:13,  4.04s/it][10.0, 10.0, 10.0, 10.0, 10.0, -10.0, 10.0, 10.0, 10.0, -10.0]\n",
      "  6%|██▋                                         | 3/50 [00:14<03:25,  4.37s/it][-10.0, 10.0, 10.0, -10.0, 10.0, 10.0, 10.0, -10.0, 10.0, 10.0, 10.0, 10.0]\n",
      "  8%|███▌                                        | 4/50 [00:17<03:06,  4.05s/it][10.0, 10.0, 10.0, 10.0, 10.0, 10.0, -10.0, 10.0, 10.0, 10.0, -10.0, 10.0, 10.0, 10.0, 10.0, -10.0, 10.0]\n",
      " 10%|████▍                                       | 5/50 [00:23<03:23,  4.53s/it][-10.0, 10.0, -10.0, 10.0, -10.0, 10.0, 10.0, 10.0, -10.0, 10.0, 10.0, 10.0, 10.0, -10.0, 10.0, 10.0, 10.0, 10.0, 10.0, 10.0]\n",
      " 12%|█████▎                                      | 6/50 [00:28<03:35,  4.90s/it][10.0, -10.0, 10.0, 10.0, 10.0, -10.0, 10.0, 10.0, 10.0, -10.0, 10.0, 10.0, 10.0, 10.0, -10.0, 10.0, 10.0, 10.0, 10.0, 10.0, 10.0, -10.0, 10.0, -10.0]\n",
      " 14%|██████▏                                     | 7/50 [00:34<03:43,  5.19s/it][-10.0, 10.0, 10.0, 10.0, -10.0, 10.0, 10.0, 10.0, -10.0, 10.0, 10.0, 10.0, 10.0, -10.0, 10.0, 10.0, 10.0, 10.0, 10.0, 10.0, -10.0, 10.0, -10.0, 10.0, -10.0, 10.0, 10.0]\n",
      " 16%|███████                                     | 8/50 [00:40<03:45,  5.36s/it][10.0, -10.0, 10.0, -10.0, 10.0, 10.0, 10.0, -10.0, 10.0, 10.0, 10.0, 10.0, -10.0, 10.0, 10.0, 10.0, 10.0, 10.0, 10.0, -10.0, 10.0, -10.0, 10.0, -10.0, 10.0, 10.0, -10.0, 10.0, 10.0]\n",
      " 18%|███████▉                                    | 9/50 [00:44<03:16,  4.80s/it][10.0, -10.0, 10.0, -10.0, 10.0, -10.0, 10.0, 10.0, 10.0, -10.0, 10.0, 10.0, 10.0, 10.0, -10.0, 10.0, 10.0, 10.0, 10.0, 10.0, 10.0, -10.0, 10.0, -10.0, 10.0, -10.0, 10.0, 10.0, -10.0, 10.0, 10.0, 10.0, -10.0]\n",
      " 20%|████████▌                                  | 10/50 [00:50<03:26,  5.15s/it][10.0, 10.0, 10.0, -10.0, 10.0, 10.0, 10.0, -10.0, 10.0, 10.0, 10.0, 10.0, -10.0, 10.0, 10.0, 10.0, 10.0, 10.0, 10.0, -10.0, 10.0, -10.0, 10.0, -10.0, 10.0, 10.0, -10.0, 10.0, 10.0, 10.0, -10.0, 10.0, -10.0, 10.0, -10.0]\n",
      " 22%|█████████▍                                 | 11/50 [00:53<02:59,  4.61s/it][10.0, 10.0, -10.0, 10.0, 10.0, -10.0, 10.0, 10.0, 10.0, -10.0, 10.0, 10.0, 10.0, 10.0, -10.0, 10.0, 10.0, 10.0, 10.0, 10.0, 10.0, -10.0, 10.0, -10.0, 10.0, -10.0, 10.0, 10.0, -10.0, 10.0, 10.0, 10.0, -10.0, 10.0, -10.0, 10.0, -10.0, 10.0, 10.0]\n",
      " 24%|██████████▎                                | 12/50 [00:59<03:08,  4.95s/it][10.0, 10.0, 10.0, -10.0, 10.0, -10.0, 10.0, 10.0, 10.0, -10.0, 10.0, 10.0, 10.0, 10.0, -10.0, 10.0, 10.0, 10.0, 10.0, 10.0, 10.0, -10.0, 10.0, -10.0, 10.0, -10.0, 10.0, 10.0, -10.0, 10.0, 10.0, 10.0, -10.0, 10.0, -10.0, 10.0, -10.0, 10.0, 10.0, 10.0, 10.0, -10.0, 10.0]\n",
      " 26%|███████████▏                               | 13/50 [01:05<03:15,  5.28s/it][10.0, 10.0, -10.0, 10.0, -10.0, 10.0, 10.0, 10.0, -10.0, 10.0, 10.0, 10.0, 10.0, -10.0, 10.0, 10.0, 10.0, 10.0, 10.0, 10.0, -10.0, 10.0, -10.0, 10.0, -10.0, 10.0, 10.0, -10.0, 10.0, 10.0, 10.0, -10.0, 10.0, -10.0, 10.0, -10.0, 10.0, 10.0, 10.0, 10.0, -10.0, 10.0, 10.0, 10.0, 10.0, -10.0]\n",
      " 28%|████████████                               | 14/50 [01:09<03:04,  5.12s/it][10.0, 10.0, 10.0, 10.0, 10.0, 10.0, -10.0, 10.0, 10.0, 10.0, -10.0, 10.0, 10.0, 10.0, 10.0, -10.0, 10.0, 10.0, 10.0, 10.0, 10.0, 10.0, -10.0, 10.0, -10.0, 10.0, -10.0, 10.0, 10.0, -10.0, 10.0, 10.0, 10.0, -10.0, 10.0, -10.0, 10.0, -10.0, 10.0, 10.0, 10.0, 10.0, -10.0, 10.0, 10.0, 10.0, 10.0, -10.0, 10.0, 10.0, -10.0]\n",
      " 30%|████████████▉                              | 15/50 [01:15<02:59,  5.12s/it][-10.0, 10.0, 10.0, -10.0, 10.0, 10.0, 10.0, -10.0, 10.0, 10.0, 10.0, 10.0, -10.0, 10.0, 10.0, 10.0, 10.0, 10.0, 10.0, -10.0, 10.0, -10.0, 10.0, -10.0, 10.0, 10.0, -10.0, 10.0, 10.0, 10.0, -10.0, 10.0, -10.0, 10.0, -10.0, 10.0, 10.0, 10.0, 10.0, -10.0, 10.0, 10.0, 10.0, 10.0, -10.0, 10.0, 10.0, -10.0, 10.0, 10.0, 10.0, 10.0, 10.0]\n",
      " 32%|█████████████▊                             | 16/50 [01:18<02:39,  4.68s/it][10.0, -10.0, 10.0, -10.0, 10.0, 10.0, 10.0, -10.0, 10.0, 10.0, 10.0, 10.0, -10.0, 10.0, 10.0, 10.0, 10.0, 10.0, 10.0, -10.0, 10.0, -10.0, 10.0, -10.0, 10.0, 10.0, -10.0, 10.0, 10.0, 10.0, -10.0, 10.0, -10.0, 10.0, -10.0, 10.0, 10.0, 10.0, 10.0, -10.0, 10.0, 10.0, 10.0, 10.0, -10.0, 10.0, 10.0, -10.0, 10.0, 10.0, 10.0, 10.0, 10.0, -10.0, 10.0]\n",
      " 34%|██████████████▌                            | 17/50 [01:22<02:21,  4.28s/it][-10.0, 10.0, 10.0, -10.0, 10.0, 10.0, 10.0, -10.0, 10.0, 10.0, 10.0, 10.0, -10.0, 10.0, 10.0, 10.0, 10.0, 10.0, 10.0, -10.0, 10.0, -10.0, 10.0, -10.0, 10.0, 10.0, -10.0, 10.0, 10.0, 10.0, -10.0, 10.0, -10.0, 10.0, -10.0, 10.0, 10.0, 10.0, 10.0, -10.0, 10.0, 10.0, 10.0, 10.0, -10.0, 10.0, 10.0, -10.0, 10.0, 10.0, 10.0, 10.0, 10.0, -10.0, 10.0, 10.0, -10.0]\n",
      " 36%|███████████████▍                           | 18/50 [01:25<02:08,  4.01s/it][10.0, 10.0, -10.0, 10.0, -10.0, 10.0, 10.0, 10.0, -10.0, 10.0, 10.0, 10.0, 10.0, -10.0, 10.0, 10.0, 10.0, 10.0, 10.0, 10.0, -10.0, 10.0, -10.0, 10.0, -10.0, 10.0, 10.0, -10.0, 10.0, 10.0, 10.0, -10.0, 10.0, -10.0, 10.0, -10.0, 10.0, 10.0, 10.0, 10.0, -10.0, 10.0, 10.0, 10.0, 10.0, -10.0, 10.0, 10.0, -10.0, 10.0, 10.0, 10.0, 10.0, 10.0, -10.0, 10.0, 10.0, -10.0, -10.0, 10.0]\n",
      " 38%|████████████████▎                          | 19/50 [01:29<02:07,  4.10s/it][10.0, 10.0, 10.0, 10.0, -10.0, 10.0, 10.0, 10.0, -10.0, 10.0, 10.0, 10.0, 10.0, -10.0, 10.0, 10.0, 10.0, 10.0, 10.0, 10.0, -10.0, 10.0, -10.0, 10.0, -10.0, 10.0, 10.0, -10.0, 10.0, 10.0, 10.0, -10.0, 10.0, -10.0, 10.0, -10.0, 10.0, 10.0, 10.0, 10.0, -10.0, 10.0, 10.0, 10.0, 10.0, -10.0, 10.0, 10.0, -10.0, 10.0, 10.0, 10.0, 10.0, 10.0, -10.0, 10.0, 10.0, -10.0, -10.0, 10.0, 10.0, 10.0, -10.0]\n",
      " 40%|█████████████████▏                         | 20/50 [01:33<01:57,  3.90s/it][10.0, 10.0, -10.0, 10.0, 10.0, -10.0, 10.0, 10.0, 10.0, -10.0, 10.0, 10.0, 10.0, 10.0, -10.0, 10.0, 10.0, 10.0, 10.0, 10.0, 10.0, -10.0, 10.0, -10.0, 10.0, -10.0, 10.0, 10.0, -10.0, 10.0, 10.0, 10.0, -10.0, 10.0, -10.0, 10.0, -10.0, 10.0, 10.0, 10.0, 10.0, -10.0, 10.0, 10.0, 10.0, 10.0, -10.0, 10.0, 10.0, -10.0, 10.0, 10.0, 10.0, 10.0, 10.0, -10.0, 10.0, 10.0, -10.0, -10.0, 10.0, 10.0, 10.0, -10.0, 10.0, 10.0, 10.0]\n",
      " 42%|██████████████████                         | 21/50 [01:39<02:15,  4.68s/it][10.0, 10.0, -10.0, 10.0, 10.0, -10.0, 10.0, 10.0, 10.0, -10.0, 10.0, 10.0, 10.0, 10.0, -10.0, 10.0, 10.0, 10.0, 10.0, 10.0, 10.0, -10.0, 10.0, -10.0, 10.0, -10.0, 10.0, 10.0, -10.0, 10.0, 10.0, 10.0, -10.0, 10.0, -10.0, 10.0, -10.0, 10.0, 10.0, 10.0, 10.0, -10.0, 10.0, 10.0, 10.0, 10.0, -10.0, 10.0, 10.0, -10.0, 10.0, 10.0, 10.0, 10.0, 10.0, -10.0, 10.0, 10.0, -10.0, -10.0, 10.0, 10.0, 10.0, -10.0, 10.0, 10.0, 10.0, 10.0, 10.0, -10.0, 10.0]\n",
      " 44%|██████████████████▉                        | 22/50 [01:45<02:18,  4.94s/it][10.0, 10.0, 10.0, -10.0, 10.0, 10.0, 10.0, -10.0, 10.0, 10.0, 10.0, 10.0, -10.0, 10.0, 10.0, 10.0, 10.0, 10.0, 10.0, -10.0, 10.0, -10.0, 10.0, -10.0, 10.0, 10.0, -10.0, 10.0, 10.0, 10.0, -10.0, 10.0, -10.0, 10.0, -10.0, 10.0, 10.0, 10.0, 10.0, -10.0, 10.0, 10.0, 10.0, 10.0, -10.0, 10.0, 10.0, -10.0, 10.0, 10.0, 10.0, 10.0, 10.0, -10.0, 10.0, 10.0, -10.0, -10.0, 10.0, 10.0, 10.0, -10.0, 10.0, 10.0, 10.0, 10.0, 10.0, -10.0, 10.0, 10.0, 10.0, -10.0, 10.0]\n",
      " 46%|███████████████████▊                       | 23/50 [01:48<01:57,  4.34s/it][10.0, 10.0, -10.0, 10.0, 10.0, -10.0, 10.0, 10.0, 10.0, -10.0, 10.0, 10.0, 10.0, 10.0, -10.0, 10.0, 10.0, 10.0, 10.0, 10.0, 10.0, -10.0, 10.0, -10.0, 10.0, -10.0, 10.0, 10.0, -10.0, 10.0, 10.0, 10.0, -10.0, 10.0, -10.0, 10.0, -10.0, 10.0, 10.0, 10.0, 10.0, -10.0, 10.0, 10.0, 10.0, 10.0, -10.0, 10.0, 10.0, -10.0, 10.0, 10.0, 10.0, 10.0, 10.0, -10.0, 10.0, 10.0, -10.0, -10.0, 10.0, 10.0, 10.0, -10.0, 10.0, 10.0, 10.0, 10.0, 10.0, -10.0, 10.0, 10.0, 10.0, -10.0, 10.0, 10.0, 10.0]\n",
      " 48%|████████████████████▋                      | 24/50 [01:53<02:01,  4.67s/it][10.0, 10.0, 10.0, -10.0, 10.0, 10.0, 10.0, -10.0, 10.0, 10.0, 10.0, 10.0, -10.0, 10.0, 10.0, 10.0, 10.0, 10.0, 10.0, -10.0, 10.0, -10.0, 10.0, -10.0, 10.0, 10.0, -10.0, 10.0, 10.0, 10.0, -10.0, 10.0, -10.0, 10.0, -10.0, 10.0, 10.0, 10.0, 10.0, -10.0, 10.0, 10.0, 10.0, 10.0, -10.0, 10.0, 10.0, -10.0, 10.0, 10.0, 10.0, 10.0, 10.0, -10.0, 10.0, 10.0, -10.0, -10.0, 10.0, 10.0, 10.0, -10.0, 10.0, 10.0, 10.0, 10.0, 10.0, -10.0, 10.0, 10.0, 10.0, -10.0, 10.0, 10.0, 10.0, 10.0, 10.0, -10.0, 10.0]\n",
      " 50%|█████████████████████▌                     | 25/50 [01:56<01:44,  4.18s/it][10.0, -10.0, 10.0, -10.0, 10.0, 10.0, 10.0, -10.0, 10.0, 10.0, 10.0, 10.0, -10.0, 10.0, 10.0, 10.0, 10.0, 10.0, 10.0, -10.0, 10.0, -10.0, 10.0, -10.0, 10.0, 10.0, -10.0, 10.0, 10.0, 10.0, -10.0, 10.0, -10.0, 10.0, -10.0, 10.0, 10.0, 10.0, 10.0, -10.0, 10.0, 10.0, 10.0, 10.0, -10.0, 10.0, 10.0, -10.0, 10.0, 10.0, 10.0, 10.0, 10.0, -10.0, 10.0, 10.0, -10.0, -10.0, 10.0, 10.0, 10.0, -10.0, 10.0, 10.0, 10.0, 10.0, 10.0, -10.0, 10.0, 10.0, 10.0, -10.0, 10.0, 10.0, 10.0, 10.0, 10.0, -10.0, 10.0, 10.0, 10.0]\n",
      " 52%|██████████████████████▎                    | 26/50 [01:59<01:34,  3.92s/it][10.0, 10.0, 10.0, 10.0, 10.0, -10.0, 10.0, 10.0, 10.0, -10.0, 10.0, 10.0, 10.0, 10.0, -10.0, 10.0, 10.0, 10.0, 10.0, 10.0, 10.0, -10.0, 10.0, -10.0, 10.0, -10.0, 10.0, 10.0, -10.0, 10.0, 10.0, 10.0, -10.0, 10.0, -10.0, 10.0, -10.0, 10.0, 10.0, 10.0, 10.0, -10.0, 10.0, 10.0, 10.0, 10.0, -10.0, 10.0, 10.0, -10.0, 10.0, 10.0, 10.0, 10.0, 10.0, -10.0, 10.0, 10.0, -10.0, -10.0, 10.0, 10.0, 10.0, -10.0, 10.0, 10.0, 10.0, 10.0, 10.0, -10.0, 10.0, 10.0, 10.0, -10.0, 10.0, 10.0, 10.0, 10.0, 10.0, -10.0, 10.0, 10.0, 10.0, 10.0, -10.0]\n",
      " 54%|███████████████████████▏                   | 27/50 [02:04<01:37,  4.23s/it][10.0, -10.0, 10.0, -10.0, 10.0, 10.0, 10.0, -10.0, 10.0, 10.0, 10.0, 10.0, -10.0, 10.0, 10.0, 10.0, 10.0, 10.0, 10.0, -10.0, 10.0, -10.0, 10.0, -10.0, 10.0, 10.0, -10.0, 10.0, 10.0, 10.0, -10.0, 10.0, -10.0, 10.0, -10.0, 10.0, 10.0, 10.0, 10.0, -10.0, 10.0, 10.0, 10.0, 10.0, -10.0, 10.0, 10.0, -10.0, 10.0, 10.0, 10.0, 10.0, 10.0, -10.0, 10.0, 10.0, -10.0, -10.0, 10.0, 10.0, 10.0, -10.0, 10.0, 10.0, 10.0, 10.0, 10.0, -10.0, 10.0, 10.0, 10.0, -10.0, 10.0, 10.0, 10.0, 10.0, 10.0, -10.0, 10.0, 10.0, 10.0, 10.0, -10.0, 10.0, 10.0, 10.0, 10.0]\n",
      " 56%|████████████████████████                   | 28/50 [02:08<01:30,  4.13s/it][10.0, -10.0, 10.0, 10.0, 10.0, 10.0, -10.0, 10.0, 10.0, 10.0, -10.0, 10.0, 10.0, 10.0, 10.0, -10.0, 10.0, 10.0, 10.0, 10.0, 10.0, 10.0, -10.0, 10.0, -10.0, 10.0, -10.0, 10.0, 10.0, -10.0, 10.0, 10.0, 10.0, -10.0, 10.0, -10.0, 10.0, -10.0, 10.0, 10.0, 10.0, 10.0, -10.0, 10.0, 10.0, 10.0, 10.0, -10.0, 10.0, 10.0, -10.0, 10.0, 10.0, 10.0, 10.0, 10.0, -10.0, 10.0, 10.0, -10.0, -10.0, 10.0, 10.0, 10.0, -10.0, 10.0, 10.0, 10.0, 10.0, 10.0, -10.0, 10.0, 10.0, 10.0, -10.0, 10.0, 10.0, 10.0, 10.0, 10.0, -10.0, 10.0, 10.0, 10.0, 10.0, -10.0, 10.0, 10.0, 10.0, 10.0, 10.0, -10.0]\n",
      " 58%|████████████████████████▉                  | 29/50 [02:14<01:37,  4.63s/it][10.0, 10.0, 10.0, -10.0, 10.0, -10.0, 10.0, 10.0, 10.0, -10.0, 10.0, 10.0, 10.0, 10.0, -10.0, 10.0, 10.0, 10.0, 10.0, 10.0, 10.0, -10.0, 10.0, -10.0, 10.0, -10.0, 10.0, 10.0, -10.0, 10.0, 10.0, 10.0, -10.0, 10.0, -10.0, 10.0, -10.0, 10.0, 10.0, 10.0, 10.0, -10.0, 10.0, 10.0, 10.0, 10.0, -10.0, 10.0, 10.0, -10.0, 10.0, 10.0, 10.0, 10.0, 10.0, -10.0, 10.0, 10.0, -10.0, -10.0, 10.0, 10.0, 10.0, -10.0, 10.0, 10.0, 10.0, 10.0, 10.0, -10.0, 10.0, 10.0, 10.0, -10.0, 10.0, 10.0, 10.0, 10.0, 10.0, -10.0, 10.0, 10.0, 10.0, 10.0, -10.0, 10.0, 10.0, 10.0, 10.0, 10.0, -10.0, 10.0, -10.0, 10.0, 10.0, 10.0]\n",
      " 60%|█████████████████████████▊                 | 30/50 [02:21<01:45,  5.28s/it][10.0, 10.0, 10.0, -10.0, 10.0, -10.0, 10.0, 10.0, 10.0, -10.0, 10.0, 10.0, 10.0, 10.0, -10.0, 10.0, 10.0, 10.0, 10.0, 10.0, 10.0, -10.0, 10.0, -10.0, 10.0, -10.0, 10.0, 10.0, -10.0, 10.0, 10.0, 10.0, -10.0, 10.0, -10.0, 10.0, -10.0, 10.0, 10.0, 10.0, 10.0, -10.0, 10.0, 10.0, 10.0, 10.0, -10.0, 10.0, 10.0, -10.0, 10.0, 10.0, 10.0, 10.0, 10.0, -10.0, 10.0, 10.0, -10.0, -10.0, 10.0, 10.0, 10.0, -10.0, 10.0, 10.0, 10.0, 10.0, 10.0, -10.0, 10.0, 10.0, 10.0, -10.0, 10.0, 10.0, 10.0, 10.0, 10.0, -10.0, 10.0, 10.0, 10.0, 10.0, -10.0, 10.0, 10.0, 10.0, 10.0, 10.0, -10.0, 10.0, -10.0, 10.0, 10.0, 10.0, 10.0, 10.0, 10.0, -10.0]\n",
      " 62%|██████████████████████████▋                | 31/50 [02:27<01:46,  5.59s/it][10.0, 10.0, 10.0, 10.0, 10.0, -10.0, 10.0, 10.0, 10.0, 10.0, -10.0, 10.0, 10.0, 10.0, 10.0, 10.0, 10.0, -10.0, 10.0, -10.0, 10.0, -10.0, 10.0, 10.0, -10.0, 10.0, 10.0, 10.0, -10.0, 10.0, -10.0, 10.0, -10.0, 10.0, 10.0, 10.0, 10.0, -10.0, 10.0, 10.0, 10.0, 10.0, -10.0, 10.0, 10.0, -10.0, 10.0, 10.0, 10.0, 10.0, 10.0, -10.0, 10.0, 10.0, -10.0, -10.0, 10.0, 10.0, 10.0, -10.0, 10.0, 10.0, 10.0, 10.0, 10.0, -10.0, 10.0, 10.0, 10.0, -10.0, 10.0, 10.0, 10.0, 10.0, 10.0, -10.0, 10.0, 10.0, 10.0, 10.0, -10.0, 10.0, 10.0, 10.0, 10.0, 10.0, -10.0, 10.0, -10.0, 10.0, 10.0, 10.0, 10.0, 10.0, 10.0, -10.0, 10.0, 10.0, 10.0, -10.0]\n",
      " 64%|███████████████████████████▌               | 32/50 [02:33<01:41,  5.64s/it][10.0, 10.0, 10.0, 10.0, 10.0, -10.0, 10.0, 10.0, 10.0, 10.0, 10.0, 10.0, -10.0, 10.0, -10.0, 10.0, -10.0, 10.0, 10.0, -10.0, 10.0, 10.0, 10.0, -10.0, 10.0, -10.0, 10.0, -10.0, 10.0, 10.0, 10.0, 10.0, -10.0, 10.0, 10.0, 10.0, 10.0, -10.0, 10.0, 10.0, -10.0, 10.0, 10.0, 10.0, 10.0, 10.0, -10.0, 10.0, 10.0, -10.0, -10.0, 10.0, 10.0, 10.0, -10.0, 10.0, 10.0, 10.0, 10.0, 10.0, -10.0, 10.0, 10.0, 10.0, -10.0, 10.0, 10.0, 10.0, 10.0, 10.0, -10.0, 10.0, 10.0, 10.0, 10.0, -10.0, 10.0, 10.0, 10.0, 10.0, 10.0, -10.0, 10.0, -10.0, 10.0, 10.0, 10.0, 10.0, 10.0, 10.0, -10.0, 10.0, 10.0, 10.0, -10.0, 10.0, 10.0, 10.0, 10.0, 10.0]\n",
      " 66%|████████████████████████████▍              | 33/50 [02:37<01:25,  5.04s/it][10.0, 10.0, -10.0, -10.0, 10.0, 10.0, 10.0, 10.0, 10.0, 10.0, -10.0, 10.0, -10.0, 10.0, -10.0, 10.0, 10.0, -10.0, 10.0, 10.0, 10.0, -10.0, 10.0, -10.0, 10.0, -10.0, 10.0, 10.0, 10.0, 10.0, -10.0, 10.0, 10.0, 10.0, 10.0, -10.0, 10.0, 10.0, -10.0, 10.0, 10.0, 10.0, 10.0, 10.0, -10.0, 10.0, 10.0, -10.0, -10.0, 10.0, 10.0, 10.0, -10.0, 10.0, 10.0, 10.0, 10.0, 10.0, -10.0, 10.0, 10.0, 10.0, -10.0, 10.0, 10.0, 10.0, 10.0, 10.0, -10.0, 10.0, 10.0, 10.0, 10.0, -10.0, 10.0, 10.0, 10.0, 10.0, 10.0, -10.0, 10.0, -10.0, 10.0, 10.0, 10.0, 10.0, 10.0, 10.0, -10.0, 10.0, 10.0, 10.0, -10.0, 10.0, 10.0, 10.0, 10.0, 10.0, 10.0, 10.0]\n",
      " 68%|█████████████████████████████▏             | 34/50 [02:42<01:22,  5.13s/it][10.0, 10.0, 10.0, 10.0, 10.0, 10.0, 10.0, -10.0, 10.0, -10.0, 10.0, -10.0, 10.0, 10.0, -10.0, 10.0, 10.0, 10.0, -10.0, 10.0, -10.0, 10.0, -10.0, 10.0, 10.0, 10.0, 10.0, -10.0, 10.0, 10.0, 10.0, 10.0, -10.0, 10.0, 10.0, -10.0, 10.0, 10.0, 10.0, 10.0, 10.0, -10.0, 10.0, 10.0, -10.0, -10.0, 10.0, 10.0, 10.0, -10.0, 10.0, 10.0, 10.0, 10.0, 10.0, -10.0, 10.0, 10.0, 10.0, -10.0, 10.0, 10.0, 10.0, 10.0, 10.0, -10.0, 10.0, 10.0, 10.0, 10.0, -10.0, 10.0, 10.0, 10.0, 10.0, 10.0, -10.0, 10.0, -10.0, 10.0, 10.0, 10.0, 10.0, 10.0, 10.0, -10.0, 10.0, 10.0, 10.0, -10.0, 10.0, 10.0, 10.0, 10.0, 10.0, 10.0, 10.0, 10.0, 10.0, -10.0]\n",
      " 70%|██████████████████████████████             | 35/50 [02:45<01:07,  4.51s/it][10.0, 10.0, 10.0, 10.0, -10.0, 10.0, -10.0, 10.0, -10.0, 10.0, 10.0, -10.0, 10.0, 10.0, 10.0, -10.0, 10.0, -10.0, 10.0, -10.0, 10.0, 10.0, 10.0, 10.0, -10.0, 10.0, 10.0, 10.0, 10.0, -10.0, 10.0, 10.0, -10.0, 10.0, 10.0, 10.0, 10.0, 10.0, -10.0, 10.0, 10.0, -10.0, -10.0, 10.0, 10.0, 10.0, -10.0, 10.0, 10.0, 10.0, 10.0, 10.0, -10.0, 10.0, 10.0, 10.0, -10.0, 10.0, 10.0, 10.0, 10.0, 10.0, -10.0, 10.0, 10.0, 10.0, 10.0, -10.0, 10.0, 10.0, 10.0, 10.0, 10.0, -10.0, 10.0, -10.0, 10.0, 10.0, 10.0, 10.0, 10.0, 10.0, -10.0, 10.0, 10.0, 10.0, -10.0, 10.0, 10.0, 10.0, 10.0, 10.0, 10.0, 10.0, 10.0, 10.0, -10.0, 10.0, 10.0, 10.0]\n",
      " 72%|██████████████████████████████▉            | 36/50 [02:49<00:59,  4.24s/it][10.0, 10.0, 10.0, 10.0, -10.0, 10.0, -10.0, 10.0, 10.0, -10.0, 10.0, 10.0, 10.0, -10.0, 10.0, -10.0, 10.0, -10.0, 10.0, 10.0, 10.0, 10.0, -10.0, 10.0, 10.0, 10.0, 10.0, -10.0, 10.0, 10.0, -10.0, 10.0, 10.0, 10.0, 10.0, 10.0, -10.0, 10.0, 10.0, -10.0, -10.0, 10.0, 10.0, 10.0, -10.0, 10.0, 10.0, 10.0, 10.0, 10.0, -10.0, 10.0, 10.0, 10.0, -10.0, 10.0, 10.0, 10.0, 10.0, 10.0, -10.0, 10.0, 10.0, 10.0, 10.0, -10.0, 10.0, 10.0, 10.0, 10.0, 10.0, -10.0, 10.0, -10.0, 10.0, 10.0, 10.0, 10.0, 10.0, 10.0, -10.0, 10.0, 10.0, 10.0, -10.0, 10.0, 10.0, 10.0, 10.0, 10.0, 10.0, 10.0, 10.0, 10.0, -10.0, 10.0, 10.0, 10.0, 10.0, 10.0]\n",
      " 74%|███████████████████████████████▊           | 37/50 [02:52<00:51,  3.96s/it][10.0, 10.0, 10.0, 10.0, 10.0, 10.0, -10.0, 10.0, 10.0, 10.0, -10.0, 10.0, -10.0, 10.0, -10.0, 10.0, 10.0, 10.0, 10.0, -10.0, 10.0, 10.0, 10.0, 10.0, -10.0, 10.0, 10.0, -10.0, 10.0, 10.0, 10.0, 10.0, 10.0, -10.0, 10.0, 10.0, -10.0, -10.0, 10.0, 10.0, 10.0, -10.0, 10.0, 10.0, 10.0, 10.0, 10.0, -10.0, 10.0, 10.0, 10.0, -10.0, 10.0, 10.0, 10.0, 10.0, 10.0, -10.0, 10.0, 10.0, 10.0, 10.0, -10.0, 10.0, 10.0, 10.0, 10.0, 10.0, -10.0, 10.0, -10.0, 10.0, 10.0, 10.0, 10.0, 10.0, 10.0, -10.0, 10.0, 10.0, 10.0, -10.0, 10.0, 10.0, 10.0, 10.0, 10.0, 10.0, 10.0, 10.0, 10.0, -10.0, 10.0, 10.0, 10.0, 10.0, 10.0, 10.0, 10.0, 10.0]\n",
      " 76%|████████████████████████████████▋          | 38/50 [02:57<00:51,  4.31s/it][10.0, -10.0, -10.0, 10.0, 10.0, 10.0, -10.0, 10.0, -10.0, 10.0, -10.0, 10.0, 10.0, 10.0, 10.0, -10.0, 10.0, 10.0, 10.0, 10.0, -10.0, 10.0, 10.0, -10.0, 10.0, 10.0, 10.0, 10.0, 10.0, -10.0, 10.0, 10.0, -10.0, -10.0, 10.0, 10.0, 10.0, -10.0, 10.0, 10.0, 10.0, 10.0, 10.0, -10.0, 10.0, 10.0, 10.0, -10.0, 10.0, 10.0, 10.0, 10.0, 10.0, -10.0, 10.0, 10.0, 10.0, 10.0, -10.0, 10.0, 10.0, 10.0, 10.0, 10.0, -10.0, 10.0, -10.0, 10.0, 10.0, 10.0, 10.0, 10.0, 10.0, -10.0, 10.0, 10.0, 10.0, -10.0, 10.0, 10.0, 10.0, 10.0, 10.0, 10.0, 10.0, 10.0, 10.0, -10.0, 10.0, 10.0, 10.0, 10.0, 10.0, 10.0, 10.0, 10.0, 10.0, 10.0, 10.0, 10.0]\n",
      " 78%|█████████████████████████████████▌         | 39/50 [03:01<00:46,  4.26s/it][-10.0, 10.0, 10.0, 10.0, -10.0, 10.0, -10.0, 10.0, -10.0, 10.0, 10.0, 10.0, 10.0, -10.0, 10.0, 10.0, 10.0, 10.0, -10.0, 10.0, 10.0, -10.0, 10.0, 10.0, 10.0, 10.0, 10.0, -10.0, 10.0, 10.0, -10.0, -10.0, 10.0, 10.0, 10.0, -10.0, 10.0, 10.0, 10.0, 10.0, 10.0, -10.0, 10.0, 10.0, 10.0, -10.0, 10.0, 10.0, 10.0, 10.0, 10.0, -10.0, 10.0, 10.0, 10.0, 10.0, -10.0, 10.0, 10.0, 10.0, 10.0, 10.0, -10.0, 10.0, -10.0, 10.0, 10.0, 10.0, 10.0, 10.0, 10.0, -10.0, 10.0, 10.0, 10.0, -10.0, 10.0, 10.0, 10.0, 10.0, 10.0, 10.0, 10.0, 10.0, 10.0, -10.0, 10.0, 10.0, 10.0, 10.0, 10.0, 10.0, 10.0, 10.0, 10.0, 10.0, 10.0, 10.0, 10.0, -10.0]\n",
      " 80%|██████████████████████████████████▍        | 40/50 [03:04<00:39,  3.92s/it][10.0, 10.0, 10.0, 10.0, 10.0, 10.0, -10.0, 10.0, 10.0, 10.0, 10.0, -10.0, 10.0, 10.0, 10.0, 10.0, -10.0, 10.0, 10.0, -10.0, 10.0, 10.0, 10.0, 10.0, 10.0, -10.0, 10.0, 10.0, -10.0, -10.0, 10.0, 10.0, 10.0, -10.0, 10.0, 10.0, 10.0, 10.0, 10.0, -10.0, 10.0, 10.0, 10.0, -10.0, 10.0, 10.0, 10.0, 10.0, 10.0, -10.0, 10.0, 10.0, 10.0, 10.0, -10.0, 10.0, 10.0, 10.0, 10.0, 10.0, -10.0, 10.0, -10.0, 10.0, 10.0, 10.0, 10.0, 10.0, 10.0, -10.0, 10.0, 10.0, 10.0, -10.0, 10.0, 10.0, 10.0, 10.0, 10.0, 10.0, 10.0, 10.0, 10.0, -10.0, 10.0, 10.0, 10.0, 10.0, 10.0, 10.0, 10.0, 10.0, 10.0, 10.0, 10.0, 10.0, 10.0, -10.0, -10.0, 10.0]\n",
      " 82%|███████████████████████████████████▎       | 41/50 [03:10<00:39,  4.44s/it][10.0, 10.0, 10.0, 10.0, 10.0, 10.0, -10.0, 10.0, 10.0, 10.0, 10.0, -10.0, 10.0, 10.0, -10.0, 10.0, 10.0, 10.0, 10.0, 10.0, -10.0, 10.0, 10.0, -10.0, -10.0, 10.0, 10.0, 10.0, -10.0, 10.0, 10.0, 10.0, 10.0, 10.0, -10.0, 10.0, 10.0, 10.0, -10.0, 10.0, 10.0, 10.0, 10.0, 10.0, -10.0, 10.0, 10.0, 10.0, 10.0, -10.0, 10.0, 10.0, 10.0, 10.0, 10.0, -10.0, 10.0, -10.0, 10.0, 10.0, 10.0, 10.0, 10.0, 10.0, -10.0, 10.0, 10.0, 10.0, -10.0, 10.0, 10.0, 10.0, 10.0, 10.0, 10.0, 10.0, 10.0, 10.0, -10.0, 10.0, 10.0, 10.0, 10.0, 10.0, 10.0, 10.0, 10.0, 10.0, 10.0, 10.0, 10.0, 10.0, -10.0, -10.0, 10.0, 10.0, 10.0, 10.0, 10.0, 10.0]\n",
      " 84%|████████████████████████████████████       | 42/50 [03:15<00:37,  4.71s/it][10.0, -10.0, -10.0, 10.0, 10.0, 10.0, 10.0, -10.0, 10.0, 10.0, -10.0, 10.0, 10.0, 10.0, 10.0, 10.0, -10.0, 10.0, 10.0, -10.0, -10.0, 10.0, 10.0, 10.0, -10.0, 10.0, 10.0, 10.0, 10.0, 10.0, -10.0, 10.0, 10.0, 10.0, -10.0, 10.0, 10.0, 10.0, 10.0, 10.0, -10.0, 10.0, 10.0, 10.0, 10.0, -10.0, 10.0, 10.0, 10.0, 10.0, 10.0, -10.0, 10.0, -10.0, 10.0, 10.0, 10.0, 10.0, 10.0, 10.0, -10.0, 10.0, 10.0, 10.0, -10.0, 10.0, 10.0, 10.0, 10.0, 10.0, 10.0, 10.0, 10.0, 10.0, -10.0, 10.0, 10.0, 10.0, 10.0, 10.0, 10.0, 10.0, 10.0, 10.0, 10.0, 10.0, 10.0, 10.0, -10.0, -10.0, 10.0, 10.0, 10.0, 10.0, 10.0, 10.0, 10.0, 10.0, 10.0, 10.0]\n",
      " 86%|████████████████████████████████████▉      | 43/50 [03:19<00:29,  4.28s/it][10.0, 10.0, 10.0, 10.0, 10.0, -10.0, 10.0, 10.0, -10.0, 10.0, 10.0, 10.0, 10.0, 10.0, -10.0, 10.0, 10.0, -10.0, -10.0, 10.0, 10.0, 10.0, -10.0, 10.0, 10.0, 10.0, 10.0, 10.0, -10.0, 10.0, 10.0, 10.0, -10.0, 10.0, 10.0, 10.0, 10.0, 10.0, -10.0, 10.0, 10.0, 10.0, 10.0, -10.0, 10.0, 10.0, 10.0, 10.0, 10.0, -10.0, 10.0, -10.0, 10.0, 10.0, 10.0, 10.0, 10.0, 10.0, -10.0, 10.0, 10.0, 10.0, -10.0, 10.0, 10.0, 10.0, 10.0, 10.0, 10.0, 10.0, 10.0, 10.0, -10.0, 10.0, 10.0, 10.0, 10.0, 10.0, 10.0, 10.0, 10.0, 10.0, 10.0, 10.0, 10.0, 10.0, -10.0, -10.0, 10.0, 10.0, 10.0, 10.0, 10.0, 10.0, 10.0, 10.0, 10.0, 10.0, 10.0, -10.0]\n",
      " 88%|█████████████████████████████████████▊     | 44/50 [03:24<00:28,  4.71s/it][10.0, 10.0, 10.0, 10.0, 10.0, 10.0, 10.0, 10.0, 10.0, -10.0, 10.0, 10.0, -10.0, -10.0, 10.0, 10.0, 10.0, -10.0, 10.0, 10.0, 10.0, 10.0, 10.0, -10.0, 10.0, 10.0, 10.0, -10.0, 10.0, 10.0, 10.0, 10.0, 10.0, -10.0, 10.0, 10.0, 10.0, 10.0, -10.0, 10.0, 10.0, 10.0, 10.0, 10.0, -10.0, 10.0, -10.0, 10.0, 10.0, 10.0, 10.0, 10.0, 10.0, -10.0, 10.0, 10.0, 10.0, -10.0, 10.0, 10.0, 10.0, 10.0, 10.0, 10.0, 10.0, 10.0, 10.0, -10.0, 10.0, 10.0, 10.0, 10.0, 10.0, 10.0, 10.0, 10.0, 10.0, 10.0, 10.0, 10.0, 10.0, -10.0, -10.0, 10.0, 10.0, 10.0, 10.0, 10.0, 10.0, 10.0, 10.0, 10.0, 10.0, 10.0, -10.0, 10.0, 10.0, 10.0, 10.0, 10.0]\n",
      " 90%|██████████████████████████████████████▋    | 45/50 [03:29<00:24,  4.80s/it][-10.0, 10.0, 10.0, 10.0, 10.0, -10.0, 10.0, 10.0, -10.0, -10.0, 10.0, 10.0, 10.0, -10.0, 10.0, 10.0, 10.0, 10.0, 10.0, -10.0, 10.0, 10.0, 10.0, -10.0, 10.0, 10.0, 10.0, 10.0, 10.0, -10.0, 10.0, 10.0, 10.0, 10.0, -10.0, 10.0, 10.0, 10.0, 10.0, 10.0, -10.0, 10.0, -10.0, 10.0, 10.0, 10.0, 10.0, 10.0, 10.0, -10.0, 10.0, 10.0, 10.0, -10.0, 10.0, 10.0, 10.0, 10.0, 10.0, 10.0, 10.0, 10.0, 10.0, -10.0, 10.0, 10.0, 10.0, 10.0, 10.0, 10.0, 10.0, 10.0, 10.0, 10.0, 10.0, 10.0, 10.0, -10.0, -10.0, 10.0, 10.0, 10.0, 10.0, 10.0, 10.0, 10.0, 10.0, 10.0, 10.0, 10.0, -10.0, 10.0, 10.0, 10.0, 10.0, 10.0, 10.0, 10.0, 10.0, 10.0]\n",
      " 92%|███████████████████████████████████████▌   | 46/50 [03:35<00:19,  4.92s/it][10.0, 10.0, -10.0, 10.0, 10.0, -10.0, -10.0, 10.0, 10.0, 10.0, -10.0, 10.0, 10.0, 10.0, 10.0, 10.0, -10.0, 10.0, 10.0, 10.0, -10.0, 10.0, 10.0, 10.0, 10.0, 10.0, -10.0, 10.0, 10.0, 10.0, 10.0, -10.0, 10.0, 10.0, 10.0, 10.0, 10.0, -10.0, 10.0, -10.0, 10.0, 10.0, 10.0, 10.0, 10.0, 10.0, -10.0, 10.0, 10.0, 10.0, -10.0, 10.0, 10.0, 10.0, 10.0, 10.0, 10.0, 10.0, 10.0, 10.0, -10.0, 10.0, 10.0, 10.0, 10.0, 10.0, 10.0, 10.0, 10.0, 10.0, 10.0, 10.0, 10.0, 10.0, -10.0, -10.0, 10.0, 10.0, 10.0, 10.0, 10.0, 10.0, 10.0, 10.0, 10.0, 10.0, 10.0, -10.0, 10.0, 10.0, 10.0, 10.0, 10.0, 10.0, 10.0, 10.0, 10.0, -10.0, 10.0, 10.0]\n",
      " 94%|████████████████████████████████████████▍  | 47/50 [03:37<00:12,  4.33s/it][-10.0, 10.0, 10.0, -10.0, -10.0, 10.0, 10.0, 10.0, -10.0, 10.0, 10.0, 10.0, 10.0, 10.0, -10.0, 10.0, 10.0, 10.0, -10.0, 10.0, 10.0, 10.0, 10.0, 10.0, -10.0, 10.0, 10.0, 10.0, 10.0, -10.0, 10.0, 10.0, 10.0, 10.0, 10.0, -10.0, 10.0, -10.0, 10.0, 10.0, 10.0, 10.0, 10.0, 10.0, -10.0, 10.0, 10.0, 10.0, -10.0, 10.0, 10.0, 10.0, 10.0, 10.0, 10.0, 10.0, 10.0, 10.0, -10.0, 10.0, 10.0, 10.0, 10.0, 10.0, 10.0, 10.0, 10.0, 10.0, 10.0, 10.0, 10.0, 10.0, -10.0, -10.0, 10.0, 10.0, 10.0, 10.0, 10.0, 10.0, 10.0, 10.0, 10.0, 10.0, 10.0, -10.0, 10.0, 10.0, 10.0, 10.0, 10.0, 10.0, 10.0, 10.0, 10.0, -10.0, 10.0, 10.0, 10.0, 10.0]\n",
      " 96%|█████████████████████████████████████████▎ | 48/50 [03:41<00:08,  4.03s/it][10.0, 10.0, 10.0, 10.0, 10.0, 10.0, -10.0, 10.0, 10.0, 10.0, 10.0, 10.0, -10.0, 10.0, 10.0, 10.0, -10.0, 10.0, 10.0, 10.0, 10.0, 10.0, -10.0, 10.0, 10.0, 10.0, 10.0, -10.0, 10.0, 10.0, 10.0, 10.0, 10.0, -10.0, 10.0, -10.0, 10.0, 10.0, 10.0, 10.0, 10.0, 10.0, -10.0, 10.0, 10.0, 10.0, -10.0, 10.0, 10.0, 10.0, 10.0, 10.0, 10.0, 10.0, 10.0, 10.0, -10.0, 10.0, 10.0, 10.0, 10.0, 10.0, 10.0, 10.0, 10.0, 10.0, 10.0, 10.0, 10.0, 10.0, -10.0, -10.0, 10.0, 10.0, 10.0, 10.0, 10.0, 10.0, 10.0, 10.0, 10.0, 10.0, 10.0, -10.0, 10.0, 10.0, 10.0, 10.0, 10.0, 10.0, 10.0, 10.0, 10.0, -10.0, 10.0, 10.0, 10.0, 10.0, -10.0, 10.0]\n",
      " 98%|██████████████████████████████████████████▏| 49/50 [03:46<00:04,  4.31s/it][10.0, 10.0, -10.0, 10.0, 10.0, 10.0, 10.0, 10.0, -10.0, 10.0, 10.0, 10.0, -10.0, 10.0, 10.0, 10.0, 10.0, 10.0, -10.0, 10.0, 10.0, 10.0, 10.0, -10.0, 10.0, 10.0, 10.0, 10.0, 10.0, -10.0, 10.0, -10.0, 10.0, 10.0, 10.0, 10.0, 10.0, 10.0, -10.0, 10.0, 10.0, 10.0, -10.0, 10.0, 10.0, 10.0, 10.0, 10.0, 10.0, 10.0, 10.0, 10.0, -10.0, 10.0, 10.0, 10.0, 10.0, 10.0, 10.0, 10.0, 10.0, 10.0, 10.0, 10.0, 10.0, 10.0, -10.0, -10.0, 10.0, 10.0, 10.0, 10.0, 10.0, 10.0, 10.0, 10.0, 10.0, 10.0, 10.0, -10.0, 10.0, 10.0, 10.0, 10.0, 10.0, 10.0, 10.0, 10.0, 10.0, -10.0, 10.0, 10.0, 10.0, 10.0, -10.0, 10.0, 10.0, 10.0, 10.0, 10.0]\n",
      "100%|███████████████████████████████████████████| 50/50 [03:49<00:00,  4.59s/it]\n",
      "Total trials 100 win rate 85.0% loss rate 15.0% tie rate 0.0%\n"
     ]
    }
   ],
   "source": [
    "!python ../make_video.py --checkpoint {checkpoint} --no_video=True --steps 50 --config=external"
   ]
  },
  {
   "cell_type": "code",
   "execution_count": 69,
   "metadata": {},
   "outputs": [
    {
     "name": "stdout",
     "output_type": "stream",
     "text": [
      "Creating agent humanoid_blocker\n",
      "Reading agent XML from: /scratch/sergei/better-adversarial-defenses/multiagent-competition/gym_compete/new_envs/assets/humanoid_body.xml\n",
      "Creating agent humanoid\n",
      "Reading agent XML from: /scratch/sergei/better-adversarial-defenses/multiagent-competition/gym_compete/new_envs/assets/humanoid_body.xml\n",
      "Scene XML path: /scratch/sergei/better-adversarial-defenses/multiagent-competition/gym_compete/new_envs/assets/world_body.humanoid_body.humanoid_body.xml\n",
      "Created Scene with agents\n",
      "GLFW error: 65544, desc: b'X11: RandR gamma ramp support seems broken'\n",
      "Config {'env': 'multicomp', 'env_config': {'with_video': True, 'SingleAgentToMultiAgent': False, 'env_name': 'multicomp/YouShallNotPassHumans-v0'}, 'multiagent': {'policies_to_train': [], 'policies': {'player_1': (<class 'ray.rllib.policy.tf_policy_template.PPOTFPolicy'>, Box(380,), Box(17,), {'model': {'custom_model': 'GymCompetePretrainedModel', 'custom_model_config': {'agent_id': 0, 'env_name': 'multicomp/YouShallNotPassHumans-v0', 'model_config': {}, 'name': 'model_0', 'load_weights': 'normalization_only'}}, 'framework': 'tfe'}), 'player_2': (<class 'ray.rllib.policy.tf_policy_template.PPOTFPolicy'>, Box(380,), Box(17,), {'model': {'custom_model': 'GymCompetePretrainedModel', 'custom_model_config': {'agent_id': 1, 'env_name': 'multicomp/YouShallNotPassHumans-v0', 'model_config': {}, 'name': 'model_1', 'load_weights': True}}, 'framework': 'tfe'})}, 'policy_mapping_fn': functools.partial(<function select_policy_default at 0x7f3bf565f7a0>, config={'kl_coeff': 1.0, '_num_workers_tf': 4, 'use_gae': True, 'num_gpus': 0, '_env_name_rllib': 'multicomp', '_env_fcn': <function create_env at 0x7f3bf5992950>, '_policies': [None, 'from_scratch_sb', 'pretrained'], '_env': {'with_video': True, 'SingleAgentToMultiAgent': False, 'env_name': 'multicomp/YouShallNotPassHumans-v0'}, 'framework': 'tfe', '_train_policies': [], '_call': {'checkpoint_freq': 0, 'name': 'adversarial_external_sb', 'num_samples': 3}, '_trainer': 'External', '_policy': 'PPO', '_train_steps': 10, '_update_config': None, '_run_inline': False, 'num_envs_per_worker': 1, '_log_error': True, '_model_params': {'use_lstm': False, 'fcnet_hiddens': [64, 64], 'fcnet_activation': 'tanh', 'free_log_std': True}, '_select_policy': <function select_policy_default at 0x7f3bf565f7a0>, '_get_policies': <function get_policies_default at 0x7f3bf565f710>, 'train_batch_size': 256, 'lr': 0, 'sgd_minibatch_size': 256, 'num_sgd_iter': 1, 'rollout_fragment_length': 200, 'num_workers': 0, 'run_uid': '_setme', 'batch_mode': 'complete_episodes', 'http_remote_port': 'http://127.0.0.1:50001', 'multiagent': {'policies': {'player_1': (<class 'ray.rllib.policy.tf_policy_template.PPOTFPolicy'>, Box(380,), Box(17,), {'model': {'custom_model': 'GymCompetePretrainedModel', 'custom_model_config': {'agent_id': 0, 'env_name': 'multicomp/YouShallNotPassHumans-v0', 'model_config': {}, 'name': 'model_0', 'load_weights': 'normalization_only'}}, 'framework': 'tfe'}), 'player_2': (<class 'ray.rllib.policy.tf_policy_template.PPOTFPolicy'>, Box(380,), Box(17,), {'model': {'custom_model': 'GymCompetePretrainedModel', 'custom_model_config': {'agent_id': 1, 'env_name': 'multicomp/YouShallNotPassHumans-v0', 'model_config': {}, 'name': 'model_1', 'load_weights': True}}, 'framework': 'tfe'})}}})}, 'tf_session_args': {'intra_op_parallelism_threads': 4, 'inter_op_parallelism_threads': 4, 'gpu_options': {'allow_growth': True}, 'log_device_placement': True, 'device_count': {'CPU': 4}, 'allow_soft_placement': True}, 'local_tf_session_args': {'intra_op_parallelism_threads': 4, 'inter_op_parallelism_threads': 4}, 'kl_coeff': 1.0, 'use_gae': True, 'num_gpus': 0, 'framework': 'tfe', 'num_envs_per_worker': 1, 'train_batch_size': 256, 'lr': 0, 'sgd_minibatch_size': 256, 'num_sgd_iter': 1, 'rollout_fragment_length': 200, 'num_workers': 0, 'run_uid': '_setme', 'batch_mode': 'complete_episodes', 'http_remote_port': 'http://127.0.0.1:50001'}\n",
      "Creating agent humanoid_blocker\n",
      "Reading agent XML from: /scratch/sergei/better-adversarial-defenses/multiagent-competition/gym_compete/new_envs/assets/humanoid_body.xml\n",
      "Creating agent humanoid\n",
      "Reading agent XML from: /scratch/sergei/better-adversarial-defenses/multiagent-competition/gym_compete/new_envs/assets/humanoid_body.xml\n",
      "Scene XML path: /scratch/sergei/better-adversarial-defenses/multiagent-competition/gym_compete/new_envs/assets/world_body.humanoid_body.humanoid_body.xml\n",
      "Created Scene with agents\n",
      "Not setting NN weights\n",
      "WARNING:tensorflow:From /scratch/sergei/miniconda3/lib/python3.7/site-packages/ray/rllib/models/tf/tf_action_dist.py:234: to_float (from tensorflow.python.ops.math_ops) is deprecated and will be removed in a future version.\n",
      "Instructions for updating:\n",
      "Use `tf.cast` instead.\n",
      "  0%|                                                    | 0/10 [00:00<?, ?it/s]WARNING:tensorflow:From /scratch/sergei/miniconda3/lib/python3.7/site-packages/ray/rllib/policy/tf_policy.py:761: Variable.load (from tensorflow.python.ops.variables) is deprecated and will be removed in a future version.\n",
      "Instructions for updating:\n",
      "Prefer Variable.assign which has equivalent behavior in 2.X.\n",
      "[10.0, -10.0]\n",
      " 10%|████▍                                       | 1/10 [00:40<06:06, 40.77s/it][10.0, 10.0, 10.0, -10.0]\n",
      " 20%|████████▊                                   | 2/10 [01:15<05:11, 38.99s/it][10.0, -10.0, 10.0, -10.0, 10.0, 10.0]\n",
      " 30%|█████████████▏                              | 3/10 [01:51<04:26, 38.07s/it][10.0, 10.0, 10.0, 10.0, -10.0, 10.0, 10.0, 10.0, -10.0]\n",
      " 40%|█████████████████▌                          | 4/10 [02:39<04:06, 41.09s/it][10.0, 10.0, 10.0, 10.0, 10.0, 10.0, -10.0, 10.0, 10.0, 10.0, -10.0, 10.0, 10.0, 10.0]\n",
      " 50%|██████████████████████                      | 5/10 [03:34<03:46, 45.21s/it][10.0, 10.0, 10.0, 10.0, -10.0, 10.0, 10.0, 10.0, -10.0, 10.0, 10.0, 10.0, 10.0, 10.0, 10.0, 10.0, 10.0]\n",
      " 60%|██████████████████████████▍                 | 6/10 [04:10<02:49, 42.42s/it][10.0, 10.0, 10.0, 10.0, -10.0, 10.0, 10.0, 10.0, -10.0, 10.0, 10.0, 10.0, 10.0, 10.0, 10.0, 10.0, 10.0, 10.0, 10.0, 10.0]\n",
      " 70%|██████████████████████████████▊             | 7/10 [04:45<02:00, 40.24s/it][10.0, 10.0, 10.0, -10.0, 10.0, 10.0, 10.0, -10.0, 10.0, 10.0, 10.0, 10.0, 10.0, 10.0, 10.0, 10.0, 10.0, 10.0, 10.0, 10.0, 10.0, 10.0]\n",
      " 80%|███████████████████████████████████▏        | 8/10 [05:24<01:19, 39.72s/it][10.0, 10.0, 10.0, 10.0, 10.0, 10.0, -10.0, 10.0, 10.0, 10.0, -10.0, 10.0, 10.0, 10.0, 10.0, 10.0, 10.0, 10.0, 10.0, 10.0, 10.0, 10.0, 10.0, 10.0, 10.0, 10.0, 10.0]\n",
      " 90%|███████████████████████████████████████▌    | 9/10 [06:31<00:48, 48.01s/it][10.0, 10.0, 10.0, -10.0, 10.0, 10.0, 10.0, -10.0, 10.0, 10.0, 10.0, 10.0, 10.0, 10.0, 10.0, 10.0, 10.0, 10.0, 10.0, 10.0, 10.0, 10.0, 10.0, 10.0, 10.0, 10.0, 10.0, 10.0, 10.0]\n",
      "100%|███████████████████████████████████████████| 10/10 [07:08<00:00, 42.90s/it]\n",
      "Total trials 29 win rate 93.10344827586206% loss rate 6.896551724137931% tie rate 0.0%\n",
      "Your video is in\n",
      "/scratch/sergei/better-adversarial-defenses/experiment_analysis/video-20200918-135137-beae468e-f9f0-11ea-b316-e0d55e6af99c/video.000000.mp4\n"
     ]
    }
   ],
   "source": [
    "!export DISPLAY=:0; python ../make_video.py --checkpoint {checkpoint} --config=external"
   ]
  },
  {
   "cell_type": "code",
   "execution_count": 81,
   "metadata": {},
   "outputs": [],
   "source": [
    "#video = _\n",
    "video = \"video-20200918-135137-beae468e-f9f0-11ea-b316-e0d55e6af99c/video.000000.mp4\""
   ]
  },
  {
   "cell_type": "code",
   "execution_count": 82,
   "metadata": {},
   "outputs": [
    {
     "data": {
      "text/html": [
       "Click here to download: <a href='video-20200918-135137-beae468e-f9f0-11ea-b316-e0d55e6af99c/video.000000.mp4' target='_blank'>video-20200918-135137-beae468e-f9f0-11ea-b316-e0d55e6af99c/video.000000.mp4</a><br>"
      ],
      "text/plain": [
       "/scratch/sergei/better-adversarial-defenses/experiment_analysis/video-20200918-135137-beae468e-f9f0-11ea-b316-e0d55e6af99c/video.000000.mp4"
      ]
     },
     "metadata": {},
     "output_type": "display_data"
    }
   ],
   "source": [
    "from IPython.display import display, FileLink\n",
    "\n",
    "local_file = FileLink(video, result_html_prefix=\"Click here to download: \")\n",
    "display(local_file)"
   ]
  },
  {
   "cell_type": "code",
   "execution_count": 83,
   "metadata": {},
   "outputs": [
    {
     "data": {
      "text/html": [
       "\n",
       "    <video alt=\"test\" controls>\n",
       "        <source src=\"video-20200918-135137-beae468e-f9f0-11ea-b316-e0d55e6af99c/video.000000.mp4\" type=\"video/mp4\">\n",
       "    </video>\n"
      ],
      "text/plain": [
       "<IPython.core.display.HTML object>"
      ]
     },
     "execution_count": 83,
     "metadata": {},
     "output_type": "execute_result"
    }
   ],
   "source": [
    "from IPython.display import HTML\n",
    "\n",
    "HTML(f\"\"\"\n",
    "    <video alt=\"test\" controls>\n",
    "        <source src=\"{video}\" type=\"video/mp4\">\n",
    "    </video>\n",
    "\"\"\")\n"
   ]
  },
  {
   "cell_type": "code",
   "execution_count": 77,
   "metadata": {},
   "outputs": [
    {
     "data": {
      "text/plain": [
       "'\\n    <video alt=\"test\" controls>\\n        <source src=\"experiment_analysis/video-20200918-135137-beae468e-f9f0-11ea-b316-e0d55e6af99c/video.000000.mp4\" type=\"video/mp4\">\\n    </video>\\n'"
      ]
     },
     "execution_count": 77,
     "metadata": {},
     "output_type": "execute_result"
    }
   ],
   "source": [
    "f\"\"\"\n",
    "    <video alt=\"test\" controls>\n",
    "        <source src=\"{video}\" type=\"video/mp4\">\n",
    "    </video>\n",
    "\"\"\""
   ]
  },
  {
   "cell_type": "code",
   "execution_count": null,
   "metadata": {},
   "outputs": [],
   "source": []
  }
 ],
 "metadata": {
  "kernelspec": {
   "display_name": "Python 3",
   "language": "python",
   "name": "python3"
  },
  "language_info": {
   "codemirror_mode": {
    "name": "ipython",
    "version": 3
   },
   "file_extension": ".py",
   "mimetype": "text/x-python",
   "name": "python",
   "nbconvert_exporter": "python",
   "pygments_lexer": "ipython3",
   "version": "3.8.3"
  }
 },
 "nbformat": 4,
 "nbformat_minor": 4
}
