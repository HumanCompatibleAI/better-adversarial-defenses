{
 "cells": [
  {
   "cell_type": "code",
   "execution_count": 1,
   "metadata": {},
   "outputs": [],
   "source": [
    "from ray.tune.analysis import Analysis\n",
    "from matplotlib import pyplot as plt\n",
    "import plotly.express as px\n",
    "import numpy as np\n",
    "import pandas as pd"
   ]
  },
  {
   "cell_type": "code",
   "execution_count": 85,
   "metadata": {},
   "outputs": [],
   "source": [
    "analysis = Analysis(\"/home/sergei/ray_results/adversarial_tune_recover_withnormal_sb\")"
   ]
  },
  {
   "cell_type": "code",
   "execution_count": 86,
   "metadata": {},
   "outputs": [],
   "source": [
    "target = 'policy_reward_mean/player_2_pretrained_sb'"
   ]
  },
  {
   "cell_type": "code",
   "execution_count": 87,
   "metadata": {},
   "outputs": [],
   "source": [
    "df = analysis.dataframe(metric=target, mode='max')"
   ]
  },
  {
   "cell_type": "code",
   "execution_count": 88,
   "metadata": {},
   "outputs": [
    {
     "data": {
      "text/plain": [
       "episode_reward_max                                                     7.04425\n",
       "episode_reward_min                                                    -2.53259\n",
       "episode_reward_mean                                                    4.48875\n",
       "episode_len_mean                                                       173.381\n",
       "episodes_this_iter                                                         113\n",
       "                                                   ...                        \n",
       "config/run_uid                                                          _setme\n",
       "config/sgd_minibatch_size                                                 4096\n",
       "config/train_batch_size                                                  16384\n",
       "config/use_gae                                                            True\n",
       "logdir                       /home/sergei/ray_results/adversarial_tune_reco...\n",
       "Name: 0, Length: 102, dtype: object"
      ]
     },
     "execution_count": 88,
     "metadata": {},
     "output_type": "execute_result"
    }
   ],
   "source": [
    "df.iloc[0]"
   ]
  },
  {
   "cell_type": "code",
   "execution_count": 89,
   "metadata": {},
   "outputs": [
    {
     "data": {
      "text/plain": [
       "Index(['episode_reward_max', 'episode_reward_min', 'episode_reward_mean',\n",
       "       'episode_len_mean', 'episodes_this_iter', 'num_healthy_workers',\n",
       "       'timesteps_total', 'done', 'episodes_total', 'training_iteration',\n",
       "       ...\n",
       "       'config/num_envs_per_worker', 'config/num_gpus', 'config/num_sgd_iter',\n",
       "       'config/num_workers', 'config/rollout_fragment_length',\n",
       "       'config/run_uid', 'config/sgd_minibatch_size',\n",
       "       'config/train_batch_size', 'config/use_gae', 'logdir'],\n",
       "      dtype='object', length=102)"
      ]
     },
     "execution_count": 89,
     "metadata": {},
     "output_type": "execute_result"
    }
   ],
   "source": [
    "df.columns"
   ]
  },
  {
   "cell_type": "code",
   "execution_count": 90,
   "metadata": {},
   "outputs": [],
   "source": [
    "for k in df.columns:\n",
    "#     if k.startswith('episode'):\n",
    "#         del df[k]\n",
    "    if not (k.startswith('config') or k == target or k == 'checkpoint_rllib' or k == 'logdir' or k == 'experiment_tag'):\n",
    "        del df[k]"
   ]
  },
  {
   "cell_type": "code",
   "execution_count": 91,
   "metadata": {},
   "outputs": [],
   "source": [
    "df = df.sort_values(target, ascending=False)"
   ]
  },
  {
   "cell_type": "code",
   "execution_count": 92,
   "metadata": {},
   "outputs": [
    {
     "data": {
      "text/html": [
       "<div>\n",
       "<style scoped>\n",
       "    .dataframe tbody tr th:only-of-type {\n",
       "        vertical-align: middle;\n",
       "    }\n",
       "\n",
       "    .dataframe tbody tr th {\n",
       "        vertical-align: top;\n",
       "    }\n",
       "\n",
       "    .dataframe thead th {\n",
       "        text-align: right;\n",
       "    }\n",
       "</style>\n",
       "<table border=\"1\" class=\"dataframe\">\n",
       "  <thead>\n",
       "    <tr style=\"text-align: right;\">\n",
       "      <th></th>\n",
       "      <th>checkpoint_rllib</th>\n",
       "      <th>experiment_tag</th>\n",
       "      <th>policy_reward_mean/player_2_pretrained_sb</th>\n",
       "      <th>config/_base_dir</th>\n",
       "      <th>config/_call</th>\n",
       "      <th>config/_checkpoint_restore_policy</th>\n",
       "      <th>config/_env</th>\n",
       "      <th>config/_env_fcn</th>\n",
       "      <th>config/_env_name_rllib</th>\n",
       "      <th>config/_get_policies</th>\n",
       "      <th>...</th>\n",
       "      <th>config/num_envs_per_worker</th>\n",
       "      <th>config/num_gpus</th>\n",
       "      <th>config/num_sgd_iter</th>\n",
       "      <th>config/num_workers</th>\n",
       "      <th>config/rollout_fragment_length</th>\n",
       "      <th>config/run_uid</th>\n",
       "      <th>config/sgd_minibatch_size</th>\n",
       "      <th>config/train_batch_size</th>\n",
       "      <th>config/use_gae</th>\n",
       "      <th>logdir</th>\n",
       "    </tr>\n",
       "  </thead>\n",
       "  <tbody>\n",
       "    <tr>\n",
       "      <th>1</th>\n",
       "      <td>/home/sergei/ray_results/External_multicomp_20...</td>\n",
       "      <td>4</td>\n",
       "      <td>12.091342</td>\n",
       "      <td>/scratch/sergei/better-adversarial-defenses</td>\n",
       "      <td>{'checkpoint_freq': 0, 'name': 'adversarial_tu...</td>\n",
       "      <td>{'player_1_pretrained_adversary_sb': './result...</td>\n",
       "      <td>{'SingleAgentToMultiAgent': False, 'env_name':...</td>\n",
       "      <td>&lt;function create_env at 0x7f8686657170&gt;</td>\n",
       "      <td>multicomp</td>\n",
       "      <td>&lt;function get_policies_withnormal_sb at 0x7f86...</td>\n",
       "      <td>...</td>\n",
       "      <td>10</td>\n",
       "      <td>0</td>\n",
       "      <td>4</td>\n",
       "      <td>3</td>\n",
       "      <td>100</td>\n",
       "      <td>_setme</td>\n",
       "      <td>4096</td>\n",
       "      <td>16384</td>\n",
       "      <td>True</td>\n",
       "      <td>/home/sergei/ray_results/adversarial_tune_reco...</td>\n",
       "    </tr>\n",
       "    <tr>\n",
       "      <th>3</th>\n",
       "      <td>/home/sergei/ray_results/External_multicomp_20...</td>\n",
       "      <td>3</td>\n",
       "      <td>11.467525</td>\n",
       "      <td>/scratch/sergei/better-adversarial-defenses</td>\n",
       "      <td>{'checkpoint_freq': 0, 'name': 'adversarial_tu...</td>\n",
       "      <td>{'player_1_pretrained_adversary_sb': './result...</td>\n",
       "      <td>{'SingleAgentToMultiAgent': False, 'env_name':...</td>\n",
       "      <td>&lt;function create_env at 0x7f8686657170&gt;</td>\n",
       "      <td>multicomp</td>\n",
       "      <td>&lt;function get_policies_withnormal_sb at 0x7f86...</td>\n",
       "      <td>...</td>\n",
       "      <td>10</td>\n",
       "      <td>0</td>\n",
       "      <td>4</td>\n",
       "      <td>3</td>\n",
       "      <td>100</td>\n",
       "      <td>_setme</td>\n",
       "      <td>4096</td>\n",
       "      <td>16384</td>\n",
       "      <td>True</td>\n",
       "      <td>/home/sergei/ray_results/adversarial_tune_reco...</td>\n",
       "    </tr>\n",
       "    <tr>\n",
       "      <th>4</th>\n",
       "      <td>/home/sergei/ray_results/External_multicomp_20...</td>\n",
       "      <td>0</td>\n",
       "      <td>11.366417</td>\n",
       "      <td>/scratch/sergei/better-adversarial-defenses</td>\n",
       "      <td>{'checkpoint_freq': 0, 'name': 'adversarial_tu...</td>\n",
       "      <td>{'player_1_pretrained_adversary_sb': './result...</td>\n",
       "      <td>{'SingleAgentToMultiAgent': False, 'env_name':...</td>\n",
       "      <td>&lt;function create_env at 0x7f8686657170&gt;</td>\n",
       "      <td>multicomp</td>\n",
       "      <td>&lt;function get_policies_withnormal_sb at 0x7f86...</td>\n",
       "      <td>...</td>\n",
       "      <td>10</td>\n",
       "      <td>0</td>\n",
       "      <td>4</td>\n",
       "      <td>3</td>\n",
       "      <td>100</td>\n",
       "      <td>_setme</td>\n",
       "      <td>4096</td>\n",
       "      <td>16384</td>\n",
       "      <td>True</td>\n",
       "      <td>/home/sergei/ray_results/adversarial_tune_reco...</td>\n",
       "    </tr>\n",
       "    <tr>\n",
       "      <th>0</th>\n",
       "      <td>/home/sergei/ray_results/External_multicomp_20...</td>\n",
       "      <td>2</td>\n",
       "      <td>11.302904</td>\n",
       "      <td>/scratch/sergei/better-adversarial-defenses</td>\n",
       "      <td>{'checkpoint_freq': 0, 'name': 'adversarial_tu...</td>\n",
       "      <td>{'player_1_pretrained_adversary_sb': './result...</td>\n",
       "      <td>{'SingleAgentToMultiAgent': False, 'env_name':...</td>\n",
       "      <td>&lt;function create_env at 0x7f8686657170&gt;</td>\n",
       "      <td>multicomp</td>\n",
       "      <td>&lt;function get_policies_withnormal_sb at 0x7f86...</td>\n",
       "      <td>...</td>\n",
       "      <td>10</td>\n",
       "      <td>0</td>\n",
       "      <td>4</td>\n",
       "      <td>3</td>\n",
       "      <td>100</td>\n",
       "      <td>_setme</td>\n",
       "      <td>4096</td>\n",
       "      <td>16384</td>\n",
       "      <td>True</td>\n",
       "      <td>/home/sergei/ray_results/adversarial_tune_reco...</td>\n",
       "    </tr>\n",
       "    <tr>\n",
       "      <th>2</th>\n",
       "      <td>/home/sergei/ray_results/External_multicomp_20...</td>\n",
       "      <td>1</td>\n",
       "      <td>10.933282</td>\n",
       "      <td>/scratch/sergei/better-adversarial-defenses</td>\n",
       "      <td>{'checkpoint_freq': 0, 'name': 'adversarial_tu...</td>\n",
       "      <td>{'player_1_pretrained_adversary_sb': './result...</td>\n",
       "      <td>{'SingleAgentToMultiAgent': False, 'env_name':...</td>\n",
       "      <td>&lt;function create_env at 0x7f8686657170&gt;</td>\n",
       "      <td>multicomp</td>\n",
       "      <td>&lt;function get_policies_withnormal_sb at 0x7f86...</td>\n",
       "      <td>...</td>\n",
       "      <td>10</td>\n",
       "      <td>0</td>\n",
       "      <td>4</td>\n",
       "      <td>3</td>\n",
       "      <td>100</td>\n",
       "      <td>_setme</td>\n",
       "      <td>4096</td>\n",
       "      <td>16384</td>\n",
       "      <td>True</td>\n",
       "      <td>/home/sergei/ray_results/adversarial_tune_reco...</td>\n",
       "    </tr>\n",
       "  </tbody>\n",
       "</table>\n",
       "<p>5 rows × 41 columns</p>\n",
       "</div>"
      ],
      "text/plain": [
       "                                    checkpoint_rllib  experiment_tag  \\\n",
       "1  /home/sergei/ray_results/External_multicomp_20...               4   \n",
       "3  /home/sergei/ray_results/External_multicomp_20...               3   \n",
       "4  /home/sergei/ray_results/External_multicomp_20...               0   \n",
       "0  /home/sergei/ray_results/External_multicomp_20...               2   \n",
       "2  /home/sergei/ray_results/External_multicomp_20...               1   \n",
       "\n",
       "   policy_reward_mean/player_2_pretrained_sb  \\\n",
       "1                                  12.091342   \n",
       "3                                  11.467525   \n",
       "4                                  11.366417   \n",
       "0                                  11.302904   \n",
       "2                                  10.933282   \n",
       "\n",
       "                              config/_base_dir  \\\n",
       "1  /scratch/sergei/better-adversarial-defenses   \n",
       "3  /scratch/sergei/better-adversarial-defenses   \n",
       "4  /scratch/sergei/better-adversarial-defenses   \n",
       "0  /scratch/sergei/better-adversarial-defenses   \n",
       "2  /scratch/sergei/better-adversarial-defenses   \n",
       "\n",
       "                                        config/_call  \\\n",
       "1  {'checkpoint_freq': 0, 'name': 'adversarial_tu...   \n",
       "3  {'checkpoint_freq': 0, 'name': 'adversarial_tu...   \n",
       "4  {'checkpoint_freq': 0, 'name': 'adversarial_tu...   \n",
       "0  {'checkpoint_freq': 0, 'name': 'adversarial_tu...   \n",
       "2  {'checkpoint_freq': 0, 'name': 'adversarial_tu...   \n",
       "\n",
       "                   config/_checkpoint_restore_policy  \\\n",
       "1  {'player_1_pretrained_adversary_sb': './result...   \n",
       "3  {'player_1_pretrained_adversary_sb': './result...   \n",
       "4  {'player_1_pretrained_adversary_sb': './result...   \n",
       "0  {'player_1_pretrained_adversary_sb': './result...   \n",
       "2  {'player_1_pretrained_adversary_sb': './result...   \n",
       "\n",
       "                                         config/_env  \\\n",
       "1  {'SingleAgentToMultiAgent': False, 'env_name':...   \n",
       "3  {'SingleAgentToMultiAgent': False, 'env_name':...   \n",
       "4  {'SingleAgentToMultiAgent': False, 'env_name':...   \n",
       "0  {'SingleAgentToMultiAgent': False, 'env_name':...   \n",
       "2  {'SingleAgentToMultiAgent': False, 'env_name':...   \n",
       "\n",
       "                           config/_env_fcn config/_env_name_rllib  \\\n",
       "1  <function create_env at 0x7f8686657170>              multicomp   \n",
       "3  <function create_env at 0x7f8686657170>              multicomp   \n",
       "4  <function create_env at 0x7f8686657170>              multicomp   \n",
       "0  <function create_env at 0x7f8686657170>              multicomp   \n",
       "2  <function create_env at 0x7f8686657170>              multicomp   \n",
       "\n",
       "                                config/_get_policies  ...  \\\n",
       "1  <function get_policies_withnormal_sb at 0x7f86...  ...   \n",
       "3  <function get_policies_withnormal_sb at 0x7f86...  ...   \n",
       "4  <function get_policies_withnormal_sb at 0x7f86...  ...   \n",
       "0  <function get_policies_withnormal_sb at 0x7f86...  ...   \n",
       "2  <function get_policies_withnormal_sb at 0x7f86...  ...   \n",
       "\n",
       "   config/num_envs_per_worker config/num_gpus config/num_sgd_iter  \\\n",
       "1                          10               0                   4   \n",
       "3                          10               0                   4   \n",
       "4                          10               0                   4   \n",
       "0                          10               0                   4   \n",
       "2                          10               0                   4   \n",
       "\n",
       "   config/num_workers  config/rollout_fragment_length config/run_uid  \\\n",
       "1                   3                             100         _setme   \n",
       "3                   3                             100         _setme   \n",
       "4                   3                             100         _setme   \n",
       "0                   3                             100         _setme   \n",
       "2                   3                             100         _setme   \n",
       "\n",
       "  config/sgd_minibatch_size config/train_batch_size  config/use_gae  \\\n",
       "1                      4096                   16384            True   \n",
       "3                      4096                   16384            True   \n",
       "4                      4096                   16384            True   \n",
       "0                      4096                   16384            True   \n",
       "2                      4096                   16384            True   \n",
       "\n",
       "                                              logdir  \n",
       "1  /home/sergei/ray_results/adversarial_tune_reco...  \n",
       "3  /home/sergei/ray_results/adversarial_tune_reco...  \n",
       "4  /home/sergei/ray_results/adversarial_tune_reco...  \n",
       "0  /home/sergei/ray_results/adversarial_tune_reco...  \n",
       "2  /home/sergei/ray_results/adversarial_tune_reco...  \n",
       "\n",
       "[5 rows x 41 columns]"
      ]
     },
     "execution_count": 92,
     "metadata": {},
     "output_type": "execute_result"
    }
   ],
   "source": [
    "df"
   ]
  },
  {
   "cell_type": "code",
   "execution_count": 93,
   "metadata": {},
   "outputs": [
    {
     "data": {
      "text/plain": [
       "(array([1., 0., 0., 2., 1., 0., 0., 0., 0., 1.]),\n",
       " array([10.9332825 , 11.04908847, 11.16489445, 11.28070042, 11.3965064 ,\n",
       "        11.51231237, 11.62811835, 11.74392432, 11.8597303 , 11.97553627,\n",
       "        12.09134225]),\n",
       " <a list of 10 Patch objects>)"
      ]
     },
     "execution_count": 93,
     "metadata": {},
     "output_type": "execute_result"
    },
    {
     "data": {
      "image/png": "[encoded data removed]",
      "text/plain": [
       "<Figure size 432x288 with 1 Axes>"
      ]
     },
     "metadata": {
      "needs_background": "light"
     },
     "output_type": "display_data"
    }
   ],
   "source": [
    "plt.hist(df[target])"
   ]
  },
  {
   "cell_type": "code",
   "execution_count": 94,
   "metadata": {},
   "outputs": [
    {
     "data": {
      "text/plain": [
       "checkpoint_rllib                             /home/sergei/ray_results/External_multicomp_20...\n",
       "experiment_tag                                                                               3\n",
       "policy_reward_mean/player_2_pretrained_sb                                              11.4675\n",
       "config/_base_dir                                   /scratch/sergei/better-adversarial-defenses\n",
       "config/_call                                 {'checkpoint_freq': 0, 'name': 'adversarial_tu...\n",
       "config/_checkpoint_restore_policy            {'player_1_pretrained_adversary_sb': './result...\n",
       "config/_env                                  {'SingleAgentToMultiAgent': False, 'env_name':...\n",
       "config/_env_fcn                                        <function create_env at 0x7f8686657170>\n",
       "config/_env_name_rllib                                                               multicomp\n",
       "config/_get_policies                         <function get_policies_withnormal_sb at 0x7f86...\n",
       "config/_log_error                                                                         True\n",
       "config/_main_filename                        /scratch/sergei/better-adversarial-defenses/tr...\n",
       "config/_model_params                         {'fcnet_activation': 'tanh', 'fcnet_hiddens': ...\n",
       "config/_num_workers_tf                                                                       4\n",
       "config/_p_normal                                                                           0.5\n",
       "config/_policies                                              [None, from_scratch, pretrained]\n",
       "config/_policy                                                                             PPO\n",
       "config/_redis_address                                                        128.32.175.9:6379\n",
       "config/_run_inline                                                                       False\n",
       "config/_select_policy                        <function select_policy_opp_normal_and_adv_sb ...\n",
       "config/_tmp_dir                                                                           /tmp\n",
       "config/_train_policies                                                [player_2_pretrained_sb]\n",
       "config/_train_steps                                                                 9999999999\n",
       "config/_trainer                                                                       External\n",
       "config/_update_config                                                                     None\n",
       "config/_verbose                                                                          False\n",
       "config/batch_mode                                                            complete_episodes\n",
       "config/framework                                                                           tfe\n",
       "config/http_remote_port                                                 http://127.0.0.1:50001\n",
       "config/kl_coeff                                                                              1\n",
       "config/lr                                                                               0.0003\n",
       "config/num_envs_per_worker                                                                  10\n",
       "config/num_gpus                                                                              0\n",
       "config/num_sgd_iter                                                                          4\n",
       "config/num_workers                                                                           3\n",
       "config/rollout_fragment_length                                                             100\n",
       "config/run_uid                                                                          _setme\n",
       "config/sgd_minibatch_size                                                                 4096\n",
       "config/train_batch_size                                                                  16384\n",
       "config/use_gae                                                                            True\n",
       "logdir                                       /home/sergei/ray_results/adversarial_tune_reco...\n",
       "Name: 3, dtype: object"
      ]
     },
     "execution_count": 94,
     "metadata": {},
     "output_type": "execute_result"
    }
   ],
   "source": [
    "idx = 1\n",
    "best_trial = df.iloc[idx].logdir\n",
    "df.iloc[idx]"
   ]
  },
  {
   "cell_type": "code",
   "execution_count": 95,
   "metadata": {},
   "outputs": [
    {
     "data": {
      "image/png": "[encoded data removed]",
      "text/plain": [
       "<Figure size 432x288 with 1 Axes>"
      ]
     },
     "metadata": {
      "needs_background": "light"
     },
     "output_type": "display_data"
    }
   ],
   "source": [
    "for k, df_ in analysis.trial_dataframes.items():\n",
    "    rew = df_[target]\n",
    "    plt.plot(pd.Series(rew).rolling(10).mean()[:4000], label=k.split('-')[-1])\n",
    "    #imax = np.argmax(rew)\n",
    "    plt.legend()\n",
    "#     imax = -1\n",
    "#     plt.axvline(imax)"
   ]
  },
  {
   "cell_type": "code",
   "execution_count": 96,
   "metadata": {},
   "outputs": [
    {
     "data": {
      "text/plain": [
       "'/home/sergei/ray_results/adversarial_tune_recover_withnormal_sb/train_one_with_sacred_4_2020-09-21_11-36-44hhwlmt9u'"
      ]
     },
     "execution_count": 96,
     "metadata": {},
     "output_type": "execute_result"
    }
   ],
   "source": [
    "idx = 0\n",
    "best_trial = df.iloc[idx].logdir\n",
    "df.iloc[idx]\n",
    "best_trial"
   ]
  },
  {
   "cell_type": "code",
   "execution_count": 97,
   "metadata": {},
   "outputs": [],
   "source": [
    "df_best = analysis.trial_dataframes[best_trial]"
   ]
  },
  {
   "cell_type": "code",
   "execution_count": 98,
   "metadata": {},
   "outputs": [
    {
     "data": {
      "text/plain": [
       "'/home/sergei/ray_results/External_multicomp_2020-09-22_10-55-23_joq3ccx/checkpoint_1907/checkpoint-1907'"
      ]
     },
     "execution_count": 98,
     "metadata": {},
     "output_type": "execute_result"
    }
   ],
   "source": [
    "checkpoint = df_best.checkpoint_rllib.iloc[imax]\n",
    "checkpoint"
   ]
  },
  {
   "cell_type": "code",
   "execution_count": 103,
   "metadata": {},
   "outputs": [
    {
     "name": "stdout",
     "output_type": "stream",
     "text": [
      "Creating agent humanoid_blocker\n",
      "Reading agent XML from: /scratch/sergei/better-adversarial-defenses/multiagent-competition/gym_compete/new_envs/assets/humanoid_body.xml\n",
      "Creating agent humanoid\n",
      "Reading agent XML from: /scratch/sergei/better-adversarial-defenses/multiagent-competition/gym_compete/new_envs/assets/humanoid_body.xml\n",
      "Scene XML path: /scratch/sergei/better-adversarial-defenses/multiagent-competition/gym_compete/new_envs/assets/world_body.humanoid_body.humanoid_body.xml\n",
      "Created Scene with agents\n",
      "Config {'env': 'multicomp', 'env_config': {'with_video': False, 'SingleAgentToMultiAgent': False, 'env_name': 'multicomp/YouShallNotPassHumans-v0'}, 'multiagent': {'policies_to_train': [], 'policies': {'player_1_pretrained_adversary_sb': (<class 'ray.rllib.policy.tf_policy_template.PPOTFPolicy'>, Box(380,), Box(17,), {'model': {'custom_model': 'GymCompetePretrainedModel', 'custom_model_config': {'agent_id': 0, 'env_name': 'multicomp/YouShallNotPassHumans-v0', 'model_config': {}, 'name': 'model_0', 'load_weights': 'normalization_only'}}, 'framework': 'tfe'}), 'player_1_pretrained_sb': (<class 'ray.rllib.policy.tf_policy_template.PPOTFPolicy'>, Box(380,), Box(17,), {'model': {'custom_model': 'GymCompetePretrainedModel', 'custom_model_config': {'agent_id': 0, 'env_name': 'multicomp/YouShallNotPassHumans-v0', 'model_config': {}, 'name': 'model_0', 'load_weights': True}}, 'framework': 'tfe'}), 'player_2_pretrained_sb': (<class 'ray.rllib.policy.tf_policy_template.PPOTFPolicy'>, Box(380,), Box(17,), {'model': {'custom_model': 'GymCompetePretrainedModel', 'custom_model_config': {'agent_id': 1, 'env_name': 'multicomp/YouShallNotPassHumans-v0', 'model_config': {}, 'name': 'model_1', 'load_weights': True}}, 'framework': 'tfe'})}, 'policy_mapping_fn': functools.partial(<function select_policy_opp_normal_and_adv_sb at 0x7fc410a68680>, config={'kl_coeff': 1.0, '_num_workers_tf': 4, 'use_gae': True, 'num_gpus': 0, '_env_name_rllib': 'multicomp', '_env_fcn': <function create_env at 0x7fc410d97950>, '_policies': [None, 'from_scratch', 'pretrained'], '_env': {'with_video': False, 'SingleAgentToMultiAgent': False, 'env_name': 'multicomp/YouShallNotPassHumans-v0'}, 'framework': 'tfe', '_train_policies': [], '_call': {'checkpoint_freq': 0, 'name': 'adversarial_tune_recover_withnormal_sb', 'stop': {'timesteps_total': 50000000}, 'num_samples': 5, 'resources_per_trial': {'custom_resources': {'tune_cpu': 3}}}, '_trainer': 'External', '_policy': 'PPO', '_train_steps': 50, '_update_config': None, '_run_inline': False, 'num_envs_per_worker': 1, '_log_error': True, '_model_params': {'use_lstm': False, 'fcnet_hiddens': [64, 64], 'fcnet_activation': 'tanh', 'free_log_std': True}, '_select_policy': <function select_policy_opp_normal_and_adv_sb at 0x7fc410a68680>, '_get_policies': <function get_policies_withnormal_sb at 0x7fc410a685f0>, '_checkpoint_restore_policy': {'player_1_pretrained_adversary_sb': './results/checkpoint-adv-external-3273-player_1.pkl'}, 'batch_mode': 'complete_episodes', 'train_batch_size': 256, 'lr': 0, 'sgd_minibatch_size': 256, 'num_sgd_iter': 1, 'rollout_fragment_length': 200, 'run_uid': '_setme', 'http_remote_port': 'http://127.0.0.1:50001', 'num_workers': 0, '_p_normal': 0.5, '_verbose': False, 'multiagent': {'policies': {'player_1_pretrained_adversary_sb': (<class 'ray.rllib.policy.tf_policy_template.PPOTFPolicy'>, Box(380,), Box(17,), {'model': {'custom_model': 'GymCompetePretrainedModel', 'custom_model_config': {'agent_id': 0, 'env_name': 'multicomp/YouShallNotPassHumans-v0', 'model_config': {}, 'name': 'model_0', 'load_weights': 'normalization_only'}}, 'framework': 'tfe'}), 'player_1_pretrained_sb': (<class 'ray.rllib.policy.tf_policy_template.PPOTFPolicy'>, Box(380,), Box(17,), {'model': {'custom_model': 'GymCompetePretrainedModel', 'custom_model_config': {'agent_id': 0, 'env_name': 'multicomp/YouShallNotPassHumans-v0', 'model_config': {}, 'name': 'model_0', 'load_weights': True}}, 'framework': 'tfe'}), 'player_2_pretrained_sb': (<class 'ray.rllib.policy.tf_policy_template.PPOTFPolicy'>, Box(380,), Box(17,), {'model': {'custom_model': 'GymCompetePretrainedModel', 'custom_model_config': {'agent_id': 1, 'env_name': 'multicomp/YouShallNotPassHumans-v0', 'model_config': {}, 'name': 'model_1', 'load_weights': True}}, 'framework': 'tfe'})}}})}, 'tf_session_args': {'intra_op_parallelism_threads': 4, 'inter_op_parallelism_threads': 4, 'gpu_options': {'allow_growth': True}, 'log_device_placement': True, 'device_count': {'CPU': 4}, 'allow_soft_placement': True}, 'local_tf_session_args': {'intra_op_parallelism_threads': 4, 'inter_op_parallelism_threads': 4}, 'kl_coeff': 1.0, 'use_gae': True, 'num_gpus': 0, 'framework': 'tfe', 'num_envs_per_worker': 1, 'batch_mode': 'complete_episodes', 'train_batch_size': 256, 'lr': 0, 'sgd_minibatch_size': 256, 'num_sgd_iter': 1, 'rollout_fragment_length': 200, 'run_uid': '_setme', 'http_remote_port': 'http://127.0.0.1:50001', 'num_workers': 0}\n",
      "Creating agent humanoid_blocker\n",
      "Reading agent XML from: /scratch/sergei/better-adversarial-defenses/multiagent-competition/gym_compete/new_envs/assets/humanoid_body.xml\n",
      "Creating agent humanoid\n",
      "Reading agent XML from: /scratch/sergei/better-adversarial-defenses/multiagent-competition/gym_compete/new_envs/assets/humanoid_body.xml\n",
      "Scene XML path: /scratch/sergei/better-adversarial-defenses/multiagent-competition/gym_compete/new_envs/assets/world_body.humanoid_body.humanoid_body.xml\n",
      "Created Scene with agents\n",
      "Not setting NN weights\n",
      "Loading normalization\n",
      "WARNING:tensorflow:From /scratch/sergei/miniconda3/lib/python3.7/site-packages/ray/rllib/models/tf/tf_action_dist.py:234: to_float (from tensorflow.python.ops.math_ops) is deprecated and will be removed in a future version.\n",
      "Instructions for updating:\n",
      "Use `tf.cast` instead.\n",
      "Setting NN weights\n",
      "Loading normalization\n",
      "Setting NN weights\n",
      "Loading normalization\n",
      "  0%|                                                    | 0/50 [00:00<?, ?it/s]WARNING:tensorflow:From /scratch/sergei/miniconda3/lib/python3.7/site-packages/ray/rllib/policy/tf_policy.py:761: Variable.load (from tensorflow.python.ops.variables) is deprecated and will be removed in a future version.\n",
      "Instructions for updating:\n",
      "Prefer Variable.assign which has equivalent behavior in 2.X.\n",
      "100%|███████████████████████████████████████████| 50/50 [03:24<00:00,  4.08s/it]\n",
      "{'episode_reward': [-2.4647814364434453, 6.395752121636178, 1.9345218170492444, 6.623052882408956, 0.7336647043484845, 5.895737726677908, 6.2352421383111505, -0.4557078882062342, -1.3243224909820128, 5.9674520241242135, -1.6826776681118645, -0.6870052273807232, -1.4725595302697911, -3.832074305297283, 6.112105107829848, 6.5138092979905196, 0.011013974552042782, 6.294096065306803, 6.054417879640823, 5.852010114937002, -5.552111949014943, 3.100236278347438, 6.2251192552653265, 6.275308165320894, -2.1030257000529673, 6.173239299943816, 6.363030081360193, 6.350148179917596, -1.6977907728960417, 6.309625673606206, 6.0427074581966735, 6.2593946866254555, -0.44635704180109315, 6.294625820744841, -2.6728599699563347, 6.010876928921789, 3.430196219618665, 6.517348429075355, -0.6402889112941921, 6.120439616620388, 6.641834901034599, 1.0000827024996397, -0.26895633645472117, 5.9944161808962235, 7.333749214296404, 5.311077096659574, 6.100494910569978, 6.928607600129908, 7.71311742378748, -0.7512576499138959, 6.225881121354178, 5.9647296715002085, -1.874770880138385, 6.13718118192628, 3.0535900627969568, 4.49312405474484, 4.015645686798962, 6.2455352101969765, 3.923222706944216, -0.6212786555406637, -0.9441175014944747, -0.6508016612497158, 0.376678532709775, -0.50784505638876, 5.836741622726549, -12.881673562776996, 6.346959155598597, 6.142697250683796, 4.426044112431555, 4.405135280317836, 0.08674981258809566, 8.221175705490168, 6.1801533699035645, 6.728429744791356, 6.706869945432118, 1.1871701891723205, 1.0142597214689886, -0.7948790816810742, 6.295009584758191, -0.7294743505481165, 6.395340764262073, 6.269142002201988, 2.496324058258324, -0.6187793581630103, 6.9395114912767895, 6.481912881950848, 3.4835572651209077, 6.344393831139314, 6.098489998898003, 6.113490431314858, 4.891461297760543, 6.324789351576328, 6.169482543201866, -0.6283597751535126, -1.118941238426487, 6.6536841710912995, -3.471432230377104, 6.240603110658412, 6.698558011205023, -0.22230890503851697], 'policy_player_1_pretrained_sb_reward': [10.0, 10.0, 10.0, 10.0, 10.0, 10.0, 10.0, -10.0, 10.0, -10.0, 10.0, -10.0, -10.0, 10.0, 10.0, -10.0, -10.0, 10.0, -10.0, 10.0, -10.0, -10.0, -10.0, -10.0, 10.0, 10.0, -10.0, -10.0, -10.0, 10.0, 10.0, 10.0, 10.0, 10.0, 10.0, 10.0, -10.0, -10.0, 10.0, 10.0, 10.0, -10.0, -10.0, -10.0, -10.0, 10.0, 10.0, -10.0, -10.0], 'policy_player_2_pretrained_sb_reward': [-12.464781436443445, 16.39575212163618, -8.065478182950756, 16.623052882408956, 10.733664704348485, 15.895737726677908, 16.23524213831115, -10.455707888206234, -11.324322490982013, 15.967452024124213, -11.682677668111864, -10.687005227380723, -11.472559530269791, -13.832074305297283, 16.112105107829848, 16.51380929799052, -9.988986025447957, 16.294096065306803, 16.054417879640823, 15.852010114937002, -15.552111949014943, -6.899763721652562, 16.225119255265327, 16.275308165320894, -12.103025700052967, 16.173239299943816, 16.363030081360193, 16.350148179917596, -11.697790772896042, 16.309625673606206, 16.042707458196674, 16.259394686625456, -10.446357041801093, 16.29462582074484, 7.327140030043665, 16.01087692892179, -6.569803780381335, 16.517348429075355, -10.640288911294192, 16.120439616620388, 16.6418349010346, -8.99991729750036, -10.268956336454721, 15.994416180896224, 17.333749214296404, 15.311077096659574, 16.100494910569978, 16.928607600129908, 17.71311742378748, -10.751257649913896, 16.225881121354178, 15.964729671500208, -11.874770880138385, 16.13718118192628, 13.053590062796957, 14.49312405474484, 14.015645686798962, 16.245535210196977, 13.923222706944216, -10.621278655540664, -10.944117501494475, -10.650801661249716, -9.623321467290225, -10.50784505638876, 15.83674162272655, -22.881673562776996, 16.346959155598597, 16.142697250683796, 14.426044112431555, 14.405135280317836, -9.913250187411904, 18.221175705490168, 16.180153369903564, 16.728429744791356, 16.706869945432118, -8.81282981082768, -8.985740278531011, -10.794879081681074, 16.29500958475819, 9.270525649451884, 16.395340764262073, 16.26914200220199, 12.496324058258324, -10.61877935816301, 16.93951149127679, 16.481912881950848, -6.516442734879092, 16.344393831139314, 16.098489998898003, 16.113490431314858, 14.891461297760543, 16.324789351576328, 16.169482543201866, -10.628359775153513, -11.118941238426487, 16.6536841710913, 6.528567769622896, 16.240603110658412, 16.698558011205023, 9.777691094961483], 'policy_player_1_pretrained_adversary_sb_reward': [-10.0, -10.0, -10.0, -10.0, -10.0, 10.0, -10.0, -10.0, 10.0, -10.0, -10.0, -10.0, 10.0, -10.0, -10.0, -10.0, -10.0, -10.0, -10.0, 10.0, -10.0, -10.0, 10.0, -10.0, -10.0, -10.0, -10.0, -10.0, -10.0, -10.0, -10.0, -10.0, -10.0, -10.0, -10.0, -10.0, -10.0, -10.0, -10.0, -10.0, 10.0, -10.0, 10.0, -10.0, -10.0, -10.0, -10.0, -10.0, -10.0, -10.0, -10.0]}\n",
      "Player episode_reward total trials 100 win rate 72.0% loss rate 28.0% tie rate 0.0%\n",
      "Player policy_player_1_pretrained_sb_reward total trials 49 win rate 55.10204081632653% loss rate 44.89795918367347% tie rate 0.0%\n",
      "Player policy_player_2_pretrained_sb_reward total trials 100 win rate 66.0% loss rate 34.0% tie rate 0.0%\n",
      "Player policy_player_1_pretrained_adversary_sb_reward total trials 51 win rate 13.72549019607843% loss rate 86.27450980392157% tie rate 0.0%\n"
     ]
    }
   ],
   "source": [
    "!python ../make_video.py --checkpoint {checkpoint} --no_video=True --steps 50 --config=victim_recover_withnormal_sb"
   ]
  },
  {
   "cell_type": "code",
   "execution_count": 104,
   "metadata": {},
   "outputs": [
    {
     "name": "stdout",
     "output_type": "stream",
     "text": [
      "Creating agent humanoid_blocker\n",
      "Reading agent XML from: /scratch/sergei/better-adversarial-defenses/multiagent-competition/gym_compete/new_envs/assets/humanoid_body.xml\n",
      "Creating agent humanoid\n",
      "Reading agent XML from: /scratch/sergei/better-adversarial-defenses/multiagent-competition/gym_compete/new_envs/assets/humanoid_body.xml\n",
      "Scene XML path: /scratch/sergei/better-adversarial-defenses/multiagent-competition/gym_compete/new_envs/assets/world_body.humanoid_body.humanoid_body.xml\n",
      "Created Scene with agents\n",
      "GLFW error: 65544, desc: b'X11: RandR gamma ramp support seems broken'\n",
      "Config {'env': 'multicomp', 'env_config': {'with_video': True, 'SingleAgentToMultiAgent': False, 'env_name': 'multicomp/YouShallNotPassHumans-v0'}, 'multiagent': {'policies_to_train': [], 'policies': {'player_1_pretrained_adversary_sb': (<class 'ray.rllib.policy.tf_policy_template.PPOTFPolicy'>, Box(380,), Box(17,), {'model': {'custom_model': 'GymCompetePretrainedModel', 'custom_model_config': {'agent_id': 0, 'env_name': 'multicomp/YouShallNotPassHumans-v0', 'model_config': {}, 'name': 'model_0', 'load_weights': 'normalization_only'}}, 'framework': 'tfe'}), 'player_1_pretrained_sb': (<class 'ray.rllib.policy.tf_policy_template.PPOTFPolicy'>, Box(380,), Box(17,), {'model': {'custom_model': 'GymCompetePretrainedModel', 'custom_model_config': {'agent_id': 0, 'env_name': 'multicomp/YouShallNotPassHumans-v0', 'model_config': {}, 'name': 'model_0', 'load_weights': True}}, 'framework': 'tfe'}), 'player_2_pretrained_sb': (<class 'ray.rllib.policy.tf_policy_template.PPOTFPolicy'>, Box(380,), Box(17,), {'model': {'custom_model': 'GymCompetePretrainedModel', 'custom_model_config': {'agent_id': 1, 'env_name': 'multicomp/YouShallNotPassHumans-v0', 'model_config': {}, 'name': 'model_1', 'load_weights': True}}, 'framework': 'tfe'})}, 'policy_mapping_fn': functools.partial(<function select_policy_opp_normal_and_adv_sb at 0x7f4bb6ac4710>, config={'kl_coeff': 1.0, '_num_workers_tf': 4, 'use_gae': True, 'num_gpus': 0, '_env_name_rllib': 'multicomp', '_env_fcn': <function create_env at 0x7f4bb6df29e0>, '_policies': [None, 'from_scratch', 'pretrained'], '_env': {'with_video': True, 'SingleAgentToMultiAgent': False, 'env_name': 'multicomp/YouShallNotPassHumans-v0'}, 'framework': 'tfe', '_train_policies': [], '_call': {'checkpoint_freq': 0, 'name': 'adversarial_tune_recover_withnormal_sb', 'stop': {'timesteps_total': 50000000}, 'num_samples': 5, 'resources_per_trial': {'custom_resources': {'tune_cpu': 3}}}, '_trainer': 'External', '_policy': 'PPO', '_train_steps': 10, '_update_config': None, '_run_inline': False, 'num_envs_per_worker': 1, '_log_error': True, '_model_params': {'use_lstm': False, 'fcnet_hiddens': [64, 64], 'fcnet_activation': 'tanh', 'free_log_std': True}, '_select_policy': <function select_policy_opp_normal_and_adv_sb at 0x7f4bb6ac4710>, '_get_policies': <function get_policies_withnormal_sb at 0x7f4bb6ac4680>, '_checkpoint_restore_policy': {'player_1_pretrained_adversary_sb': './results/checkpoint-adv-external-3273-player_1.pkl'}, 'batch_mode': 'complete_episodes', 'train_batch_size': 256, 'lr': 0, 'sgd_minibatch_size': 256, 'num_sgd_iter': 1, 'rollout_fragment_length': 200, 'run_uid': '_setme', 'http_remote_port': 'http://127.0.0.1:50001', 'num_workers': 0, '_p_normal': 0.5, '_verbose': False, 'multiagent': {'policies': {'player_1_pretrained_adversary_sb': (<class 'ray.rllib.policy.tf_policy_template.PPOTFPolicy'>, Box(380,), Box(17,), {'model': {'custom_model': 'GymCompetePretrainedModel', 'custom_model_config': {'agent_id': 0, 'env_name': 'multicomp/YouShallNotPassHumans-v0', 'model_config': {}, 'name': 'model_0', 'load_weights': 'normalization_only'}}, 'framework': 'tfe'}), 'player_1_pretrained_sb': (<class 'ray.rllib.policy.tf_policy_template.PPOTFPolicy'>, Box(380,), Box(17,), {'model': {'custom_model': 'GymCompetePretrainedModel', 'custom_model_config': {'agent_id': 0, 'env_name': 'multicomp/YouShallNotPassHumans-v0', 'model_config': {}, 'name': 'model_0', 'load_weights': True}}, 'framework': 'tfe'}), 'player_2_pretrained_sb': (<class 'ray.rllib.policy.tf_policy_template.PPOTFPolicy'>, Box(380,), Box(17,), {'model': {'custom_model': 'GymCompetePretrainedModel', 'custom_model_config': {'agent_id': 1, 'env_name': 'multicomp/YouShallNotPassHumans-v0', 'model_config': {}, 'name': 'model_1', 'load_weights': True}}, 'framework': 'tfe'})}}})}, 'tf_session_args': {'intra_op_parallelism_threads': 4, 'inter_op_parallelism_threads': 4, 'gpu_options': {'allow_growth': True}, 'log_device_placement': True, 'device_count': {'CPU': 4}, 'allow_soft_placement': True}, 'local_tf_session_args': {'intra_op_parallelism_threads': 4, 'inter_op_parallelism_threads': 4}, 'kl_coeff': 1.0, 'use_gae': True, 'num_gpus': 0, 'framework': 'tfe', 'num_envs_per_worker': 1, 'batch_mode': 'complete_episodes', 'train_batch_size': 256, 'lr': 0, 'sgd_minibatch_size': 256, 'num_sgd_iter': 1, 'rollout_fragment_length': 200, 'run_uid': '_setme', 'http_remote_port': 'http://127.0.0.1:50001', 'num_workers': 0}\n",
      "Creating agent humanoid_blocker\n",
      "Reading agent XML from: /scratch/sergei/better-adversarial-defenses/multiagent-competition/gym_compete/new_envs/assets/humanoid_body.xml\n",
      "Creating agent humanoid\n",
      "Reading agent XML from: /scratch/sergei/better-adversarial-defenses/multiagent-competition/gym_compete/new_envs/assets/humanoid_body.xml\n",
      "Scene XML path: /scratch/sergei/better-adversarial-defenses/multiagent-competition/gym_compete/new_envs/assets/world_body.humanoid_body.humanoid_body.xml\n",
      "Created Scene with agents\n",
      "Not setting NN weights\n",
      "Loading normalization\n",
      "WARNING:tensorflow:From /scratch/sergei/miniconda3/lib/python3.7/site-packages/ray/rllib/models/tf/tf_action_dist.py:234: to_float (from tensorflow.python.ops.math_ops) is deprecated and will be removed in a future version.\n",
      "Instructions for updating:\n",
      "Use `tf.cast` instead.\n",
      "Setting NN weights\n",
      "Loading normalization\n",
      "Setting NN weights\n",
      "Loading normalization\n",
      "  0%|                                                    | 0/10 [00:00<?, ?it/s]WARNING:tensorflow:From /scratch/sergei/miniconda3/lib/python3.7/site-packages/ray/rllib/policy/tf_policy.py:761: Variable.load (from tensorflow.python.ops.variables) is deprecated and will be removed in a future version.\n",
      "Instructions for updating:\n",
      "Prefer Variable.assign which has equivalent behavior in 2.X.\n",
      "100%|███████████████████████████████████████████| 10/10 [07:17<00:00, 43.71s/it]\n",
      "{'episode_reward': [6.221853831575572, 0.20327966687909793, 6.076482087330078, 6.072269364231033, 3.991483121597412, 6.106027821166208, 6.372146715730196, 5.9787216528638965, -1.8159099524818885, 0.5262512255721958, 6.352657357278076, -1.319223416110617, 6.109550450921233, -1.227716326706286, 5.5257980780734215, 2.801333043728846, 6.402926458220463, 6.323545454186387, 6.357950117344444, -0.8406751611619256, 6.0495523309509736], 'policy_player_1_pretrained_adversary_sb_reward': [-10.0, -10.0, -10.0, -10.0, -10.0, -10.0, -10.0, -10.0, -10.0, -10.0, -10.0], 'policy_player_2_pretrained_sb_reward': [16.221853831575572, -9.796720333120902, 16.076482087330078, 16.072269364231033, 13.991483121597412, 16.106027821166208, 16.372146715730196, 15.978721652863896, -11.815909952481888, 10.526251225572196, 16.352657357278076, -11.319223416110617, 16.109550450921233, -11.227716326706286, 15.525798078073421, 12.801333043728846, 16.402926458220463, 16.323545454186387, 16.357950117344444, -10.840675161161926, 16.049552330950974], 'policy_player_1_pretrained_sb_reward': [10.0, -10.0, 10.0, -10.0, 10.0, 10.0, -10.0, -10.0, 10.0, -10.0]}\n",
      "Player episode_reward total trials 21 win rate 80.95238095238095% loss rate 19.047619047619047% tie rate 0.0%\n",
      "Player policy_player_1_pretrained_adversary_sb_reward total trials 11 win rate 0.0% loss rate 100.0% tie rate 0.0%\n",
      "Player policy_player_2_pretrained_sb_reward total trials 21 win rate 76.19047619047619% loss rate 23.80952380952381% tie rate 0.0%\n",
      "Player policy_player_1_pretrained_sb_reward total trials 10 win rate 50.0% loss rate 50.0% tie rate 0.0%\n",
      "Your video is in\n",
      "/scratch/sergei/better-adversarial-defenses/experiment_analysis/video-20200922-110540-39a56ca4-fcfe-11ea-8c46-e0d55e6af99c/video.000000.mp4\n"
     ]
    }
   ],
   "source": [
    "!export DISPLAY=:0; python ../make_video.py --checkpoint {checkpoint} --config=victim_recover_withnormal_sb"
   ]
  },
  {
   "cell_type": "code",
   "execution_count": 81,
   "metadata": {},
   "outputs": [],
   "source": [
    "#video = _\n",
    "video = \"video-20200918-135137-beae468e-f9f0-11ea-b316-e0d55e6af99c/video.000000.mp4\""
   ]
  },
  {
   "cell_type": "code",
   "execution_count": 82,
   "metadata": {},
   "outputs": [
    {
     "data": {
      "text/html": [
       "Click here to download: <a href='video-20200918-135137-beae468e-f9f0-11ea-b316-e0d55e6af99c/video.000000.mp4' target='_blank'>video-20200918-135137-beae468e-f9f0-11ea-b316-e0d55e6af99c/video.000000.mp4</a><br>"
      ],
      "text/plain": [
       "/scratch/sergei/better-adversarial-defenses/experiment_analysis/video-20200918-135137-beae468e-f9f0-11ea-b316-e0d55e6af99c/video.000000.mp4"
      ]
     },
     "metadata": {},
     "output_type": "display_data"
    }
   ],
   "source": [
    "from IPython.display import display, FileLink\n",
    "\n",
    "local_file = FileLink(video, result_html_prefix=\"Click here to download: \")\n",
    "display(local_file)"
   ]
  },
  {
   "cell_type": "code",
   "execution_count": 83,
   "metadata": {},
   "outputs": [
    {
     "data": {
      "text/html": [
       "\n",
       "    <video alt=\"test\" controls>\n",
       "        <source src=\"video-20200918-135137-beae468e-f9f0-11ea-b316-e0d55e6af99c/video.000000.mp4\" type=\"video/mp4\">\n",
       "    </video>\n"
      ],
      "text/plain": [
       "<IPython.core.display.HTML object>"
      ]
     },
     "execution_count": 83,
     "metadata": {},
     "output_type": "execute_result"
    }
   ],
   "source": [
    "from IPython.display import HTML\n",
    "\n",
    "HTML(f\"\"\"\n",
    "    <video alt=\"test\" controls>\n",
    "        <source src=\"{video}\" type=\"video/mp4\">\n",
    "    </video>\n",
    "\"\"\")\n"
   ]
  },
  {
   "cell_type": "code",
   "execution_count": 77,
   "metadata": {},
   "outputs": [
    {
     "data": {
      "text/plain": [
       "'\\n    <video alt=\"test\" controls>\\n        <source src=\"experiment_analysis/video-20200918-135137-beae468e-f9f0-11ea-b316-e0d55e6af99c/video.000000.mp4\" type=\"video/mp4\">\\n    </video>\\n'"
      ]
     },
     "execution_count": 77,
     "metadata": {},
     "output_type": "execute_result"
    }
   ],
   "source": [
    "f\"\"\"\n",
    "    <video alt=\"test\" controls>\n",
    "        <source src=\"{video}\" type=\"video/mp4\">\n",
    "    </video>\n",
    "\"\"\""
   ]
  },
  {
   "cell_type": "code",
   "execution_count": null,
   "metadata": {},
   "outputs": [],
   "source": []
  }
 ],
 "metadata": {
  "kernelspec": {
   "display_name": "Python 3",
   "language": "python",
   "name": "python3"
  },
  "language_info": {
   "codemirror_mode": {
    "name": "ipython",
    "version": 3
   },
   "file_extension": ".py",
   "mimetype": "text/x-python",
   "name": "python",
   "nbconvert_exporter": "python",
   "pygments_lexer": "ipython3",
   "version": "3.8.3"
  }
 },
 "nbformat": 4,
 "nbformat_minor": 4
}
