{
 "cells": [
  {
   "cell_type": "markdown",
   "metadata": {},
   "source": [
    "# take to .csv files (from eval and 5adv analyses) and merge them into one with all pairs"
   ]
  },
  {
   "cell_type": "code",
   "execution_count": 12,
   "metadata": {},
   "outputs": [],
   "source": [
    "import numpy as np\n",
    "from tqdm.auto import tqdm\n",
    "from ap_rllib.config import get_trainer, get_config_by_name\n",
    "import os\n",
    "import pandas as pd\n",
    "import ray"
   ]
  },
  {
   "cell_type": "code",
   "execution_count": 3,
   "metadata": {},
   "outputs": [],
   "source": [
    "files = ['/tmp/to_eval_5adv.csv', '/tmp/to_eval_1adv_eval.csv']"
   ]
  },
  {
   "cell_type": "code",
   "execution_count": 38,
   "metadata": {},
   "outputs": [],
   "source": [
    "dfs = [pd.read_csv(f) for f in files]"
   ]
  },
  {
   "cell_type": "code",
   "execution_count": 13,
   "metadata": {},
   "outputs": [
    {
     "name": "stderr",
     "output_type": "stream",
     "text": [
      "2020-12-07 16:17:58,233\tINFO services.py:1090 -- View the Ray dashboard at \u001b[1m\u001b[32mhttp://127.0.0.1:8265\u001b[39m\u001b[22m\n"
     ]
    },
    {
     "data": {
      "text/plain": [
       "{'node_ip_address': '128.32.175.10',\n",
       " 'raylet_ip_address': '128.32.175.10',\n",
       " 'redis_address': '128.32.175.10:17811',\n",
       " 'object_store_address': '/tmp/ray/session_2020-12-07_16-17-57_459964_4785/sockets/plasma_store',\n",
       " 'raylet_socket_name': '/tmp/ray/session_2020-12-07_16-17-57_459964_4785/sockets/raylet',\n",
       " 'webui_url': '127.0.0.1:8265',\n",
       " 'session_dir': '/tmp/ray/session_2020-12-07_16-17-57_459964_4785',\n",
       " 'metrics_export_port': 64283,\n",
       " 'node_id': '4e53f1b392ad65b1998f15fa224ffefdb926d8aa'}"
      ]
     },
     "execution_count": 13,
     "metadata": {},
     "output_type": "execute_result"
    }
   ],
   "source": [
    "# need ray for parallel evaluation\n",
    "ray.shutdown()\n",
    "ray.init(num_cpus=28, ignore_reinit_error=True, log_to_driver=False)"
   ]
  },
  {
   "cell_type": "code",
   "execution_count": 8,
   "metadata": {},
   "outputs": [
    {
     "name": "stdout",
     "output_type": "stream",
     "text": [
      "Creating agent humanoid_blocker\n",
      "Reading agent XML from: /scratch/sergei/better-adversarial-defenses/multiagent-competition/gym_compete/new_envs/assets/humanoid_body.xml\n",
      "Creating agent humanoid\n",
      "Reading agent XML from: /scratch/sergei/better-adversarial-defenses/multiagent-competition/gym_compete/new_envs/assets/humanoid_body.xml\n",
      "Scene XML path: /scratch/sergei/better-adversarial-defenses/multiagent-competition/gym_compete/new_envs/assets/world_body.humanoid_body.humanoid_body.xml\n",
      "Created Scene with agents\n",
      "Creating agent humanoid_blocker\n",
      "Reading agent XML from: /scratch/sergei/better-adversarial-defenses/multiagent-competition/gym_compete/new_envs/assets/humanoid_body.xml\n",
      "Creating agent humanoid\n",
      "Reading agent XML from: /scratch/sergei/better-adversarial-defenses/multiagent-competition/gym_compete/new_envs/assets/humanoid_body.xml\n",
      "Scene XML path: /scratch/sergei/better-adversarial-defenses/multiagent-competition/gym_compete/new_envs/assets/world_body.humanoid_body.humanoid_body.xml\n",
      "Created Scene with agents\n"
     ]
    },
    {
     "name": "stderr",
     "output_type": "stream",
     "text": [
      "2020-12-07 16:14:30,176\tWARNING catalog.py:333 -- Custom ModelV2 should accept all custom options as **kwargs, instead of expecting them in config['custom_model_config']!\n"
     ]
    },
    {
     "name": "stdout",
     "output_type": "stream",
     "text": [
      "Setting NN weights\n",
      "Loading normalization\n",
      "Setting NN weights\n",
      "Loading normalization\n",
      "It looks like variables [\"<tf.Varaible player_1/param/mean:0 shape=(380,) <dtype: 'float32'>>\", \"<tf.Varaible dense/bias:0 shape=(64,) <dtype: 'float32'>>\", \"<tf.Varaible player_1/sequential/h1/kernel:0 shape=(380, 64) <dtype: 'float32'>>\", \"<tf.Varaible player_1/param/clip:0 shape=(1,) <dtype: 'float32'>>\", \"<tf.Varaible player_1/sequential/value/bias:0 shape=(1,) <dtype: 'float32'>>\", \"<tf.Varaible mean/bias:0 shape=(17,) <dtype: 'float32'>>\", \"<tf.Varaible player_1/var/std:0 shape=(1, 17) <dtype: 'float32'>>\", \"<tf.Varaible player_1/param/mean:0 shape=(380,) <dtype: 'float32'>>\", \"<tf.Varaible dense/kernel:0 shape=(380, 64) <dtype: 'float32'>>\", \"<tf.Varaible dense_1/kernel:0 shape=(64, 64) <dtype: 'float32'>>\", \"<tf.Varaible player_1/sequential/h2/kernel:0 shape=(64, 64) <dtype: 'float32'>>\", \"<tf.Varaible player_1/sequential/h2/bias:0 shape=(64,) <dtype: 'float32'>>\", \"<tf.Varaible player_1/param/std:0 shape=(380,) <dtype: 'float32'>>\", \"<tf.Varaible player_1/param/clip:0 shape=(1,) <dtype: 'float32'>>\", \"<tf.Varaible player_1/sequential/h1/bias:0 shape=(64,) <dtype: 'float32'>>\", \"<tf.Varaible player_1/sequential/value/kernel:0 shape=(64, 1) <dtype: 'float32'>>\", \"<tf.Varaible dense_1/bias:0 shape=(64,) <dtype: 'float32'>>\", \"<tf.Varaible player_1/param/mean:0 shape=(1,) <dtype: 'float32'>>\", \"<tf.Varaible player_1/param/std:0 shape=(380,) <dtype: 'float32'>>\", \"<tf.Varaible player_1/param/std:0 shape=(1,) <dtype: 'float32'>>\", \"<tf.Varaible mean/kernel:0 shape=(64, 17) <dtype: 'float32'>>\"] were created as part of <gym_compete_rllib.gym_compete_to_rllib.GymCompetePretrainedModel object at 0x7fababea8160> but does not appear in model.variables() ([\"<tf.Varaible player_1/param/clip:0 shape=(1,) <dtype: 'float32'>>\", \"<tf.Varaible dense_2/kernel:0 shape=(380, 64) <dtype: 'float32'>>\", \"<tf.Varaible player_1/var/std:0 shape=(1, 17) <dtype: 'float32'>>\", \"<tf.Varaible player_1/sequential_1/value/bias:0 shape=(1,) <dtype: 'float32'>>\", \"<tf.Varaible player_1/sequential_1/h1/kernel:0 shape=(380, 64) <dtype: 'float32'>>\", \"<tf.Varaible player_1/param/std:0 shape=(1,) <dtype: 'float32'>>\", \"<tf.Varaible player_1/param/mean:0 shape=(380,) <dtype: 'float32'>>\", \"<tf.Varaible player_1/param/std:0 shape=(380,) <dtype: 'float32'>>\", \"<tf.Varaible mean_1/kernel:0 shape=(64, 17) <dtype: 'float32'>>\", \"<tf.Varaible player_1/param/std:0 shape=(380,) <dtype: 'float32'>>\", \"<tf.Varaible dense_2/bias:0 shape=(64,) <dtype: 'float32'>>\", \"<tf.Varaible dense_3/bias:0 shape=(64,) <dtype: 'float32'>>\", \"<tf.Varaible player_1/param/mean:0 shape=(380,) <dtype: 'float32'>>\", \"<tf.Varaible player_1/sequential_1/h1/bias:0 shape=(64,) <dtype: 'float32'>>\", \"<tf.Varaible player_1/sequential_1/h2/kernel:0 shape=(64, 64) <dtype: 'float32'>>\", \"<tf.Varaible dense_3/kernel:0 shape=(64, 64) <dtype: 'float32'>>\", \"<tf.Varaible player_1/sequential_1/h2/bias:0 shape=(64,) <dtype: 'float32'>>\", \"<tf.Varaible player_1/param/mean:0 shape=(1,) <dtype: 'float32'>>\", \"<tf.Varaible mean_1/bias:0 shape=(17,) <dtype: 'float32'>>\", \"<tf.Varaible player_1/param/clip:0 shape=(1,) <dtype: 'float32'>>\", \"<tf.Varaible player_1/sequential_1/value/kernel:0 shape=(64, 1) <dtype: 'float32'>>\"]). Did you forget to call model.register_variables() on the variables in question?\n"
     ]
    },
    {
     "name": "stderr",
     "output_type": "stream",
     "text": [
      "2020-12-07 16:14:30,739\tWARNING catalog.py:333 -- Custom ModelV2 should accept all custom options as **kwargs, instead of expecting them in config['custom_model_config']!\n"
     ]
    },
    {
     "name": "stdout",
     "output_type": "stream",
     "text": [
      "Setting NN weights\n",
      "Loading normalization\n",
      "Setting NN weights\n",
      "Loading normalization\n",
      "It looks like variables [\"<tf.Varaible dense_4/kernel:0 shape=(380, 64) <dtype: 'float32'>>\", \"<tf.Varaible dense_5/bias:0 shape=(64,) <dtype: 'float32'>>\", \"<tf.Varaible player_2/sequential_2/value/bias:0 shape=(1,) <dtype: 'float32'>>\", \"<tf.Varaible player_2/param/std:0 shape=(380,) <dtype: 'float32'>>\", \"<tf.Varaible player_2/param/std:0 shape=(1,) <dtype: 'float32'>>\", \"<tf.Varaible player_2/sequential_2/h1/kernel:0 shape=(380, 64) <dtype: 'float32'>>\", \"<tf.Varaible player_2/param/std:0 shape=(380,) <dtype: 'float32'>>\", \"<tf.Varaible player_2/sequential_2/h1/bias:0 shape=(64,) <dtype: 'float32'>>\", \"<tf.Varaible player_2/param/clip:0 shape=(1,) <dtype: 'float32'>>\", \"<tf.Varaible mean_2/kernel:0 shape=(64, 17) <dtype: 'float32'>>\", \"<tf.Varaible mean_2/bias:0 shape=(17,) <dtype: 'float32'>>\", \"<tf.Varaible player_2/sequential_2/h2/kernel:0 shape=(64, 64) <dtype: 'float32'>>\", \"<tf.Varaible player_2/var/std:0 shape=(1, 17) <dtype: 'float32'>>\", \"<tf.Varaible player_2/param/mean:0 shape=(380,) <dtype: 'float32'>>\", \"<tf.Varaible player_2/param/mean:0 shape=(1,) <dtype: 'float32'>>\", \"<tf.Varaible player_2/sequential_2/h2/bias:0 shape=(64,) <dtype: 'float32'>>\", \"<tf.Varaible player_2/param/clip:0 shape=(1,) <dtype: 'float32'>>\", \"<tf.Varaible player_2/param/mean:0 shape=(380,) <dtype: 'float32'>>\", \"<tf.Varaible dense_4/bias:0 shape=(64,) <dtype: 'float32'>>\", \"<tf.Varaible dense_5/kernel:0 shape=(64, 64) <dtype: 'float32'>>\", \"<tf.Varaible player_2/sequential_2/value/kernel:0 shape=(64, 1) <dtype: 'float32'>>\"] were created as part of <gym_compete_rllib.gym_compete_to_rllib.GymCompetePretrainedModel object at 0x7fab884f8d90> but does not appear in model.variables() ([\"<tf.Varaible player_2/param/std:0 shape=(380,) <dtype: 'float32'>>\", \"<tf.Varaible player_2/sequential_3/value/kernel:0 shape=(64, 1) <dtype: 'float32'>>\", \"<tf.Varaible player_2/param/mean:0 shape=(380,) <dtype: 'float32'>>\", \"<tf.Varaible player_2/sequential_3/value/bias:0 shape=(1,) <dtype: 'float32'>>\", \"<tf.Varaible player_2/sequential_3/h1/kernel:0 shape=(380, 64) <dtype: 'float32'>>\", \"<tf.Varaible player_2/param/mean:0 shape=(1,) <dtype: 'float32'>>\", \"<tf.Varaible mean_3/kernel:0 shape=(64, 17) <dtype: 'float32'>>\", \"<tf.Varaible player_2/sequential_3/h1/bias:0 shape=(64,) <dtype: 'float32'>>\", \"<tf.Varaible player_2/param/clip:0 shape=(1,) <dtype: 'float32'>>\", \"<tf.Varaible mean_3/bias:0 shape=(17,) <dtype: 'float32'>>\", \"<tf.Varaible player_2/var/std:0 shape=(1, 17) <dtype: 'float32'>>\", \"<tf.Varaible player_2/param/mean:0 shape=(380,) <dtype: 'float32'>>\", \"<tf.Varaible player_2/param/clip:0 shape=(1,) <dtype: 'float32'>>\", \"<tf.Varaible player_2/sequential_3/h2/kernel:0 shape=(64, 64) <dtype: 'float32'>>\", \"<tf.Varaible dense_6/bias:0 shape=(64,) <dtype: 'float32'>>\", \"<tf.Varaible dense_7/kernel:0 shape=(64, 64) <dtype: 'float32'>>\", \"<tf.Varaible player_2/sequential_3/h2/bias:0 shape=(64,) <dtype: 'float32'>>\", \"<tf.Varaible player_2/param/std:0 shape=(1,) <dtype: 'float32'>>\", \"<tf.Varaible dense_6/kernel:0 shape=(380, 64) <dtype: 'float32'>>\", \"<tf.Varaible dense_7/bias:0 shape=(64,) <dtype: 'float32'>>\", \"<tf.Varaible player_2/param/std:0 shape=(380,) <dtype: 'float32'>>\"]). Did you forget to call model.register_variables() on the variables in question?\n"
     ]
    },
    {
     "name": "stderr",
     "output_type": "stream",
     "text": [
      "Install gputil for GPU system monitoring.\n"
     ]
    },
    {
     "name": "stdout",
     "output_type": "stream",
     "text": [
      "Creating agent humanoid_blocker\n",
      "Reading agent XML from: /scratch/sergei/better-adversarial-defenses/multiagent-competition/gym_compete/new_envs/assets/humanoid_body.xml\n",
      "Creating agent humanoid\n",
      "Reading agent XML from: /scratch/sergei/better-adversarial-defenses/multiagent-competition/gym_compete/new_envs/assets/humanoid_body.xml\n",
      "Scene XML path: /scratch/sergei/better-adversarial-defenses/multiagent-competition/gym_compete/new_envs/assets/world_body.humanoid_body.humanoid_body.xml\n",
      "Created Scene with agents\n"
     ]
    }
   ],
   "source": [
    "config = 'external_test'\n",
    "config_ = get_config_by_name(config)\n",
    "config_['_verbose'] = False\n",
    "config_['_policies'] = [None, 'pretrained', 'pretrained']\n",
    "trainer = get_trainer(config_)"
   ]
  },
  {
   "cell_type": "code",
   "execution_count": 23,
   "metadata": {},
   "outputs": [],
   "source": [
    "import logging\n",
    "logging.basicConfig(level=logging.WARNING)"
   ]
  },
  {
   "cell_type": "code",
   "execution_count": null,
   "metadata": {},
   "outputs": [],
   "source": [
    "policies = ['player_1', 'player_2']\n",
    "data = {p: [] for p in policies} # format: p -> [(name, hash, weights)]\n",
    "\n",
    "for f in tqdm(files):\n",
    "    for _, r in tqdm(pd.read_csv(f).iterrows(), leave=False):\n",
    "        trainer.restore(r.checkpoint_rllib)\n",
    "        for p in policies:\n",
    "            name = r[p]\n",
    "            weights = trainer.get_weights()[p]\n",
    "            hash_ = sum([np.sum(t) for t in weights])\n",
    "            data[p].append((name, hash_, weights))"
   ]
  },
  {
   "cell_type": "code",
   "execution_count": 27,
   "metadata": {},
   "outputs": [],
   "source": [
    "unique_names = {p: set(d[0] for d in data[p]) for p in policies}"
   ]
  },
  {
   "cell_type": "code",
   "execution_count": 33,
   "metadata": {},
   "outputs": [],
   "source": [
    "# checking that hashes match for the same name\n",
    "for p in policies:\n",
    "    for n in unique_names[p]:\n",
    "        vals = [d for d in data[p] if d[0] == n]\n",
    "        hashes = [v[1] for v in vals]\n",
    "        assert all([hashes[0] == h for h in hashes])"
   ]
  },
  {
   "cell_type": "code",
   "execution_count": 34,
   "metadata": {},
   "outputs": [],
   "source": [
    "# only unique names\n",
    "data_u = {p: [] for p in policies}\n",
    "for p in policies:\n",
    "    for n in unique_names[p]:\n",
    "        val = [d for d in data[p] if d[0] == n][0]\n",
    "        data_u[p].append(val)"
   ]
  },
  {
   "cell_type": "code",
   "execution_count": 39,
   "metadata": {},
   "outputs": [],
   "source": [
    "# checking that got all the agents\n",
    "total_players_df = {p: sum([len(set(df[p])) for df in dfs]) for p in policies}\n",
    "for p in policies:\n",
    "    assert len(data_u[p]) == total_players_df[p]"
   ]
  },
  {
   "cell_type": "code",
   "execution_count": 45,
   "metadata": {},
   "outputs": [],
   "source": [
    "from uuid import uuid1"
   ]
  },
  {
   "cell_type": "code",
   "execution_count": 46,
   "metadata": {},
   "outputs": [],
   "source": [
    "# saving the output!\n",
    "ds = []\n",
    "for p1name, _, p1w in data_u['player_1']:\n",
    "    for p2name, _, p2w in data_u['player_2']:\n",
    "        d = {'player_1': p1name, 'player_2': p2name}\n",
    "        trainer.set_weights({'player_1': p1w, 'player_2': p2w})\n",
    "        ckpt = trainer.save(f\"/tmp/{uuid1()}\")\n",
    "        w_hash = sum([sum([np.sum(t) for t in y]) for y in trainer.get_weights().values()])\n",
    "        d['checkpoint_rllib'] = ckpt\n",
    "        d['hash'] = w_hash\n",
    "#         print(p1name, p2name)\n",
    "    \n",
    "        for d_other in ds:\n",
    "            if d_other['hash'] == d['hash']:\n",
    "                print(\"Potential collision\", d, d_other)\n",
    "                \n",
    "        ds.append(d)"
   ]
  },
  {
   "cell_type": "code",
   "execution_count": 47,
   "metadata": {},
   "outputs": [],
   "source": [
    "hashes = [x['hash'] for x in ds]\n",
    "assert len(hashes) == len(set(hashes)), \"Some pairs are the same\""
   ]
  },
  {
   "cell_type": "code",
   "execution_count": 48,
   "metadata": {},
   "outputs": [],
   "source": [
    "fn = \"/tmp/to_eval_all.csv\"\n",
    "df_to_eval = pd.DataFrame(ds)\n",
    "df_to_eval.to_csv(fn, index=False)"
   ]
  },
  {
   "cell_type": "code",
   "execution_count": 49,
   "metadata": {},
   "outputs": [
    {
     "data": {
      "text/html": [
       "<div>\n",
       "<style scoped>\n",
       "    .dataframe tbody tr th:only-of-type {\n",
       "        vertical-align: middle;\n",
       "    }\n",
       "\n",
       "    .dataframe tbody tr th {\n",
       "        vertical-align: top;\n",
       "    }\n",
       "\n",
       "    .dataframe thead th {\n",
       "        text-align: right;\n",
       "    }\n",
       "</style>\n",
       "<table border=\"1\" class=\"dataframe\">\n",
       "  <thead>\n",
       "    <tr style=\"text-align: right;\">\n",
       "      <th></th>\n",
       "      <th>player_1</th>\n",
       "      <th>player_2</th>\n",
       "      <th>checkpoint_rllib</th>\n",
       "      <th>hash</th>\n",
       "    </tr>\n",
       "  </thead>\n",
       "  <tbody>\n",
       "    <tr>\n",
       "      <th>0</th>\n",
       "      <td>0</td>\n",
       "      <td>5504</td>\n",
       "      <td>/tmp/a6d0e9d2-38ec-11eb-85ce-1831bf455a80/chec...</td>\n",
       "      <td>4558.288290</td>\n",
       "    </tr>\n",
       "    <tr>\n",
       "      <th>1</th>\n",
       "      <td>0</td>\n",
       "      <td>5505</td>\n",
       "      <td>/tmp/a6d0e9d3-38ec-11eb-85ce-1831bf455a80/chec...</td>\n",
       "      <td>4642.882576</td>\n",
       "    </tr>\n",
       "    <tr>\n",
       "      <th>2</th>\n",
       "      <td>0</td>\n",
       "      <td>5506</td>\n",
       "      <td>/tmp/a6d0e9d4-38ec-11eb-85ce-1831bf455a80/chec...</td>\n",
       "      <td>4681.178183</td>\n",
       "    </tr>\n",
       "    <tr>\n",
       "      <th>3</th>\n",
       "      <td>0</td>\n",
       "      <td>5507</td>\n",
       "      <td>/tmp/a6d0e9d5-38ec-11eb-85ce-1831bf455a80/chec...</td>\n",
       "      <td>4660.265835</td>\n",
       "    </tr>\n",
       "    <tr>\n",
       "      <th>4</th>\n",
       "      <td>0</td>\n",
       "      <td>5508</td>\n",
       "      <td>/tmp/a6d0e9d6-38ec-11eb-85ce-1831bf455a80/chec...</td>\n",
       "      <td>4688.704487</td>\n",
       "    </tr>\n",
       "    <tr>\n",
       "      <th>...</th>\n",
       "      <td>...</td>\n",
       "      <td>...</td>\n",
       "      <td>...</td>\n",
       "      <td>...</td>\n",
       "    </tr>\n",
       "    <tr>\n",
       "      <th>4055</th>\n",
       "      <td>42</td>\n",
       "      <td>5111</td>\n",
       "      <td>/tmp/b5e5c97d-38ec-11eb-85ce-1831bf455a80/chec...</td>\n",
       "      <td>4605.629721</td>\n",
       "    </tr>\n",
       "    <tr>\n",
       "      <th>4056</th>\n",
       "      <td>42</td>\n",
       "      <td>5112</td>\n",
       "      <td>/tmp/b5e5c97e-38ec-11eb-85ce-1831bf455a80/chec...</td>\n",
       "      <td>4634.975891</td>\n",
       "    </tr>\n",
       "    <tr>\n",
       "      <th>4057</th>\n",
       "      <td>42</td>\n",
       "      <td>5500</td>\n",
       "      <td>/tmp/b5e5c97f-38ec-11eb-85ce-1831bf455a80/chec...</td>\n",
       "      <td>4625.577477</td>\n",
       "    </tr>\n",
       "    <tr>\n",
       "      <th>4058</th>\n",
       "      <td>42</td>\n",
       "      <td>5502</td>\n",
       "      <td>/tmp/b5e5c980-38ec-11eb-85ce-1831bf455a80/chec...</td>\n",
       "      <td>4615.390228</td>\n",
       "    </tr>\n",
       "    <tr>\n",
       "      <th>4059</th>\n",
       "      <td>42</td>\n",
       "      <td>5503</td>\n",
       "      <td>/tmp/b5e5c981-38ec-11eb-85ce-1831bf455a80/chec...</td>\n",
       "      <td>4589.746740</td>\n",
       "    </tr>\n",
       "  </tbody>\n",
       "</table>\n",
       "<p>4060 rows × 4 columns</p>\n",
       "</div>"
      ],
      "text/plain": [
       "      player_1  player_2                                   checkpoint_rllib  \\\n",
       "0            0      5504  /tmp/a6d0e9d2-38ec-11eb-85ce-1831bf455a80/chec...   \n",
       "1            0      5505  /tmp/a6d0e9d3-38ec-11eb-85ce-1831bf455a80/chec...   \n",
       "2            0      5506  /tmp/a6d0e9d4-38ec-11eb-85ce-1831bf455a80/chec...   \n",
       "3            0      5507  /tmp/a6d0e9d5-38ec-11eb-85ce-1831bf455a80/chec...   \n",
       "4            0      5508  /tmp/a6d0e9d6-38ec-11eb-85ce-1831bf455a80/chec...   \n",
       "...        ...       ...                                                ...   \n",
       "4055        42      5111  /tmp/b5e5c97d-38ec-11eb-85ce-1831bf455a80/chec...   \n",
       "4056        42      5112  /tmp/b5e5c97e-38ec-11eb-85ce-1831bf455a80/chec...   \n",
       "4057        42      5500  /tmp/b5e5c97f-38ec-11eb-85ce-1831bf455a80/chec...   \n",
       "4058        42      5502  /tmp/b5e5c980-38ec-11eb-85ce-1831bf455a80/chec...   \n",
       "4059        42      5503  /tmp/b5e5c981-38ec-11eb-85ce-1831bf455a80/chec...   \n",
       "\n",
       "             hash  \n",
       "0     4558.288290  \n",
       "1     4642.882576  \n",
       "2     4681.178183  \n",
       "3     4660.265835  \n",
       "4     4688.704487  \n",
       "...           ...  \n",
       "4055  4605.629721  \n",
       "4056  4634.975891  \n",
       "4057  4625.577477  \n",
       "4058  4615.390228  \n",
       "4059  4589.746740  \n",
       "\n",
       "[4060 rows x 4 columns]"
      ]
     },
     "execution_count": 49,
     "metadata": {},
     "output_type": "execute_result"
    }
   ],
   "source": [
    "df_to_eval"
   ]
  },
  {
   "cell_type": "code",
   "execution_count": null,
   "metadata": {},
   "outputs": [],
   "source": []
  }
 ],
 "metadata": {
  "kernelspec": {
   "display_name": "Python 3",
   "language": "python",
   "name": "python3"
  },
  "language_info": {
   "codemirror_mode": {
    "name": "ipython",
    "version": 3
   },
   "file_extension": ".py",
   "mimetype": "text/x-python",
   "name": "python",
   "nbconvert_exporter": "python",
   "pygments_lexer": "ipython3",
   "version": "3.8.5"
  }
 },
 "nbformat": 4,
 "nbformat_minor": 4
}
