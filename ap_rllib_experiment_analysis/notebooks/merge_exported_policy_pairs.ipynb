{
 "cells": [
  {
   "cell_type": "markdown",
   "metadata": {},
   "source": [
    "# take to .csv files (from eval and 5adv analyses) and merge them into one with all pairs"
   ]
  },
  {
   "cell_type": "code",
   "execution_count": 1,
   "metadata": {},
   "outputs": [
    {
     "name": "stdout",
     "output_type": "stream",
     "text": [
      "WARNING:tensorflow:From /scratch/sergei/miniconda3/envs/adv-tf2/lib/python3.8/site-packages/tensorflow/python/compat/v2_compat.py:96: disable_resource_variables (from tensorflow.python.ops.variable_scope) is deprecated and will be removed in a future version.\n",
      "Instructions for updating:\n",
      "non-resource variables are not supported in the long term\n"
     ]
    }
   ],
   "source": [
    "import numpy as np\n",
    "from tqdm.auto import tqdm\n",
    "from ap_rllib.config import get_trainer, get_config_by_name\n",
    "import os\n",
    "import pandas as pd\n",
    "import ray"
   ]
  },
  {
   "cell_type": "code",
   "execution_count": 2,
   "metadata": {},
   "outputs": [],
   "source": [
    "files = ['/tmp/to_eval_5adv.csv', '/tmp/to_eval_1adv_eval.csv']"
   ]
  },
  {
   "cell_type": "code",
   "execution_count": 3,
   "metadata": {},
   "outputs": [],
   "source": [
    "dfs = [pd.read_csv(f) for f in files]"
   ]
  },
  {
   "cell_type": "code",
   "execution_count": 4,
   "metadata": {},
   "outputs": [
    {
     "name": "stderr",
     "output_type": "stream",
     "text": [
      "2020-12-08 06:29:35,865\tINFO services.py:1090 -- View the Ray dashboard at \u001b[1m\u001b[32mhttp://127.0.0.1:8265\u001b[39m\u001b[22m\n"
     ]
    },
    {
     "data": {
      "text/plain": [
       "{'node_ip_address': '128.32.175.10',\n",
       " 'raylet_ip_address': '128.32.175.10',\n",
       " 'redis_address': '128.32.175.10:13157',\n",
       " 'object_store_address': '/tmp/ray/session_2020-12-08_06-29-35_005056_15499/sockets/plasma_store',\n",
       " 'raylet_socket_name': '/tmp/ray/session_2020-12-08_06-29-35_005056_15499/sockets/raylet',\n",
       " 'webui_url': '127.0.0.1:8265',\n",
       " 'session_dir': '/tmp/ray/session_2020-12-08_06-29-35_005056_15499',\n",
       " 'metrics_export_port': 57385,\n",
       " 'node_id': '74a9a479e1656975c8a2071146e35101816b64d7'}"
      ]
     },
     "execution_count": 4,
     "metadata": {},
     "output_type": "execute_result"
    }
   ],
   "source": [
    "# need ray for parallel evaluation\n",
    "ray.shutdown()\n",
    "ray.init(num_cpus=28, ignore_reinit_error=True, log_to_driver=False)"
   ]
  },
  {
   "cell_type": "code",
   "execution_count": 5,
   "metadata": {},
   "outputs": [
    {
     "name": "stderr",
     "output_type": "stream",
     "text": [
      "2020-12-08 06:29:40,586\tINFO trainer.py:588 -- Executing eagerly, with eager_tracing=False\n",
      "2020-12-08 06:29:40,588\tINFO trainer.py:1064 -- `_use_trajectory_view_api` only supported for PyTorch so far! Will run w/o.\n",
      "2020-12-08 06:29:40,589\tINFO trainer.py:617 -- Current log_level is WARN. For more information, set 'log_level': 'INFO' / 'DEBUG' or use the -v and -vv flags.\n"
     ]
    },
    {
     "name": "stdout",
     "output_type": "stream",
     "text": [
      "Creating agent humanoid_blocker\n",
      "Reading agent XML from: /scratch/sergei/better-adversarial-defenses/multiagent-competition/gym_compete/new_envs/assets/humanoid_body.xml\n",
      "Creating agent humanoid\n",
      "Reading agent XML from: /scratch/sergei/better-adversarial-defenses/multiagent-competition/gym_compete/new_envs/assets/humanoid_body.xml\n",
      "Scene XML path: /scratch/sergei/better-adversarial-defenses/multiagent-competition/gym_compete/new_envs/assets/world_body.humanoid_body.humanoid_body.xml\n",
      "Created Scene with agents\n",
      "Creating agent humanoid_blocker\n",
      "Reading agent XML from: /scratch/sergei/better-adversarial-defenses/multiagent-competition/gym_compete/new_envs/assets/humanoid_body.xml\n",
      "Creating agent humanoid\n",
      "Reading agent XML from: /scratch/sergei/better-adversarial-defenses/multiagent-competition/gym_compete/new_envs/assets/humanoid_body.xml\n",
      "Scene XML path: /scratch/sergei/better-adversarial-defenses/multiagent-competition/gym_compete/new_envs/assets/world_body.humanoid_body.humanoid_body.xml\n",
      "Created Scene with agents\n",
      "Setting NN weights\n",
      "Loading normalization\n"
     ]
    },
    {
     "name": "stderr",
     "output_type": "stream",
     "text": [
      "2020-12-08 06:29:42,060\tWARNING catalog.py:333 -- Custom ModelV2 should accept all custom options as **kwargs, instead of expecting them in config['custom_model_config']!\n"
     ]
    },
    {
     "name": "stdout",
     "output_type": "stream",
     "text": [
      "Setting NN weights\n",
      "Loading normalization\n",
      "It looks like variables [\"<tf.Varaible player_1/param/clip:0 shape=(1,) <dtype: 'float32'>>\", \"<tf.Varaible dense_1/kernel:0 shape=(64, 64) <dtype: 'float32'>>\", \"<tf.Varaible dense_1/bias:0 shape=(64,) <dtype: 'float32'>>\", \"<tf.Varaible player_1/param/mean:0 shape=(380,) <dtype: 'float32'>>\", \"<tf.Varaible dense/kernel:0 shape=(380, 64) <dtype: 'float32'>>\", \"<tf.Varaible player_1/param/std:0 shape=(380,) <dtype: 'float32'>>\", \"<tf.Varaible mean/bias:0 shape=(17,) <dtype: 'float32'>>\", \"<tf.Varaible player_1/param/mean:0 shape=(1,) <dtype: 'float32'>>\", \"<tf.Varaible player_1/param/mean:0 shape=(380,) <dtype: 'float32'>>\", \"<tf.Varaible player_1/param/clip:0 shape=(1,) <dtype: 'float32'>>\", \"<tf.Varaible player_1/sequential/h2/bias:0 shape=(64,) <dtype: 'float32'>>\", \"<tf.Varaible player_1/sequential/value/kernel:0 shape=(64, 1) <dtype: 'float32'>>\", \"<tf.Varaible mean/kernel:0 shape=(64, 17) <dtype: 'float32'>>\", \"<tf.Varaible player_1/param/std:0 shape=(380,) <dtype: 'float32'>>\", \"<tf.Varaible player_1/sequential/h2/kernel:0 shape=(64, 64) <dtype: 'float32'>>\", \"<tf.Varaible player_1/sequential/value/bias:0 shape=(1,) <dtype: 'float32'>>\", \"<tf.Varaible dense/bias:0 shape=(64,) <dtype: 'float32'>>\", \"<tf.Varaible player_1/var/std:0 shape=(1, 17) <dtype: 'float32'>>\", \"<tf.Varaible player_1/param/std:0 shape=(1,) <dtype: 'float32'>>\", \"<tf.Varaible player_1/sequential/h1/kernel:0 shape=(380, 64) <dtype: 'float32'>>\", \"<tf.Varaible player_1/sequential/h1/bias:0 shape=(64,) <dtype: 'float32'>>\"] were created as part of <gym_compete_rllib.gym_compete_to_rllib.GymCompetePretrainedModel object at 0x7f385ae41040> but does not appear in model.variables() ([\"<tf.Varaible player_1/param/clip:0 shape=(1,) <dtype: 'float32'>>\", \"<tf.Varaible player_1/param/std:0 shape=(380,) <dtype: 'float32'>>\", \"<tf.Varaible player_1/param/mean:0 shape=(380,) <dtype: 'float32'>>\", \"<tf.Varaible dense_3/kernel:0 shape=(64, 64) <dtype: 'float32'>>\", \"<tf.Varaible dense_2/kernel:0 shape=(380, 64) <dtype: 'float32'>>\", \"<tf.Varaible player_1/param/std:0 shape=(380,) <dtype: 'float32'>>\", \"<tf.Varaible dense_3/bias:0 shape=(64,) <dtype: 'float32'>>\", \"<tf.Varaible player_1/sequential_1/h2/kernel:0 shape=(64, 64) <dtype: 'float32'>>\", \"<tf.Varaible player_1/var/std:0 shape=(1, 17) <dtype: 'float32'>>\", \"<tf.Varaible player_1/param/mean:0 shape=(380,) <dtype: 'float32'>>\", \"<tf.Varaible player_1/sequential_1/h1/kernel:0 shape=(380, 64) <dtype: 'float32'>>\", \"<tf.Varaible player_1/sequential_1/h2/bias:0 shape=(64,) <dtype: 'float32'>>\", \"<tf.Varaible player_1/param/mean:0 shape=(1,) <dtype: 'float32'>>\", \"<tf.Varaible player_1/param/clip:0 shape=(1,) <dtype: 'float32'>>\", \"<tf.Varaible dense_2/bias:0 shape=(64,) <dtype: 'float32'>>\", \"<tf.Varaible mean_1/bias:0 shape=(17,) <dtype: 'float32'>>\", \"<tf.Varaible player_1/sequential_1/h1/bias:0 shape=(64,) <dtype: 'float32'>>\", \"<tf.Varaible player_1/sequential_1/value/kernel:0 shape=(64, 1) <dtype: 'float32'>>\", \"<tf.Varaible player_1/sequential_1/value/bias:0 shape=(1,) <dtype: 'float32'>>\", \"<tf.Varaible mean_1/kernel:0 shape=(64, 17) <dtype: 'float32'>>\", \"<tf.Varaible player_1/param/std:0 shape=(1,) <dtype: 'float32'>>\"]). Did you forget to call model.register_variables() on the variables in question?\n"
     ]
    },
    {
     "name": "stderr",
     "output_type": "stream",
     "text": [
      "2020-12-08 06:29:43,304\tWARNING catalog.py:333 -- Custom ModelV2 should accept all custom options as **kwargs, instead of expecting them in config['custom_model_config']!\n"
     ]
    },
    {
     "name": "stdout",
     "output_type": "stream",
     "text": [
      "Setting NN weights\n",
      "Loading normalization\n",
      "Setting NN weights\n",
      "Loading normalization\n",
      "It looks like variables [\"<tf.Varaible player_2/param/std:0 shape=(380,) <dtype: 'float32'>>\", \"<tf.Varaible player_2/sequential_2/h1/bias:0 shape=(64,) <dtype: 'float32'>>\", \"<tf.Varaible player_2/sequential_2/h2/kernel:0 shape=(64, 64) <dtype: 'float32'>>\", \"<tf.Varaible player_2/param/mean:0 shape=(380,) <dtype: 'float32'>>\", \"<tf.Varaible player_2/sequential_2/h2/bias:0 shape=(64,) <dtype: 'float32'>>\", \"<tf.Varaible player_2/param/mean:0 shape=(380,) <dtype: 'float32'>>\", \"<tf.Varaible player_2/param/mean:0 shape=(1,) <dtype: 'float32'>>\", \"<tf.Varaible player_2/sequential_2/value/bias:0 shape=(1,) <dtype: 'float32'>>\", \"<tf.Varaible dense_4/bias:0 shape=(64,) <dtype: 'float32'>>\", \"<tf.Varaible dense_5/kernel:0 shape=(64, 64) <dtype: 'float32'>>\", \"<tf.Varaible player_2/sequential_2/value/kernel:0 shape=(64, 1) <dtype: 'float32'>>\", \"<tf.Varaible player_2/param/clip:0 shape=(1,) <dtype: 'float32'>>\", \"<tf.Varaible player_2/param/std:0 shape=(380,) <dtype: 'float32'>>\", \"<tf.Varaible dense_4/kernel:0 shape=(380, 64) <dtype: 'float32'>>\", \"<tf.Varaible dense_5/bias:0 shape=(64,) <dtype: 'float32'>>\", \"<tf.Varaible mean_2/kernel:0 shape=(64, 17) <dtype: 'float32'>>\", \"<tf.Varaible mean_2/bias:0 shape=(17,) <dtype: 'float32'>>\", \"<tf.Varaible player_2/var/std:0 shape=(1, 17) <dtype: 'float32'>>\", \"<tf.Varaible player_2/param/clip:0 shape=(1,) <dtype: 'float32'>>\", \"<tf.Varaible player_2/param/std:0 shape=(1,) <dtype: 'float32'>>\", \"<tf.Varaible player_2/sequential_2/h1/kernel:0 shape=(380, 64) <dtype: 'float32'>>\"] were created as part of <gym_compete_rllib.gym_compete_to_rllib.GymCompetePretrainedModel object at 0x7f3850527b80> but does not appear in model.variables() ([\"<tf.Varaible player_2/sequential_3/h1/kernel:0 shape=(380, 64) <dtype: 'float32'>>\", \"<tf.Varaible player_2/param/mean:0 shape=(1,) <dtype: 'float32'>>\", \"<tf.Varaible player_2/sequential_3/h1/bias:0 shape=(64,) <dtype: 'float32'>>\", \"<tf.Varaible player_2/param/clip:0 shape=(1,) <dtype: 'float32'>>\", \"<tf.Varaible player_2/param/std:0 shape=(380,) <dtype: 'float32'>>\", \"<tf.Varaible player_2/param/mean:0 shape=(380,) <dtype: 'float32'>>\", \"<tf.Varaible player_2/var/std:0 shape=(1, 17) <dtype: 'float32'>>\", \"<tf.Varaible player_2/sequential_3/h2/kernel:0 shape=(64, 64) <dtype: 'float32'>>\", \"<tf.Varaible dense_6/bias:0 shape=(64,) <dtype: 'float32'>>\", \"<tf.Varaible dense_7/kernel:0 shape=(64, 64) <dtype: 'float32'>>\", \"<tf.Varaible player_2/sequential_3/h2/bias:0 shape=(64,) <dtype: 'float32'>>\", \"<tf.Varaible player_2/param/std:0 shape=(1,) <dtype: 'float32'>>\", \"<tf.Varaible dense_6/kernel:0 shape=(380, 64) <dtype: 'float32'>>\", \"<tf.Varaible dense_7/bias:0 shape=(64,) <dtype: 'float32'>>\", \"<tf.Varaible mean_3/kernel:0 shape=(64, 17) <dtype: 'float32'>>\", \"<tf.Varaible player_2/param/std:0 shape=(380,) <dtype: 'float32'>>\", \"<tf.Varaible mean_3/bias:0 shape=(17,) <dtype: 'float32'>>\", \"<tf.Varaible player_2/param/clip:0 shape=(1,) <dtype: 'float32'>>\", \"<tf.Varaible player_2/sequential_3/value/kernel:0 shape=(64, 1) <dtype: 'float32'>>\", \"<tf.Varaible player_2/param/mean:0 shape=(380,) <dtype: 'float32'>>\", \"<tf.Varaible player_2/sequential_3/value/bias:0 shape=(1,) <dtype: 'float32'>>\"]). Did you forget to call model.register_variables() on the variables in question?\n"
     ]
    },
    {
     "name": "stderr",
     "output_type": "stream",
     "text": [
      "2020-12-08 06:29:43,684\tWARNING util.py:40 -- Install gputil for GPU system monitoring.\n"
     ]
    },
    {
     "name": "stdout",
     "output_type": "stream",
     "text": [
      "Creating agent humanoid_blocker\n",
      "Reading agent XML from: /scratch/sergei/better-adversarial-defenses/multiagent-competition/gym_compete/new_envs/assets/humanoid_body.xml\n",
      "Creating agent humanoid\n",
      "Reading agent XML from: /scratch/sergei/better-adversarial-defenses/multiagent-competition/gym_compete/new_envs/assets/humanoid_body.xml\n",
      "Scene XML path: /scratch/sergei/better-adversarial-defenses/multiagent-competition/gym_compete/new_envs/assets/world_body.humanoid_body.humanoid_body.xml\n",
      "Created Scene with agents\n"
     ]
    }
   ],
   "source": [
    "config = 'external_test'\n",
    "config_ = get_config_by_name(config)\n",
    "config_['_verbose'] = False\n",
    "config_['_policies'] = [None, 'pretrained', 'pretrained']\n",
    "trainer = get_trainer(config_)"
   ]
  },
  {
   "cell_type": "code",
   "execution_count": 7,
   "metadata": {},
   "outputs": [],
   "source": [
    "import logging\n",
    "logging.basicConfig(level=logging.WARNING)"
   ]
  },
  {
   "cell_type": "code",
   "execution_count": null,
   "metadata": {},
   "outputs": [],
   "source": [
    "policies = ['player_1', 'player_2']\n",
    "data = {p: [] for p in policies} # format: p -> [(name, hash, weights)]\n",
    "\n",
    "for f in tqdm(files):\n",
    "    for _, r in tqdm(pd.read_csv(f).iterrows(), leave=False):\n",
    "        trainer.restore(r.checkpoint_rllib)\n",
    "        for p in policies:\n",
    "            name = r[p]\n",
    "            weights = trainer.get_weights()[p]\n",
    "            hash_ = sum([np.sum(t) for t in weights])\n",
    "            data[p].append((name, hash_, weights))"
   ]
  },
  {
   "cell_type": "code",
   "execution_count": 20,
   "metadata": {},
   "outputs": [
    {
     "data": {
      "text/plain": [
       "{'player_1': {0,\n",
       "  1,\n",
       "  2,\n",
       "  3,\n",
       "  4,\n",
       "  5,\n",
       "  6,\n",
       "  7,\n",
       "  8,\n",
       "  9,\n",
       "  10,\n",
       "  11,\n",
       "  12,\n",
       "  13,\n",
       "  14,\n",
       "  15,\n",
       "  16,\n",
       "  17,\n",
       "  18,\n",
       "  19,\n",
       "  20,\n",
       "  21,\n",
       "  22,\n",
       "  23,\n",
       "  24,\n",
       "  25,\n",
       "  26,\n",
       "  27,\n",
       "  28,\n",
       "  29,\n",
       "  30,\n",
       "  31,\n",
       "  32,\n",
       "  33,\n",
       "  34,\n",
       "  35,\n",
       "  36,\n",
       "  37,\n",
       "  38,\n",
       "  39,\n",
       "  40,\n",
       "  41,\n",
       "  42,\n",
       "  43,\n",
       "  44,\n",
       "  45,\n",
       "  5100,\n",
       "  5102,\n",
       "  5103,\n",
       "  5104,\n",
       "  5105,\n",
       "  5106,\n",
       "  5107,\n",
       "  5108,\n",
       "  5109,\n",
       "  5110,\n",
       "  5111,\n",
       "  5112,\n",
       "  5200,\n",
       "  5202,\n",
       "  5203,\n",
       "  5204,\n",
       "  5205,\n",
       "  5206,\n",
       "  5207,\n",
       "  5208,\n",
       "  5209,\n",
       "  5210,\n",
       "  5211,\n",
       "  5212,\n",
       "  5300,\n",
       "  5302,\n",
       "  5303,\n",
       "  5304,\n",
       "  5305,\n",
       "  5306,\n",
       "  5307,\n",
       "  5308,\n",
       "  5309,\n",
       "  5310,\n",
       "  5311,\n",
       "  5312,\n",
       "  5400,\n",
       "  5402,\n",
       "  5403,\n",
       "  5404,\n",
       "  5405,\n",
       "  5406,\n",
       "  5407,\n",
       "  5408,\n",
       "  5409,\n",
       "  5410,\n",
       "  5411,\n",
       "  5412,\n",
       "  5500,\n",
       "  5502,\n",
       "  5503,\n",
       "  5504,\n",
       "  5505,\n",
       "  5506,\n",
       "  5507,\n",
       "  5508,\n",
       "  5509,\n",
       "  5510,\n",
       "  5511,\n",
       "  5512},\n",
       " 'player_2': {34,\n",
       "  36,\n",
       "  37,\n",
       "  38,\n",
       "  40,\n",
       "  41,\n",
       "  42,\n",
       "  43,\n",
       "  44,\n",
       "  45,\n",
       "  5000,\n",
       "  5002,\n",
       "  5003,\n",
       "  5004,\n",
       "  5005,\n",
       "  5006,\n",
       "  5007,\n",
       "  5008,\n",
       "  5009,\n",
       "  5010,\n",
       "  5011,\n",
       "  5012}}"
      ]
     },
     "execution_count": 20,
     "metadata": {},
     "output_type": "execute_result"
    }
   ],
   "source": [
    "unique_names"
   ]
  },
  {
   "cell_type": "code",
   "execution_count": 9,
   "metadata": {},
   "outputs": [],
   "source": [
    "unique_names = {p: set(d[0] for d in data[p]) for p in policies}"
   ]
  },
  {
   "cell_type": "code",
   "execution_count": 10,
   "metadata": {},
   "outputs": [],
   "source": [
    "# checking that hashes match for the same name\n",
    "for p in policies:\n",
    "    for n in unique_names[p]:\n",
    "        vals = [d for d in data[p] if d[0] == n]\n",
    "        hashes = [v[1] for v in vals]\n",
    "        assert all([hashes[0] == h for h in hashes])"
   ]
  },
  {
   "cell_type": "code",
   "execution_count": 11,
   "metadata": {},
   "outputs": [],
   "source": [
    "# only unique names\n",
    "data_u = {p: [] for p in policies}\n",
    "for p in policies:\n",
    "    for n in unique_names[p]:\n",
    "        val = [d for d in data[p] if d[0] == n][0]\n",
    "        data_u[p].append(val)"
   ]
  },
  {
   "cell_type": "code",
   "execution_count": 22,
   "metadata": {},
   "outputs": [
    {
     "data": {
      "text/plain": [
       "2332"
      ]
     },
     "execution_count": 22,
     "metadata": {},
     "output_type": "execute_result"
    }
   ],
   "source": [
    "len(data_u['player_1']) * len(data_u['player_2'])"
   ]
  },
  {
   "cell_type": "code",
   "execution_count": 12,
   "metadata": {},
   "outputs": [],
   "source": [
    "# checking that got all the agents\n",
    "total_players_df = {p: sum([len(set(df[p])) for df in dfs]) for p in policies}\n",
    "for p in policies:\n",
    "    assert len(data_u[p]) == total_players_df[p]"
   ]
  },
  {
   "cell_type": "code",
   "execution_count": 13,
   "metadata": {},
   "outputs": [],
   "source": [
    "from uuid import uuid1"
   ]
  },
  {
   "cell_type": "code",
   "execution_count": 14,
   "metadata": {},
   "outputs": [],
   "source": [
    "# saving the output!\n",
    "ds = []\n",
    "for p1name, _, p1w in data_u['player_1']:\n",
    "    for p2name, _, p2w in data_u['player_2']:\n",
    "        d = {'player_1': p1name, 'player_2': p2name}\n",
    "        trainer.set_weights({'player_1': p1w, 'player_2': p2w})\n",
    "        ckpt = trainer.save(f\"/tmp/{uuid1()}\")\n",
    "        w_hash = sum([sum([np.sum(t) for t in y]) for y in trainer.get_weights().values()])\n",
    "        d['checkpoint_rllib'] = ckpt\n",
    "        d['hash'] = w_hash\n",
    "#         print(p1name, p2name)\n",
    "    \n",
    "        for d_other in ds:\n",
    "            if d_other['hash'] == d['hash']:\n",
    "                print(\"Potential collision\", d, d_other)\n",
    "                \n",
    "        ds.append(d)"
   ]
  },
  {
   "cell_type": "code",
   "execution_count": 15,
   "metadata": {},
   "outputs": [],
   "source": [
    "hashes = [x['hash'] for x in ds]\n",
    "assert len(hashes) == len(set(hashes)), \"Some pairs are the same\""
   ]
  },
  {
   "cell_type": "code",
   "execution_count": 16,
   "metadata": {},
   "outputs": [],
   "source": [
    "fn = \"/tmp/to_eval_all.csv\"\n",
    "df_to_eval = pd.DataFrame(ds)\n",
    "df_to_eval.to_csv(fn, index=False)"
   ]
  },
  {
   "cell_type": "code",
   "execution_count": 17,
   "metadata": {},
   "outputs": [
    {
     "data": {
      "text/html": [
       "<div>\n",
       "<style scoped>\n",
       "    .dataframe tbody tr th:only-of-type {\n",
       "        vertical-align: middle;\n",
       "    }\n",
       "\n",
       "    .dataframe tbody tr th {\n",
       "        vertical-align: top;\n",
       "    }\n",
       "\n",
       "    .dataframe thead th {\n",
       "        text-align: right;\n",
       "    }\n",
       "</style>\n",
       "<table border=\"1\" class=\"dataframe\">\n",
       "  <thead>\n",
       "    <tr style=\"text-align: right;\">\n",
       "      <th></th>\n",
       "      <th>player_1</th>\n",
       "      <th>player_2</th>\n",
       "      <th>checkpoint_rllib</th>\n",
       "      <th>hash</th>\n",
       "    </tr>\n",
       "  </thead>\n",
       "  <tbody>\n",
       "    <tr>\n",
       "      <th>0</th>\n",
       "      <td>0</td>\n",
       "      <td>5000</td>\n",
       "      <td>/tmp/e72400bc-3961-11eb-85ce-1831bf455a80/chec...</td>\n",
       "      <td>4420.587047</td>\n",
       "    </tr>\n",
       "    <tr>\n",
       "      <th>1</th>\n",
       "      <td>0</td>\n",
       "      <td>5002</td>\n",
       "      <td>/tmp/e72400bd-3961-11eb-85ce-1831bf455a80/chec...</td>\n",
       "      <td>4389.690206</td>\n",
       "    </tr>\n",
       "    <tr>\n",
       "      <th>2</th>\n",
       "      <td>0</td>\n",
       "      <td>5003</td>\n",
       "      <td>/tmp/e72400be-3961-11eb-85ce-1831bf455a80/chec...</td>\n",
       "      <td>4372.916389</td>\n",
       "    </tr>\n",
       "    <tr>\n",
       "      <th>3</th>\n",
       "      <td>0</td>\n",
       "      <td>5004</td>\n",
       "      <td>/tmp/e72400bf-3961-11eb-85ce-1831bf455a80/chec...</td>\n",
       "      <td>4412.166457</td>\n",
       "    </tr>\n",
       "    <tr>\n",
       "      <th>4</th>\n",
       "      <td>0</td>\n",
       "      <td>5005</td>\n",
       "      <td>/tmp/e72400c0-3961-11eb-85ce-1831bf455a80/chec...</td>\n",
       "      <td>4418.325421</td>\n",
       "    </tr>\n",
       "    <tr>\n",
       "      <th>...</th>\n",
       "      <td>...</td>\n",
       "      <td>...</td>\n",
       "      <td>...</td>\n",
       "      <td>...</td>\n",
       "    </tr>\n",
       "    <tr>\n",
       "      <th>2327</th>\n",
       "      <td>5112</td>\n",
       "      <td>41</td>\n",
       "      <td>/tmp/faf8b9ff-3961-11eb-85ce-1831bf455a80/chec...</td>\n",
       "      <td>4451.015669</td>\n",
       "    </tr>\n",
       "    <tr>\n",
       "      <th>2328</th>\n",
       "      <td>5112</td>\n",
       "      <td>42</td>\n",
       "      <td>/tmp/faf8ba00-3961-11eb-85ce-1831bf455a80/chec...</td>\n",
       "      <td>4470.394853</td>\n",
       "    </tr>\n",
       "    <tr>\n",
       "      <th>2329</th>\n",
       "      <td>5112</td>\n",
       "      <td>43</td>\n",
       "      <td>/tmp/faf8ba01-3961-11eb-85ce-1831bf455a80/chec...</td>\n",
       "      <td>4435.065287</td>\n",
       "    </tr>\n",
       "    <tr>\n",
       "      <th>2330</th>\n",
       "      <td>5112</td>\n",
       "      <td>44</td>\n",
       "      <td>/tmp/faf8ba02-3961-11eb-85ce-1831bf455a80/chec...</td>\n",
       "      <td>4465.460510</td>\n",
       "    </tr>\n",
       "    <tr>\n",
       "      <th>2331</th>\n",
       "      <td>5112</td>\n",
       "      <td>45</td>\n",
       "      <td>/tmp/faf8ba03-3961-11eb-85ce-1831bf455a80/chec...</td>\n",
       "      <td>4454.926560</td>\n",
       "    </tr>\n",
       "  </tbody>\n",
       "</table>\n",
       "<p>2332 rows × 4 columns</p>\n",
       "</div>"
      ],
      "text/plain": [
       "      player_1  player_2                                   checkpoint_rllib  \\\n",
       "0            0      5000  /tmp/e72400bc-3961-11eb-85ce-1831bf455a80/chec...   \n",
       "1            0      5002  /tmp/e72400bd-3961-11eb-85ce-1831bf455a80/chec...   \n",
       "2            0      5003  /tmp/e72400be-3961-11eb-85ce-1831bf455a80/chec...   \n",
       "3            0      5004  /tmp/e72400bf-3961-11eb-85ce-1831bf455a80/chec...   \n",
       "4            0      5005  /tmp/e72400c0-3961-11eb-85ce-1831bf455a80/chec...   \n",
       "...        ...       ...                                                ...   \n",
       "2327      5112        41  /tmp/faf8b9ff-3961-11eb-85ce-1831bf455a80/chec...   \n",
       "2328      5112        42  /tmp/faf8ba00-3961-11eb-85ce-1831bf455a80/chec...   \n",
       "2329      5112        43  /tmp/faf8ba01-3961-11eb-85ce-1831bf455a80/chec...   \n",
       "2330      5112        44  /tmp/faf8ba02-3961-11eb-85ce-1831bf455a80/chec...   \n",
       "2331      5112        45  /tmp/faf8ba03-3961-11eb-85ce-1831bf455a80/chec...   \n",
       "\n",
       "             hash  \n",
       "0     4420.587047  \n",
       "1     4389.690206  \n",
       "2     4372.916389  \n",
       "3     4412.166457  \n",
       "4     4418.325421  \n",
       "...           ...  \n",
       "2327  4451.015669  \n",
       "2328  4470.394853  \n",
       "2329  4435.065287  \n",
       "2330  4465.460510  \n",
       "2331  4454.926560  \n",
       "\n",
       "[2332 rows x 4 columns]"
      ]
     },
     "execution_count": 17,
     "metadata": {},
     "output_type": "execute_result"
    }
   ],
   "source": [
    "df_to_eval"
   ]
  },
  {
   "cell_type": "code",
   "execution_count": 23,
   "metadata": {},
   "outputs": [],
   "source": [
    "def weights_equal(w1, w2):\n",
    "    \"\"\"List of weights == another list of weights?\"\"\"\n",
    "    assert len(w1) == len(w2)\n",
    "    for a, b in zip(w1, w2):\n",
    "        if not np.allclose(a, b):\n",
    "            return False\n",
    "    return True"
   ]
  },
  {
   "cell_type": "code",
   "execution_count": 25,
   "metadata": {},
   "outputs": [],
   "source": [
    "from matplotlib import pyplot as plt\n",
    "import seaborn as sns"
   ]
  },
  {
   "cell_type": "code",
   "execution_count": 28,
   "metadata": {},
   "outputs": [
    {
     "data": {
      "image/png": "[encoded data removed]",
      "text/plain": [
       "<Figure size 432x288 with 2 Axes>"
      ]
     },
     "metadata": {
      "needs_background": "light"
     },
     "output_type": "display_data"
    },
    {
     "data": {
      "image/png": "[encoded data removed]",
      "text/plain": [
       "<Figure size 432x288 with 2 Axes>"
      ]
     },
     "metadata": {
      "needs_background": "light"
     },
     "output_type": "display_data"
    }
   ],
   "source": [
    "for p in policies:\n",
    "    plt.title(f\"Policy weight equality {p}\")\n",
    "    weq = [[weights_equal(x[2], y[2]) for x in data_u[p]] for y in data_u[p]]\n",
    "    sns.heatmap(weq)\n",
    "    plt.show()"
   ]
  },
  {
   "cell_type": "code",
   "execution_count": null,
   "metadata": {},
   "outputs": [],
   "source": []
  }
 ],
 "metadata": {
  "kernelspec": {
   "display_name": "Python 3",
   "language": "python",
   "name": "python3"
  },
  "language_info": {
   "codemirror_mode": {
    "name": "ipython",
    "version": 3
   },
   "file_extension": ".py",
   "mimetype": "text/x-python",
   "name": "python",
   "nbconvert_exporter": "python",
   "pygments_lexer": "ipython3",
   "version": "3.8.5"
  }
 },
 "nbformat": 4,
 "nbformat_minor": 4
}
