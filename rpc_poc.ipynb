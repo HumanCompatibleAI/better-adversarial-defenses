{
 "cells": [
  {
   "cell_type": "code",
   "execution_count": 1,
   "metadata": {},
   "outputs": [],
   "source": [
    "import numpy as np\n",
    "import tensorflow as tf\n",
    "tf.compat.v1.enable_eager_execution()\n",
    "from tqdm.notebook import tqdm\n",
    "from copy import deepcopy\n",
    "from matplotlib import pyplot as plt\n",
    "import pandas as pd\n",
    "import seaborn as sns"
   ]
  },
  {
   "cell_type": "code",
   "execution_count": 2,
   "metadata": {},
   "outputs": [],
   "source": [
    "# Rock Paper Scissors actions\n",
    "action_to_descr = 'RPS'\n",
    "n_act = len(action_to_descr)"
   ]
  },
  {
   "cell_type": "code",
   "execution_count": 3,
   "metadata": {},
   "outputs": [],
   "source": [
    "def rewards(a1, a2):\n",
    "    \"\"\"Rock paper scissors game.\"\"\"\n",
    "    a1 = action_to_descr[a1]\n",
    "    a2 = action_to_descr[a2]\n",
    "    if a1 == a2:\n",
    "        return (0, 0)\n",
    "    outcomes = {'RP': (-1, 1),\n",
    "     'RS': (1, -1),\n",
    "     'PS': (-1, 1),\n",
    "     \n",
    "    }\n",
    "    a1a2 = a1 + a2\n",
    "    a2a1 = a1a2[::-1]\n",
    "    if a1a2 in outcomes:\n",
    "        return outcomes[a1a2]\n",
    "    elif a2a1 in outcomes:\n",
    "        return outcomes[a2a1][::-1]\n",
    "    else:\n",
    "        raise Exception(\"Unkown action pair %s\" % a1a2)"
   ]
  },
  {
   "cell_type": "markdown",
   "metadata": {},
   "source": [
    "## All outcomes (sanity check)"
   ]
  },
  {
   "cell_type": "code",
   "execution_count": 4,
   "metadata": {},
   "outputs": [
    {
     "name": "stdout",
     "output_type": "stream",
     "text": [
      "R vs R => tie\n",
      "R vs P => R loses\n",
      "R vs S => R wins\n",
      "P vs R => P wins\n",
      "P vs P => tie\n",
      "P vs S => P loses\n",
      "S vs R => S loses\n",
      "S vs P => S wins\n",
      "S vs S => tie\n"
     ]
    }
   ],
   "source": [
    "for a1 in range(n_act):\n",
    "    for a2 in range(n_act):\n",
    "        r = rewards(a1, a2)\n",
    "        ad1 = action_to_descr[a1]\n",
    "        ad2 = action_to_descr[a2]\n",
    "        descr = \"\"\n",
    "        if r[0] > r[1]:\n",
    "            descr = \"%s wins\" % ad1\n",
    "        elif r[1] > r[0]:\n",
    "            descr = \"%s loses\" % ad1\n",
    "        else:\n",
    "            descr = \"tie\"\n",
    "        print(\"%s vs %s => %s\" % (ad1, ad2, descr))"
   ]
  },
  {
   "cell_type": "markdown",
   "metadata": {},
   "source": [
    "## Agent and environment"
   ]
  },
  {
   "cell_type": "code",
   "execution_count": 5,
   "metadata": {},
   "outputs": [],
   "source": [
    "class Trainer(object):\n",
    "    def __init__(self, agent):\n",
    "        self.agent = agent\n",
    "        self.optimizer = tf.keras.optimizers.Adam(1e-1)\n",
    "        \n",
    "    def train(self):\n",
    "        loss = 0\n",
    "        if not self.agent.train_data:\n",
    "            return\n",
    "\n",
    "        #@tf.function \n",
    "        def get_reinforce_loss(data, model):\n",
    "            loss = 0.0\n",
    "            for (xi, a, r, opponent) in data:\n",
    "                loss -= r * tf.math.log(model(np.array([xi]))[0][a])\n",
    "            loss /= len(data)\n",
    "            return loss\n",
    "\n",
    "        with tf.GradientTape() as tape:\n",
    "            loss = get_reinforce_loss(self.agent.train_data, self.agent.model)\n",
    "\n",
    "        self.agent.train_data = []\n",
    "        grads = tape.gradient(loss, self.agent.model.trainable_variables)\n",
    "        self.optimizer.apply_gradients(zip(grads, self.agent.model.trainable_variables))\n",
    "        \n",
    "class RPCAgent(object):\n",
    "    \"\"\"Rock Paper Scissors agent.\"\"\"\n",
    "    def __init__(self, noise_dim, identity=None, train_every=10):\n",
    "        self.noise_dim = noise_dim\n",
    "        self.identity = identity\n",
    "        self.model = tf.keras.Sequential([\n",
    "            tf.keras.layers.Dense(10, input_shape=(self.noise_dim,), activation='relu'),\n",
    "            tf.keras.layers.Dense(n_act, activation=None),\n",
    "          tf.keras.layers.Softmax(),\n",
    "        ])\n",
    "        self.trainer = Trainer(agent=self)\n",
    "        self.do_train = True\n",
    "        \n",
    "        self.data = []\n",
    "        self.train_data = []\n",
    "        \n",
    "        self.reward_by_opponent = {}\n",
    "        self.train_every = train_every\n",
    "        \n",
    "    def step(self, xi):\n",
    "        p = self.model(np.array([xi]))[0].numpy()\n",
    "        p = p / np.sum(p)\n",
    "        return np.random.choice(range(n_act), p=p)\n",
    "\n",
    "    def register_episode(self, h, opponent=None):\n",
    "        self.data.append(deepcopy(list(h)) + [opponent])\n",
    "        self.train_data.append(self.data[-1])\n",
    "        if opponent not in self.reward_by_opponent:\n",
    "            self.reward_by_opponent[opponent] = []\n",
    "        self.reward_by_opponent[opponent].append(h[-1])\n",
    "        self._train()\n",
    "        \n",
    "    def _train(self):\n",
    "        if not self.do_train:\n",
    "            return\n",
    "        if len(self.data) % self.train_every == 0:\n",
    "            self.trainer.train()\n",
    "    \n",
    "    def __repr__(self):\n",
    "        opponents = np.unique([x[-1].identity for x in self.data])\n",
    "        return \"<Agent id=%d wisdom=%d opponents=%d>\" % (self.identity, len(self.data),\n",
    "                                            len(opponents))\n",
    "\n",
    "class RPCEnv(object):\n",
    "    \"\"\"Rock paper scissors environment.\"\"\"\n",
    "    def __init__(self, noise_dim=10):\n",
    "        self.noise_dim = noise_dim\n",
    "    def reset(self):\n",
    "        pass\n",
    "    def step(self, a1, a2):\n",
    "        R = rewards(a1, a2)\n",
    "        assert np.sum(R) == 0\n",
    "        return R\n",
    "    def reset(self):\n",
    "        return np.random.randn(self.noise_dim)\n",
    "    def __repr__(self):\n",
    "        return \"<Env noise_dim=%d>\" % self.noise_dim\n",
    "    \n",
    "class Universe(object):\n",
    "    \"\"\"Interaction between 2 agents in the environment.\"\"\"\n",
    "    def __init__(self, environment, agents, monitor):\n",
    "        self.environment = environment\n",
    "        self.monitor = monitor\n",
    "        self.agents = agents\n",
    "        assert len(self.agents) == 2\n",
    "        \n",
    "    def episode(self):\n",
    "        xi = self.environment.reset()\n",
    "        a1 = self.agents[0].step(xi)\n",
    "        a2 = self.agents[1].step(xi)\n",
    "        rews = self.environment.step(a1, a2)\n",
    "        episode = (xi, a1, a2, rews)\n",
    "        self.agents[0].register_episode((xi, a1, rews[0]), opponent=self.agents[1])\n",
    "        self.agents[1].register_episode((xi, a2, rews[1]), opponent=self.agents[0])\n",
    "        self.monitor.register(A1=self.agents[0],\n",
    "                              A2=self.agents[1],\n",
    "                              episode=episode)\n",
    "        return rews\n",
    "    \n",
    "    def __repr__(self):\n",
    "        return \"<Universe\\n  Environment=%s\\n  Agents=%s\\n>\" % (self.environment, self.agents)\n",
    "    \n",
    "class Monitor(object):\n",
    "    \"\"\"Tracks agent's performance.\"\"\"\n",
    "    def __init__(self, agents):\n",
    "        self.agents = agents\n",
    "        self.data = []\n",
    "        \n",
    "    def register(self, A1, A2, episode):\n",
    "        assert A1 in self.agents\n",
    "        assert A2 in self.agents\n",
    "        self.data.append([A1, A2, deepcopy(episode)])\n",
    "        \n",
    "    def stats(self):\n",
    "        action_stats = {A: [0 for _ in range(n_act)] for A in self.agents}\n",
    "        reward_stats = {A: {x: 0 for x in [-1, 0, 1]} for A in self.agents}\n",
    "\n",
    "        for (A1, A2, (xi, a1, a2, (r1, r2))) in m.data:\n",
    "            action_stats[A1][a1] += 1\n",
    "            action_stats[A2][a2] += 1\n",
    "            reward_stats[A1][r1] += 1\n",
    "            reward_stats[A2][r2] += 1\n",
    "            \n",
    "        return {'reward': reward_stats,\n",
    "                'action': action_stats}\n",
    "        \n",
    "    def __repr__(self):\n",
    "        return \"<Monitor games=%d>\" % len(self.data)"
   ]
  },
  {
   "cell_type": "markdown",
   "metadata": {},
   "source": [
    "## Initial training phase"
   ]
  },
  {
   "cell_type": "code",
   "execution_count": 6,
   "metadata": {},
   "outputs": [],
   "source": [
    "# environment\n",
    "env = RPCEnv(noise_dim=4)\n",
    "\n",
    "# how many agents to create?\n",
    "N_AGENTS = 10\n",
    "\n",
    "# how many games to play during test?\n",
    "N_GAMES = 1000\n",
    "\n",
    "# creating agents\n",
    "AGENTS = [RPCAgent(noise_dim=env.noise_dim, identity=i) for i in range(N_AGENTS)]\n",
    "\n",
    "# to track the performance\n",
    "m = Monitor(agents=AGENTS)"
   ]
  },
  {
   "cell_type": "code",
   "execution_count": 7,
   "metadata": {},
   "outputs": [],
   "source": [
    "def sample_agent():\n",
    "    \"\"\"Get one of the agents.\"\"\"\n",
    "    return np.random.choice(AGENTS)"
   ]
  },
  {
   "cell_type": "code",
   "execution_count": 8,
   "metadata": {},
   "outputs": [
    {
     "data": {
      "application/vnd.jupyter.widget-view+json": {
       "model_id": "ff934eb50d344a9d9a5566a02da25ff5",
       "version_major": 2,
       "version_minor": 0
      },
      "text/plain": [
       "HBox(children=(FloatProgress(value=0.0, max=1000.0), HTML(value='')))"
      ]
     },
     "metadata": {},
     "output_type": "display_data"
    },
    {
     "name": "stdout",
     "output_type": "stream",
     "text": [
      "\n"
     ]
    }
   ],
   "source": [
    "# Running training games\n",
    "for _ in tqdm(range(N_GAMES)):\n",
    "    A1, A2 = sample_agent(), sample_agent()\n",
    "    A1.do_train = True\n",
    "    A2.do_train = True\n",
    "    U = Universe(environment=env, agents=[A1, A2], monitor=m)\n",
    "    rew = U.episode()\n",
    "    del U"
   ]
  },
  {
   "cell_type": "code",
   "execution_count": 9,
   "metadata": {},
   "outputs": [
    {
     "data": {
      "text/plain": [
       "[<Agent id=0 wisdom=196 opponents=10>,\n",
       " <Agent id=1 wisdom=225 opponents=10>,\n",
       " <Agent id=2 wisdom=213 opponents=10>,\n",
       " <Agent id=3 wisdom=185 opponents=10>,\n",
       " <Agent id=4 wisdom=190 opponents=10>,\n",
       " <Agent id=5 wisdom=179 opponents=10>,\n",
       " <Agent id=6 wisdom=213 opponents=10>,\n",
       " <Agent id=7 wisdom=209 opponents=10>,\n",
       " <Agent id=8 wisdom=224 opponents=10>,\n",
       " <Agent id=9 wisdom=166 opponents=10>]"
      ]
     },
     "execution_count": 9,
     "metadata": {},
     "output_type": "execute_result"
    }
   ],
   "source": [
    "AGENTS"
   ]
  },
  {
   "cell_type": "markdown",
   "metadata": {},
   "source": [
    "## Train stats"
   ]
  },
  {
   "cell_type": "code",
   "execution_count": 10,
   "metadata": {},
   "outputs": [
    {
     "data": {
      "text/plain": [
       "{'reward': {<Agent id=0 wisdom=196 opponents=10>: {-1: 67, 0: 65, 1: 64},\n",
       "  <Agent id=1 wisdom=225 opponents=10>: {-1: 63, 0: 91, 1: 71},\n",
       "  <Agent id=2 wisdom=213 opponents=10>: {-1: 68, 0: 82, 1: 63},\n",
       "  <Agent id=3 wisdom=185 opponents=10>: {-1: 48, 0: 80, 1: 57},\n",
       "  <Agent id=4 wisdom=190 opponents=10>: {-1: 61, 0: 67, 1: 62},\n",
       "  <Agent id=5 wisdom=179 opponents=10>: {-1: 50, 0: 63, 1: 66},\n",
       "  <Agent id=6 wisdom=213 opponents=10>: {-1: 63, 0: 80, 1: 70},\n",
       "  <Agent id=7 wisdom=209 opponents=10>: {-1: 71, 0: 73, 1: 65},\n",
       "  <Agent id=8 wisdom=224 opponents=10>: {-1: 81, 0: 85, 1: 58},\n",
       "  <Agent id=9 wisdom=166 opponents=10>: {-1: 56, 0: 58, 1: 52}},\n",
       " 'action': {<Agent id=0 wisdom=196 opponents=10>: [50, 130, 16],\n",
       "  <Agent id=1 wisdom=225 opponents=10>: [66, 132, 27],\n",
       "  <Agent id=2 wisdom=213 opponents=10>: [69, 13, 131],\n",
       "  <Agent id=3 wisdom=185 opponents=10>: [44, 111, 30],\n",
       "  <Agent id=4 wisdom=190 opponents=10>: [128, 9, 53],\n",
       "  <Agent id=5 wisdom=179 opponents=10>: [64, 34, 81],\n",
       "  <Agent id=6 wisdom=213 opponents=10>: [139, 34, 40],\n",
       "  <Agent id=7 wisdom=209 opponents=10>: [28, 43, 138],\n",
       "  <Agent id=8 wisdom=224 opponents=10>: [11, 67, 146],\n",
       "  <Agent id=9 wisdom=166 opponents=10>: [112, 44, 10]}}"
      ]
     },
     "execution_count": 10,
     "metadata": {},
     "output_type": "execute_result"
    }
   ],
   "source": [
    "m.stats()"
   ]
  },
  {
   "cell_type": "code",
   "execution_count": 11,
   "metadata": {},
   "outputs": [
    {
     "data": {
      "text/plain": [
       "<matplotlib.axes._subplots.AxesSubplot at 0x7f8200211730>"
      ]
     },
     "execution_count": 11,
     "metadata": {},
     "output_type": "execute_result"
    },
    {
     "data": {
      "image/png": "[encoded data removed]",
      "text/plain": [
       "<Figure size 432x288 with 2 Axes>"
      ]
     },
     "metadata": {
      "needs_background": "light"
     },
     "output_type": "display_data"
    }
   ],
   "source": [
    "matrix = np.zeros((len(AGENTS), len(AGENTS)))\n",
    "for i1, A1 in enumerate(AGENTS):\n",
    "    for i2, A2 in enumerate(AGENTS):\n",
    "        matrix[i1, i2] = np.mean(A1.reward_by_opponent[A2])\n",
    "cm = sns.diverging_palette(0, 129, l=70, s=100, n=20, center=\"dark\")\n",
    "sns.heatmap(matrix, vmin=-1, vmax=1, cmap=cm)"
   ]
  },
  {
   "cell_type": "markdown",
   "metadata": {},
   "source": [
    "## Running without training"
   ]
  },
  {
   "cell_type": "code",
   "execution_count": 12,
   "metadata": {},
   "outputs": [
    {
     "data": {
      "application/vnd.jupyter.widget-view+json": {
       "model_id": "84671ebdf8024459a3075180beb15694",
       "version_major": 2,
       "version_minor": 0
      },
      "text/plain": [
       "HBox(children=(FloatProgress(value=0.0, max=10.0), HTML(value='')))"
      ]
     },
     "metadata": {},
     "output_type": "display_data"
    },
    {
     "name": "stdout",
     "output_type": "stream",
     "text": [
      "\n"
     ]
    }
   ],
   "source": [
    "# our agent\n",
    "A = AGENTS[0]\n",
    "\n",
    "# number of games to test for each agent\n",
    "N_TEST_GAMES = 10\n",
    "\n",
    "# to track the performance\n",
    "m_test = Monitor(agents=AGENTS)\n",
    "\n",
    "# Running training games\n",
    "for _ in tqdm(range(N_TEST_GAMES)):\n",
    "    for A2 in AGENTS[1:]:\n",
    "        A.do_train = False\n",
    "        A2.do_train = False\n",
    "        U = Universe(environment=env, agents=[A, A2], monitor=m_test)\n",
    "        rew = U.episode()\n",
    "        del U"
   ]
  },
  {
   "cell_type": "code",
   "execution_count": 13,
   "metadata": {},
   "outputs": [],
   "source": [
    "results = {x: y[AGENTS[0]] for x, y in m_test.stats().items()}"
   ]
  },
  {
   "cell_type": "code",
   "execution_count": 14,
   "metadata": {},
   "outputs": [
    {
     "data": {
      "text/plain": [
       "[50, 130, 16]"
      ]
     },
     "execution_count": 14,
     "metadata": {},
     "output_type": "execute_result"
    }
   ],
   "source": [
    "results['action']"
   ]
  },
  {
   "cell_type": "code",
   "execution_count": 15,
   "metadata": {},
   "outputs": [],
   "source": [
    "rew = results['reward']"
   ]
  },
  {
   "cell_type": "code",
   "execution_count": 16,
   "metadata": {},
   "outputs": [
    {
     "data": {
      "image/png": "[encoded data removed]",
      "text/plain": [
       "<Figure size 432x288 with 1 Axes>"
      ]
     },
     "metadata": {
      "needs_background": "light"
     },
     "output_type": "display_data"
    }
   ],
   "source": [
    "plt.title(\"Reward histogram\")\n",
    "plt.hist([x for x, y in rew.items() for _ in range(y)])\n",
    "plt.show()"
   ]
  },
  {
   "cell_type": "markdown",
   "metadata": {},
   "source": [
    "# Playing with an UNKNOWN opponent"
   ]
  },
  {
   "cell_type": "code",
   "execution_count": 17,
   "metadata": {},
   "outputs": [
    {
     "data": {
      "text/plain": [
       "8"
      ]
     },
     "execution_count": 17,
     "metadata": {},
     "output_type": "execute_result"
    }
   ],
   "source": [
    "A1 = AGENTS[0]\n",
    "A2 = np.random.choice(AGENTS[1:])\n",
    "true_opponent = AGENTS.index(A2)\n",
    "true_opponent"
   ]
  },
  {
   "cell_type": "code",
   "execution_count": 18,
   "metadata": {},
   "outputs": [],
   "source": [
    "A1.do_train = False\n",
    "A2.do_train = False"
   ]
  },
  {
   "cell_type": "markdown",
   "metadata": {},
   "source": [
    "## Identifying threat"
   ]
  },
  {
   "cell_type": "code",
   "execution_count": 19,
   "metadata": {},
   "outputs": [
    {
     "data": {
      "application/vnd.jupyter.widget-view+json": {
       "model_id": "65f87db57bfa4215bb44e32806a52210",
       "version_major": 2,
       "version_minor": 0
      },
      "text/plain": [
       "HBox(children=(FloatProgress(value=0.0, max=50.0), HTML(value='')))"
      ]
     },
     "metadata": {},
     "output_type": "display_data"
    },
    {
     "name": "stdout",
     "output_type": "stream",
     "text": [
      "\n"
     ]
    }
   ],
   "source": [
    "# to track the performance\n",
    "m_estimate = Monitor(agents=AGENTS)\n",
    "\n",
    "U = Universe(environment=env, agents=[A1, A2], monitor=m_estimate)\n",
    "for _ in tqdm(range(50)):\n",
    "    rew = U.episode()"
   ]
  },
  {
   "cell_type": "code",
   "execution_count": 20,
   "metadata": {},
   "outputs": [
    {
     "data": {
      "text/plain": [
       "<matplotlib.lines.Line2D at 0x7f82000a6640>"
      ]
     },
     "execution_count": 20,
     "metadata": {},
     "output_type": "execute_result"
    },
    {
     "data": {
      "image/png": "[encoded data removed]",
      "text/plain": [
       "<Figure size 432x288 with 1 Axes>"
      ]
     },
     "metadata": {
      "needs_background": "light"
     },
     "output_type": "display_data"
    }
   ],
   "source": [
    "plt.plot(pd.Series(A1.reward_by_opponent[A2]).rolling(50).mean())\n",
    "plt.axhline(0)"
   ]
  },
  {
   "cell_type": "code",
   "execution_count": 23,
   "metadata": {},
   "outputs": [],
   "source": [
    "def dict_argmax(d):\n",
    "    keys = list(d.keys())\n",
    "    vals = [d[k] for k in keys]\n",
    "    idx = np.argmax(vals)\n",
    "    return keys[idx]\n",
    "\n",
    "agent_logprobs = {A: 0 for A in AGENTS}\n",
    "for (_, _, (xi, a1, a2, (r1, r2))) in m_estimate.data:\n",
    "    for A in AGENTS:\n",
    "        agent_logprobs[A] += np.log(A.model(np.array([xi]))[0][a2].numpy())\n",
    "estimated_agent = dict_argmax(agent_logprobs)"
   ]
  },
  {
   "cell_type": "code",
   "execution_count": 24,
   "metadata": {},
   "outputs": [
    {
     "name": "stdout",
     "output_type": "stream",
     "text": [
      "Estimated id 8 True id 8\n"
     ]
    }
   ],
   "source": [
    "print(\"Estimated id %d True id %d\" % (estimated_agent.identity, A2.identity))"
   ]
  },
  {
   "cell_type": "markdown",
   "metadata": {},
   "source": [
    "### Adversarial training"
   ]
  },
  {
   "cell_type": "code",
   "execution_count": 25,
   "metadata": {},
   "outputs": [],
   "source": [
    "A1.do_train = True\n",
    "estimated_agent.do_train = False"
   ]
  },
  {
   "cell_type": "code",
   "execution_count": 26,
   "metadata": {},
   "outputs": [
    {
     "data": {
      "application/vnd.jupyter.widget-view+json": {
       "model_id": "836df743b1834e1cb76867311eeb4c59",
       "version_major": 2,
       "version_minor": 0
      },
      "text/plain": [
       "HBox(children=(FloatProgress(value=0.0, max=1000.0), HTML(value='')))"
      ]
     },
     "metadata": {},
     "output_type": "display_data"
    },
    {
     "name": "stdout",
     "output_type": "stream",
     "text": [
      "\n"
     ]
    }
   ],
   "source": [
    "U = Universe(environment=env, agents=[A1, estimated_agent], monitor=m_estimate)\n",
    "for _ in tqdm(range(1000)):\n",
    "    rew = U.episode()"
   ]
  },
  {
   "cell_type": "markdown",
   "metadata": {},
   "source": [
    "### Testing time! "
   ]
  },
  {
   "cell_type": "code",
   "execution_count": 27,
   "metadata": {},
   "outputs": [
    {
     "data": {
      "application/vnd.jupyter.widget-view+json": {
       "model_id": "02c615473f8146cea3d98745cac4399b",
       "version_major": 2,
       "version_minor": 0
      },
      "text/plain": [
       "HBox(children=(FloatProgress(value=0.0, max=50.0), HTML(value='')))"
      ]
     },
     "metadata": {},
     "output_type": "display_data"
    },
    {
     "name": "stdout",
     "output_type": "stream",
     "text": [
      "\n"
     ]
    }
   ],
   "source": [
    "# to track the performance\n",
    "m_estimate = Monitor(agents=AGENTS)\n",
    "\n",
    "U = Universe(environment=env, agents=[A1, A2], monitor=m_estimate)\n",
    "for _ in tqdm(range(50)):\n",
    "    rew = U.episode()"
   ]
  },
  {
   "cell_type": "code",
   "execution_count": 28,
   "metadata": {},
   "outputs": [
    {
     "data": {
      "text/plain": [
       "<matplotlib.lines.Line2D at 0x7f81b4194520>"
      ]
     },
     "execution_count": 28,
     "metadata": {},
     "output_type": "execute_result"
    },
    {
     "data": {
      "image/png": "[encoded data removed]",
      "text/plain": [
       "<Figure size 432x288 with 1 Axes>"
      ]
     },
     "metadata": {
      "needs_background": "light"
     },
     "output_type": "display_data"
    }
   ],
   "source": [
    "plt.plot(pd.Series(A1.reward_by_opponent[A2]).rolling(50).mean())\n",
    "plt.axhline(0)"
   ]
  },
  {
   "cell_type": "code",
   "execution_count": null,
   "metadata": {},
   "outputs": [],
   "source": []
  }
 ],
 "metadata": {
  "kernelspec": {
   "display_name": "Python 3",
   "language": "python",
   "name": "python3"
  },
  "language_info": {
   "codemirror_mode": {
    "name": "ipython",
    "version": 3
   },
   "file_extension": ".py",
   "mimetype": "text/x-python",
   "name": "python",
   "nbconvert_exporter": "python",
   "pygments_lexer": "ipython3",
   "version": "3.8.3"
  }
 },
 "nbformat": 4,
 "nbformat_minor": 4
}
