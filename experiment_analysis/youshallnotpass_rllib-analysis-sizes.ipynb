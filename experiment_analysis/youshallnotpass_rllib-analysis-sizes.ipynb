{
 "cells": [
  {
   "cell_type": "code",
   "execution_count": 72,
   "metadata": {},
   "outputs": [],
   "source": [
    "from ray.tune.analysis import Analysis\n",
    "from matplotlib import pyplot as plt\n",
    "import plotly.express as px\n",
    "import numpy as np"
   ]
  },
  {
   "cell_type": "code",
   "execution_count": 73,
   "metadata": {},
   "outputs": [],
   "source": [
    "analysis = Analysis(\"/home/sergei/ray_results/adversarial_sizes\")"
   ]
  },
  {
   "cell_type": "code",
   "execution_count": 74,
   "metadata": {},
   "outputs": [],
   "source": [
    "target = 'policy_reward_mean/player_1'"
   ]
  },
  {
   "cell_type": "code",
   "execution_count": 75,
   "metadata": {},
   "outputs": [],
   "source": [
    "df = analysis.dataframe(metric=target, mode='max')"
   ]
  },
  {
   "cell_type": "code",
   "execution_count": 76,
   "metadata": {},
   "outputs": [
    {
     "data": {
      "text/plain": [
       "episode_reward_max                                                          6.73144\n",
       "episode_reward_min                                                         -4.17688\n",
       "episode_reward_mean                                                         5.09732\n",
       "episode_len_mean                                                            169.154\n",
       "episodes_this_iter                                                              273\n",
       "                                                        ...                        \n",
       "config/rollout_fragment_length                                                 2866\n",
       "config/sgd_minibatch_size                                                     22628\n",
       "config/train_batch_size                                                       42880\n",
       "config/use_gae                                                                 True\n",
       "logdir                            /home/sergei/ray_results/adversarial_sizes/tra...\n",
       "Name: 0, Length: 97, dtype: object"
      ]
     },
     "execution_count": 76,
     "metadata": {},
     "output_type": "execute_result"
    }
   ],
   "source": [
    "df.iloc[0]"
   ]
  },
  {
   "cell_type": "code",
   "execution_count": 77,
   "metadata": {},
   "outputs": [
    {
     "data": {
      "text/plain": [
       "Index(['episode_reward_max', 'episode_reward_min', 'episode_reward_mean',\n",
       "       'episode_len_mean', 'episodes_this_iter', 'num_healthy_workers',\n",
       "       'timesteps_total', 'done', 'episodes_total', 'training_iteration',\n",
       "       'experiment_id', 'date', 'timestamp', 'time_this_iter_s',\n",
       "       'time_total_s', 'pid', 'hostname', 'node_ip', 'time_since_restore',\n",
       "       'timesteps_since_restore', 'iterations_since_restore',\n",
       "       'checkpoint_rllib', 'trainer_iteration', 'trial_id', 'experiment_tag',\n",
       "       'policy_reward_min/player_1', 'policy_reward_min/player_2',\n",
       "       'policy_reward_max/player_1', 'policy_reward_max/player_2',\n",
       "       'policy_reward_mean/player_1', 'policy_reward_mean/player_2',\n",
       "       'hist_stats/episode_reward', 'hist_stats/episode_lengths',\n",
       "       'hist_stats/policy_player_1_reward',\n",
       "       'hist_stats/policy_player_2_reward', 'sampler_perf/mean_env_wait_ms',\n",
       "       'sampler_perf/mean_processing_ms', 'sampler_perf/mean_inference_ms',\n",
       "       'timers/sample_time_ms', 'timers/sample_throughput',\n",
       "       'timers/learn_time_ms', 'timers/learn_throughput',\n",
       "       'timers/update_time_ms', 'info/num_steps_sampled',\n",
       "       'info/num_steps_trained', 'perf/cpu_util_percent',\n",
       "       'perf/ram_util_percent', 'perf/gpu_util_percent0',\n",
       "       'perf/vram_util_percent0', 'perf/gpu_util_percent1',\n",
       "       'perf/vram_util_percent1', 'perf/gpu_util_percent2',\n",
       "       'perf/vram_util_percent2', 'perf/gpu_util_percent3',\n",
       "       'perf/vram_util_percent3', 'info/learner/player_1/cur_kl_coeff',\n",
       "       'info/learner/player_1/cur_lr', 'info/learner/player_1/total_loss',\n",
       "       'info/learner/player_1/policy_loss', 'info/learner/player_1/vf_loss',\n",
       "       'info/learner/player_1/vf_explained_var', 'info/learner/player_1/kl',\n",
       "       'info/learner/player_1/entropy', 'info/learner/player_1/entropy_coeff',\n",
       "       'config/_base_dir', 'config/_call', 'config/_env', 'config/_env_fcn',\n",
       "       'config/_env_name_rllib', 'config/_get_policies', 'config/_log_error',\n",
       "       'config/_main_filename', 'config/_model_params',\n",
       "       'config/_num_workers_tf', 'config/_policies', 'config/_policy',\n",
       "       'config/_redis_address', 'config/_run_inline', 'config/_select_policy',\n",
       "       'config/_tmp_dir', 'config/_train_policies', 'config/_train_steps',\n",
       "       'config/_trainer', 'config/_update_config', 'config/batch_mode',\n",
       "       'config/framework', 'config/kl_coeff', 'config/lr',\n",
       "       'config/num_envs_per_worker', 'config/num_gpus', 'config/num_sgd_iter',\n",
       "       'config/num_workers', 'config/rollout_fragment_length',\n",
       "       'config/sgd_minibatch_size', 'config/train_batch_size',\n",
       "       'config/use_gae', 'logdir'],\n",
       "      dtype='object')"
      ]
     },
     "execution_count": 77,
     "metadata": {},
     "output_type": "execute_result"
    }
   ],
   "source": [
    "df.columns"
   ]
  },
  {
   "cell_type": "code",
   "execution_count": 78,
   "metadata": {},
   "outputs": [],
   "source": [
    "df = df.sort_values(target, ascending=False)"
   ]
  },
  {
   "cell_type": "code",
   "execution_count": 79,
   "metadata": {},
   "outputs": [
    {
     "data": {
      "text/plain": [
       "(array([3., 2., 0., 0., 3., 0., 2., 1., 0., 1.]),\n",
       " array([-7.06959707, -6.34939233, -5.62918759, -4.90898285, -4.18877811,\n",
       "        -3.46857337, -2.74836863, -2.02816389, -1.30795915, -0.58775441,\n",
       "         0.13245033]),\n",
       " <a list of 10 Patch objects>)"
      ]
     },
     "execution_count": 79,
     "metadata": {},
     "output_type": "execute_result"
    },
    {
     "data": {
      "image/png": "[encoded data removed]",
      "text/plain": [
       "<Figure size 432x288 with 1 Axes>"
      ]
     },
     "metadata": {
      "needs_background": "light"
     },
     "output_type": "display_data"
    }
   ],
   "source": [
    "plt.hist(df[target])"
   ]
  },
  {
   "cell_type": "code",
   "execution_count": 85,
   "metadata": {},
   "outputs": [],
   "source": [
    "df['fcnet_hiddens'] = [x['fcnet_hiddens'] for x in df['config/_model_params']]"
   ]
  },
  {
   "cell_type": "code",
   "execution_count": 95,
   "metadata": {},
   "outputs": [],
   "source": [
    "def weights(arr):\n",
    "    arr = [380] + list(arr) + [17]\n",
    "    x_old = arr[0]\n",
    "    w = 0\n",
    "    for x in arr[1:]:\n",
    "        w += x_old * x + x\n",
    "        x_old = x\n",
    "    return w\n",
    "df['layers'] = [len(x) for x in df['fcnet_hiddens']]\n",
    "df['neurons'] = [x[0] for x in df['fcnet_hiddens']]\n",
    "df['weights'] = [weights(x) for x in df['fcnet_hiddens']]"
   ]
  },
  {
   "cell_type": "code",
   "execution_count": 99,
   "metadata": {},
   "outputs": [
    {
     "data": {
      "image/png": "[encoded data removed]",
      "text/plain": [
       "<Figure size 432x288 with 1 Axes>"
      ]
     },
     "metadata": {
      "needs_background": "light"
     },
     "output_type": "display_data"
    }
   ],
   "source": [
    "plt.scatter(df['weights'], df[target])\n",
    "plt.xscale('log')"
   ]
  },
  {
   "cell_type": "code",
   "execution_count": 100,
   "metadata": {},
   "outputs": [
    {
     "data": {
      "text/plain": [
       "<matplotlib.collections.PathCollection at 0x7f65e3a85e90>"
      ]
     },
     "execution_count": 100,
     "metadata": {},
     "output_type": "execute_result"
    },
    {
     "data": {
      "image/png": "[encoded data removed]",
      "text/plain": [
       "<Figure size 432x288 with 1 Axes>"
      ]
     },
     "metadata": {
      "needs_background": "light"
     },
     "output_type": "display_data"
    }
   ],
   "source": [
    "plt.scatter(df['layers'], df[target])"
   ]
  },
  {
   "cell_type": "code",
   "execution_count": 101,
   "metadata": {},
   "outputs": [
    {
     "data": {
      "text/plain": [
       "<matplotlib.collections.PathCollection at 0x7f65e398ded0>"
      ]
     },
     "execution_count": 101,
     "metadata": {},
     "output_type": "execute_result"
    },
    {
     "data": {
      "image/png": "[encoded data removed]",
      "text/plain": [
       "<Figure size 432x288 with 1 Axes>"
      ]
     },
     "metadata": {
      "needs_background": "light"
     },
     "output_type": "display_data"
    }
   ],
   "source": [
    "plt.scatter(df['neurons'], df[target])"
   ]
  },
  {
   "cell_type": "code",
   "execution_count": 61,
   "metadata": {},
   "outputs": [
    {
     "data": {
      "text/plain": [
       "policy_reward_mean/player_1                                                -3.64121\n",
       "config/_base_dir                        /scratch/sergei/better-adversarial-defenses\n",
       "config/_call                      {'checkpoint_freq': 0, 'name': 'adversarial_li...\n",
       "config/_env                       {'env_name': 'multicomp/YouShallNotPassHumans-...\n",
       "config/_env_fcn                             <function create_env at 0x7f6462e5b710>\n",
       "config/_env_name_rllib                                                    multicomp\n",
       "config/_log_error                                                              True\n",
       "config/_main_filename             /scratch/sergei/better-adversarial-defenses/tr...\n",
       "config/_model_params              {'custom_model': 'LinearModel', 'custom_model_...\n",
       "config/_num_workers_tf                                                            4\n",
       "config/_policies                                   [None, from_scratch, pretrained]\n",
       "config/_policy                                                                  PPO\n",
       "config/_redis_address                                            128.32.175.10:6379\n",
       "config/_run_inline                                                            False\n",
       "config/_tmp_dir                                                                /tmp\n",
       "config/_train_policies                                                   [player_1]\n",
       "config/_train_steps                                                        99999999\n",
       "config/_trainer                                                                 PPO\n",
       "config/_update_config                                                          None\n",
       "config/batch_mode                                                 complete_episodes\n",
       "config/framework                                                                tfe\n",
       "config/kl_coeff                                                                   1\n",
       "config/lr                                                               0.000755454\n",
       "config/num_envs_per_worker                                                        4\n",
       "config/num_gpus                                                                   0\n",
       "config/num_sgd_iter                                                               5\n",
       "config/num_workers                                                                8\n",
       "config/rollout_fragment_length                                                 2866\n",
       "config/sgd_minibatch_size                                                     22628\n",
       "config/train_batch_size                                                       42880\n",
       "config/use_gae                                                                 True\n",
       "logdir                            /home/sergei/ray_results/adversarial_linear/tr...\n",
       "Name: 3, dtype: object"
      ]
     },
     "execution_count": 61,
     "metadata": {},
     "output_type": "execute_result"
    }
   ],
   "source": [
    "best_trial = df.iloc[2].logdir\n",
    "df.iloc[0]"
   ]
  },
  {
   "cell_type": "code",
   "execution_count": null,
   "metadata": {},
   "outputs": [],
   "source": []
  },
  {
   "cell_type": "code",
   "execution_count": 62,
   "metadata": {},
   "outputs": [
    {
     "data": {
      "text/html": [
       "<div>\n",
       "<style scoped>\n",
       "    .dataframe tbody tr th:only-of-type {\n",
       "        vertical-align: middle;\n",
       "    }\n",
       "\n",
       "    .dataframe tbody tr th {\n",
       "        vertical-align: top;\n",
       "    }\n",
       "\n",
       "    .dataframe thead th {\n",
       "        text-align: right;\n",
       "    }\n",
       "</style>\n",
       "<table border=\"1\" class=\"dataframe\">\n",
       "  <thead>\n",
       "    <tr style=\"text-align: right;\">\n",
       "      <th></th>\n",
       "      <th>policy_reward_mean/player_1</th>\n",
       "      <th>config/_base_dir</th>\n",
       "      <th>config/_call</th>\n",
       "      <th>config/_env</th>\n",
       "      <th>config/_env_fcn</th>\n",
       "      <th>config/_env_name_rllib</th>\n",
       "      <th>config/_log_error</th>\n",
       "      <th>config/_main_filename</th>\n",
       "      <th>config/_model_params</th>\n",
       "      <th>config/_num_workers_tf</th>\n",
       "      <th>...</th>\n",
       "      <th>config/lr</th>\n",
       "      <th>config/num_envs_per_worker</th>\n",
       "      <th>config/num_gpus</th>\n",
       "      <th>config/num_sgd_iter</th>\n",
       "      <th>config/num_workers</th>\n",
       "      <th>config/rollout_fragment_length</th>\n",
       "      <th>config/sgd_minibatch_size</th>\n",
       "      <th>config/train_batch_size</th>\n",
       "      <th>config/use_gae</th>\n",
       "      <th>logdir</th>\n",
       "    </tr>\n",
       "  </thead>\n",
       "  <tbody>\n",
       "    <tr>\n",
       "      <th>3</th>\n",
       "      <td>-3.641208</td>\n",
       "      <td>/scratch/sergei/better-adversarial-defenses</td>\n",
       "      <td>{'checkpoint_freq': 0, 'name': 'adversarial_li...</td>\n",
       "      <td>{'env_name': 'multicomp/YouShallNotPassHumans-...</td>\n",
       "      <td>&lt;function create_env at 0x7f6462e5b710&gt;</td>\n",
       "      <td>multicomp</td>\n",
       "      <td>True</td>\n",
       "      <td>/scratch/sergei/better-adversarial-defenses/tr...</td>\n",
       "      <td>{'custom_model': 'LinearModel', 'custom_model_...</td>\n",
       "      <td>4</td>\n",
       "      <td>...</td>\n",
       "      <td>0.000755</td>\n",
       "      <td>4</td>\n",
       "      <td>0</td>\n",
       "      <td>5</td>\n",
       "      <td>8</td>\n",
       "      <td>2866</td>\n",
       "      <td>22628</td>\n",
       "      <td>42880</td>\n",
       "      <td>True</td>\n",
       "      <td>/home/sergei/ray_results/adversarial_linear/tr...</td>\n",
       "    </tr>\n",
       "    <tr>\n",
       "      <th>0</th>\n",
       "      <td>-5.884354</td>\n",
       "      <td>/scratch/sergei/better-adversarial-defenses</td>\n",
       "      <td>{'checkpoint_freq': 0, 'name': 'adversarial_li...</td>\n",
       "      <td>{'env_name': 'multicomp/YouShallNotPassHumans-...</td>\n",
       "      <td>&lt;function create_env at 0x7f6462e5b710&gt;</td>\n",
       "      <td>multicomp</td>\n",
       "      <td>True</td>\n",
       "      <td>/scratch/sergei/better-adversarial-defenses/tr...</td>\n",
       "      <td>{'custom_model': 'LinearModel', 'custom_model_...</td>\n",
       "      <td>4</td>\n",
       "      <td>...</td>\n",
       "      <td>0.000755</td>\n",
       "      <td>4</td>\n",
       "      <td>0</td>\n",
       "      <td>5</td>\n",
       "      <td>8</td>\n",
       "      <td>2866</td>\n",
       "      <td>22628</td>\n",
       "      <td>42880</td>\n",
       "      <td>True</td>\n",
       "      <td>/home/sergei/ray_results/adversarial_linear/tr...</td>\n",
       "    </tr>\n",
       "    <tr>\n",
       "      <th>2</th>\n",
       "      <td>-8.736462</td>\n",
       "      <td>/scratch/sergei/better-adversarial-defenses</td>\n",
       "      <td>{'checkpoint_freq': 0, 'name': 'adversarial_li...</td>\n",
       "      <td>{'env_name': 'multicomp/YouShallNotPassHumans-...</td>\n",
       "      <td>&lt;function create_env at 0x7f6462e5b710&gt;</td>\n",
       "      <td>multicomp</td>\n",
       "      <td>True</td>\n",
       "      <td>/scratch/sergei/better-adversarial-defenses/tr...</td>\n",
       "      <td>{'custom_model': 'LinearModel', 'custom_model_...</td>\n",
       "      <td>4</td>\n",
       "      <td>...</td>\n",
       "      <td>0.000755</td>\n",
       "      <td>4</td>\n",
       "      <td>0</td>\n",
       "      <td>5</td>\n",
       "      <td>8</td>\n",
       "      <td>2866</td>\n",
       "      <td>22628</td>\n",
       "      <td>42880</td>\n",
       "      <td>True</td>\n",
       "      <td>/home/sergei/ray_results/adversarial_linear/tr...</td>\n",
       "    </tr>\n",
       "    <tr>\n",
       "      <th>1</th>\n",
       "      <td>-9.108062</td>\n",
       "      <td>/scratch/sergei/better-adversarial-defenses</td>\n",
       "      <td>{'checkpoint_freq': 0, 'name': 'adversarial_li...</td>\n",
       "      <td>{'env_name': 'multicomp/YouShallNotPassHumans-...</td>\n",
       "      <td>&lt;function create_env at 0x7f6462e5b710&gt;</td>\n",
       "      <td>multicomp</td>\n",
       "      <td>True</td>\n",
       "      <td>/scratch/sergei/better-adversarial-defenses/tr...</td>\n",
       "      <td>{'custom_model': 'LinearModel', 'custom_model_...</td>\n",
       "      <td>4</td>\n",
       "      <td>...</td>\n",
       "      <td>0.000755</td>\n",
       "      <td>4</td>\n",
       "      <td>0</td>\n",
       "      <td>5</td>\n",
       "      <td>8</td>\n",
       "      <td>2866</td>\n",
       "      <td>22628</td>\n",
       "      <td>42880</td>\n",
       "      <td>True</td>\n",
       "      <td>/home/sergei/ray_results/adversarial_linear/tr...</td>\n",
       "    </tr>\n",
       "  </tbody>\n",
       "</table>\n",
       "<p>4 rows × 32 columns</p>\n",
       "</div>"
      ],
      "text/plain": [
       "   policy_reward_mean/player_1                             config/_base_dir  \\\n",
       "3                    -3.641208  /scratch/sergei/better-adversarial-defenses   \n",
       "0                    -5.884354  /scratch/sergei/better-adversarial-defenses   \n",
       "2                    -8.736462  /scratch/sergei/better-adversarial-defenses   \n",
       "1                    -9.108062  /scratch/sergei/better-adversarial-defenses   \n",
       "\n",
       "                                        config/_call  \\\n",
       "3  {'checkpoint_freq': 0, 'name': 'adversarial_li...   \n",
       "0  {'checkpoint_freq': 0, 'name': 'adversarial_li...   \n",
       "2  {'checkpoint_freq': 0, 'name': 'adversarial_li...   \n",
       "1  {'checkpoint_freq': 0, 'name': 'adversarial_li...   \n",
       "\n",
       "                                         config/_env  \\\n",
       "3  {'env_name': 'multicomp/YouShallNotPassHumans-...   \n",
       "0  {'env_name': 'multicomp/YouShallNotPassHumans-...   \n",
       "2  {'env_name': 'multicomp/YouShallNotPassHumans-...   \n",
       "1  {'env_name': 'multicomp/YouShallNotPassHumans-...   \n",
       "\n",
       "                           config/_env_fcn config/_env_name_rllib  \\\n",
       "3  <function create_env at 0x7f6462e5b710>              multicomp   \n",
       "0  <function create_env at 0x7f6462e5b710>              multicomp   \n",
       "2  <function create_env at 0x7f6462e5b710>              multicomp   \n",
       "1  <function create_env at 0x7f6462e5b710>              multicomp   \n",
       "\n",
       "   config/_log_error                              config/_main_filename  \\\n",
       "3               True  /scratch/sergei/better-adversarial-defenses/tr...   \n",
       "0               True  /scratch/sergei/better-adversarial-defenses/tr...   \n",
       "2               True  /scratch/sergei/better-adversarial-defenses/tr...   \n",
       "1               True  /scratch/sergei/better-adversarial-defenses/tr...   \n",
       "\n",
       "                                config/_model_params  config/_num_workers_tf  \\\n",
       "3  {'custom_model': 'LinearModel', 'custom_model_...                       4   \n",
       "0  {'custom_model': 'LinearModel', 'custom_model_...                       4   \n",
       "2  {'custom_model': 'LinearModel', 'custom_model_...                       4   \n",
       "1  {'custom_model': 'LinearModel', 'custom_model_...                       4   \n",
       "\n",
       "   ... config/lr config/num_envs_per_worker config/num_gpus  \\\n",
       "3  ...  0.000755                          4               0   \n",
       "0  ...  0.000755                          4               0   \n",
       "2  ...  0.000755                          4               0   \n",
       "1  ...  0.000755                          4               0   \n",
       "\n",
       "   config/num_sgd_iter config/num_workers config/rollout_fragment_length  \\\n",
       "3                    5                  8                           2866   \n",
       "0                    5                  8                           2866   \n",
       "2                    5                  8                           2866   \n",
       "1                    5                  8                           2866   \n",
       "\n",
       "   config/sgd_minibatch_size config/train_batch_size config/use_gae  \\\n",
       "3                      22628                   42880           True   \n",
       "0                      22628                   42880           True   \n",
       "2                      22628                   42880           True   \n",
       "1                      22628                   42880           True   \n",
       "\n",
       "                                              logdir  \n",
       "3  /home/sergei/ray_results/adversarial_linear/tr...  \n",
       "0  /home/sergei/ray_results/adversarial_linear/tr...  \n",
       "2  /home/sergei/ray_results/adversarial_linear/tr...  \n",
       "1  /home/sergei/ray_results/adversarial_linear/tr...  \n",
       "\n",
       "[4 rows x 32 columns]"
      ]
     },
     "execution_count": 62,
     "metadata": {},
     "output_type": "execute_result"
    }
   ],
   "source": [
    "df"
   ]
  },
  {
   "cell_type": "code",
   "execution_count": 63,
   "metadata": {},
   "outputs": [
    {
     "name": "stdout",
     "output_type": "stream",
     "text": [
      "957\n"
     ]
    },
    {
     "data": {
      "image/png": "[encoded data removed]",
      "text/plain": [
       "<Figure size 432x288 with 1 Axes>"
      ]
     },
     "metadata": {
      "needs_background": "light"
     },
     "output_type": "display_data"
    }
   ],
   "source": [
    "best_df = analysis.trial_dataframes[best_trial]\n",
    "rew = best_df[target]\n",
    "plt.plot(rew)\n",
    "print(np.argmax(rew))"
   ]
  },
  {
   "cell_type": "code",
   "execution_count": 64,
   "metadata": {},
   "outputs": [
    {
     "data": {
      "text/plain": [
       "'/home/sergei/ray_results/adversarial_linear/train_one_with_sacred_0_2020-08-24_20-10-37qqj3lwd8'"
      ]
     },
     "execution_count": 64,
     "metadata": {},
     "output_type": "execute_result"
    }
   ],
   "source": [
    "best_trial"
   ]
  },
  {
   "cell_type": "code",
   "execution_count": 38,
   "metadata": {},
   "outputs": [
    {
     "data": {
      "text/plain": [
       "'/home/sergei/ray_results/PPO_multicomp_2020-08-25_10-42-17yx9c3k0s/checkpoint_387/checkpoint-387'"
      ]
     },
     "execution_count": 38,
     "metadata": {},
     "output_type": "execute_result"
    }
   ],
   "source": [
    "best_df.checkpoint_rllib.iloc[-1]"
   ]
  },
  {
   "cell_type": "code",
   "execution_count": null,
   "metadata": {},
   "outputs": [],
   "source": []
  }
 ],
 "metadata": {
  "kernelspec": {
   "display_name": "Python 3",
   "language": "python",
   "name": "python3"
  },
  "language_info": {
   "codemirror_mode": {
    "name": "ipython",
    "version": 3
   },
   "file_extension": ".py",
   "mimetype": "text/x-python",
   "name": "python",
   "nbconvert_exporter": "python",
   "pygments_lexer": "ipython3",
   "version": "3.7.7"
  }
 },
 "nbformat": 4,
 "nbformat_minor": 4
}
