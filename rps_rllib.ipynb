{
 "cells": [
  {
   "cell_type": "code",
   "execution_count": 1,
   "metadata": {},
   "outputs": [
    {
     "name": "stderr",
     "output_type": "stream",
     "text": [
      "2020-07-04 17:30:59,525\tINFO resource_spec.py:212 -- Starting Ray with 54.35 GiB memory available for workers and up to 27.17 GiB for objects. You can adjust these settings with ray.init(memory=<bytes>, object_store_memory=<bytes>).\n",
      "2020-07-04 17:30:59,772\tWARNING services.py:923 -- Redis failed to start, retrying now.\n",
      "2020-07-04 17:31:00,119\tINFO services.py:1165 -- View the Ray dashboard at \u001b[1m\u001b[32mlocalhost:8265\u001b[39m\u001b[22m\n"
     ]
    },
    {
     "name": "stdout",
     "output_type": "stream",
     "text": [
      "[1, 3, 5, 10, 22, 47, 100, 216, 465, 1000]\n",
      "{'fc_units': tune.sample_from(<function choice.<locals>.<lambda> at 0x7f5e3e5cdef0>), 'lstm_units': tune.sample_from(<function choice.<locals>.<lambda> at 0x7f5e3e5cdcb0>), 'train_batch_size': tune.sample_from(<function choice.<locals>.<lambda> at 0x7f5e3e5cdd40>), 'train_steps': 100, 'train_policies': ['learned00'], 'num_workers': 28}\n"
     ]
    }
   ],
   "source": [
    "import tensorflow as tf\n",
    "tf.compat.v1.enable_eager_execution()\n",
    "from rps_rllib import RPSNoise\n",
    "import numpy as np\n",
    "import ray\n",
    "from ray.rllib import agents\n",
    "from tqdm.notebook import tqdm\n",
    "import random\n",
    "from ray.rllib.examples.env.rock_paper_scissors import RockPaperScissors\n",
    "from ray.rllib.policy.policy import Policy\n",
    "from gym.spaces import Discrete, Box\n",
    "from ray.rllib.agents.ppo import PPOTrainer\n",
    "from functools import partial\n",
    "from ray.tune.registry import register_env, _global_registry, ENV_CREATOR\n",
    "from ray.tune.logger import pretty_print\n",
    "from ray.rllib.agents.ppo.ppo_tf_policy import PPOTFPolicy\n",
    "\n",
    "import ray\n",
    "from ray import tune\n",
    "from ray.tune import track\n",
    "\n",
    "import math\n",
    "\n",
    "from rps_rllib_tune import train_one, config"
   ]
  },
  {
   "cell_type": "code",
   "execution_count": null,
   "metadata": {},
   "outputs": [
    {
     "data": {
      "text/plain": [
       "{'fc_units': tune.sample_from(<function choice.<locals>.<lambda> at 0x7f5e3e5cdef0>),\n",
       " 'lstm_units': tune.sample_from(<function choice.<locals>.<lambda> at 0x7f5e3e5cdcb0>),\n",
       " 'train_batch_size': tune.sample_from(<function choice.<locals>.<lambda> at 0x7f5e3e5cdd40>),\n",
       " 'train_steps': 100,\n",
       " 'train_policies': ['learned00'],\n",
       " 'num_workers': 28}"
      ]
     },
     "execution_count": 2,
     "metadata": {},
     "output_type": "execute_result"
    }
   ],
   "source": [
    "config"
   ]
  },
  {
   "cell_type": "code",
   "execution_count": 4,
   "metadata": {},
   "outputs": [
    {
     "name": "stdout",
     "output_type": "stream",
     "text": [
      "{'fc_units': 5, 'lstm_units': 5, 'train_batch_size': 128, 'train_steps': 2, 'train_policies': ['learned00'], 'num_workers': 1}\n",
      "Using config\n",
      "{'env': <class 'ray.rllib.examples.env.rock_paper_scissors.RockPaperScissors'>, 'num_workers': 1, 'train_batch_size': 128, 'multiagent': {'policies_to_train': ['learned00'], 'policies': {'learned00': (<class 'ray.rllib.policy.tf_policy_template.PPOTFPolicy'>, Discrete(3), Discrete(3), {'model': {'use_lstm': True, 'fcnet_hiddens': [5, 5], 'lstm_cell_size': 5}, 'framework': 'tfe'}), 'learned01': (<class 'ray.rllib.policy.tf_policy_template.PPOTFPolicy'>, Discrete(3), Discrete(3), {'model': {'use_lstm': True, 'fcnet_hiddens': [5, 5], 'lstm_cell_size': 5}, 'framework': 'tfe'})}, 'policy_mapping_fn': <function build_trainer_config.<locals>.select_policy at 0x7f5e5c62a170>}, 'framework': 'tfe'}\n",
      "Model: \"model_5\"\n",
      "__________________________________________________________________________________________________\n",
      "Layer (type)                    Output Shape         Param #     Connected to                     \n",
      "==================================================================================================\n",
      "seq_in (InputLayer)             [(None,)]            0                                            \n",
      "__________________________________________________________________________________________________\n",
      "tf_op_layer_Max_2 (TensorFlowOp [()]                 0           seq_in[0][0]                     \n",
      "__________________________________________________________________________________________________\n",
      "tf_op_layer_Maximum_2 (TensorFl [()]                 0           tf_op_layer_Max_2[0][0]          \n",
      "__________________________________________________________________________________________________\n",
      "tf_op_layer_ExpandDims_2 (Tenso [(None, 1)]          0           seq_in[0][0]                     \n",
      "__________________________________________________________________________________________________\n",
      "tf_op_layer_Range_2 (TensorFlow [(None,)]            0           tf_op_layer_Maximum_2[0][0]      \n",
      "__________________________________________________________________________________________________\n",
      "tf_op_layer_Cast_2 (TensorFlowO [(None, 1)]          0           tf_op_layer_ExpandDims_2[0][0]   \n",
      "__________________________________________________________________________________________________\n",
      "inputs (InputLayer)             [(None, None, 5)]    0                                            \n",
      "__________________________________________________________________________________________________\n",
      "h (InputLayer)                  [(None, 5)]          0                                            \n",
      "__________________________________________________________________________________________________\n",
      "c (InputLayer)                  [(None, 5)]          0                                            \n",
      "__________________________________________________________________________________________________\n",
      "tf_op_layer_Less_2 (TensorFlowO [(None, None)]       0           tf_op_layer_Range_2[0][0]        \n",
      "                                                                 tf_op_layer_Cast_2[0][0]         \n",
      "__________________________________________________________________________________________________\n",
      "lstm (LSTM)                     [(None, None, 5), (N 220         inputs[0][0]                     \n",
      "                                                                 h[0][0]                          \n",
      "                                                                 c[0][0]                          \n",
      "__________________________________________________________________________________________________\n",
      "logits (Dense)                  (None, None, 3)      18          lstm[0][0]                       \n",
      "__________________________________________________________________________________________________\n",
      "values (Dense)                  (None, None, 1)      6           lstm[0][0]                       \n",
      "==================================================================================================\n",
      "Total params: 244\n",
      "Trainable params: 244\n",
      "Non-trainable params: 0\n",
      "__________________________________________________________________________________________________\n",
      "WARNING:tensorflow:Model was constructed with shape (None, 5) for input Tensor(\"h_2:0\", shape=(None, 5), dtype=float32), but it was called on an input with incompatible shape (1, 1, 5).\n",
      "WARNING:tensorflow:Model was constructed with shape (None, 5) for input Tensor(\"c_2:0\", shape=(None, 5), dtype=float32), but it was called on an input with incompatible shape (1, 1, 5).\n",
      "Model: \"model_7\"\n",
      "__________________________________________________________________________________________________\n",
      "Layer (type)                    Output Shape         Param #     Connected to                     \n",
      "==================================================================================================\n",
      "seq_in (InputLayer)             [(None,)]            0                                            \n",
      "__________________________________________________________________________________________________\n",
      "tf_op_layer_Max_3 (TensorFlowOp [()]                 0           seq_in[0][0]                     \n",
      "__________________________________________________________________________________________________\n",
      "tf_op_layer_Maximum_3 (TensorFl [()]                 0           tf_op_layer_Max_3[0][0]          \n",
      "__________________________________________________________________________________________________\n",
      "tf_op_layer_ExpandDims_3 (Tenso [(None, 1)]          0           seq_in[0][0]                     \n",
      "__________________________________________________________________________________________________\n",
      "tf_op_layer_Range_3 (TensorFlow [(None,)]            0           tf_op_layer_Maximum_3[0][0]      \n",
      "__________________________________________________________________________________________________\n",
      "tf_op_layer_Cast_3 (TensorFlowO [(None, 1)]          0           tf_op_layer_ExpandDims_3[0][0]   \n",
      "__________________________________________________________________________________________________\n",
      "inputs (InputLayer)             [(None, None, 5)]    0                                            \n",
      "__________________________________________________________________________________________________\n",
      "h (InputLayer)                  [(None, 5)]          0                                            \n",
      "__________________________________________________________________________________________________\n",
      "c (InputLayer)                  [(None, 5)]          0                                            \n",
      "__________________________________________________________________________________________________\n",
      "tf_op_layer_Less_3 (TensorFlowO [(None, None)]       0           tf_op_layer_Range_3[0][0]        \n",
      "                                                                 tf_op_layer_Cast_3[0][0]         \n",
      "__________________________________________________________________________________________________\n",
      "lstm (LSTM)                     [(None, None, 5), (N 220         inputs[0][0]                     \n",
      "                                                                 h[0][0]                          \n",
      "                                                                 c[0][0]                          \n",
      "__________________________________________________________________________________________________\n",
      "logits (Dense)                  (None, None, 3)      18          lstm[0][0]                       \n",
      "__________________________________________________________________________________________________\n",
      "values (Dense)                  (None, None, 1)      6           lstm[0][0]                       \n",
      "==================================================================================================\n",
      "Total params: 244\n",
      "Trainable params: 244\n",
      "Non-trainable params: 0\n",
      "__________________________________________________________________________________________________\n",
      "WARNING:tensorflow:Model was constructed with shape (None, 5) for input Tensor(\"h_3:0\", shape=(None, 5), dtype=float32), but it was called on an input with incompatible shape (1, 1, 5).\n",
      "WARNING:tensorflow:Model was constructed with shape (None, 5) for input Tensor(\"c_3:0\", shape=(None, 5), dtype=float32), but it was called on an input with incompatible shape (1, 1, 5).\n"
     ]
    },
    {
     "name": "stderr",
     "output_type": "stream",
     "text": [
      "2020-07-04 17:31:12,131\tWARNING util.py:37 -- Install gputil for GPU system monitoring.\n"
     ]
    },
    {
     "name": "stdout",
     "output_type": "stream",
     "text": [
      "\u001b[2m\u001b[36m(pid=15043)\u001b[0m Model: \"model_1\"\n",
      "\u001b[2m\u001b[36m(pid=15043)\u001b[0m __________________________________________________________________________________________________\n",
      "\u001b[2m\u001b[36m(pid=15043)\u001b[0m Layer (type)                    Output Shape         Param #     Connected to                     \n",
      "\u001b[2m\u001b[36m(pid=15043)\u001b[0m ==================================================================================================\n",
      "\u001b[2m\u001b[36m(pid=15043)\u001b[0m seq_in (InputLayer)             [(None,)]            0                                            \n",
      "\u001b[2m\u001b[36m(pid=15043)\u001b[0m __________________________________________________________________________________________________\n",
      "\u001b[2m\u001b[36m(pid=15043)\u001b[0m tf_op_layer_Max (TensorFlowOpLa [()]                 0           seq_in[0][0]                     \n",
      "\u001b[2m\u001b[36m(pid=15043)\u001b[0m __________________________________________________________________________________________________\n",
      "\u001b[2m\u001b[36m(pid=15043)\u001b[0m tf_op_layer_Maximum (TensorFlow [()]                 0           tf_op_layer_Max[0][0]            \n",
      "\u001b[2m\u001b[36m(pid=15043)\u001b[0m __________________________________________________________________________________________________\n",
      "\u001b[2m\u001b[36m(pid=15043)\u001b[0m tf_op_layer_ExpandDims (TensorF [(None, 1)]          0           seq_in[0][0]                     \n",
      "\u001b[2m\u001b[36m(pid=15043)\u001b[0m __________________________________________________________________________________________________\n",
      "\u001b[2m\u001b[36m(pid=15043)\u001b[0m tf_op_layer_Range (TensorFlowOp [(None,)]            0           tf_op_layer_Maximum[0][0]        \n",
      "\u001b[2m\u001b[36m(pid=15043)\u001b[0m __________________________________________________________________________________________________\n",
      "\u001b[2m\u001b[36m(pid=15043)\u001b[0m tf_op_layer_Cast (TensorFlowOpL [(None, 1)]          0           tf_op_layer_ExpandDims[0][0]     \n",
      "\u001b[2m\u001b[36m(pid=15043)\u001b[0m __________________________________________________________________________________________________\n",
      "\u001b[2m\u001b[36m(pid=15043)\u001b[0m inputs (InputLayer)             [(None, None, 5)]    0                                            \n",
      "\u001b[2m\u001b[36m(pid=15043)\u001b[0m __________________________________________________________________________________________________\n",
      "\u001b[2m\u001b[36m(pid=15043)\u001b[0m h (InputLayer)                  [(None, 5)]          0                                            \n",
      "\u001b[2m\u001b[36m(pid=15043)\u001b[0m __________________________________________________________________________________________________\n",
      "\u001b[2m\u001b[36m(pid=15043)\u001b[0m c (InputLayer)                  [(None, 5)]          0                                            \n",
      "\u001b[2m\u001b[36m(pid=15043)\u001b[0m __________________________________________________________________________________________________\n",
      "\u001b[2m\u001b[36m(pid=15043)\u001b[0m tf_op_layer_Less (TensorFlowOpL [(None, None)]       0           tf_op_layer_Range[0][0]          \n",
      "\u001b[2m\u001b[36m(pid=15043)\u001b[0m                                                                  tf_op_layer_Cast[0][0]           \n",
      "\u001b[2m\u001b[36m(pid=15043)\u001b[0m __________________________________________________________________________________________________\n",
      "\u001b[2m\u001b[36m(pid=15043)\u001b[0m lstm (LSTM)                     [(None, None, 5), (N 220         inputs[0][0]                     \n",
      "\u001b[2m\u001b[36m(pid=15043)\u001b[0m                                                                  h[0][0]                          \n",
      "\u001b[2m\u001b[36m(pid=15043)\u001b[0m                                                                  c[0][0]                          \n",
      "\u001b[2m\u001b[36m(pid=15043)\u001b[0m __________________________________________________________________________________________________\n",
      "\u001b[2m\u001b[36m(pid=15043)\u001b[0m logits (Dense)                  (None, None, 3)      18          lstm[0][0]                       \n",
      "\u001b[2m\u001b[36m(pid=15043)\u001b[0m __________________________________________________________________________________________________\n",
      "\u001b[2m\u001b[36m(pid=15043)\u001b[0m values (Dense)                  (None, None, 1)      6           lstm[0][0]                       \n",
      "\u001b[2m\u001b[36m(pid=15043)\u001b[0m ==================================================================================================\n",
      "\u001b[2m\u001b[36m(pid=15043)\u001b[0m Total params: 244\n",
      "\u001b[2m\u001b[36m(pid=15043)\u001b[0m Trainable params: 244\n",
      "\u001b[2m\u001b[36m(pid=15043)\u001b[0m Non-trainable params: 0\n",
      "\u001b[2m\u001b[36m(pid=15043)\u001b[0m __________________________________________________________________________________________________\n",
      "\u001b[2m\u001b[36m(pid=15043)\u001b[0m Model: \"model_3\"\n",
      "\u001b[2m\u001b[36m(pid=15043)\u001b[0m __________________________________________________________________________________________________\n",
      "\u001b[2m\u001b[36m(pid=15043)\u001b[0m Layer (type)                    Output Shape         Param #     Connected to                     \n",
      "\u001b[2m\u001b[36m(pid=15043)\u001b[0m ==================================================================================================\n",
      "\u001b[2m\u001b[36m(pid=15043)\u001b[0m seq_in (InputLayer)             [(None,)]            0                                            \n",
      "\u001b[2m\u001b[36m(pid=15043)\u001b[0m __________________________________________________________________________________________________\n",
      "\u001b[2m\u001b[36m(pid=15043)\u001b[0m tf_op_layer_Max_1 (TensorFlowOp [()]                 0           seq_in[0][0]                     \n",
      "\u001b[2m\u001b[36m(pid=15043)\u001b[0m __________________________________________________________________________________________________\n",
      "\u001b[2m\u001b[36m(pid=15043)\u001b[0m tf_op_layer_Maximum_1 (TensorFl [()]                 0           tf_op_layer_Max_1[0][0]          \n",
      "\u001b[2m\u001b[36m(pid=15043)\u001b[0m __________________________________________________________________________________________________\n",
      "\u001b[2m\u001b[36m(pid=15043)\u001b[0m tf_op_layer_ExpandDims_1 (Tenso [(None, 1)]          0           seq_in[0][0]                     \n",
      "\u001b[2m\u001b[36m(pid=15043)\u001b[0m __________________________________________________________________________________________________\n",
      "\u001b[2m\u001b[36m(pid=15043)\u001b[0m tf_op_layer_Range_1 (TensorFlow [(None,)]            0           tf_op_layer_Maximum_1[0][0]      \n",
      "\u001b[2m\u001b[36m(pid=15043)\u001b[0m __________________________________________________________________________________________________\n",
      "\u001b[2m\u001b[36m(pid=15043)\u001b[0m tf_op_layer_Cast_1 (TensorFlowO [(None, 1)]          0           tf_op_layer_ExpandDims_1[0][0]   \n",
      "\u001b[2m\u001b[36m(pid=15043)\u001b[0m __________________________________________________________________________________________________\n",
      "\u001b[2m\u001b[36m(pid=15043)\u001b[0m inputs (InputLayer)             [(None, None, 5)]    0                                            \n",
      "\u001b[2m\u001b[36m(pid=15043)\u001b[0m __________________________________________________________________________________________________\n",
      "\u001b[2m\u001b[36m(pid=15043)\u001b[0m h (InputLayer)                  [(None, 5)]          0                                            \n",
      "\u001b[2m\u001b[36m(pid=15043)\u001b[0m __________________________________________________________________________________________________\n",
      "\u001b[2m\u001b[36m(pid=15043)\u001b[0m c (InputLayer)                  [(None, 5)]          0                                            \n",
      "\u001b[2m\u001b[36m(pid=15043)\u001b[0m __________________________________________________________________________________________________\n",
      "\u001b[2m\u001b[36m(pid=15043)\u001b[0m tf_op_layer_Less_1 (TensorFlowO [(None, None)]       0           tf_op_layer_Range_1[0][0]        \n",
      "\u001b[2m\u001b[36m(pid=15043)\u001b[0m                                                                  tf_op_layer_Cast_1[0][0]         \n",
      "\u001b[2m\u001b[36m(pid=15043)\u001b[0m __________________________________________________________________________________________________\n",
      "\u001b[2m\u001b[36m(pid=15043)\u001b[0m lstm (LSTM)                     [(None, None, 5), (N 220         inputs[0][0]                     \n",
      "\u001b[2m\u001b[36m(pid=15043)\u001b[0m                                                                  h[0][0]                          \n",
      "\u001b[2m\u001b[36m(pid=15043)\u001b[0m                                                                  c[0][0]                          \n",
      "\u001b[2m\u001b[36m(pid=15043)\u001b[0m __________________________________________________________________________________________________\n",
      "\u001b[2m\u001b[36m(pid=15043)\u001b[0m logits (Dense)                  (None, None, 3)      18          lstm[0][0]                       \n",
      "\u001b[2m\u001b[36m(pid=15043)\u001b[0m __________________________________________________________________________________________________\n",
      "\u001b[2m\u001b[36m(pid=15043)\u001b[0m values (Dense)                  (None, None, 1)      6           lstm[0][0]                       \n",
      "\u001b[2m\u001b[36m(pid=15043)\u001b[0m ==================================================================================================\n",
      "\u001b[2m\u001b[36m(pid=15043)\u001b[0m Total params: 244\n",
      "\u001b[2m\u001b[36m(pid=15043)\u001b[0m Trainable params: 244\n",
      "\u001b[2m\u001b[36m(pid=15043)\u001b[0m Non-trainable params: 0\n",
      "\u001b[2m\u001b[36m(pid=15043)\u001b[0m __________________________________________________________________________________________________\n",
      "custom_metrics: {}\n",
      "date: 2020-07-04_17-31-19\n",
      "done: false\n",
      "episode_len_mean: 10.0\n",
      "episode_reward_max: 0.0\n",
      "episode_reward_mean: 0.0\n",
      "episode_reward_min: 0.0\n",
      "episodes_this_iter: 20\n",
      "episodes_total: 20\n",
      "experiment_id: 7bf611469fbb449c8dcc90f60ff1371f\n",
      "hostname: astar\n",
      "info:\n",
      "  learner:\n",
      "    learned00:\n",
      "      cur_kl_coeff: 0.20000000298023224\n",
      "      cur_lr: 4.999999873689376e-05\n",
      "      entropy: 1.0975744724273682\n",
      "      entropy_coeff: 0.0\n",
      "      kl: 2.4230214421550045e-06\n",
      "      policy_loss: -0.018219035118818283\n",
      "      total_loss: 3.96157169342041\n",
      "      vf_explained_var: -0.004537701606750488\n",
      "      vf_loss: 3.979790449142456\n",
      "  num_steps_sampled: 200\n",
      "  num_steps_trained: 200\n",
      "iterations_since_restore: 1\n",
      "node_ip: 128.32.175.9\n",
      "num_healthy_workers: 1\n",
      "off_policy_estimator: {}\n",
      "perf:\n",
      "  cpu_util_percent: 6.4\n",
      "  ram_util_percent: 6.37\n",
      "pid: 14634\n",
      "policy_reward_max:\n",
      "  learned00: 5.0\n",
      "  learned01: 6.0\n",
      "policy_reward_mean:\n",
      "  learned00: -0.35\n",
      "  learned01: 0.35\n",
      "policy_reward_min:\n",
      "  learned00: -6.0\n",
      "  learned01: -5.0\n",
      "sampler_perf:\n",
      "  mean_env_wait_ms: 0.035705851085150425\n",
      "  mean_inference_ms: 14.837674240567788\n",
      "  mean_processing_ms: 0.2510927209806679\n",
      "time_since_restore: 6.950134754180908\n",
      "time_this_iter_s: 6.950134754180908\n",
      "time_total_s: 6.950134754180908\n",
      "timers:\n",
      "  learn_throughput: 101.309\n",
      "  learn_time_ms: 1974.15\n",
      "  sample_throughput: 40.292\n",
      "  sample_time_ms: 4963.713\n",
      "  update_time_ms: 3.394\n",
      "timestamp: 1593909079\n",
      "timesteps_since_restore: 0\n",
      "timesteps_total: 200\n",
      "training_iteration: 1\n",
      "\n"
     ]
    },
    {
     "ename": "ValueError",
     "evalue": "Session not detected. You should not be calling this function outside `tune.run` or while using the class API. ",
     "output_type": "error",
     "traceback": [
      "\u001b[0;31m---------------------------------------------------------------------------\u001b[0m",
      "\u001b[0;31mValueError\u001b[0m                                Traceback (most recent call last)",
      "\u001b[0;32m<ipython-input-4-0f5c317f051b>\u001b[0m in \u001b[0;36m<module>\u001b[0;34m\u001b[0m\n\u001b[0;32m----> 1\u001b[0;31m \u001b[0mtrain_one\u001b[0m\u001b[0;34m(\u001b[0m\u001b[0;34m{\u001b[0m\u001b[0;34m'fc_units'\u001b[0m\u001b[0;34m:\u001b[0m \u001b[0;36m5\u001b[0m\u001b[0;34m,\u001b[0m \u001b[0;34m'lstm_units'\u001b[0m\u001b[0;34m:\u001b[0m \u001b[0;36m5\u001b[0m\u001b[0;34m,\u001b[0m \u001b[0;34m'train_batch_size'\u001b[0m\u001b[0;34m:\u001b[0m \u001b[0;36m128\u001b[0m\u001b[0;34m,\u001b[0m \u001b[0;34m'train_steps'\u001b[0m\u001b[0;34m:\u001b[0m \u001b[0;36m2\u001b[0m\u001b[0;34m,\u001b[0m \u001b[0;34m'train_policies'\u001b[0m\u001b[0;34m:\u001b[0m \u001b[0;34m[\u001b[0m\u001b[0;34m'learned00'\u001b[0m\u001b[0;34m]\u001b[0m\u001b[0;34m,\u001b[0m \u001b[0;34m'num_workers'\u001b[0m\u001b[0;34m:\u001b[0m \u001b[0;36m1\u001b[0m\u001b[0;34m}\u001b[0m\u001b[0;34m)\u001b[0m\u001b[0;34m\u001b[0m\u001b[0;34m\u001b[0m\u001b[0m\n\u001b[0m",
      "\u001b[0;32m/scratch/sergei/better-adversarial-defenses/rps_rllib_tune.py\u001b[0m in \u001b[0;36mtrain_one\u001b[0;34m(config, restore_state)\u001b[0m\n\u001b[1;32m    125\u001b[0m                               config=config)\n\u001b[1;32m    126\u001b[0m     \u001b[0mtrainer\u001b[0m \u001b[0;34m=\u001b[0m \u001b[0mbuild_trainer\u001b[0m\u001b[0;34m(\u001b[0m\u001b[0mrestore_state\u001b[0m\u001b[0;34m=\u001b[0m\u001b[0;32mNone\u001b[0m\u001b[0;34m,\u001b[0m \u001b[0mconfig\u001b[0m\u001b[0;34m=\u001b[0m\u001b[0mrl_config\u001b[0m\u001b[0;34m)\u001b[0m\u001b[0;34m\u001b[0m\u001b[0;34m\u001b[0m\u001b[0m\n\u001b[0;32m--> 127\u001b[0;31m     \u001b[0mtrain\u001b[0m\u001b[0;34m(\u001b[0m\u001b[0mtrainer\u001b[0m\u001b[0;34m,\u001b[0m \u001b[0mconfig\u001b[0m\u001b[0;34m[\u001b[0m\u001b[0;34m'train_steps'\u001b[0m\u001b[0;34m]\u001b[0m\u001b[0;34m)\u001b[0m\u001b[0;34m\u001b[0m\u001b[0;34m\u001b[0m\u001b[0m\n\u001b[0m\u001b[1;32m    128\u001b[0m \u001b[0;34m\u001b[0m\u001b[0m\n\u001b[1;32m    129\u001b[0m \u001b[0;34m\u001b[0m\u001b[0m\n",
      "\u001b[0;32m/scratch/sergei/better-adversarial-defenses/rps_rllib_tune.py\u001b[0m in \u001b[0;36mtrain\u001b[0;34m(trainer, stop_iters)\u001b[0m\n\u001b[1;32m    114\u001b[0m         \u001b[0mresults\u001b[0m \u001b[0;34m=\u001b[0m \u001b[0mtrainer\u001b[0m\u001b[0;34m.\u001b[0m\u001b[0mtrain\u001b[0m\u001b[0;34m(\u001b[0m\u001b[0;34m)\u001b[0m\u001b[0;34m\u001b[0m\u001b[0;34m\u001b[0m\u001b[0m\n\u001b[1;32m    115\u001b[0m         \u001b[0mprint\u001b[0m\u001b[0;34m(\u001b[0m\u001b[0mpretty_print\u001b[0m\u001b[0;34m(\u001b[0m\u001b[0mresults\u001b[0m\u001b[0;34m)\u001b[0m\u001b[0;34m)\u001b[0m\u001b[0;34m\u001b[0m\u001b[0;34m\u001b[0m\u001b[0m\n\u001b[0;32m--> 116\u001b[0;31m         \u001b[0mtrack\u001b[0m\u001b[0;34m.\u001b[0m\u001b[0mlog\u001b[0m\u001b[0;34m(\u001b[0m\u001b[0;34m**\u001b[0m\u001b[0mresults\u001b[0m\u001b[0;34m)\u001b[0m\u001b[0;34m\u001b[0m\u001b[0;34m\u001b[0m\u001b[0m\n\u001b[0m\u001b[1;32m    117\u001b[0m     \u001b[0mo\u001b[0m \u001b[0;34m=\u001b[0m \u001b[0mtrainer\u001b[0m\u001b[0;34m.\u001b[0m\u001b[0msave_to_object\u001b[0m\u001b[0;34m(\u001b[0m\u001b[0;34m)\u001b[0m\u001b[0;34m\u001b[0m\u001b[0;34m\u001b[0m\u001b[0m\n\u001b[1;32m    118\u001b[0m     \u001b[0;32mreturn\u001b[0m \u001b[0mo\u001b[0m\u001b[0;34m\u001b[0m\u001b[0;34m\u001b[0m\u001b[0m\n",
      "\u001b[0;32m/scratch/sergei/miniconda3/lib/python3.7/site-packages/ray/tune/track/__init__.py\u001b[0m in \u001b[0;36mlog\u001b[0;34m(**kwargs)\u001b[0m\n\u001b[1;32m     38\u001b[0m \u001b[0;32mdef\u001b[0m \u001b[0mlog\u001b[0m\u001b[0;34m(\u001b[0m\u001b[0;34m**\u001b[0m\u001b[0mkwargs\u001b[0m\u001b[0;34m)\u001b[0m\u001b[0;34m:\u001b[0m\u001b[0;34m\u001b[0m\u001b[0;34m\u001b[0m\u001b[0m\n\u001b[1;32m     39\u001b[0m     \u001b[0m_deprecation_warning\u001b[0m\u001b[0;34m(\u001b[0m\u001b[0mcall\u001b[0m\u001b[0;34m=\u001b[0m\u001b[0;34m\"log\"\u001b[0m\u001b[0;34m,\u001b[0m \u001b[0malternative_call\u001b[0m\u001b[0;34m=\u001b[0m\u001b[0;34m\"report\"\u001b[0m\u001b[0;34m,\u001b[0m \u001b[0msoft\u001b[0m\u001b[0;34m=\u001b[0m\u001b[0;32mTrue\u001b[0m\u001b[0;34m)\u001b[0m\u001b[0;34m\u001b[0m\u001b[0;34m\u001b[0m\u001b[0m\n\u001b[0;32m---> 40\u001b[0;31m     \u001b[0msession\u001b[0m\u001b[0;34m.\u001b[0m\u001b[0mreport\u001b[0m\u001b[0;34m(\u001b[0m\u001b[0;34m**\u001b[0m\u001b[0mkwargs\u001b[0m\u001b[0;34m)\u001b[0m\u001b[0;34m\u001b[0m\u001b[0;34m\u001b[0m\u001b[0m\n\u001b[0m\u001b[1;32m     41\u001b[0m \u001b[0;34m\u001b[0m\u001b[0m\n\u001b[1;32m     42\u001b[0m \u001b[0;34m\u001b[0m\u001b[0m\n",
      "\u001b[0;32m/scratch/sergei/miniconda3/lib/python3.7/site-packages/ray/tune/session.py\u001b[0m in \u001b[0;36mreport\u001b[0;34m(**kwargs)\u001b[0m\n\u001b[1;32m     86\u001b[0m             \u001b[0mmetrics\u001b[0m \u001b[0mcan\u001b[0m \u001b[0mbe\u001b[0m \u001b[0mused\u001b[0m \u001b[0;32mfor\u001b[0m \u001b[0mearly\u001b[0m \u001b[0mstopping\u001b[0m \u001b[0;32mor\u001b[0m \u001b[0moptimization\u001b[0m\u001b[0;34m.\u001b[0m\u001b[0;34m\u001b[0m\u001b[0;34m\u001b[0m\u001b[0m\n\u001b[1;32m     87\u001b[0m     \"\"\"\n\u001b[0;32m---> 88\u001b[0;31m     \u001b[0m_session\u001b[0m \u001b[0;34m=\u001b[0m \u001b[0mget_session\u001b[0m\u001b[0;34m(\u001b[0m\u001b[0;34m)\u001b[0m\u001b[0;34m\u001b[0m\u001b[0;34m\u001b[0m\u001b[0m\n\u001b[0m\u001b[1;32m     89\u001b[0m     \u001b[0;32mreturn\u001b[0m \u001b[0m_session\u001b[0m\u001b[0;34m.\u001b[0m\u001b[0mreport\u001b[0m\u001b[0;34m(\u001b[0m\u001b[0;34m**\u001b[0m\u001b[0mkwargs\u001b[0m\u001b[0;34m)\u001b[0m\u001b[0;34m\u001b[0m\u001b[0;34m\u001b[0m\u001b[0m\n\u001b[1;32m     90\u001b[0m \u001b[0;34m\u001b[0m\u001b[0m\n",
      "\u001b[0;32m/scratch/sergei/miniconda3/lib/python3.7/site-packages/ray/tune/session.py\u001b[0m in \u001b[0;36mget_session\u001b[0;34m()\u001b[0m\n\u001b[1;32m     33\u001b[0m     \u001b[0;32mif\u001b[0m \u001b[0m_session\u001b[0m \u001b[0;32mis\u001b[0m \u001b[0;32mNone\u001b[0m\u001b[0;34m:\u001b[0m\u001b[0;34m\u001b[0m\u001b[0;34m\u001b[0m\u001b[0m\n\u001b[1;32m     34\u001b[0m         raise ValueError(\n\u001b[0;32m---> 35\u001b[0;31m             \u001b[0;34m\"Session not detected. You should not be calling this function \"\u001b[0m\u001b[0;34m\u001b[0m\u001b[0;34m\u001b[0m\u001b[0m\n\u001b[0m\u001b[1;32m     36\u001b[0m             \"outside `tune.run` or while using the class API. \")\n\u001b[1;32m     37\u001b[0m     \u001b[0;32mreturn\u001b[0m \u001b[0m_session\u001b[0m\u001b[0;34m\u001b[0m\u001b[0;34m\u001b[0m\u001b[0m\n",
      "\u001b[0;31mValueError\u001b[0m: Session not detected. You should not be calling this function outside `tune.run` or while using the class API. "
     ]
    }
   ],
   "source": [
    "train_one({'fc_units': 5, 'lstm_units': 5, 'train_batch_size': 128, 'train_steps': 2, 'train_policies': ['learned00'], 'num_workers': 1})"
   ]
  },
  {
   "cell_type": "code",
   "execution_count": null,
   "metadata": {},
   "outputs": [],
   "source": []
  },
  {
   "cell_type": "code",
   "execution_count": null,
   "metadata": {},
   "outputs": [],
   "source": []
  },
  {
   "cell_type": "code",
   "execution_count": null,
   "metadata": {},
   "outputs": [],
   "source": [
    "train(trainer, 1000)"
   ]
  },
  {
   "cell_type": "code",
   "execution_count": null,
   "metadata": {},
   "outputs": [],
   "source": [
    "trainer.config"
   ]
  },
  {
   "cell_type": "code",
   "execution_count": null,
   "metadata": {},
   "outputs": [],
   "source": [
    "# for alternating training\n",
    "joint_steps = 10\n",
    "opponent_steps = 10\n",
    "burst_size = 10"
   ]
  },
  {
   "cell_type": "code",
   "execution_count": null,
   "metadata": {},
   "outputs": [],
   "source": [
    "dir(trainer)"
   ]
  },
  {
   "cell_type": "code",
   "execution_count": null,
   "metadata": {},
   "outputs": [],
   "source": [
    "?trainer.export_model"
   ]
  },
  {
   "cell_type": "code",
   "execution_count": null,
   "metadata": {},
   "outputs": [],
   "source": [
    "trainer.save()"
   ]
  },
  {
   "cell_type": "code",
   "execution_count": null,
   "metadata": {},
   "outputs": [],
   "source": [
    "trainer.load()"
   ]
  },
  {
   "cell_type": "code",
   "execution_count": null,
   "metadata": {},
   "outputs": [],
   "source": [
    "trainer.restore()"
   ]
  },
  {
   "cell_type": "code",
   "execution_count": null,
   "metadata": {},
   "outputs": [],
   "source": [
    "dir(trainer)"
   ]
  },
  {
   "cell_type": "code",
   "execution_count": null,
   "metadata": {},
   "outputs": [],
   "source": []
  },
  {
   "cell_type": "code",
   "execution_count": null,
   "metadata": {},
   "outputs": [],
   "source": []
  },
  {
   "cell_type": "code",
   "execution_count": null,
   "metadata": {},
   "outputs": [],
   "source": [
    "len(o)"
   ]
  },
  {
   "cell_type": "code",
   "execution_count": null,
   "metadata": {},
   "outputs": [],
   "source": [
    "trainer.config"
   ]
  },
  {
   "cell_type": "code",
   "execution_count": null,
   "metadata": {},
   "outputs": [],
   "source": [
    "dir(trainer)"
   ]
  },
  {
   "cell_type": "code",
   "execution_count": null,
   "metadata": {},
   "outputs": [],
   "source": [
    "trainer.with_updates(multiagent={'policies_to_train': ['learned00']})"
   ]
  },
  {
   "cell_type": "code",
   "execution_count": null,
   "metadata": {},
   "outputs": [],
   "source": [
    "?trainer.with_updates"
   ]
  },
  {
   "cell_type": "code",
   "execution_count": null,
   "metadata": {},
   "outputs": [],
   "source": []
  }
 ],
 "metadata": {
  "kernelspec": {
   "display_name": "Python 3",
   "language": "python",
   "name": "python3"
  },
  "language_info": {
   "codemirror_mode": {
    "name": "ipython",
    "version": 3
   },
   "file_extension": ".py",
   "mimetype": "text/x-python",
   "name": "python",
   "nbconvert_exporter": "python",
   "pygments_lexer": "ipython3",
   "version": "3.7.7"
  }
 },
 "nbformat": 4,
 "nbformat_minor": 4
}
