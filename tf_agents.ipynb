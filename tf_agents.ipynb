{
 "cells": [
  {
   "cell_type": "code",
   "execution_count": 1,
   "metadata": {},
   "outputs": [
    {
     "name": "stderr",
     "output_type": "stream",
     "text": [
      "2020-08-19 19:26:40,746\tINFO resource_spec.py:204 -- Starting Ray with 4.44 GiB memory available for workers and up to 2.23 GiB for objects. You can adjust these settings with ray.init(memory=<bytes>, object_store_memory=<bytes>).\n",
      "2020-08-19 19:26:40,960\tWARNING services.py:923 -- Redis failed to start, retrying now.\n",
      "2020-08-19 19:26:41,150\tINFO services.py:1163 -- View the Ray dashboard at \u001b[1m\u001b[32mlocalhost:8267\u001b[39m\u001b[22m\n"
     ]
    }
   ],
   "source": [
    "import gym_compete_rllib.single_agent_env\n",
    "import gym\n",
    "import numpy as np\n",
    "import multiprocessing"
   ]
  },
  {
   "cell_type": "code",
   "execution_count": 2,
   "metadata": {},
   "outputs": [],
   "source": [
    "def f():\n",
    "    env = gym.make('YouShallNotPassHumans-ZooV1-v0')\n",
    "    print(env, \"ENV CREATED\")"
   ]
  },
  {
   "cell_type": "code",
   "execution_count": 3,
   "metadata": {},
   "outputs": [
    {
     "name": "stdout",
     "output_type": "stream",
     "text": [
      "['env_name']\n",
      "Creating agent humanoid_blocker\n",
      "Reading agent XML from: /home/sergei/git/chai/multiagent-competition/gym_compete/new_envs/assets/humanoid_body.xml\n",
      "Creating agent humanoid\n",
      "Reading agent XML from: /home/sergei/git/chai/multiagent-competition/gym_compete/new_envs/assets/humanoid_body.xml\n",
      "Scene XML path: /home/sergei/git/chai/multiagent-competition/gym_compete/new_envs/assets/world_body.humanoid_body.humanoid_body.xml\n",
      "Created Scene with agents\n",
      "===Created environment...\n",
      "===Get pvnet\n",
      "Creating agent humanoid_blocker\n",
      "Reading agent XML from: /home/sergei/git/chai/multiagent-competition/gym_compete/new_envs/assets/humanoid_body.xml\n",
      "Creating agent humanoid\n",
      "Reading agent XML from: /home/sergei/git/chai/multiagent-competition/gym_compete/new_envs/assets/humanoid_body.xml\n",
      "Scene XML path: /home/sergei/git/chai/multiagent-competition/gym_compete/new_envs/assets/world_body.humanoid_body.humanoid_body.xml\n",
      "Created Scene with agents\n",
      "===gym.make done closed\n",
      "tf eager False\n",
      "===Loaded variables\n",
      "Created input layer Tensor(\"input_1:0\", shape=(?, 380), dtype=float32)\n",
      "=Created preproc Tensor(\"observation_preprocessing_layer/clip_by_value:0\", shape=(?, 380), dtype=float32)\n",
      "===H1\n",
      "model policy mean\n",
      "Diag\n",
      "Built policy\n",
      "Built value.\n",
      "Weights delta 1\n",
      "===Returning results\n",
      "===Created policy...\n",
      "===Created MultiToSingle\n",
      "<MultiAgentToSingleAgent<YouShallNotPassHumans-ZooV1-v0>> ENV CREATED\n"
     ]
    }
   ],
   "source": [
    "multiprocessing.Process(target=f).start()"
   ]
  },
  {
   "cell_type": "code",
   "execution_count": 4,
   "metadata": {},
   "outputs": [
    {
     "name": "stdout",
     "output_type": "stream",
     "text": [
      "['env_name']\n",
      "Creating agent humanoid_blocker\n",
      "Reading agent XML from: /home/sergei/git/chai/multiagent-competition/gym_compete/new_envs/assets/humanoid_body.xml\n",
      "Creating agent humanoid\n",
      "Reading agent XML from: /home/sergei/git/chai/multiagent-competition/gym_compete/new_envs/assets/humanoid_body.xml\n",
      "Scene XML path: /home/sergei/git/chai/multiagent-competition/gym_compete/new_envs/assets/world_body.humanoid_body.humanoid_body.xml\n",
      "Created Scene with agents\n",
      "===Created environment...\n",
      "===Get pvnet\n",
      "Creating agent humanoid_blocker\n",
      "Reading agent XML from: /home/sergei/git/chai/multiagent-competition/gym_compete/new_envs/assets/humanoid_body.xml\n",
      "Creating agent humanoid\n",
      "Reading agent XML from: /home/sergei/git/chai/multiagent-competition/gym_compete/new_envs/assets/humanoid_body.xml\n",
      "Scene XML path: /home/sergei/git/chai/multiagent-competition/gym_compete/new_envs/assets/world_body.humanoid_body.humanoid_body.xml\n",
      "Created Scene with agents\n",
      "===gym.make done closed\n",
      "tf eager False\n",
      "===Loaded variables\n",
      "Created input layer Tensor(\"input_1:0\", shape=(?, 380), dtype=float32)\n",
      "=Created preproc Tensor(\"observation_preprocessing_layer/clip_by_value:0\", shape=(?, 380), dtype=float32)\n",
      "===H1\n",
      "model policy mean\n",
      "Diag\n",
      "Built policy\n",
      "Built value.\n",
      "Weights delta 1\n",
      "===Returning results\n",
      "===Created policy...\n",
      "===Created MultiToSingle\n",
      "<MultiAgentToSingleAgent<YouShallNotPassHumans-ZooV1-v0>> ENV CREATED\n"
     ]
    },
    {
     "name": "stderr",
     "output_type": "stream",
     "text": [
      "2020-08-19 19:41:18,153\tERROR worker.py:1049 -- listen_error_messages_raylet: Connection closed by server.\n",
      "2020-08-19 19:41:18,154\tERROR worker.py:949 -- print_logs: Connection closed by server.\n",
      "2020-08-19 19:41:18,164\tERROR import_thread.py:93 -- ImportThread: Connection closed by server.\n"
     ]
    }
   ],
   "source": [
    "f()"
   ]
  },
  {
   "cell_type": "code",
   "execution_count": null,
   "metadata": {},
   "outputs": [],
   "source": []
  }
 ],
 "metadata": {
  "kernelspec": {
   "display_name": "Python 3",
   "language": "python",
   "name": "python3"
  },
  "language_info": {
   "codemirror_mode": {
    "name": "ipython",
    "version": 3
   },
   "file_extension": ".py",
   "mimetype": "text/x-python",
   "name": "python",
   "nbconvert_exporter": "python",
   "pygments_lexer": "ipython3",
   "version": "3.8.3"
  }
 },
 "nbformat": 4,
 "nbformat_minor": 4
}
