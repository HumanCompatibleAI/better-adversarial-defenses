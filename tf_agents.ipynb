{
 "cells": [
  {
   "cell_type": "code",
   "execution_count": 2,
   "metadata": {},
   "outputs": [],
   "source": [
    "import os\n",
    "os.environ['CUDA_VISIBLE_DEVICES'] = '-1'\n",
    "import multiprocessing\n",
    "#multiprocessing.set_start_method('spawn')\n",
    "import gym_compete_rllib.single_agent_env\n",
    "#from gym_compete_rllib.single_agent_env import actors\n",
    "import gym\n",
    "import numpy as np\n",
    "import multiprocessing\n",
    "import time\n",
    "import ray"
   ]
  },
  {
   "cell_type": "code",
   "execution_count": null,
   "metadata": {},
   "outputs": [],
   "source": [
    "#multiprocessing.set_start_method('spawn', force=True)"
   ]
  },
  {
   "cell_type": "code",
   "execution_count": null,
   "metadata": {},
   "outputs": [],
   "source": [
    "env = gym.make('multicomp/YouShallNotPassHumans-v0')"
   ]
  },
  {
   "cell_type": "code",
   "execution_count": null,
   "metadata": {},
   "outputs": [],
   "source": [
    "env = gym.make('YouShallNotPassHumans-ZooV1-v0', remote_agent=True)"
   ]
  },
  {
   "cell_type": "code",
   "execution_count": null,
   "metadata": {},
   "outputs": [],
   "source": [
    "def env_performance(env, total_steps=1000):\n",
    "    t1 = time.time()\n",
    "    steps = 0\n",
    "    while steps < total_steps:\n",
    "        env.reset()\n",
    "        steps += 1\n",
    "        done = False\n",
    "        while not done:\n",
    "            obs, rew, done, info = env.step(np.zeros(17))\n",
    "            steps += 1\n",
    "            if steps >= total_steps: break\n",
    "    t2 = time.time()\n",
    "    return steps / (t2 - t1)"
   ]
  },
  {
   "cell_type": "code",
   "execution_count": null,
   "metadata": {},
   "outputs": [],
   "source": [
    "env_performance(env)"
   ]
  },
  {
   "cell_type": "code",
   "execution_count": 7,
   "metadata": {},
   "outputs": [
    {
     "ename": "NameError",
     "evalue": "name 'model_to_callable' is not defined",
     "output_type": "error",
     "traceback": [
      "\u001b[0;31m---------------------------------------------------------------------------\u001b[0m",
      "\u001b[0;31mNameError\u001b[0m                                 Traceback (most recent call last)",
      "\u001b[0;32m<ipython-input-7-edb25f17d753>\u001b[0m in \u001b[0;36m<module>\u001b[0;34m\u001b[0m\n\u001b[0;32m----> 1\u001b[0;31m \u001b[0mmodel_to_callable\u001b[0m\u001b[0;34m(\u001b[0m\u001b[0mget_policy_value_nets\u001b[0m\u001b[0;34m(\u001b[0m\u001b[0menv_name\u001b[0m\u001b[0;34m,\u001b[0m \u001b[0;36m1\u001b[0m\u001b[0;34m)\u001b[0m\u001b[0;34m[\u001b[0m\u001b[0;34m'policy'\u001b[0m\u001b[0;34m]\u001b[0m\u001b[0;34m)\u001b[0m\u001b[0;34m\u001b[0m\u001b[0;34m\u001b[0m\u001b[0m\n\u001b[0m",
      "\u001b[0;31mNameError\u001b[0m: name 'model_to_callable' is not defined"
     ]
    }
   ],
   "source": [
    "model_to_callable(get_policy_value_nets(env_name, 1)['policy'])"
   ]
  },
  {
   "cell_type": "code",
   "execution_count": 5,
   "metadata": {},
   "outputs": [
    {
     "data": {
      "text/plain": [
       "Actor(act, 45b95b1c0100)"
      ]
     },
     "execution_count": 5,
     "metadata": {},
     "output_type": "execute_result"
    }
   ],
   "source": [
    "a = actors.get()\n",
    "a"
   ]
  },
  {
   "cell_type": "code",
   "execution_count": null,
   "metadata": {},
   "outputs": [],
   "source": []
  },
  {
   "cell_type": "code",
   "execution_count": 13,
   "metadata": {},
   "outputs": [
    {
     "ename": "RayActorError",
     "evalue": "The actor died unexpectedly before finishing this task.",
     "output_type": "error",
     "traceback": [
      "\u001b[0;31m---------------------------------------------------------------------------\u001b[0m",
      "\u001b[0;31mRayActorError\u001b[0m                             Traceback (most recent call last)",
      "\u001b[0;32m<ipython-input-13-9681299817c4>\u001b[0m in \u001b[0;36m<module>\u001b[0;34m\u001b[0m\n\u001b[0;32m----> 1\u001b[0;31m \u001b[0mray\u001b[0m\u001b[0;34m.\u001b[0m\u001b[0mget\u001b[0m\u001b[0;34m(\u001b[0m\u001b[0ma\u001b[0m\u001b[0;34m.\u001b[0m\u001b[0mpredict\u001b[0m\u001b[0;34m.\u001b[0m\u001b[0mremote\u001b[0m\u001b[0;34m(\u001b[0m\u001b[0mnp\u001b[0m\u001b[0;34m.\u001b[0m\u001b[0mzeros\u001b[0m\u001b[0;34m(\u001b[0m\u001b[0;36m380\u001b[0m\u001b[0;34m)\u001b[0m\u001b[0;34m)\u001b[0m\u001b[0;34m)\u001b[0m\u001b[0;34m\u001b[0m\u001b[0;34m\u001b[0m\u001b[0m\n\u001b[0m",
      "\u001b[0;32m~/miniconda3/envs/chai3.8/lib/python3.8/site-packages/ray/worker.py\u001b[0m in \u001b[0;36mget\u001b[0;34m(object_ids, timeout)\u001b[0m\n\u001b[1;32m   1474\u001b[0m                     \u001b[0;32mraise\u001b[0m \u001b[0mvalue\u001b[0m\u001b[0;34m.\u001b[0m\u001b[0mas_instanceof_cause\u001b[0m\u001b[0;34m(\u001b[0m\u001b[0;34m)\u001b[0m\u001b[0;34m\u001b[0m\u001b[0;34m\u001b[0m\u001b[0m\n\u001b[1;32m   1475\u001b[0m                 \u001b[0;32melse\u001b[0m\u001b[0;34m:\u001b[0m\u001b[0;34m\u001b[0m\u001b[0;34m\u001b[0m\u001b[0m\n\u001b[0;32m-> 1476\u001b[0;31m                     \u001b[0;32mraise\u001b[0m \u001b[0mvalue\u001b[0m\u001b[0;34m\u001b[0m\u001b[0;34m\u001b[0m\u001b[0m\n\u001b[0m\u001b[1;32m   1477\u001b[0m \u001b[0;34m\u001b[0m\u001b[0m\n\u001b[1;32m   1478\u001b[0m         \u001b[0;31m# Run post processors.\u001b[0m\u001b[0;34m\u001b[0m\u001b[0;34m\u001b[0m\u001b[0;34m\u001b[0m\u001b[0m\n",
      "\u001b[0;31mRayActorError\u001b[0m: The actor died unexpectedly before finishing this task."
     ]
    }
   ],
   "source": [
    "ray.get(a.predict.remote(np.zeros(380)))"
   ]
  },
  {
   "cell_type": "code",
   "execution_count": 3,
   "metadata": {},
   "outputs": [],
   "source": [
    "def f():\n",
    "    env = gym.make('YouShallNotPassHumans-ZooV1-v0', remote_agent=True)\n",
    "    print(env, \"ENV CREATED\")\n",
    "    print(env.reset().shape)\n",
    "    print(\"alive\")\n",
    "    print(env.step(np.zeros(17)))"
   ]
  },
  {
   "cell_type": "code",
   "execution_count": 5,
   "metadata": {},
   "outputs": [
    {
     "name": "stderr",
     "output_type": "stream",
     "text": [
      "2020-08-20 18:22:17,410\tINFO resource_spec.py:204 -- Starting Ray with 3.42 GiB memory available for workers and up to 1.72 GiB for objects. You can adjust these settings with ray.init(memory=<bytes>, object_store_memory=<bytes>).\n",
      "2020-08-20 18:22:17,527\tWARNING services.py:923 -- Redis failed to start, retrying now.\n",
      "2020-08-20 18:22:17,763\tWARNING services.py:923 -- Redis failed to start, retrying now.\n",
      "2020-08-20 18:22:17,985\tINFO services.py:1163 -- View the Ray dashboard at \u001b[1m\u001b[32mlocalhost:8268\u001b[39m\u001b[22m\n"
     ]
    },
    {
     "name": "stdout",
     "output_type": "stream",
     "text": [
      "Creating agent humanoid_blocker\n",
      "Reading agent XML from: /home/sergei/git/chai/multiagent-competition/gym_compete/new_envs/assets/humanoid_body.xml\n",
      "Creating agent humanoid\n",
      "Reading agent XML from: /home/sergei/git/chai/multiagent-competition/gym_compete/new_envs/assets/humanoid_body.xml\n",
      "Scene XML path: /home/sergei/git/chai/multiagent-competition/gym_compete/new_envs/assets/world_body.humanoid_body.humanoid_body.xml\n",
      "Created Scene with agents\n",
      "<MultiAgentToSingleAgent<YouShallNotPassHumans-ZooV1-v0>> ENV CREATED\n",
      "(380,)\n",
      "alive\n",
      "\u001b[2m\u001b[36m(pid=7124)\u001b[0m Creating agent humanoid_blocker\n",
      "\u001b[2m\u001b[36m(pid=7124)\u001b[0m Reading agent XML from: /home/sergei/git/chai/multiagent-competition/gym_compete/new_envs/assets/humanoid_body.xml\n",
      "\u001b[2m\u001b[36m(pid=7124)\u001b[0m Creating agent humanoid\n",
      "\u001b[2m\u001b[36m(pid=7124)\u001b[0m Reading agent XML from: /home/sergei/git/chai/multiagent-competition/gym_compete/new_envs/assets/humanoid_body.xml\n",
      "\u001b[2m\u001b[36m(pid=7124)\u001b[0m Scene XML path: /home/sergei/git/chai/multiagent-competition/gym_compete/new_envs/assets/world_body.humanoid_body.humanoid_body.xml\n",
      "\u001b[2m\u001b[36m(pid=7124)\u001b[0m Created Scene with agents\n",
      "(array([-1.01059985e+00, -2.38781609e-02,  1.30751717e+00,  9.94237006e-01,\n",
      "        6.64063841e-02,  8.28202367e-02,  1.49574606e-02,  4.77769002e-02,\n",
      "        2.59016808e-02,  8.50284323e-02, -3.82038858e-03, -6.75430819e-02,\n",
      "       -4.84332331e-02, -2.22291499e-02, -8.63065124e-02, -1.36849312e-02,\n",
      "        8.25031381e-03, -2.31678318e-02, -8.79998356e-02, -5.08705638e-02,\n",
      "       -7.92083517e-03, -7.35613555e-02,  7.70228058e-02,  4.10534116e-03,\n",
      "        1.11037940e-01, -1.26233436e-02, -2.79047996e-01,  6.26106337e-02,\n",
      "        2.05392241e-02, -4.23310958e-02, -1.48445209e-02, -9.87306908e-02,\n",
      "       -1.01249576e-01,  1.01539016e-01,  1.57736853e-01, -9.20020789e-02,\n",
      "       -2.40462601e-01,  8.15597698e-02,  1.64713711e-02, -8.27017725e-02,\n",
      "       -2.33580083e-01, -1.58501565e-02, -1.06941119e-01, -2.42587160e-02,\n",
      "       -1.77609205e-01, -2.17479393e-01, -7.61715323e-03,  2.17933154e+00,\n",
      "        2.14589834e+00,  1.55214623e-01,  5.97676672e-02, -3.21512014e-01,\n",
      "        3.84471953e-01,  6.14843845e-01, -7.63971448e-01,  4.03327322e+00,\n",
      "        8.32207870e+00,  8.85901004e-02,  7.96802342e-02,  1.34880180e-02,\n",
      "        1.83653389e-03, -5.73552586e-03,  2.03960426e-02,  2.99633499e-02,\n",
      "       -1.08587980e-01,  3.92006427e-01,  2.03575206e+00,  4.94803190e-02,\n",
      "        4.01819311e-02,  4.86115068e-02, -4.81950305e-03,  8.02663993e-03,\n",
      "        2.52494612e-03, -2.13249490e-01, -1.50886774e-01,  2.16009408e-01,\n",
      "        5.85278702e+00,  2.51946926e-01,  2.34583288e-01,  4.47283052e-02,\n",
      "       -1.23424428e-02, -4.50309664e-02, -4.98042405e-02, -1.96066707e-01,\n",
      "       -3.28243434e-01, -8.63592982e-01,  4.52555609e+00,  8.53192866e-01,\n",
      "        8.79278541e-01,  3.21957581e-02,  4.07837005e-03, -1.52919069e-01,\n",
      "        2.29081120e-02, -2.66064912e-01,  3.19070779e-02, -1.47386217e+00,\n",
      "        2.63249445e+00,  1.01041245e+00,  1.03690326e+00,  4.06701826e-02,\n",
      "        1.26954652e-02, -1.77861109e-01,  7.14738071e-02, -2.36280322e-01,\n",
      "        9.49496701e-02, -1.33022726e+00,  1.76714587e+00,  2.27593631e-01,\n",
      "        1.71078071e-01,  1.05400734e-01,  3.93402353e-02, -5.15340008e-02,\n",
      "        9.62054059e-02, -2.86446989e-01,  5.74455380e-01, -6.46847546e-01,\n",
      "        4.52555609e+00,  8.33975852e-01,  7.43239164e-01,  2.05329418e-01,\n",
      "        9.02913660e-02, -1.95189491e-01,  3.16046029e-01, -3.78639251e-01,\n",
      "        6.16388917e-01, -1.32072186e+00,  2.63249445e+00,  9.90867198e-01,\n",
      "        9.02660251e-01,  2.17799351e-01,  9.73908678e-02, -2.29128420e-01,\n",
      "        3.55288506e-01, -3.33153367e-01,  5.16590476e-01, -1.21536613e+00,\n",
      "        1.76714587e+00,  4.31237370e-01,  2.78680354e-01,  2.25927874e-01,\n",
      "        8.18234608e-02, -8.47696364e-02,  2.03409493e-01,  2.31036857e-01,\n",
      "       -5.42476058e-01,  6.12298787e-01,  1.59405982e+00,  2.97914863e-01,\n",
      "        3.14597189e-01,  2.97999501e-01,  1.39526069e-01, -1.56745896e-01,\n",
      "        1.42094314e-01,  4.25593078e-01, -4.05261397e-01,  4.29490685e-01,\n",
      "        1.19834316e+00,  3.58591497e-01,  3.38458359e-01,  7.87091404e-02,\n",
      "       -3.72597538e-02, -8.69076252e-02, -1.09189332e-01,  2.06588596e-01,\n",
      "        2.62822062e-01,  6.95140302e-01,  1.59405982e+00,  2.26696402e-01,\n",
      "        3.29797268e-01,  1.80055574e-01, -6.27424344e-02, -1.61732167e-01,\n",
      "       -7.71537051e-02,  4.01875287e-01,  2.02313453e-01,  4.72398937e-01,\n",
      "        1.19834316e+00,  5.42830341e-02,  2.84038223e-02, -4.87342775e-02,\n",
      "        1.02617770e-01,  1.49124144e-02, -2.72379041e-01,  5.83462305e-02,\n",
      "       -6.71554431e-02, -7.73895904e-02,  1.28833413e-01,  1.67242754e-02,\n",
      "       -2.74703950e-01, -4.09075096e-02, -7.62961954e-02, -5.98229282e-02,\n",
      "        1.29223451e-01,  3.85079323e-03, -2.79198885e-01,  8.70386362e-02,\n",
      "       -1.90080225e-01,  5.49352504e-02,  1.13161542e-01,  2.57795607e-03,\n",
      "       -2.62553155e-01,  9.08027291e-02,  4.54231873e-02,  1.05103068e-01,\n",
      "        2.05236539e-01,  4.76633711e-03, -2.79734492e-01,  9.08027291e-02,\n",
      "        4.54231873e-02,  1.05103068e-01,  2.05236539e-01,  4.76633711e-03,\n",
      "       -2.79734492e-01, -1.20213091e-01, -1.57559365e-01, -8.66035521e-02,\n",
      "        1.28454730e-01,  1.67618890e-03, -2.70323813e-01, -1.31176457e-01,\n",
      "        6.46576360e-02, -1.44778052e-02,  2.18118623e-01,  1.30767105e-02,\n",
      "       -2.91819215e-01, -1.31176457e-01,  6.46576360e-02, -1.44778052e-02,\n",
      "        2.18118623e-01,  1.30767105e-02, -2.91819215e-01,  3.10927238e-02,\n",
      "        1.02268979e-01, -1.24298699e-01,  8.69685188e-02,  1.00208214e-02,\n",
      "       -2.72357970e-01,  2.89614182e-02,  1.20355174e-01, -1.40229940e-01,\n",
      "        8.91699046e-02,  1.30065028e-02, -2.69262940e-01, -1.32218510e-01,\n",
      "       -3.91250141e-02, -2.47599259e-01,  1.23407461e-01, -6.80566877e-02,\n",
      "       -2.63702303e-01, -1.31157592e-01, -3.40878926e-02, -2.41910458e-01,\n",
      "        1.23361893e-01, -6.88294098e-02, -2.63009608e-01,  0.00000000e+00,\n",
      "        0.00000000e+00,  0.00000000e+00,  0.00000000e+00,  0.00000000e+00,\n",
      "        0.00000000e+00,  0.00000000e+00,  0.00000000e+00,  0.00000000e+00,\n",
      "        0.00000000e+00,  0.00000000e+00,  0.00000000e+00,  0.00000000e+00,\n",
      "        0.00000000e+00,  0.00000000e+00,  0.00000000e+00,  0.00000000e+00,\n",
      "        0.00000000e+00,  0.00000000e+00,  0.00000000e+00,  0.00000000e+00,\n",
      "        0.00000000e+00,  0.00000000e+00,  0.00000000e+00,  0.00000000e+00,\n",
      "        0.00000000e+00,  0.00000000e+00,  0.00000000e+00,  0.00000000e+00,\n",
      "        0.00000000e+00,  0.00000000e+00,  0.00000000e+00,  0.00000000e+00,\n",
      "        0.00000000e+00,  0.00000000e+00,  0.00000000e+00,  0.00000000e+00,\n",
      "        0.00000000e+00,  0.00000000e+00,  0.00000000e+00,  0.00000000e+00,\n",
      "        0.00000000e+00,  0.00000000e+00,  0.00000000e+00,  0.00000000e+00,\n",
      "        0.00000000e+00,  0.00000000e+00,  0.00000000e+00,  0.00000000e+00,\n",
      "        0.00000000e+00,  0.00000000e+00,  0.00000000e+00,  0.00000000e+00,\n",
      "        0.00000000e+00,  0.00000000e+00,  0.00000000e+00,  0.00000000e+00,\n",
      "        0.00000000e+00,  0.00000000e+00,  0.00000000e+00,  0.00000000e+00,\n",
      "        0.00000000e+00,  0.00000000e+00,  0.00000000e+00,  0.00000000e+00,\n",
      "        0.00000000e+00,  0.00000000e+00,  0.00000000e+00,  0.00000000e+00,\n",
      "        0.00000000e+00,  0.00000000e+00,  0.00000000e+00,  0.00000000e+00,\n",
      "        0.00000000e+00,  0.00000000e+00,  0.00000000e+00,  0.00000000e+00,\n",
      "        0.00000000e+00,  0.00000000e+00,  0.00000000e+00,  0.00000000e+00,\n",
      "        0.00000000e+00,  0.00000000e+00,  0.00000000e+00,  0.00000000e+00,\n",
      "        0.00000000e+00,  0.00000000e+00,  0.00000000e+00,  0.00000000e+00,\n",
      "        0.00000000e+00,  0.00000000e+00,  0.00000000e+00,  0.00000000e+00,\n",
      "        0.00000000e+00,  0.00000000e+00,  0.00000000e+00,  0.00000000e+00,\n",
      "        0.00000000e+00,  0.00000000e+00,  0.00000000e+00,  0.00000000e+00,\n",
      "        9.64929998e-01,  6.48841411e-02,  1.38856709e+00, -5.28375804e-02,\n",
      "        2.61633582e-02, -7.25698397e-02,  9.95619059e-01, -1.07870981e-01,\n",
      "       -2.28458848e-02, -4.52362262e-02,  7.26182386e-02,  8.14487487e-02,\n",
      "        1.34776663e-02,  4.94918674e-02,  9.34736989e-03,  1.20270208e-01,\n",
      "        2.29341928e-02, -3.86192687e-02, -5.45186661e-02,  7.38086477e-02,\n",
      "       -9.99015011e-03, -2.21430846e-02, -7.36744776e-02, -8.60983804e-02],\n",
      "      dtype=float32), array(-0., dtype=float32), False, {'reward_forward': 0.0, 'reward_ctrl': 0.0, 'reward_contact': 0.0, 'reward_survive': 5.0, 'reward_move': 9.964929987825244, 'agent_done': False, 'reward_remaining': 0.0})\n"
     ]
    }
   ],
   "source": [
    "p = multiprocessing.Process(target=f).start()"
   ]
  },
  {
   "cell_type": "code",
   "execution_count": null,
   "metadata": {},
   "outputs": [],
   "source": [
    "from "
   ]
  },
  {
   "cell_type": "code",
   "execution_count": 6,
   "metadata": {},
   "outputs": [
    {
     "ename": "AttributeError",
     "evalue": "'NoneType' object has no attribute 'join'",
     "output_type": "error",
     "traceback": [
      "\u001b[0;31m---------------------------------------------------------------------------\u001b[0m",
      "\u001b[0;31mAttributeError\u001b[0m                            Traceback (most recent call last)",
      "\u001b[0;32m<ipython-input-6-161d50ac80d0>\u001b[0m in \u001b[0;36m<module>\u001b[0;34m\u001b[0m\n\u001b[0;32m----> 1\u001b[0;31m \u001b[0mp\u001b[0m\u001b[0;34m.\u001b[0m\u001b[0mjoin\u001b[0m\u001b[0;34m(\u001b[0m\u001b[0;34m)\u001b[0m\u001b[0;34m\u001b[0m\u001b[0;34m\u001b[0m\u001b[0m\n\u001b[0m",
      "\u001b[0;31mAttributeError\u001b[0m: 'NoneType' object has no attribute 'join'"
     ]
    }
   ],
   "source": [
    "p.join()"
   ]
  },
  {
   "cell_type": "code",
   "execution_count": 8,
   "metadata": {},
   "outputs": [
    {
     "name": "stdout",
     "output_type": "stream",
     "text": [
      "Creating agent humanoid_blocker\n",
      "Reading agent XML from: /home/sergei/git/chai/multiagent-competition/gym_compete/new_envs/assets/humanoid_body.xml\n",
      "Creating agent humanoid\n",
      "Reading agent XML from: /home/sergei/git/chai/multiagent-competition/gym_compete/new_envs/assets/humanoid_body.xml\n",
      "Scene XML path: /home/sergei/git/chai/multiagent-competition/gym_compete/new_envs/assets/world_body.humanoid_body.humanoid_body.xml\n",
      "Created Scene with agents\n"
     ]
    }
   ],
   "source": [
    "from gym_compete_rllib.load_gym_compete_policy import get_policy_value_nets\n",
    "from gym_compete_rllib.gym_compete_to_rllib import model_to_callable\n",
    "    \n",
    "env_name = 'multicomp/YouShallNotPassHumans-v0'\n",
    "policy_model_1 = get_policy_value_nets(env_name, 1)['policy']"
   ]
  },
  {
   "cell_type": "code",
   "execution_count": 15,
   "metadata": {},
   "outputs": [
    {
     "name": "stdout",
     "output_type": "stream",
     "text": [
      "4.22 ms ± 155 µs per loop (mean ± std. dev. of 7 runs, 100 loops each)\n"
     ]
    }
   ],
   "source": [
    "%timeit policy_model_1(np.zeros((5, 380))).numpy()"
   ]
  },
  {
   "cell_type": "code",
   "execution_count": 2,
   "metadata": {},
   "outputs": [
    {
     "name": "stderr",
     "output_type": "stream",
     "text": [
      "2020-08-19 21:44:04,243\tINFO resource_spec.py:204 -- Starting Ray with 3.76 GiB memory available for workers and up to 1.9 GiB for objects. You can adjust these settings with ray.init(memory=<bytes>, object_store_memory=<bytes>).\n",
      "2020-08-19 21:44:04,355\tWARNING services.py:923 -- Redis failed to start, retrying now.\n",
      "2020-08-19 21:44:04,579\tWARNING services.py:923 -- Redis failed to start, retrying now.\n",
      "2020-08-19 21:44:04,727\tINFO services.py:1163 -- View the Ray dashboard at \u001b[1m\u001b[32mlocalhost:8268\u001b[39m\u001b[22m\n"
     ]
    },
    {
     "data": {
      "text/plain": [
       "{'node_ip_address': '172.23.134.155',\n",
       " 'raylet_ip_address': '172.23.134.155',\n",
       " 'redis_address': '172.23.134.155:13943',\n",
       " 'object_store_address': '/tmp/ray/session_2020-08-19_21-44-04_242647_20418/sockets/plasma_store',\n",
       " 'raylet_socket_name': '/tmp/ray/session_2020-08-19_21-44-04_242647_20418/sockets/raylet',\n",
       " 'webui_url': 'localhost:8268',\n",
       " 'session_dir': '/tmp/ray/session_2020-08-19_21-44-04_242647_20418'}"
      ]
     },
     "execution_count": 2,
     "metadata": {},
     "output_type": "execute_result"
    }
   ],
   "source": [
    "import ray, pickle\n",
    "ray.shutdown()\n",
    "ray.init(ignore_reinit_error=True)"
   ]
  },
  {
   "cell_type": "code",
   "execution_count": 14,
   "metadata": {},
   "outputs": [
    {
     "name": "stdout",
     "output_type": "stream",
     "text": [
      "6.02 ms ± 135 µs per loop (mean ± std. dev. of 7 runs, 100 loops each)\n"
     ]
    }
   ],
   "source": [
    "%timeit policy_model_1.predict(np.zeros((1, 380)))"
   ]
  },
  {
   "cell_type": "code",
   "execution_count": 12,
   "metadata": {},
   "outputs": [],
   "source": [
    "from gym_compete_rllib.load_gym_compete_policy import get_policy_value_nets\n",
    "from gym_compete_rllib.gym_compete_to_rllib import model_to_callable"
   ]
  },
  {
   "cell_type": "code",
   "execution_count": 50,
   "metadata": {},
   "outputs": [],
   "source": [
    "@ray.remote\n",
    "class act(object):\n",
    "    def __init__(self):\n",
    "        import tensorflow as tf\n",
    "        tf.compat.v1.enable_eager_execution()\n",
    "        from gym_compete_rllib.load_gym_compete_policy import get_policy_value_nets\n",
    "        from gym_compete_rllib.gym_compete_to_rllib import model_to_callable\n",
    "\n",
    "        env_name = 'multicomp/YouShallNotPassHumans-v0'\n",
    "        self.policy_model_1 = get_policy_value_nets(env_name, 1)['policy']\n",
    "    def f_pref(self, x):\n",
    "        return self.policy_model_1.predict(x)"
   ]
  },
  {
   "cell_type": "code",
   "execution_count": 51,
   "metadata": {},
   "outputs": [
    {
     "name": "stdout",
     "output_type": "stream",
     "text": [
      "\u001b[2m\u001b[36m(pid=21225)\u001b[0m Creating agent humanoid_blocker\n",
      "\u001b[2m\u001b[36m(pid=21225)\u001b[0m Reading agent XML from: /home/sergei/git/chai/multiagent-competition/gym_compete/new_envs/assets/humanoid_body.xml\n",
      "\u001b[2m\u001b[36m(pid=21225)\u001b[0m Creating agent humanoid\n",
      "\u001b[2m\u001b[36m(pid=21225)\u001b[0m Reading agent XML from: /home/sergei/git/chai/multiagent-competition/gym_compete/new_envs/assets/humanoid_body.xml\n",
      "\u001b[2m\u001b[36m(pid=21225)\u001b[0m Scene XML path: /home/sergei/git/chai/multiagent-competition/gym_compete/new_envs/assets/world_body.humanoid_body.humanoid_body.xml\n",
      "\u001b[2m\u001b[36m(pid=21225)\u001b[0m Created Scene with agents\n"
     ]
    }
   ],
   "source": [
    "a = act.remote()"
   ]
  },
  {
   "cell_type": "code",
   "execution_count": 52,
   "metadata": {},
   "outputs": [],
   "source": [
    "x = ray.put(np.zeros((1, 380)))"
   ]
  },
  {
   "cell_type": "code",
   "execution_count": 53,
   "metadata": {},
   "outputs": [
    {
     "data": {
      "text/plain": [
       "array([[-0.37638167,  0.70777047,  0.8838717 , -1.6071653 ,  0.35197192,\n",
       "        -0.20591469, -0.62601876, -1.8653111 ,  1.4507297 ,  0.22645615,\n",
       "         1.1303753 ,  1.3561769 , -0.31632483,  0.14799188,  2.1212933 ,\n",
       "         1.609288  ,  0.9291607 ]], dtype=float32)"
      ]
     },
     "execution_count": 53,
     "metadata": {},
     "output_type": "execute_result"
    }
   ],
   "source": [
    "ray.get(a.f_pref.remote(x))"
   ]
  },
  {
   "cell_type": "code",
   "execution_count": 55,
   "metadata": {},
   "outputs": [
    {
     "name": "stdout",
     "output_type": "stream",
     "text": [
      "45.5 ms ± 1.68 ms per loop (mean ± std. dev. of 7 runs, 10 loops each)\n"
     ]
    }
   ],
   "source": [
    "%timeit ray.get(a.f_pref.remote(x))"
   ]
  },
  {
   "cell_type": "code",
   "execution_count": 41,
   "metadata": {},
   "outputs": [
    {
     "data": {
      "text/plain": [
       "<tf.Tensor 'Const_28:0' shape=(1, 17) dtype=float32>"
      ]
     },
     "execution_count": 41,
     "metadata": {},
     "output_type": "execute_result"
    }
   ],
   "source": []
  },
  {
   "cell_type": "code",
   "execution_count": 34,
   "metadata": {},
   "outputs": [],
   "source": [
    "import tensorflow as tf"
   ]
  },
  {
   "cell_type": "code",
   "execution_count": 35,
   "metadata": {},
   "outputs": [
    {
     "data": {
      "text/plain": [
       "False"
      ]
     },
     "execution_count": 35,
     "metadata": {},
     "output_type": "execute_result"
    }
   ],
   "source": [
    "tf.executing_eagerly()"
   ]
  },
  {
   "cell_type": "code",
   "execution_count": 35,
   "metadata": {},
   "outputs": [
    {
     "ename": "TypeError",
     "evalue": "cannot pickle '_thread.RLock' object",
     "output_type": "error",
     "traceback": [
      "\u001b[0;31m---------------------------------------------------------------------------\u001b[0m",
      "\u001b[0;31mTypeError\u001b[0m                                 Traceback (most recent call last)",
      "\u001b[0;32m<ipython-input-35-c5fe10b9b3dd>\u001b[0m in \u001b[0;36m<module>\u001b[0;34m\u001b[0m\n\u001b[0;32m----> 1\u001b[0;31m \u001b[0mpickle\u001b[0m\u001b[0;34m.\u001b[0m\u001b[0mdumps\u001b[0m\u001b[0;34m(\u001b[0m\u001b[0mpolicy_model_1\u001b[0m\u001b[0;34m)\u001b[0m\u001b[0;34m\u001b[0m\u001b[0;34m\u001b[0m\u001b[0m\n\u001b[0m",
      "\u001b[0;31mTypeError\u001b[0m: cannot pickle '_thread.RLock' object"
     ]
    }
   ],
   "source": [
    "pickle.dumps(policy_model_1)"
   ]
  },
  {
   "cell_type": "code",
   "execution_count": 40,
   "metadata": {},
   "outputs": [
    {
     "data": {
      "text/plain": [
       "166.66666666666666"
      ]
     },
     "execution_count": 40,
     "metadata": {},
     "output_type": "execute_result"
    }
   ],
   "source": [
    "1/6e-3"
   ]
  },
  {
   "cell_type": "code",
   "execution_count": 41,
   "metadata": {},
   "outputs": [
    {
     "data": {
      "text/plain": [
       "22.72727272727273"
      ]
     },
     "execution_count": 41,
     "metadata": {},
     "output_type": "execute_result"
    }
   ],
   "source": [
    "1/44e-3"
   ]
  },
  {
   "cell_type": "code",
   "execution_count": 12,
   "metadata": {},
   "outputs": [],
   "source": [
    "q_args = multiprocessing.Queue()\n",
    "q_rets = multiprocessing.Queue()\n",
    "\n",
    "def worker(q_args, q_rets):\n",
    "    while True:\n",
    "#         print('waiting')\n",
    "        obj = q_args.get()\n",
    "#         print('got', obj)\n",
    "        q_rets.put(obj)\n",
    "#         print('put')\n",
    "\n",
    "\n",
    "p = multiprocessing.Process(target=worker, args=(q_args, q_rets))"
   ]
  },
  {
   "cell_type": "code",
   "execution_count": 13,
   "metadata": {},
   "outputs": [],
   "source": [
    "p.start()"
   ]
  },
  {
   "cell_type": "code",
   "execution_count": 14,
   "metadata": {},
   "outputs": [],
   "source": [
    "def g_remote(x):\n",
    "    q_args.put(x)\n",
    "    return q_rets.get()"
   ]
  },
  {
   "cell_type": "code",
   "execution_count": 15,
   "metadata": {},
   "outputs": [
    {
     "name": "stdout",
     "output_type": "stream",
     "text": [
      "318 µs ± 15.3 µs per loop (mean ± std. dev. of 7 runs, 1000 loops each)\n"
     ]
    }
   ],
   "source": [
    "%timeit g_remote(1)"
   ]
  },
  {
   "cell_type": "code",
   "execution_count": null,
   "metadata": {},
   "outputs": [],
   "source": []
  }
 ],
 "metadata": {
  "kernelspec": {
   "display_name": "Python 3",
   "language": "python",
   "name": "python3"
  },
  "language_info": {
   "codemirror_mode": {
    "name": "ipython",
    "version": 3
   },
   "file_extension": ".py",
   "mimetype": "text/x-python",
   "name": "python",
   "nbconvert_exporter": "python",
   "pygments_lexer": "ipython3",
   "version": "3.8.3"
  }
 },
 "nbformat": 4,
 "nbformat_minor": 4
}
