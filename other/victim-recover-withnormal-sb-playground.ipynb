{
 "cells": [
  {
   "cell_type": "code",
   "execution_count": 42,
   "metadata": {},
   "outputs": [],
   "source": [
    "from config import build_trainer_config\n",
    "from train import ray_init\n",
    "from config import get_trainer, get_config_victim_recover_sb\n",
    "import numpy as np\n",
    "import pickle"
   ]
  },
  {
   "cell_type": "code",
   "execution_count": 28,
   "metadata": {},
   "outputs": [
    {
     "data": {
      "text/plain": [
       "{'node_ip_address': '172.25.122.154',\n",
       " 'raylet_ip_address': '172.25.122.154',\n",
       " 'redis_address': '172.25.122.154:6379',\n",
       " 'object_store_address': '/tmp/session_2020-09-21_20-06-15_282882_570/sockets/plasma_store',\n",
       " 'raylet_socket_name': '/tmp/session_2020-09-21_20-06-15_282882_570/sockets/raylet',\n",
       " 'webui_url': 'localhost:8265',\n",
       " 'session_dir': '/tmp/session_2020-09-21_20-06-15_282882_570'}"
      ]
     },
     "execution_count": 28,
     "metadata": {},
     "output_type": "execute_result"
    }
   ],
   "source": [
    "ray_init()"
   ]
  },
  {
   "cell_type": "code",
   "execution_count": 29,
   "metadata": {},
   "outputs": [],
   "source": [
    "c = get_config_victim_recover_sb()\n",
    "c['num_workers'] = 0"
   ]
  },
  {
   "cell_type": "code",
   "execution_count": 30,
   "metadata": {},
   "outputs": [
    {
     "name": "stdout",
     "output_type": "stream",
     "text": [
      "Creating agent humanoid_blocker\n",
      "Reading agent XML from: /home/sergei/git/chai/multiagent-competition/gym_compete/new_envs/assets/humanoid_body.xml\n",
      "Creating agent humanoid\n",
      "Reading agent XML from: /home/sergei/git/chai/multiagent-competition/gym_compete/new_envs/assets/humanoid_body.xml\n",
      "Scene XML path: /home/sergei/git/chai/multiagent-competition/gym_compete/new_envs/assets/world_body.humanoid_body.humanoid_body.xml\n",
      "Created Scene with agents\n"
     ]
    }
   ],
   "source": [
    "c_rl = build_trainer_config(c)"
   ]
  },
  {
   "cell_type": "code",
   "execution_count": 31,
   "metadata": {},
   "outputs": [
    {
     "name": "stdout",
     "output_type": "stream",
     "text": [
      "Creating agent humanoid_blocker\n",
      "Reading agent XML from: /home/sergei/git/chai/multiagent-competition/gym_compete/new_envs/assets/humanoid_body.xml\n",
      "Creating agent humanoid\n",
      "Reading agent XML from: /home/sergei/git/chai/multiagent-competition/gym_compete/new_envs/assets/humanoid_body.xml\n",
      "Scene XML path: /home/sergei/git/chai/multiagent-competition/gym_compete/new_envs/assets/world_body.humanoid_body.humanoid_body.xml\n",
      "Created Scene with agents\n",
      "Creating agent humanoid_blocker\n",
      "Reading agent XML from: /home/sergei/git/chai/multiagent-competition/gym_compete/new_envs/assets/humanoid_body.xml\n",
      "Creating agent humanoid\n",
      "Reading agent XML from: /home/sergei/git/chai/multiagent-competition/gym_compete/new_envs/assets/humanoid_body.xml\n",
      "Scene XML path: /home/sergei/git/chai/multiagent-competition/gym_compete/new_envs/assets/world_body.humanoid_body.humanoid_body.xml\n",
      "Created Scene with agents\n",
      "Not setting NN weights\n",
      "Loading normalization\n",
      "It looks like variables [\"<tf.Varaible player_1/Variable:0 shape=() <dtype: 'int64'>>\", \"<tf.Varaible player_1/Variable:0 shape=() <dtype: 'int64'>>\", \"<tf.Varaible player_1/Variable:0 shape=() <dtype: 'int64'>>\", \"<tf.Varaible player_1/Variable:0 shape=() <dtype: 'int64'>>\", \"<tf.Varaible player_1/Variable:0 shape=() <dtype: 'int64'>>\", \"<tf.Varaible player_1/Variable:0 shape=() <dtype: 'int64'>>\", \"<tf.Varaible player_1/Variable:0 shape=() <dtype: 'int64'>>\", \"<tf.Varaible player_1/Variable:0 shape=() <dtype: 'int64'>>\", \"<tf.Varaible player_1/Variable:0 shape=() <dtype: 'int64'>>\", \"<tf.Varaible player_1/Variable:0 shape=() <dtype: 'int64'>>\", \"<tf.Varaible player_1/Variable:0 shape=() <dtype: 'int64'>>\", \"<tf.Varaible player_1/Variable:0 shape=() <dtype: 'int64'>>\", \"<tf.Varaible player_1/Variable:0 shape=() <dtype: 'int64'>>\", \"<tf.Varaible player_1/Variable:0 shape=() <dtype: 'int64'>>\", \"<tf.Varaible player_1/Variable:0 shape=() <dtype: 'int64'>>\", \"<tf.Varaible player_1/Variable:0 shape=() <dtype: 'int64'>>\", \"<tf.Varaible player_1/Variable:0 shape=() <dtype: 'int64'>>\", \"<tf.Varaible player_1/Variable:0 shape=() <dtype: 'int64'>>\", \"<tf.Varaible player_1/Variable:0 shape=() <dtype: 'int64'>>\", \"<tf.Varaible player_1/Variable:0 shape=() <dtype: 'int64'>>\", \"<tf.Varaible player_1/Variable:0 shape=() <dtype: 'int64'>>\"] were created as part of <gym_compete_rllib.gym_compete_to_rllib.GymCompetePretrainedModel object at 0x7f16187f5670> but does not appear in model.variables() ([\"<tf.Varaible player_1/param/std:0 shape=(380,) <dtype: 'float32'>>\", \"<tf.Varaible h2/bias:0 shape=(64,) <dtype: 'float32'>>\", \"<tf.Varaible player_1/param/clip:0 shape=(1,) <dtype: 'float32'>>\", \"<tf.Varaible player_1/var/std:0 shape=(1, 17) <dtype: 'float32'>>\", \"<tf.Varaible h1/bias:0 shape=(64,) <dtype: 'float32'>>\", \"<tf.Varaible value/bias:0 shape=(1,) <dtype: 'float32'>>\", \"<tf.Varaible player_1/param/mean:0 shape=(380,) <dtype: 'float32'>>\", \"<tf.Varaible dense_8/kernel:0 shape=(380, 64) <dtype: 'float32'>>\", \"<tf.Varaible player_1/param/clip:0 shape=(1,) <dtype: 'float32'>>\", \"<tf.Varaible player_1/param/mean:0 shape=(380,) <dtype: 'float32'>>\", \"<tf.Varaible player_1/param/std:0 shape=(380,) <dtype: 'float32'>>\", \"<tf.Varaible dense_9/kernel:0 shape=(64, 64) <dtype: 'float32'>>\", \"<tf.Varaible player_1/param/mean:0 shape=(1,) <dtype: 'float32'>>\", \"<tf.Varaible dense_8/bias:0 shape=(64,) <dtype: 'float32'>>\", \"<tf.Varaible dense_9/bias:0 shape=(64,) <dtype: 'float32'>>\", \"<tf.Varaible mean/kernel:0 shape=(64, 17) <dtype: 'float32'>>\", \"<tf.Varaible h2/kernel:0 shape=(64, 64) <dtype: 'float32'>>\", \"<tf.Varaible mean/bias:0 shape=(17,) <dtype: 'float32'>>\", \"<tf.Varaible player_1/param/std:0 shape=(1,) <dtype: 'float32'>>\", \"<tf.Varaible h1/kernel:0 shape=(380, 64) <dtype: 'float32'>>\", \"<tf.Varaible value/kernel:0 shape=(64, 1) <dtype: 'float32'>>\"]). Did you forget to call model.register_variables() on the variables in question?\n",
      "Setting NN weights\n",
      "Loading normalization\n",
      "It looks like variables [\"<tf.Varaible player_2/Variable:0 shape=() <dtype: 'int64'>>\", \"<tf.Varaible player_2/Variable:0 shape=() <dtype: 'int64'>>\", \"<tf.Varaible player_2/Variable:0 shape=() <dtype: 'int64'>>\", \"<tf.Varaible player_2/Variable:0 shape=() <dtype: 'int64'>>\", \"<tf.Varaible player_2/Variable:0 shape=() <dtype: 'int64'>>\", \"<tf.Varaible player_2/Variable:0 shape=() <dtype: 'int64'>>\", \"<tf.Varaible player_2/Variable:0 shape=() <dtype: 'int64'>>\", \"<tf.Varaible player_2/Variable:0 shape=() <dtype: 'int64'>>\", \"<tf.Varaible player_2/Variable:0 shape=() <dtype: 'int64'>>\", \"<tf.Varaible player_2/Variable:0 shape=() <dtype: 'int64'>>\", \"<tf.Varaible player_2/Variable:0 shape=() <dtype: 'int64'>>\", \"<tf.Varaible player_2/Variable:0 shape=() <dtype: 'int64'>>\", \"<tf.Varaible player_2/Variable:0 shape=() <dtype: 'int64'>>\", \"<tf.Varaible player_2/Variable:0 shape=() <dtype: 'int64'>>\", \"<tf.Varaible player_2/Variable:0 shape=() <dtype: 'int64'>>\", \"<tf.Varaible player_2/Variable:0 shape=() <dtype: 'int64'>>\", \"<tf.Varaible player_2/Variable:0 shape=() <dtype: 'int64'>>\", \"<tf.Varaible player_2/Variable:0 shape=() <dtype: 'int64'>>\", \"<tf.Varaible player_2/Variable:0 shape=() <dtype: 'int64'>>\", \"<tf.Varaible player_2/Variable:0 shape=() <dtype: 'int64'>>\", \"<tf.Varaible player_2/Variable:0 shape=() <dtype: 'int64'>>\"] were created as part of <gym_compete_rllib.gym_compete_to_rllib.GymCompetePretrainedModel object at 0x7f1618753c10> but does not appear in model.variables() ([\"<tf.Varaible player_2/param/mean:0 shape=(380,) <dtype: 'float32'>>\", \"<tf.Varaible mean/bias:0 shape=(17,) <dtype: 'float32'>>\", \"<tf.Varaible h1/kernel:0 shape=(380, 64) <dtype: 'float32'>>\", \"<tf.Varaible player_2/param/std:0 shape=(380,) <dtype: 'float32'>>\", \"<tf.Varaible h2/kernel:0 shape=(64, 64) <dtype: 'float32'>>\", \"<tf.Varaible player_2/param/std:0 shape=(1,) <dtype: 'float32'>>\", \"<tf.Varaible value/kernel:0 shape=(64, 1) <dtype: 'float32'>>\", \"<tf.Varaible player_2/var/std:0 shape=(1, 17) <dtype: 'float32'>>\", \"<tf.Varaible h1/bias:0 shape=(64,) <dtype: 'float32'>>\", \"<tf.Varaible player_2/param/mean:0 shape=(1,) <dtype: 'float32'>>\", \"<tf.Varaible dense_10/bias:0 shape=(64,) <dtype: 'float32'>>\", \"<tf.Varaible player_2/param/clip:0 shape=(1,) <dtype: 'float32'>>\", \"<tf.Varaible player_2/param/clip:0 shape=(1,) <dtype: 'float32'>>\", \"<tf.Varaible value/bias:0 shape=(1,) <dtype: 'float32'>>\", \"<tf.Varaible dense_11/kernel:0 shape=(64, 64) <dtype: 'float32'>>\", \"<tf.Varaible h2/bias:0 shape=(64,) <dtype: 'float32'>>\", \"<tf.Varaible player_2/param/std:0 shape=(380,) <dtype: 'float32'>>\", \"<tf.Varaible dense_10/kernel:0 shape=(380, 64) <dtype: 'float32'>>\", \"<tf.Varaible dense_11/bias:0 shape=(64,) <dtype: 'float32'>>\", \"<tf.Varaible mean/kernel:0 shape=(64, 17) <dtype: 'float32'>>\", \"<tf.Varaible player_2/param/mean:0 shape=(380,) <dtype: 'float32'>>\"]). Did you forget to call model.register_variables() on the variables in question?\n",
      "Creating agent humanoid_blocker\n",
      "Reading agent XML from: /home/sergei/git/chai/multiagent-competition/gym_compete/new_envs/assets/humanoid_body.xml\n",
      "Creating agent humanoid\n",
      "Reading agent XML from: /home/sergei/git/chai/multiagent-competition/gym_compete/new_envs/assets/humanoid_body.xml\n",
      "Scene XML path: /home/sergei/git/chai/multiagent-competition/gym_compete/new_envs/assets/world_body.humanoid_body.humanoid_body.xml\n",
      "Created Scene with agents\n",
      "Creating agent humanoid_blocker\n",
      "Reading agent XML from: /home/sergei/git/chai/multiagent-competition/gym_compete/new_envs/assets/humanoid_body.xml\n",
      "Creating agent humanoid\n",
      "Reading agent XML from: /home/sergei/git/chai/multiagent-competition/gym_compete/new_envs/assets/humanoid_body.xml\n",
      "Scene XML path: /home/sergei/git/chai/multiagent-competition/gym_compete/new_envs/assets/world_body.humanoid_body.humanoid_body.xml\n",
      "Created Scene with agents\n",
      "Creating agent humanoid_blocker\n",
      "Reading agent XML from: /home/sergei/git/chai/multiagent-competition/gym_compete/new_envs/assets/humanoid_body.xml\n",
      "Creating agent humanoid\n",
      "Reading agent XML from: /home/sergei/git/chai/multiagent-competition/gym_compete/new_envs/assets/humanoid_body.xml\n",
      "Scene XML path: /home/sergei/git/chai/multiagent-competition/gym_compete/new_envs/assets/world_body.humanoid_body.humanoid_body.xml\n",
      "Created Scene with agents\n",
      "Creating agent humanoid_blocker\n",
      "Reading agent XML from: /home/sergei/git/chai/multiagent-competition/gym_compete/new_envs/assets/humanoid_body.xml\n",
      "Creating agent humanoid\n",
      "Reading agent XML from: /home/sergei/git/chai/multiagent-competition/gym_compete/new_envs/assets/humanoid_body.xml\n",
      "Scene XML path: /home/sergei/git/chai/multiagent-competition/gym_compete/new_envs/assets/world_body.humanoid_body.humanoid_body.xml\n",
      "Created Scene with agents\n",
      "Creating agent humanoid_blocker\n",
      "Reading agent XML from: /home/sergei/git/chai/multiagent-competition/gym_compete/new_envs/assets/humanoid_body.xml\n",
      "Creating agent humanoid\n",
      "Reading agent XML from: /home/sergei/git/chai/multiagent-competition/gym_compete/new_envs/assets/humanoid_body.xml\n",
      "Scene XML path: /home/sergei/git/chai/multiagent-competition/gym_compete/new_envs/assets/world_body.humanoid_body.humanoid_body.xml\n",
      "Created Scene with agents\n",
      "Creating agent humanoid_blocker\n",
      "Reading agent XML from: /home/sergei/git/chai/multiagent-competition/gym_compete/new_envs/assets/humanoid_body.xml\n",
      "Creating agent humanoid\n",
      "Reading agent XML from: /home/sergei/git/chai/multiagent-competition/gym_compete/new_envs/assets/humanoid_body.xml\n",
      "Scene XML path: /home/sergei/git/chai/multiagent-competition/gym_compete/new_envs/assets/world_body.humanoid_body.humanoid_body.xml\n",
      "Created Scene with agents\n",
      "Creating agent humanoid_blocker\n",
      "Reading agent XML from: /home/sergei/git/chai/multiagent-competition/gym_compete/new_envs/assets/humanoid_body.xml\n",
      "Creating agent humanoid\n",
      "Reading agent XML from: /home/sergei/git/chai/multiagent-competition/gym_compete/new_envs/assets/humanoid_body.xml\n",
      "Scene XML path: /home/sergei/git/chai/multiagent-competition/gym_compete/new_envs/assets/world_body.humanoid_body.humanoid_body.xml\n",
      "Created Scene with agents\n",
      "Creating agent humanoid_blocker\n",
      "Reading agent XML from: /home/sergei/git/chai/multiagent-competition/gym_compete/new_envs/assets/humanoid_body.xml\n",
      "Creating agent humanoid\n",
      "Reading agent XML from: /home/sergei/git/chai/multiagent-competition/gym_compete/new_envs/assets/humanoid_body.xml\n",
      "Scene XML path: /home/sergei/git/chai/multiagent-competition/gym_compete/new_envs/assets/world_body.humanoid_body.humanoid_body.xml\n",
      "Created Scene with agents\n",
      "Creating agent humanoid_blocker\n",
      "Reading agent XML from: /home/sergei/git/chai/multiagent-competition/gym_compete/new_envs/assets/humanoid_body.xml\n",
      "Creating agent humanoid\n",
      "Reading agent XML from: /home/sergei/git/chai/multiagent-competition/gym_compete/new_envs/assets/humanoid_body.xml\n",
      "Scene XML path: /home/sergei/git/chai/multiagent-competition/gym_compete/new_envs/assets/world_body.humanoid_body.humanoid_body.xml\n",
      "Created Scene with agents\n"
     ]
    }
   ],
   "source": [
    "trainer = get_trainer(c)"
   ]
  },
  {
   "cell_type": "code",
   "execution_count": 52,
   "metadata": {},
   "outputs": [],
   "source": [
    "inp_fn = '../results/checkpoint-adv-external-3273'\n",
    "trainer.restore(inp_fn)"
   ]
  },
  {
   "cell_type": "code",
   "execution_count": 53,
   "metadata": {},
   "outputs": [
    {
     "data": {
      "text/plain": [
       "dict_keys(['player_1', 'player_2'])"
      ]
     },
     "execution_count": 53,
     "metadata": {},
     "output_type": "execute_result"
    }
   ],
   "source": [
    "trainer.get_weights().keys()"
   ]
  },
  {
   "cell_type": "code",
   "execution_count": 54,
   "metadata": {},
   "outputs": [],
   "source": [
    "policy = 'player_1'\n",
    "w = trainer.get_weights()[policy]\n",
    "out_fn = f\"{inp_fn}-{policy}.pkl\""
   ]
  },
  {
   "cell_type": "code",
   "execution_count": 55,
   "metadata": {},
   "outputs": [],
   "source": [
    "pickle.dump(w, open(out_fn, 'wb'))"
   ]
  },
  {
   "cell_type": "code",
   "execution_count": 47,
   "metadata": {},
   "outputs": [
    {
     "data": {
      "text/plain": [
       "[46.87517,\n",
       " 199.02899,\n",
       " 5.0,\n",
       " 15.197883,\n",
       " 0.2191617,\n",
       " 10.1114645,\n",
       " 0.36380604,\n",
       " 6.003757,\n",
       " 0.2515517,\n",
       " 4.9011273,\n",
       " 46.87517,\n",
       " 199.02899,\n",
       " 5.0,\n",
       " 13.912257,\n",
       " 0.9582336,\n",
       " 10.715745,\n",
       " 0.3345664,\n",
       " 1.2712518,\n",
       " 0.017851094,\n",
       " 1.9710705,\n",
       " 4.552565]"
      ]
     },
     "execution_count": 47,
     "metadata": {},
     "output_type": "execute_result"
    }
   ],
   "source": [
    "[np.linalg.norm(x) for x in trainer.get_weights()['player_1']]"
   ]
  },
  {
   "cell_type": "code",
   "execution_count": 46,
   "metadata": {},
   "outputs": [],
   "source": [
    "trainer.get_policy(policy).set_weights(w)"
   ]
  },
  {
   "cell_type": "code",
   "execution_count": 48,
   "metadata": {},
   "outputs": [
    {
     "data": {
      "text/plain": [
       "[46.87517,\n",
       " 199.02899,\n",
       " 5.0,\n",
       " 15.197883,\n",
       " 0.2191617,\n",
       " 10.1114645,\n",
       " 0.36380604,\n",
       " 6.003757,\n",
       " 0.2515517,\n",
       " 4.9011273,\n",
       " 46.87517,\n",
       " 199.02899,\n",
       " 5.0,\n",
       " 13.912257,\n",
       " 0.9582336,\n",
       " 10.715745,\n",
       " 0.3345664,\n",
       " 1.2712518,\n",
       " 0.017851094,\n",
       " 1.9710705,\n",
       " 4.552565]"
      ]
     },
     "execution_count": 48,
     "metadata": {},
     "output_type": "execute_result"
    }
   ],
   "source": [
    "[np.linalg.norm(x) for x in trainer.get_weights()['player_1']]"
   ]
  },
  {
   "cell_type": "code",
   "execution_count": 50,
   "metadata": {},
   "outputs": [],
   "source": [
    "trainer.get_policy(policy).set_weights([np.zeros_like(x) for x in w])"
   ]
  },
  {
   "cell_type": "code",
   "execution_count": 51,
   "metadata": {},
   "outputs": [
    {
     "data": {
      "text/plain": [
       "[0.0,\n",
       " 0.0,\n",
       " 0.0,\n",
       " 0.0,\n",
       " 0.0,\n",
       " 0.0,\n",
       " 0.0,\n",
       " 0.0,\n",
       " 0.0,\n",
       " 0.0,\n",
       " 0.0,\n",
       " 0.0,\n",
       " 0.0,\n",
       " 0.0,\n",
       " 0.0,\n",
       " 0.0,\n",
       " 0.0,\n",
       " 0.0,\n",
       " 0.0,\n",
       " 0.0,\n",
       " 0.0]"
      ]
     },
     "execution_count": 51,
     "metadata": {},
     "output_type": "execute_result"
    }
   ],
   "source": [
    "[np.linalg.norm(x) for x in trainer.get_weights()['player_1']]"
   ]
  },
  {
   "cell_type": "code",
   "execution_count": null,
   "metadata": {},
   "outputs": [],
   "source": []
  }
 ],
 "metadata": {
  "kernelspec": {
   "display_name": "Python 3",
   "language": "python",
   "name": "python3"
  },
  "language_info": {
   "codemirror_mode": {
    "name": "ipython",
    "version": 3
   },
   "file_extension": ".py",
   "mimetype": "text/x-python",
   "name": "python",
   "nbconvert_exporter": "python",
   "pygments_lexer": "ipython3",
   "version": "3.8.3"
  }
 },
 "nbformat": 4,
 "nbformat_minor": 4
}
