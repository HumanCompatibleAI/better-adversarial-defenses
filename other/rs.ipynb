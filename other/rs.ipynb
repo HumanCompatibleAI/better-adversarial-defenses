{
 "cells": [
  {
   "cell_type": "code",
   "execution_count": 1,
   "metadata": {},
   "outputs": [],
   "source": [
    "from gym_compete_rllib.gym_compete_to_rllib import create_env, MultiAgentToSingleAgent, model_to_callable\n",
    "from gym_compete_rllib.load_gym_compete_policy import get_policy_value_nets\n",
    "from gym_compete_rllib.test_single_agent_env import episode\n",
    "import gym\n",
    "import numpy as np\n",
    "from tqdm import tqdm\n",
    "from matplotlib import pyplot as plt\n",
    "import ray\n",
    "from time import time\n",
    "import pandas as pd\n",
    "from tqdm import tqdm"
   ]
  },
  {
   "cell_type": "code",
   "execution_count": 2,
   "metadata": {},
   "outputs": [
    {
     "name": "stderr",
     "output_type": "stream",
     "text": [
      "2020-08-19 17:41:12,913\tINFO resource_spec.py:204 -- Starting Ray with 3.86 GiB memory available for workers and up to 1.95 GiB for objects. You can adjust these settings with ray.init(memory=<bytes>, object_store_memory=<bytes>).\n",
      "2020-08-19 17:41:13,138\tWARNING services.py:923 -- Redis failed to start, retrying now.\n",
      "2020-08-19 17:41:13,356\tINFO services.py:1163 -- View the Ray dashboard at \u001b[1m\u001b[32mlocalhost:8267\u001b[39m\u001b[22m\n"
     ]
    }
   ],
   "source": [
    "ray.shutdown()\n",
    "info = ray.init(ignore_reinit_error=True, log_to_driver=False)\n",
    "num_workers = 10\n",
    "env_name = 'multicomp/YouShallNotPassHumans-v0'"
   ]
  },
  {
   "cell_type": "code",
   "execution_count": 3,
   "metadata": {},
   "outputs": [
    {
     "name": "stdout",
     "output_type": "stream",
     "text": [
      "Creating agent humanoid_blocker\n",
      "Reading agent XML from: /home/sergei/git/chai/multiagent-competition/gym_compete/new_envs/assets/humanoid_body.xml\n",
      "Creating agent humanoid\n",
      "Reading agent XML from: /home/sergei/git/chai/multiagent-competition/gym_compete/new_envs/assets/humanoid_body.xml\n",
      "Scene XML path: /home/sergei/git/chai/multiagent-competition/gym_compete/new_envs/assets/world_body.humanoid_body.humanoid_body.xml\n",
      "Created Scene with agents\n",
      "Creating agent humanoid_blocker\n",
      "Reading agent XML from: /home/sergei/git/chai/multiagent-competition/gym_compete/new_envs/assets/humanoid_body.xml\n",
      "Creating agent humanoid\n",
      "Reading agent XML from: /home/sergei/git/chai/multiagent-competition/gym_compete/new_envs/assets/humanoid_body.xml\n",
      "Scene XML path: /home/sergei/git/chai/multiagent-competition/gym_compete/new_envs/assets/world_body.humanoid_body.humanoid_body.xml\n",
      "Created Scene with agents\n"
     ]
    }
   ],
   "source": [
    "env = create_env(config=dict(with_video=False, env_name=env_name))\n",
    "policy_model_1 = model_to_callable(get_policy_value_nets(env_name, 1)['policy'])\n",
    "env = MultiAgentToSingleAgent(env_config=dict(env=env, policies={'player_2': policy_model_1}))"
   ]
  },
  {
   "cell_type": "code",
   "execution_count": 4,
   "metadata": {},
   "outputs": [],
   "source": [
    "@ray.remote\n",
    "class Evaluator(object):\n",
    "    \"\"\"Evaluates a policy in the 1-agent env.\"\"\"\n",
    "    def __init__(self, env_name):\n",
    "        env = create_env(config=dict(with_video=False, env_name=env_name))\n",
    "        policy_model_1 = model_to_callable(get_policy_value_nets(env_name, 1)['policy'])\n",
    "        self.env = MultiAgentToSingleAgent(env_config=dict(env=env, policies={'player_2': policy_model_1}))\n",
    "    def episode(self, policy):\n",
    "        return episode(self.env, policy)\n",
    "    \n",
    "def rewards(pool, ps):\n",
    "    \"\"\"Rewards for an array of policies.\"\"\"\n",
    "    return [v for v in pool.map(lambda a, v: a.episode.remote(v), ps)]\n",
    "\n",
    "def compute_rewards(pool, p, total_episodes=100):\n",
    "    \"\"\"Compute rewards using a pool.\"\"\"\n",
    "    return [v for v in pool.map_unordered(lambda a, v: a.episode.remote(v), [p] * total_episodes)]"
   ]
  },
  {
   "cell_type": "code",
   "execution_count": 5,
   "metadata": {},
   "outputs": [],
   "source": [
    "actors = [Evaluator.remote(env_name=env_name) for _ in range(num_workers)]\n",
    "pool = ray.util.ActorPool(actors)"
   ]
  },
  {
   "cell_type": "markdown",
   "metadata": {},
   "source": [
    "# Constant policy output"
   ]
  },
  {
   "cell_type": "code",
   "execution_count": 6,
   "metadata": {},
   "outputs": [],
   "source": [
    "out_size = 17\n",
    "n_population = 10\n",
    "n_children = 2\n",
    "init_std = 2\n",
    "noise_std = 0.1\n",
    "eval_episodes = 20\n",
    "\n",
    "p = np.random.randn(n_population, out_size) * init_std\n",
    "\n",
    "def mutate(p):\n",
    "    p1 = np.repeat(p, n_children, axis=0)\n",
    "    return p1 + np.random.randn(*p1.shape) * noise_std\n",
    "\n",
    "def rewards(pool, ps):\n",
    "    \"\"\"Rewards for an array of policies.\"\"\"\n",
    "    with tqdm(total=len(ps)) as pbar:\n",
    "        def f(a, v):\n",
    "            res = a.episode.remote(v)\n",
    "            pbar.update(1)\n",
    "            return res\n",
    "        \n",
    "        return [v for v in pool.map(f, ps)]"
   ]
  },
  {
   "cell_type": "code",
   "execution_count": 11,
   "metadata": {},
   "outputs": [
    {
     "name": "stderr",
     "output_type": "stream",
     "text": [
      "100%|██████████| 400/400 [01:15<00:00,  5.27it/s]\n"
     ]
    }
   ],
   "source": [
    "to_eval = mutate(p)\n",
    "\n",
    "policies = [ray.put(lambda _, v=v: v) for v in to_eval]\n",
    "policies = [p for p in policies for _ in range(eval_episodes)]\n",
    "rs = rewards(pool, policies)\n",
    "rs = np.array(rs).reshape((len(to_eval), eval_episodes))\n",
    "rs = np.mean(rs, axis=1)"
   ]
  },
  {
   "cell_type": "code",
   "execution_count": 10,
   "metadata": {},
   "outputs": [
    {
     "data": {
      "text/plain": [
       "array([ -6.,  -6.,  -8.,  -9., -10.,  -9., -10., -10., -10., -10.,  -9.,\n",
       "       -10.,  -8., -10., -10.,  -9., -10., -10., -10.,  -9.])"
      ]
     },
     "execution_count": 10,
     "metadata": {},
     "output_type": "execute_result"
    }
   ],
   "source": [
    "rs"
   ]
  },
  {
   "cell_type": "code",
   "execution_count": 12,
   "metadata": {},
   "outputs": [
    {
     "data": {
      "text/plain": [
       "array([ -9.,  -8., -10., -10.,  -8.,  -9.,  -9.,  -9., -10.,  -9., -10.,\n",
       "        -9., -10.,  -9.,  -8.,  -9.,  -8.,  -6.,  -9.,  -9.])"
      ]
     },
     "execution_count": 12,
     "metadata": {},
     "output_type": "execute_result"
    }
   ],
   "source": [
    "rs"
   ]
  },
  {
   "cell_type": "code",
   "execution_count": 13,
   "metadata": {},
   "outputs": [
    {
     "data": {
      "text/plain": [
       "(array([ 5.,  0., 10.,  0.,  0.,  4.,  0.,  0.,  0.,  1.]),\n",
       " array([-10. ,  -9.6,  -9.2,  -8.8,  -8.4,  -8. ,  -7.6,  -7.2,  -6.8,\n",
       "         -6.4,  -6. ]),\n",
       " <a list of 10 Patch objects>)"
      ]
     },
     "execution_count": 13,
     "metadata": {},
     "output_type": "execute_result"
    },
    {
     "data": {
      "image/png": "[encoded data removed]",
      "text/plain": [
       "<Figure size 432x288 with 1 Axes>"
      ]
     },
     "metadata": {
      "needs_background": "light"
     },
     "output_type": "display_data"
    }
   ],
   "source": [
    "plt.hist(rs)"
   ]
  },
  {
   "cell_type": "code",
   "execution_count": null,
   "metadata": {},
   "outputs": [],
   "source": []
  }
 ],
 "metadata": {
  "kernelspec": {
   "display_name": "Python 3",
   "language": "python",
   "name": "python3"
  },
  "language_info": {
   "codemirror_mode": {
    "name": "ipython",
    "version": 3
   },
   "file_extension": ".py",
   "mimetype": "text/x-python",
   "name": "python",
   "nbconvert_exporter": "python",
   "pygments_lexer": "ipython3",
   "version": "3.8.3"
  }
 },
 "nbformat": 4,
 "nbformat_minor": 4
}
