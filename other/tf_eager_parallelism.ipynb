{
 "cells": [
  {
   "cell_type": "code",
   "execution_count": 4,
   "metadata": {},
   "outputs": [],
   "source": [
    "import tensorflow as tf\n",
    "import numpy as np"
   ]
  },
  {
   "cell_type": "code",
   "execution_count": 5,
   "metadata": {},
   "outputs": [
    {
     "data": {
      "text/plain": [
       "True"
      ]
     },
     "execution_count": 5,
     "metadata": {},
     "output_type": "execute_result"
    }
   ],
   "source": [
    "tf.executing_eagerly()"
   ]
  },
  {
   "cell_type": "code",
   "execution_count": 7,
   "metadata": {},
   "outputs": [
    {
     "name": "stdout",
     "output_type": "stream",
     "text": [
      "Downloading data from https://storage.googleapis.com/tensorflow/tf-keras-datasets/mnist.npz\n",
      "11493376/11490434 [==============================] - 0s 0us/step\n"
     ]
    }
   ],
   "source": [
    "mnist = tf.keras.datasets.mnist\n",
    "\n",
    "(x_train, y_train), (x_test, y_test) = mnist.load_data()\n",
    "x_train, x_test = x_train / 255.0, x_test / 255.0\n",
    "y_train = np.array(y_train, dtype=np.int32)"
   ]
  },
  {
   "cell_type": "code",
   "execution_count": 12,
   "metadata": {},
   "outputs": [],
   "source": [
    "model = tf.keras.models.Sequential([\n",
    "  tf.keras.layers.Flatten(input_shape=(28, 28)),\n",
    "  tf.keras.layers.Dense(128, activation='relu'),\n",
    "  tf.keras.layers.Dense(128, activation='relu'),\n",
    "  tf.keras.layers.Dense(128, activation='relu'),\n",
    "  tf.keras.layers.Dense(128, activation='relu'),\n",
    "  tf.keras.layers.Dropout(0.2),\n",
    "  tf.keras.layers.Dense(10)\n",
    "])"
   ]
  },
  {
   "cell_type": "code",
   "execution_count": 39,
   "metadata": {},
   "outputs": [],
   "source": [
    "optimizer = tf.keras.optimizers.Adam()"
   ]
  },
  {
   "cell_type": "code",
   "execution_count": 79,
   "metadata": {},
   "outputs": [],
   "source": [
    "@tf.function\n",
    "def compute_loss_train(minibatch_x, minibatch_y):\n",
    "    with tf.GradientTape() as tape:\n",
    "        y_pred = model(minibatch_x)\n",
    "        loss_obj = tf.nn.sparse_softmax_cross_entropy_with_logits(minibatch_y, y_pred)\n",
    "        loss = tf.reduce_mean(loss_obj)\n",
    "    grads = tape.gradient(loss, model.trainable_variables)\n",
    "    optimizer.apply_gradients(zip(grads, model.trainable_variables))\n",
    "    return loss"
   ]
  },
  {
   "cell_type": "code",
   "execution_count": 88,
   "metadata": {},
   "outputs": [],
   "source": [
    "def train_minibatch(minibatch_size=128):\n",
    "    n_minibatch = len(x_train) // minibatch_size + 1\n",
    "    losses = []\n",
    "    for b in range(n_minibatch):\n",
    "        mb_x = x_train[b * minibatch_size:(b + 1) * minibatch_size]\n",
    "        mb_y = y_train[b * minibatch_size:(b + 1) * minibatch_size]\n",
    "        loss = compute_loss_train(mb_x, mb_y).numpy()\n",
    "        losses.append(loss)\n",
    "    mean_loss = np.mean(losses)\n",
    "    return mean_loss"
   ]
  },
  {
   "cell_type": "code",
   "execution_count": 90,
   "metadata": {},
   "outputs": [
    {
     "name": "stdout",
     "output_type": "stream",
     "text": [
      "1.92 s ± 8.27 ms per loop (mean ± std. dev. of 7 runs, 1 loop each)\n"
     ]
    }
   ],
   "source": [
    "%timeit train_minibatch()"
   ]
  },
  {
   "cell_type": "code",
   "execution_count": 97,
   "metadata": {},
   "outputs": [],
   "source": [
    "model.compile('adam', tf.keras.losses.SparseCategoricalCrossentropy())"
   ]
  },
  {
   "cell_type": "code",
   "execution_count": 99,
   "metadata": {},
   "outputs": [
    {
     "name": "stdout",
     "output_type": "stream",
     "text": [
      "Epoch 1/20\n",
      "469/469 - 2s - loss: 1.9704\n",
      "Epoch 2/20\n",
      "469/469 - 2s - loss: 2.0841\n",
      "Epoch 3/20\n",
      "469/469 - 2s - loss: 2.2076\n",
      "Epoch 4/20\n",
      "469/469 - 2s - loss: 2.0805\n",
      "Epoch 5/20\n",
      "469/469 - 2s - loss: 2.0752\n",
      "Epoch 6/20\n",
      "469/469 - 2s - loss: 2.2377\n",
      "Epoch 7/20\n",
      "469/469 - 2s - loss: 2.2220\n",
      "Epoch 8/20\n",
      "469/469 - 2s - loss: 2.2223\n",
      "Epoch 9/20\n",
      "469/469 - 2s - loss: 2.2812\n",
      "Epoch 10/20\n",
      "469/469 - 2s - loss: 2.2920\n",
      "Epoch 11/20\n",
      "469/469 - 2s - loss: 2.3026\n",
      "Epoch 12/20\n",
      "469/469 - 2s - loss: 2.3026\n",
      "Epoch 13/20\n",
      "469/469 - 2s - loss: 2.3025\n",
      "Epoch 14/20\n",
      "469/469 - 2s - loss: 2.3025\n",
      "Epoch 15/20\n",
      "469/469 - 2s - loss: 2.3025\n",
      "Epoch 16/20\n",
      "469/469 - 2s - loss: 2.3026\n",
      "Epoch 17/20\n",
      "469/469 - 2s - loss: 2.3025\n",
      "Epoch 18/20\n",
      "469/469 - 2s - loss: 2.3024\n",
      "Epoch 19/20\n",
      "469/469 - 2s - loss: 2.3024\n",
      "Epoch 20/20\n",
      "469/469 - 2s - loss: 2.3024\n"
     ]
    },
    {
     "data": {
      "text/plain": [
       "<tensorflow.python.keras.callbacks.History at 0x7f59a01dc750>"
      ]
     },
     "execution_count": 99,
     "metadata": {},
     "output_type": "execute_result"
    }
   ],
   "source": [
    "model.fit(x_train, y_train, batch_size=128, verbose=2, epochs=20)s"
   ]
  },
  {
   "cell_type": "code",
   "execution_count": null,
   "metadata": {},
   "outputs": [],
   "source": []
  },
  {
   "cell_type": "code",
   "execution_count": null,
   "metadata": {},
   "outputs": [],
   "source": []
  },
  {
   "cell_type": "code",
   "execution_count": null,
   "metadata": {},
   "outputs": [],
   "source": []
  },
  {
   "cell_type": "code",
   "execution_count": 56,
   "metadata": {},
   "outputs": [
    {
     "name": "stdout",
     "output_type": "stream",
     "text": [
      "74.6 ms ± 4.18 ms per loop (mean ± std. dev. of 7 runs, 1 loop each)\n"
     ]
    }
   ],
   "source": [
    "%timeit compute_loss_train()"
   ]
  },
  {
   "cell_type": "code",
   "execution_count": 75,
   "metadata": {},
   "outputs": [
    {
     "data": {
      "text/plain": [
       "<tf.Tensor: shape=(), dtype=float32, numpy=0.22579737>"
      ]
     },
     "execution_count": 75,
     "metadata": {},
     "output_type": "execute_result"
    }
   ],
   "source": [
    "tf.function(compute_loss_train)()"
   ]
  },
  {
   "cell_type": "code",
   "execution_count": 54,
   "metadata": {},
   "outputs": [
    {
     "data": {
      "text/plain": [
       "<tf.Tensor: shape=(60000, 10), dtype=float32, numpy=\n",
       "array([[ 1.346983  , -5.256694  ,  1.4213378 , ..., -0.16308315,\n",
       "         1.9537978 , -2.9795372 ],\n",
       "       [11.373805  , -5.1438828 , -1.1088789 , ..., -4.229908  ,\n",
       "        -0.93692875, -4.211445  ],\n",
       "       [-2.1506717 , -6.1678457 , -3.1803238 , ...,  2.6911044 ,\n",
       "        -0.9427343 ,  4.453407  ],\n",
       "       ...,\n",
       "       [-0.9134552 , -1.4624233 , -2.8580995 , ..., -2.3208833 ,\n",
       "         2.3583336 , -0.80597425],\n",
       "       [ 2.6301992 , -4.5024195 , -0.09712442, ..., -5.233919  ,\n",
       "        -2.006183  , -2.9430153 ],\n",
       "       [-0.38782105, -1.2763739 ,  1.1522961 , ..., -0.48857155,\n",
       "         3.4760864 , -0.46510482]], dtype=float32)>"
      ]
     },
     "execution_count": 54,
     "metadata": {},
     "output_type": "execute_result"
    }
   ],
   "source": [
    "model(x_train)"
   ]
  },
  {
   "cell_type": "code",
   "execution_count": null,
   "metadata": {},
   "outputs": [],
   "source": []
  }
 ],
 "metadata": {
  "kernelspec": {
   "display_name": "Python 3",
   "language": "python",
   "name": "python3"
  },
  "language_info": {
   "codemirror_mode": {
    "name": "ipython",
    "version": 3
   },
   "file_extension": ".py",
   "mimetype": "text/x-python",
   "name": "python",
   "nbconvert_exporter": "python",
   "pygments_lexer": "ipython3",
   "version": "3.7.7"
  }
 },
 "nbformat": 4,
 "nbformat_minor": 4
}
