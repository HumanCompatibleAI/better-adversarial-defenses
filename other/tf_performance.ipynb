{
 "cells": [
  {
   "cell_type": "code",
   "execution_count": 1,
   "metadata": {},
   "outputs": [
    {
     "data": {
      "text/plain": [
       "True"
      ]
     },
     "execution_count": 1,
     "metadata": {},
     "output_type": "execute_result"
    }
   ],
   "source": [
    "import tensorflow as tf\n",
    "#tf.compat.v1.disable_eager_execution()\n",
    "tf.executing_eagerly()"
   ]
  },
  {
   "cell_type": "code",
   "execution_count": 2,
   "metadata": {},
   "outputs": [],
   "source": [
    "from gym_compete_rllib.gym_compete_to_rllib import KerasModelModel\n",
    "from gym.spaces import Box, Discrete\n",
    "import numpy as np"
   ]
  },
  {
   "cell_type": "code",
   "execution_count": 3,
   "metadata": {},
   "outputs": [],
   "source": [
    "obs_space = Box(low=0, high=1, shape=(400,))\n",
    "act_space = Box(low=0, high=1, shape=(20,))"
   ]
  },
  {
   "cell_type": "code",
   "execution_count": 4,
   "metadata": {},
   "outputs": [],
   "source": [
    "pnet = tf.keras.Sequential([\n",
    "    tf.keras.layers.Dense(50, input_shape=(400,)),\n",
    "    tf.keras.layers.Dense(50, input_shape=(400,)),\n",
    "    tf.keras.layers.Dense(20, input_shape=(400,))\n",
    "])\n",
    "\n",
    "vnet = tf.keras.Sequential([\n",
    "    tf.keras.layers.Dense(50, input_shape=(400,)),\n",
    "    tf.keras.layers.Dense(50, input_shape=(400,)),\n",
    "    tf.keras.layers.Dense(1, input_shape=(400,))\n",
    "])"
   ]
  },
  {
   "cell_type": "code",
   "execution_count": 5,
   "metadata": {},
   "outputs": [
    {
     "ename": "NameError",
     "evalue": "name 'm' is not defined",
     "output_type": "error",
     "traceback": [
      "\u001b[0;31m---------------------------------------------------------------------------\u001b[0m",
      "\u001b[0;31mNameError\u001b[0m                                 Traceback (most recent call last)",
      "\u001b[0;32m<ipython-input-5-0594e3195e89>\u001b[0m in \u001b[0;36m<module>\u001b[0;34m\u001b[0m\n\u001b[0;32m----> 1\u001b[0;31m \u001b[0mm\u001b[0m\u001b[0;34m.\u001b[0m\u001b[0m_value_out\u001b[0m\u001b[0;34m\u001b[0m\u001b[0;34m\u001b[0m\u001b[0m\n\u001b[0m",
      "\u001b[0;31mNameError\u001b[0m: name 'm' is not defined"
     ]
    }
   ],
   "source": [
    "m._value_out"
   ]
  },
  {
   "cell_type": "code",
   "execution_count": 6,
   "metadata": {},
   "outputs": [],
   "source": [
    "m = KerasModelModel(obs_space=obs_space, action_space=act_space, num_outputs=20, model_config={}, name=\"as\",\n",
    "                policy_net=pnet, value_net=vnet)"
   ]
  },
  {
   "cell_type": "code",
   "execution_count": 7,
   "metadata": {},
   "outputs": [],
   "source": [
    "obs = np.random.randn(20, 400)"
   ]
  },
  {
   "cell_type": "code",
   "execution_count": 8,
   "metadata": {},
   "outputs": [
    {
     "ename": "AttributeError",
     "evalue": "'KerasModelModel' object has no attribute 'forward_pol_val'",
     "output_type": "error",
     "traceback": [
      "\u001b[0;31m---------------------------------------------------------------------------\u001b[0m",
      "\u001b[0;31mAttributeError\u001b[0m                            Traceback (most recent call last)",
      "\u001b[0;32m<ipython-input-8-fe986bac7cda>\u001b[0m in \u001b[0;36m<module>\u001b[0;34m\u001b[0m\n\u001b[0;32m----> 1\u001b[0;31m \u001b[0mget_ipython\u001b[0m\u001b[0;34m(\u001b[0m\u001b[0;34m)\u001b[0m\u001b[0;34m.\u001b[0m\u001b[0mrun_line_magic\u001b[0m\u001b[0;34m(\u001b[0m\u001b[0;34m'timeit'\u001b[0m\u001b[0;34m,\u001b[0m \u001b[0;34m\"m.forward(input_dict={'obs': obs}, state=None, seq_lens=None)\"\u001b[0m\u001b[0;34m)\u001b[0m\u001b[0;34m\u001b[0m\u001b[0;34m\u001b[0m\u001b[0m\n\u001b[0m",
      "\u001b[0;32m/scratch/sergei/miniconda3/envs/adv-tf2/lib/python3.8/site-packages/IPython/core/interactiveshell.py\u001b[0m in \u001b[0;36mrun_line_magic\u001b[0;34m(self, magic_name, line, _stack_depth)\u001b[0m\n\u001b[1;32m   2324\u001b[0m                 \u001b[0mkwargs\u001b[0m\u001b[0;34m[\u001b[0m\u001b[0;34m'local_ns'\u001b[0m\u001b[0;34m]\u001b[0m \u001b[0;34m=\u001b[0m \u001b[0mself\u001b[0m\u001b[0;34m.\u001b[0m\u001b[0mget_local_scope\u001b[0m\u001b[0;34m(\u001b[0m\u001b[0mstack_depth\u001b[0m\u001b[0;34m)\u001b[0m\u001b[0;34m\u001b[0m\u001b[0;34m\u001b[0m\u001b[0m\n\u001b[1;32m   2325\u001b[0m             \u001b[0;32mwith\u001b[0m \u001b[0mself\u001b[0m\u001b[0;34m.\u001b[0m\u001b[0mbuiltin_trap\u001b[0m\u001b[0;34m:\u001b[0m\u001b[0;34m\u001b[0m\u001b[0;34m\u001b[0m\u001b[0m\n\u001b[0;32m-> 2326\u001b[0;31m                 \u001b[0mresult\u001b[0m \u001b[0;34m=\u001b[0m \u001b[0mfn\u001b[0m\u001b[0;34m(\u001b[0m\u001b[0;34m*\u001b[0m\u001b[0margs\u001b[0m\u001b[0;34m,\u001b[0m \u001b[0;34m**\u001b[0m\u001b[0mkwargs\u001b[0m\u001b[0;34m)\u001b[0m\u001b[0;34m\u001b[0m\u001b[0;34m\u001b[0m\u001b[0m\n\u001b[0m\u001b[1;32m   2327\u001b[0m             \u001b[0;32mreturn\u001b[0m \u001b[0mresult\u001b[0m\u001b[0;34m\u001b[0m\u001b[0;34m\u001b[0m\u001b[0m\n\u001b[1;32m   2328\u001b[0m \u001b[0;34m\u001b[0m\u001b[0m\n",
      "\u001b[0;32m<decorator-gen-53>\u001b[0m in \u001b[0;36mtimeit\u001b[0;34m(self, line, cell, local_ns)\u001b[0m\n",
      "\u001b[0;32m/scratch/sergei/miniconda3/envs/adv-tf2/lib/python3.8/site-packages/IPython/core/magic.py\u001b[0m in \u001b[0;36m<lambda>\u001b[0;34m(f, *a, **k)\u001b[0m\n\u001b[1;32m    185\u001b[0m     \u001b[0;31m# but it's overkill for just that one bit of state.\u001b[0m\u001b[0;34m\u001b[0m\u001b[0;34m\u001b[0m\u001b[0;34m\u001b[0m\u001b[0m\n\u001b[1;32m    186\u001b[0m     \u001b[0;32mdef\u001b[0m \u001b[0mmagic_deco\u001b[0m\u001b[0;34m(\u001b[0m\u001b[0marg\u001b[0m\u001b[0;34m)\u001b[0m\u001b[0;34m:\u001b[0m\u001b[0;34m\u001b[0m\u001b[0;34m\u001b[0m\u001b[0m\n\u001b[0;32m--> 187\u001b[0;31m         \u001b[0mcall\u001b[0m \u001b[0;34m=\u001b[0m \u001b[0;32mlambda\u001b[0m \u001b[0mf\u001b[0m\u001b[0;34m,\u001b[0m \u001b[0;34m*\u001b[0m\u001b[0ma\u001b[0m\u001b[0;34m,\u001b[0m \u001b[0;34m**\u001b[0m\u001b[0mk\u001b[0m\u001b[0;34m:\u001b[0m \u001b[0mf\u001b[0m\u001b[0;34m(\u001b[0m\u001b[0;34m*\u001b[0m\u001b[0ma\u001b[0m\u001b[0;34m,\u001b[0m \u001b[0;34m**\u001b[0m\u001b[0mk\u001b[0m\u001b[0;34m)\u001b[0m\u001b[0;34m\u001b[0m\u001b[0;34m\u001b[0m\u001b[0m\n\u001b[0m\u001b[1;32m    188\u001b[0m \u001b[0;34m\u001b[0m\u001b[0m\n\u001b[1;32m    189\u001b[0m         \u001b[0;32mif\u001b[0m \u001b[0mcallable\u001b[0m\u001b[0;34m(\u001b[0m\u001b[0marg\u001b[0m\u001b[0;34m)\u001b[0m\u001b[0;34m:\u001b[0m\u001b[0;34m\u001b[0m\u001b[0;34m\u001b[0m\u001b[0m\n",
      "\u001b[0;32m/scratch/sergei/miniconda3/envs/adv-tf2/lib/python3.8/site-packages/IPython/core/magics/execution.py\u001b[0m in \u001b[0;36mtimeit\u001b[0;34m(self, line, cell, local_ns)\u001b[0m\n\u001b[1;32m   1167\u001b[0m             \u001b[0;32mfor\u001b[0m \u001b[0mindex\u001b[0m \u001b[0;32min\u001b[0m \u001b[0mrange\u001b[0m\u001b[0;34m(\u001b[0m\u001b[0;36m0\u001b[0m\u001b[0;34m,\u001b[0m \u001b[0;36m10\u001b[0m\u001b[0;34m)\u001b[0m\u001b[0;34m:\u001b[0m\u001b[0;34m\u001b[0m\u001b[0;34m\u001b[0m\u001b[0m\n\u001b[1;32m   1168\u001b[0m                 \u001b[0mnumber\u001b[0m \u001b[0;34m=\u001b[0m \u001b[0;36m10\u001b[0m \u001b[0;34m**\u001b[0m \u001b[0mindex\u001b[0m\u001b[0;34m\u001b[0m\u001b[0;34m\u001b[0m\u001b[0m\n\u001b[0;32m-> 1169\u001b[0;31m                 \u001b[0mtime_number\u001b[0m \u001b[0;34m=\u001b[0m \u001b[0mtimer\u001b[0m\u001b[0;34m.\u001b[0m\u001b[0mtimeit\u001b[0m\u001b[0;34m(\u001b[0m\u001b[0mnumber\u001b[0m\u001b[0;34m)\u001b[0m\u001b[0;34m\u001b[0m\u001b[0;34m\u001b[0m\u001b[0m\n\u001b[0m\u001b[1;32m   1170\u001b[0m                 \u001b[0;32mif\u001b[0m \u001b[0mtime_number\u001b[0m \u001b[0;34m>=\u001b[0m \u001b[0;36m0.2\u001b[0m\u001b[0;34m:\u001b[0m\u001b[0;34m\u001b[0m\u001b[0;34m\u001b[0m\u001b[0m\n\u001b[1;32m   1171\u001b[0m                     \u001b[0;32mbreak\u001b[0m\u001b[0;34m\u001b[0m\u001b[0;34m\u001b[0m\u001b[0m\n",
      "\u001b[0;32m/scratch/sergei/miniconda3/envs/adv-tf2/lib/python3.8/site-packages/IPython/core/magics/execution.py\u001b[0m in \u001b[0;36mtimeit\u001b[0;34m(self, number)\u001b[0m\n\u001b[1;32m    167\u001b[0m         \u001b[0mgc\u001b[0m\u001b[0;34m.\u001b[0m\u001b[0mdisable\u001b[0m\u001b[0;34m(\u001b[0m\u001b[0;34m)\u001b[0m\u001b[0;34m\u001b[0m\u001b[0;34m\u001b[0m\u001b[0m\n\u001b[1;32m    168\u001b[0m         \u001b[0;32mtry\u001b[0m\u001b[0;34m:\u001b[0m\u001b[0;34m\u001b[0m\u001b[0;34m\u001b[0m\u001b[0m\n\u001b[0;32m--> 169\u001b[0;31m             \u001b[0mtiming\u001b[0m \u001b[0;34m=\u001b[0m \u001b[0mself\u001b[0m\u001b[0;34m.\u001b[0m\u001b[0minner\u001b[0m\u001b[0;34m(\u001b[0m\u001b[0mit\u001b[0m\u001b[0;34m,\u001b[0m \u001b[0mself\u001b[0m\u001b[0;34m.\u001b[0m\u001b[0mtimer\u001b[0m\u001b[0;34m)\u001b[0m\u001b[0;34m\u001b[0m\u001b[0;34m\u001b[0m\u001b[0m\n\u001b[0m\u001b[1;32m    170\u001b[0m         \u001b[0;32mfinally\u001b[0m\u001b[0;34m:\u001b[0m\u001b[0;34m\u001b[0m\u001b[0;34m\u001b[0m\u001b[0m\n\u001b[1;32m    171\u001b[0m             \u001b[0;32mif\u001b[0m \u001b[0mgcold\u001b[0m\u001b[0;34m:\u001b[0m\u001b[0;34m\u001b[0m\u001b[0;34m\u001b[0m\u001b[0m\n",
      "\u001b[0;32m<magic-timeit>\u001b[0m in \u001b[0;36minner\u001b[0;34m(_it, _timer)\u001b[0m\n",
      "\u001b[0;32m/scratch/sergei/better-adversarial-defenses/other/gym_compete_rllib/gym_compete_to_rllib.py\u001b[0m in \u001b[0;36mforward\u001b[0;34m(self, input_dict, state, seq_lens)\u001b[0m\n\u001b[1;32m    245\u001b[0m     \u001b[0;32mdef\u001b[0m \u001b[0mforward\u001b[0m\u001b[0;34m(\u001b[0m\u001b[0mself\u001b[0m\u001b[0;34m,\u001b[0m \u001b[0minput_dict\u001b[0m\u001b[0;34m,\u001b[0m \u001b[0mstate\u001b[0m\u001b[0;34m,\u001b[0m \u001b[0mseq_lens\u001b[0m\u001b[0;34m)\u001b[0m\u001b[0;34m:\u001b[0m\u001b[0;34m\u001b[0m\u001b[0;34m\u001b[0m\u001b[0m\n\u001b[1;32m    246\u001b[0m         \u001b[0mobs\u001b[0m \u001b[0;34m=\u001b[0m \u001b[0minput_dict\u001b[0m\u001b[0;34m[\u001b[0m\u001b[0;34m\"obs\"\u001b[0m\u001b[0;34m]\u001b[0m\u001b[0;34m\u001b[0m\u001b[0;34m\u001b[0m\u001b[0m\n\u001b[0;32m--> 247\u001b[0;31m         \u001b[0mmodel_out\u001b[0m\u001b[0;34m,\u001b[0m \u001b[0mself\u001b[0m\u001b[0;34m.\u001b[0m\u001b[0m_value_out\u001b[0m \u001b[0;34m=\u001b[0m \u001b[0mself\u001b[0m\u001b[0;34m.\u001b[0m\u001b[0mforward_pol_val\u001b[0m\u001b[0;34m(\u001b[0m\u001b[0mobs\u001b[0m\u001b[0;34m)\u001b[0m\u001b[0;34m\u001b[0m\u001b[0;34m\u001b[0m\u001b[0m\n\u001b[0m\u001b[1;32m    248\u001b[0m         \u001b[0;32mreturn\u001b[0m \u001b[0mmodel_out\u001b[0m\u001b[0;34m,\u001b[0m \u001b[0mstate\u001b[0m\u001b[0;34m\u001b[0m\u001b[0;34m\u001b[0m\u001b[0m\n\u001b[1;32m    249\u001b[0m \u001b[0;34m\u001b[0m\u001b[0m\n",
      "\u001b[0;31mAttributeError\u001b[0m: 'KerasModelModel' object has no attribute 'forward_pol_val'"
     ]
    }
   ],
   "source": [
    "%timeit m.forward(input_dict={'obs': obs}, state=None, seq_lens=None)"
   ]
  },
  {
   "cell_type": "code",
   "execution_count": 31,
   "metadata": {},
   "outputs": [],
   "source": [
    "@tf.function\n",
    "def f_forward(obs):\n",
    "    print(tf.executing_eagerly())\n",
    "    return m.forward(input_dict={'obs': obs}, state=None, seq_lens=None)"
   ]
  },
  {
   "cell_type": "code",
   "execution_count": 32,
   "metadata": {},
   "outputs": [
    {
     "name": "stdout",
     "output_type": "stream",
     "text": [
      "False\n"
     ]
    },
    {
     "data": {
      "text/plain": [
       "(<tf.Tensor: shape=(20, 20), dtype=float32, numpy=\n",
       " array([[-1.63799381e+00,  1.39863884e+00, -4.44597632e-01,\n",
       "         -2.55442798e-01,  3.31775993e-01,  1.94047213e-01,\n",
       "         -5.83950393e-02, -9.24012363e-01,  1.24407101e+00,\n",
       "         -2.07468212e-01,  2.59796190e+00,  8.37783664e-02,\n",
       "         -4.83190209e-01,  4.67563152e-01,  6.29762828e-01,\n",
       "         -4.08564031e-01,  8.77732813e-01, -1.36225557e+00,\n",
       "          2.74372071e-01, -1.46213698e+00],\n",
       "        [-7.46702433e-01, -1.03076625e+00, -5.32428563e-01,\n",
       "          1.35385823e+00, -1.19820106e+00, -2.40921664e+00,\n",
       "          8.36677909e-01, -2.06436419e+00,  1.94021177e+00,\n",
       "          3.17926645e+00, -2.50239325e+00, -2.40322995e+00,\n",
       "         -2.15459108e+00, -1.69154203e+00,  1.52721369e+00,\n",
       "         -1.64050937e+00,  1.85666442e+00,  1.28487551e+00,\n",
       "          6.27347350e-01, -6.46638155e-01],\n",
       "        [-2.27338266e+00, -1.70415461e+00,  2.23543382e+00,\n",
       "          4.83213711e+00, -9.15707350e-01,  3.10449982e+00,\n",
       "          1.16898708e-01, -8.69754851e-01,  7.36415446e-01,\n",
       "          1.39862490e+00, -2.13410974e+00, -8.78817141e-01,\n",
       "         -8.35972667e-01, -2.36651719e-01,  1.13926494e+00,\n",
       "          6.25167429e-01,  3.48124671e+00,  3.18388176e+00,\n",
       "          1.68738651e+00,  9.63688016e-01],\n",
       "        [-3.71966451e-01,  2.09416938e+00, -6.72467291e-01,\n",
       "         -2.50803161e+00, -1.63403046e+00, -2.21701622e+00,\n",
       "         -1.28375924e+00,  1.63605845e+00,  7.48465776e-01,\n",
       "          2.08191007e-01, -5.74526012e-01, -4.92039621e-01,\n",
       "         -2.22504586e-01, -4.05482620e-01,  1.17944098e+00,\n",
       "         -1.26892686e+00,  7.12844878e-02,  1.35340363e-01,\n",
       "          2.53629446e-01, -1.41884351e+00],\n",
       "        [-2.13372207e+00,  7.96328247e-01,  6.78107917e-01,\n",
       "          1.67960572e+00,  1.02412319e+00,  5.23850560e-01,\n",
       "          2.69032502e+00,  8.80993724e-01,  1.96130717e+00,\n",
       "          8.75245810e-01,  5.45460522e-01, -3.99913304e-02,\n",
       "          5.68124771e-01,  1.69643843e+00,  4.44714010e-01,\n",
       "         -1.35053620e-01,  1.58894861e+00,  7.55114794e-01,\n",
       "          1.02237403e+00,  1.33178580e+00],\n",
       "        [-4.13154334e-01,  3.22339153e+00, -2.42888761e+00,\n",
       "         -1.16532016e+00,  1.35330880e+00, -1.21001768e+00,\n",
       "          4.76447970e-01, -1.52866137e+00,  4.28199339e+00,\n",
       "         -2.86285830e+00, -6.69570863e-01, -1.75434244e+00,\n",
       "          2.22384262e+00, -8.79260957e-01,  1.53554535e+00,\n",
       "         -1.27709365e+00,  2.58433163e-01, -1.75491750e+00,\n",
       "          2.18068421e-01, -1.80618632e+00],\n",
       "        [-3.03669814e-02,  1.38533676e+00, -5.07680237e-01,\n",
       "         -5.49927950e-01,  2.86658978e+00, -5.98583639e-01,\n",
       "          4.24314260e-01,  9.34751332e-01,  1.87298369e+00,\n",
       "         -2.93882799e+00,  9.85831261e-01,  5.51705480e-01,\n",
       "          9.67045724e-01,  1.92091954e+00,  2.52841562e-01,\n",
       "         -1.97224927e+00,  1.48079383e+00,  1.11055171e+00,\n",
       "         -1.62216485e-01,  8.40584934e-01],\n",
       "        [ 1.05282831e+00,  2.84372640e+00,  2.07085237e-02,\n",
       "          2.69200623e-01, -1.05791306e+00,  3.97779971e-01,\n",
       "         -5.15714407e-01, -5.08900404e-01,  2.91055655e+00,\n",
       "          4.98585075e-01, -1.65410101e+00, -1.52069643e-01,\n",
       "         -6.28784895e-01, -4.19831187e-01, -1.05290318e+00,\n",
       "          1.92102325e+00,  3.79146904e-01, -3.51655984e+00,\n",
       "         -1.58808374e+00,  2.69389129e+00],\n",
       "        [-1.58419299e+00, -4.88095701e-01,  1.36660933e+00,\n",
       "         -1.21546578e+00,  1.38703239e+00, -5.16425908e-01,\n",
       "          1.33168435e+00,  2.53110021e-01,  1.24843180e-01,\n",
       "          3.50518376e-01, -1.50432393e-01, -2.38893270e+00,\n",
       "         -1.85204551e-01, -1.97397995e+00,  9.47111189e-01,\n",
       "          1.08778620e+00,  2.38618326e+00, -3.20511967e-01,\n",
       "         -4.69680876e-02, -1.01916742e+00],\n",
       "        [-5.20091236e-01, -2.43751717e+00, -1.84542969e-01,\n",
       "         -7.50796124e-02,  4.34760213e-01, -1.33205271e+00,\n",
       "         -2.78597784e+00, -4.26127493e-01,  5.64244315e-02,\n",
       "         -3.04939914e+00,  8.42343196e-02,  1.35047984e+00,\n",
       "         -1.07391655e+00, -6.12568259e-01, -3.20652515e-01,\n",
       "          1.61518943e+00, -8.06319892e-01, -5.55100858e-01,\n",
       "          6.84903920e-01, -3.15701365e+00],\n",
       "        [ 1.97134507e+00,  4.56715137e-01,  1.33197951e+00,\n",
       "         -2.09758234e+00, -1.09732890e+00, -2.64986247e-01,\n",
       "         -7.50413060e-01, -1.68815887e+00, -1.56762755e+00,\n",
       "          1.06777263e+00,  2.15589237e+00,  3.64990568e+00,\n",
       "          1.82279634e+00,  7.41649866e-01, -2.33087683e+00,\n",
       "         -2.33119321e+00, -1.93983352e+00, -5.32754362e-01,\n",
       "          1.09071565e+00, -4.41517293e-01],\n",
       "        [-1.91343403e+00,  1.86609769e+00, -1.28391623e-01,\n",
       "          7.01565886e+00, -3.19233084e+00,  8.98661762e-02,\n",
       "         -2.95537519e+00, -3.62787461e+00,  1.93964154e-01,\n",
       "          5.81186914e+00,  3.34672785e+00,  1.09885657e+00,\n",
       "          4.38924932e+00,  1.41912520e-01, -4.34222430e-01,\n",
       "         -8.89027953e-01, -2.73187041e+00, -4.35076857e+00,\n",
       "         -1.55767620e+00, -2.57343322e-01],\n",
       "        [ 3.19302130e+00, -1.34313691e+00, -2.04219177e-01,\n",
       "         -1.71165073e+00, -1.10931063e+00, -2.90921259e+00,\n",
       "          2.70031929e+00, -9.00297821e-01,  2.42041707e-01,\n",
       "          3.49334240e+00, -3.00104690e+00,  2.71344113e+00,\n",
       "         -2.82021761e+00,  5.66457391e-01, -5.14866734e+00,\n",
       "          2.53567100e+00, -1.71684742e+00,  2.68255734e+00,\n",
       "         -1.53056335e+00,  3.71695971e+00],\n",
       "        [ 3.01096416e+00, -1.80524933e+00,  6.52423739e-01,\n",
       "         -1.10269499e+00,  1.29058301e+00, -1.51527941e+00,\n",
       "         -1.06112075e+00, -1.33545637e+00,  1.87889367e-01,\n",
       "         -1.04033910e-01, -9.86649692e-01,  2.87147474e+00,\n",
       "         -6.84559822e-01,  3.74563456e-01, -3.10843825e+00,\n",
       "          5.63730061e-01, -6.00565553e-01,  1.09756482e+00,\n",
       "          9.48909402e-01, -1.55714905e+00],\n",
       "        [-1.36778247e+00, -1.60056996e+00, -1.52046514e+00,\n",
       "         -4.47048604e-01, -5.41439578e-02, -3.09044421e-01,\n",
       "         -2.09222645e-01,  1.56877053e+00,  9.83558416e-01,\n",
       "          1.60411263e+00, -1.13734186e-01, -2.64203286e+00,\n",
       "          7.87047625e-01,  3.94690245e-01,  1.77874374e+00,\n",
       "          1.50436628e+00, -5.57401776e-01, -1.07862723e+00,\n",
       "         -9.53065634e-01, -1.72470603e-02],\n",
       "        [ 1.82090127e+00, -2.22145414e+00, -9.63601619e-02,\n",
       "          1.79781640e+00,  3.17854136e-01, -1.53987086e+00,\n",
       "          1.65039882e-01, -4.10068178e+00,  1.64103329e+00,\n",
       "         -7.20700026e-01,  8.53008330e-01,  8.78250420e-01,\n",
       "          2.17782879e+00,  2.88282875e-02, -6.03852034e-01,\n",
       "         -1.06649196e+00, -6.74917042e-01, -2.88466907e+00,\n",
       "         -7.08807707e-01, -1.22409797e+00],\n",
       "        [-1.21881032e+00,  6.87519908e-01, -3.22458357e-01,\n",
       "          4.54883546e-01,  1.44433570e+00,  1.59696484e+00,\n",
       "          2.88772607e+00,  3.61406612e+00, -7.77033389e-01,\n",
       "         -6.77610040e-01,  2.00218892e+00,  5.93977332e-01,\n",
       "          2.15637851e+00,  1.19682586e+00, -4.13842440e-01,\n",
       "         -3.57734233e-01,  1.74242759e+00,  4.39325190e+00,\n",
       "         -1.44017112e+00,  4.77432972e-03],\n",
       "        [-1.18550813e+00,  4.35432374e-01,  1.26029801e+00,\n",
       "          1.12191617e+00,  3.69822234e-01,  2.32902374e-02,\n",
       "         -9.98100936e-01, -8.35669637e-01, -5.27241230e-01,\n",
       "         -2.52354205e-01,  7.87416518e-01,  2.29913735e+00,\n",
       "          1.46612525e+00,  1.11134410e+00, -1.44312751e+00,\n",
       "         -1.27174616e+00, -2.36298776e+00, -1.23635221e+00,\n",
       "          5.17943919e-01,  1.32457316e+00],\n",
       "        [ 8.49458396e-01,  2.51068187e+00, -3.10064793e-01,\n",
       "         -1.72919095e+00, -8.30111623e-01,  1.59950352e+00,\n",
       "         -1.76179719e+00,  4.77312803e+00, -9.45446134e-01,\n",
       "          1.23657358e+00,  1.73851418e+00, -4.46524657e-02,\n",
       "          1.75309926e-01,  5.13905764e-01,  8.60111177e-01,\n",
       "          1.27723360e+00,  8.11946511e-01,  9.28534329e-01,\n",
       "         -2.70543814e+00, -2.80608118e-01],\n",
       "        [ 2.43857908e+00, -2.28163266e+00,  5.08418441e-01,\n",
       "         -3.73737669e+00, -1.45083678e+00,  1.95338547e-01,\n",
       "          1.87125158e+00,  1.13073595e-01, -1.52623451e+00,\n",
       "          3.16262913e+00, -2.40187454e+00, -1.62246382e+00,\n",
       "         -7.05720723e-01, -1.26827136e-01, -1.86301327e+00,\n",
       "          1.14968836e+00, -1.91275787e+00, -2.47151208e+00,\n",
       "          1.29090464e+00,  2.52370119e+00]], dtype=float32)>,\n",
       " None)"
      ]
     },
     "execution_count": 32,
     "metadata": {},
     "output_type": "execute_result"
    }
   ],
   "source": [
    "f_forward(obs)"
   ]
  },
  {
   "cell_type": "code",
   "execution_count": 12,
   "metadata": {},
   "outputs": [
    {
     "name": "stdout",
     "output_type": "stream",
     "text": [
      "465 µs ± 14.3 µs per loop (mean ± std. dev. of 7 runs, 1000 loops each)\n"
     ]
    }
   ],
   "source": [
    "%timeit f_forward(obs)"
   ]
  },
  {
   "cell_type": "code",
   "execution_count": 13,
   "metadata": {},
   "outputs": [
    {
     "name": "stdout",
     "output_type": "stream",
     "text": [
      "39.6 ns ± 0.746 ns per loop (mean ± std. dev. of 7 runs, 10000000 loops each)\n"
     ]
    }
   ],
   "source": [
    "%timeit m._value_out"
   ]
  },
  {
   "cell_type": "code",
   "execution_count": null,
   "metadata": {},
   "outputs": [],
   "source": []
  },
  {
   "cell_type": "code",
   "execution_count": 14,
   "metadata": {},
   "outputs": [
    {
     "name": "stdout",
     "output_type": "stream",
     "text": [
      "32.7 ms ± 5.36 ms per loop (mean ± std. dev. of 7 runs, 1 loop each)\n"
     ]
    }
   ],
   "source": [
    "%timeit pnet.predict(obs) + vnet.predict(obs)"
   ]
  },
  {
   "cell_type": "code",
   "execution_count": 16,
   "metadata": {},
   "outputs": [
    {
     "name": "stdout",
     "output_type": "stream",
     "text": [
      "711 µs ± 29.9 µs per loop (mean ± std. dev. of 7 runs, 1000 loops each)\n"
     ]
    }
   ],
   "source": [
    "%timeit vnet(obs)"
   ]
  },
  {
   "cell_type": "code",
   "execution_count": 17,
   "metadata": {},
   "outputs": [
    {
     "data": {
      "text/plain": [
       "<tf.Tensor 'strided_slice:0' shape=(20,) dtype=float32>"
      ]
     },
     "execution_count": 17,
     "metadata": {},
     "output_type": "execute_result"
    }
   ],
   "source": [
    "m._value_out"
   ]
  },
  {
   "cell_type": "code",
   "execution_count": 22,
   "metadata": {},
   "outputs": [],
   "source": [
    "f = tf.function(m.policy_net)"
   ]
  },
  {
   "cell_type": "code",
   "execution_count": 30,
   "metadata": {},
   "outputs": [
    {
     "name": "stdout",
     "output_type": "stream",
     "text": [
      "436 µs ± 10.8 µs per loop (mean ± std. dev. of 7 runs, 1000 loops each)\n"
     ]
    }
   ],
   "source": [
    "%timeit f(obs)"
   ]
  },
  {
   "cell_type": "code",
   "execution_count": 29,
   "metadata": {},
   "outputs": [
    {
     "name": "stdout",
     "output_type": "stream",
     "text": [
      "676 µs ± 5.26 µs per loop (mean ± std. dev. of 7 runs, 1000 loops each)\n"
     ]
    }
   ],
   "source": [
    "%timeit m.policy_net(obs)"
   ]
  },
  {
   "cell_type": "code",
   "execution_count": null,
   "metadata": {},
   "outputs": [],
   "source": []
  }
 ],
 "metadata": {
  "kernelspec": {
   "display_name": "Python 3",
   "language": "python",
   "name": "python3"
  },
  "language_info": {
   "codemirror_mode": {
    "name": "ipython",
    "version": 3
   },
   "file_extension": ".py",
   "mimetype": "text/x-python",
   "name": "python",
   "nbconvert_exporter": "python",
   "pygments_lexer": "ipython3",
   "version": "3.8.5"
  }
 },
 "nbformat": 4,
 "nbformat_minor": 4
}
