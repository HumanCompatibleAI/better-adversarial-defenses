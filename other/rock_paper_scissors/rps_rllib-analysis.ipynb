{
 "cells": [
  {
   "cell_type": "code",
   "execution_count": 60,
   "metadata": {},
   "outputs": [],
   "source": [
    "from ray.tune.analysis import Analysis\n",
    "from matplotlib import pyplot as plt\n",
    "import plotly.express as px"
   ]
  },
  {
   "cell_type": "code",
   "execution_count": 61,
   "metadata": {},
   "outputs": [],
   "source": [
    "analysis = Analysis(\"/home/sergei/ray_results/fixed_vs_learned/\")"
   ]
  },
  {
   "cell_type": "code",
   "execution_count": 62,
   "metadata": {},
   "outputs": [],
   "source": [
    "target = 'policy_reward_mean/learned00'"
   ]
  },
  {
   "cell_type": "code",
   "execution_count": 63,
   "metadata": {},
   "outputs": [],
   "source": [
    "df = analysis.dataframe(metric=target, mode='max')"
   ]
  },
  {
   "cell_type": "code",
   "execution_count": 64,
   "metadata": {},
   "outputs": [
    {
     "data": {
      "text/plain": [
       "Index(['episode_reward_max', 'episode_reward_min', 'episode_reward_mean',\n",
       "       'episode_len_mean', 'episodes_this_iter', 'num_healthy_workers',\n",
       "       'timesteps_total', 'done', 'episodes_total', 'training_iteration',\n",
       "       'experiment_id', 'date', 'timestamp', 'time_this_iter_s',\n",
       "       'time_total_s', 'pid', 'hostname', 'node_ip', 'time_since_restore',\n",
       "       'timesteps_since_restore', 'iterations_since_restore', 'trial_id',\n",
       "       'experiment_tag', 'policy_reward_min/learned00',\n",
       "       'policy_reward_min/learned01', 'policy_reward_max/learned00',\n",
       "       'policy_reward_max/learned01', 'policy_reward_mean/learned00',\n",
       "       'policy_reward_mean/learned01', 'hist_stats/episode_reward',\n",
       "       'hist_stats/episode_lengths', 'hist_stats/policy_learned00_reward',\n",
       "       'hist_stats/policy_learned01_reward', 'sampler_perf/mean_env_wait_ms',\n",
       "       'sampler_perf/mean_processing_ms', 'sampler_perf/mean_inference_ms',\n",
       "       'timers/sample_time_ms', 'timers/sample_throughput',\n",
       "       'timers/learn_time_ms', 'timers/learn_throughput',\n",
       "       'info/num_steps_sampled', 'info/num_steps_trained',\n",
       "       'perf/cpu_util_percent', 'perf/ram_util_percent',\n",
       "       'info/learner/learned00/cur_kl_coeff', 'info/learner/learned00/cur_lr',\n",
       "       'info/learner/learned00/total_loss',\n",
       "       'info/learner/learned00/policy_loss', 'info/learner/learned00/vf_loss',\n",
       "       'info/learner/learned00/vf_explained_var', 'info/learner/learned00/kl',\n",
       "       'info/learner/learned00/entropy',\n",
       "       'info/learner/learned00/entropy_coeff', 'config/fc_units',\n",
       "       'config/lstm_units', 'config/num_workers', 'config/train_batch_size',\n",
       "       'config/train_policies', 'config/train_steps', 'logdir'],\n",
       "      dtype='object')"
      ]
     },
     "execution_count": 64,
     "metadata": {},
     "output_type": "execute_result"
    }
   ],
   "source": [
    "df.columns"
   ]
  },
  {
   "cell_type": "code",
   "execution_count": 65,
   "metadata": {},
   "outputs": [],
   "source": [
    "for k in df.columns:\n",
    "#     if k.startswith('episode'):\n",
    "#         del df[k]\n",
    "    if not (k.startswith('config') or k == target):\n",
    "        del df[k]"
   ]
  },
  {
   "cell_type": "code",
   "execution_count": 14,
   "metadata": {},
   "outputs": [],
   "source": [
    "df = df.sort_values('policy_reward_mean/learned00', ascending=False)"
   ]
  },
  {
   "cell_type": "code",
   "execution_count": 15,
   "metadata": {},
   "outputs": [
    {
     "data": {
      "text/plain": [
       "(array([46., 30.,  9.,  8.,  5.,  1.,  0.,  0.,  0.,  1.]),\n",
       " array([0.3       , 0.65309524, 1.00619048, 1.35928571, 1.71238095,\n",
       "        2.06547619, 2.41857143, 2.77166667, 3.1247619 , 3.47785714,\n",
       "        3.83095238]),\n",
       " <a list of 10 Patch objects>)"
      ]
     },
     "execution_count": 15,
     "metadata": {},
     "output_type": "execute_result"
    },
    {
     "data": {
      "image/png": "[encoded data removed]",
      "text/plain": [
       "<Figure size 432x288 with 1 Axes>"
      ]
     },
     "metadata": {
      "needs_background": "light"
     },
     "output_type": "display_data"
    }
   ],
   "source": [
    "plt.hist(df[target])"
   ]
  },
  {
   "cell_type": "code",
   "execution_count": 16,
   "metadata": {},
   "outputs": [
    {
     "data": {
      "application/vnd.plotly.v1+json": {
       "config": {
        "plotlyServerURL": "https://plot.ly"
       },
       "data": [
        {
         "dimensions": [
          {
           "constraintrange": [
            1.3242636299708703,
            2.28283522127987
           ],
           "label": "policy_reward_mean/learned00",
           "values": [
            3.8309523809523816,
            2.26,
            1.97,
            1.89,
            1.86,
            1.73,
            1.7181818181818185,
            1.68,
            1.5166666666666666,
            1.509090909090909,
            1.48,
            1.4681818181818185,
            1.45,
            1.37,
            1.36,
            1.25,
            1.25,
            1.25,
            1.2,
            1.16,
            1.1523809523809525,
            1.14,
            1.11,
            1.09,
            1,
            0.9727272727272728,
            0.96,
            0.9590909090909092,
            0.9318181818181818,
            0.923809523809524,
            0.88,
            0.86,
            0.86,
            0.8590909090909091,
            0.83,
            0.83,
            0.8166666666666667,
            0.8090909090909091,
            0.8,
            0.77,
            0.76,
            0.76,
            0.7583333333333333,
            0.74,
            0.725,
            0.72,
            0.7,
            0.69,
            0.68,
            0.675,
            0.6727272727272727,
            0.67,
            0.66,
            0.6545454545454545,
            0.65,
            0.65,
            0.65,
            0.64,
            0.64,
            0.6309523809523809,
            0.61,
            0.61,
            0.5928571428571429,
            0.5909090909090909,
            0.5857142857142857,
            0.57,
            0.569047619047619,
            0.5666666666666667,
            0.5636363636363636,
            0.56,
            0.55,
            0.55,
            0.54,
            0.54,
            0.53,
            0.52,
            0.5190476190476191,
            0.5166666666666667,
            0.5166666666666667,
            0.51,
            0.5,
            0.4928571428571429,
            0.4909090909090909,
            0.49,
            0.49,
            0.4785714285714286,
            0.4625,
            0.46,
            0.4545454545454545,
            0.44166666666666665,
            0.44,
            0.4119047619047619,
            0.3954545454545455,
            0.3880952380952381,
            0.3857142857142857,
            0.36,
            0.3547619047619048,
            0.31904761904761897,
            0.31904761904761897,
            0.3
           ]
          },
          {
           "label": "config/fc_units",
           "values": [
            100,
            100,
            1000,
            100,
            100,
            1000,
            47,
            100,
            47,
            10,
            100,
            1000,
            10,
            465,
            465,
            100,
            100,
            100,
            22,
            216,
            100,
            1000,
            47,
            47,
            22,
            216,
            47,
            100,
            22,
            47,
            1000,
            47,
            5,
            216,
            100,
            5,
            1000,
            3,
            1,
            5,
            5,
            216,
            22,
            100,
            10,
            100,
            3,
            1000,
            22,
            5,
            22,
            5,
            216,
            10,
            1000,
            10,
            5,
            10,
            216,
            100,
            1,
            47,
            1,
            47,
            465,
            3,
            3,
            1,
            3,
            3,
            1,
            10,
            465,
            5,
            10,
            10,
            47,
            22,
            5,
            5,
            10,
            465,
            1,
            10,
            5,
            5,
            10,
            3,
            5,
            1,
            5,
            10,
            1000,
            1,
            1,
            1000,
            100,
            5,
            1,
            5
           ]
          },
          {
           "label": "config/lstm_units",
           "values": [
            22,
            216,
            22,
            100,
            10,
            216,
            216,
            100,
            3,
            1,
            216,
            3,
            5,
            5,
            216,
            3,
            216,
            465,
            3,
            216,
            1,
            10,
            22,
            216,
            10,
            465,
            465,
            1000,
            10,
            100,
            1000,
            3,
            1,
            3,
            22,
            465,
            5,
            22,
            22,
            465,
            22,
            465,
            1,
            216,
            1000,
            22,
            216,
            1000,
            1000,
            3,
            465,
            3,
            1,
            216,
            10,
            22,
            10,
            216,
            1,
            1000,
            100,
            1000,
            100,
            465,
            1,
            47,
            465,
            1000,
            1000,
            5,
            3,
            1000,
            3,
            465,
            216,
            465,
            1000,
            1,
            47,
            22,
            1,
            1,
            3,
            100,
            1000,
            100,
            216,
            1000,
            1,
            47,
            100,
            1,
            10,
            3,
            465,
            1,
            1000,
            47,
            3,
            465
           ]
          },
          {
           "label": "config/num_workers",
           "values": [
            22,
            22,
            22,
            22,
            22,
            22,
            22,
            22,
            22,
            22,
            22,
            22,
            22,
            22,
            22,
            22,
            22,
            22,
            22,
            22,
            22,
            22,
            22,
            22,
            22,
            22,
            22,
            22,
            22,
            22,
            22,
            22,
            22,
            22,
            22,
            22,
            22,
            22,
            22,
            22,
            22,
            22,
            22,
            22,
            22,
            22,
            22,
            22,
            22,
            22,
            22,
            22,
            22,
            22,
            22,
            22,
            22,
            22,
            22,
            22,
            22,
            22,
            22,
            22,
            22,
            22,
            22,
            22,
            22,
            22,
            22,
            22,
            22,
            22,
            22,
            22,
            22,
            22,
            22,
            22,
            22,
            22,
            22,
            22,
            22,
            22,
            22,
            22,
            22,
            22,
            22,
            22,
            22,
            22,
            22,
            22,
            22,
            22,
            22,
            22
           ]
          },
          {
           "label": "config/train_batch_size",
           "values": [
            4096,
            512,
            512,
            256,
            512,
            512,
            2048,
            256,
            4096,
            2048,
            256,
            2048,
            4096,
            512,
            256,
            1024,
            128,
            2048,
            256,
            256,
            4096,
            256,
            256,
            256,
            512,
            2048,
            256,
            2048,
            2048,
            4096,
            512,
            128,
            512,
            2048,
            512,
            512,
            1024,
            2048,
            2048,
            128,
            256,
            256,
            1024,
            128,
            256,
            128,
            256,
            256,
            256,
            1024,
            2048,
            512,
            512,
            2048,
            512,
            128,
            128,
            512,
            256,
            4096,
            512,
            512,
            4096,
            2048,
            4096,
            256,
            4096,
            1024,
            2048,
            256,
            128,
            1024,
            256,
            256,
            256,
            512,
            4096,
            1024,
            1024,
            256,
            512,
            4096,
            2048,
            256,
            256,
            4096,
            128,
            512,
            2048,
            1024,
            128,
            4096,
            2048,
            4096,
            4096,
            256,
            4096,
            4096,
            4096,
            4096
           ]
          },
          {
           "label": "config/train_steps",
           "values": [
            100,
            100,
            100,
            100,
            100,
            100,
            100,
            100,
            100,
            100,
            100,
            100,
            100,
            100,
            100,
            100,
            100,
            100,
            100,
            100,
            100,
            100,
            100,
            100,
            100,
            100,
            100,
            100,
            100,
            100,
            100,
            100,
            100,
            100,
            100,
            100,
            100,
            100,
            100,
            100,
            100,
            100,
            100,
            100,
            100,
            100,
            100,
            100,
            100,
            100,
            100,
            100,
            100,
            100,
            100,
            100,
            100,
            100,
            100,
            100,
            100,
            100,
            100,
            100,
            100,
            100,
            100,
            100,
            100,
            100,
            100,
            100,
            100,
            100,
            100,
            100,
            100,
            100,
            100,
            100,
            100,
            100,
            100,
            100,
            100,
            100,
            100,
            100,
            100,
            100,
            100,
            100,
            100,
            100,
            100,
            100,
            100,
            100,
            100,
            100
           ]
          }
         ],
         "domain": {
          "x": [
           0,
           1
          ],
          "y": [
           0,
           1
          ]
         },
         "line": {
          "color": [
           3.8309523809523816,
           2.26,
           1.97,
           1.89,
           1.86,
           1.73,
           1.7181818181818185,
           1.68,
           1.5166666666666666,
           1.509090909090909,
           1.48,
           1.4681818181818185,
           1.45,
           1.37,
           1.36,
           1.25,
           1.25,
           1.25,
           1.2,
           1.16,
           1.1523809523809525,
           1.14,
           1.11,
           1.09,
           1,
           0.9727272727272728,
           0.96,
           0.9590909090909092,
           0.9318181818181818,
           0.923809523809524,
           0.88,
           0.86,
           0.86,
           0.8590909090909091,
           0.83,
           0.83,
           0.8166666666666667,
           0.8090909090909091,
           0.8,
           0.77,
           0.76,
           0.76,
           0.7583333333333333,
           0.74,
           0.725,
           0.72,
           0.7,
           0.69,
           0.68,
           0.675,
           0.6727272727272727,
           0.67,
           0.66,
           0.6545454545454545,
           0.65,
           0.65,
           0.65,
           0.64,
           0.64,
           0.6309523809523809,
           0.61,
           0.61,
           0.5928571428571429,
           0.5909090909090909,
           0.5857142857142857,
           0.57,
           0.569047619047619,
           0.5666666666666667,
           0.5636363636363636,
           0.56,
           0.55,
           0.55,
           0.54,
           0.54,
           0.53,
           0.52,
           0.5190476190476191,
           0.5166666666666667,
           0.5166666666666667,
           0.51,
           0.5,
           0.4928571428571429,
           0.4909090909090909,
           0.49,
           0.49,
           0.4785714285714286,
           0.4625,
           0.46,
           0.4545454545454545,
           0.44166666666666665,
           0.44,
           0.4119047619047619,
           0.3954545454545455,
           0.3880952380952381,
           0.3857142857142857,
           0.36,
           0.3547619047619048,
           0.31904761904761897,
           0.31904761904761897,
           0.3
          ],
          "coloraxis": "coloraxis"
         },
         "name": "",
         "type": "parcoords"
        }
       ],
       "layout": {
        "autosize": true,
        "coloraxis": {
         "cmid": 2,
         "colorbar": {
          "title": {
           "text": "policy_reward_mean/learned00"
          }
         },
         "colorscale": [
          [
           0,
           "rgb(0, 147, 146)"
          ],
          [
           0.16666666666666666,
           "rgb(114, 170, 161)"
          ],
          [
           0.3333333333333333,
           "rgb(177, 199, 179)"
          ],
          [
           0.5,
           "rgb(241, 234, 200)"
          ],
          [
           0.6666666666666666,
           "rgb(229, 185, 173)"
          ],
          [
           0.8333333333333334,
           "rgb(217, 137, 148)"
          ],
          [
           1,
           "rgb(208, 88, 126)"
          ]
         ]
        },
        "legend": {
         "tracegroupgap": 0
        },
        "margin": {
         "t": 60
        },
        "template": {
         "data": {
          "bar": [
           {
            "error_x": {
             "color": "#2a3f5f"
            },
            "error_y": {
             "color": "#2a3f5f"
            },
            "marker": {
             "line": {
              "color": "#E5ECF6",
              "width": 0.5
             }
            },
            "type": "bar"
           }
          ],
          "barpolar": [
           {
            "marker": {
             "line": {
              "color": "#E5ECF6",
              "width": 0.5
             }
            },
            "type": "barpolar"
           }
          ],
          "carpet": [
           {
            "aaxis": {
             "endlinecolor": "#2a3f5f",
             "gridcolor": "white",
             "linecolor": "white",
             "minorgridcolor": "white",
             "startlinecolor": "#2a3f5f"
            },
            "baxis": {
             "endlinecolor": "#2a3f5f",
             "gridcolor": "white",
             "linecolor": "white",
             "minorgridcolor": "white",
             "startlinecolor": "#2a3f5f"
            },
            "type": "carpet"
           }
          ],
          "choropleth": [
           {
            "colorbar": {
             "outlinewidth": 0,
             "ticks": ""
            },
            "type": "choropleth"
           }
          ],
          "contour": [
           {
            "colorbar": {
             "outlinewidth": 0,
             "ticks": ""
            },
            "colorscale": [
             [
              0,
              "#0d0887"
             ],
             [
              0.1111111111111111,
              "#46039f"
             ],
             [
              0.2222222222222222,
              "#7201a8"
             ],
             [
              0.3333333333333333,
              "#9c179e"
             ],
             [
              0.4444444444444444,
              "#bd3786"
             ],
             [
              0.5555555555555556,
              "#d8576b"
             ],
             [
              0.6666666666666666,
              "#ed7953"
             ],
             [
              0.7777777777777778,
              "#fb9f3a"
             ],
             [
              0.8888888888888888,
              "#fdca26"
             ],
             [
              1,
              "#f0f921"
             ]
            ],
            "type": "contour"
           }
          ],
          "contourcarpet": [
           {
            "colorbar": {
             "outlinewidth": 0,
             "ticks": ""
            },
            "type": "contourcarpet"
           }
          ],
          "heatmap": [
           {
            "colorbar": {
             "outlinewidth": 0,
             "ticks": ""
            },
            "colorscale": [
             [
              0,
              "#0d0887"
             ],
             [
              0.1111111111111111,
              "#46039f"
             ],
             [
              0.2222222222222222,
              "#7201a8"
             ],
             [
              0.3333333333333333,
              "#9c179e"
             ],
             [
              0.4444444444444444,
              "#bd3786"
             ],
             [
              0.5555555555555556,
              "#d8576b"
             ],
             [
              0.6666666666666666,
              "#ed7953"
             ],
             [
              0.7777777777777778,
              "#fb9f3a"
             ],
             [
              0.8888888888888888,
              "#fdca26"
             ],
             [
              1,
              "#f0f921"
             ]
            ],
            "type": "heatmap"
           }
          ],
          "heatmapgl": [
           {
            "colorbar": {
             "outlinewidth": 0,
             "ticks": ""
            },
            "colorscale": [
             [
              0,
              "#0d0887"
             ],
             [
              0.1111111111111111,
              "#46039f"
             ],
             [
              0.2222222222222222,
              "#7201a8"
             ],
             [
              0.3333333333333333,
              "#9c179e"
             ],
             [
              0.4444444444444444,
              "#bd3786"
             ],
             [
              0.5555555555555556,
              "#d8576b"
             ],
             [
              0.6666666666666666,
              "#ed7953"
             ],
             [
              0.7777777777777778,
              "#fb9f3a"
             ],
             [
              0.8888888888888888,
              "#fdca26"
             ],
             [
              1,
              "#f0f921"
             ]
            ],
            "type": "heatmapgl"
           }
          ],
          "histogram": [
           {
            "marker": {
             "colorbar": {
              "outlinewidth": 0,
              "ticks": ""
             }
            },
            "type": "histogram"
           }
          ],
          "histogram2d": [
           {
            "colorbar": {
             "outlinewidth": 0,
             "ticks": ""
            },
            "colorscale": [
             [
              0,
              "#0d0887"
             ],
             [
              0.1111111111111111,
              "#46039f"
             ],
             [
              0.2222222222222222,
              "#7201a8"
             ],
             [
              0.3333333333333333,
              "#9c179e"
             ],
             [
              0.4444444444444444,
              "#bd3786"
             ],
             [
              0.5555555555555556,
              "#d8576b"
             ],
             [
              0.6666666666666666,
              "#ed7953"
             ],
             [
              0.7777777777777778,
              "#fb9f3a"
             ],
             [
              0.8888888888888888,
              "#fdca26"
             ],
             [
              1,
              "#f0f921"
             ]
            ],
            "type": "histogram2d"
           }
          ],
          "histogram2dcontour": [
           {
            "colorbar": {
             "outlinewidth": 0,
             "ticks": ""
            },
            "colorscale": [
             [
              0,
              "#0d0887"
             ],
             [
              0.1111111111111111,
              "#46039f"
             ],
             [
              0.2222222222222222,
              "#7201a8"
             ],
             [
              0.3333333333333333,
              "#9c179e"
             ],
             [
              0.4444444444444444,
              "#bd3786"
             ],
             [
              0.5555555555555556,
              "#d8576b"
             ],
             [
              0.6666666666666666,
              "#ed7953"
             ],
             [
              0.7777777777777778,
              "#fb9f3a"
             ],
             [
              0.8888888888888888,
              "#fdca26"
             ],
             [
              1,
              "#f0f921"
             ]
            ],
            "type": "histogram2dcontour"
           }
          ],
          "mesh3d": [
           {
            "colorbar": {
             "outlinewidth": 0,
             "ticks": ""
            },
            "type": "mesh3d"
           }
          ],
          "parcoords": [
           {
            "line": {
             "colorbar": {
              "outlinewidth": 0,
              "ticks": ""
             }
            },
            "type": "parcoords"
           }
          ],
          "pie": [
           {
            "automargin": true,
            "type": "pie"
           }
          ],
          "scatter": [
           {
            "marker": {
             "colorbar": {
              "outlinewidth": 0,
              "ticks": ""
             }
            },
            "type": "scatter"
           }
          ],
          "scatter3d": [
           {
            "line": {
             "colorbar": {
              "outlinewidth": 0,
              "ticks": ""
             }
            },
            "marker": {
             "colorbar": {
              "outlinewidth": 0,
              "ticks": ""
             }
            },
            "type": "scatter3d"
           }
          ],
          "scattercarpet": [
           {
            "marker": {
             "colorbar": {
              "outlinewidth": 0,
              "ticks": ""
             }
            },
            "type": "scattercarpet"
           }
          ],
          "scattergeo": [
           {
            "marker": {
             "colorbar": {
              "outlinewidth": 0,
              "ticks": ""
             }
            },
            "type": "scattergeo"
           }
          ],
          "scattergl": [
           {
            "marker": {
             "colorbar": {
              "outlinewidth": 0,
              "ticks": ""
             }
            },
            "type": "scattergl"
           }
          ],
          "scattermapbox": [
           {
            "marker": {
             "colorbar": {
              "outlinewidth": 0,
              "ticks": ""
             }
            },
            "type": "scattermapbox"
           }
          ],
          "scatterpolar": [
           {
            "marker": {
             "colorbar": {
              "outlinewidth": 0,
              "ticks": ""
             }
            },
            "type": "scatterpolar"
           }
          ],
          "scatterpolargl": [
           {
            "marker": {
             "colorbar": {
              "outlinewidth": 0,
              "ticks": ""
             }
            },
            "type": "scatterpolargl"
           }
          ],
          "scatterternary": [
           {
            "marker": {
             "colorbar": {
              "outlinewidth": 0,
              "ticks": ""
             }
            },
            "type": "scatterternary"
           }
          ],
          "surface": [
           {
            "colorbar": {
             "outlinewidth": 0,
             "ticks": ""
            },
            "colorscale": [
             [
              0,
              "#0d0887"
             ],
             [
              0.1111111111111111,
              "#46039f"
             ],
             [
              0.2222222222222222,
              "#7201a8"
             ],
             [
              0.3333333333333333,
              "#9c179e"
             ],
             [
              0.4444444444444444,
              "#bd3786"
             ],
             [
              0.5555555555555556,
              "#d8576b"
             ],
             [
              0.6666666666666666,
              "#ed7953"
             ],
             [
              0.7777777777777778,
              "#fb9f3a"
             ],
             [
              0.8888888888888888,
              "#fdca26"
             ],
             [
              1,
              "#f0f921"
             ]
            ],
            "type": "surface"
           }
          ],
          "table": [
           {
            "cells": {
             "fill": {
              "color": "#EBF0F8"
             },
             "line": {
              "color": "white"
             }
            },
            "header": {
             "fill": {
              "color": "#C8D4E3"
             },
             "line": {
              "color": "white"
             }
            },
            "type": "table"
           }
          ]
         },
         "layout": {
          "annotationdefaults": {
           "arrowcolor": "#2a3f5f",
           "arrowhead": 0,
           "arrowwidth": 1
          },
          "coloraxis": {
           "colorbar": {
            "outlinewidth": 0,
            "ticks": ""
           }
          },
          "colorscale": {
           "diverging": [
            [
             0,
             "#8e0152"
            ],
            [
             0.1,
             "#c51b7d"
            ],
            [
             0.2,
             "#de77ae"
            ],
            [
             0.3,
             "#f1b6da"
            ],
            [
             0.4,
             "#fde0ef"
            ],
            [
             0.5,
             "#f7f7f7"
            ],
            [
             0.6,
             "#e6f5d0"
            ],
            [
             0.7,
             "#b8e186"
            ],
            [
             0.8,
             "#7fbc41"
            ],
            [
             0.9,
             "#4d9221"
            ],
            [
             1,
             "#276419"
            ]
           ],
           "sequential": [
            [
             0,
             "#0d0887"
            ],
            [
             0.1111111111111111,
             "#46039f"
            ],
            [
             0.2222222222222222,
             "#7201a8"
            ],
            [
             0.3333333333333333,
             "#9c179e"
            ],
            [
             0.4444444444444444,
             "#bd3786"
            ],
            [
             0.5555555555555556,
             "#d8576b"
            ],
            [
             0.6666666666666666,
             "#ed7953"
            ],
            [
             0.7777777777777778,
             "#fb9f3a"
            ],
            [
             0.8888888888888888,
             "#fdca26"
            ],
            [
             1,
             "#f0f921"
            ]
           ],
           "sequentialminus": [
            [
             0,
             "#0d0887"
            ],
            [
             0.1111111111111111,
             "#46039f"
            ],
            [
             0.2222222222222222,
             "#7201a8"
            ],
            [
             0.3333333333333333,
             "#9c179e"
            ],
            [
             0.4444444444444444,
             "#bd3786"
            ],
            [
             0.5555555555555556,
             "#d8576b"
            ],
            [
             0.6666666666666666,
             "#ed7953"
            ],
            [
             0.7777777777777778,
             "#fb9f3a"
            ],
            [
             0.8888888888888888,
             "#fdca26"
            ],
            [
             1,
             "#f0f921"
            ]
           ]
          },
          "colorway": [
           "#636efa",
           "#EF553B",
           "#00cc96",
           "#ab63fa",
           "#FFA15A",
           "#19d3f3",
           "#FF6692",
           "#B6E880",
           "#FF97FF",
           "#FECB52"
          ],
          "font": {
           "color": "#2a3f5f"
          },
          "geo": {
           "bgcolor": "white",
           "lakecolor": "white",
           "landcolor": "#E5ECF6",
           "showlakes": true,
           "showland": true,
           "subunitcolor": "white"
          },
          "hoverlabel": {
           "align": "left"
          },
          "hovermode": "closest",
          "mapbox": {
           "style": "light"
          },
          "paper_bgcolor": "white",
          "plot_bgcolor": "#E5ECF6",
          "polar": {
           "angularaxis": {
            "gridcolor": "white",
            "linecolor": "white",
            "ticks": ""
           },
           "bgcolor": "#E5ECF6",
           "radialaxis": {
            "gridcolor": "white",
            "linecolor": "white",
            "ticks": ""
           }
          },
          "scene": {
           "xaxis": {
            "backgroundcolor": "#E5ECF6",
            "gridcolor": "white",
            "gridwidth": 2,
            "linecolor": "white",
            "showbackground": true,
            "ticks": "",
            "zerolinecolor": "white"
           },
           "yaxis": {
            "backgroundcolor": "#E5ECF6",
            "gridcolor": "white",
            "gridwidth": 2,
            "linecolor": "white",
            "showbackground": true,
            "ticks": "",
            "zerolinecolor": "white"
           },
           "zaxis": {
            "backgroundcolor": "#E5ECF6",
            "gridcolor": "white",
            "gridwidth": 2,
            "linecolor": "white",
            "showbackground": true,
            "ticks": "",
            "zerolinecolor": "white"
           }
          },
          "shapedefaults": {
           "line": {
            "color": "#2a3f5f"
           }
          },
          "ternary": {
           "aaxis": {
            "gridcolor": "white",
            "linecolor": "white",
            "ticks": ""
           },
           "baxis": {
            "gridcolor": "white",
            "linecolor": "white",
            "ticks": ""
           },
           "bgcolor": "#E5ECF6",
           "caxis": {
            "gridcolor": "white",
            "linecolor": "white",
            "ticks": ""
           }
          },
          "title": {
           "x": 0.05
          },
          "xaxis": {
           "automargin": true,
           "gridcolor": "white",
           "linecolor": "white",
           "ticks": "",
           "title": {
            "standoff": 15
           },
           "zerolinecolor": "white",
           "zerolinewidth": 2
          },
          "yaxis": {
           "automargin": true,
           "gridcolor": "white",
           "linecolor": "white",
           "ticks": "",
           "title": {
            "standoff": 15
           },
           "zerolinecolor": "white",
           "zerolinewidth": 2
          }
         }
        }
       }
      },
      "image/png": "[encoded data removed]",
      "text/html": [
       "<div>\n",
       "        \n",
       "        \n",
       "            <div id=\"928623a7-6bbc-4b49-bdbb-f61f92c17fee\" class=\"plotly-graph-div\" style=\"height:525px; width:100%;\"></div>\n",
       "            <script type=\"text/javascript\">\n",
       "                require([\"plotly\"], function(Plotly) {\n",
       "                    window.PLOTLYENV=window.PLOTLYENV || {};\n",
       "                    \n",
       "                if (document.getElementById(\"928623a7-6bbc-4b49-bdbb-f61f92c17fee\")) {\n",
       "                    Plotly.newPlot(\n",
       "                        '928623a7-6bbc-4b49-bdbb-f61f92c17fee',\n",
       "                        [{\"dimensions\": [{\"label\": \"policy_reward_mean/learned00\", \"values\": [3.8309523809523816, 2.26, 1.97, 1.89, 1.86, 1.73, 1.7181818181818185, 1.68, 1.5166666666666666, 1.509090909090909, 1.48, 1.4681818181818185, 1.45, 1.37, 1.36, 1.25, 1.25, 1.25, 1.2, 1.16, 1.1523809523809525, 1.14, 1.11, 1.09, 1.0, 0.9727272727272728, 0.96, 0.9590909090909092, 0.9318181818181818, 0.923809523809524, 0.88, 0.86, 0.86, 0.8590909090909091, 0.83, 0.83, 0.8166666666666667, 0.8090909090909091, 0.8, 0.77, 0.76, 0.76, 0.7583333333333333, 0.74, 0.725, 0.72, 0.7, 0.69, 0.68, 0.675, 0.6727272727272727, 0.67, 0.66, 0.6545454545454545, 0.65, 0.65, 0.65, 0.64, 0.64, 0.6309523809523809, 0.61, 0.61, 0.5928571428571429, 0.5909090909090909, 0.5857142857142857, 0.57, 0.569047619047619, 0.5666666666666667, 0.5636363636363636, 0.56, 0.55, 0.55, 0.54, 0.54, 0.53, 0.52, 0.5190476190476191, 0.5166666666666667, 0.5166666666666667, 0.51, 0.5, 0.4928571428571429, 0.4909090909090909, 0.49, 0.49, 0.4785714285714286, 0.4625, 0.46, 0.4545454545454545, 0.44166666666666665, 0.44, 0.4119047619047619, 0.3954545454545455, 0.3880952380952381, 0.3857142857142857, 0.36, 0.3547619047619048, 0.31904761904761897, 0.31904761904761897, 0.3]}, {\"label\": \"config/fc_units\", \"values\": [100, 100, 1000, 100, 100, 1000, 47, 100, 47, 10, 100, 1000, 10, 465, 465, 100, 100, 100, 22, 216, 100, 1000, 47, 47, 22, 216, 47, 100, 22, 47, 1000, 47, 5, 216, 100, 5, 1000, 3, 1, 5, 5, 216, 22, 100, 10, 100, 3, 1000, 22, 5, 22, 5, 216, 10, 1000, 10, 5, 10, 216, 100, 1, 47, 1, 47, 465, 3, 3, 1, 3, 3, 1, 10, 465, 5, 10, 10, 47, 22, 5, 5, 10, 465, 1, 10, 5, 5, 10, 3, 5, 1, 5, 10, 1000, 1, 1, 1000, 100, 5, 1, 5]}, {\"label\": \"config/lstm_units\", \"values\": [22, 216, 22, 100, 10, 216, 216, 100, 3, 1, 216, 3, 5, 5, 216, 3, 216, 465, 3, 216, 1, 10, 22, 216, 10, 465, 465, 1000, 10, 100, 1000, 3, 1, 3, 22, 465, 5, 22, 22, 465, 22, 465, 1, 216, 1000, 22, 216, 1000, 1000, 3, 465, 3, 1, 216, 10, 22, 10, 216, 1, 1000, 100, 1000, 100, 465, 1, 47, 465, 1000, 1000, 5, 3, 1000, 3, 465, 216, 465, 1000, 1, 47, 22, 1, 1, 3, 100, 1000, 100, 216, 1000, 1, 47, 100, 1, 10, 3, 465, 1, 1000, 47, 3, 465]}, {\"label\": \"config/num_workers\", \"values\": [22, 22, 22, 22, 22, 22, 22, 22, 22, 22, 22, 22, 22, 22, 22, 22, 22, 22, 22, 22, 22, 22, 22, 22, 22, 22, 22, 22, 22, 22, 22, 22, 22, 22, 22, 22, 22, 22, 22, 22, 22, 22, 22, 22, 22, 22, 22, 22, 22, 22, 22, 22, 22, 22, 22, 22, 22, 22, 22, 22, 22, 22, 22, 22, 22, 22, 22, 22, 22, 22, 22, 22, 22, 22, 22, 22, 22, 22, 22, 22, 22, 22, 22, 22, 22, 22, 22, 22, 22, 22, 22, 22, 22, 22, 22, 22, 22, 22, 22, 22]}, {\"label\": \"config/train_batch_size\", \"values\": [4096, 512, 512, 256, 512, 512, 2048, 256, 4096, 2048, 256, 2048, 4096, 512, 256, 1024, 128, 2048, 256, 256, 4096, 256, 256, 256, 512, 2048, 256, 2048, 2048, 4096, 512, 128, 512, 2048, 512, 512, 1024, 2048, 2048, 128, 256, 256, 1024, 128, 256, 128, 256, 256, 256, 1024, 2048, 512, 512, 2048, 512, 128, 128, 512, 256, 4096, 512, 512, 4096, 2048, 4096, 256, 4096, 1024, 2048, 256, 128, 1024, 256, 256, 256, 512, 4096, 1024, 1024, 256, 512, 4096, 2048, 256, 256, 4096, 128, 512, 2048, 1024, 128, 4096, 2048, 4096, 4096, 256, 4096, 4096, 4096, 4096]}, {\"label\": \"config/train_steps\", \"values\": [100, 100, 100, 100, 100, 100, 100, 100, 100, 100, 100, 100, 100, 100, 100, 100, 100, 100, 100, 100, 100, 100, 100, 100, 100, 100, 100, 100, 100, 100, 100, 100, 100, 100, 100, 100, 100, 100, 100, 100, 100, 100, 100, 100, 100, 100, 100, 100, 100, 100, 100, 100, 100, 100, 100, 100, 100, 100, 100, 100, 100, 100, 100, 100, 100, 100, 100, 100, 100, 100, 100, 100, 100, 100, 100, 100, 100, 100, 100, 100, 100, 100, 100, 100, 100, 100, 100, 100, 100, 100, 100, 100, 100, 100, 100, 100, 100, 100, 100, 100]}], \"domain\": {\"x\": [0.0, 1.0], \"y\": [0.0, 1.0]}, \"line\": {\"color\": [3.8309523809523816, 2.26, 1.97, 1.89, 1.86, 1.73, 1.7181818181818185, 1.68, 1.5166666666666666, 1.509090909090909, 1.48, 1.4681818181818185, 1.45, 1.37, 1.36, 1.25, 1.25, 1.25, 1.2, 1.16, 1.1523809523809525, 1.14, 1.11, 1.09, 1.0, 0.9727272727272728, 0.96, 0.9590909090909092, 0.9318181818181818, 0.923809523809524, 0.88, 0.86, 0.86, 0.8590909090909091, 0.83, 0.83, 0.8166666666666667, 0.8090909090909091, 0.8, 0.77, 0.76, 0.76, 0.7583333333333333, 0.74, 0.725, 0.72, 0.7, 0.69, 0.68, 0.675, 0.6727272727272727, 0.67, 0.66, 0.6545454545454545, 0.65, 0.65, 0.65, 0.64, 0.64, 0.6309523809523809, 0.61, 0.61, 0.5928571428571429, 0.5909090909090909, 0.5857142857142857, 0.57, 0.569047619047619, 0.5666666666666667, 0.5636363636363636, 0.56, 0.55, 0.55, 0.54, 0.54, 0.53, 0.52, 0.5190476190476191, 0.5166666666666667, 0.5166666666666667, 0.51, 0.5, 0.4928571428571429, 0.4909090909090909, 0.49, 0.49, 0.4785714285714286, 0.4625, 0.46, 0.4545454545454545, 0.44166666666666665, 0.44, 0.4119047619047619, 0.3954545454545455, 0.3880952380952381, 0.3857142857142857, 0.36, 0.3547619047619048, 0.31904761904761897, 0.31904761904761897, 0.3], \"coloraxis\": \"coloraxis\"}, \"name\": \"\", \"type\": \"parcoords\"}],\n",
       "                        {\"coloraxis\": {\"cmid\": 2, \"colorbar\": {\"title\": {\"text\": \"policy_reward_mean/learned00\"}}, \"colorscale\": [[0.0, \"rgb(0, 147, 146)\"], [0.16666666666666666, \"rgb(114, 170, 161)\"], [0.3333333333333333, \"rgb(177, 199, 179)\"], [0.5, \"rgb(241, 234, 200)\"], [0.6666666666666666, \"rgb(229, 185, 173)\"], [0.8333333333333334, \"rgb(217, 137, 148)\"], [1.0, \"rgb(208, 88, 126)\"]]}, \"legend\": {\"tracegroupgap\": 0}, \"margin\": {\"t\": 60}, \"template\": {\"data\": {\"bar\": [{\"error_x\": {\"color\": \"#2a3f5f\"}, \"error_y\": {\"color\": \"#2a3f5f\"}, \"marker\": {\"line\": {\"color\": \"#E5ECF6\", \"width\": 0.5}}, \"type\": \"bar\"}], \"barpolar\": [{\"marker\": {\"line\": {\"color\": \"#E5ECF6\", \"width\": 0.5}}, \"type\": \"barpolar\"}], \"carpet\": [{\"aaxis\": {\"endlinecolor\": \"#2a3f5f\", \"gridcolor\": \"white\", \"linecolor\": \"white\", \"minorgridcolor\": \"white\", \"startlinecolor\": \"#2a3f5f\"}, \"baxis\": {\"endlinecolor\": \"#2a3f5f\", \"gridcolor\": \"white\", \"linecolor\": \"white\", \"minorgridcolor\": \"white\", \"startlinecolor\": \"#2a3f5f\"}, \"type\": \"carpet\"}], \"choropleth\": [{\"colorbar\": {\"outlinewidth\": 0, \"ticks\": \"\"}, \"type\": \"choropleth\"}], \"contour\": [{\"colorbar\": {\"outlinewidth\": 0, \"ticks\": \"\"}, \"colorscale\": [[0.0, \"#0d0887\"], [0.1111111111111111, \"#46039f\"], [0.2222222222222222, \"#7201a8\"], [0.3333333333333333, \"#9c179e\"], [0.4444444444444444, \"#bd3786\"], [0.5555555555555556, \"#d8576b\"], [0.6666666666666666, \"#ed7953\"], [0.7777777777777778, \"#fb9f3a\"], [0.8888888888888888, \"#fdca26\"], [1.0, \"#f0f921\"]], \"type\": \"contour\"}], \"contourcarpet\": [{\"colorbar\": {\"outlinewidth\": 0, \"ticks\": \"\"}, \"type\": \"contourcarpet\"}], \"heatmap\": [{\"colorbar\": {\"outlinewidth\": 0, \"ticks\": \"\"}, \"colorscale\": [[0.0, \"#0d0887\"], [0.1111111111111111, \"#46039f\"], [0.2222222222222222, \"#7201a8\"], [0.3333333333333333, \"#9c179e\"], [0.4444444444444444, \"#bd3786\"], [0.5555555555555556, \"#d8576b\"], [0.6666666666666666, \"#ed7953\"], [0.7777777777777778, \"#fb9f3a\"], [0.8888888888888888, \"#fdca26\"], [1.0, \"#f0f921\"]], \"type\": \"heatmap\"}], \"heatmapgl\": [{\"colorbar\": {\"outlinewidth\": 0, \"ticks\": \"\"}, \"colorscale\": [[0.0, \"#0d0887\"], [0.1111111111111111, \"#46039f\"], [0.2222222222222222, \"#7201a8\"], [0.3333333333333333, \"#9c179e\"], [0.4444444444444444, \"#bd3786\"], [0.5555555555555556, \"#d8576b\"], [0.6666666666666666, \"#ed7953\"], [0.7777777777777778, \"#fb9f3a\"], [0.8888888888888888, \"#fdca26\"], [1.0, \"#f0f921\"]], \"type\": \"heatmapgl\"}], \"histogram\": [{\"marker\": {\"colorbar\": {\"outlinewidth\": 0, \"ticks\": \"\"}}, \"type\": \"histogram\"}], \"histogram2d\": [{\"colorbar\": {\"outlinewidth\": 0, \"ticks\": \"\"}, \"colorscale\": [[0.0, \"#0d0887\"], [0.1111111111111111, \"#46039f\"], [0.2222222222222222, \"#7201a8\"], [0.3333333333333333, \"#9c179e\"], [0.4444444444444444, \"#bd3786\"], [0.5555555555555556, \"#d8576b\"], [0.6666666666666666, \"#ed7953\"], [0.7777777777777778, \"#fb9f3a\"], [0.8888888888888888, \"#fdca26\"], [1.0, \"#f0f921\"]], \"type\": \"histogram2d\"}], \"histogram2dcontour\": [{\"colorbar\": {\"outlinewidth\": 0, \"ticks\": \"\"}, \"colorscale\": [[0.0, \"#0d0887\"], [0.1111111111111111, \"#46039f\"], [0.2222222222222222, \"#7201a8\"], [0.3333333333333333, \"#9c179e\"], [0.4444444444444444, \"#bd3786\"], [0.5555555555555556, \"#d8576b\"], [0.6666666666666666, \"#ed7953\"], [0.7777777777777778, \"#fb9f3a\"], [0.8888888888888888, \"#fdca26\"], [1.0, \"#f0f921\"]], \"type\": \"histogram2dcontour\"}], \"mesh3d\": [{\"colorbar\": {\"outlinewidth\": 0, \"ticks\": \"\"}, \"type\": \"mesh3d\"}], \"parcoords\": [{\"line\": {\"colorbar\": {\"outlinewidth\": 0, \"ticks\": \"\"}}, \"type\": \"parcoords\"}], \"pie\": [{\"automargin\": true, \"type\": \"pie\"}], \"scatter\": [{\"marker\": {\"colorbar\": {\"outlinewidth\": 0, \"ticks\": \"\"}}, \"type\": \"scatter\"}], \"scatter3d\": [{\"line\": {\"colorbar\": {\"outlinewidth\": 0, \"ticks\": \"\"}}, \"marker\": {\"colorbar\": {\"outlinewidth\": 0, \"ticks\": \"\"}}, \"type\": \"scatter3d\"}], \"scattercarpet\": [{\"marker\": {\"colorbar\": {\"outlinewidth\": 0, \"ticks\": \"\"}}, \"type\": \"scattercarpet\"}], \"scattergeo\": [{\"marker\": {\"colorbar\": {\"outlinewidth\": 0, \"ticks\": \"\"}}, \"type\": \"scattergeo\"}], \"scattergl\": [{\"marker\": {\"colorbar\": {\"outlinewidth\": 0, \"ticks\": \"\"}}, \"type\": \"scattergl\"}], \"scattermapbox\": [{\"marker\": {\"colorbar\": {\"outlinewidth\": 0, \"ticks\": \"\"}}, \"type\": \"scattermapbox\"}], \"scatterpolar\": [{\"marker\": {\"colorbar\": {\"outlinewidth\": 0, \"ticks\": \"\"}}, \"type\": \"scatterpolar\"}], \"scatterpolargl\": [{\"marker\": {\"colorbar\": {\"outlinewidth\": 0, \"ticks\": \"\"}}, \"type\": \"scatterpolargl\"}], \"scatterternary\": [{\"marker\": {\"colorbar\": {\"outlinewidth\": 0, \"ticks\": \"\"}}, \"type\": \"scatterternary\"}], \"surface\": [{\"colorbar\": {\"outlinewidth\": 0, \"ticks\": \"\"}, \"colorscale\": [[0.0, \"#0d0887\"], [0.1111111111111111, \"#46039f\"], [0.2222222222222222, \"#7201a8\"], [0.3333333333333333, \"#9c179e\"], [0.4444444444444444, \"#bd3786\"], [0.5555555555555556, \"#d8576b\"], [0.6666666666666666, \"#ed7953\"], [0.7777777777777778, \"#fb9f3a\"], [0.8888888888888888, \"#fdca26\"], [1.0, \"#f0f921\"]], \"type\": \"surface\"}], \"table\": [{\"cells\": {\"fill\": {\"color\": \"#EBF0F8\"}, \"line\": {\"color\": \"white\"}}, \"header\": {\"fill\": {\"color\": \"#C8D4E3\"}, \"line\": {\"color\": \"white\"}}, \"type\": \"table\"}]}, \"layout\": {\"annotationdefaults\": {\"arrowcolor\": \"#2a3f5f\", \"arrowhead\": 0, \"arrowwidth\": 1}, \"coloraxis\": {\"colorbar\": {\"outlinewidth\": 0, \"ticks\": \"\"}}, \"colorscale\": {\"diverging\": [[0, \"#8e0152\"], [0.1, \"#c51b7d\"], [0.2, \"#de77ae\"], [0.3, \"#f1b6da\"], [0.4, \"#fde0ef\"], [0.5, \"#f7f7f7\"], [0.6, \"#e6f5d0\"], [0.7, \"#b8e186\"], [0.8, \"#7fbc41\"], [0.9, \"#4d9221\"], [1, \"#276419\"]], \"sequential\": [[0.0, \"#0d0887\"], [0.1111111111111111, \"#46039f\"], [0.2222222222222222, \"#7201a8\"], [0.3333333333333333, \"#9c179e\"], [0.4444444444444444, \"#bd3786\"], [0.5555555555555556, \"#d8576b\"], [0.6666666666666666, \"#ed7953\"], [0.7777777777777778, \"#fb9f3a\"], [0.8888888888888888, \"#fdca26\"], [1.0, \"#f0f921\"]], \"sequentialminus\": [[0.0, \"#0d0887\"], [0.1111111111111111, \"#46039f\"], [0.2222222222222222, \"#7201a8\"], [0.3333333333333333, \"#9c179e\"], [0.4444444444444444, \"#bd3786\"], [0.5555555555555556, \"#d8576b\"], [0.6666666666666666, \"#ed7953\"], [0.7777777777777778, \"#fb9f3a\"], [0.8888888888888888, \"#fdca26\"], [1.0, \"#f0f921\"]]}, \"colorway\": [\"#636efa\", \"#EF553B\", \"#00cc96\", \"#ab63fa\", \"#FFA15A\", \"#19d3f3\", \"#FF6692\", \"#B6E880\", \"#FF97FF\", \"#FECB52\"], \"font\": {\"color\": \"#2a3f5f\"}, \"geo\": {\"bgcolor\": \"white\", \"lakecolor\": \"white\", \"landcolor\": \"#E5ECF6\", \"showlakes\": true, \"showland\": true, \"subunitcolor\": \"white\"}, \"hoverlabel\": {\"align\": \"left\"}, \"hovermode\": \"closest\", \"mapbox\": {\"style\": \"light\"}, \"paper_bgcolor\": \"white\", \"plot_bgcolor\": \"#E5ECF6\", \"polar\": {\"angularaxis\": {\"gridcolor\": \"white\", \"linecolor\": \"white\", \"ticks\": \"\"}, \"bgcolor\": \"#E5ECF6\", \"radialaxis\": {\"gridcolor\": \"white\", \"linecolor\": \"white\", \"ticks\": \"\"}}, \"scene\": {\"xaxis\": {\"backgroundcolor\": \"#E5ECF6\", \"gridcolor\": \"white\", \"gridwidth\": 2, \"linecolor\": \"white\", \"showbackground\": true, \"ticks\": \"\", \"zerolinecolor\": \"white\"}, \"yaxis\": {\"backgroundcolor\": \"#E5ECF6\", \"gridcolor\": \"white\", \"gridwidth\": 2, \"linecolor\": \"white\", \"showbackground\": true, \"ticks\": \"\", \"zerolinecolor\": \"white\"}, \"zaxis\": {\"backgroundcolor\": \"#E5ECF6\", \"gridcolor\": \"white\", \"gridwidth\": 2, \"linecolor\": \"white\", \"showbackground\": true, \"ticks\": \"\", \"zerolinecolor\": \"white\"}}, \"shapedefaults\": {\"line\": {\"color\": \"#2a3f5f\"}}, \"ternary\": {\"aaxis\": {\"gridcolor\": \"white\", \"linecolor\": \"white\", \"ticks\": \"\"}, \"baxis\": {\"gridcolor\": \"white\", \"linecolor\": \"white\", \"ticks\": \"\"}, \"bgcolor\": \"#E5ECF6\", \"caxis\": {\"gridcolor\": \"white\", \"linecolor\": \"white\", \"ticks\": \"\"}}, \"title\": {\"x\": 0.05}, \"xaxis\": {\"automargin\": true, \"gridcolor\": \"white\", \"linecolor\": \"white\", \"ticks\": \"\", \"title\": {\"standoff\": 15}, \"zerolinecolor\": \"white\", \"zerolinewidth\": 2}, \"yaxis\": {\"automargin\": true, \"gridcolor\": \"white\", \"linecolor\": \"white\", \"ticks\": \"\", \"title\": {\"standoff\": 15}, \"zerolinecolor\": \"white\", \"zerolinewidth\": 2}}}},\n",
       "                        {\"responsive\": true}\n",
       "                    ).then(function(){\n",
       "                            \n",
       "var gd = document.getElementById('928623a7-6bbc-4b49-bdbb-f61f92c17fee');\n",
       "var x = new MutationObserver(function (mutations, observer) {{\n",
       "        var display = window.getComputedStyle(gd).display;\n",
       "        if (!display || display === 'none') {{\n",
       "            console.log([gd, 'removed!']);\n",
       "            Plotly.purge(gd);\n",
       "            observer.disconnect();\n",
       "        }}\n",
       "}});\n",
       "\n",
       "// Listen for the removal of the full notebook cells\n",
       "var notebookContainer = gd.closest('#notebook-container');\n",
       "if (notebookContainer) {{\n",
       "    x.observe(notebookContainer, {childList: true});\n",
       "}}\n",
       "\n",
       "// Listen for the clearing of the current output cell\n",
       "var outputEl = gd.closest('.output');\n",
       "if (outputEl) {{\n",
       "    x.observe(outputEl, {childList: true});\n",
       "}}\n",
       "\n",
       "                        })\n",
       "                };\n",
       "                });\n",
       "            </script>\n",
       "        </div>"
      ]
     },
     "metadata": {},
     "output_type": "display_data"
    }
   ],
   "source": [
    "fig = px.parallel_coordinates(df, color=target,\n",
    "                             color_continuous_scale=px.colors.diverging.Tealrose,\n",
    "                             color_continuous_midpoint=2)\n",
    "fig.show()"
   ]
  },
  {
   "cell_type": "code",
   "execution_count": 17,
   "metadata": {},
   "outputs": [
    {
     "data": {
      "text/plain": [
       "policy_reward_mean/learned00        3.83095\n",
       "config/fc_units                         100\n",
       "config/lstm_units                        22\n",
       "config/num_workers                       22\n",
       "config/train_batch_size                4096\n",
       "config/train_policies           [learned00]\n",
       "config/train_steps                      100\n",
       "Name: 41, dtype: object"
      ]
     },
     "execution_count": 17,
     "metadata": {},
     "output_type": "execute_result"
    }
   ],
   "source": [
    "df.iloc[0]"
   ]
  },
  {
   "cell_type": "code",
   "execution_count": 18,
   "metadata": {},
   "outputs": [
    {
     "data": {
      "text/html": [
       "<div>\n",
       "<style scoped>\n",
       "    .dataframe tbody tr th:only-of-type {\n",
       "        vertical-align: middle;\n",
       "    }\n",
       "\n",
       "    .dataframe tbody tr th {\n",
       "        vertical-align: top;\n",
       "    }\n",
       "\n",
       "    .dataframe thead th {\n",
       "        text-align: right;\n",
       "    }\n",
       "</style>\n",
       "<table border=\"1\" class=\"dataframe\">\n",
       "  <thead>\n",
       "    <tr style=\"text-align: right;\">\n",
       "      <th></th>\n",
       "      <th>policy_reward_mean/learned00</th>\n",
       "      <th>config/fc_units</th>\n",
       "      <th>config/lstm_units</th>\n",
       "      <th>config/num_workers</th>\n",
       "      <th>config/train_batch_size</th>\n",
       "      <th>config/train_policies</th>\n",
       "      <th>config/train_steps</th>\n",
       "    </tr>\n",
       "  </thead>\n",
       "  <tbody>\n",
       "    <tr>\n",
       "      <th>41</th>\n",
       "      <td>3.830952</td>\n",
       "      <td>100</td>\n",
       "      <td>22</td>\n",
       "      <td>22</td>\n",
       "      <td>4096</td>\n",
       "      <td>[learned00]</td>\n",
       "      <td>100</td>\n",
       "    </tr>\n",
       "    <tr>\n",
       "      <th>91</th>\n",
       "      <td>2.260000</td>\n",
       "      <td>100</td>\n",
       "      <td>216</td>\n",
       "      <td>22</td>\n",
       "      <td>512</td>\n",
       "      <td>[learned00]</td>\n",
       "      <td>100</td>\n",
       "    </tr>\n",
       "    <tr>\n",
       "      <th>31</th>\n",
       "      <td>1.970000</td>\n",
       "      <td>1000</td>\n",
       "      <td>22</td>\n",
       "      <td>22</td>\n",
       "      <td>512</td>\n",
       "      <td>[learned00]</td>\n",
       "      <td>100</td>\n",
       "    </tr>\n",
       "    <tr>\n",
       "      <th>9</th>\n",
       "      <td>1.890000</td>\n",
       "      <td>100</td>\n",
       "      <td>100</td>\n",
       "      <td>22</td>\n",
       "      <td>256</td>\n",
       "      <td>[learned00]</td>\n",
       "      <td>100</td>\n",
       "    </tr>\n",
       "    <tr>\n",
       "      <th>64</th>\n",
       "      <td>1.860000</td>\n",
       "      <td>100</td>\n",
       "      <td>10</td>\n",
       "      <td>22</td>\n",
       "      <td>512</td>\n",
       "      <td>[learned00]</td>\n",
       "      <td>100</td>\n",
       "    </tr>\n",
       "    <tr>\n",
       "      <th>...</th>\n",
       "      <td>...</td>\n",
       "      <td>...</td>\n",
       "      <td>...</td>\n",
       "      <td>...</td>\n",
       "      <td>...</td>\n",
       "      <td>...</td>\n",
       "      <td>...</td>\n",
       "    </tr>\n",
       "    <tr>\n",
       "      <th>88</th>\n",
       "      <td>0.360000</td>\n",
       "      <td>1000</td>\n",
       "      <td>1</td>\n",
       "      <td>22</td>\n",
       "      <td>256</td>\n",
       "      <td>[learned00]</td>\n",
       "      <td>100</td>\n",
       "    </tr>\n",
       "    <tr>\n",
       "      <th>98</th>\n",
       "      <td>0.354762</td>\n",
       "      <td>100</td>\n",
       "      <td>1000</td>\n",
       "      <td>22</td>\n",
       "      <td>4096</td>\n",
       "      <td>[learned00]</td>\n",
       "      <td>100</td>\n",
       "    </tr>\n",
       "    <tr>\n",
       "      <th>42</th>\n",
       "      <td>0.319048</td>\n",
       "      <td>5</td>\n",
       "      <td>47</td>\n",
       "      <td>22</td>\n",
       "      <td>4096</td>\n",
       "      <td>[learned00]</td>\n",
       "      <td>100</td>\n",
       "    </tr>\n",
       "    <tr>\n",
       "      <th>94</th>\n",
       "      <td>0.319048</td>\n",
       "      <td>1</td>\n",
       "      <td>3</td>\n",
       "      <td>22</td>\n",
       "      <td>4096</td>\n",
       "      <td>[learned00]</td>\n",
       "      <td>100</td>\n",
       "    </tr>\n",
       "    <tr>\n",
       "      <th>28</th>\n",
       "      <td>0.300000</td>\n",
       "      <td>5</td>\n",
       "      <td>465</td>\n",
       "      <td>22</td>\n",
       "      <td>4096</td>\n",
       "      <td>[learned00]</td>\n",
       "      <td>100</td>\n",
       "    </tr>\n",
       "  </tbody>\n",
       "</table>\n",
       "<p>100 rows × 7 columns</p>\n",
       "</div>"
      ],
      "text/plain": [
       "    policy_reward_mean/learned00  config/fc_units  config/lstm_units  \\\n",
       "41                      3.830952              100                 22   \n",
       "91                      2.260000              100                216   \n",
       "31                      1.970000             1000                 22   \n",
       "9                       1.890000              100                100   \n",
       "64                      1.860000              100                 10   \n",
       "..                           ...              ...                ...   \n",
       "88                      0.360000             1000                  1   \n",
       "98                      0.354762              100               1000   \n",
       "42                      0.319048                5                 47   \n",
       "94                      0.319048                1                  3   \n",
       "28                      0.300000                5                465   \n",
       "\n",
       "    config/num_workers  config/train_batch_size config/train_policies  \\\n",
       "41                  22                     4096           [learned00]   \n",
       "91                  22                      512           [learned00]   \n",
       "31                  22                      512           [learned00]   \n",
       "9                   22                      256           [learned00]   \n",
       "64                  22                      512           [learned00]   \n",
       "..                 ...                      ...                   ...   \n",
       "88                  22                      256           [learned00]   \n",
       "98                  22                     4096           [learned00]   \n",
       "42                  22                     4096           [learned00]   \n",
       "94                  22                     4096           [learned00]   \n",
       "28                  22                     4096           [learned00]   \n",
       "\n",
       "    config/train_steps  \n",
       "41                 100  \n",
       "91                 100  \n",
       "31                 100  \n",
       "9                  100  \n",
       "64                 100  \n",
       "..                 ...  \n",
       "88                 100  \n",
       "98                 100  \n",
       "42                 100  \n",
       "94                 100  \n",
       "28                 100  \n",
       "\n",
       "[100 rows x 7 columns]"
      ]
     },
     "execution_count": 18,
     "metadata": {},
     "output_type": "execute_result"
    }
   ],
   "source": [
    "df"
   ]
  },
  {
   "cell_type": "code",
   "execution_count": null,
   "metadata": {},
   "outputs": [],
   "source": []
  }
 ],
 "metadata": {
  "kernelspec": {
   "display_name": "Python 3",
   "language": "python",
   "name": "python3"
  },
  "language_info": {
   "codemirror_mode": {
    "name": "ipython",
    "version": 3
   },
   "file_extension": ".py",
   "mimetype": "text/x-python",
   "name": "python",
   "nbconvert_exporter": "python",
   "pygments_lexer": "ipython3",
   "version": "3.7.7"
  }
 },
 "nbformat": 4,
 "nbformat_minor": 4
}
