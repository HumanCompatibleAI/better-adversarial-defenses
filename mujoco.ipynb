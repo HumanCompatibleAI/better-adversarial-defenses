{
 "cells": [
  {
   "cell_type": "code",
   "execution_count": 20,
   "metadata": {},
   "outputs": [],
   "source": [
    "import tensorflow as tf\n",
    "tf.compat.v1.enable_eager_execution()\n",
    "from rps_rllib import RPSNoise\n",
    "import numpy as np\n",
    "import ray\n",
    "from ray.rllib import agents\n",
    "from tqdm.notebook import tqdm\n",
    "import random\n",
    "from ray.rllib.examples.env.rock_paper_scissors import RockPaperScissors\n",
    "from ray.rllib.policy.policy import Policy\n",
    "from gym.spaces import Discrete, Box\n",
    "from ray.rllib.agents.ppo import PPOTrainer\n",
    "from functools import partial\n",
    "from ray.tune.registry import register_env, _global_registry, ENV_CREATOR\n",
    "from ray.tune.logger import pretty_print\n",
    "from ray.rllib.agents.ppo.ppo_tf_policy import PPOTFPolicy\n",
    "\n",
    "import ray\n",
    "from ray import tune\n",
    "from ray.tune import track\n",
    "\n",
    "import math"
   ]
  },
  {
   "cell_type": "code",
   "execution_count": 2,
   "metadata": {},
   "outputs": [
    {
     "name": "stderr",
     "output_type": "stream",
     "text": [
      "2020-07-11 19:54:29,313\tINFO resource_spec.py:212 -- Starting Ray with 55.86 GiB memory available for workers and up to 27.94 GiB for objects. You can adjust these settings with ray.init(memory=<bytes>, object_store_memory=<bytes>).\n",
      "2020-07-11 19:54:29,575\tWARNING services.py:923 -- Redis failed to start, retrying now.\n",
      "2020-07-11 19:54:30,285\tINFO services.py:1165 -- View the Ray dashboard at \u001b[1m\u001b[32mlocalhost:8265\u001b[39m\u001b[22m\n"
     ]
    },
    {
     "data": {
      "text/plain": [
       "{'node_ip_address': '128.32.175.9',\n",
       " 'raylet_ip_address': '128.32.175.9',\n",
       " 'redis_address': '128.32.175.9:6379',\n",
       " 'object_store_address': '/scratch/sergei/tmp/session_2020-07-11_19-54-29_261873_3892/sockets/plasma_store',\n",
       " 'raylet_socket_name': '/scratch/sergei/tmp/session_2020-07-11_19-54-29_261873_3892/sockets/raylet',\n",
       " 'webui_url': 'localhost:8265',\n",
       " 'session_dir': '/scratch/sergei/tmp/session_2020-07-11_19-54-29_261873_3892'}"
      ]
     },
     "execution_count": 2,
     "metadata": {},
     "output_type": "execute_result"
    }
   ],
   "source": [
    "ray.init(ignore_reinit_error=True, include_webui=True,\n",
    "                    temp_dir='/scratch/sergei/tmp')"
   ]
  },
  {
   "cell_type": "code",
   "execution_count": 8,
   "metadata": {},
   "outputs": [
    {
     "name": "stderr",
     "output_type": "stream",
     "text": [
      "2020-07-11 19:55:46,650\tWARNING util.py:37 -- Install gputil for GPU system monitoring.\n"
     ]
    }
   ],
   "source": [
    "trainer = PPOTrainer(config={'train_batch_size': 4000,\n",
    "                   'framework': 'tfe',\n",
    "                   'env': 'Reacher-v2',\n",
    "                   'num_workers': 0})"
   ]
  },
  {
   "cell_type": "code",
   "execution_count": 9,
   "metadata": {},
   "outputs": [
    {
     "name": "stdout",
     "output_type": "stream",
     "text": [
      "WARNING:tensorflow:From /scratch/sergei/miniconda3/lib/python3.7/site-packages/ray/rllib/policy/tf_policy.py:761: Variable.load (from tensorflow.python.ops.variables) is deprecated and will be removed in a future version.\n",
      "Instructions for updating:\n",
      "Prefer Variable.assign which has equivalent behavior in 2.X.\n",
      "custom_metrics: {}\n",
      "date: 2020-07-11_19-56-22\n",
      "done: false\n",
      "episode_len_mean: 50.0\n",
      "episode_reward_max: -47.0274721815342\n",
      "episode_reward_mean: -61.177716616566784\n",
      "episode_reward_min: -72.8425516265993\n",
      "episodes_this_iter: 80\n",
      "episodes_total: 80\n",
      "experiment_id: a784970b238544e199e803ef9abab8f8\n",
      "hostname: astar\n",
      "info:\n",
      "  learner:\n",
      "    default_policy:\n",
      "      cur_kl_coeff: 0.20000000298023224\n",
      "      cur_lr: 4.999999873689376e-05\n",
      "      entropy: 2.7961018085479736\n",
      "      entropy_coeff: 0.0\n",
      "      kl: 0.013937138952314854\n",
      "      policy_loss: -0.011546189896762371\n",
      "      total_loss: 632.81103515625\n",
      "      vf_explained_var: 0.1906045377254486\n",
      "      vf_loss: 632.8197631835938\n",
      "  num_steps_sampled: 4000\n",
      "  num_steps_trained: 4000\n",
      "iterations_since_restore: 1\n",
      "node_ip: 128.32.175.9\n",
      "num_healthy_workers: 0\n",
      "off_policy_estimator: {}\n",
      "perf:\n",
      "  cpu_util_percent: 8.00576923076923\n",
      "  ram_util_percent: 3.699999999999999\n",
      "pid: 3892\n",
      "policy_reward_max: {}\n",
      "policy_reward_mean: {}\n",
      "policy_reward_min: {}\n",
      "sampler_perf:\n",
      "  mean_env_wait_ms: 0.1109121323108554\n",
      "  mean_inference_ms: 2.1234657489726074\n",
      "  mean_processing_ms: 0.13687318040561272\n",
      "time_since_restore: 34.22413420677185\n",
      "time_this_iter_s: 34.22413420677185\n",
      "time_total_s: 34.22413420677185\n",
      "timers:\n",
      "  learn_throughput: 161.838\n",
      "  learn_time_ms: 24716.102\n",
      "  sample_throughput: 420.891\n",
      "  sample_time_ms: 9503.643\n",
      "timestamp: 1594522582\n",
      "timesteps_since_restore: 0\n",
      "timesteps_total: 4000\n",
      "training_iteration: 1\n",
      "\n",
      "custom_metrics: {}\n",
      "date: 2020-07-11_19-56-56\n",
      "done: false\n",
      "episode_len_mean: 50.0\n",
      "episode_reward_max: -49.73916860521757\n",
      "episode_reward_mean: -61.18256922269199\n",
      "episode_reward_min: -73.77623417693154\n",
      "episodes_this_iter: 80\n",
      "episodes_total: 160\n",
      "experiment_id: a784970b238544e199e803ef9abab8f8\n",
      "hostname: astar\n",
      "info:\n",
      "  learner:\n",
      "    default_policy:\n",
      "      cur_kl_coeff: 0.20000000298023224\n",
      "      cur_lr: 4.999999873689376e-05\n",
      "      entropy: 2.7399959564208984\n",
      "      entropy_coeff: 0.0\n",
      "      kl: 0.014180031605064869\n",
      "      policy_loss: -0.023469578474760056\n",
      "      total_loss: 345.32183837890625\n",
      "      vf_explained_var: 0.27118444442749023\n",
      "      vf_loss: 345.34246826171875\n",
      "  num_steps_sampled: 8000\n",
      "  num_steps_trained: 8000\n",
      "iterations_since_restore: 2\n",
      "node_ip: 128.32.175.9\n",
      "num_healthy_workers: 0\n",
      "off_policy_estimator: {}\n",
      "perf:\n",
      "  cpu_util_percent: 7.925\n",
      "  ram_util_percent: 3.6999999999999997\n",
      "pid: 3892\n",
      "policy_reward_max: {}\n",
      "policy_reward_mean: {}\n",
      "policy_reward_min: {}\n",
      "sampler_perf:\n",
      "  mean_env_wait_ms: 0.11029375656293727\n",
      "  mean_inference_ms: 2.1129665697719933\n",
      "  mean_processing_ms: 0.13572247985345867\n",
      "time_since_restore: 68.22540926933289\n",
      "time_this_iter_s: 34.001275062561035\n",
      "time_total_s: 68.22540926933289\n",
      "timers:\n",
      "  learn_throughput: 162.161\n",
      "  learn_time_ms: 24666.849\n",
      "  sample_throughput: 423.711\n",
      "  sample_time_ms: 9440.389\n",
      "timestamp: 1594522616\n",
      "timesteps_since_restore: 0\n",
      "timesteps_total: 8000\n",
      "training_iteration: 2\n",
      "\n",
      "custom_metrics: {}\n",
      "date: 2020-07-11_19-57-30\n",
      "done: false\n",
      "episode_len_mean: 50.0\n",
      "episode_reward_max: -43.0613196300168\n",
      "episode_reward_mean: -59.229263484498006\n",
      "episode_reward_min: -69.972758616401\n",
      "episodes_this_iter: 80\n",
      "episodes_total: 240\n",
      "experiment_id: a784970b238544e199e803ef9abab8f8\n",
      "hostname: astar\n",
      "info:\n",
      "  learner:\n",
      "    default_policy:\n",
      "      cur_kl_coeff: 0.20000000298023224\n",
      "      cur_lr: 4.999999873689376e-05\n",
      "      entropy: 2.6178336143493652\n",
      "      entropy_coeff: 0.0\n",
      "      kl: 0.016725711524486542\n",
      "      policy_loss: -0.019218655303120613\n",
      "      total_loss: 140.70181274414062\n",
      "      vf_explained_var: 0.314903199672699\n",
      "      vf_loss: 140.71768188476562\n",
      "  num_steps_sampled: 12000\n",
      "  num_steps_trained: 12000\n",
      "iterations_since_restore: 3\n",
      "node_ip: 128.32.175.9\n",
      "num_healthy_workers: 0\n",
      "off_policy_estimator: {}\n",
      "perf:\n",
      "  cpu_util_percent: 7.5687500000000005\n",
      "  ram_util_percent: 3.6999999999999997\n",
      "pid: 3892\n",
      "policy_reward_max: {}\n",
      "policy_reward_mean: {}\n",
      "policy_reward_min: {}\n",
      "sampler_perf:\n",
      "  mean_env_wait_ms: 0.11015908447103362\n",
      "  mean_inference_ms: 2.109203917107559\n",
      "  mean_processing_ms: 0.13560982159194432\n",
      "time_since_restore: 102.03433084487915\n",
      "time_this_iter_s: 33.808921575546265\n",
      "time_total_s: 102.03433084487915\n",
      "timers:\n",
      "  learn_throughput: 162.792\n",
      "  learn_time_ms: 24571.226\n",
      "  sample_throughput: 423.95\n",
      "  sample_time_ms: 9435.064\n",
      "timestamp: 1594522650\n",
      "timesteps_since_restore: 0\n",
      "timesteps_total: 12000\n",
      "training_iteration: 3\n",
      "\n",
      "custom_metrics: {}\n",
      "date: 2020-07-11_19-58-01\n",
      "done: false\n",
      "episode_len_mean: 50.0\n",
      "episode_reward_max: -44.52642944253418\n",
      "episode_reward_mean: -57.26871634633215\n",
      "episode_reward_min: -71.95617594336044\n",
      "episodes_this_iter: 80\n",
      "episodes_total: 320\n",
      "experiment_id: a784970b238544e199e803ef9abab8f8\n",
      "hostname: astar\n",
      "info:\n",
      "  learner:\n",
      "    default_policy:\n",
      "      cur_kl_coeff: 0.20000000298023224\n",
      "      cur_lr: 4.999999873689376e-05\n",
      "      entropy: 2.586016893386841\n",
      "      entropy_coeff: 0.0\n",
      "      kl: 0.014024831354618073\n",
      "      policy_loss: -0.020142534747719765\n",
      "      total_loss: 107.36394500732422\n",
      "      vf_explained_var: 0.4098978340625763\n",
      "      vf_loss: 107.38128662109375\n",
      "  num_steps_sampled: 16000\n",
      "  num_steps_trained: 16000\n",
      "iterations_since_restore: 4\n",
      "node_ip: 128.32.175.9\n",
      "num_healthy_workers: 0\n",
      "off_policy_estimator: {}\n",
      "perf:\n",
      "  cpu_util_percent: 10.784444444444446\n",
      "  ram_util_percent: 4.082222222222223\n",
      "pid: 3892\n",
      "policy_reward_max: {}\n",
      "policy_reward_mean: {}\n",
      "policy_reward_min: {}\n",
      "sampler_perf:\n",
      "  mean_env_wait_ms: 0.11036528582873403\n",
      "  mean_inference_ms: 2.112497245983255\n",
      "  mean_processing_ms: 0.13605896526349653\n",
      "time_since_restore: 133.20264339447021\n",
      "time_this_iter_s: 31.168312549591064\n",
      "time_total_s: 133.20264339447021\n",
      "timers:\n",
      "  learn_throughput: 167.786\n",
      "  learn_time_ms: 23839.93\n",
      "  sample_throughput: 423.02\n",
      "  sample_time_ms: 9455.825\n",
      "timestamp: 1594522681\n",
      "timesteps_since_restore: 0\n",
      "timesteps_total: 16000\n",
      "training_iteration: 4\n",
      "\n",
      "custom_metrics: {}\n",
      "date: 2020-07-11_19-58-33\n",
      "done: false\n",
      "episode_len_mean: 50.0\n",
      "episode_reward_max: -44.6609213503076\n",
      "episode_reward_mean: -56.14162574630797\n",
      "episode_reward_min: -70.84303815285693\n",
      "episodes_this_iter: 80\n",
      "episodes_total: 400\n",
      "experiment_id: a784970b238544e199e803ef9abab8f8\n",
      "hostname: astar\n",
      "info:\n",
      "  learner:\n",
      "    default_policy:\n",
      "      cur_kl_coeff: 0.20000000298023224\n",
      "      cur_lr: 4.999999873689376e-05\n",
      "      entropy: 2.4599170684814453\n",
      "      entropy_coeff: 0.0\n",
      "      kl: 0.018545936793088913\n",
      "      policy_loss: -0.025034088641405106\n",
      "      total_loss: 85.54232025146484\n",
      "      vf_explained_var: 0.4831131100654602\n",
      "      vf_loss: 85.56364440917969\n",
      "  num_steps_sampled: 20000\n",
      "  num_steps_trained: 20000\n",
      "iterations_since_restore: 5\n",
      "node_ip: 128.32.175.9\n",
      "num_healthy_workers: 0\n",
      "off_policy_estimator: {}\n",
      "perf:\n",
      "  cpu_util_percent: 9.942222222222224\n",
      "  ram_util_percent: 5.695555555555554\n",
      "pid: 3892\n",
      "policy_reward_max: {}\n",
      "policy_reward_mean: {}\n",
      "policy_reward_min: {}\n",
      "sampler_perf:\n",
      "  mean_env_wait_ms: 0.11070282128913515\n",
      "  mean_inference_ms: 2.1157909049914143\n",
      "  mean_processing_ms: 0.13684487373961807\n",
      "time_since_restore: 164.99762296676636\n",
      "time_this_iter_s: 31.794979572296143\n",
      "time_total_s: 164.99762296676636\n",
      "timers:\n",
      "  learn_throughput: 170.055\n",
      "  learn_time_ms: 23521.78\n",
      "  sample_throughput: 422.275\n",
      "  sample_time_ms: 9472.505\n",
      "timestamp: 1594522713\n",
      "timesteps_since_restore: 0\n",
      "timesteps_total: 20000\n",
      "training_iteration: 5\n",
      "\n",
      "custom_metrics: {}\n",
      "date: 2020-07-11_19-59-04\n",
      "done: false\n",
      "episode_len_mean: 50.0\n",
      "episode_reward_max: -38.28767733545359\n",
      "episode_reward_mean: -54.765033715153635\n",
      "episode_reward_min: -70.84303815285693\n",
      "episodes_this_iter: 80\n",
      "episodes_total: 480\n",
      "experiment_id: a784970b238544e199e803ef9abab8f8\n",
      "hostname: astar\n",
      "info:\n",
      "  learner:\n",
      "    default_policy:\n",
      "      cur_kl_coeff: 0.20000000298023224\n",
      "      cur_lr: 4.999999873689376e-05\n",
      "      entropy: 2.4458727836608887\n",
      "      entropy_coeff: 0.0\n",
      "      kl: 0.014095179736614227\n",
      "      policy_loss: -0.018211647868156433\n",
      "      total_loss: 74.1793212890625\n",
      "      vf_explained_var: 0.5186882019042969\n",
      "      vf_loss: 74.19471740722656\n",
      "  num_steps_sampled: 24000\n",
      "  num_steps_trained: 24000\n",
      "iterations_since_restore: 6\n",
      "node_ip: 128.32.175.9\n",
      "num_healthy_workers: 0\n",
      "off_policy_estimator: {}\n",
      "perf:\n",
      "  cpu_util_percent: 9.086666666666668\n",
      "  ram_util_percent: 6.804444444444444\n",
      "pid: 3892\n",
      "policy_reward_max: {}\n",
      "policy_reward_mean: {}\n",
      "policy_reward_min: {}\n",
      "sampler_perf:\n",
      "  mean_env_wait_ms: 0.1109115479226127\n",
      "  mean_inference_ms: 2.1187363066712384\n",
      "  mean_processing_ms: 0.13721135602780127\n",
      "time_since_restore: 196.30622458457947\n",
      "time_this_iter_s: 31.30860161781311\n",
      "time_total_s: 196.30622458457947\n",
      "timers:\n",
      "  learn_throughput: 172.217\n",
      "  learn_time_ms: 23226.473\n",
      "  sample_throughput: 421.685\n",
      "  sample_time_ms: 9485.749\n",
      "timestamp: 1594522744\n",
      "timesteps_since_restore: 0\n",
      "timesteps_total: 24000\n",
      "training_iteration: 6\n",
      "\n",
      "custom_metrics: {}\n",
      "date: 2020-07-11_19-59-36\n",
      "done: false\n",
      "episode_len_mean: 50.0\n",
      "episode_reward_max: -42.18531544655574\n",
      "episode_reward_mean: -53.51566261981839\n",
      "episode_reward_min: -63.8727680129811\n",
      "episodes_this_iter: 80\n",
      "episodes_total: 560\n",
      "experiment_id: a784970b238544e199e803ef9abab8f8\n",
      "hostname: astar\n",
      "info:\n",
      "  learner:\n",
      "    default_policy:\n",
      "      cur_kl_coeff: 0.20000000298023224\n",
      "      cur_lr: 4.999999873689376e-05\n",
      "      entropy: 2.359997272491455\n",
      "      entropy_coeff: 0.0\n",
      "      kl: 0.016454994678497314\n",
      "      policy_loss: -0.01578136347234249\n",
      "      total_loss: 71.88157653808594\n",
      "      vf_explained_var: 0.5229016542434692\n",
      "      vf_loss: 71.8940658569336\n",
      "  num_steps_sampled: 28000\n",
      "  num_steps_trained: 28000\n",
      "iterations_since_restore: 7\n",
      "node_ip: 128.32.175.9\n",
      "num_healthy_workers: 0\n",
      "off_policy_estimator: {}\n",
      "perf:\n",
      "  cpu_util_percent: 11.986666666666666\n",
      "  ram_util_percent: 7.860000000000001\n",
      "pid: 3892\n",
      "policy_reward_max: {}\n",
      "policy_reward_mean: {}\n",
      "policy_reward_min: {}\n",
      "sampler_perf:\n",
      "  mean_env_wait_ms: 0.11094836425912966\n",
      "  mean_inference_ms: 2.118479580679088\n",
      "  mean_processing_ms: 0.13728138358631034\n",
      "time_since_restore: 227.968416929245\n",
      "time_this_iter_s: 31.662192344665527\n",
      "time_total_s: 227.968416929245\n",
      "timers:\n",
      "  learn_throughput: 173.312\n",
      "  learn_time_ms: 23079.701\n",
      "  sample_throughput: 421.872\n",
      "  sample_time_ms: 9481.555\n",
      "timestamp: 1594522776\n",
      "timesteps_since_restore: 0\n",
      "timesteps_total: 28000\n",
      "training_iteration: 7\n",
      "\n",
      "custom_metrics: {}\n",
      "date: 2020-07-11_20-00-08\n",
      "done: false\n",
      "episode_len_mean: 50.0\n",
      "episode_reward_max: -38.186998266438856\n",
      "episode_reward_mean: -51.266184440134005\n",
      "episode_reward_min: -64.11909395017597\n",
      "episodes_this_iter: 80\n",
      "episodes_total: 640\n",
      "experiment_id: a784970b238544e199e803ef9abab8f8\n",
      "hostname: astar\n",
      "info:\n",
      "  learner:\n",
      "    default_policy:\n",
      "      cur_kl_coeff: 0.20000000298023224\n",
      "      cur_lr: 4.999999873689376e-05\n",
      "      entropy: 2.2274656295776367\n",
      "      entropy_coeff: 0.0\n",
      "      kl: 0.013468272984027863\n",
      "      policy_loss: -0.022780651226639748\n",
      "      total_loss: 67.39430236816406\n",
      "      vf_explained_var: 0.5317062139511108\n",
      "      vf_loss: 67.41439819335938\n",
      "  num_steps_sampled: 32000\n",
      "  num_steps_trained: 32000\n",
      "iterations_since_restore: 8\n",
      "node_ip: 128.32.175.9\n",
      "num_healthy_workers: 0\n",
      "off_policy_estimator: {}\n",
      "perf:\n",
      "  cpu_util_percent: 11.675555555555555\n",
      "  ram_util_percent: 8.902222222222221\n",
      "pid: 3892\n",
      "policy_reward_max: {}\n",
      "policy_reward_mean: {}\n",
      "policy_reward_min: {}\n",
      "sampler_perf:\n",
      "  mean_env_wait_ms: 0.11093129980996501\n",
      "  mean_inference_ms: 2.117547819010198\n",
      "  mean_processing_ms: 0.13731078907128055\n",
      "time_since_restore: 259.62335419654846\n",
      "time_this_iter_s: 31.654937267303467\n",
      "time_total_s: 259.62335419654846\n",
      "timers:\n",
      "  learn_throughput: 174.146\n",
      "  learn_time_ms: 22969.211\n",
      "  sample_throughput: 422.034\n",
      "  sample_time_ms: 9477.916\n",
      "timestamp: 1594522808\n",
      "timesteps_since_restore: 0\n",
      "timesteps_total: 32000\n",
      "training_iteration: 8\n",
      "\n",
      "custom_metrics: {}\n",
      "date: 2020-07-11_20-00-39\n",
      "done: false\n",
      "episode_len_mean: 50.0\n",
      "episode_reward_max: -36.72845061895332\n",
      "episode_reward_mean: -48.03080448883877\n",
      "episode_reward_min: -59.6452467836549\n",
      "episodes_this_iter: 80\n",
      "episodes_total: 720\n",
      "experiment_id: a784970b238544e199e803ef9abab8f8\n",
      "hostname: astar\n",
      "info:\n",
      "  learner:\n",
      "    default_policy:\n",
      "      cur_kl_coeff: 0.20000000298023224\n",
      "      cur_lr: 4.999999873689376e-05\n",
      "      entropy: 2.096205949783325\n",
      "      entropy_coeff: 0.0\n",
      "      kl: 0.015581488609313965\n",
      "      policy_loss: -0.03149861842393875\n",
      "      total_loss: 47.778804779052734\n",
      "      vf_explained_var: 0.6066930294036865\n",
      "      vf_loss: 47.80718994140625\n",
      "  num_steps_sampled: 36000\n",
      "  num_steps_trained: 36000\n",
      "iterations_since_restore: 9\n",
      "node_ip: 128.32.175.9\n",
      "num_healthy_workers: 0\n",
      "off_policy_estimator: {}\n",
      "perf:\n",
      "  cpu_util_percent: 10.195454545454545\n",
      "  ram_util_percent: 9.288636363636368\n",
      "pid: 3892\n",
      "policy_reward_max: {}\n",
      "policy_reward_mean: {}\n",
      "policy_reward_min: {}\n",
      "sampler_perf:\n",
      "  mean_env_wait_ms: 0.11090895356474219\n",
      "  mean_inference_ms: 2.11656251431371\n",
      "  mean_processing_ms: 0.1373984329269424\n",
      "time_since_restore: 290.5872070789337\n",
      "time_this_iter_s: 30.963852882385254\n",
      "time_total_s: 290.5872070789337\n",
      "timers:\n",
      "  learn_throughput: 175.379\n",
      "  learn_time_ms: 22807.688\n",
      "  sample_throughput: 422.199\n",
      "  sample_time_ms: 9474.213\n",
      "timestamp: 1594522839\n",
      "timesteps_since_restore: 0\n",
      "timesteps_total: 36000\n",
      "training_iteration: 9\n",
      "\n",
      "custom_metrics: {}\n",
      "date: 2020-07-11_20-01-09\n",
      "done: false\n",
      "episode_len_mean: 50.0\n",
      "episode_reward_max: -36.269520847381294\n",
      "episode_reward_mean: -47.01504719580957\n",
      "episode_reward_min: -63.93651226980937\n",
      "episodes_this_iter: 80\n",
      "episodes_total: 800\n",
      "experiment_id: a784970b238544e199e803ef9abab8f8\n",
      "hostname: astar\n",
      "info:\n",
      "  learner:\n",
      "    default_policy:\n",
      "      cur_kl_coeff: 0.20000000298023224\n",
      "      cur_lr: 4.999999873689376e-05\n",
      "      entropy: 1.9976160526275635\n",
      "      entropy_coeff: 0.0\n",
      "      kl: 0.016398947685956955\n",
      "      policy_loss: -0.022901974618434906\n",
      "      total_loss: 56.952171325683594\n",
      "      vf_explained_var: 0.5290436148643494\n",
      "      vf_loss: 56.97179412841797\n",
      "  num_steps_sampled: 40000\n",
      "  num_steps_trained: 40000\n",
      "iterations_since_restore: 10\n",
      "node_ip: 128.32.175.9\n",
      "num_healthy_workers: 0\n",
      "off_policy_estimator: {}\n",
      "perf:\n",
      "  cpu_util_percent: 10.981395348837209\n",
      "  ram_util_percent: 9.100000000000001\n",
      "pid: 3892\n",
      "policy_reward_max: {}\n",
      "policy_reward_mean: {}\n",
      "policy_reward_min: {}\n",
      "sampler_perf:\n",
      "  mean_env_wait_ms: 0.11096306949918004\n",
      "  mean_inference_ms: 2.116948789574389\n",
      "  mean_processing_ms: 0.13742136666631258\n",
      "time_since_restore: 321.0278511047363\n",
      "time_this_iter_s: 30.440644025802612\n",
      "time_total_s: 321.0278511047363\n",
      "timers:\n",
      "  learn_throughput: 176.834\n",
      "  learn_time_ms: 22620.026\n",
      "  sample_throughput: 422.057\n",
      "  sample_time_ms: 9477.392\n",
      "timestamp: 1594522869\n",
      "timesteps_since_restore: 0\n",
      "timesteps_total: 40000\n",
      "training_iteration: 10\n",
      "\n"
     ]
    }
   ],
   "source": [
    "for _ in range(10):\n",
    "    results = trainer.train()\n",
    "    print(pretty_print(results))"
   ]
  },
  {
   "cell_type": "code",
   "execution_count": 10,
   "metadata": {},
   "outputs": [
    {
     "data": {
      "text/plain": [
       "\u001b[0;31mSignature:\u001b[0m \u001b[0mpretty_print\u001b[0m\u001b[0;34m(\u001b[0m\u001b[0mresult\u001b[0m\u001b[0;34m)\u001b[0m\u001b[0;34m\u001b[0m\u001b[0;34m\u001b[0m\u001b[0m\n",
       "\u001b[0;31mDocstring:\u001b[0m <no docstring>\n",
       "\u001b[0;31mFile:\u001b[0m      /scratch/sergei/miniconda3/lib/python3.7/site-packages/ray/tune/logger.py\n",
       "\u001b[0;31mType:\u001b[0m      function\n"
      ]
     },
     "metadata": {},
     "output_type": "display_data"
    }
   ],
   "source": [
    "?pretty_print"
   ]
  },
  {
   "cell_type": "code",
   "execution_count": 11,
   "metadata": {},
   "outputs": [
    {
     "name": "stdout",
     "output_type": "stream",
     "text": [
      "hello\n"
     ]
    }
   ],
   "source": [
    "print(\"hello\")"
   ]
  },
  {
   "cell_type": "code",
   "execution_count": 12,
   "metadata": {},
   "outputs": [
    {
     "name": "stdout",
     "output_type": "stream",
     "text": [
      "adversarial-policies\t\t      rps_rllib-analysis.ipynb\n",
      "mujoco.ipynb\t\t\t      rps_rllib.ipynb\n",
      "multiagent-competition\t\t      rps_rllib.py\n",
      "__pycache__\t\t\t      rps_rllib_tune.py\n",
      "README.md\t\t\t      rps_rl.py\n",
      "requirements.txt\t\t      rps_threat_bootstrapping.ipynb\n",
      "rock_paper_scissors.py\t\t      rps_threat_estimation_poc.ipynb\n",
      "rps_change_reward_sign.ipynb\t      test_env_agent_monitor.py\n",
      "rps_rllib_alternating-analysis.ipynb  test_rps.py\n",
      "rps_rllib_alternating_test.ipynb      test_rps_rllib.py\n",
      "rps_rllib_alternating_tune.py\n"
     ]
    }
   ],
   "source": [
    "!ls"
   ]
  },
  {
   "cell_type": "code",
   "execution_count": 8,
   "metadata": {},
   "outputs": [],
   "source": []
  },
  {
   "cell_type": "code",
   "execution_count": 9,
   "metadata": {},
   "outputs": [
    {
     "data": {
      "text/plain": [
       "['__builtins__',\n",
       " '__cached__',\n",
       " '__doc__',\n",
       " '__file__',\n",
       " '__loader__',\n",
       " '__name__',\n",
       " '__package__',\n",
       " '__path__',\n",
       " '__spec__',\n",
       " 'os',\n",
       " 'register']"
      ]
     },
     "execution_count": 9,
     "metadata": {},
     "output_type": "execute_result"
    }
   ],
   "source": [
    "dir(gym_compete)"
   ]
  },
  {
   "cell_type": "code",
   "execution_count": 10,
   "metadata": {},
   "outputs": [
    {
     "name": "stdout",
     "output_type": "stream",
     "text": [
      "Creating agent humanoid_blocker\n",
      "Reading agent XML from: /scratch/sergei/better-adversarial-defenses/multiagent-competition/gym_compete/new_envs/assets/humanoid_body.xml\n",
      "Creating agent humanoid\n",
      "Reading agent XML from: /scratch/sergei/better-adversarial-defenses/multiagent-competition/gym_compete/new_envs/assets/humanoid_body.xml\n",
      "Scene XML path: /scratch/sergei/better-adversarial-defenses/multiagent-competition/gym_compete/new_envs/assets/world_body.humanoid_body.humanoid_body.xml\n",
      "Created Scene with agents\n"
     ]
    }
   ],
   "source": []
  },
  {
   "cell_type": "code",
   "execution_count": 1,
   "metadata": {},
   "outputs": [],
   "source": [
    "import gym\n",
    "import gym_compete\n",
    "import numpy as np\n",
    "import os\n",
    "os.environ[\"DISPLAY\"] = ':0'\n",
    "from matplotlib import pyplot as plt\n",
    "%matplotlib inline"
   ]
  },
  {
   "cell_type": "code",
   "execution_count": null,
   "metadata": {},
   "outputs": [],
   "source": [
    "env = gym.make('multicomp/YouShallNotPassHumans-v0')\n",
    "env.action_space"
   ]
  },
  {
   "cell_type": "code",
   "execution_count": 18,
   "metadata": {},
   "outputs": [],
   "source": [
    "r = env.step((np.zeros(17), np.zeros(17)))"
   ]
  },
  {
   "cell_type": "code",
   "execution_count": 19,
   "metadata": {},
   "outputs": [
    {
     "data": {
      "text/plain": [
       "<matplotlib.image.AxesImage at 0x7f3208f01610>"
      ]
     },
     "execution_count": 19,
     "metadata": {},
     "output_type": "execute_result"
    },
    {
     "data": {
      "image/png": "[encoded data removed]",
      "text/plain": [
       "<Figure size 432x288 with 1 Axes>"
      ]
     },
     "metadata": {
      "needs_background": "light"
     },
     "output_type": "display_data"
    }
   ],
   "source": [
    "plt.imshow(env.render(mode='rgb_array'))"
   ]
  },
  {
   "cell_type": "code",
   "execution_count": 5,
   "metadata": {},
   "outputs": [
    {
     "ename": "AttributeError",
     "evalue": "module 'mujoco_py' has no attribute 'load_model_from_path'",
     "output_type": "error",
     "traceback": [
      "\u001b[0;31m---------------------------------------------------------------------------\u001b[0m",
      "\u001b[0;31mAttributeError\u001b[0m                            Traceback (most recent call last)",
      "\u001b[0;32m<ipython-input-5-2c049acd8983>\u001b[0m in \u001b[0;36m<module>\u001b[0;34m\u001b[0m\n\u001b[1;32m      1\u001b[0m \u001b[0;32mimport\u001b[0m \u001b[0mgym\u001b[0m\u001b[0;34m\u001b[0m\u001b[0;34m\u001b[0m\u001b[0m\n\u001b[0;32m----> 2\u001b[0;31m \u001b[0mgym\u001b[0m\u001b[0;34m.\u001b[0m\u001b[0mmake\u001b[0m\u001b[0;34m(\u001b[0m\u001b[0;34m'Reacher-v2'\u001b[0m\u001b[0;34m)\u001b[0m\u001b[0;34m.\u001b[0m\u001b[0mrender\u001b[0m\u001b[0;34m(\u001b[0m\u001b[0mmode\u001b[0m\u001b[0;34m=\u001b[0m\u001b[0;34m'rgb_array'\u001b[0m\u001b[0;34m)\u001b[0m\u001b[0;34m\u001b[0m\u001b[0;34m\u001b[0m\u001b[0m\n\u001b[0m",
      "\u001b[0;32m/scratch/sergei/miniconda3/lib/python3.7/site-packages/gym/envs/registration.py\u001b[0m in \u001b[0;36mmake\u001b[0;34m(id, **kwargs)\u001b[0m\n\u001b[1;32m    154\u001b[0m \u001b[0;34m\u001b[0m\u001b[0m\n\u001b[1;32m    155\u001b[0m \u001b[0;32mdef\u001b[0m \u001b[0mmake\u001b[0m\u001b[0;34m(\u001b[0m\u001b[0mid\u001b[0m\u001b[0;34m,\u001b[0m \u001b[0;34m**\u001b[0m\u001b[0mkwargs\u001b[0m\u001b[0;34m)\u001b[0m\u001b[0;34m:\u001b[0m\u001b[0;34m\u001b[0m\u001b[0;34m\u001b[0m\u001b[0m\n\u001b[0;32m--> 156\u001b[0;31m     \u001b[0;32mreturn\u001b[0m \u001b[0mregistry\u001b[0m\u001b[0;34m.\u001b[0m\u001b[0mmake\u001b[0m\u001b[0;34m(\u001b[0m\u001b[0mid\u001b[0m\u001b[0;34m,\u001b[0m \u001b[0;34m**\u001b[0m\u001b[0mkwargs\u001b[0m\u001b[0;34m)\u001b[0m\u001b[0;34m\u001b[0m\u001b[0;34m\u001b[0m\u001b[0m\n\u001b[0m\u001b[1;32m    157\u001b[0m \u001b[0;34m\u001b[0m\u001b[0m\n\u001b[1;32m    158\u001b[0m \u001b[0;32mdef\u001b[0m \u001b[0mspec\u001b[0m\u001b[0;34m(\u001b[0m\u001b[0mid\u001b[0m\u001b[0;34m)\u001b[0m\u001b[0;34m:\u001b[0m\u001b[0;34m\u001b[0m\u001b[0;34m\u001b[0m\u001b[0m\n",
      "\u001b[0;32m/scratch/sergei/miniconda3/lib/python3.7/site-packages/gym/envs/registration.py\u001b[0m in \u001b[0;36mmake\u001b[0;34m(self, path, **kwargs)\u001b[0m\n\u001b[1;32m     99\u001b[0m             \u001b[0mlogger\u001b[0m\u001b[0;34m.\u001b[0m\u001b[0minfo\u001b[0m\u001b[0;34m(\u001b[0m\u001b[0;34m'Making new env: %s'\u001b[0m\u001b[0;34m,\u001b[0m \u001b[0mpath\u001b[0m\u001b[0;34m)\u001b[0m\u001b[0;34m\u001b[0m\u001b[0;34m\u001b[0m\u001b[0m\n\u001b[1;32m    100\u001b[0m         \u001b[0mspec\u001b[0m \u001b[0;34m=\u001b[0m \u001b[0mself\u001b[0m\u001b[0;34m.\u001b[0m\u001b[0mspec\u001b[0m\u001b[0;34m(\u001b[0m\u001b[0mpath\u001b[0m\u001b[0;34m)\u001b[0m\u001b[0;34m\u001b[0m\u001b[0;34m\u001b[0m\u001b[0m\n\u001b[0;32m--> 101\u001b[0;31m         \u001b[0menv\u001b[0m \u001b[0;34m=\u001b[0m \u001b[0mspec\u001b[0m\u001b[0;34m.\u001b[0m\u001b[0mmake\u001b[0m\u001b[0;34m(\u001b[0m\u001b[0;34m**\u001b[0m\u001b[0mkwargs\u001b[0m\u001b[0;34m)\u001b[0m\u001b[0;34m\u001b[0m\u001b[0;34m\u001b[0m\u001b[0m\n\u001b[0m\u001b[1;32m    102\u001b[0m         \u001b[0;31m# We used to have people override _reset/_step rather than\u001b[0m\u001b[0;34m\u001b[0m\u001b[0;34m\u001b[0m\u001b[0;34m\u001b[0m\u001b[0m\n\u001b[1;32m    103\u001b[0m         \u001b[0;31m# reset/step. Set _gym_disable_underscore_compat = True on\u001b[0m\u001b[0;34m\u001b[0m\u001b[0;34m\u001b[0m\u001b[0;34m\u001b[0m\u001b[0m\n",
      "\u001b[0;32m/scratch/sergei/miniconda3/lib/python3.7/site-packages/gym/envs/registration.py\u001b[0m in \u001b[0;36mmake\u001b[0;34m(self, **kwargs)\u001b[0m\n\u001b[1;32m     71\u001b[0m         \u001b[0;32melse\u001b[0m\u001b[0;34m:\u001b[0m\u001b[0;34m\u001b[0m\u001b[0;34m\u001b[0m\u001b[0m\n\u001b[1;32m     72\u001b[0m             \u001b[0mcls\u001b[0m \u001b[0;34m=\u001b[0m \u001b[0mload\u001b[0m\u001b[0;34m(\u001b[0m\u001b[0mself\u001b[0m\u001b[0;34m.\u001b[0m\u001b[0mentry_point\u001b[0m\u001b[0;34m)\u001b[0m\u001b[0;34m\u001b[0m\u001b[0;34m\u001b[0m\u001b[0m\n\u001b[0;32m---> 73\u001b[0;31m             \u001b[0menv\u001b[0m \u001b[0;34m=\u001b[0m \u001b[0mcls\u001b[0m\u001b[0;34m(\u001b[0m\u001b[0;34m**\u001b[0m\u001b[0m_kwargs\u001b[0m\u001b[0;34m)\u001b[0m\u001b[0;34m\u001b[0m\u001b[0;34m\u001b[0m\u001b[0m\n\u001b[0m\u001b[1;32m     74\u001b[0m \u001b[0;34m\u001b[0m\u001b[0m\n\u001b[1;32m     75\u001b[0m         \u001b[0;31m# Make the enviroment aware of which spec it came from.\u001b[0m\u001b[0;34m\u001b[0m\u001b[0;34m\u001b[0m\u001b[0;34m\u001b[0m\u001b[0m\n",
      "\u001b[0;32m/scratch/sergei/miniconda3/lib/python3.7/site-packages/gym/envs/mujoco/reacher.py\u001b[0m in \u001b[0;36m__init__\u001b[0;34m(self)\u001b[0m\n\u001b[1;32m      6\u001b[0m     \u001b[0;32mdef\u001b[0m \u001b[0m__init__\u001b[0m\u001b[0;34m(\u001b[0m\u001b[0mself\u001b[0m\u001b[0;34m)\u001b[0m\u001b[0;34m:\u001b[0m\u001b[0;34m\u001b[0m\u001b[0;34m\u001b[0m\u001b[0m\n\u001b[1;32m      7\u001b[0m         \u001b[0mutils\u001b[0m\u001b[0;34m.\u001b[0m\u001b[0mEzPickle\u001b[0m\u001b[0;34m.\u001b[0m\u001b[0m__init__\u001b[0m\u001b[0;34m(\u001b[0m\u001b[0mself\u001b[0m\u001b[0;34m)\u001b[0m\u001b[0;34m\u001b[0m\u001b[0;34m\u001b[0m\u001b[0m\n\u001b[0;32m----> 8\u001b[0;31m         \u001b[0mmujoco_env\u001b[0m\u001b[0;34m.\u001b[0m\u001b[0mMujocoEnv\u001b[0m\u001b[0;34m.\u001b[0m\u001b[0m__init__\u001b[0m\u001b[0;34m(\u001b[0m\u001b[0mself\u001b[0m\u001b[0;34m,\u001b[0m \u001b[0;34m'reacher.xml'\u001b[0m\u001b[0;34m,\u001b[0m \u001b[0;36m2\u001b[0m\u001b[0;34m)\u001b[0m\u001b[0;34m\u001b[0m\u001b[0;34m\u001b[0m\u001b[0m\n\u001b[0m\u001b[1;32m      9\u001b[0m \u001b[0;34m\u001b[0m\u001b[0m\n\u001b[1;32m     10\u001b[0m     \u001b[0;32mdef\u001b[0m \u001b[0mstep\u001b[0m\u001b[0;34m(\u001b[0m\u001b[0mself\u001b[0m\u001b[0;34m,\u001b[0m \u001b[0ma\u001b[0m\u001b[0;34m)\u001b[0m\u001b[0;34m:\u001b[0m\u001b[0;34m\u001b[0m\u001b[0;34m\u001b[0m\u001b[0m\n",
      "\u001b[0;32m/scratch/sergei/miniconda3/lib/python3.7/site-packages/gym/envs/mujoco/mujoco_env.py\u001b[0m in \u001b[0;36m__init__\u001b[0;34m(self, model_path, frame_skip)\u001b[0m\n\u001b[1;32m     45\u001b[0m             \u001b[0;32mraise\u001b[0m \u001b[0mIOError\u001b[0m\u001b[0;34m(\u001b[0m\u001b[0;34m\"File %s does not exist\"\u001b[0m \u001b[0;34m%\u001b[0m \u001b[0mfullpath\u001b[0m\u001b[0;34m)\u001b[0m\u001b[0;34m\u001b[0m\u001b[0;34m\u001b[0m\u001b[0m\n\u001b[1;32m     46\u001b[0m         \u001b[0mself\u001b[0m\u001b[0;34m.\u001b[0m\u001b[0mframe_skip\u001b[0m \u001b[0;34m=\u001b[0m \u001b[0mframe_skip\u001b[0m\u001b[0;34m\u001b[0m\u001b[0;34m\u001b[0m\u001b[0m\n\u001b[0;32m---> 47\u001b[0;31m         \u001b[0mself\u001b[0m\u001b[0;34m.\u001b[0m\u001b[0mmodel\u001b[0m \u001b[0;34m=\u001b[0m \u001b[0mmujoco_py\u001b[0m\u001b[0;34m.\u001b[0m\u001b[0mload_model_from_path\u001b[0m\u001b[0;34m(\u001b[0m\u001b[0mfullpath\u001b[0m\u001b[0;34m)\u001b[0m\u001b[0;34m\u001b[0m\u001b[0;34m\u001b[0m\u001b[0m\n\u001b[0m\u001b[1;32m     48\u001b[0m         \u001b[0mself\u001b[0m\u001b[0;34m.\u001b[0m\u001b[0msim\u001b[0m \u001b[0;34m=\u001b[0m \u001b[0mmujoco_py\u001b[0m\u001b[0;34m.\u001b[0m\u001b[0mMjSim\u001b[0m\u001b[0;34m(\u001b[0m\u001b[0mself\u001b[0m\u001b[0;34m.\u001b[0m\u001b[0mmodel\u001b[0m\u001b[0;34m)\u001b[0m\u001b[0;34m\u001b[0m\u001b[0;34m\u001b[0m\u001b[0m\n\u001b[1;32m     49\u001b[0m         \u001b[0mself\u001b[0m\u001b[0;34m.\u001b[0m\u001b[0mdata\u001b[0m \u001b[0;34m=\u001b[0m \u001b[0mself\u001b[0m\u001b[0;34m.\u001b[0m\u001b[0msim\u001b[0m\u001b[0;34m.\u001b[0m\u001b[0mdata\u001b[0m\u001b[0;34m\u001b[0m\u001b[0;34m\u001b[0m\u001b[0m\n",
      "\u001b[0;31mAttributeError\u001b[0m: module 'mujoco_py' has no attribute 'load_model_from_path'"
     ]
    }
   ],
   "source": [
    "import gym\n",
    "gym.make('Reacher-v2').render(mode='rgb_array')"
   ]
  },
  {
   "cell_type": "code",
   "execution_count": 1,
   "metadata": {},
   "outputs": [],
   "source": [
    "import pickle"
   ]
  },
  {
   "cell_type": "code",
   "execution_count": 2,
   "metadata": {},
   "outputs": [],
   "source": [
    "policy = pickle.load(open('multiagent-competition/gym_compete/agent_zoo/YouShallNotPassHumans-v0/agent2_parameters-v1.pkl', 'rb'))"
   ]
  },
  {
   "cell_type": "code",
   "execution_count": 4,
   "metadata": {},
   "outputs": [
    {
     "data": {
      "text/plain": [
       "(59039,)"
      ]
     },
     "execution_count": 4,
     "metadata": {},
     "output_type": "execute_result"
    }
   ],
   "source": [
    "policy.shape"
   ]
  },
  {
   "cell_type": "code",
   "execution_count": null,
   "metadata": {},
   "outputs": [],
   "source": []
  },
  {
   "cell_type": "code",
   "execution_count": 27,
   "metadata": {},
   "outputs": [
    {
     "data": {
      "text/plain": [
       "(array([ 1273.,  2035.,  3471.,  5806., 14089., 14302.,  5901.,  3585.,\n",
       "         2103.,  1249.]),\n",
       " array([-9.9997157e-01, -8.0000502e-01, -6.0003841e-01, -4.0007186e-01,\n",
       "        -2.0010528e-01, -1.3870001e-04,  1.9982788e-01,  3.9979446e-01,\n",
       "         5.9976101e-01,  7.9972762e-01,  9.9969417e-01], dtype=float32),\n",
       " <a list of 10 Patch objects>)"
      ]
     },
     "execution_count": 27,
     "metadata": {},
     "output_type": "execute_result"
    },
    {
     "data": {
      "image/png": "[encoded data removed]",
      "text/plain": [
       "<Figure size 432x288 with 1 Axes>"
      ]
     },
     "metadata": {
      "needs_background": "light"
     },
     "output_type": "display_data"
    }
   ],
   "source": [
    "plt.hist(policy[np.abs(policy) < 1])"
   ]
  },
  {
   "cell_type": "code",
   "execution_count": 19,
   "metadata": {},
   "outputs": [
    {
     "data": {
      "text/plain": [
       "(array([5.9034e+04, 2.0000e+00, 0.0000e+00, 2.0000e+00, 0.0000e+00,\n",
       "        0.0000e+00, 0.0000e+00, 0.0000e+00, 0.0000e+00, 0.0000e+00,\n",
       "        0.0000e+00, 0.0000e+00, 0.0000e+00, 0.0000e+00, 0.0000e+00,\n",
       "        0.0000e+00, 0.0000e+00, 0.0000e+00, 0.0000e+00, 0.0000e+00,\n",
       "        0.0000e+00, 0.0000e+00, 0.0000e+00, 0.0000e+00, 0.0000e+00,\n",
       "        0.0000e+00, 0.0000e+00, 0.0000e+00, 0.0000e+00, 0.0000e+00,\n",
       "        0.0000e+00, 0.0000e+00, 0.0000e+00, 0.0000e+00, 0.0000e+00,\n",
       "        0.0000e+00, 0.0000e+00, 0.0000e+00, 0.0000e+00, 0.0000e+00,\n",
       "        0.0000e+00, 0.0000e+00, 0.0000e+00, 0.0000e+00, 0.0000e+00,\n",
       "        0.0000e+00, 0.0000e+00, 0.0000e+00, 0.0000e+00, 0.0000e+00,\n",
       "        0.0000e+00, 0.0000e+00, 0.0000e+00, 0.0000e+00, 0.0000e+00,\n",
       "        0.0000e+00, 0.0000e+00, 0.0000e+00, 0.0000e+00, 0.0000e+00,\n",
       "        0.0000e+00, 0.0000e+00, 0.0000e+00, 0.0000e+00, 0.0000e+00,\n",
       "        0.0000e+00, 0.0000e+00, 0.0000e+00, 0.0000e+00, 0.0000e+00,\n",
       "        0.0000e+00, 0.0000e+00, 0.0000e+00, 0.0000e+00, 0.0000e+00,\n",
       "        0.0000e+00, 0.0000e+00, 0.0000e+00, 0.0000e+00, 0.0000e+00,\n",
       "        0.0000e+00, 0.0000e+00, 0.0000e+00, 0.0000e+00, 0.0000e+00,\n",
       "        0.0000e+00, 0.0000e+00, 0.0000e+00, 0.0000e+00, 0.0000e+00,\n",
       "        0.0000e+00, 0.0000e+00, 0.0000e+00, 0.0000e+00, 0.0000e+00,\n",
       "        0.0000e+00, 0.0000e+00, 0.0000e+00, 0.0000e+00, 1.0000e+00]),\n",
       " array([-8.6128166e+08,  3.4730299e+11,  6.9546731e+11,  1.0436316e+12,\n",
       "         1.3917959e+12,  1.7399601e+12,  2.0881244e+12,  2.4362887e+12,\n",
       "         2.7844529e+12,  3.1326171e+12,  3.4807816e+12,  3.8289458e+12,\n",
       "         4.1771100e+12,  4.5252744e+12,  4.8734389e+12,  5.2216028e+12,\n",
       "         5.5697673e+12,  5.9179317e+12,  6.2660957e+12,  6.6142601e+12,\n",
       "         6.9624246e+12,  7.3105885e+12,  7.6587530e+12,  8.0069174e+12,\n",
       "         8.3550814e+12,  8.7032458e+12,  9.0514097e+12,  9.3995747e+12,\n",
       "         9.7477387e+12,  1.0095903e+13,  1.0444068e+13,  1.0792232e+13,\n",
       "         1.1140395e+13,  1.1488560e+13,  1.1836724e+13,  1.2184888e+13,\n",
       "         1.2533053e+13,  1.2881217e+13,  1.3229381e+13,  1.3577546e+13,\n",
       "         1.3925710e+13,  1.4273874e+13,  1.4622039e+13,  1.4970203e+13,\n",
       "         1.5318367e+13,  1.5666532e+13,  1.6014696e+13,  1.6362860e+13,\n",
       "         1.6711025e+13,  1.7059189e+13,  1.7407353e+13,  1.7755516e+13,\n",
       "         1.8103681e+13,  1.8451846e+13,  1.8800009e+13,  1.9148174e+13,\n",
       "         1.9496339e+13,  1.9844502e+13,  2.0192667e+13,  2.0540832e+13,\n",
       "         2.0888995e+13,  2.1237160e+13,  2.1585325e+13,  2.1933488e+13,\n",
       "         2.2281653e+13,  2.2629818e+13,  2.2977981e+13,  2.3326146e+13,\n",
       "         2.3674311e+13,  2.4022474e+13,  2.4370638e+13,  2.4718803e+13,\n",
       "         2.5066966e+13,  2.5415131e+13,  2.5763296e+13,  2.6111459e+13,\n",
       "         2.6459624e+13,  2.6807789e+13,  2.7155952e+13,  2.7504117e+13,\n",
       "         2.7852282e+13,  2.8200445e+13,  2.8548610e+13,  2.8896775e+13,\n",
       "         2.9244938e+13,  2.9593103e+13,  2.9941268e+13,  3.0289431e+13,\n",
       "         3.0637596e+13,  3.0985761e+13,  3.1333923e+13,  3.1682088e+13,\n",
       "         3.2030253e+13,  3.2378416e+13,  3.2726581e+13,  3.3074746e+13,\n",
       "         3.3422909e+13,  3.3771074e+13,  3.4119239e+13,  3.4467402e+13,\n",
       "         3.4815567e+13], dtype=float32),\n",
       " <a list of 100 Patch objects>)"
      ]
     },
     "execution_count": 19,
     "metadata": {},
     "output_type": "execute_result"
    },
    {
     "data": {
      "image/png": "[encoded data removed]",
      "text/plain": [
       "<Figure size 432x288 with 1 Axes>"
      ]
     },
     "metadata": {
      "needs_background": "light"
     },
     "output_type": "display_data"
    }
   ],
   "source": [
    "plt.hist(policy, bins=100)"
   ]
  },
  {
   "cell_type": "code",
   "execution_count": 1,
   "metadata": {},
   "outputs": [
    {
     "name": "stdout",
     "output_type": "stream",
     "text": [
      "WARNING:tensorflow:\n",
      "The TensorFlow contrib module will not be included in TensorFlow 2.0.\n",
      "For more information, please see:\n",
      "  * https://github.com/tensorflow/community/blob/master/rfcs/20180907-contrib-sunset.md\n",
      "  * https://github.com/tensorflow/addons\n",
      "  * https://github.com/tensorflow/io (for I/O related ops)\n",
      "If you depend on functionality not listed there, please file an issue.\n",
      "\n",
      "WARNING:tensorflow:From /home/sergei/git/chai/adversarial-policies/src/aprl/policies/base.py:21: The name tf.Session is deprecated. Please use tf.compat.v1.Session instead.\n",
      "\n"
     ]
    }
   ],
   "source": []
  },
  {
   "cell_type": "code",
   "execution_count": 16,
   "metadata": {},
   "outputs": [
    {
     "name": "stdout",
     "output_type": "stream",
     "text": [
      "Creating agent humanoid_blocker\n",
      "Reading agent XML from: /home/sergei/git/chai/multiagent-competition/gym_compete/new_envs/assets/humanoid_body.xml\n",
      "Creating agent humanoid\n",
      "Reading agent XML from: /home/sergei/git/chai/multiagent-competition/gym_compete/new_envs/assets/humanoid_body.xml\n",
      "Scene XML path: /home/sergei/git/chai/multiagent-competition/gym_compete/new_envs/assets/world_body.humanoid_body.humanoid_body.xml\n",
      "Created Scene with agents\n"
     ]
    }
   ],
   "source": [
    "from aprl.envs.gym_compete import load_zoo_agent\n",
    "import gym\n",
    "import gym_compete\n",
    "import numpy as np\n",
    "import os\n",
    "os.environ[\"DISPLAY\"] = ':0'\n",
    "from matplotlib import pyplot as plt\n",
    "%matplotlib inline\n",
    "env = gym.make('multicomp/YouShallNotPassHumans-v0')\n",
    "import tensorflow.keras as keras\n",
    "import tensorflow as tf"
   ]
  },
  {
   "cell_type": "code",
   "execution_count": 17,
   "metadata": {},
   "outputs": [
    {
     "data": {
      "text/plain": [
       "\u001b[0;31mSignature:\u001b[0m \u001b[0mload_zoo_agent\u001b[0m\u001b[0;34m(\u001b[0m\u001b[0mtag\u001b[0m\u001b[0;34m,\u001b[0m \u001b[0menv\u001b[0m\u001b[0;34m,\u001b[0m \u001b[0menv_name\u001b[0m\u001b[0;34m,\u001b[0m \u001b[0mindex\u001b[0m\u001b[0;34m,\u001b[0m \u001b[0mtransparent_params\u001b[0m\u001b[0;34m)\u001b[0m\u001b[0;34m\u001b[0m\u001b[0m\n",
       "\u001b[0;31mDocstring:\u001b[0m\n",
       "Loads a gym_compete zoo agent.\n",
       ":param tag: (str) version of the zoo agent (e.g. '1', '2', '3').\n",
       ":param env: (gym.Env) the environment\n",
       ":param env_name: (str) Gym environment ID\n",
       ":param index: (int) the player ID of the agent we want to load ('0' or '1')\n",
       ":return a BaseModel, where predict executes the loaded policy.\n",
       "\u001b[0;31mFile:\u001b[0m      ~/git/chai/adversarial-policies/src/aprl/envs/gym_compete.py\n",
       "\u001b[0;31mType:\u001b[0m      function\n"
      ]
     },
     "metadata": {},
     "output_type": "display_data"
    }
   ],
   "source": [
    "?load_zoo_agent"
   ]
  },
  {
   "cell_type": "code",
   "execution_count": 18,
   "metadata": {},
   "outputs": [],
   "source": []
  },
  {
   "cell_type": "code",
   "execution_count": 19,
   "metadata": {},
   "outputs": [],
   "source": [
    "self = policy.policy_obj\n"
   ]
  },
  {
   "cell_type": "code",
   "execution_count": 20,
   "metadata": {},
   "outputs": [
    {
     "name": "stdout",
     "output_type": "stream",
     "text": [
      "[<tf.Variable 'zoo_policy_1_0/retfilter/sum:0' shape=() dtype=float32_ref>, <tf.Variable 'zoo_policy_1_0/retfilter/sumsq:0' shape=() dtype=float32_ref>, <tf.Variable 'zoo_policy_1_0/retfilter/count:0' shape=() dtype=float32_ref>, <tf.Variable 'zoo_policy_1_0/obsfilter/sum:0' shape=(380,) dtype=float32_ref>, <tf.Variable 'zoo_policy_1_0/obsfilter/sumsq:0' shape=(380,) dtype=float32_ref>, <tf.Variable 'zoo_policy_1_0/obsfilter/count:0' shape=() dtype=float32_ref>, <tf.Variable 'zoo_policy_1_0/vff1/w:0' shape=(380, 64) dtype=float32_ref>, <tf.Variable 'zoo_policy_1_0/vff1/b:0' shape=(64,) dtype=float32_ref>, <tf.Variable 'zoo_policy_1_0/vff2/w:0' shape=(64, 64) dtype=float32_ref>, <tf.Variable 'zoo_policy_1_0/vff2/b:0' shape=(64,) dtype=float32_ref>, <tf.Variable 'zoo_policy_1_0/vfffinal/w:0' shape=(64, 1) dtype=float32_ref>, <tf.Variable 'zoo_policy_1_0/vfffinal/b:0' shape=(1,) dtype=float32_ref>, <tf.Variable 'zoo_policy_1_0/pol1/w:0' shape=(380, 64) dtype=float32_ref>, <tf.Variable 'zoo_policy_1_0/pol1/b:0' shape=(64,) dtype=float32_ref>, <tf.Variable 'zoo_policy_1_0/pol2/w:0' shape=(64, 64) dtype=float32_ref>, <tf.Variable 'zoo_policy_1_0/pol2/b:0' shape=(64,) dtype=float32_ref>, <tf.Variable 'zoo_policy_1_0/polfinal/w:0' shape=(64, 17) dtype=float32_ref>, <tf.Variable 'zoo_policy_1_0/polfinal/b:0' shape=(17,) dtype=float32_ref>, <tf.Variable 'zoo_policy_1_0/logstd:0' shape=(1, 17) dtype=float32_ref>]\n"
     ]
    }
   ],
   "source": [
    "with self.sess.graph.as_default():\n",
    "    var_list = self.get_trainable_variables()\n",
    "    print(var_list)"
   ]
  },
  {
   "cell_type": "code",
   "execution_count": 21,
   "metadata": {},
   "outputs": [
    {
     "data": {
      "text/plain": [
       "<tf.Tensor 'zoo_policy_1_0/obsfilter/truediv:0' shape=(380,) dtype=float32>"
      ]
     },
     "execution_count": 21,
     "metadata": {},
     "output_type": "execute_result"
    }
   ],
   "source": [
    "self.ob_rms.mean"
   ]
  },
  {
   "cell_type": "code",
   "execution_count": 558,
   "metadata": {},
   "outputs": [],
   "source": []
  },
  {
   "cell_type": "code",
   "execution_count": 559,
   "metadata": {},
   "outputs": [],
   "source": []
  },
  {
   "cell_type": "code",
   "execution_count": 588,
   "metadata": {},
   "outputs": [],
   "source": []
  },
  {
   "cell_type": "code",
   "execution_count": 561,
   "metadata": {},
   "outputs": [
    {
     "name": "stdout",
     "output_type": "stream",
     "text": [
      "Model: \"model_34\"\n",
      "__________________________________________________________________________________________________\n",
      "Layer (type)                    Output Shape         Param #     Connected to                     \n",
      "==================================================================================================\n",
      "input_34 (InputLayer)           [(None, 380)]        0                                            \n",
      "__________________________________________________________________________________________________\n",
      "observation_preprocessing_layer (None, 380)          761         input_34[0][0]                   \n",
      "__________________________________________________________________________________________________\n",
      "dense_157 (Dense)               (None, 64)           24384       observation_preprocessing_layer_7\n",
      "__________________________________________________________________________________________________\n",
      "dense_158 (Dense)               (None, 64)           4160        dense_157[0][0]                  \n",
      "__________________________________________________________________________________________________\n",
      "mean (Dense)                    (None, 17)           1105        dense_158[0][0]                  \n",
      "__________________________________________________________________________________________________\n",
      "std (UnconnectedVariableLayer)  (None, 17)           17          dense_158[0][0]                  \n",
      "__________________________________________________________________________________________________\n",
      "reshape_mean (Reshape)          (None, 17, 1)        0           mean[0][0]                       \n",
      "__________________________________________________________________________________________________\n",
      "reshape_std (Reshape)           (None, 17, 1)        0           std[0][0]                        \n",
      "__________________________________________________________________________________________________\n",
      "concatenate_26 (Concatenate)    (None, 17, 2)        0           reshape_mean[0][0]               \n",
      "                                                                 reshape_std[0][0]                \n",
      "__________________________________________________________________________________________________\n",
      "diagonal_normal_sampling_layer_ (None, 17)           0           concatenate_26[0][0]             \n",
      "==================================================================================================\n",
      "Total params: 30,427\n",
      "Trainable params: 29,666\n",
      "Non-trainable params: 761\n",
      "__________________________________________________________________________________________________\n"
     ]
    }
   ],
   "source": []
  },
  {
   "cell_type": "code",
   "execution_count": 562,
   "metadata": {},
   "outputs": [],
   "source": []
  },
  {
   "cell_type": "code",
   "execution_count": 563,
   "metadata": {},
   "outputs": [],
   "source": []
  },
  {
   "cell_type": "code",
   "execution_count": 564,
   "metadata": {},
   "outputs": [],
   "source": []
  },
  {
   "cell_type": "code",
   "execution_count": 565,
   "metadata": {},
   "outputs": [
    {
     "data": {
      "text/plain": [
       "<tf.Tensor 'sequential_34/value_postprocessing_layer_21/add:0' shape=(1, 1) dtype=float32>"
      ]
     },
     "execution_count": 565,
     "metadata": {},
     "output_type": "execute_result"
    }
   ],
   "source": []
  },
  {
   "cell_type": "code",
   "execution_count": null,
   "metadata": {},
   "outputs": [],
   "source": []
  },
  {
   "cell_type": "code",
   "execution_count": 566,
   "metadata": {},
   "outputs": [],
   "source": []
  },
  {
   "cell_type": "code",
   "execution_count": 567,
   "metadata": {},
   "outputs": [
    {
     "name": "stdout",
     "output_type": "stream",
     "text": [
      "1\n"
     ]
    }
   ],
   "source": []
  },
  {
   "cell_type": "code",
   "execution_count": 568,
   "metadata": {},
   "outputs": [],
   "source": [
    "model_policy.compile('adam', 'mse')"
   ]
  },
  {
   "cell_type": "code",
   "execution_count": 569,
   "metadata": {},
   "outputs": [
    {
     "data": {
      "text/plain": [
       "<tensorflow.python.keras.engine.input_layer.InputLayer at 0x7f42582a4278>"
      ]
     },
     "execution_count": 569,
     "metadata": {},
     "output_type": "execute_result"
    }
   ],
   "source": [
    "model_policy.layers[0]"
   ]
  },
  {
   "cell_type": "code",
   "execution_count": 570,
   "metadata": {},
   "outputs": [],
   "source": []
  },
  {
   "cell_type": "code",
   "execution_count": 571,
   "metadata": {},
   "outputs": [],
   "source": []
  },
  {
   "cell_type": "code",
   "execution_count": 572,
   "metadata": {},
   "outputs": [
    {
     "data": {
      "text/plain": [
       "[array([[0.30179968, 0.3491463 , 0.2789165 , 0.3500178 , 0.33237398,\n",
       "         0.2917576 , 0.21572119, 0.40321082, 0.34588513, 0.324392  ,\n",
       "         0.19461533, 0.3123284 , 0.37066177, 0.4247183 , 0.4387836 ,\n",
       "         0.30599314, 0.38874772]], dtype=float32)]"
      ]
     },
     "execution_count": 572,
     "metadata": {},
     "output_type": "execute_result"
    }
   ],
   "source": [
    "model_policy_mean_std.layers[-4].get_weights()"
   ]
  },
  {
   "cell_type": "code",
   "execution_count": 581,
   "metadata": {},
   "outputs": [],
   "source": []
  },
  {
   "cell_type": "code",
   "execution_count": 582,
   "metadata": {},
   "outputs": [
    {
     "name": "stdout",
     "output_type": "stream",
     "text": [
      "0.041427962\n"
     ]
    },
    {
     "data": {
      "text/plain": [
       "Text(0.5, 0, 'Error %')"
      ]
     },
     "execution_count": 582,
     "metadata": {},
     "output_type": "execute_result"
    },
    {
     "data": {
      "image/png": "[encoded data removed]",
      "text/plain": [
       "<Figure size 432x288 with 1 Axes>"
      ]
     },
     "metadata": {
      "needs_background": "light"
     },
     "output_type": "display_data"
    }
   ],
   "source": []
  },
  {
   "cell_type": "code",
   "execution_count": null,
   "metadata": {},
   "outputs": [],
   "source": []
  },
  {
   "cell_type": "code",
   "execution_count": null,
   "metadata": {},
   "outputs": [],
   "source": []
  },
  {
   "cell_type": "code",
   "execution_count": null,
   "metadata": {},
   "outputs": [],
   "source": []
  },
  {
   "cell_type": "code",
   "execution_count": 583,
   "metadata": {},
   "outputs": [],
   "source": []
  },
  {
   "cell_type": "code",
   "execution_count": 584,
   "metadata": {},
   "outputs": [],
   "source": []
  },
  {
   "cell_type": "code",
   "execution_count": 585,
   "metadata": {},
   "outputs": [
    {
     "name": "stdout",
     "output_type": "stream",
     "text": [
      "1.0457566\n"
     ]
    },
    {
     "data": {
      "text/plain": [
       "Text(0.5, 0, 'Error %')"
      ]
     },
     "execution_count": 585,
     "metadata": {},
     "output_type": "execute_result"
    },
    {
     "data": {
      "image/png": "[encoded data removed]",
      "text/plain": [
       "<Figure size 432x288 with 1 Axes>"
      ]
     },
     "metadata": {
      "needs_background": "light"
     },
     "output_type": "display_data"
    }
   ],
   "source": []
  },
  {
   "cell_type": "code",
   "execution_count": 586,
   "metadata": {},
   "outputs": [
    {
     "name": "stdout",
     "output_type": "stream",
     "text": [
      "1.5313448e-05\n"
     ]
    },
    {
     "data": {
      "text/plain": [
       "Text(0.5, 0, 'Error %')"
      ]
     },
     "execution_count": 586,
     "metadata": {},
     "output_type": "execute_result"
    },
    {
     "data": {
      "image/png": "[encoded data removed]",
      "text/plain": [
       "<Figure size 432x288 with 1 Axes>"
      ]
     },
     "metadata": {
      "needs_background": "light"
     },
     "output_type": "display_data"
    }
   ],
   "source": []
  },
  {
   "cell_type": "code",
   "execution_count": 587,
   "metadata": {},
   "outputs": [],
   "source": [
    "from scipy.special import softmax"
   ]
  },
  {
   "cell_type": "code",
   "execution_count": 511,
   "metadata": {},
   "outputs": [
    {
     "data": {
      "text/plain": [
       "<stable_baselines.common.distributions.DiagGaussianProbabilityDistribution at 0x7f430c043e48>"
      ]
     },
     "execution_count": 511,
     "metadata": {},
     "output_type": "execute_result"
    }
   ],
   "source": [
    "mlp_policy.proba_distribution"
   ]
  },
  {
   "cell_type": "code",
   "execution_count": 512,
   "metadata": {},
   "outputs": [
    {
     "data": {
      "text/plain": [
       "array([[0.06309292, 0.07879231, 0.06913661, 0.12785313, 0.0404565 ,\n",
       "        0.03737467, 0.06015384, 0.01232672, 0.01503552, 0.19504054,\n",
       "        0.03137734, 0.01700045, 0.04370131, 0.03830712, 0.11474852,\n",
       "        0.01380887, 0.04179372]], dtype=float32)"
      ]
     },
     "execution_count": 512,
     "metadata": {},
     "output_type": "execute_result"
    }
   ],
   "source": [
    "softmax(p1)"
   ]
  },
  {
   "cell_type": "markdown",
   "metadata": {},
   "source": [
    "## Meeting on 13th of July\n",
    "1. load the policy (continue current direction)\n",
    "2. test that can get an adversary like the one in aprl\n",
    "   * use large batch size, do reward clipping (have a large reward range), use small learning rate -- see aprl code&paper\n",
    "   * try PPO/A3C/impala\n",
    "3. run training in bursts\n",
    "4. might be better to run 14 environments instead of 28, only have 14 cores -- benchmark\n",
    "5. can switch to another machine/use AWS if astar is busy"
   ]
  },
  {
   "cell_type": "code",
   "execution_count": null,
   "metadata": {},
   "outputs": [],
   "source": []
  }
 ],
 "metadata": {
  "kernelspec": {
   "display_name": "Python 3",
   "language": "python",
   "name": "python3"
  },
  "language_info": {
   "codemirror_mode": {
    "name": "ipython",
    "version": 3
   },
   "file_extension": ".py",
   "mimetype": "text/x-python",
   "name": "python",
   "nbconvert_exporter": "python",
   "pygments_lexer": "ipython3",
   "version": "3.7.0"
  }
 },
 "nbformat": 4,
 "nbformat_minor": 4
}
