{
 "cells": [
  {
   "cell_type": "code",
   "execution_count": 1,
   "metadata": {},
   "outputs": [],
   "source": [
    "import numpy as np\n",
    "import os\n",
    "os.environ[\"TF_FORCE_GPU_ALLOW_GROWTH\"]=\"true\"\n",
    "import tensorflow as tf\n",
    "tf.compat.v1.enable_eager_execution()\n",
    "from tqdm.notebook import tqdm\n",
    "from copy import deepcopy\n",
    "from matplotlib import pyplot as plt\n",
    "import pandas as pd\n",
    "import seaborn as sns\n",
    "from sacred import Experiment\n",
    "import rock_paper_scissors as rps\n",
    "from rps_rl import RPCEnv, RPCAgent, Monitor, Universe"
   ]
  },
  {
   "cell_type": "markdown",
   "metadata": {},
   "source": [
    "## All outcomes (sanity check)"
   ]
  },
  {
   "cell_type": "code",
   "execution_count": 2,
   "metadata": {},
   "outputs": [
    {
     "name": "stdout",
     "output_type": "stream",
     "text": [
      "R vs R => tie\n",
      "R vs P => R loses\n",
      "R vs S => R wins\n",
      "P vs R => P wins\n",
      "P vs P => tie\n",
      "P vs S => P loses\n",
      "S vs R => S loses\n",
      "S vs P => S wins\n",
      "S vs S => tie\n"
     ]
    }
   ],
   "source": [
    "rps.print_outcomes()"
   ]
  },
  {
   "cell_type": "markdown",
   "metadata": {},
   "source": [
    "## Initial training phase"
   ]
  },
  {
   "cell_type": "code",
   "execution_count": 3,
   "metadata": {},
   "outputs": [],
   "source": [
    "# environment\n",
    "env = RPCEnv(noise_dim=4)\n",
    "\n",
    "# how many agents to create?\n",
    "N_AGENTS = 10\n",
    "\n",
    "# how many games to play during test?\n",
    "N_GAMES = 1000\n",
    "\n",
    "# creating agents\n",
    "AGENTS = [RPCAgent(noise_dim=env.noise_dim, identity=i) for i in range(N_AGENTS)]\n",
    "\n",
    "# to track the performance\n",
    "m = Monitor(agents=AGENTS)"
   ]
  },
  {
   "cell_type": "code",
   "execution_count": 4,
   "metadata": {},
   "outputs": [],
   "source": [
    "def sample_agent():\n",
    "    \"\"\"Get one of the agents.\"\"\"\n",
    "    return np.random.choice(AGENTS)"
   ]
  },
  {
   "cell_type": "code",
   "execution_count": 5,
   "metadata": {},
   "outputs": [
    {
     "data": {
      "application/vnd.jupyter.widget-view+json": {
       "model_id": "4236b811df9d42c19c165b4bf7f4addc",
       "version_major": 2,
       "version_minor": 0
      },
      "text/plain": [
       "HBox(children=(FloatProgress(value=0.0, max=1000.0), HTML(value='')))"
      ]
     },
     "metadata": {},
     "output_type": "display_data"
    },
    {
     "name": "stdout",
     "output_type": "stream",
     "text": [
      "\n"
     ]
    }
   ],
   "source": [
    "# Running training games\n",
    "for _ in tqdm(range(N_GAMES)):\n",
    "    A1, A2 = sample_agent(), sample_agent()\n",
    "    A1.do_train = True\n",
    "    A2.do_train = True\n",
    "    U = Universe(environment=env, agents=[A1, A2], monitor=m)\n",
    "    rew = U.episode()\n",
    "    del U"
   ]
  },
  {
   "cell_type": "code",
   "execution_count": 6,
   "metadata": {},
   "outputs": [
    {
     "data": {
      "text/plain": [
       "[<Agent id=0 wisdom=205 opponents=10>,\n",
       " <Agent id=1 wisdom=204 opponents=10>,\n",
       " <Agent id=2 wisdom=187 opponents=10>,\n",
       " <Agent id=3 wisdom=216 opponents=10>,\n",
       " <Agent id=4 wisdom=199 opponents=10>,\n",
       " <Agent id=5 wisdom=185 opponents=10>,\n",
       " <Agent id=6 wisdom=195 opponents=10>,\n",
       " <Agent id=7 wisdom=196 opponents=10>,\n",
       " <Agent id=8 wisdom=220 opponents=10>,\n",
       " <Agent id=9 wisdom=193 opponents=10>]"
      ]
     },
     "execution_count": 6,
     "metadata": {},
     "output_type": "execute_result"
    }
   ],
   "source": [
    "AGENTS"
   ]
  },
  {
   "cell_type": "markdown",
   "metadata": {},
   "source": [
    "## Train stats"
   ]
  },
  {
   "cell_type": "code",
   "execution_count": 7,
   "metadata": {},
   "outputs": [
    {
     "data": {
      "text/plain": [
       "{'reward': {<Agent id=0 wisdom=205 opponents=10>: {-1: 58, 0: 70, 1: 77},\n",
       "  <Agent id=1 wisdom=204 opponents=10>: {-1: 66, 0: 62, 1: 76},\n",
       "  <Agent id=2 wisdom=187 opponents=10>: {-1: 71, 0: 55, 1: 61},\n",
       "  <Agent id=3 wisdom=216 opponents=10>: {-1: 73, 0: 77, 1: 66},\n",
       "  <Agent id=4 wisdom=199 opponents=10>: {-1: 69, 0: 71, 1: 59},\n",
       "  <Agent id=5 wisdom=185 opponents=10>: {-1: 57, 0: 74, 1: 54},\n",
       "  <Agent id=6 wisdom=195 opponents=10>: {-1: 76, 0: 57, 1: 62},\n",
       "  <Agent id=7 wisdom=196 opponents=10>: {-1: 68, 0: 67, 1: 61},\n",
       "  <Agent id=8 wisdom=220 opponents=10>: {-1: 62, 0: 76, 1: 82},\n",
       "  <Agent id=9 wisdom=193 opponents=10>: {-1: 61, 0: 69, 1: 63}},\n",
       " 'action': {<Agent id=0 wisdom=205 opponents=10>: [65, 74, 66],\n",
       "  <Agent id=1 wisdom=204 opponents=10>: [49, 70, 85],\n",
       "  <Agent id=2 wisdom=187 opponents=10>: [80, 61, 46],\n",
       "  <Agent id=3 wisdom=216 opponents=10>: [81, 75, 60],\n",
       "  <Agent id=4 wisdom=199 opponents=10>: [84, 50, 65],\n",
       "  <Agent id=5 wisdom=185 opponents=10>: [70, 53, 62],\n",
       "  <Agent id=6 wisdom=195 opponents=10>: [52, 71, 72],\n",
       "  <Agent id=7 wisdom=196 opponents=10>: [71, 55, 70],\n",
       "  <Agent id=8 wisdom=220 opponents=10>: [74, 68, 78],\n",
       "  <Agent id=9 wisdom=193 opponents=10>: [55, 59, 79]}}"
      ]
     },
     "execution_count": 7,
     "metadata": {},
     "output_type": "execute_result"
    }
   ],
   "source": [
    "m.stats()"
   ]
  },
  {
   "cell_type": "code",
   "execution_count": 8,
   "metadata": {},
   "outputs": [
    {
     "data": {
      "text/plain": [
       "<matplotlib.axes._subplots.AxesSubplot at 0x7f29e8435f90>"
      ]
     },
     "execution_count": 8,
     "metadata": {},
     "output_type": "execute_result"
    },
    {
     "data": {
      "image/png": "[encoded data removed]",
      "text/plain": [
       "<Figure size 432x288 with 2 Axes>"
      ]
     },
     "metadata": {
      "needs_background": "light"
     },
     "output_type": "display_data"
    }
   ],
   "source": [
    "matrix = np.zeros((len(AGENTS), len(AGENTS)))\n",
    "for i1, A1 in enumerate(AGENTS):\n",
    "    for i2, A2 in enumerate(AGENTS):\n",
    "        matrix[i1, i2] = np.mean(A1.reward_by_opponent[A2])\n",
    "cm = sns.diverging_palette(0, 129, l=70, s=100, n=20, center=\"dark\")\n",
    "sns.heatmap(matrix, vmin=-1, vmax=1, cmap=cm)"
   ]
  },
  {
   "cell_type": "markdown",
   "metadata": {},
   "source": [
    "## Running without training"
   ]
  },
  {
   "cell_type": "code",
   "execution_count": 9,
   "metadata": {},
   "outputs": [
    {
     "data": {
      "application/vnd.jupyter.widget-view+json": {
       "model_id": "c2c8183292324e1792fc06c3183df689",
       "version_major": 2,
       "version_minor": 0
      },
      "text/plain": [
       "HBox(children=(FloatProgress(value=0.0, max=10.0), HTML(value='')))"
      ]
     },
     "metadata": {},
     "output_type": "display_data"
    },
    {
     "name": "stdout",
     "output_type": "stream",
     "text": [
      "\n"
     ]
    }
   ],
   "source": [
    "# our agent\n",
    "A = AGENTS[0]\n",
    "\n",
    "# number of games to test for each agent\n",
    "N_TEST_GAMES = 10\n",
    "\n",
    "# to track the performance\n",
    "m_test = Monitor(agents=AGENTS)\n",
    "\n",
    "# Running training games\n",
    "for _ in tqdm(range(N_TEST_GAMES)):\n",
    "    for A2 in AGENTS[1:]:\n",
    "        A.do_train = False\n",
    "        A2.do_train = False\n",
    "        U = Universe(environment=env, agents=[A, A2], monitor=m_test)\n",
    "        rew = U.episode()\n",
    "        del U"
   ]
  },
  {
   "cell_type": "code",
   "execution_count": 10,
   "metadata": {},
   "outputs": [],
   "source": [
    "results = {x: y[AGENTS[0]] for x, y in m_test.stats().items()}"
   ]
  },
  {
   "cell_type": "code",
   "execution_count": 11,
   "metadata": {},
   "outputs": [
    {
     "data": {
      "text/plain": [
       "[30, 32, 28]"
      ]
     },
     "execution_count": 11,
     "metadata": {},
     "output_type": "execute_result"
    }
   ],
   "source": [
    "results['action']"
   ]
  },
  {
   "cell_type": "code",
   "execution_count": 12,
   "metadata": {},
   "outputs": [],
   "source": [
    "rew = results['reward']"
   ]
  },
  {
   "cell_type": "code",
   "execution_count": 13,
   "metadata": {},
   "outputs": [
    {
     "data": {
      "image/png": "[encoded data removed]",
      "text/plain": [
       "<Figure size 432x288 with 1 Axes>"
      ]
     },
     "metadata": {
      "needs_background": "light"
     },
     "output_type": "display_data"
    }
   ],
   "source": [
    "plt.title(\"Reward histogram\")\n",
    "plt.hist([x for x, y in rew.items() for _ in range(y)])\n",
    "plt.show()"
   ]
  },
  {
   "cell_type": "markdown",
   "metadata": {},
   "source": [
    "# Training with alternating + and - reward (collaboration vs competition)\n",
    "1. An adversary is trained to be cooperative\n",
    "2. An adversary is then switched to being competitive"
   ]
  },
  {
   "cell_type": "code",
   "execution_count": 14,
   "metadata": {},
   "outputs": [
    {
     "name": "stdout",
     "output_type": "stream",
     "text": [
      "1\n"
     ]
    }
   ],
   "source": [
    "A1 = RPCAgent(noise_dim=env.noise_dim, identity=0)\n",
    "A2 = RPCAgent(noise_dim=env.noise_dim, identity=1)\n",
    "AGENTS = [A1, A2]\n",
    "true_opponent = AGENTS.index(A2)\n",
    "print(true_opponent)\n",
    "\n",
    "A1.do_train = False\n",
    "A2.do_train = True\n",
    "\n",
    "# to track the performance\n",
    "m = Monitor(agents=AGENTS)"
   ]
  },
  {
   "cell_type": "code",
   "execution_count": 15,
   "metadata": {},
   "outputs": [
    {
     "data": {
      "application/vnd.jupyter.widget-view+json": {
       "model_id": "acd6d1e2af364e6f94a32e703bf8460a",
       "version_major": 2,
       "version_minor": 0
      },
      "text/plain": [
       "HBox(children=(FloatProgress(value=0.0, max=5000.0), HTML(value='')))"
      ]
     },
     "metadata": {},
     "output_type": "display_data"
    },
    {
     "name": "stdout",
     "output_type": "stream",
     "text": [
      "\n"
     ]
    },
    {
     "data": {
      "image/png": "[encoded data removed]",
      "text/plain": [
       "<Figure size 432x288 with 1 Axes>"
      ]
     },
     "metadata": {
      "needs_background": "light"
     },
     "output_type": "display_data"
    }
   ],
   "source": [
    "U = Universe(environment=env, agents=[A1, A2], monitor=m, invert_reward_2=True)\n",
    "for _ in tqdm(range(5000)):\n",
    "    rew = U.episode()\n",
    "    \n",
    "plt.title(\"Reward\")\n",
    "plt.plot(pd.Series(A1.reward_by_opponent[A2]).rolling(50).mean())\n",
    "plt.axhline(0)\n",
    "plt.axhline(1)\n",
    "plt.axhline(-1)\n",
    "plt.show()"
   ]
  },
  {
   "cell_type": "code",
   "execution_count": 16,
   "metadata": {},
   "outputs": [
    {
     "data": {
      "application/vnd.jupyter.widget-view+json": {
       "model_id": "9978d92aa14a4f30a076148411d2a309",
       "version_major": 2,
       "version_minor": 0
      },
      "text/plain": [
       "HBox(children=(FloatProgress(value=0.0, max=5000.0), HTML(value='')))"
      ]
     },
     "metadata": {},
     "output_type": "display_data"
    },
    {
     "name": "stdout",
     "output_type": "stream",
     "text": [
      "\n"
     ]
    },
    {
     "data": {
      "image/png": "[encoded data removed]",
      "text/plain": [
       "<Figure size 432x288 with 1 Axes>"
      ]
     },
     "metadata": {
      "needs_background": "light"
     },
     "output_type": "display_data"
    }
   ],
   "source": [
    "U = Universe(environment=env, agents=[A1, A2], monitor=m, invert_reward_2=False)\n",
    "for _ in tqdm(range(5000)):\n",
    "    rew = U.episode()\n",
    "    \n",
    "plt.title(\"Reward\")\n",
    "plt.plot(pd.Series(A1.reward_by_opponent[A2]).rolling(50).mean())\n",
    "plt.axhline(0)\n",
    "plt.axhline(1)\n",
    "plt.axhline(-1)\n",
    "plt.show()"
   ]
  },
  {
   "cell_type": "code",
   "execution_count": null,
   "metadata": {},
   "outputs": [],
   "source": []
  },
  {
   "cell_type": "code",
   "execution_count": null,
   "metadata": {},
   "outputs": [],
   "source": []
  },
  {
   "cell_type": "markdown",
   "metadata": {},
   "source": [
    "Try with previous actions instead of random noise?"
   ]
  },
  {
   "cell_type": "code",
   "execution_count": null,
   "metadata": {},
   "outputs": [],
   "source": []
  }
 ],
 "metadata": {
  "kernelspec": {
   "display_name": "Python 3",
   "language": "python",
   "name": "python3"
  },
  "language_info": {
   "codemirror_mode": {
    "name": "ipython",
    "version": 3
   },
   "file_extension": ".py",
   "mimetype": "text/x-python",
   "name": "python",
   "nbconvert_exporter": "python",
   "pygments_lexer": "ipython3",
   "version": "3.7.7"
  }
 },
 "nbformat": 4,
 "nbformat_minor": 4
}
