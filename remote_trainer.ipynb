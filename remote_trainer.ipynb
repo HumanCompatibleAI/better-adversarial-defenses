{
 "cells": [
  {
   "cell_type": "code",
   "execution_count": 1,
   "metadata": {},
   "outputs": [],
   "source": [
    "import tensorflow as tf\n",
    "import numpy as np\n",
    "import ray\n",
    "from ray.rllib import agents\n",
    "from tqdm.notebook import tqdm\n",
    "import random\n",
    "from ray.rllib.policy.policy import Policy\n",
    "from gym.spaces import Discrete, Box\n",
    "from ray.rllib.agents.ppo import PPOTrainer\n",
    "from functools import partial\n",
    "from ray.tune.logger import pretty_print\n",
    "from ray.rllib.agents.ppo.ppo_tf_policy import PPOTFPolicy\n",
    "from ray.rllib.agents.ppo.ppo import DEFAULT_CONFIG\n",
    "\n",
    "from ray.rllib.models import ModelCatalog\n",
    "import uuid\n",
    "\n",
    "\n",
    "import ray\n",
    "from ray import tune\n",
    "from ray.tune import track\n",
    "\n",
    "import math\n",
    "import gym\n",
    "\n",
    "import gym_compete_rllib.gym_compete_to_rllib\n",
    "from gym_compete_rllib.gym_compete_to_rllib import created_envs, create_env\n",
    "from gym_compete_rllib.load_gym_compete_policy import nets_to_weight_array, nets_to_weights, load_weights_from_vars\n",
    "from config import get_config_test_external\n",
    "from train import build_trainer_config, ray_init\n",
    "\n",
    "import pickle\n",
    "from copy import deepcopy\n",
    "from jsonrpcclient.clients.http_client import HTTPClient\n",
    "\n",
    "from remote_trainer import ExternalTrainer\n",
    "\n",
    "\n",
    "import os\n",
    "os.environ['DISPLAY'] = ':0'"
   ]
  },
  {
   "cell_type": "code",
   "execution_count": 2,
   "metadata": {},
   "outputs": [
    {
     "data": {
      "text/plain": [
       "{'node_ip_address': '172.25.233.58',\n",
       " 'raylet_ip_address': '172.25.233.58',\n",
       " 'redis_address': '172.25.233.58:6379',\n",
       " 'object_store_address': '/tmp/session_2020-09-08_00-52-49_420469_9552/sockets/plasma_store',\n",
       " 'raylet_socket_name': '/tmp/session_2020-09-08_00-52-49_420469_9552/sockets/raylet',\n",
       " 'webui_url': 'localhost:8267',\n",
       " 'session_dir': '/tmp/session_2020-09-08_00-52-49_420469_9552'}"
      ]
     },
     "execution_count": 2,
     "metadata": {},
     "output_type": "execute_result"
    }
   ],
   "source": [
    "ray_init()"
   ]
  },
  {
   "cell_type": "code",
   "execution_count": 3,
   "metadata": {},
   "outputs": [
    {
     "name": "stdout",
     "output_type": "stream",
     "text": [
      "Creating agent humanoid_blocker\n",
      "Reading agent XML from: /home/sergei/git/chai/multiagent-competition/gym_compete/new_envs/assets/humanoid_body.xml\n",
      "Creating agent humanoid\n",
      "Reading agent XML from: /home/sergei/git/chai/multiagent-competition/gym_compete/new_envs/assets/humanoid_body.xml\n",
      "Scene XML path: /home/sergei/git/chai/multiagent-competition/gym_compete/new_envs/assets/world_body.humanoid_body.humanoid_body.xml\n",
      "Created Scene with agents\n"
     ]
    }
   ],
   "source": [
    "config_ = get_config_test_external()\n",
    "config = build_trainer_config(config_)"
   ]
  },
  {
   "cell_type": "code",
   "execution_count": 78,
   "metadata": {},
   "outputs": [
    {
     "name": "stdout",
     "output_type": "stream",
     "text": [
      "Creating agent humanoid_blocker\n",
      "Reading agent XML from: /home/sergei/git/chai/multiagent-competition/gym_compete/new_envs/assets/humanoid_body.xml\n",
      "Creating agent humanoid\n",
      "Reading agent XML from: /home/sergei/git/chai/multiagent-competition/gym_compete/new_envs/assets/humanoid_body.xml\n",
      "Scene XML path: /home/sergei/git/chai/multiagent-competition/gym_compete/new_envs/assets/world_body.humanoid_body.humanoid_body.xml\n",
      "Created Scene with agents\n",
      "Creating agent humanoid_blocker\n",
      "Reading agent XML from: /home/sergei/git/chai/multiagent-competition/gym_compete/new_envs/assets/humanoid_body.xml\n",
      "Creating agent humanoid\n",
      "Reading agent XML from: /home/sergei/git/chai/multiagent-competition/gym_compete/new_envs/assets/humanoid_body.xml\n",
      "Scene XML path: /home/sergei/git/chai/multiagent-competition/gym_compete/new_envs/assets/world_body.humanoid_body.humanoid_body.xml\n",
      "Created Scene with agents\n",
      "It looks like variables {<Reference wrapping <tf.Variable 'player_1/Variable:0' shape=() dtype=int64, numpy=0>>, <Reference wrapping <tf.Variable 'player_1/Variable:0' shape=() dtype=int64, numpy=0>>, <Reference wrapping <tf.Variable 'player_1/Variable:0' shape=() dtype=int64, numpy=0>>, <Reference wrapping <tf.Variable 'player_1/Variable:0' shape=() dtype=int64, numpy=0>>, <Reference wrapping <tf.Variable 'player_1/Variable:0' shape=() dtype=int64, numpy=0>>, <Reference wrapping <tf.Variable 'player_1/Variable:0' shape=() dtype=int64, numpy=0>>, <Reference wrapping <tf.Variable 'player_1/Variable:0' shape=() dtype=int64, numpy=0>>, <Reference wrapping <tf.Variable 'player_1/Variable:0' shape=() dtype=int64, numpy=0>>, <Reference wrapping <tf.Variable 'player_1/Variable:0' shape=() dtype=int64, numpy=0>>, <Reference wrapping <tf.Variable 'player_1/Variable:0' shape=() dtype=int64, numpy=0>>, <Reference wrapping <tf.Variable 'player_1/Variable:0' shape=() dtype=int64, numpy=0>>, <Reference wrapping <tf.Variable 'player_1/Variable:0' shape=() dtype=int64, numpy=0>>, <Reference wrapping <tf.Variable 'player_1/Variable:0' shape=() dtype=int64, numpy=0>>, <Reference wrapping <tf.Variable 'player_1/Variable:0' shape=() dtype=int64, numpy=0>>, <Reference wrapping <tf.Variable 'player_1/Variable:0' shape=() dtype=int64, numpy=0>>, <Reference wrapping <tf.Variable 'player_1/Variable:0' shape=() dtype=int64, numpy=0>>, <Reference wrapping <tf.Variable 'player_1/Variable:0' shape=() dtype=int64, numpy=0>>, <Reference wrapping <tf.Variable 'player_1/Variable:0' shape=() dtype=int64, numpy=0>>, <Reference wrapping <tf.Variable 'player_1/Variable:0' shape=() dtype=int64, numpy=0>>, <Reference wrapping <tf.Variable 'player_1/Variable:0' shape=() dtype=int64, numpy=0>>, <Reference wrapping <tf.Variable 'player_1/Variable:0' shape=() dtype=int64, numpy=0>>} were created as part of <gym_compete_rllib.gym_compete_to_rllib.GymCompetePretrainedModel object at 0x7f646c2e0700> but does not appear in model.variables() ([]). Did you forget to call model.register_variables() on the variables in question?\n",
      "Creating agent humanoid_blocker\n",
      "Reading agent XML from: /home/sergei/git/chai/multiagent-competition/gym_compete/new_envs/assets/humanoid_body.xml\n",
      "Creating agent humanoid\n",
      "Reading agent XML from: /home/sergei/git/chai/multiagent-competition/gym_compete/new_envs/assets/humanoid_body.xml\n",
      "Scene XML path: /home/sergei/git/chai/multiagent-competition/gym_compete/new_envs/assets/world_body.humanoid_body.humanoid_body.xml\n",
      "Created Scene with agents\n",
      "It looks like variables {<Reference wrapping <tf.Variable 'player_2/Variable:0' shape=() dtype=int64, numpy=0>>, <Reference wrapping <tf.Variable 'player_2/Variable:0' shape=() dtype=int64, numpy=0>>, <Reference wrapping <tf.Variable 'player_2/Variable:0' shape=() dtype=int64, numpy=0>>, <Reference wrapping <tf.Variable 'player_2/Variable:0' shape=() dtype=int64, numpy=0>>, <Reference wrapping <tf.Variable 'player_2/Variable:0' shape=() dtype=int64, numpy=0>>, <Reference wrapping <tf.Variable 'player_2/Variable:0' shape=() dtype=int64, numpy=0>>, <Reference wrapping <tf.Variable 'player_2/Variable:0' shape=() dtype=int64, numpy=0>>, <Reference wrapping <tf.Variable 'player_2/Variable:0' shape=() dtype=int64, numpy=0>>, <Reference wrapping <tf.Variable 'player_2/Variable:0' shape=() dtype=int64, numpy=0>>, <Reference wrapping <tf.Variable 'player_2/Variable:0' shape=() dtype=int64, numpy=0>>, <Reference wrapping <tf.Variable 'player_2/Variable:0' shape=() dtype=int64, numpy=0>>, <Reference wrapping <tf.Variable 'player_2/Variable:0' shape=() dtype=int64, numpy=0>>, <Reference wrapping <tf.Variable 'player_2/Variable:0' shape=() dtype=int64, numpy=0>>, <Reference wrapping <tf.Variable 'player_2/Variable:0' shape=() dtype=int64, numpy=0>>, <Reference wrapping <tf.Variable 'player_2/Variable:0' shape=() dtype=int64, numpy=0>>, <Reference wrapping <tf.Variable 'player_2/Variable:0' shape=() dtype=int64, numpy=0>>, <Reference wrapping <tf.Variable 'player_2/Variable:0' shape=() dtype=int64, numpy=0>>, <Reference wrapping <tf.Variable 'player_2/Variable:0' shape=() dtype=int64, numpy=0>>, <Reference wrapping <tf.Variable 'player_2/Variable:0' shape=() dtype=int64, numpy=0>>, <Reference wrapping <tf.Variable 'player_2/Variable:0' shape=() dtype=int64, numpy=0>>, <Reference wrapping <tf.Variable 'player_2/Variable:0' shape=() dtype=int64, numpy=0>>} were created as part of <gym_compete_rllib.gym_compete_to_rllib.GymCompetePretrainedModel object at 0x7f646c2e0d60> but does not appear in model.variables() ([]). Did you forget to call model.register_variables() on the variables in question?\n",
      "Creating agent humanoid_blocker\n",
      "Reading agent XML from: /home/sergei/git/chai/multiagent-competition/gym_compete/new_envs/assets/humanoid_body.xml\n",
      "Creating agent humanoid\n",
      "Reading agent XML from: /home/sergei/git/chai/multiagent-competition/gym_compete/new_envs/assets/humanoid_body.xml\n",
      "Scene XML path: /home/sergei/git/chai/multiagent-competition/gym_compete/new_envs/assets/world_body.humanoid_body.humanoid_body.xml\n",
      "Created Scene with agents\n",
      "Creating agent humanoid_blocker\n",
      "Reading agent XML from: /home/sergei/git/chai/multiagent-competition/gym_compete/new_envs/assets/humanoid_body.xml\n",
      "Creating agent humanoid\n",
      "Reading agent XML from: /home/sergei/git/chai/multiagent-competition/gym_compete/new_envs/assets/humanoid_body.xml\n",
      "Scene XML path: /home/sergei/git/chai/multiagent-competition/gym_compete/new_envs/assets/world_body.humanoid_body.humanoid_body.xml\n",
      "Created Scene with agents\n",
      "Creating agent humanoid_blocker\n",
      "Reading agent XML from: /home/sergei/git/chai/multiagent-competition/gym_compete/new_envs/assets/humanoid_body.xml\n",
      "Creating agent humanoid\n",
      "Reading agent XML from: /home/sergei/git/chai/multiagent-competition/gym_compete/new_envs/assets/humanoid_body.xml\n",
      "Scene XML path: /home/sergei/git/chai/multiagent-competition/gym_compete/new_envs/assets/world_body.humanoid_body.humanoid_body.xml\n",
      "Created Scene with agents\n",
      "Creating agent humanoid_blocker\n",
      "Reading agent XML from: /home/sergei/git/chai/multiagent-competition/gym_compete/new_envs/assets/humanoid_body.xml\n",
      "Creating agent humanoid\n",
      "Reading agent XML from: /home/sergei/git/chai/multiagent-competition/gym_compete/new_envs/assets/humanoid_body.xml\n",
      "Scene XML path: /home/sergei/git/chai/multiagent-competition/gym_compete/new_envs/assets/world_body.humanoid_body.humanoid_body.xml\n",
      "Created Scene with agents\n",
      "Creating agent humanoid_blocker\n",
      "Reading agent XML from: /home/sergei/git/chai/multiagent-competition/gym_compete/new_envs/assets/humanoid_body.xml\n",
      "Creating agent humanoid\n",
      "Reading agent XML from: /home/sergei/git/chai/multiagent-competition/gym_compete/new_envs/assets/humanoid_body.xml\n",
      "Scene XML path: /home/sergei/git/chai/multiagent-competition/gym_compete/new_envs/assets/world_body.humanoid_body.humanoid_body.xml\n",
      "Created Scene with agents\n",
      "Creating agent humanoid_blocker\n",
      "Reading agent XML from: /home/sergei/git/chai/multiagent-competition/gym_compete/new_envs/assets/humanoid_body.xml\n",
      "Creating agent humanoid\n",
      "Reading agent XML from: /home/sergei/git/chai/multiagent-competition/gym_compete/new_envs/assets/humanoid_body.xml\n",
      "Scene XML path: /home/sergei/git/chai/multiagent-competition/gym_compete/new_envs/assets/world_body.humanoid_body.humanoid_body.xml\n",
      "Created Scene with agents\n",
      "Creating agent humanoid_blocker\n",
      "Reading agent XML from: /home/sergei/git/chai/multiagent-competition/gym_compete/new_envs/assets/humanoid_body.xml\n",
      "Creating agent humanoid\n",
      "Reading agent XML from: /home/sergei/git/chai/multiagent-competition/gym_compete/new_envs/assets/humanoid_body.xml\n",
      "Scene XML path: /home/sergei/git/chai/multiagent-competition/gym_compete/new_envs/assets/world_body.humanoid_body.humanoid_body.xml\n",
      "Created Scene with agents\n",
      "Creating agent humanoid_blocker\n",
      "Reading agent XML from: /home/sergei/git/chai/multiagent-competition/gym_compete/new_envs/assets/humanoid_body.xml\n",
      "Creating agent humanoid\n",
      "Reading agent XML from: /home/sergei/git/chai/multiagent-competition/gym_compete/new_envs/assets/humanoid_body.xml\n",
      "Scene XML path: /home/sergei/git/chai/multiagent-competition/gym_compete/new_envs/assets/world_body.humanoid_body.humanoid_body.xml\n",
      "Created Scene with agents\n",
      "Creating agent humanoid_blocker\n",
      "Reading agent XML from: /home/sergei/git/chai/multiagent-competition/gym_compete/new_envs/assets/humanoid_body.xml\n",
      "Creating agent humanoid\n",
      "Reading agent XML from: /home/sergei/git/chai/multiagent-competition/gym_compete/new_envs/assets/humanoid_body.xml\n",
      "Scene XML path: /home/sergei/git/chai/multiagent-competition/gym_compete/new_envs/assets/world_body.humanoid_body.humanoid_body.xml\n",
      "Created Scene with agents\n"
     ]
    }
   ],
   "source": [
    "trainer = ExternalTrainer(config=config)"
   ]
  },
  {
   "cell_type": "code",
   "execution_count": 153,
   "metadata": {},
   "outputs": [
    {
     "name": "stdout",
     "output_type": "stream",
     "text": [
      "retfilter/sum:0 0.01\n",
      "retfilter/sumsq:0 0.0001\n",
      "retfilter/count:0 1\n",
      "obsfilter/sum:0 1\n",
      "obsfilter/sumsq:0 1\n",
      "obsfilter/count:0 1\n",
      "retfilter/sum:0 0.01\n",
      "retfilter/sumsq:0 0.0001\n",
      "retfilter/count:0 1\n",
      "obsfilter/sum:0 1\n",
      "obsfilter/sumsq:0 1\n",
      "obsfilter/count:0 1\n",
      "retfilter/sum:0 0.01\n",
      "retfilter/sumsq:0 0.0001\n",
      "retfilter/count:0 1\n",
      "obsfilter/sum:0 1\n",
      "obsfilter/sumsq:0 1\n",
      "obsfilter/count:0 1\n",
      "retfilter/sum:0 0.01\n",
      "retfilter/sumsq:0 0.0001\n",
      "retfilter/count:0 1\n",
      "obsfilter/sum:0 1\n",
      "obsfilter/sumsq:0 1\n",
      "obsfilter/count:0 1\n",
      "retfilter/sum:0 0.01\n",
      "retfilter/sumsq:0 0.0001\n",
      "retfilter/count:0 1\n",
      "obsfilter/sum:0 1\n",
      "obsfilter/sumsq:0 1\n",
      "obsfilter/count:0 1\n",
      "retfilter/sum:0 0.01\n",
      "retfilter/sumsq:0 0.0001\n",
      "retfilter/count:0 1\n",
      "obsfilter/sum:0 1\n",
      "obsfilter/sumsq:0 1\n",
      "obsfilter/count:0 1\n",
      "retfilter/sum:0 0.01\n",
      "retfilter/sumsq:0 0.0001\n",
      "retfilter/count:0 1\n",
      "obsfilter/sum:0 1\n",
      "obsfilter/sumsq:0 1\n",
      "obsfilter/count:0 1\n",
      "retfilter/sum:0 0.01\n",
      "retfilter/sumsq:0 0.0001\n",
      "retfilter/count:0 1\n",
      "obsfilter/sum:0 1\n",
      "obsfilter/sumsq:0 1\n",
      "obsfilter/count:0 1\n",
      "retfilter/sum:0 0.01\n",
      "retfilter/sumsq:0 0.0001\n",
      "retfilter/count:0 1\n",
      "obsfilter/sum:0 1\n",
      "obsfilter/sumsq:0 1\n",
      "obsfilter/count:0 1\n",
      "retfilter/sum:0 0.01\n",
      "retfilter/sumsq:0 0.0001\n",
      "retfilter/count:0 1\n",
      "obsfilter/sum:0 1\n",
      "obsfilter/sumsq:0 1\n",
      "obsfilter/count:0 1\n"
     ]
    }
   ],
   "source": [
    "for _ in range(10):\n",
    "    res = trainer.train()"
   ]
  },
  {
   "cell_type": "code",
   "execution_count": 154,
   "metadata": {},
   "outputs": [
    {
     "data": {
      "text/plain": [
       "<ray.rllib.agents.trainer_template.External at 0x7f6428200ee0>"
      ]
     },
     "execution_count": 154,
     "metadata": {},
     "output_type": "execute_result"
    }
   ],
   "source": [
    "trainer"
   ]
  },
  {
   "cell_type": "code",
   "execution_count": 155,
   "metadata": {},
   "outputs": [
    {
     "data": {
      "text/plain": [
       "'/home/sergei/ray_results/External_multicomp_2020-09-08_01-08-29swkza5m7/'"
      ]
     },
     "execution_count": 155,
     "metadata": {},
     "output_type": "execute_result"
    }
   ],
   "source": [
    "trainer.logdir"
   ]
  },
  {
   "cell_type": "code",
   "execution_count": 156,
   "metadata": {},
   "outputs": [
    {
     "data": {
      "text/plain": [
       "array([-5.9123212e-03, -6.5075787e-05,  6.1686230e-03,  1.5069714e-03,\n",
       "        1.3524943e-03,  1.1701538e-02, -2.1051797e-03, -3.8758847e-03,\n",
       "       -3.1649682e-04, -8.2623810e-03, -1.6876991e-05,  4.8423382e-03,\n",
       "        4.5800167e-03, -1.8819484e-03,  8.0311792e-03,  1.2748739e-03,\n",
       "       -1.5283438e-03], dtype=float32)"
      ]
     },
     "execution_count": 156,
     "metadata": {},
     "output_type": "execute_result"
    }
   ],
   "source": [
    "trainer.get_policy('player_1').model._nets['policy_mean_logstd'].predict(np.ones((1, 380)))[0][:, 1]"
   ]
  },
  {
   "cell_type": "code",
   "execution_count": 157,
   "metadata": {},
   "outputs": [],
   "source": [
    "res = trainer.get_policy('player_1').model._nets['policy'].predict(0.01 * np.ones((50000, 380)))"
   ]
  },
  {
   "cell_type": "code",
   "execution_count": 91,
   "metadata": {},
   "outputs": [
    {
     "data": {
      "text/plain": [
       "(array([8.0000e+00, 2.2900e+02, 1.7530e+03, 7.3750e+03, 1.5179e+04,\n",
       "        1.5480e+04, 7.8030e+03, 1.9310e+03, 2.2800e+02, 1.4000e+01]),\n",
       " array([-5.2299237 , -4.355803  , -3.4816823 , -2.6075616 , -1.7334408 ,\n",
       "        -0.85932004,  0.01480069,  0.88892144,  1.7630422 ,  2.637163  ,\n",
       "         3.5112836 ], dtype=float32),\n",
       " <a list of 10 Patch objects>)"
      ]
     },
     "execution_count": 91,
     "metadata": {},
     "output_type": "execute_result"
    },
    {
     "data": {
      "image/png": "[encoded data removed]",
      "text/plain": [
       "<Figure size 432x288 with 1 Axes>"
      ]
     },
     "metadata": {
      "needs_background": "light"
     },
     "output_type": "display_data"
    }
   ],
   "source": [
    "plt.hist(res[:, 3])"
   ]
  },
  {
   "cell_type": "code",
   "execution_count": 158,
   "metadata": {},
   "outputs": [],
   "source": [
    "from matplotlib import pyplot as plt"
   ]
  },
  {
   "cell_type": "code",
   "execution_count": 159,
   "metadata": {},
   "outputs": [
    {
     "data": {
      "text/plain": [
       "0.99912894"
      ]
     },
     "execution_count": 159,
     "metadata": {},
     "output_type": "execute_result"
    }
   ],
   "source": [
    "np.std(res[:, 3])"
   ]
  },
  {
   "cell_type": "code",
   "execution_count": 160,
   "metadata": {},
   "outputs": [],
   "source": [
    "pol = trainer.get_policy('player_1')"
   ]
  },
  {
   "cell_type": "code",
   "execution_count": 100,
   "metadata": {},
   "outputs": [
    {
     "data": {
      "text/plain": [
       "<tf.Tensor: shape=(1,), dtype=float32, numpy=array([-17.902029], dtype=float32)>"
      ]
     },
     "execution_count": 100,
     "metadata": {},
     "output_type": "execute_result"
    }
   ],
   "source": [
    "pol.compute_log_likelihoods(actions=0.01*np.ones((1, 17)), obs_batch=0.01*np.ones((1, 380)), prev_action_batch=0.1*np.ones((1, 17)),\n",
    "                           prev_reward_batch=np.ones((1, 1)))"
   ]
  },
  {
   "cell_type": "code",
   "execution_count": 72,
   "metadata": {},
   "outputs": [],
   "source": [
    "v_sb = 1.44048945e-11\n",
    "v_rllib = -17.135712"
   ]
  },
  {
   "cell_type": "code",
   "execution_count": 161,
   "metadata": {},
   "outputs": [],
   "source": [
    "actions = np.random.randn(5000, 17)\n",
    "observations = np.random.randn(5000, 380)\n",
    "ao = {'a': actions, 'o': observations}"
   ]
  },
  {
   "cell_type": "code",
   "execution_count": 228,
   "metadata": {},
   "outputs": [],
   "source": [
    "loglik_rllib = pol.compute_log_likelihoods(actions=ao['a'], obs_batch=ao['o'], prev_action_batch=ao['a'],\n",
    "                           prev_reward_batch=np.ones((5000, 1))).numpy()"
   ]
  },
  {
   "cell_type": "code",
   "execution_count": 174,
   "metadata": {},
   "outputs": [],
   "source": [
    "pickle.dump(ao, open('ao.pkl', 'wb'))"
   ]
  },
  {
   "cell_type": "code",
   "execution_count": 264,
   "metadata": {},
   "outputs": [],
   "source": [
    "lik_sb = np.exp(-pickle.load(open('logl_sb.pkl', 'rb')))"
   ]
  },
  {
   "cell_type": "code",
   "execution_count": 265,
   "metadata": {},
   "outputs": [],
   "source": [
    "p = np.polyfit(loglik_rllib, np.log(lik_sb), deg=1)"
   ]
  },
  {
   "cell_type": "code",
   "execution_count": 266,
   "metadata": {},
   "outputs": [
    {
     "data": {
      "image/png": "[encoded data removed]",
      "text/plain": [
       "<Figure size 720x720 with 1 Axes>"
      ]
     },
     "metadata": {
      "needs_background": "light"
     },
     "output_type": "display_data"
    }
   ],
   "source": [
    "plt.figure(figsize=(10, 10))\n",
    "plt.scatter(loglik_rllib, np.log(lik_sb), label='Raw data')\n",
    "\n",
    "plt.xlabel('RLLib log-likelihood')\n",
    "plt.ylabel('Stable Baselines log-likelihood (natural)')\n",
    "xs = np.linspace(-50, 0, 20)\n",
    "plt.plot(xs, p[0] * xs + p[1], label='Linear fit')\n",
    "plt.axhline(0, ls='--')\n",
    "plt.axvline(0, ls='--')\n",
    "\n",
    "plt.legend()\n",
    "plt.show()"
   ]
  },
  {
   "cell_type": "code",
   "execution_count": 267,
   "metadata": {},
   "outputs": [
    {
     "data": {
      "text/plain": [
       "2.718281806088934"
      ]
     },
     "execution_count": 267,
     "metadata": {},
     "output_type": "execute_result"
    }
   ],
   "source": [
    "np.exp(p[0])"
   ]
  },
  {
   "cell_type": "code",
   "execution_count": 268,
   "metadata": {},
   "outputs": [
    {
     "data": {
      "text/plain": [
       "1.3591409142295225"
      ]
     },
     "execution_count": 268,
     "metadata": {},
     "output_type": "execute_result"
    }
   ],
   "source": [
    "np.e / 2"
   ]
  },
  {
   "cell_type": "code",
   "execution_count": 269,
   "metadata": {},
   "outputs": [
    {
     "data": {
      "text/plain": [
       "array([ 9.99999992e-01, -3.92553812e-08])"
      ]
     },
     "execution_count": 269,
     "metadata": {},
     "output_type": "execute_result"
    }
   ],
   "source": [
    "p"
   ]
  },
  {
   "cell_type": "code",
   "execution_count": 181,
   "metadata": {},
   "outputs": [
    {
     "data": {
      "text/plain": [
       "array([  0.36818191, -18.37239306])"
      ]
     },
     "execution_count": 181,
     "metadata": {},
     "output_type": "execute_result"
    }
   ],
   "source": [
    "p"
   ]
  },
  {
   "cell_type": "code",
   "execution_count": 186,
   "metadata": {},
   "outputs": [],
   "source": [
    "mean_logstd = pol.model._nets['policy_mean_logstd'].predict(ao['o'])"
   ]
  },
  {
   "cell_type": "code",
   "execution_count": 203,
   "metadata": {},
   "outputs": [],
   "source": [
    "mean = mean_logstd[:, :, 0]\n",
    "logstd = mean_logstd[:, :, 1][0, :]"
   ]
  },
  {
   "cell_type": "code",
   "execution_count": 209,
   "metadata": {},
   "outputs": [],
   "source": [
    "sigma = np.diag(np.exp(logstd) ** 2)"
   ]
  },
  {
   "cell_type": "code",
   "execution_count": 194,
   "metadata": {},
   "outputs": [],
   "source": [
    "n = mean.shape[1]"
   ]
  },
  {
   "cell_type": "code",
   "execution_count": 197,
   "metadata": {},
   "outputs": [],
   "source": [
    "xmu = ao['a'] - mean"
   ]
  },
  {
   "cell_type": "code",
   "execution_count": 253,
   "metadata": {},
   "outputs": [
    {
     "data": {
      "text/plain": [
       "array([[-19.6024803]])"
      ]
     },
     "execution_count": 253,
     "metadata": {},
     "output_type": "execute_result"
    }
   ],
   "source": [
    "i = len(xmu) - 1\n",
    "xmui = xmu[i:i+1, :]\n",
    "\n",
    "np.log(np.exp(-0.5 * xmui @ np.linalg.inv(sigma)@ xmui.T) / np.sqrt(np.linalg.det(sigma) * (2 * np.pi) ** n))"
   ]
  },
  {
   "cell_type": "code",
   "execution_count": 233,
   "metadata": {},
   "outputs": [],
   "source": [
    "exp_ll = np.exp(-0.5 * xmu @ np.linalg.inv(sigma) @ xmu.T)\n",
    "loglik_manual = np.log(np.diag(exp_ll) / np.sqrt(np.linalg.det(sigma) * (2 * np.pi) ** n))"
   ]
  },
  {
   "cell_type": "code",
   "execution_count": 254,
   "metadata": {},
   "outputs": [
    {
     "data": {
      "text/plain": [
       "array([-25.222132, -24.086132, -30.193739, ..., -26.81917 , -24.710402,\n",
       "       -19.60248 ], dtype=float32)"
      ]
     },
     "execution_count": 254,
     "metadata": {},
     "output_type": "execute_result"
    }
   ],
   "source": [
    "loglik_rllib"
   ]
  },
  {
   "cell_type": "code",
   "execution_count": 240,
   "metadata": {},
   "outputs": [
    {
     "data": {
      "image/png": "[encoded data removed]",
      "text/plain": [
       "<Figure size 432x288 with 1 Axes>"
      ]
     },
     "metadata": {
      "needs_background": "light"
     },
     "output_type": "display_data"
    }
   ],
   "source": [
    "plt.figure()\n",
    "plt.scatter(loglik_manual, loglik_rllib, label='Data')\n",
    "plt.axhline(0)\n",
    "plt.axvline(0)\n",
    "plt.xlabel('Manual log-likelihood')\n",
    "plt.ylabel('RLLib log-likelihood')\n",
    "xs = np.linspace(-50, 0)\n",
    "plt.plot(xs, xs, label='Identity')\n",
    "plt.legend()\n",
    "plt.show()"
   ]
  },
  {
   "cell_type": "code",
   "execution_count": null,
   "metadata": {},
   "outputs": [],
   "source": []
  }
 ],
 "metadata": {
  "kernelspec": {
   "display_name": "Python 3",
   "language": "python",
   "name": "python3"
  },
  "language_info": {
   "codemirror_mode": {
    "name": "ipython",
    "version": 3
   },
   "file_extension": ".py",
   "mimetype": "text/x-python",
   "name": "python",
   "nbconvert_exporter": "python",
   "pygments_lexer": "ipython3",
   "version": "3.8.3"
  }
 },
 "nbformat": 4,
 "nbformat_minor": 4
}
