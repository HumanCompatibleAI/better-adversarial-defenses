{
 "cells": [
  {
   "cell_type": "code",
   "execution_count": 1,
   "metadata": {},
   "outputs": [
    {
     "name": "stdout",
     "output_type": "stream",
     "text": [
      "WARNING:tensorflow:\n",
      "The TensorFlow contrib module will not be included in TensorFlow 2.0.\n",
      "For more information, please see:\n",
      "  * https://github.com/tensorflow/community/blob/master/rfcs/20180907-contrib-sunset.md\n",
      "  * https://github.com/tensorflow/addons\n",
      "  * https://github.com/tensorflow/io (for I/O related ops)\n",
      "If you depend on functionality not listed there, please file an issue.\n",
      "\n"
     ]
    }
   ],
   "source": [
    "from stable_baselines_external_data import SBPPORemoteData\n",
    "import pickle\n",
    "import numpy as np\n",
    "from matplotlib import pyplot as plt\n",
    "\n",
    "import socket\n",
    "import sys\n",
    "from multiprocessing import Queue as queue\n",
    "import pickle\n",
    "import multiprocessing\n",
    "import traceback\n",
    "\n",
    "import gym"
   ]
  },
  {
   "cell_type": "code",
   "execution_count": 2,
   "metadata": {},
   "outputs": [],
   "source": [
    "pickle_files = [\n",
    "    \"_setme_policy_player_1_step4acfc3f0-f162-11ea-a8ee-00155dd0a349.pkl\"\n",
    "#    \"00ae3134-f14f-11ea-979b-00155dd0a349_policy_player_1_step1743c792-f14f-11ea-98db-00155dd0a349.pkl\",\n",
    "#    \"cb588fc6-f14d-11ea-97f2-00155dd0a349_policy_player_1_step053aae4a-f14e-11ea-9b00-00155dd0a349.pkl\",\n",
    "#     \"8885fb54-f146-11ea-9c48-00155dd0a349_policy_player_1_step9f4fac72-f146-11ea-8134-00155dd0a349.pkl\",\n",
    "#     \"8885fb54-f146-11ea-9c48-00155dd0a349_policy_player_1_stepbde36688-f146-11ea-82ae-00155dd0a349.pkl\",\n",
    "#     \"8885fb54-f146-11ea-9c48-00155dd0a349_policy_player_1_stepda4f5b4c-f146-11ea-847f-00155dd0a349.pkl\",\n",
    "#     \"8885fb54-f146-11ea-9c48-00155dd0a349_policy_player_1_stepf6b5ad7c-f146-11ea-a591-00155dd0a349.pkl\",\n",
    "#     \"e58349de-f140-11ea-9170-00155dd0a349_policy_player_1_step4272133c-f141-11ea-bde7-00155dd0a349.pkl\",\n",
    "#     \"e58349de-f140-11ea-9170-00155dd0a349_policy_player_1_step5aebe492-f141-11ea-a3cf-00155dd0a349.pkl\",\n",
    "#     \"e58349de-f140-11ea-9170-00155dd0a349_policy_player_1_step74425e6c-f141-11ea-b539-00155dd0a349.pkl\",\n",
    "]"
   ]
  },
  {
   "cell_type": "code",
   "execution_count": 3,
   "metadata": {},
   "outputs": [],
   "source": [
    "inputs = {fn: pickle.load(open(fn, 'rb')) for fn in pickle_files}\n",
    "outputs = {fn: pickle.load(open(fn[:-len('.pkl')] + '_answer.pkl', 'rb')) for fn in pickle_files}"
   ]
  },
  {
   "cell_type": "code",
   "execution_count": 4,
   "metadata": {},
   "outputs": [],
   "source": [
    "# checking that weights input[i+1] = output[i]\n",
    "for i in range(len(inputs) - 1):\n",
    "    d1, d2 = inputs[pickle_files[i + 1]]['weights'], outputs[pickle_files[i]]['weights']\n",
    "    assert d1.keys() == d2.keys()\n",
    "    for k in d1.keys():\n",
    "        assert np.allclose(d1[k], d2[k])\n",
    "    print(i, \"passed\")"
   ]
  },
  {
   "cell_type": "code",
   "execution_count": 5,
   "metadata": {},
   "outputs": [],
   "source": [
    "inp = inputs[pickle_files[0]]"
   ]
  },
  {
   "cell_type": "code",
   "execution_count": 6,
   "metadata": {},
   "outputs": [],
   "source": [
    "config = inp['config']"
   ]
  },
  {
   "cell_type": "code",
   "execution_count": 11,
   "metadata": {},
   "outputs": [
    {
     "name": "stdout",
     "output_type": "stream",
     "text": [
      "Creating agent humanoid_blocker\n",
      "Reading agent XML from: /home/sergei/git/chai/multiagent-competition/gym_compete/new_envs/assets/humanoid_body.xml\n",
      "Creating agent humanoid\n",
      "Reading agent XML from: /home/sergei/git/chai/multiagent-competition/gym_compete/new_envs/assets/humanoid_body.xml\n",
      "Scene XML path: /home/sergei/git/chai/multiagent-competition/gym_compete/new_envs/assets/world_body.humanoid_body.humanoid_body.xml\n",
      "Created Scene with agents\n",
      "-------------------------------------\n",
      "| approxkl           | 0.009773739  |\n",
      "| clipfrac           | 0.04950837   |\n",
      "| explained_variance | -0.00534     |\n",
      "| fps                | 12625        |\n",
      "| n_updates          | 1            |\n",
      "| policy_entropy     | 24.137663    |\n",
      "| policy_loss        | -0.028445758 |\n",
      "| serial_timesteps   | 6509         |\n",
      "| time_elapsed       | 1.36e-05     |\n",
      "| total_timesteps    | 0            |\n",
      "| value_loss         | 13.478839    |\n",
      "-------------------------------------\n"
     ]
    }
   ],
   "source": [
    "sbppo = SBPPORemoteData(config=config)\n",
    "sbppo.set_weights(inp['weights'])\n",
    "info = sbppo.learn(inp['rollouts'])\n",
    "#sbppo.set_weights(inp['weights']\n",
    "#sbppo.set_weights(outputs[pickle_files[0]]['weights'])"
   ]
  },
  {
   "cell_type": "code",
   "execution_count": 18,
   "metadata": {},
   "outputs": [
    {
     "name": "stdout",
     "output_type": "stream",
     "text": [
      "------------------------------------\n",
      "| approxkl           | 0.079003856 |\n",
      "| clipfrac           | 0.5212782   |\n",
      "| explained_variance | -0.00534    |\n",
      "| fps                | 16037       |\n",
      "| n_updates          | 1           |\n",
      "| policy_entropy     | 24.091856   |\n",
      "| policy_loss        | -0.16534346 |\n",
      "| serial_timesteps   | 6509        |\n",
      "| time_elapsed       | 1.41e-05    |\n",
      "| total_timesteps    | 0           |\n",
      "| value_loss         | 13.008823   |\n",
      "------------------------------------\n",
      "------------------------------------\n",
      "| approxkl           | 0.08319762  |\n",
      "| clipfrac           | 0.5495852   |\n",
      "| explained_variance | -0.00534    |\n",
      "| fps                | 17750       |\n",
      "| n_updates          | 1           |\n",
      "| policy_entropy     | 24.086441   |\n",
      "| policy_loss        | -0.17144224 |\n",
      "| serial_timesteps   | 6509        |\n",
      "| time_elapsed       | 1.36e-05    |\n",
      "| total_timesteps    | 0           |\n",
      "| value_loss         | 12.997843   |\n",
      "------------------------------------\n",
      "------------------------------------\n",
      "| approxkl           | 0.08714424  |\n",
      "| clipfrac           | 0.57343674  |\n",
      "| explained_variance | -0.00534    |\n",
      "| fps                | 17509       |\n",
      "| n_updates          | 1           |\n",
      "| policy_entropy     | 24.08134    |\n",
      "| policy_loss        | -0.17660435 |\n",
      "| serial_timesteps   | 6509        |\n",
      "| time_elapsed       | 1.38e-05    |\n",
      "| total_timesteps    | 0           |\n",
      "| value_loss         | 12.990678   |\n",
      "------------------------------------\n",
      "------------------------------------\n",
      "| approxkl           | 0.090618245 |\n",
      "| clipfrac           | 0.5920265   |\n",
      "| explained_variance | -0.00534    |\n",
      "| fps                | 15863       |\n",
      "| n_updates          | 1           |\n",
      "| policy_entropy     | 24.075571   |\n",
      "| policy_loss        | -0.18108556 |\n",
      "| serial_timesteps   | 6509        |\n",
      "| time_elapsed       | 1.48e-05    |\n",
      "| total_timesteps    | 0           |\n",
      "| value_loss         | 12.98563    |\n",
      "------------------------------------\n",
      "-----------------------------------\n",
      "| approxkl           | 0.09366354 |\n",
      "| clipfrac           | 0.61284375 |\n",
      "| explained_variance | -0.00534   |\n",
      "| fps                | 17780      |\n",
      "| n_updates          | 1          |\n",
      "| policy_entropy     | 24.068453  |\n",
      "| policy_loss        | -0.1849897 |\n",
      "| serial_timesteps   | 6509       |\n",
      "| time_elapsed       | 3.27e-05   |\n",
      "| total_timesteps    | 0          |\n",
      "| value_loss         | 12.981253  |\n",
      "-----------------------------------\n",
      "------------------------------------\n",
      "| approxkl           | 0.09636274  |\n",
      "| clipfrac           | 0.63066524  |\n",
      "| explained_variance | -0.00534    |\n",
      "| fps                | 18372       |\n",
      "| n_updates          | 1           |\n",
      "| policy_entropy     | 24.060923   |\n",
      "| policy_loss        | -0.18832254 |\n",
      "| serial_timesteps   | 6509        |\n",
      "| time_elapsed       | 1.57e-05    |\n",
      "| total_timesteps    | 0           |\n",
      "| value_loss         | 12.978186   |\n",
      "------------------------------------\n",
      "------------------------------------\n",
      "| approxkl           | 0.09894368  |\n",
      "| clipfrac           | 0.65040714  |\n",
      "| explained_variance | -0.00534    |\n",
      "| fps                | 17638       |\n",
      "| n_updates          | 1           |\n",
      "| policy_entropy     | 24.054255   |\n",
      "| policy_loss        | -0.19132885 |\n",
      "| serial_timesteps   | 6509        |\n",
      "| time_elapsed       | 1.29e-05    |\n",
      "| total_timesteps    | 0           |\n",
      "| value_loss         | 12.976221   |\n",
      "------------------------------------\n",
      "-----------------------------------\n",
      "| approxkl           | 0.10102794 |\n",
      "| clipfrac           | 0.6714933  |\n",
      "| explained_variance | -0.00534   |\n",
      "| fps                | 17012      |\n",
      "| n_updates          | 1          |\n",
      "| policy_entropy     | 24.048805  |\n",
      "| policy_loss        | -0.1940194 |\n",
      "| serial_timesteps   | 6509       |\n",
      "| time_elapsed       | 1.43e-05   |\n",
      "| total_timesteps    | 0          |\n",
      "| value_loss         | 12.974781  |\n",
      "-----------------------------------\n",
      "------------------------------------\n",
      "| approxkl           | 0.10258477  |\n",
      "| clipfrac           | 0.682939    |\n",
      "| explained_variance | -0.00534    |\n",
      "| fps                | 17136       |\n",
      "| n_updates          | 1           |\n",
      "| policy_entropy     | 24.043827   |\n",
      "| policy_loss        | -0.19634542 |\n",
      "| serial_timesteps   | 6509        |\n",
      "| time_elapsed       | 1.96e-05    |\n",
      "| total_timesteps    | 0           |\n",
      "| value_loss         | 12.973732   |\n",
      "------------------------------------\n",
      "------------------------------------\n",
      "| approxkl           | 0.104225546 |\n",
      "| clipfrac           | 0.69415426  |\n",
      "| explained_variance | -0.00534    |\n",
      "| fps                | 17425       |\n",
      "| n_updates          | 1           |\n",
      "| policy_entropy     | 24.039513   |\n",
      "| policy_loss        | -0.19851246 |\n",
      "| serial_timesteps   | 6509        |\n",
      "| time_elapsed       | 1.34e-05    |\n",
      "| total_timesteps    | 0           |\n",
      "| value_loss         | 12.972964   |\n",
      "------------------------------------\n",
      "-----------------------------------\n",
      "| approxkl           | 0.10596773 |\n",
      "| clipfrac           | 0.7046013  |\n",
      "| explained_variance | -0.00534   |\n",
      "| fps                | 16756      |\n",
      "| n_updates          | 1          |\n",
      "| policy_entropy     | 24.034534  |\n",
      "| policy_loss        | -0.2003841 |\n",
      "| serial_timesteps   | 6509       |\n",
      "| time_elapsed       | 1.22e-05   |\n",
      "| total_timesteps    | 0          |\n",
      "| value_loss         | 12.972303  |\n",
      "-----------------------------------\n",
      "------------------------------------\n",
      "| approxkl           | 0.107423425 |\n",
      "| clipfrac           | 0.7171609   |\n",
      "| explained_variance | -0.00534    |\n",
      "| fps                | 16968       |\n",
      "| n_updates          | 1           |\n",
      "| policy_entropy     | 24.02899    |\n",
      "| policy_loss        | -0.2020675  |\n",
      "| serial_timesteps   | 6509        |\n",
      "| time_elapsed       | 1.31e-05    |\n",
      "| total_timesteps    | 0           |\n",
      "| value_loss         | 12.971735   |\n",
      "------------------------------------\n",
      "------------------------------------\n",
      "| approxkl           | 0.10871895  |\n",
      "| clipfrac           | 0.73133355  |\n",
      "| explained_variance | -0.00534    |\n",
      "| fps                | 16018       |\n",
      "| n_updates          | 1           |\n",
      "| policy_entropy     | 24.023933   |\n",
      "| policy_loss        | -0.20355822 |\n",
      "| serial_timesteps   | 6509        |\n",
      "| time_elapsed       | 1.43e-05    |\n",
      "| total_timesteps    | 0           |\n",
      "| value_loss         | 12.971219   |\n",
      "------------------------------------\n",
      "------------------------------------\n",
      "| approxkl           | 0.110045336 |\n",
      "| clipfrac           | 0.74239516  |\n",
      "| explained_variance | -0.00534    |\n",
      "| fps                | 17879       |\n",
      "| n_updates          | 1           |\n",
      "| policy_entropy     | 24.019405   |\n",
      "| policy_loss        | -0.20482183 |\n",
      "| serial_timesteps   | 6509        |\n",
      "| time_elapsed       | 2.12e-05    |\n",
      "| total_timesteps    | 0           |\n",
      "| value_loss         | 12.970725   |\n",
      "------------------------------------\n",
      "-----------------------------------\n",
      "| approxkl           | 0.11128092 |\n",
      "| clipfrac           | 0.7510754  |\n",
      "| explained_variance | -0.00534   |\n",
      "| fps                | 18292      |\n",
      "| n_updates          | 1          |\n",
      "| policy_entropy     | 24.015625  |\n",
      "| policy_loss        | -0.2060131 |\n",
      "| serial_timesteps   | 6509       |\n",
      "| time_elapsed       | 1.26e-05   |\n",
      "| total_timesteps    | 0          |\n",
      "| value_loss         | 12.970275  |\n",
      "-----------------------------------\n",
      "------------------------------------\n",
      "| approxkl           | 0.112446435 |\n",
      "| clipfrac           | 0.76079273  |\n",
      "| explained_variance | -0.00534    |\n",
      "| fps                | 17517       |\n",
      "| n_updates          | 1           |\n",
      "| policy_entropy     | 24.0122     |\n",
      "| policy_loss        | -0.20710787 |\n",
      "| serial_timesteps   | 6509        |\n",
      "| time_elapsed       | 1.36e-05    |\n",
      "| total_timesteps    | 0           |\n",
      "| value_loss         | 12.969887   |\n",
      "------------------------------------\n",
      "------------------------------------\n",
      "| approxkl           | 0.11363351  |\n",
      "| clipfrac           | 0.7682439   |\n",
      "| explained_variance | -0.00534    |\n",
      "| fps                | 17453       |\n",
      "| n_updates          | 1           |\n",
      "| policy_entropy     | 24.009026   |\n",
      "| policy_loss        | -0.20815776 |\n",
      "| serial_timesteps   | 6509        |\n",
      "| time_elapsed       | 2.93e-05    |\n",
      "| total_timesteps    | 0           |\n",
      "| value_loss         | 12.969537   |\n",
      "------------------------------------\n",
      "------------------------------------\n",
      "| approxkl           | 0.11478073  |\n",
      "| clipfrac           | 0.7715471   |\n",
      "| explained_variance | -0.00534    |\n",
      "| fps                | 17300       |\n",
      "| n_updates          | 1           |\n",
      "| policy_entropy     | 24.005093   |\n",
      "| policy_loss        | -0.20909223 |\n",
      "| serial_timesteps   | 6509        |\n",
      "| time_elapsed       | 1.31e-05    |\n",
      "| total_timesteps    | 0           |\n",
      "| value_loss         | 12.969221   |\n",
      "------------------------------------\n",
      "------------------------------------\n",
      "| approxkl           | 0.11609392  |\n",
      "| clipfrac           | 0.77972806  |\n",
      "| explained_variance | -0.00534    |\n",
      "| fps                | 16070       |\n",
      "| n_updates          | 1           |\n",
      "| policy_entropy     | 24.00092    |\n",
      "| policy_loss        | -0.20993517 |\n",
      "| serial_timesteps   | 6509        |\n",
      "| time_elapsed       | 1.57e-05    |\n",
      "| total_timesteps    | 0           |\n",
      "| value_loss         | 12.968923   |\n",
      "------------------------------------\n",
      "------------------------------------\n",
      "| approxkl           | 0.11716569  |\n",
      "| clipfrac           | 0.7888308   |\n",
      "| explained_variance | -0.00534    |\n",
      "| fps                | 14614       |\n",
      "| n_updates          | 1           |\n",
      "| policy_entropy     | 23.996151   |\n",
      "| policy_loss        | -0.21074913 |\n",
      "| serial_timesteps   | 6509        |\n",
      "| time_elapsed       | 1.62e-05    |\n",
      "| total_timesteps    | 0           |\n",
      "| value_loss         | 12.968645   |\n",
      "------------------------------------\n",
      "-----------------------------------\n",
      "| approxkl           | 0.11829803 |\n",
      "| clipfrac           | 0.7969734  |\n",
      "| explained_variance | -0.00534   |\n",
      "| fps                | 17119      |\n",
      "| n_updates          | 1          |\n",
      "| policy_entropy     | 23.991652  |\n",
      "| policy_loss        | -0.2114754 |\n",
      "| serial_timesteps   | 6509       |\n",
      "| time_elapsed       | 3.12e-05   |\n",
      "| total_timesteps    | 0          |\n",
      "| value_loss         | 12.968389  |\n",
      "-----------------------------------\n",
      "------------------------------------\n",
      "| approxkl           | 0.119485274 |\n",
      "| clipfrac           | 0.804079    |\n",
      "| explained_variance | -0.00534    |\n",
      "| fps                | 17201       |\n",
      "| n_updates          | 1           |\n",
      "| policy_entropy     | 23.98752    |\n",
      "| policy_loss        | -0.21215832 |\n",
      "| serial_timesteps   | 6509        |\n",
      "| time_elapsed       | 1.29e-05    |\n",
      "| total_timesteps    | 0           |\n",
      "| value_loss         | 12.968143   |\n",
      "------------------------------------\n",
      "------------------------------------\n",
      "| approxkl           | 0.12056388  |\n",
      "| clipfrac           | 0.8129897   |\n",
      "| explained_variance | -0.00534    |\n",
      "| fps                | 15568       |\n",
      "| n_updates          | 1           |\n",
      "| policy_entropy     | 23.983074   |\n",
      "| policy_loss        | -0.21277723 |\n",
      "| serial_timesteps   | 6509        |\n",
      "| time_elapsed       | 1.67e-05    |\n",
      "| total_timesteps    | 0           |\n",
      "| value_loss         | 12.9679165  |\n",
      "------------------------------------\n",
      "-----------------------------------\n",
      "| approxkl           | 0.12172084 |\n",
      "| clipfrac           | 0.81901985 |\n",
      "| explained_variance | -0.00534   |\n",
      "| fps                | 18022      |\n",
      "| n_updates          | 1          |\n",
      "| policy_entropy     | 23.979458  |\n",
      "| policy_loss        | -0.2133406 |\n",
      "| serial_timesteps   | 6509       |\n",
      "| time_elapsed       | 1.43e-05   |\n",
      "| total_timesteps    | 0          |\n",
      "| value_loss         | 12.967717  |\n",
      "-----------------------------------\n",
      "-----------------------------------\n",
      "| approxkl           | 0.12275836 |\n",
      "| clipfrac           | 0.81944233 |\n",
      "| explained_variance | -0.00534   |\n",
      "| fps                | 18808      |\n",
      "| n_updates          | 1          |\n",
      "| policy_entropy     | 23.976408  |\n",
      "| policy_loss        | -0.213819  |\n",
      "| serial_timesteps   | 6509       |\n",
      "| time_elapsed       | 3e-05      |\n",
      "| total_timesteps    | 0          |\n",
      "| value_loss         | 12.967536  |\n",
      "-----------------------------------\n",
      "------------------------------------\n",
      "| approxkl           | 0.12383164  |\n",
      "| clipfrac           | 0.8305423   |\n",
      "| explained_variance | -0.00534    |\n",
      "| fps                | 17130       |\n",
      "| n_updates          | 1           |\n",
      "| policy_entropy     | 23.973276   |\n",
      "| policy_loss        | -0.21428114 |\n",
      "| serial_timesteps   | 6509        |\n",
      "| time_elapsed       | 1.45e-05    |\n",
      "| total_timesteps    | 0           |\n",
      "| value_loss         | 12.967369   |\n",
      "------------------------------------\n",
      "------------------------------------\n",
      "| approxkl           | 0.12501834  |\n",
      "| clipfrac           | 0.83918417  |\n",
      "| explained_variance | -0.00534    |\n",
      "| fps                | 17704       |\n",
      "| n_updates          | 1           |\n",
      "| policy_entropy     | 23.970333   |\n",
      "| policy_loss        | -0.21473463 |\n",
      "| serial_timesteps   | 6509        |\n",
      "| time_elapsed       | 1.38e-05    |\n",
      "| total_timesteps    | 0           |\n",
      "| value_loss         | 12.967216   |\n",
      "------------------------------------\n",
      "------------------------------------\n",
      "| approxkl           | 0.12590565  |\n",
      "| clipfrac           | 0.8424489   |\n",
      "| explained_variance | -0.00534    |\n",
      "| fps                | 17354       |\n",
      "| n_updates          | 1           |\n",
      "| policy_entropy     | 23.967867   |\n",
      "| policy_loss        | -0.21514589 |\n",
      "| serial_timesteps   | 6509        |\n",
      "| time_elapsed       | 1.55e-05    |\n",
      "| total_timesteps    | 0           |\n",
      "| value_loss         | 12.967075   |\n",
      "------------------------------------\n",
      "------------------------------------\n",
      "| approxkl           | 0.12686345  |\n",
      "| clipfrac           | 0.84598255  |\n",
      "| explained_variance | -0.00534    |\n",
      "| fps                | 16846       |\n",
      "| n_updates          | 1           |\n",
      "| policy_entropy     | 23.965752   |\n",
      "| policy_loss        | -0.21548265 |\n",
      "| serial_timesteps   | 6509        |\n",
      "| time_elapsed       | 1.38e-05    |\n",
      "| total_timesteps    | 0           |\n",
      "| value_loss         | 12.966946   |\n",
      "------------------------------------\n",
      "------------------------------------\n",
      "| approxkl           | 0.1280627   |\n",
      "| clipfrac           | 0.8529344   |\n",
      "| explained_variance | -0.00534    |\n",
      "| fps                | 17969       |\n",
      "| n_updates          | 1           |\n",
      "| policy_entropy     | 23.963596   |\n",
      "| policy_loss        | -0.21580976 |\n",
      "| serial_timesteps   | 6509        |\n",
      "| time_elapsed       | 1.72e-05    |\n",
      "| total_timesteps    | 0           |\n",
      "| value_loss         | 12.966827   |\n",
      "------------------------------------\n",
      "-----------------------------------\n",
      "| approxkl           | 0.12917632 |\n",
      "| clipfrac           | 0.86376554 |\n",
      "| explained_variance | -0.00534   |\n",
      "| fps                | 15985      |\n",
      "| n_updates          | 1          |\n",
      "| policy_entropy     | 23.961617  |\n",
      "| policy_loss        | -0.2161603 |\n",
      "| serial_timesteps   | 6509       |\n",
      "| time_elapsed       | 1.45e-05   |\n",
      "| total_timesteps    | 0          |\n",
      "| value_loss         | 12.966723  |\n",
      "-----------------------------------\n",
      "------------------------------------\n",
      "| approxkl           | 0.13007523  |\n",
      "| clipfrac           | 0.8691428   |\n",
      "| explained_variance | -0.00534    |\n",
      "| fps                | 15662       |\n",
      "| n_updates          | 1           |\n",
      "| policy_entropy     | 23.959549   |\n",
      "| policy_loss        | -0.21644795 |\n",
      "| serial_timesteps   | 6509        |\n",
      "| time_elapsed       | 1.45e-05    |\n",
      "| total_timesteps    | 0           |\n",
      "| value_loss         | 12.96662    |\n",
      "------------------------------------\n",
      "------------------------------------\n",
      "| approxkl           | 0.13085732  |\n",
      "| clipfrac           | 0.8681441   |\n",
      "| explained_variance | -0.00534    |\n",
      "| fps                | 18351       |\n",
      "| n_updates          | 1           |\n",
      "| policy_entropy     | 23.95819    |\n",
      "| policy_loss        | -0.21665195 |\n",
      "| serial_timesteps   | 6509        |\n",
      "| time_elapsed       | 1.43e-05    |\n",
      "| total_timesteps    | 0           |\n",
      "| value_loss         | 12.96653    |\n",
      "------------------------------------\n",
      "------------------------------------\n",
      "| approxkl           | 0.13166739  |\n",
      "| clipfrac           | 0.8729835   |\n",
      "| explained_variance | -0.00534    |\n",
      "| fps                | 15804       |\n",
      "| n_updates          | 1           |\n",
      "| policy_entropy     | 23.956812   |\n",
      "| policy_loss        | -0.21688202 |\n",
      "| serial_timesteps   | 6509        |\n",
      "| time_elapsed       | 1.22e-05    |\n",
      "| total_timesteps    | 0           |\n",
      "| value_loss         | 12.966436   |\n",
      "------------------------------------\n",
      "-----------------------------------\n",
      "| approxkl           | 0.13245097 |\n",
      "| clipfrac           | 0.8778998  |\n",
      "| explained_variance | -0.00534   |\n",
      "| fps                | 16852      |\n",
      "| n_updates          | 1          |\n",
      "| policy_entropy     | 23.955235  |\n",
      "| policy_loss        | -0.217115  |\n",
      "| serial_timesteps   | 6509       |\n",
      "| time_elapsed       | 2.91e-05   |\n",
      "| total_timesteps    | 0          |\n",
      "| value_loss         | 12.966349  |\n",
      "-----------------------------------\n",
      "------------------------------------\n",
      "| approxkl           | 0.13316342  |\n",
      "| clipfrac           | 0.8794746   |\n",
      "| explained_variance | -0.00534    |\n",
      "| fps                | 16342       |\n",
      "| n_updates          | 1           |\n",
      "| policy_entropy     | 23.95367    |\n",
      "| policy_loss        | -0.21732575 |\n",
      "| serial_timesteps   | 6509        |\n",
      "| time_elapsed       | 1.45e-05    |\n",
      "| total_timesteps    | 0           |\n",
      "| value_loss         | 12.966259   |\n",
      "------------------------------------\n",
      "-----------------------------------\n",
      "| approxkl           | 0.13382757 |\n",
      "| clipfrac           | 0.8800891  |\n",
      "| explained_variance | -0.00534   |\n",
      "| fps                | 16694      |\n",
      "| n_updates          | 1          |\n",
      "| policy_entropy     | 23.952713  |\n",
      "| policy_loss        | -0.2175254 |\n",
      "| serial_timesteps   | 6509       |\n",
      "| time_elapsed       | 1.5e-05    |\n",
      "| total_timesteps    | 0          |\n",
      "| value_loss         | 12.966174  |\n",
      "-----------------------------------\n",
      "------------------------------------\n",
      "| approxkl           | 0.13443974  |\n",
      "| clipfrac           | 0.88465977  |\n",
      "| explained_variance | -0.00534    |\n",
      "| fps                | 17766       |\n",
      "| n_updates          | 1           |\n",
      "| policy_entropy     | 23.951868   |\n",
      "| policy_loss        | -0.21773216 |\n",
      "| serial_timesteps   | 6509        |\n",
      "| time_elapsed       | 1.38e-05    |\n",
      "| total_timesteps    | 0           |\n",
      "| value_loss         | 12.966102   |\n",
      "------------------------------------\n",
      "-----------------------------------\n",
      "| approxkl           | 0.13513958 |\n",
      "| clipfrac           | 0.8908819  |\n",
      "| explained_variance | -0.00534   |\n",
      "| fps                | 17636      |\n",
      "| n_updates          | 1          |\n",
      "| policy_entropy     | 23.950256  |\n",
      "| policy_loss        | -0.2179133 |\n",
      "| serial_timesteps   | 6509       |\n",
      "| time_elapsed       | 1.48e-05   |\n",
      "| total_timesteps    | 0          |\n",
      "| value_loss         | 12.96603   |\n",
      "-----------------------------------\n",
      "------------------------------------\n",
      "| approxkl           | 0.1358506   |\n",
      "| clipfrac           | 0.88623446  |\n",
      "| explained_variance | -0.00534    |\n",
      "| fps                | 16597       |\n",
      "| n_updates          | 1           |\n",
      "| policy_entropy     | 23.948051   |\n",
      "| policy_loss        | -0.21804382 |\n",
      "| serial_timesteps   | 6509        |\n",
      "| time_elapsed       | 1.34e-05    |\n",
      "| total_timesteps    | 0           |\n",
      "| value_loss         | 12.965967   |\n",
      "------------------------------------\n",
      "------------------------------------\n",
      "| approxkl           | 0.13668343  |\n",
      "| clipfrac           | 0.88700265  |\n",
      "| explained_variance | -0.00534    |\n",
      "| fps                | 16123       |\n",
      "| n_updates          | 1           |\n",
      "| policy_entropy     | 23.94619    |\n",
      "| policy_loss        | -0.21816191 |\n",
      "| serial_timesteps   | 6509        |\n",
      "| time_elapsed       | 1.41e-05    |\n",
      "| total_timesteps    | 0           |\n",
      "| value_loss         | 12.965911   |\n",
      "------------------------------------\n",
      "------------------------------------\n",
      "| approxkl           | 0.13758281  |\n",
      "| clipfrac           | 0.89744973  |\n",
      "| explained_variance | -0.00534    |\n",
      "| fps                | 17727       |\n",
      "| n_updates          | 1           |\n",
      "| policy_entropy     | 23.944317   |\n",
      "| policy_loss        | -0.21832234 |\n",
      "| serial_timesteps   | 6509        |\n",
      "| time_elapsed       | 1.26e-05    |\n",
      "| total_timesteps    | 0           |\n",
      "| value_loss         | 12.965858   |\n",
      "------------------------------------\n",
      "------------------------------------\n",
      "| approxkl           | 0.13814598  |\n",
      "| clipfrac           | 0.90178984  |\n",
      "| explained_variance | -0.00534    |\n",
      "| fps                | 17687       |\n",
      "| n_updates          | 1           |\n",
      "| policy_entropy     | 23.942627   |\n",
      "| policy_loss        | -0.21847016 |\n",
      "| serial_timesteps   | 6509        |\n",
      "| time_elapsed       | 1.53e-05    |\n",
      "| total_timesteps    | 0           |\n",
      "| value_loss         | 12.965807   |\n",
      "------------------------------------\n",
      "------------------------------------\n",
      "| approxkl           | 0.13877286  |\n",
      "| clipfrac           | 0.90444     |\n",
      "| explained_variance | -0.00534    |\n",
      "| fps                | 17304       |\n",
      "| n_updates          | 1           |\n",
      "| policy_entropy     | 23.941252   |\n",
      "| policy_loss        | -0.21860716 |\n",
      "| serial_timesteps   | 6509        |\n",
      "| time_elapsed       | 1.34e-05    |\n",
      "| total_timesteps    | 0           |\n",
      "| value_loss         | 12.96576    |\n",
      "------------------------------------\n",
      "------------------------------------\n",
      "| approxkl           | 0.13942133  |\n",
      "| clipfrac           | 0.90751266  |\n",
      "| explained_variance | -0.00534    |\n",
      "| fps                | 16847       |\n",
      "| n_updates          | 1           |\n",
      "| policy_entropy     | 23.939981   |\n",
      "| policy_loss        | -0.21871975 |\n",
      "| serial_timesteps   | 6509        |\n",
      "| time_elapsed       | 1.38e-05    |\n",
      "| total_timesteps    | 0           |\n",
      "| value_loss         | 12.965716   |\n",
      "------------------------------------\n",
      "------------------------------------\n",
      "| approxkl           | 0.13981226  |\n",
      "| clipfrac           | 0.9060531   |\n",
      "| explained_variance | -0.00534    |\n",
      "| fps                | 15386       |\n",
      "| n_updates          | 1           |\n",
      "| policy_entropy     | 23.93873    |\n",
      "| policy_loss        | -0.21881159 |\n",
      "| serial_timesteps   | 6509        |\n",
      "| time_elapsed       | 1.41e-05    |\n",
      "| total_timesteps    | 0           |\n",
      "| value_loss         | 12.965678   |\n",
      "------------------------------------\n",
      "-----------------------------------\n",
      "| approxkl           | 0.14034247 |\n",
      "| clipfrac           | 0.9102012  |\n",
      "| explained_variance | -0.00534   |\n",
      "| fps                | 13850      |\n",
      "| n_updates          | 1          |\n",
      "| policy_entropy     | 23.937294  |\n",
      "| policy_loss        | -0.2189183 |\n",
      "| serial_timesteps   | 6509       |\n",
      "| time_elapsed       | 1.69e-05   |\n",
      "| total_timesteps    | 0          |\n",
      "| value_loss         | 12.965646  |\n",
      "-----------------------------------\n",
      "------------------------------------\n",
      "| approxkl           | 0.14099911  |\n",
      "| clipfrac           | 0.9094331   |\n",
      "| explained_variance | -0.00534    |\n",
      "| fps                | 15267       |\n",
      "| n_updates          | 1           |\n",
      "| policy_entropy     | 23.935987   |\n",
      "| policy_loss        | -0.21901116 |\n",
      "| serial_timesteps   | 6509        |\n",
      "| time_elapsed       | 1.5e-05     |\n",
      "| total_timesteps    | 0           |\n",
      "| value_loss         | 12.965616   |\n",
      "------------------------------------\n",
      "------------------------------------\n",
      "| approxkl           | 0.14166492  |\n",
      "| clipfrac           | 0.9125442   |\n",
      "| explained_variance | -0.00534    |\n",
      "| fps                | 16756       |\n",
      "| n_updates          | 1           |\n",
      "| policy_entropy     | 23.93533    |\n",
      "| policy_loss        | -0.21912257 |\n",
      "| serial_timesteps   | 6509        |\n",
      "| time_elapsed       | 1.69e-05    |\n",
      "| total_timesteps    | 0           |\n",
      "| value_loss         | 12.965589   |\n",
      "------------------------------------\n",
      "------------------------------------\n",
      "| approxkl           | 0.14210714  |\n",
      "| clipfrac           | 0.9143493   |\n",
      "| explained_variance | -0.00534    |\n",
      "| fps                | 14766       |\n",
      "| n_updates          | 1           |\n",
      "| policy_entropy     | 23.934185   |\n",
      "| policy_loss        | -0.21921854 |\n",
      "| serial_timesteps   | 6509        |\n",
      "| time_elapsed       | 1.36e-05    |\n",
      "| total_timesteps    | 0           |\n",
      "| value_loss         | 12.965565   |\n",
      "------------------------------------\n",
      "------------------------------------\n",
      "| approxkl           | 0.14271882  |\n",
      "| clipfrac           | 0.9148487   |\n",
      "| explained_variance | -0.00534    |\n",
      "| fps                | 15860       |\n",
      "| n_updates          | 1           |\n",
      "| policy_entropy     | 23.933409   |\n",
      "| policy_loss        | -0.21930295 |\n",
      "| serial_timesteps   | 6509        |\n",
      "| time_elapsed       | 1.65e-05    |\n",
      "| total_timesteps    | 0           |\n",
      "| value_loss         | 12.96554    |\n",
      "------------------------------------\n",
      "------------------------------------\n",
      "| approxkl           | 0.14318651  |\n",
      "| clipfrac           | 0.9183822   |\n",
      "| explained_variance | -0.00534    |\n",
      "| fps                | 15519       |\n",
      "| n_updates          | 1           |\n",
      "| policy_entropy     | 23.932827   |\n",
      "| policy_loss        | -0.21940102 |\n",
      "| serial_timesteps   | 6509        |\n",
      "| time_elapsed       | 2.34e-05    |\n",
      "| total_timesteps    | 0           |\n",
      "| value_loss         | 12.965517   |\n",
      "------------------------------------\n",
      "------------------------------------\n",
      "| approxkl           | 0.14360258  |\n",
      "| clipfrac           | 0.91953444  |\n",
      "| explained_variance | -0.00534    |\n",
      "| fps                | 16858       |\n",
      "| n_updates          | 1           |\n",
      "| policy_entropy     | 23.932291   |\n",
      "| policy_loss        | -0.21947932 |\n",
      "| serial_timesteps   | 6509        |\n",
      "| time_elapsed       | 1.5e-05     |\n",
      "| total_timesteps    | 0           |\n",
      "| value_loss         | 12.965497   |\n",
      "------------------------------------\n",
      "------------------------------------\n",
      "| approxkl           | 0.14410986  |\n",
      "| clipfrac           | 0.9214165   |\n",
      "| explained_variance | -0.00534    |\n",
      "| fps                | 17755       |\n",
      "| n_updates          | 1           |\n",
      "| policy_entropy     | 23.931665   |\n",
      "| policy_loss        | -0.21954967 |\n",
      "| serial_timesteps   | 6509        |\n",
      "| time_elapsed       | 1.41e-05    |\n",
      "| total_timesteps    | 0           |\n",
      "| value_loss         | 12.965481   |\n",
      "------------------------------------\n",
      "------------------------------------\n",
      "| approxkl           | 0.1446822   |\n",
      "| clipfrac           | 0.9246812   |\n",
      "| explained_variance | -0.00534    |\n",
      "| fps                | 16837       |\n",
      "| n_updates          | 1           |\n",
      "| policy_entropy     | 23.931036   |\n",
      "| policy_loss        | -0.21962267 |\n",
      "| serial_timesteps   | 6509        |\n",
      "| time_elapsed       | 1.36e-05    |\n",
      "| total_timesteps    | 0           |\n",
      "| value_loss         | 12.965466   |\n",
      "------------------------------------\n",
      "------------------------------------\n",
      "| approxkl           | 0.14508279  |\n",
      "| clipfrac           | 0.9282148   |\n",
      "| explained_variance | -0.00534    |\n",
      "| fps                | 14488       |\n",
      "| n_updates          | 1           |\n",
      "| policy_entropy     | 23.930262   |\n",
      "| policy_loss        | -0.21969885 |\n",
      "| serial_timesteps   | 6509        |\n",
      "| time_elapsed       | 1.38e-05    |\n",
      "| total_timesteps    | 0           |\n",
      "| value_loss         | 12.965448   |\n",
      "------------------------------------\n",
      "------------------------------------\n",
      "| approxkl           | 0.14527911  |\n",
      "| clipfrac           | 0.92767704  |\n",
      "| explained_variance | -0.00534    |\n",
      "| fps                | 17498       |\n",
      "| n_updates          | 1           |\n",
      "| policy_entropy     | 23.929695   |\n",
      "| policy_loss        | -0.21976343 |\n",
      "| serial_timesteps   | 6509        |\n",
      "| time_elapsed       | 1.62e-05    |\n",
      "| total_timesteps    | 0           |\n",
      "| value_loss         | 12.965437   |\n",
      "------------------------------------\n",
      "------------------------------------\n",
      "| approxkl           | 0.14552927  |\n",
      "| clipfrac           | 0.9242971   |\n",
      "| explained_variance | -0.00534    |\n",
      "| fps                | 16699       |\n",
      "| n_updates          | 1           |\n",
      "| policy_entropy     | 23.928974   |\n",
      "| policy_loss        | -0.21980016 |\n",
      "| serial_timesteps   | 6509        |\n",
      "| time_elapsed       | 1.26e-05    |\n",
      "| total_timesteps    | 0           |\n",
      "| value_loss         | 12.965423   |\n",
      "------------------------------------\n",
      "------------------------------------\n",
      "| approxkl           | 0.14602649  |\n",
      "| clipfrac           | 0.92583346  |\n",
      "| explained_variance | -0.00534    |\n",
      "| fps                | 17012       |\n",
      "| n_updates          | 1           |\n",
      "| policy_entropy     | 23.92799    |\n",
      "| policy_loss        | -0.21985814 |\n",
      "| serial_timesteps   | 6509        |\n",
      "| time_elapsed       | 1.45e-05    |\n",
      "| total_timesteps    | 0           |\n",
      "| value_loss         | 12.965408   |\n",
      "------------------------------------\n",
      "------------------------------------\n",
      "| approxkl           | 0.14627965  |\n",
      "| clipfrac           | 0.92767704  |\n",
      "| explained_variance | -0.00534    |\n",
      "| fps                | 17654       |\n",
      "| n_updates          | 1           |\n",
      "| policy_entropy     | 23.927673   |\n",
      "| policy_loss        | -0.21991336 |\n",
      "| serial_timesteps   | 6509        |\n",
      "| time_elapsed       | 1.57e-05    |\n",
      "| total_timesteps    | 0           |\n",
      "| value_loss         | 12.965397   |\n",
      "------------------------------------\n",
      "------------------------------------\n",
      "| approxkl           | 0.14655475  |\n",
      "| clipfrac           | 0.93040407  |\n",
      "| explained_variance | -0.00534    |\n",
      "| fps                | 17198       |\n",
      "| n_updates          | 1           |\n",
      "| policy_entropy     | 23.926737   |\n",
      "| policy_loss        | -0.21996877 |\n",
      "| serial_timesteps   | 6509        |\n",
      "| time_elapsed       | 1.36e-05    |\n",
      "| total_timesteps    | 0           |\n",
      "| value_loss         | 12.965384   |\n",
      "------------------------------------\n",
      "------------------------------------\n",
      "| approxkl           | 0.14708352  |\n",
      "| clipfrac           | 0.9312874   |\n",
      "| explained_variance | -0.00534    |\n",
      "| fps                | 17490       |\n",
      "| n_updates          | 1           |\n",
      "| policy_entropy     | 23.925617   |\n",
      "| policy_loss        | -0.22001964 |\n",
      "| serial_timesteps   | 6509        |\n",
      "| time_elapsed       | 1.41e-05    |\n",
      "| total_timesteps    | 0           |\n",
      "| value_loss         | 12.965375   |\n",
      "------------------------------------\n",
      "------------------------------------\n",
      "| approxkl           | 0.1475682   |\n",
      "| clipfrac           | 0.9366646   |\n",
      "| explained_variance | -0.00534    |\n",
      "| fps                | 19043       |\n",
      "| n_updates          | 1           |\n",
      "| policy_entropy     | 23.924623   |\n",
      "| policy_loss        | -0.22007798 |\n",
      "| serial_timesteps   | 6509        |\n",
      "| time_elapsed       | 1.48e-05    |\n",
      "| total_timesteps    | 0           |\n",
      "| value_loss         | 12.965363   |\n",
      "------------------------------------\n",
      "------------------------------------\n",
      "| approxkl           | 0.14799519  |\n",
      "| clipfrac           | 0.9386234   |\n",
      "| explained_variance | -0.00534    |\n",
      "| fps                | 17525       |\n",
      "| n_updates          | 1           |\n",
      "| policy_entropy     | 23.924356   |\n",
      "| policy_loss        | -0.22012873 |\n",
      "| serial_timesteps   | 6509        |\n",
      "| time_elapsed       | 1.41e-05    |\n",
      "| total_timesteps    | 0           |\n",
      "| value_loss         | 12.965355   |\n",
      "------------------------------------\n",
      "------------------------------------\n",
      "| approxkl           | 0.14835273  |\n",
      "| clipfrac           | 0.9379705   |\n",
      "| explained_variance | -0.00534    |\n",
      "| fps                | 17201       |\n",
      "| n_updates          | 1           |\n",
      "| policy_entropy     | 23.92448    |\n",
      "| policy_loss        | -0.22016898 |\n",
      "| serial_timesteps   | 6509        |\n",
      "| time_elapsed       | 1.43e-05    |\n",
      "| total_timesteps    | 0           |\n",
      "| value_loss         | 12.9653425  |\n",
      "------------------------------------\n",
      "------------------------------------\n",
      "| approxkl           | 0.14879967  |\n",
      "| clipfrac           | 0.93754804  |\n",
      "| explained_variance | -0.00534    |\n",
      "| fps                | 19017       |\n",
      "| n_updates          | 1           |\n",
      "| policy_entropy     | 23.92382    |\n",
      "| policy_loss        | -0.22020832 |\n",
      "| serial_timesteps   | 6509        |\n",
      "| time_elapsed       | 1.41e-05    |\n",
      "| total_timesteps    | 0           |\n",
      "| value_loss         | 12.965336   |\n",
      "------------------------------------\n",
      "------------------------------------\n",
      "| approxkl           | 0.14905009  |\n",
      "| clipfrac           | 0.93854654  |\n",
      "| explained_variance | -0.00534    |\n",
      "| fps                | 17852       |\n",
      "| n_updates          | 1           |\n",
      "| policy_entropy     | 23.923222   |\n",
      "| policy_loss        | -0.22025312 |\n",
      "| serial_timesteps   | 6509        |\n",
      "| time_elapsed       | 1.36e-05    |\n",
      "| total_timesteps    | 0           |\n",
      "| value_loss         | 12.965329   |\n",
      "------------------------------------\n",
      "-----------------------------------\n",
      "| approxkl           | 0.14942351 |\n",
      "| clipfrac           | 0.9414656  |\n",
      "| explained_variance | -0.00534   |\n",
      "| fps                | 17658      |\n",
      "| n_updates          | 1          |\n",
      "| policy_entropy     | 23.922314  |\n",
      "| policy_loss        | -0.2202973 |\n",
      "| serial_timesteps   | 6509       |\n",
      "| time_elapsed       | 1.26e-05   |\n",
      "| total_timesteps    | 0          |\n",
      "| value_loss         | 12.965323  |\n",
      "-----------------------------------\n",
      "------------------------------------\n",
      "| approxkl           | 0.14974193  |\n",
      "| clipfrac           | 0.9406591   |\n",
      "| explained_variance | -0.00534    |\n",
      "| fps                | 18213       |\n",
      "| n_updates          | 1           |\n",
      "| policy_entropy     | 23.921814   |\n",
      "| policy_loss        | -0.22032428 |\n",
      "| serial_timesteps   | 6509        |\n",
      "| time_elapsed       | 1.38e-05    |\n",
      "| total_timesteps    | 0           |\n",
      "| value_loss         | 12.965317   |\n",
      "------------------------------------\n",
      "------------------------------------\n",
      "| approxkl           | 0.15032221  |\n",
      "| clipfrac           | 0.9401214   |\n",
      "| explained_variance | -0.00534    |\n",
      "| fps                | 18785       |\n",
      "| n_updates          | 1           |\n",
      "| policy_entropy     | 23.921146   |\n",
      "| policy_loss        | -0.22035447 |\n",
      "| serial_timesteps   | 6509        |\n",
      "| time_elapsed       | 1.29e-05    |\n",
      "| total_timesteps    | 0           |\n",
      "| value_loss         | 12.965313   |\n",
      "------------------------------------\n",
      "------------------------------------\n",
      "| approxkl           | 0.15056682  |\n",
      "| clipfrac           | 0.94000614  |\n",
      "| explained_variance | -0.00534    |\n",
      "| fps                | 16913       |\n",
      "| n_updates          | 1           |\n",
      "| policy_entropy     | 23.920637   |\n",
      "| policy_loss        | -0.22039327 |\n",
      "| serial_timesteps   | 6509        |\n",
      "| time_elapsed       | 2e-05       |\n",
      "| total_timesteps    | 0           |\n",
      "| value_loss         | 12.965306   |\n",
      "------------------------------------\n",
      "------------------------------------\n",
      "| approxkl           | 0.15090342  |\n",
      "| clipfrac           | 0.9436165   |\n",
      "| explained_variance | -0.00534    |\n",
      "| fps                | 17831       |\n",
      "| n_updates          | 1           |\n",
      "| policy_entropy     | 23.920008   |\n",
      "| policy_loss        | -0.22043401 |\n",
      "| serial_timesteps   | 6509        |\n",
      "| time_elapsed       | 1.31e-05    |\n",
      "| total_timesteps    | 0           |\n",
      "| value_loss         | 12.9653015  |\n",
      "------------------------------------\n",
      "------------------------------------\n",
      "| approxkl           | 0.1511911   |\n",
      "| clipfrac           | 0.9403134   |\n",
      "| explained_variance | -0.00534    |\n",
      "| fps                | 16870       |\n",
      "| n_updates          | 1           |\n",
      "| policy_entropy     | 23.919487   |\n",
      "| policy_loss        | -0.22046569 |\n",
      "| serial_timesteps   | 6509        |\n",
      "| time_elapsed       | 1.38e-05    |\n",
      "| total_timesteps    | 0           |\n",
      "| value_loss         | 12.965293   |\n",
      "------------------------------------\n",
      "------------------------------------\n",
      "| approxkl           | 0.15160388  |\n",
      "| clipfrac           | 0.9401598   |\n",
      "| explained_variance | -0.00534    |\n",
      "| fps                | 17283       |\n",
      "| n_updates          | 1           |\n",
      "| policy_entropy     | 23.918242   |\n",
      "| policy_loss        | -0.22048685 |\n",
      "| serial_timesteps   | 6509        |\n",
      "| time_elapsed       | 1.53e-05    |\n",
      "| total_timesteps    | 0           |\n",
      "| value_loss         | 12.965288   |\n",
      "------------------------------------\n",
      "------------------------------------\n",
      "| approxkl           | 0.15205958  |\n",
      "| clipfrac           | 0.94281     |\n",
      "| explained_variance | -0.00534    |\n",
      "| fps                | 17016       |\n",
      "| n_updates          | 1           |\n",
      "| policy_entropy     | 23.917995   |\n",
      "| policy_loss        | -0.22052078 |\n",
      "| serial_timesteps   | 6509        |\n",
      "| time_elapsed       | 1.38e-05    |\n",
      "| total_timesteps    | 0           |\n",
      "| value_loss         | 12.965283   |\n",
      "------------------------------------\n",
      "------------------------------------\n",
      "| approxkl           | 0.15263525  |\n",
      "| clipfrac           | 0.9464972   |\n",
      "| explained_variance | -0.00534    |\n",
      "| fps                | 17314       |\n",
      "| n_updates          | 1           |\n",
      "| policy_entropy     | 23.917915   |\n",
      "| policy_loss        | -0.22054926 |\n",
      "| serial_timesteps   | 6509        |\n",
      "| time_elapsed       | 1.38e-05    |\n",
      "| total_timesteps    | 0           |\n",
      "| value_loss         | 12.965281   |\n",
      "------------------------------------\n",
      "------------------------------------\n",
      "| approxkl           | 0.153064    |\n",
      "| clipfrac           | 0.94668925  |\n",
      "| explained_variance | -0.00534    |\n",
      "| fps                | 17157       |\n",
      "| n_updates          | 1           |\n",
      "| policy_entropy     | 23.917273   |\n",
      "| policy_loss        | -0.22058266 |\n",
      "| serial_timesteps   | 6509        |\n",
      "| time_elapsed       | 1.69e-05    |\n",
      "| total_timesteps    | 0           |\n",
      "| value_loss         | 12.965273   |\n",
      "------------------------------------\n",
      "------------------------------------\n",
      "| approxkl           | 0.15335038  |\n",
      "| clipfrac           | 0.95287293  |\n",
      "| explained_variance | -0.00534    |\n",
      "| fps                | 16949       |\n",
      "| n_updates          | 1           |\n",
      "| policy_entropy     | 23.916239   |\n",
      "| policy_loss        | -0.22062048 |\n",
      "| serial_timesteps   | 6509        |\n",
      "| time_elapsed       | 1.43e-05    |\n",
      "| total_timesteps    | 0           |\n",
      "| value_loss         | 12.965267   |\n",
      "------------------------------------\n",
      "------------------------------------\n",
      "| approxkl           | 0.15357634  |\n",
      "| clipfrac           | 0.95225847  |\n",
      "| explained_variance | -0.00534    |\n",
      "| fps                | 18010       |\n",
      "| n_updates          | 1           |\n",
      "| policy_entropy     | 23.915604   |\n",
      "| policy_loss        | -0.22064373 |\n",
      "| serial_timesteps   | 6509        |\n",
      "| time_elapsed       | 1.72e-05    |\n",
      "| total_timesteps    | 0           |\n",
      "| value_loss         | 12.965265   |\n",
      "------------------------------------\n",
      "------------------------------------\n",
      "| approxkl           | 0.1538029   |\n",
      "| clipfrac           | 0.95260406  |\n",
      "| explained_variance | -0.00534    |\n",
      "| fps                | 17770       |\n",
      "| n_updates          | 1           |\n",
      "| policy_entropy     | 23.915009   |\n",
      "| policy_loss        | -0.22067195 |\n",
      "| serial_timesteps   | 6509        |\n",
      "| time_elapsed       | 1.36e-05    |\n",
      "| total_timesteps    | 0           |\n",
      "| value_loss         | 12.965258   |\n",
      "------------------------------------\n",
      "------------------------------------\n",
      "| approxkl           | 0.1539909   |\n",
      "| clipfrac           | 0.9521047   |\n",
      "| explained_variance | -0.00534    |\n",
      "| fps                | 16393       |\n",
      "| n_updates          | 1           |\n",
      "| policy_entropy     | 23.914268   |\n",
      "| policy_loss        | -0.22069877 |\n",
      "| serial_timesteps   | 6509        |\n",
      "| time_elapsed       | 1.38e-05    |\n",
      "| total_timesteps    | 0           |\n",
      "| value_loss         | 12.965254   |\n",
      "------------------------------------\n",
      "------------------------------------\n",
      "| approxkl           | 0.15425742  |\n",
      "| clipfrac           | 0.95175916  |\n",
      "| explained_variance | -0.00534    |\n",
      "| fps                | 18767       |\n",
      "| n_updates          | 1           |\n",
      "| policy_entropy     | 23.91396    |\n",
      "| policy_loss        | -0.22071943 |\n",
      "| serial_timesteps   | 6509        |\n",
      "| time_elapsed       | 1.38e-05    |\n",
      "| total_timesteps    | 0           |\n",
      "| value_loss         | 12.965249   |\n",
      "------------------------------------\n",
      "------------------------------------\n",
      "| approxkl           | 0.15452501  |\n",
      "| clipfrac           | 0.9508373   |\n",
      "| explained_variance | -0.00534    |\n",
      "| fps                | 17377       |\n",
      "| n_updates          | 1           |\n",
      "| policy_entropy     | 23.914013   |\n",
      "| policy_loss        | -0.22073486 |\n",
      "| serial_timesteps   | 6509        |\n",
      "| time_elapsed       | 1.38e-05    |\n",
      "| total_timesteps    | 0           |\n",
      "| value_loss         | 12.965245   |\n",
      "------------------------------------\n",
      "------------------------------------\n",
      "| approxkl           | 0.15481631  |\n",
      "| clipfrac           | 0.9526041   |\n",
      "| explained_variance | -0.00534    |\n",
      "| fps                | 16516       |\n",
      "| n_updates          | 1           |\n",
      "| policy_entropy     | 23.91404    |\n",
      "| policy_loss        | -0.22076637 |\n",
      "| serial_timesteps   | 6509        |\n",
      "| time_elapsed       | 1.67e-05    |\n",
      "| total_timesteps    | 0           |\n",
      "| value_loss         | 12.9652405  |\n",
      "------------------------------------\n",
      "------------------------------------\n",
      "| approxkl           | 0.1551253   |\n",
      "| clipfrac           | 0.95145184  |\n",
      "| explained_variance | -0.00534    |\n",
      "| fps                | 17935       |\n",
      "| n_updates          | 1           |\n",
      "| policy_entropy     | 23.913647   |\n",
      "| policy_loss        | -0.22078916 |\n",
      "| serial_timesteps   | 6509        |\n",
      "| time_elapsed       | 1.34e-05    |\n",
      "| total_timesteps    | 0           |\n",
      "| value_loss         | 12.965235   |\n",
      "------------------------------------\n",
      "------------------------------------\n",
      "| approxkl           | 0.15541774  |\n",
      "| clipfrac           | 0.95617604  |\n",
      "| explained_variance | -0.00534    |\n",
      "| fps                | 16805       |\n",
      "| n_updates          | 1           |\n",
      "| policy_entropy     | 23.912796   |\n",
      "| policy_loss        | -0.22081196 |\n",
      "| serial_timesteps   | 6509        |\n",
      "| time_elapsed       | 1.41e-05    |\n",
      "| total_timesteps    | 0           |\n",
      "| value_loss         | 12.965229   |\n",
      "------------------------------------\n",
      "------------------------------------\n",
      "| approxkl           | 0.15555716  |\n",
      "| clipfrac           | 0.95348746  |\n",
      "| explained_variance | -0.00534    |\n",
      "| fps                | 16504       |\n",
      "| n_updates          | 1           |\n",
      "| policy_entropy     | 23.9123     |\n",
      "| policy_loss        | -0.22082046 |\n",
      "| serial_timesteps   | 6509        |\n",
      "| time_elapsed       | 1.69e-05    |\n",
      "| total_timesteps    | 0           |\n",
      "| value_loss         | 12.965225   |\n",
      "------------------------------------\n",
      "------------------------------------\n",
      "| approxkl           | 0.15609801  |\n",
      "| clipfrac           | 0.95717466  |\n",
      "| explained_variance | -0.00534    |\n",
      "| fps                | 16553       |\n",
      "| n_updates          | 1           |\n",
      "| policy_entropy     | 23.912174   |\n",
      "| policy_loss        | -0.22084862 |\n",
      "| serial_timesteps   | 6509        |\n",
      "| time_elapsed       | 1.6e-05     |\n",
      "| total_timesteps    | 0           |\n",
      "| value_loss         | 12.9652195  |\n",
      "------------------------------------\n",
      "------------------------------------\n",
      "| approxkl           | 0.15655391  |\n",
      "| clipfrac           | 0.9589799   |\n",
      "| explained_variance | -0.00534    |\n",
      "| fps                | 14498       |\n",
      "| n_updates          | 1           |\n",
      "| policy_entropy     | 23.912045   |\n",
      "| policy_loss        | -0.22086498 |\n",
      "| serial_timesteps   | 6509        |\n",
      "| time_elapsed       | 1.76e-05    |\n",
      "| total_timesteps    | 0           |\n",
      "| value_loss         | 12.965219   |\n",
      "------------------------------------\n",
      "------------------------------------\n",
      "| approxkl           | 0.1569554   |\n",
      "| clipfrac           | 0.96143806  |\n",
      "| explained_variance | -0.00534    |\n",
      "| fps                | 14694       |\n",
      "| n_updates          | 1           |\n",
      "| policy_entropy     | 23.91193    |\n",
      "| policy_loss        | -0.22088425 |\n",
      "| serial_timesteps   | 6509        |\n",
      "| time_elapsed       | 1.6e-05     |\n",
      "| total_timesteps    | 0           |\n",
      "| value_loss         | 12.965212   |\n",
      "------------------------------------\n",
      "------------------------------------\n",
      "| approxkl           | 0.15728182  |\n",
      "| clipfrac           | 0.95897985  |\n",
      "| explained_variance | -0.00534    |\n",
      "| fps                | 16305       |\n",
      "| n_updates          | 1           |\n",
      "| policy_entropy     | 23.911577   |\n",
      "| policy_loss        | -0.22088614 |\n",
      "| serial_timesteps   | 6509        |\n",
      "| time_elapsed       | 1.36e-05    |\n",
      "| total_timesteps    | 0           |\n",
      "| value_loss         | 12.965206   |\n",
      "------------------------------------\n",
      "------------------------------------\n",
      "| approxkl           | 0.15736558  |\n",
      "| clipfrac           | 0.95928717  |\n",
      "| explained_variance | -0.00534    |\n",
      "| fps                | 16385       |\n",
      "| n_updates          | 1           |\n",
      "| policy_entropy     | 23.91113    |\n",
      "| policy_loss        | -0.22089913 |\n",
      "| serial_timesteps   | 6509        |\n",
      "| time_elapsed       | 1.55e-05    |\n",
      "| total_timesteps    | 0           |\n",
      "| value_loss         | 12.965204   |\n",
      "------------------------------------\n",
      "------------------------------------\n",
      "| approxkl           | 0.15770243  |\n",
      "| clipfrac           | 0.9617069   |\n",
      "| explained_variance | -0.00534    |\n",
      "| fps                | 16445       |\n",
      "| n_updates          | 1           |\n",
      "| policy_entropy     | 23.91058    |\n",
      "| policy_loss        | -0.22091176 |\n",
      "| serial_timesteps   | 6509        |\n",
      "| time_elapsed       | 1.31e-05    |\n",
      "| total_timesteps    | 0           |\n",
      "| value_loss         | 12.9652     |\n",
      "------------------------------------\n",
      "------------------------------------\n",
      "| approxkl           | 0.15793975  |\n",
      "| clipfrac           | 0.9638193   |\n",
      "| explained_variance | -0.00534    |\n",
      "| fps                | 16808       |\n",
      "| n_updates          | 1           |\n",
      "| policy_entropy     | 23.910221   |\n",
      "| policy_loss        | -0.22092527 |\n",
      "| serial_timesteps   | 6509        |\n",
      "| time_elapsed       | 1.57e-05    |\n",
      "| total_timesteps    | 0           |\n",
      "| value_loss         | 12.965194   |\n",
      "------------------------------------\n",
      "-----------------------------------\n",
      "| approxkl           | 0.15807602 |\n",
      "| clipfrac           | 0.96266705 |\n",
      "| explained_variance | -0.00534   |\n",
      "| fps                | 15129      |\n",
      "| n_updates          | 1          |\n",
      "| policy_entropy     | 23.910135  |\n",
      "| policy_loss        | -0.2209293 |\n",
      "| serial_timesteps   | 6509       |\n",
      "| time_elapsed       | 1.36e-05   |\n",
      "| total_timesteps    | 0          |\n",
      "| value_loss         | 12.965191  |\n",
      "-----------------------------------\n",
      "------------------------------------\n",
      "| approxkl           | 0.1583307   |\n",
      "| clipfrac           | 0.9634737   |\n",
      "| explained_variance | -0.00534    |\n",
      "| fps                | 15074       |\n",
      "| n_updates          | 1           |\n",
      "| policy_entropy     | 23.909706   |\n",
      "| policy_loss        | -0.22093882 |\n",
      "| serial_timesteps   | 6509        |\n",
      "| time_elapsed       | 1.55e-05    |\n",
      "| total_timesteps    | 0           |\n",
      "| value_loss         | 12.965189   |\n",
      "------------------------------------\n",
      "------------------------------------\n",
      "| approxkl           | 0.15837957  |\n",
      "| clipfrac           | 0.9648948   |\n",
      "| explained_variance | -0.00534    |\n",
      "| fps                | 15481       |\n",
      "| n_updates          | 1           |\n",
      "| policy_entropy     | 23.909184   |\n",
      "| policy_loss        | -0.22095057 |\n",
      "| serial_timesteps   | 6509        |\n",
      "| time_elapsed       | 1.53e-05    |\n",
      "| total_timesteps    | 0           |\n",
      "| value_loss         | 12.965183   |\n",
      "------------------------------------\n",
      "------------------------------------\n",
      "| approxkl           | 0.15842792  |\n",
      "| clipfrac           | 0.96454906  |\n",
      "| explained_variance | -0.00534    |\n",
      "| fps                | 13898       |\n",
      "| n_updates          | 1           |\n",
      "| policy_entropy     | 23.909      |\n",
      "| policy_loss        | -0.22095937 |\n",
      "| serial_timesteps   | 6509        |\n",
      "| time_elapsed       | 1.43e-05    |\n",
      "| total_timesteps    | 0           |\n",
      "| value_loss         | 12.9651785  |\n",
      "------------------------------------\n",
      "-----------------------------------\n",
      "| approxkl           | 0.1584468  |\n",
      "| clipfrac           | 0.9651252  |\n",
      "| explained_variance | -0.00534   |\n",
      "| fps                | 14170      |\n",
      "| n_updates          | 1          |\n",
      "| policy_entropy     | 23.908463  |\n",
      "| policy_loss        | -0.2209667 |\n",
      "| serial_timesteps   | 6509       |\n",
      "| time_elapsed       | 2.62e-05   |\n",
      "| total_timesteps    | 0          |\n",
      "| value_loss         | 12.965172  |\n",
      "-----------------------------------\n",
      "------------------------------------\n",
      "| approxkl           | 0.15846346  |\n",
      "| clipfrac           | 0.9670456   |\n",
      "| explained_variance | -0.00534    |\n",
      "| fps                | 14191       |\n",
      "| n_updates          | 1           |\n",
      "| policy_entropy     | 23.907936   |\n",
      "| policy_loss        | -0.22098413 |\n",
      "| serial_timesteps   | 6509        |\n",
      "| time_elapsed       | 1.53e-05    |\n",
      "| total_timesteps    | 0           |\n",
      "| value_loss         | 12.965169   |\n",
      "------------------------------------\n"
     ]
    }
   ],
   "source": [
    "for _ in range(100):\n",
    "    info = sbppo.learn(inp['rollouts'])\n"
   ]
  },
  {
   "cell_type": "code",
   "execution_count": 8,
   "metadata": {},
   "outputs": [],
   "source": [
    "self = sbppo.ppo.act_model\n",
    "\n",
    "\n",
    "res = self.sess.run(sbppo.ppo.act_model.action, feed_dict={self.obs_ph: .01*np.ones((50000, 380))})"
   ]
  },
  {
   "cell_type": "code",
   "execution_count": 52,
   "metadata": {},
   "outputs": [
    {
     "data": {
      "text/plain": [
       "(array([   24.,   241.,  1932.,  7154., 14167., 15043.,  8424.,  2558.,\n",
       "          413.,    44.]),\n",
       " array([-4.9856644 , -4.1692243 , -3.352784  , -2.5363438 , -1.7199037 ,\n",
       "        -0.9034635 , -0.0870233 ,  0.72941685,  1.5458571 ,  2.3622973 ,\n",
       "         3.1787374 ], dtype=float32),\n",
       " <a list of 10 Patch objects>)"
      ]
     },
     "execution_count": 52,
     "metadata": {},
     "output_type": "execute_result"
    },
    {
     "data": {
      "image/png": "[encoded data removed]",
      "text/plain": [
       "<Figure size 432x288 with 1 Axes>"
      ]
     },
     "metadata": {
      "needs_background": "light"
     },
     "output_type": "display_data"
    }
   ],
   "source": [
    "plt.hist(res[:, 3])"
   ]
  },
  {
   "cell_type": "code",
   "execution_count": 53,
   "metadata": {},
   "outputs": [
    {
     "data": {
      "text/plain": [
       "1.0008113"
      ]
     },
     "execution_count": 53,
     "metadata": {},
     "output_type": "execute_result"
    }
   ],
   "source": [
    "np.std(res[:, 3])"
   ]
  },
  {
   "cell_type": "code",
   "execution_count": 54,
   "metadata": {},
   "outputs": [
    {
     "data": {
      "text/plain": [
       "array([[1.44048945e-11]])"
      ]
     },
     "execution_count": 54,
     "metadata": {},
     "output_type": "execute_result"
    }
   ],
   "source": [
    "sbppo.ppo.action_probability(observation=np.ones((1, 380))* 0.01, actions=0.01 * np.ones((1, 17)))"
   ]
  },
  {
   "cell_type": "code",
   "execution_count": 101,
   "metadata": {},
   "outputs": [],
   "source": [
    "ao = pickle.load(open('ao.pkl', 'rb'))"
   ]
  },
  {
   "cell_type": "code",
   "execution_count": 112,
   "metadata": {},
   "outputs": [],
   "source": [
    "self = sbppo.ppo.act_model\n",
    "\n",
    "\n",
    "res1 = self.sess.run(sbppo.ppo.act_model.neglogp, feed_dict={self.obs_ph: ao['o'],\n",
    "                                                             self.action: ao['a']\n",
    "                                                            })\n",
    "#logl1 = sbppo.ppo.action_probability(observation=ao['o'], actions=ao['a'])"
   ]
  },
  {
   "cell_type": "code",
   "execution_count": 113,
   "metadata": {},
   "outputs": [],
   "source": [
    "pickle.dump(res1, open('logl_sb.pkl', 'wb'))"
   ]
  },
  {
   "cell_type": "code",
   "execution_count": 106,
   "metadata": {},
   "outputs": [
    {
     "data": {
      "text/plain": [
       "array([[-27.65403808],\n",
       "       [-27.24515292],\n",
       "       [-29.48765788],\n",
       "       ...,\n",
       "       [-28.24122234],\n",
       "       [-27.45615706],\n",
       "       [-25.58718336]])"
      ]
     },
     "execution_count": 106,
     "metadata": {},
     "output_type": "execute_result"
    }
   ],
   "source": [
    "np.log(logl1)"
   ]
  },
  {
   "cell_type": "code",
   "execution_count": 109,
   "metadata": {},
   "outputs": [],
   "source": [
    "self = sbppo.ppo.act_model\n",
    "\n",
    "\n",
    "res1 = self.sess.run(sbppo.ppo.act_model.neglogp, feed_dict={self.obs_ph: ao['o'],\n",
    "                                                             self.action: ao['a']\n",
    "                                                            })"
   ]
  },
  {
   "cell_type": "code",
   "execution_count": 110,
   "metadata": {},
   "outputs": [
    {
     "data": {
      "text/plain": [
       "array([25.222132, 24.08613 , 30.193739, ..., 26.81917 , 24.710402,\n",
       "       19.60248 ], dtype=float32)"
      ]
     },
     "execution_count": 110,
     "metadata": {},
     "output_type": "execute_result"
    }
   ],
   "source": [
    "res1"
   ]
  },
  {
   "cell_type": "code",
   "execution_count": 26,
   "metadata": {},
   "outputs": [
    {
     "data": {
      "text/plain": [
       "array([[ 0.33781117, -0.6387095 ,  0.28466988, -0.324178  ,  1.0578278 ,\n",
       "        -0.2268597 , -0.48037216,  0.3405744 , -0.4707465 , -0.4581374 ,\n",
       "         1.4834704 ,  0.3253918 ,  0.14506464, -0.8816432 , -1.3016344 ,\n",
       "         0.69646215, -0.15551722]], dtype=float32)"
      ]
     },
     "execution_count": 26,
     "metadata": {},
     "output_type": "execute_result"
    }
   ],
   "source": [
    "self = sbppo.ppo.act_model\n",
    "\n",
    "\n",
    "self.sess.run(sbppo.ppo.act_model.policy, feed_dict={self.obs_ph: np.ones((1, 380))})"
   ]
  },
  {
   "cell_type": "code",
   "execution_count": null,
   "metadata": {},
   "outputs": [],
   "source": [
    "# mean is correct!!!"
   ]
  },
  {
   "cell_type": "code",
   "execution_count": 24,
   "metadata": {},
   "outputs": [
    {
     "data": {
      "text/plain": [
       "array([[-0.00116918,  0.00082356, -0.00108885,  0.00095606, -0.00118329,\n",
       "         0.0008741 ,  0.00041932,  0.00079433, -0.00011316, -0.00083624,\n",
       "        -0.00062921,  0.00017351,  0.00025134, -0.00053647,  0.00087864,\n",
       "        -0.00020972, -0.0006326 ]], dtype=float32)"
      ]
     },
     "execution_count": 24,
     "metadata": {},
     "output_type": "execute_result"
    }
   ],
   "source": [
    "outputs[pickle_files[0]]['weights']['logstd:0']"
   ]
  },
  {
   "cell_type": "code",
   "execution_count": 25,
   "metadata": {},
   "outputs": [
    {
     "data": {
      "text/plain": [
       "array([[-0.00116918,  0.00082356, -0.00108885,  0.00095606, -0.00118329,\n",
       "         0.0008741 ,  0.00041932,  0.00079433, -0.00011316, -0.00083624,\n",
       "        -0.00062921,  0.00017351,  0.00025134, -0.00053647,  0.00087864,\n",
       "        -0.00020972, -0.0006326 ]], dtype=float32)"
      ]
     },
     "execution_count": 25,
     "metadata": {},
     "output_type": "execute_result"
    }
   ],
   "source": [
    "self = sbppo.ppo.act_model\n",
    "\n",
    "\n",
    "self.sess.run(sbppo.ppo.act_model.logstd, feed_dict={self.obs_ph: np.ones((1, 380))})"
   ]
  },
  {
   "cell_type": "code",
   "execution_count": 295,
   "metadata": {},
   "outputs": [
    {
     "name": "stdout",
     "output_type": "stream",
     "text": [
      "Calling run() twice\n"
     ]
    }
   ],
   "source": [
    "obs1, returns1, masks1, actions1, values1, neglogpacs1, states1, ep_infos1, true_reward1 = sbppo.ppo.runner.run()"
   ]
  },
  {
   "cell_type": "code",
   "execution_count": 296,
   "metadata": {},
   "outputs": [
    {
     "data": {
      "text/plain": [
       "array([1.9493823e-12], dtype=float32)"
      ]
     },
     "execution_count": 296,
     "metadata": {},
     "output_type": "execute_result"
    }
   ],
   "source": [
    "sbppo.ppo.action_probability(obs1[100], actions=actions1[100])"
   ]
  },
  {
   "cell_type": "code",
   "execution_count": 297,
   "metadata": {},
   "outputs": [
    {
     "data": {
      "text/plain": [
       "0.4"
      ]
     },
     "execution_count": 297,
     "metadata": {},
     "output_type": "execute_result"
    }
   ],
   "source": [
    "sbppo.env_orig.action_space[0].high[0]"
   ]
  },
  {
   "cell_type": "code",
   "execution_count": 298,
   "metadata": {},
   "outputs": [
    {
     "data": {
      "text/plain": [
       "inf"
      ]
     },
     "execution_count": 298,
     "metadata": {},
     "output_type": "execute_result"
    }
   ],
   "source": [
    "sbppo.env_orig.observation_space[0].high[0]"
   ]
  },
  {
   "cell_type": "code",
   "execution_count": 299,
   "metadata": {},
   "outputs": [
    {
     "data": {
      "text/plain": [
       "dict_keys(['t', 'eps_id', 'agent_index', 'obs', 'actions', 'rewards', 'prev_actions', 'prev_rewards', 'dones', 'infos', 'new_obs', 'action_prob', 'action_logp', 'action_dist_inputs', 'vf_preds', 'unroll_id', 'advantages', 'value_targets'])"
      ]
     },
     "execution_count": 299,
     "metadata": {},
     "output_type": "execute_result"
    }
   ],
   "source": [
    "inp['rollouts'].keys()"
   ]
  },
  {
   "cell_type": "code",
   "execution_count": null,
   "metadata": {},
   "outputs": [],
   "source": []
  },
  {
   "cell_type": "code",
   "execution_count": 300,
   "metadata": {},
   "outputs": [
    {
     "data": {
      "text/plain": [
       "array([2.331657], dtype=float32)"
      ]
     },
     "execution_count": 300,
     "metadata": {},
     "output_type": "execute_result"
    }
   ],
   "source": [
    "sbppo.ppo.value(np.array([inp['rollouts']['obs'][0]]))"
   ]
  },
  {
   "cell_type": "code",
   "execution_count": 301,
   "metadata": {},
   "outputs": [
    {
     "data": {
      "text/plain": [
       "(array([ 0.4       , -0.2870105 , -0.4       , -0.4       ,  0.4       ,\n",
       "         0.4       , -0.4       , -0.4       , -0.33435982, -0.4       ,\n",
       "         0.4       , -0.11857797,  0.4       ,  0.18337083, -0.4       ,\n",
       "         0.4       ,  0.4       ], dtype=float32),\n",
       " None)"
      ]
     },
     "execution_count": 301,
     "metadata": {},
     "output_type": "execute_result"
    }
   ],
   "source": [
    "sbppo.ppo.predict(obs1[0])"
   ]
  },
  {
   "cell_type": "code",
   "execution_count": 302,
   "metadata": {},
   "outputs": [
    {
     "data": {
      "text/plain": [
       "array([ 1.5958313 ,  0.7703866 , -0.54719126, -1.9976833 ,  1.6901374 ,\n",
       "       -0.23313254, -1.3133931 , -1.5083477 , -0.38309667,  1.3615172 ,\n",
       "        0.5574909 ,  0.18588221,  0.92212176, -1.5762848 ,  0.53522336,\n",
       "        0.99442494,  0.4619234 ], dtype=float32)"
      ]
     },
     "execution_count": 302,
     "metadata": {},
     "output_type": "execute_result"
    }
   ],
   "source": [
    "actions1[0]"
   ]
  },
  {
   "cell_type": "code",
   "execution_count": 303,
   "metadata": {},
   "outputs": [
    {
     "data": {
      "text/plain": [
       "<stable_baselines.ppo2.ppo2.PPO2 at 0x7f50d0461b00>"
      ]
     },
     "execution_count": 303,
     "metadata": {},
     "output_type": "execute_result"
    }
   ],
   "source": [
    "sbppo.ppo"
   ]
  },
  {
   "cell_type": "code",
   "execution_count": 304,
   "metadata": {},
   "outputs": [
    {
     "data": {
      "text/plain": [
       "(array([-0.4       , -0.4       ,  0.1893939 , -0.4       , -0.4       ,\n",
       "         0.4       , -0.4       , -0.4       ,  0.29169214,  0.21761435,\n",
       "         0.4       , -0.4       , -0.4       , -0.4       ,  0.4       ,\n",
       "        -0.4       , -0.4       ], dtype=float32),\n",
       " None)"
      ]
     },
     "execution_count": 304,
     "metadata": {},
     "output_type": "execute_result"
    }
   ],
   "source": [
    "sbppo.ppo.predict(obs1[0])"
   ]
  },
  {
   "cell_type": "code",
   "execution_count": null,
   "metadata": {},
   "outputs": [],
   "source": []
  },
  {
   "cell_type": "code",
   "execution_count": 357,
   "metadata": {},
   "outputs": [],
   "source": [
    "sbppo.set_weights(inp['weights'])"
   ]
  },
  {
   "cell_type": "code",
   "execution_count": 306,
   "metadata": {},
   "outputs": [
    {
     "data": {
      "text/plain": [
       "25.000622"
      ]
     },
     "execution_count": 306,
     "metadata": {},
     "output_type": "execute_result"
    }
   ],
   "source": [
    "25.000622 "
   ]
  },
  {
   "cell_type": "code",
   "execution_count": 307,
   "metadata": {},
   "outputs": [],
   "source": [
    "# clipping actions\n",
    "inp['rollouts']['actions_unclipped'] = np.copy(inp['rollouts']['actions'])\n",
    "#inp['rollouts']['actions'] = np.clip(inp['rollouts']['actions'], sbppo.env_orig.action_space[0].low, sbppo.env_orig.action_space[0].high)\n",
    "inp['rollouts']['true_neglogp'] = -np.log(sbppo.ppo.action_probability(inp['rollouts']['obs'], actions=inp['rollouts']['actions']))[:, 0]"
   ]
  },
  {
   "cell_type": "code",
   "execution_count": 308,
   "metadata": {},
   "outputs": [
    {
     "data": {
      "text/plain": [
       "(21576,)"
      ]
     },
     "execution_count": 308,
     "metadata": {},
     "output_type": "execute_result"
    }
   ],
   "source": [
    "inp['rollouts']['true_neglogp'].shape"
   ]
  },
  {
   "cell_type": "code",
   "execution_count": 309,
   "metadata": {},
   "outputs": [
    {
     "data": {
      "text/plain": [
       "-10.67228110806152"
      ]
     },
     "execution_count": 309,
     "metadata": {},
     "output_type": "execute_result"
    }
   ],
   "source": [
    "np.log(2.126762e-11) / np.log(10)"
   ]
  },
  {
   "cell_type": "code",
   "execution_count": 360,
   "metadata": {},
   "outputs": [],
   "source": [
    "import tensorflow as tf"
   ]
  },
  {
   "cell_type": "code",
   "execution_count": 400,
   "metadata": {},
   "outputs": [
    {
     "data": {
      "text/plain": [
       "array([[ 0.97888553,  0.9474181 ,  0.26245996, -0.24640836,  0.46941692,\n",
       "        -0.40494165,  0.672592  , -0.52557856,  0.5032894 ,  0.300472  ,\n",
       "        -0.2419817 , -0.7371399 , -0.4276322 , -0.71516854, -0.32882518,\n",
       "         0.35076812, -0.9474809 ]], dtype=float32)"
      ]
     },
     "execution_count": 400,
     "metadata": {},
     "output_type": "execute_result"
    }
   ],
   "source": [
    "self = sbppo.ppo.act_model\n",
    "\n",
    "\n",
    "self.sess.run(sbppo.ppo.act_model.policy, feed_dict={self.obs_ph: np.ones((1, 380))})"
   ]
  },
  {
   "cell_type": "code",
   "execution_count": 392,
   "metadata": {},
   "outputs": [
    {
     "data": {
      "text/plain": [
       "array([[0., 0., 0., 0., 0., 0., 0., 0., 0., 0., 0., 0., 0., 0., 0., 0.,\n",
       "        0.]], dtype=float32)"
      ]
     },
     "execution_count": 392,
     "metadata": {},
     "output_type": "execute_result"
    }
   ],
   "source": [
    "inp['weights']['logstd:0']"
   ]
  },
  {
   "cell_type": "code",
   "execution_count": null,
   "metadata": {},
   "outputs": [],
   "source": []
  },
  {
   "cell_type": "code",
   "execution_count": 366,
   "metadata": {},
   "outputs": [
    {
     "name": "stdout",
     "output_type": "stream",
     "text": [
      "[[0. 0. 0. 0. 0. 0. 0. 0. 0. 0. 0. 0. 0. 0. 0. 0. 0.]]\n"
     ]
    }
   ],
   "source": [
    "with tf.variable_scope(\"input\"):\n",
    "    print(sbppo.ppo.act_model.sess.run(sbppo.ppo.act_model.action))"
   ]
  },
  {
   "cell_type": "code",
   "execution_count": 152,
   "metadata": {},
   "outputs": [],
   "source": [
    "def swap_and_flatten(arr):\n",
    "    \"\"\"\n",
    "    swap and then flatten axes 0 and 1\n",
    "\n",
    "    :param arr: (np.ndarray)\n",
    "    :return: (np.ndarray)\n",
    "    \"\"\"\n",
    "    shape = arr.shape\n",
    "    return arr.swapaxes(0, 1).reshape(shape[0] * shape[1], *shape[2:])\n",
    "\n",
    "\n",
    "class mock_vanilla_runner():\n",
    "    def __init__(self, rollouts, weights, env, true_model, gamma, lam):\n",
    "        self.rollouts = rollouts\n",
    "        self.states = None\n",
    "        self.dones = self.rollouts['dones'][0:1]\n",
    "        self.true_env = env\n",
    "        self.true_model = true_model\n",
    "        self.gamma = gamma\n",
    "        self.lam = lam\n",
    "        \n",
    "        class model_cls(object):\n",
    "            def __init__(self, rollouts, true_model):\n",
    "                self.rollouts = rollouts\n",
    "                self.true_model = true_model\n",
    "                self.idx = 0\n",
    "                self.num_timesteps = 0\n",
    "            def step(self, obs, states, dones):\n",
    "                states = None\n",
    "                actions = self.rollouts['actions'][self.idx]\n",
    "                values = self.rollouts['vf_preds'][self.idx]\n",
    "                #value_true = self.true_model.value(np.array([obs]))[0]\n",
    "                #actions_unclip = self.rollouts['actions'][self.idx-1]\n",
    "                #actions_unclip = self.rollouts['actions_unclipped'][self.idx]\n",
    "                #neglogpac_true = -np.log(sbppo.ppo.action_probability(obs, actions=actions_unclip)[0])\n",
    "                #if np.linalg.norm(values - value_true) > 1e-5:\n",
    "                #    print(\"Wrong value\", values, value_true)\n",
    "                    \n",
    "                neglogpacs = -self.rollouts['action_logp'][self.idx]\n",
    "                #neglogpacs = self.rollouts['true_neglogp'][self.idx]\n",
    "                \n",
    "                #if np.linalg.norm(neglogpacs - neglogpac_true) > 1e-3 and dones:\n",
    "                #    print(\"Wrong NegLogP\", neglogpacs, neglogpac_true)\n",
    "                \n",
    "                self.idx += 1\n",
    "                return np.array([actions]), np.array([values]), np.array([states]), np.array([neglogpacs])\n",
    "            def value(self, obs, states, dones):\n",
    "                return np.array([self.rollouts['vf_preds'][-1]])\n",
    "            \n",
    "        class env_cls(object):\n",
    "            def __init__(self, rollouts, true_env):\n",
    "                self.true_env = true_env\n",
    "                self.rollouts = rollouts\n",
    "                self.action_space = true_env.action_space\n",
    "                self.observation_space = true_env.observation_space\n",
    "                self.idx = 0\n",
    "            def reset(self):\n",
    "                self.idx += 1\n",
    "                return np.array([self.rollouts['obs'][0]])\n",
    "            \n",
    "            def step(self, actions):\n",
    "                #print(actions, self.rollouts['actions'][self.idx - 1])\n",
    "                #assert np.allclose(actions, self.rollouts['actions'][self.idx - 1])\n",
    "                obs = self.rollouts['obs'][self.idx]\n",
    "                rew = self.rollouts['rewards'][self.idx]\n",
    "                done = self.rollouts['dones'][self.idx]\n",
    "                info = self.rollouts['infos'][self.idx]\n",
    "                self.idx += 1\n",
    "                return np.array([obs]), np.array([rew]), np.array([done]), np.array([info])\n",
    "            \n",
    "        self.model = model_cls(self.rollouts, self.true_model)\n",
    "        self.env = env_cls(self.rollouts, self.true_env)\n",
    "        \n",
    "        self.obs = self.env.reset()\n",
    "        self.n_envs = 1\n",
    "        self.callback = None\n",
    "        self.n_steps = len(self.rollouts['obs']) - 1\n",
    "        \n",
    "\n",
    "    def vanilla_run(self):\n",
    "        # mb stands for minibatch\n",
    "        mb_obs, mb_rewards, mb_actions, mb_values, mb_dones, mb_neglogpacs = [], [], [], [], [], []\n",
    "        mb_states = self.states\n",
    "        ep_infos = []\n",
    "        for _ in range(self.n_steps):\n",
    "            actions, values, self.states, neglogpacs = self.model.step(self.obs, self.states, self.dones)\n",
    "            mb_obs.append(self.obs.copy())\n",
    "            mb_actions.append(actions)\n",
    "            mb_values.append(values)\n",
    "            mb_neglogpacs.append(neglogpacs)\n",
    "            mb_dones.append(self.dones)\n",
    "            clipped_actions = actions\n",
    "            # Clip the actions to avoid out of bound error\n",
    "            if isinstance(self.env.action_space, gym.spaces.Box):\n",
    "                clipped_actions = np.clip(actions, self.env.action_space.low, self.env.action_space.high)\n",
    "            self.obs[:], rewards, self.dones, infos = self.env.step(clipped_actions)\n",
    "\n",
    "            self.model.num_timesteps += self.n_envs\n",
    "\n",
    "            if self.callback is not None:\n",
    "                # Abort training early\n",
    "                if self.callback.on_step() is False:\n",
    "                    self.continue_training = False\n",
    "                    # Return dummy values\n",
    "                    return [None] * 9\n",
    "\n",
    "            for info in infos:\n",
    "                maybe_ep_info = info.get('episode')\n",
    "                if maybe_ep_info is not None:\n",
    "                    ep_infos.append(maybe_ep_info)\n",
    "            mb_rewards.append(rewards)\n",
    "                        \n",
    "        # batch of steps to batch of rollouts\n",
    "        mb_obs = np.asarray(mb_obs, dtype=self.obs.dtype)\n",
    "        mb_rewards = np.asarray(mb_rewards, dtype=np.float32)\n",
    "        mb_actions = np.asarray(mb_actions)\n",
    "        mb_values = np.asarray(mb_values, dtype=np.float32)\n",
    "        mb_neglogpacs = np.asarray(mb_neglogpacs, dtype=np.float32)\n",
    "        mb_dones = np.asarray(mb_dones, dtype=np.bool)\n",
    "        last_values = self.model.value(self.obs, self.states, self.dones)\n",
    "        # discount/bootstrap off value fn\n",
    "        mb_advs = np.zeros_like(mb_rewards)\n",
    "        true_reward = np.copy(mb_rewards)\n",
    "        last_gae_lam = 0\n",
    "        for step in reversed(range(self.n_steps)):\n",
    "            if step == self.n_steps - 1:\n",
    "                nextnonterminal = 1.0 - self.dones\n",
    "                nextvalues = last_values\n",
    "            else:\n",
    "                nextnonterminal = 1.0 - mb_dones[step + 1]\n",
    "                nextvalues = mb_values[step + 1]\n",
    "            delta = mb_rewards[step] + self.gamma * nextvalues * nextnonterminal - mb_values[step]\n",
    "            mb_advs[step] = last_gae_lam = delta + self.gamma * self.lam * nextnonterminal * last_gae_lam\n",
    "        mb_returns = mb_advs + mb_values\n",
    "\n",
    "        \n",
    "        \n",
    "        mb_obs, mb_returns, mb_dones, mb_actions, mb_values, mb_neglogpacs, true_reward = \\\n",
    "            map(swap_and_flatten, (mb_obs, mb_returns, mb_dones, mb_actions, mb_values, mb_neglogpacs, true_reward))\n",
    "        return mb_obs, mb_returns, mb_dones, mb_actions, mb_values, mb_neglogpacs, mb_states, ep_infos, true_reward\n",
    "            "
   ]
  },
  {
   "cell_type": "code",
   "execution_count": 153,
   "metadata": {},
   "outputs": [],
   "source": [
    "mvr = mock_vanilla_runner(inp['rollouts'], inp['weights'], sbppo.env, sbppo.ppo, sbppo.ppo.gamma, sbppo.ppo.lam)"
   ]
  },
  {
   "cell_type": "code",
   "execution_count": 154,
   "metadata": {},
   "outputs": [],
   "source": [
    "obs2, returns2, masks2, actions2, values2, neglogpacs2, states2, ep_infos2, true_reward2 = mvr.vanilla_run()"
   ]
  },
  {
   "cell_type": "code",
   "execution_count": 156,
   "metadata": {},
   "outputs": [
    {
     "data": {
      "text/plain": [
       "(6509, 380)"
      ]
     },
     "execution_count": 156,
     "metadata": {},
     "output_type": "execute_result"
    }
   ],
   "source": [
    "obs2.shape"
   ]
  },
  {
   "cell_type": "code",
   "execution_count": 317,
   "metadata": {},
   "outputs": [
    {
     "data": {
      "text/plain": [
       "True"
      ]
     },
     "execution_count": 317,
     "metadata": {},
     "output_type": "execute_result"
    }
   ],
   "source": [
    "np.allclose(actions1[:-1], actions2)"
   ]
  },
  {
   "cell_type": "code",
   "execution_count": 318,
   "metadata": {},
   "outputs": [
    {
     "data": {
      "text/plain": [
       "1"
      ]
     },
     "execution_count": 318,
     "metadata": {},
     "output_type": "execute_result"
    }
   ],
   "source": [
    "# observations are fine\n",
    "np.sum(np.linalg.norm(obs1[:-1] - obs2, axis=1) > 0)"
   ]
  },
  {
   "cell_type": "code",
   "execution_count": 319,
   "metadata": {},
   "outputs": [
    {
     "data": {
      "text/plain": [
       "array([ 2.2823048,  2.3053582,  2.3286448, ...,  9.801001 ,  9.9      ,\n",
       "       10.       ], dtype=float32)"
      ]
     },
     "execution_count": 319,
     "metadata": {},
     "output_type": "execute_result"
    }
   ],
   "source": [
    "# returns are not fine\n",
    "returns1[:-1] - returns2"
   ]
  },
  {
   "cell_type": "code",
   "execution_count": 320,
   "metadata": {},
   "outputs": [
    {
     "data": {
      "text/plain": [
       "True"
      ]
     },
     "execution_count": 320,
     "metadata": {},
     "output_type": "execute_result"
    }
   ],
   "source": [
    "# dones are fine\n",
    "np.allclose(masks1[:-1], masks2)"
   ]
  },
  {
   "cell_type": "code",
   "execution_count": 321,
   "metadata": {},
   "outputs": [
    {
     "data": {
      "text/plain": [
       "0"
      ]
     },
     "execution_count": 321,
     "metadata": {},
     "output_type": "execute_result"
    }
   ],
   "source": [
    "# need to start from 1\n",
    "np.sum((true_reward1[1:] - true_reward2) > 0)"
   ]
  },
  {
   "cell_type": "code",
   "execution_count": 322,
   "metadata": {},
   "outputs": [
    {
     "data": {
      "text/plain": [
       "(array([23.447   , 21.135674, 22.363998, ..., 25.202456, 21.901691,\n",
       "        28.671139], dtype=float32),\n",
       " array([27.00063 , 26.15034 , 26.602215, ..., 27.571606, 27.646423,\n",
       "        26.432142], dtype=float32))"
      ]
     },
     "execution_count": 322,
     "metadata": {},
     "output_type": "execute_result"
    }
   ],
   "source": [
    "# logs are different\n",
    "neglogpacs1, neglogpacs2"
   ]
  },
  {
   "cell_type": "code",
   "execution_count": 323,
   "metadata": {},
   "outputs": [
    {
     "data": {
      "text/plain": [
       "0"
      ]
     },
     "execution_count": 323,
     "metadata": {},
     "output_type": "execute_result"
    }
   ],
   "source": [
    "# values are fine!\n",
    "np.sum(np.abs(values1[:-1] - values2) > 0)"
   ]
  },
  {
   "cell_type": "code",
   "execution_count": null,
   "metadata": {},
   "outputs": [],
   "source": [
    "1. clip actions +\n",
    "2. normalize values +\n",
    "3. logprob -- action not clipped?"
   ]
  },
  {
   "cell_type": "code",
   "execution_count": null,
   "metadata": {},
   "outputs": [],
   "source": []
  },
  {
   "cell_type": "code",
   "execution_count": null,
   "metadata": {},
   "outputs": [],
   "source": []
  },
  {
   "cell_type": "code",
   "execution_count": null,
   "metadata": {},
   "outputs": [],
   "source": [
    "class MultipleWorker(object):\n",
    "    \"\"\"Handles multiple workers identified by IDs.\"\"\"\n",
    "    \n",
    "    def __init__(self):\n",
    "        \"\"\"Initialize with zero workers.\"\"\"\n",
    "        self.workers = set()\n",
    "        self.kwargs_queues = {}\n",
    "        self.return_queues = {}\n",
    "        self.worker_processes = {}\n",
    "        assert hasattr(self, '_process_fcn'), \"Please implement _process_fcn\"\n",
    "        self._process_init()\n",
    "        \n",
    "    def target_process(self, worker_id):\n",
    "        \"\"\"Process to run in each worker.\"\"\"\n",
    "        #print(\"Starting process\", worker_id)\n",
    "        while True:\n",
    "            kwargs = pickle.loads(self.kwargs_queues[worker_id].get())\n",
    "            try:\n",
    "                result = self._process_fcn(**kwargs, worker_id=worker_id)\n",
    "            except Exception as e:\n",
    "                result = (\"Exception\", traceback.format_exc())\n",
    "                pass\n",
    "            self.return_queues[worker_id].put(pickle.dumps(result))\n",
    "            \n",
    "    def _process_init(self):\n",
    "        \"\"\"Initialize client code.\"\"\"\n",
    "        pass\n",
    "            \n",
    "    def _process_fcn(self, **kwargs):\n",
    "        \"\"\"Process function, to be implemented.\"\"\"\n",
    "        #print(\"Called with:\", kwargs)\n",
    "        return str(kwargs)\n",
    "        \n",
    "    def new_worker(self, worker_id):\n",
    "        \"\"\"Create a worker with a given ID.\"\"\"\n",
    "        if worker_id in self.workers:\n",
    "            return\n",
    "        else:\n",
    "            self.workers.add(worker_id)\n",
    "            self.kwargs_queues[worker_id] = queue()\n",
    "            self.return_queues[worker_id] = queue()\n",
    "            self.worker_processes[worker_id] = multiprocessing.Process(target=self.target_process,\n",
    "                                                                       kwargs=dict(worker_id=worker_id))\n",
    "            self.worker_processes[worker_id].start()\n",
    "            \n",
    "    def process(self, worker_id, kwargs):\n",
    "        \"\"\"Process a request.\"\"\"\n",
    "        if worker_id not in self.workers:\n",
    "            print(\"Creating worker\", worker_id)\n",
    "            self.new_worker(worker_id)\n",
    "        self.kwargs_queues[worker_id].put(pickle.dumps(kwargs))\n",
    "        res = self.return_queues[worker_id].get()\n",
    "        return pickle.loads(res)\n",
    "    \n",
    "    def __del__(self):\n",
    "        \"\"\"Close all processes.\"\"\"\n",
    "        for p in self.worker_processes.values():\n",
    "            p.kill()\n",
    "            \n",
    "class MultiStepTrainer(object):\n",
    "    \"\"\"Train with stable baselines on external data, supporting multiple trainers.\"\"\"\n",
    "    def __init__(self):\n",
    "        self.trainers = {}\n",
    "    def create(self, uid, config):\n",
    "        if uid in self.trainers:\n",
    "            print(\"Trainer %s already exists, doing nothing\" % uid)\n",
    "        else:\n",
    "            self.trainers[uid] = SBPPORemoteData(config=config)\n",
    "    def process(self, uid, rollouts, weights):\n",
    "        if uid not in self.trainers:\n",
    "            print(\"Error: trainer %s does not exist\" % uid)\n",
    "            return None\n",
    "        \n",
    "        self.trainers[uid].set_weights(weights)\n",
    "        info = self.trainers[uid].learn(rollouts)\n",
    "        new_weights = self.trainers[uid].get_weights()\n",
    "        return {'info': info, 'weights': new_weights}\n",
    "            \n",
    "class MultipleWorkerTrainer(MultipleWorker):\n",
    "    \"\"\"Train with multiple workers.\"\"\"\n",
    "    \n",
    "    def _process_init(self):\n",
    "        self.trainer = None\n",
    "    \n",
    "    def _process_fcn(self, uid, config, data_path, answer_path, worker_id):\n",
    "        if self.trainer is None:\n",
    "            self.trainer = MultiStepTrainer()\n",
    "        self.trainer.create(uid, config)\n",
    "        data = pickle.load(open(data_path, 'rb'))\n",
    "        rollouts = data['rollouts']\n",
    "        weights = data['weights']\n",
    "        \n",
    "        result = self.trainer.process(uid, rollouts, weights)\n",
    "        \n",
    "        pickle.dump(result, open(answer_path, 'wb'))\n",
    "        return True"
   ]
  },
  {
   "cell_type": "code",
   "execution_count": 5,
   "metadata": {},
   "outputs": [
    {
     "name": "stderr",
     "output_type": "stream",
     "text": [
      "usage: ipykernel_launcher.py [-h] [--port N]\n",
      "ipykernel_launcher.py: error: unrecognized arguments: -f /home/sergei/.local/share/jupyter/runtime/kernel-4c365b2d-38a4-465f-9ade-8ae6738116b6.json\n"
     ]
    },
    {
     "ename": "SystemExit",
     "evalue": "2",
     "output_type": "error",
     "traceback": [
      "An exception has occurred, use %tb to see the full traceback.\n",
      "\u001b[0;31mSystemExit\u001b[0m\u001b[0;31m:\u001b[0m 2\n"
     ]
    }
   ],
   "source": [
    "from asgiref.sync import async_to_sync\n",
    "from tornado import ioloop, web\n",
    "from jsonrpcserver import method, dispatch as dispatch, serve\n",
    "import argparse\n",
    "\n",
    "parser = argparse.ArgumentParser(description='Launch the multiprocess stable baselines server.')\n",
    "parser.add_argument('--port', metavar='N', default=1234,\n",
    "                    help='port to listen on')\n",
    "\n",
    "\n",
    "# Server for DatabasePreferenceLearner\n",
    "class MainHandler(web.RequestHandler):\n",
    "    def post(self):\n",
    "        request = self.request.body.decode()\n",
    "        print(request)\n",
    "        response = dispatch(request)\n",
    "        print(response)\n",
    "        if response.wanted:\n",
    "            self.write(str(response))\n",
    "\n",
    "app = web.Application([(r\"/\", MainHandler)])\n",
    "trainer = None\n",
    "            \n",
    "def run_server(port=50001):\n",
    "    \"\"\"Run server.\"\"\"\n",
    "\n",
    "    print(\"Listening on port %d\" % port)\n",
    "\n",
    "    global trainer\n",
    "    trainer = MultipleWorkerTrainer()\n",
    "\n",
    "    @method\n",
    "    def process(*args, **kwargs):\n",
    "        global trainer\n",
    "        return trainer.process(*args, **kwargs)\n",
    "    serve(port=port)\n",
    "\n",
    "if __name__ == \"__main__\":\n",
    "    args = parser.parse_args()\n",
    "    run_server(port=8899)"
   ]
  },
  {
   "cell_type": "code",
   "execution_count": 6,
   "metadata": {},
   "outputs": [
    {
     "name": "stdout",
     "output_type": "stream",
     "text": [
      "Listening on port 50001\n",
      "Creating worker aba_policy_player_1\n",
      "Creating agent humanoid_blocker\n",
      "Reading agent XML from: /home/sergei/git/chai/multiagent-competition/gym_compete/new_envs/assets/humanoid_body.xml\n",
      "Creating agent humanoid\n",
      "Reading agent XML from: /home/sergei/git/chai/multiagent-competition/gym_compete/new_envs/assets/humanoid_body.xml\n",
      "Scene XML path: /home/sergei/git/chai/multiagent-competition/gym_compete/new_envs/assets/world_body.humanoid_body.humanoid_body.xml\n",
      "Created Scene with agents\n",
      "WARNING:tensorflow:From /home/sergei/miniconda3/envs/tf1/lib/python3.7/site-packages/stable_baselines/common/tf_util.py:191: The name tf.ConfigProto is deprecated. Please use tf.compat.v1.ConfigProto instead.\n",
      "\n"
     ]
    },
    {
     "name": "stderr",
     "output_type": "stream",
     "text": [
      "WARNING:tensorflow:From /home/sergei/miniconda3/envs/tf1/lib/python3.7/site-packages/stable_baselines/common/tf_util.py:191: The name tf.ConfigProto is deprecated. Please use tf.compat.v1.ConfigProto instead.\n",
      "\n"
     ]
    },
    {
     "name": "stdout",
     "output_type": "stream",
     "text": [
      "WARNING:tensorflow:From /home/sergei/miniconda3/envs/tf1/lib/python3.7/site-packages/stable_baselines/common/tf_util.py:200: The name tf.Session is deprecated. Please use tf.compat.v1.Session instead.\n",
      "\n"
     ]
    },
    {
     "name": "stderr",
     "output_type": "stream",
     "text": [
      "WARNING:tensorflow:From /home/sergei/miniconda3/envs/tf1/lib/python3.7/site-packages/stable_baselines/common/tf_util.py:200: The name tf.Session is deprecated. Please use tf.compat.v1.Session instead.\n",
      "\n"
     ]
    },
    {
     "name": "stdout",
     "output_type": "stream",
     "text": [
      "WARNING:tensorflow:From /home/sergei/miniconda3/envs/tf1/lib/python3.7/site-packages/stable_baselines/common/policies.py:116: The name tf.variable_scope is deprecated. Please use tf.compat.v1.variable_scope instead.\n",
      "\n"
     ]
    },
    {
     "name": "stderr",
     "output_type": "stream",
     "text": [
      "WARNING:tensorflow:From /home/sergei/miniconda3/envs/tf1/lib/python3.7/site-packages/stable_baselines/common/policies.py:116: The name tf.variable_scope is deprecated. Please use tf.compat.v1.variable_scope instead.\n",
      "\n"
     ]
    },
    {
     "name": "stdout",
     "output_type": "stream",
     "text": [
      "WARNING:tensorflow:From /home/sergei/miniconda3/envs/tf1/lib/python3.7/site-packages/stable_baselines/common/input.py:25: The name tf.placeholder is deprecated. Please use tf.compat.v1.placeholder instead.\n",
      "\n"
     ]
    },
    {
     "name": "stderr",
     "output_type": "stream",
     "text": [
      "WARNING:tensorflow:From /home/sergei/miniconda3/envs/tf1/lib/python3.7/site-packages/stable_baselines/common/input.py:25: The name tf.placeholder is deprecated. Please use tf.compat.v1.placeholder instead.\n",
      "\n"
     ]
    },
    {
     "name": "stdout",
     "output_type": "stream",
     "text": [
      "WARNING:tensorflow:From /home/sergei/git/chai/multiagent-competition/gym_compete/policy.py:66: The name tf.get_variable_scope is deprecated. Please use tf.compat.v1.get_variable_scope instead.\n",
      "\n"
     ]
    },
    {
     "name": "stderr",
     "output_type": "stream",
     "text": [
      "WARNING:tensorflow:From /home/sergei/git/chai/multiagent-competition/gym_compete/policy.py:66: The name tf.get_variable_scope is deprecated. Please use tf.compat.v1.get_variable_scope instead.\n",
      "\n"
     ]
    },
    {
     "name": "stdout",
     "output_type": "stream",
     "text": [
      "WARNING:tensorflow:From /home/sergei/git/chai/multiagent-competition/gym_compete/policy.py:21: The name tf.get_variable is deprecated. Please use tf.compat.v1.get_variable instead.\n",
      "\n"
     ]
    },
    {
     "name": "stderr",
     "output_type": "stream",
     "text": [
      "WARNING:tensorflow:From /home/sergei/git/chai/multiagent-competition/gym_compete/policy.py:21: The name tf.get_variable is deprecated. Please use tf.compat.v1.get_variable instead.\n",
      "\n"
     ]
    },
    {
     "name": "stdout",
     "output_type": "stream",
     "text": [
      "WARNING:tensorflow:From /home/sergei/git/chai/multiagent-competition/gym_compete/policy.py:38: to_float (from tensorflow.python.ops.math_ops) is deprecated and will be removed in a future version.\n",
      "Instructions for updating:\n",
      "Use `tf.cast` instead.\n"
     ]
    },
    {
     "name": "stderr",
     "output_type": "stream",
     "text": [
      "WARNING:tensorflow:From /home/sergei/git/chai/multiagent-competition/gym_compete/policy.py:38: to_float (from tensorflow.python.ops.math_ops) is deprecated and will be removed in a future version.\n",
      "Instructions for updating:\n",
      "Use `tf.cast` instead.\n"
     ]
    },
    {
     "name": "stdout",
     "output_type": "stream",
     "text": [
      "WARNING:tensorflow:From /home/sergei/miniconda3/envs/tf1/lib/python3.7/site-packages/stable_baselines/common/distributions.py:418: The name tf.random_normal is deprecated. Please use tf.random.normal instead.\n",
      "\n"
     ]
    },
    {
     "name": "stderr",
     "output_type": "stream",
     "text": [
      "WARNING:tensorflow:From /home/sergei/miniconda3/envs/tf1/lib/python3.7/site-packages/stable_baselines/common/distributions.py:418: The name tf.random_normal is deprecated. Please use tf.random.normal instead.\n",
      "\n"
     ]
    },
    {
     "name": "stdout",
     "output_type": "stream",
     "text": [
      "WARNING:tensorflow:From /home/sergei/miniconda3/envs/tf1/lib/python3.7/site-packages/stable_baselines/ppo2/ppo2.py:190: The name tf.summary.scalar is deprecated. Please use tf.compat.v1.summary.scalar instead.\n",
      "\n"
     ]
    },
    {
     "name": "stderr",
     "output_type": "stream",
     "text": [
      "WARNING:tensorflow:From /home/sergei/miniconda3/envs/tf1/lib/python3.7/site-packages/stable_baselines/ppo2/ppo2.py:190: The name tf.summary.scalar is deprecated. Please use tf.compat.v1.summary.scalar instead.\n",
      "\n"
     ]
    },
    {
     "name": "stdout",
     "output_type": "stream",
     "text": [
      "WARNING:tensorflow:From /home/sergei/miniconda3/envs/tf1/lib/python3.7/site-packages/stable_baselines/ppo2/ppo2.py:198: The name tf.trainable_variables is deprecated. Please use tf.compat.v1.trainable_variables instead.\n",
      "\n"
     ]
    },
    {
     "name": "stderr",
     "output_type": "stream",
     "text": [
      "WARNING:tensorflow:From /home/sergei/miniconda3/envs/tf1/lib/python3.7/site-packages/stable_baselines/ppo2/ppo2.py:198: The name tf.trainable_variables is deprecated. Please use tf.compat.v1.trainable_variables instead.\n",
      "\n"
     ]
    },
    {
     "name": "stdout",
     "output_type": "stream",
     "text": [
      "WARNING:tensorflow:From /home/sergei/miniconda3/envs/tf1/lib/python3.7/site-packages/tensorflow_core/python/ops/math_grad.py:1424: where (from tensorflow.python.ops.array_ops) is deprecated and will be removed in a future version.\n",
      "Instructions for updating:\n",
      "Use tf.where in 2.0, which has the same broadcast rule as np.where\n"
     ]
    },
    {
     "name": "stderr",
     "output_type": "stream",
     "text": [
      "WARNING:tensorflow:From /home/sergei/miniconda3/envs/tf1/lib/python3.7/site-packages/tensorflow_core/python/ops/math_grad.py:1424: where (from tensorflow.python.ops.array_ops) is deprecated and will be removed in a future version.\n",
      "Instructions for updating:\n",
      "Use tf.where in 2.0, which has the same broadcast rule as np.where\n"
     ]
    },
    {
     "name": "stdout",
     "output_type": "stream",
     "text": [
      "WARNING:tensorflow:From /home/sergei/miniconda3/envs/tf1/lib/python3.7/site-packages/stable_baselines/ppo2/ppo2.py:206: The name tf.train.AdamOptimizer is deprecated. Please use tf.compat.v1.train.AdamOptimizer instead.\n",
      "\n"
     ]
    },
    {
     "name": "stderr",
     "output_type": "stream",
     "text": [
      "WARNING:tensorflow:From /home/sergei/miniconda3/envs/tf1/lib/python3.7/site-packages/stable_baselines/ppo2/ppo2.py:206: The name tf.train.AdamOptimizer is deprecated. Please use tf.compat.v1.train.AdamOptimizer instead.\n",
      "\n"
     ]
    },
    {
     "name": "stdout",
     "output_type": "stream",
     "text": [
      "WARNING:tensorflow:From /home/sergei/miniconda3/envs/tf1/lib/python3.7/site-packages/stable_baselines/ppo2/ppo2.py:240: The name tf.global_variables_initializer is deprecated. Please use tf.compat.v1.global_variables_initializer instead.\n",
      "\n"
     ]
    },
    {
     "name": "stderr",
     "output_type": "stream",
     "text": [
      "WARNING:tensorflow:From /home/sergei/miniconda3/envs/tf1/lib/python3.7/site-packages/stable_baselines/ppo2/ppo2.py:240: The name tf.global_variables_initializer is deprecated. Please use tf.compat.v1.global_variables_initializer instead.\n",
      "\n"
     ]
    },
    {
     "name": "stdout",
     "output_type": "stream",
     "text": [
      "WARNING:tensorflow:From /home/sergei/miniconda3/envs/tf1/lib/python3.7/site-packages/stable_baselines/ppo2/ppo2.py:242: The name tf.summary.merge_all is deprecated. Please use tf.compat.v1.summary.merge_all instead.\n",
      "\n"
     ]
    },
    {
     "name": "stderr",
     "output_type": "stream",
     "text": [
      "WARNING:tensorflow:From /home/sergei/miniconda3/envs/tf1/lib/python3.7/site-packages/stable_baselines/ppo2/ppo2.py:242: The name tf.summary.merge_all is deprecated. Please use tf.compat.v1.summary.merge_all instead.\n",
      "\n"
     ]
    },
    {
     "name": "stdout",
     "output_type": "stream",
     "text": [
      "-----------------------------------\n",
      "| approxkl           | 0.06915925 |\n",
      "| clipfrac           | 0.52264327 |\n",
      "| explained_variance | -6.38      |\n",
      "| fps                | 1372       |\n",
      "| n_updates          | 1          |\n",
      "| policy_entropy     | 24.122137  |\n",
      "| policy_loss        | -0.1785963 |\n",
      "| serial_timesteps   | 628        |\n",
      "| time_elapsed       | 2.62e-05   |\n",
      "| total_timesteps    | 628        |\n",
      "| value_loss         | 28006.676  |\n",
      "-----------------------------------\n",
      "Creating worker aba_policy_player_2\n"
     ]
    },
    {
     "name": "stderr",
     "output_type": "stream",
     "text": [
      "127.0.0.1 - - [07/Sep/2020 00:24:37] \"POST / HTTP/1.1\" 200 -\n"
     ]
    },
    {
     "name": "stdout",
     "output_type": "stream",
     "text": [
      "Creating agent humanoid_blocker\n",
      "Reading agent XML from: /home/sergei/git/chai/multiagent-competition/gym_compete/new_envs/assets/humanoid_body.xml\n",
      "Creating agent humanoid\n",
      "Reading agent XML from: /home/sergei/git/chai/multiagent-competition/gym_compete/new_envs/assets/humanoid_body.xml\n",
      "Scene XML path: /home/sergei/git/chai/multiagent-competition/gym_compete/new_envs/assets/world_body.humanoid_body.humanoid_body.xml\n",
      "Created Scene with agents\n",
      "WARNING:tensorflow:From /home/sergei/miniconda3/envs/tf1/lib/python3.7/site-packages/stable_baselines/common/tf_util.py:191: The name tf.ConfigProto is deprecated. Please use tf.compat.v1.ConfigProto instead.\n",
      "\n"
     ]
    },
    {
     "name": "stderr",
     "output_type": "stream",
     "text": [
      "WARNING:tensorflow:From /home/sergei/miniconda3/envs/tf1/lib/python3.7/site-packages/stable_baselines/common/tf_util.py:191: The name tf.ConfigProto is deprecated. Please use tf.compat.v1.ConfigProto instead.\n",
      "\n"
     ]
    },
    {
     "name": "stdout",
     "output_type": "stream",
     "text": [
      "WARNING:tensorflow:From /home/sergei/miniconda3/envs/tf1/lib/python3.7/site-packages/stable_baselines/common/tf_util.py:200: The name tf.Session is deprecated. Please use tf.compat.v1.Session instead.\n",
      "\n"
     ]
    },
    {
     "name": "stderr",
     "output_type": "stream",
     "text": [
      "WARNING:tensorflow:From /home/sergei/miniconda3/envs/tf1/lib/python3.7/site-packages/stable_baselines/common/tf_util.py:200: The name tf.Session is deprecated. Please use tf.compat.v1.Session instead.\n",
      "\n"
     ]
    },
    {
     "name": "stdout",
     "output_type": "stream",
     "text": [
      "WARNING:tensorflow:From /home/sergei/miniconda3/envs/tf1/lib/python3.7/site-packages/stable_baselines/common/policies.py:116: The name tf.variable_scope is deprecated. Please use tf.compat.v1.variable_scope instead.\n",
      "\n"
     ]
    },
    {
     "name": "stderr",
     "output_type": "stream",
     "text": [
      "WARNING:tensorflow:From /home/sergei/miniconda3/envs/tf1/lib/python3.7/site-packages/stable_baselines/common/policies.py:116: The name tf.variable_scope is deprecated. Please use tf.compat.v1.variable_scope instead.\n",
      "\n"
     ]
    },
    {
     "name": "stdout",
     "output_type": "stream",
     "text": [
      "WARNING:tensorflow:From /home/sergei/miniconda3/envs/tf1/lib/python3.7/site-packages/stable_baselines/common/input.py:25: The name tf.placeholder is deprecated. Please use tf.compat.v1.placeholder instead.\n",
      "\n"
     ]
    },
    {
     "name": "stderr",
     "output_type": "stream",
     "text": [
      "WARNING:tensorflow:From /home/sergei/miniconda3/envs/tf1/lib/python3.7/site-packages/stable_baselines/common/input.py:25: The name tf.placeholder is deprecated. Please use tf.compat.v1.placeholder instead.\n",
      "\n"
     ]
    },
    {
     "name": "stdout",
     "output_type": "stream",
     "text": [
      "WARNING:tensorflow:From /home/sergei/git/chai/multiagent-competition/gym_compete/policy.py:66: The name tf.get_variable_scope is deprecated. Please use tf.compat.v1.get_variable_scope instead.\n",
      "\n"
     ]
    },
    {
     "name": "stderr",
     "output_type": "stream",
     "text": [
      "WARNING:tensorflow:From /home/sergei/git/chai/multiagent-competition/gym_compete/policy.py:66: The name tf.get_variable_scope is deprecated. Please use tf.compat.v1.get_variable_scope instead.\n",
      "\n"
     ]
    },
    {
     "name": "stdout",
     "output_type": "stream",
     "text": [
      "WARNING:tensorflow:From /home/sergei/git/chai/multiagent-competition/gym_compete/policy.py:21: The name tf.get_variable is deprecated. Please use tf.compat.v1.get_variable instead.\n",
      "\n"
     ]
    },
    {
     "name": "stderr",
     "output_type": "stream",
     "text": [
      "WARNING:tensorflow:From /home/sergei/git/chai/multiagent-competition/gym_compete/policy.py:21: The name tf.get_variable is deprecated. Please use tf.compat.v1.get_variable instead.\n",
      "\n"
     ]
    },
    {
     "name": "stdout",
     "output_type": "stream",
     "text": [
      "WARNING:tensorflow:From /home/sergei/git/chai/multiagent-competition/gym_compete/policy.py:38: to_float (from tensorflow.python.ops.math_ops) is deprecated and will be removed in a future version.\n",
      "Instructions for updating:\n",
      "Use `tf.cast` instead.\n"
     ]
    },
    {
     "name": "stderr",
     "output_type": "stream",
     "text": [
      "WARNING:tensorflow:From /home/sergei/git/chai/multiagent-competition/gym_compete/policy.py:38: to_float (from tensorflow.python.ops.math_ops) is deprecated and will be removed in a future version.\n",
      "Instructions for updating:\n",
      "Use `tf.cast` instead.\n"
     ]
    },
    {
     "name": "stdout",
     "output_type": "stream",
     "text": [
      "WARNING:tensorflow:From /home/sergei/miniconda3/envs/tf1/lib/python3.7/site-packages/stable_baselines/common/distributions.py:418: The name tf.random_normal is deprecated. Please use tf.random.normal instead.\n",
      "\n"
     ]
    },
    {
     "name": "stderr",
     "output_type": "stream",
     "text": [
      "WARNING:tensorflow:From /home/sergei/miniconda3/envs/tf1/lib/python3.7/site-packages/stable_baselines/common/distributions.py:418: The name tf.random_normal is deprecated. Please use tf.random.normal instead.\n",
      "\n"
     ]
    },
    {
     "name": "stdout",
     "output_type": "stream",
     "text": [
      "WARNING:tensorflow:From /home/sergei/miniconda3/envs/tf1/lib/python3.7/site-packages/stable_baselines/ppo2/ppo2.py:190: The name tf.summary.scalar is deprecated. Please use tf.compat.v1.summary.scalar instead.\n",
      "\n"
     ]
    },
    {
     "name": "stderr",
     "output_type": "stream",
     "text": [
      "WARNING:tensorflow:From /home/sergei/miniconda3/envs/tf1/lib/python3.7/site-packages/stable_baselines/ppo2/ppo2.py:190: The name tf.summary.scalar is deprecated. Please use tf.compat.v1.summary.scalar instead.\n",
      "\n"
     ]
    },
    {
     "name": "stdout",
     "output_type": "stream",
     "text": [
      "WARNING:tensorflow:From /home/sergei/miniconda3/envs/tf1/lib/python3.7/site-packages/stable_baselines/ppo2/ppo2.py:198: The name tf.trainable_variables is deprecated. Please use tf.compat.v1.trainable_variables instead.\n",
      "\n"
     ]
    },
    {
     "name": "stderr",
     "output_type": "stream",
     "text": [
      "WARNING:tensorflow:From /home/sergei/miniconda3/envs/tf1/lib/python3.7/site-packages/stable_baselines/ppo2/ppo2.py:198: The name tf.trainable_variables is deprecated. Please use tf.compat.v1.trainable_variables instead.\n",
      "\n"
     ]
    },
    {
     "name": "stdout",
     "output_type": "stream",
     "text": [
      "WARNING:tensorflow:From /home/sergei/miniconda3/envs/tf1/lib/python3.7/site-packages/tensorflow_core/python/ops/math_grad.py:1424: where (from tensorflow.python.ops.array_ops) is deprecated and will be removed in a future version.\n",
      "Instructions for updating:\n",
      "Use tf.where in 2.0, which has the same broadcast rule as np.where\n"
     ]
    },
    {
     "name": "stderr",
     "output_type": "stream",
     "text": [
      "WARNING:tensorflow:From /home/sergei/miniconda3/envs/tf1/lib/python3.7/site-packages/tensorflow_core/python/ops/math_grad.py:1424: where (from tensorflow.python.ops.array_ops) is deprecated and will be removed in a future version.\n",
      "Instructions for updating:\n",
      "Use tf.where in 2.0, which has the same broadcast rule as np.where\n"
     ]
    },
    {
     "name": "stdout",
     "output_type": "stream",
     "text": [
      "WARNING:tensorflow:From /home/sergei/miniconda3/envs/tf1/lib/python3.7/site-packages/stable_baselines/ppo2/ppo2.py:206: The name tf.train.AdamOptimizer is deprecated. Please use tf.compat.v1.train.AdamOptimizer instead.\n",
      "\n"
     ]
    },
    {
     "name": "stderr",
     "output_type": "stream",
     "text": [
      "WARNING:tensorflow:From /home/sergei/miniconda3/envs/tf1/lib/python3.7/site-packages/stable_baselines/ppo2/ppo2.py:206: The name tf.train.AdamOptimizer is deprecated. Please use tf.compat.v1.train.AdamOptimizer instead.\n",
      "\n"
     ]
    },
    {
     "name": "stdout",
     "output_type": "stream",
     "text": [
      "WARNING:tensorflow:From /home/sergei/miniconda3/envs/tf1/lib/python3.7/site-packages/stable_baselines/ppo2/ppo2.py:240: The name tf.global_variables_initializer is deprecated. Please use tf.compat.v1.global_variables_initializer instead.\n",
      "\n"
     ]
    },
    {
     "name": "stderr",
     "output_type": "stream",
     "text": [
      "WARNING:tensorflow:From /home/sergei/miniconda3/envs/tf1/lib/python3.7/site-packages/stable_baselines/ppo2/ppo2.py:240: The name tf.global_variables_initializer is deprecated. Please use tf.compat.v1.global_variables_initializer instead.\n",
      "\n"
     ]
    },
    {
     "name": "stdout",
     "output_type": "stream",
     "text": [
      "WARNING:tensorflow:From /home/sergei/miniconda3/envs/tf1/lib/python3.7/site-packages/stable_baselines/ppo2/ppo2.py:242: The name tf.summary.merge_all is deprecated. Please use tf.compat.v1.summary.merge_all instead.\n",
      "\n"
     ]
    },
    {
     "name": "stderr",
     "output_type": "stream",
     "text": [
      "WARNING:tensorflow:From /home/sergei/miniconda3/envs/tf1/lib/python3.7/site-packages/stable_baselines/ppo2/ppo2.py:242: The name tf.summary.merge_all is deprecated. Please use tf.compat.v1.summary.merge_all instead.\n",
      "\n"
     ]
    },
    {
     "name": "stdout",
     "output_type": "stream",
     "text": [
      "------------------------------------\n",
      "| approxkl           | 0.13145663  |\n",
      "| clipfrac           | 0.6714968   |\n",
      "| explained_variance | -3.05       |\n",
      "| fps                | 1319        |\n",
      "| n_updates          | 1           |\n",
      "| policy_entropy     | 2.6566029   |\n",
      "| policy_loss        | -0.18494165 |\n",
      "| serial_timesteps   | 628         |\n",
      "| time_elapsed       | 2.79e-05    |\n",
      "| total_timesteps    | 628         |\n",
      "| value_loss         | 143010.02   |\n",
      "------------------------------------\n"
     ]
    },
    {
     "name": "stderr",
     "output_type": "stream",
     "text": [
      "127.0.0.1 - - [07/Sep/2020 00:24:39] \"POST / HTTP/1.1\" 200 -\n"
     ]
    },
    {
     "name": "stdout",
     "output_type": "stream",
     "text": [
      "Trainer 0 already exists, doing nothing\n",
      "-----------------------------------\n",
      "| approxkl           | 0.08314504 |\n",
      "| clipfrac           | 0.52       |\n",
      "| explained_variance | -6.45      |\n",
      "| fps                | 2261       |\n",
      "| n_updates          | 1          |\n",
      "| policy_entropy     | 24.11175   |\n",
      "| policy_loss        | -0.1782296 |\n",
      "| serial_timesteps   | 651        |\n",
      "| time_elapsed       | 1.41e-05   |\n",
      "| total_timesteps    | 651        |\n",
      "| value_loss         | 17387.547  |\n",
      "-----------------------------------\n",
      "Trainer 0 already exists, doing nothing\n"
     ]
    },
    {
     "name": "stderr",
     "output_type": "stream",
     "text": [
      "127.0.0.1 - - [07/Sep/2020 00:26:19] \"POST / HTTP/1.1\" 200 -\n"
     ]
    },
    {
     "name": "stdout",
     "output_type": "stream",
     "text": [
      "------------------------------------\n",
      "| approxkl           | 0.1687577   |\n",
      "| clipfrac           | 0.65757287  |\n",
      "| explained_variance | -4.34       |\n",
      "| fps                | 2316        |\n",
      "| n_updates          | 1           |\n",
      "| policy_entropy     | 2.6631653   |\n",
      "| policy_loss        | -0.19491127 |\n",
      "| serial_timesteps   | 651         |\n",
      "| time_elapsed       | 1.53e-05    |\n",
      "| total_timesteps    | 651         |\n",
      "| value_loss         | 177388.5    |\n",
      "------------------------------------\n"
     ]
    },
    {
     "name": "stderr",
     "output_type": "stream",
     "text": [
      "127.0.0.1 - - [07/Sep/2020 00:26:19] \"POST / HTTP/1.1\" 200 -\n"
     ]
    },
    {
     "name": "stdout",
     "output_type": "stream",
     "text": [
      "Trainer 0 already exists, doing nothing\n",
      "------------------------------------\n",
      "| approxkl           | 0.09739331  |\n",
      "| clipfrac           | 0.5525522   |\n",
      "| explained_variance | -6.02       |\n",
      "| fps                | 2475        |\n",
      "| n_updates          | 1           |\n",
      "| policy_entropy     | 24.11979    |\n",
      "| policy_loss        | -0.17488614 |\n",
      "| serial_timesteps   | 623         |\n",
      "| time_elapsed       | 1.57e-05    |\n",
      "| total_timesteps    | 623         |\n",
      "| value_loss         | 12023.959   |\n",
      "------------------------------------\n",
      "Trainer 0 already exists, doing nothing\n"
     ]
    },
    {
     "name": "stderr",
     "output_type": "stream",
     "text": [
      "127.0.0.1 - - [07/Sep/2020 00:27:09] \"POST / HTTP/1.1\" 200 -\n"
     ]
    },
    {
     "name": "stdout",
     "output_type": "stream",
     "text": [
      "------------------------------------\n",
      "| approxkl           | 0.21780328  |\n",
      "| clipfrac           | 0.72028893  |\n",
      "| explained_variance | -3.41       |\n",
      "| fps                | 2232        |\n",
      "| n_updates          | 1           |\n",
      "| policy_entropy     | 2.6520212   |\n",
      "| policy_loss        | -0.21072704 |\n",
      "| serial_timesteps   | 623         |\n",
      "| time_elapsed       | 1.5e-05     |\n",
      "| total_timesteps    | 623         |\n",
      "| value_loss         | 189153.66   |\n",
      "------------------------------------\n"
     ]
    },
    {
     "name": "stderr",
     "output_type": "stream",
     "text": [
      "127.0.0.1 - - [07/Sep/2020 00:27:09] \"POST / HTTP/1.1\" 200 -\n"
     ]
    },
    {
     "name": "stdout",
     "output_type": "stream",
     "text": [
      "Trainer 0 already exists, doing nothing\n",
      "-----------------------------------\n",
      "| approxkl           | 0.1215145  |\n",
      "| clipfrac           | 0.616332   |\n",
      "| explained_variance | -6.91      |\n",
      "| fps                | 2260       |\n",
      "| n_updates          | 1          |\n",
      "| policy_entropy     | 24.116104  |\n",
      "| policy_loss        | -0.1870755 |\n",
      "| serial_timesteps   | 518        |\n",
      "| time_elapsed       | 1.55e-05   |\n",
      "| total_timesteps    | 518        |\n",
      "| value_loss         | 17239.387  |\n",
      "-----------------------------------\n",
      "Trainer 0 already exists, doing nothing\n"
     ]
    },
    {
     "name": "stderr",
     "output_type": "stream",
     "text": [
      "127.0.0.1 - - [07/Sep/2020 00:27:52] \"POST / HTTP/1.1\" 200 -\n"
     ]
    },
    {
     "name": "stdout",
     "output_type": "stream",
     "text": [
      "------------------------------------\n",
      "| approxkl           | 0.28200954  |\n",
      "| clipfrac           | 0.73664093  |\n",
      "| explained_variance | -3.84       |\n",
      "| fps                | 2104        |\n",
      "| n_updates          | 1           |\n",
      "| policy_entropy     | 2.6567543   |\n",
      "| policy_loss        | -0.21154171 |\n",
      "| serial_timesteps   | 518         |\n",
      "| time_elapsed       | 1.88e-05    |\n",
      "| total_timesteps    | 518         |\n",
      "| value_loss         | 179554.92   |\n",
      "------------------------------------\n"
     ]
    },
    {
     "name": "stderr",
     "output_type": "stream",
     "text": [
      "127.0.0.1 - - [07/Sep/2020 00:27:52] \"POST / HTTP/1.1\" 200 -\n",
      "Process Process-3:\n",
      "Process Process-2:\n",
      "Traceback (most recent call last):\n"
     ]
    },
    {
     "ename": "KeyboardInterrupt",
     "evalue": "",
     "output_type": "error",
     "traceback": [
      "\u001b[0;31m---------------------------------------------------------------------------\u001b[0m",
      "\u001b[0;31mKeyboardInterrupt\u001b[0m                         Traceback (most recent call last)",
      "\u001b[0;32m<ipython-input-6-e3f352de1d09>\u001b[0m in \u001b[0;36m<module>\u001b[0;34m\u001b[0m\n\u001b[0;32m----> 1\u001b[0;31m \u001b[0mrun_server\u001b[0m\u001b[0;34m(\u001b[0m\u001b[0;34m)\u001b[0m\u001b[0;34m\u001b[0m\u001b[0m\n\u001b[0m",
      "\u001b[0;32m<ipython-input-5-b26fa58aa88e>\u001b[0m in \u001b[0;36mrun_server\u001b[0;34m(port)\u001b[0m\n\u001b[1;32m     34\u001b[0m         \u001b[0;32mglobal\u001b[0m \u001b[0mtrainer\u001b[0m\u001b[0;34m\u001b[0m\u001b[0m\n\u001b[1;32m     35\u001b[0m         \u001b[0;32mreturn\u001b[0m \u001b[0mtrainer\u001b[0m\u001b[0;34m.\u001b[0m\u001b[0mprocess\u001b[0m\u001b[0;34m(\u001b[0m\u001b[0;34m*\u001b[0m\u001b[0margs\u001b[0m\u001b[0;34m,\u001b[0m \u001b[0;34m**\u001b[0m\u001b[0mkwargs\u001b[0m\u001b[0;34m)\u001b[0m\u001b[0;34m\u001b[0m\u001b[0m\n\u001b[0;32m---> 36\u001b[0;31m     \u001b[0mserve\u001b[0m\u001b[0;34m(\u001b[0m\u001b[0mport\u001b[0m\u001b[0;34m=\u001b[0m\u001b[0mport\u001b[0m\u001b[0;34m)\u001b[0m\u001b[0;34m\u001b[0m\u001b[0m\n\u001b[0m\u001b[1;32m     37\u001b[0m \u001b[0;34m\u001b[0m\u001b[0m\n\u001b[1;32m     38\u001b[0m \u001b[0;32mif\u001b[0m \u001b[0m__name__\u001b[0m \u001b[0;34m==\u001b[0m \u001b[0;34m\"__main__\"\u001b[0m\u001b[0;34m:\u001b[0m\u001b[0;34m\u001b[0m\u001b[0m\n",
      "\u001b[0;32m~/miniconda3/envs/tf1/lib/python3.7/site-packages/jsonrpcserver/server.py\u001b[0m in \u001b[0;36mserve\u001b[0;34m(name, port)\u001b[0m\n\u001b[1;32m     29\u001b[0m     \u001b[0mlogging\u001b[0m\u001b[0;34m.\u001b[0m\u001b[0minfo\u001b[0m\u001b[0;34m(\u001b[0m\u001b[0;34m\" * Listening on port %s\"\u001b[0m\u001b[0;34m,\u001b[0m \u001b[0mport\u001b[0m\u001b[0;34m)\u001b[0m\u001b[0;34m\u001b[0m\u001b[0m\n\u001b[1;32m     30\u001b[0m     \u001b[0mhttpd\u001b[0m \u001b[0;34m=\u001b[0m \u001b[0mHTTPServer\u001b[0m\u001b[0;34m(\u001b[0m\u001b[0;34m(\u001b[0m\u001b[0mname\u001b[0m\u001b[0;34m,\u001b[0m \u001b[0mport\u001b[0m\u001b[0;34m)\u001b[0m\u001b[0;34m,\u001b[0m \u001b[0mRequestHandler\u001b[0m\u001b[0;34m)\u001b[0m\u001b[0;34m\u001b[0m\u001b[0m\n\u001b[0;32m---> 31\u001b[0;31m     \u001b[0mhttpd\u001b[0m\u001b[0;34m.\u001b[0m\u001b[0mserve_forever\u001b[0m\u001b[0;34m(\u001b[0m\u001b[0;34m)\u001b[0m\u001b[0;34m\u001b[0m\u001b[0m\n\u001b[0m",
      "\u001b[0;32m~/miniconda3/envs/tf1/lib/python3.7/socketserver.py\u001b[0m in \u001b[0;36mserve_forever\u001b[0;34m(self, poll_interval)\u001b[0m\n\u001b[1;32m    230\u001b[0m \u001b[0;34m\u001b[0m\u001b[0m\n\u001b[1;32m    231\u001b[0m                 \u001b[0;32mwhile\u001b[0m \u001b[0;32mnot\u001b[0m \u001b[0mself\u001b[0m\u001b[0;34m.\u001b[0m\u001b[0m__shutdown_request\u001b[0m\u001b[0;34m:\u001b[0m\u001b[0;34m\u001b[0m\u001b[0m\n\u001b[0;32m--> 232\u001b[0;31m                     \u001b[0mready\u001b[0m \u001b[0;34m=\u001b[0m \u001b[0mselector\u001b[0m\u001b[0;34m.\u001b[0m\u001b[0mselect\u001b[0m\u001b[0;34m(\u001b[0m\u001b[0mpoll_interval\u001b[0m\u001b[0;34m)\u001b[0m\u001b[0;34m\u001b[0m\u001b[0m\n\u001b[0m\u001b[1;32m    233\u001b[0m                     \u001b[0;32mif\u001b[0m \u001b[0mready\u001b[0m\u001b[0;34m:\u001b[0m\u001b[0;34m\u001b[0m\u001b[0m\n\u001b[1;32m    234\u001b[0m                         \u001b[0mself\u001b[0m\u001b[0;34m.\u001b[0m\u001b[0m_handle_request_noblock\u001b[0m\u001b[0;34m(\u001b[0m\u001b[0;34m)\u001b[0m\u001b[0;34m\u001b[0m\u001b[0m\n",
      "\u001b[0;32m~/miniconda3/envs/tf1/lib/python3.7/selectors.py\u001b[0m in \u001b[0;36mselect\u001b[0;34m(self, timeout)\u001b[0m\n\u001b[1;32m    413\u001b[0m         \u001b[0mready\u001b[0m \u001b[0;34m=\u001b[0m \u001b[0;34m[\u001b[0m\u001b[0;34m]\u001b[0m\u001b[0;34m\u001b[0m\u001b[0m\n\u001b[1;32m    414\u001b[0m         \u001b[0;32mtry\u001b[0m\u001b[0;34m:\u001b[0m\u001b[0;34m\u001b[0m\u001b[0m\n\u001b[0;32m--> 415\u001b[0;31m             \u001b[0mfd_event_list\u001b[0m \u001b[0;34m=\u001b[0m \u001b[0mself\u001b[0m\u001b[0;34m.\u001b[0m\u001b[0m_selector\u001b[0m\u001b[0;34m.\u001b[0m\u001b[0mpoll\u001b[0m\u001b[0;34m(\u001b[0m\u001b[0mtimeout\u001b[0m\u001b[0;34m)\u001b[0m\u001b[0;34m\u001b[0m\u001b[0m\n\u001b[0m\u001b[1;32m    416\u001b[0m         \u001b[0;32mexcept\u001b[0m \u001b[0mInterruptedError\u001b[0m\u001b[0;34m:\u001b[0m\u001b[0;34m\u001b[0m\u001b[0m\n\u001b[1;32m    417\u001b[0m             \u001b[0;32mreturn\u001b[0m \u001b[0mready\u001b[0m\u001b[0;34m\u001b[0m\u001b[0m\n",
      "\u001b[0;31mKeyboardInterrupt\u001b[0m: "
     ]
    },
    {
     "name": "stderr",
     "output_type": "stream",
     "text": [
      "Traceback (most recent call last):\n",
      "  File \"/home/sergei/miniconda3/envs/tf1/lib/python3.7/multiprocessing/process.py\", line 297, in _bootstrap\n",
      "    self.run()\n",
      "  File \"/home/sergei/miniconda3/envs/tf1/lib/python3.7/multiprocessing/process.py\", line 297, in _bootstrap\n",
      "    self.run()\n",
      "  File \"/home/sergei/miniconda3/envs/tf1/lib/python3.7/multiprocessing/process.py\", line 99, in run\n",
      "    self._target(*self._args, **self._kwargs)\n",
      "  File \"/home/sergei/miniconda3/envs/tf1/lib/python3.7/multiprocessing/process.py\", line 99, in run\n",
      "    self._target(*self._args, **self._kwargs)\n",
      "  File \"<ipython-input-2-d8eddcf039a3>\", line 17, in target_process\n",
      "    kwargs = pickle.loads(self.kwargs_queues[worker_id].get())\n",
      "  File \"<ipython-input-2-d8eddcf039a3>\", line 17, in target_process\n",
      "    kwargs = pickle.loads(self.kwargs_queues[worker_id].get())\n",
      "  File \"/home/sergei/miniconda3/envs/tf1/lib/python3.7/multiprocessing/queues.py\", line 94, in get\n",
      "    res = self._recv_bytes()\n",
      "  File \"/home/sergei/miniconda3/envs/tf1/lib/python3.7/multiprocessing/queues.py\", line 94, in get\n",
      "    res = self._recv_bytes()\n",
      "  File \"/home/sergei/miniconda3/envs/tf1/lib/python3.7/multiprocessing/connection.py\", line 216, in recv_bytes\n",
      "    buf = self._recv_bytes(maxlength)\n",
      "  File \"/home/sergei/miniconda3/envs/tf1/lib/python3.7/multiprocessing/connection.py\", line 216, in recv_bytes\n",
      "    buf = self._recv_bytes(maxlength)\n",
      "  File \"/home/sergei/miniconda3/envs/tf1/lib/python3.7/multiprocessing/connection.py\", line 407, in _recv_bytes\n",
      "    buf = self._recv(4)\n",
      "  File \"/home/sergei/miniconda3/envs/tf1/lib/python3.7/multiprocessing/connection.py\", line 407, in _recv_bytes\n",
      "    buf = self._recv(4)\n",
      "  File \"/home/sergei/miniconda3/envs/tf1/lib/python3.7/multiprocessing/connection.py\", line 379, in _recv\n",
      "    chunk = read(handle, remaining)\n",
      "  File \"/home/sergei/miniconda3/envs/tf1/lib/python3.7/multiprocessing/connection.py\", line 379, in _recv\n",
      "    chunk = read(handle, remaining)\n",
      "KeyboardInterrupt\n",
      "KeyboardInterrupt\n"
     ]
    }
   ],
   "source": [
    "run_server()"
   ]
  },
  {
   "cell_type": "code",
   "execution_count": 6,
   "metadata": {},
   "outputs": [],
   "source": []
  },
  {
   "cell_type": "code",
   "execution_count": 7,
   "metadata": {},
   "outputs": [],
   "source": [
    "data = pickle.load(open('rollout.pkl', 'rb'))"
   ]
  },
  {
   "cell_type": "code",
   "execution_count": 8,
   "metadata": {},
   "outputs": [],
   "source": [
    "mst = MultiStepTrainer()\n",
    "config = data['config']"
   ]
  },
  {
   "cell_type": "code",
   "execution_count": 9,
   "metadata": {},
   "outputs": [
    {
     "name": "stdout",
     "output_type": "stream",
     "text": [
      "65071 50000\n",
      "Creating agent humanoid_blocker\n",
      "Reading agent XML from: /home/sergei/git/chai/multiagent-competition/gym_compete/new_envs/assets/humanoid_body.xml\n",
      "Creating agent humanoid\n",
      "Reading agent XML from: /home/sergei/git/chai/multiagent-competition/gym_compete/new_envs/assets/humanoid_body.xml\n",
      "Scene XML path: /home/sergei/git/chai/multiagent-competition/gym_compete/new_envs/assets/world_body.humanoid_body.humanoid_body.xml\n",
      "Created Scene with agents\n",
      "-------------------------------------\n",
      "| approxkl           | 0.022438252  |\n",
      "| clipfrac           | 0.14191274   |\n",
      "| explained_variance | -5.93        |\n",
      "| fps                | 4508         |\n",
      "| n_updates          | 1            |\n",
      "| policy_entropy     | 24.084276    |\n",
      "| policy_loss        | -0.054289613 |\n",
      "| serial_timesteps   | 65070        |\n",
      "| time_elapsed       | 3.12e-05     |\n",
      "| total_timesteps    | 65070        |\n",
      "| value_loss         | 4455.2646    |\n",
      "-------------------------------------\n",
      "65071 50000\n",
      "Creating agent humanoid_blocker\n",
      "Reading agent XML from: /home/sergei/git/chai/multiagent-competition/gym_compete/new_envs/assets/humanoid_body.xml\n",
      "Creating agent humanoid\n",
      "Reading agent XML from: /home/sergei/git/chai/multiagent-competition/gym_compete/new_envs/assets/humanoid_body.xml\n",
      "Scene XML path: /home/sergei/git/chai/multiagent-competition/gym_compete/new_envs/assets/world_body.humanoid_body.humanoid_body.xml\n",
      "Created Scene with agents\n",
      "------------------------------------\n",
      "| approxkl           | 0.028580695 |\n",
      "| clipfrac           | 0.1762929   |\n",
      "| explained_variance | -2.49       |\n",
      "| fps                | 4637        |\n",
      "| n_updates          | 1           |\n",
      "| policy_entropy     | 2.640088    |\n",
      "| policy_loss        | -0.05860268 |\n",
      "| serial_timesteps   | 65070       |\n",
      "| time_elapsed       | 1.93e-05    |\n",
      "| total_timesteps    | 65070       |\n",
      "| value_loss         | 67758.81    |\n",
      "------------------------------------\n"
     ]
    }
   ],
   "source": [
    "new_weights = {}\n",
    "for player in data['policies'].keys():\n",
    "    uid = str(data['uid']) + '/' + player\n",
    "    weights = data['weights_dict'][player]\n",
    "    rollout = data['samples'][player]\n",
    "    print(len(rollout['t']), config['train_batch_size'])\n",
    "    mst.create(uid=uid, config=config)\n",
    "    new_weights[player] = mst.process(uid=uid, rollouts=rollout, weights=weights)"
   ]
  },
  {
   "cell_type": "code",
   "execution_count": 13,
   "metadata": {},
   "outputs": [
    {
     "name": "stdout",
     "output_type": "stream",
     "text": [
      "459M\trollout.pkl\n"
     ]
    }
   ],
   "source": [
    "!du -s --si rollout.pkl"
   ]
  },
  {
   "cell_type": "code",
   "execution_count": null,
   "metadata": {},
   "outputs": [],
   "source": []
  }
 ],
 "metadata": {
  "kernelspec": {
   "display_name": "Python 3",
   "language": "python",
   "name": "python3"
  },
  "language_info": {
   "codemirror_mode": {
    "name": "ipython",
    "version": 3
   },
   "file_extension": ".py",
   "mimetype": "text/x-python",
   "name": "python",
   "nbconvert_exporter": "python",
   "pygments_lexer": "ipython3",
   "version": "3.7.0"
  }
 },
 "nbformat": 4,
 "nbformat_minor": 4
}
