{
 "cells": [
  {
   "cell_type": "code",
   "execution_count": 69,
   "metadata": {},
   "outputs": [],
   "source": [
    "from ray.tune.analysis import Analysis\n",
    "from matplotlib import pyplot as plt\n",
    "import plotly.express as px\n",
    "import numpy as np"
   ]
  },
  {
   "cell_type": "code",
   "execution_count": 70,
   "metadata": {},
   "outputs": [],
   "source": [
    "analysis = Analysis(\"/home/sergei/ray_results/adversarial_tune_fine\")"
   ]
  },
  {
   "cell_type": "code",
   "execution_count": 71,
   "metadata": {},
   "outputs": [],
   "source": [
    "target = 'policy_reward_mean/player_1'"
   ]
  },
  {
   "cell_type": "code",
   "execution_count": 72,
   "metadata": {},
   "outputs": [],
   "source": [
    "df = analysis.dataframe(metric=target, mode='max')"
   ]
  },
  {
   "cell_type": "code",
   "execution_count": 73,
   "metadata": {},
   "outputs": [
    {
     "data": {
      "text/plain": [
       "episode_reward_max                                                     7.15487\n",
       "episode_reward_min                                                    -6.48552\n",
       "episode_reward_mean                                                    3.36051\n",
       "episode_len_mean                                                       163.288\n",
       "episodes_this_iter                                                         438\n",
       "                                                   ...                        \n",
       "config/sgd_minibatch_size                                              6173.56\n",
       "config/train_batch_size                                                70224.6\n",
       "config/train_policies                                               [player_1]\n",
       "config/train_steps                                                    99999999\n",
       "logdir                       /home/sergei/ray_results/adversarial_tune_fine...\n",
       "Name: 0, Length: 74, dtype: object"
      ]
     },
     "execution_count": 73,
     "metadata": {},
     "output_type": "execute_result"
    }
   ],
   "source": [
    "df.iloc[0]"
   ]
  },
  {
   "cell_type": "code",
   "execution_count": 74,
   "metadata": {},
   "outputs": [
    {
     "data": {
      "text/plain": [
       "Index(['episode_reward_max', 'episode_reward_min', 'episode_reward_mean',\n",
       "       'episode_len_mean', 'episodes_this_iter', 'num_healthy_workers',\n",
       "       'timesteps_total', 'done', 'episodes_total', 'training_iteration',\n",
       "       'experiment_id', 'date', 'timestamp', 'time_this_iter_s',\n",
       "       'time_total_s', 'pid', 'hostname', 'node_ip', 'time_since_restore',\n",
       "       'timesteps_since_restore', 'iterations_since_restore',\n",
       "       'checkpoint_rllib', 'trainer_iteration', 'trial_id', 'experiment_tag',\n",
       "       'policy_reward_min/player_1', 'policy_reward_min/player_2',\n",
       "       'policy_reward_max/player_1', 'policy_reward_max/player_2',\n",
       "       'policy_reward_mean/player_1', 'policy_reward_mean/player_2',\n",
       "       'hist_stats/episode_reward', 'hist_stats/episode_lengths',\n",
       "       'hist_stats/policy_player_1_reward',\n",
       "       'hist_stats/policy_player_2_reward', 'sampler_perf/mean_env_wait_ms',\n",
       "       'sampler_perf/mean_processing_ms', 'sampler_perf/mean_inference_ms',\n",
       "       'timers/sample_time_ms', 'timers/sample_throughput',\n",
       "       'timers/learn_time_ms', 'timers/learn_throughput',\n",
       "       'timers/update_time_ms', 'info/num_steps_sampled',\n",
       "       'info/num_steps_trained', 'perf/cpu_util_percent',\n",
       "       'perf/ram_util_percent', 'perf/gpu_util_percent0',\n",
       "       'perf/vram_util_percent0', 'perf/gpu_util_percent1',\n",
       "       'perf/vram_util_percent1', 'perf/gpu_util_percent2',\n",
       "       'perf/vram_util_percent2', 'perf/gpu_util_percent3',\n",
       "       'perf/vram_util_percent3', 'info/learner/player_1/cur_kl_coeff',\n",
       "       'info/learner/player_1/cur_lr', 'info/learner/player_1/total_loss',\n",
       "       'info/learner/player_1/policy_loss', 'info/learner/player_1/vf_loss',\n",
       "       'info/learner/player_1/vf_explained_var', 'info/learner/player_1/kl',\n",
       "       'info/learner/player_1/entropy', 'info/learner/player_1/entropy_coeff',\n",
       "       'config/lr', 'config/main_filename', 'config/num_sgd_iter',\n",
       "       'config/redis_address', 'config/rollout_fragment_length',\n",
       "       'config/sgd_minibatch_size', 'config/train_batch_size',\n",
       "       'config/train_policies', 'config/train_steps', 'logdir'],\n",
       "      dtype='object')"
      ]
     },
     "execution_count": 74,
     "metadata": {},
     "output_type": "execute_result"
    }
   ],
   "source": [
    "df.columns"
   ]
  },
  {
   "cell_type": "code",
   "execution_count": 75,
   "metadata": {},
   "outputs": [],
   "source": [
    "for k in df.columns:\n",
    "#     if k.startswith('episode'):\n",
    "#         del df[k]\n",
    "    if not (k.startswith('config') or k == target or k == 'checkpoint_rllib' or k == 'logdir'):\n",
    "        del df[k]"
   ]
  },
  {
   "cell_type": "code",
   "execution_count": 76,
   "metadata": {},
   "outputs": [],
   "source": [
    "df = df.sort_values(target, ascending=False)"
   ]
  },
  {
   "cell_type": "code",
   "execution_count": 77,
   "metadata": {},
   "outputs": [
    {
     "data": {
      "text/plain": [
       "(array([1., 0., 3., 2., 1., 2., 2., 1., 2., 1.]),\n",
       " array([-8.85714286, -7.40308325, -5.94902364, -4.49496403, -3.04090442,\n",
       "        -1.58684481, -0.1327852 ,  1.32127441,  2.77533402,  4.22939363,\n",
       "         5.68345324]),\n",
       " <a list of 10 Patch objects>)"
      ]
     },
     "execution_count": 77,
     "metadata": {},
     "output_type": "execute_result"
    },
    {
     "data": {
      "image/png": "[encoded data removed]",
      "text/plain": [
       "<Figure size 432x288 with 1 Axes>"
      ]
     },
     "metadata": {
      "needs_background": "light"
     },
     "output_type": "display_data"
    }
   ],
   "source": [
    "plt.hist(df[target])"
   ]
  },
  {
   "cell_type": "code",
   "execution_count": 81,
   "metadata": {},
   "outputs": [
    {
     "data": {
      "application/vnd.plotly.v1+json": {
       "config": {
        "plotlyServerURL": "https://plot.ly"
       },
       "data": [
        {
         "dimensions": [
          {
           "constraintrange": [
            1.7347766868067573,
            6.5005814429030195
           ],
           "label": "policy_reward_mean/player_1",
           "values": [
            5.683453237410072,
            3.8372093023255816,
            2.8571428571428568,
            1.4159292035398232,
            1.1764705882352942,
            0.9836065573770492,
            -0.8990011098779135,
            -1.2790697674418603,
            -2.7419354838709675,
            -3.1963470319634704,
            -3.551912568306011,
            -4.658753709198813,
            -4.915254237288137,
            -5.2683896620278325,
            -8.857142857142858
           ]
          },
          {
           "label": "config/lr",
           "values": [
            0.0004559961268781996,
            0.0007554536142417728,
            2.726386505382237e-05,
            3.326824937793271e-05,
            1.0729462032108302e-05,
            0.0004806368571324858,
            9.015574425346667e-05,
            3.9465756650826476e-05,
            0.00011940271450074963,
            9.259687990967474e-05,
            0.0009962378857212614,
            0.00023224114934993585,
            0.0008809999720846845,
            5.6073139237422024e-05,
            1.6214829655981365e-05
           ]
          },
          {
           "label": "config/num_sgd_iter",
           "values": [
            6.681215969712518,
            5.562134175488152,
            19.67079855305187,
            25.089852012579943,
            28.9278269984854,
            7.3064731540384225,
            20.631147407185477,
            9.947342075734,
            26.298220677069487,
            16.929950620829484,
            18.064561028968978,
            15.223364979457825,
            23.502247330243875,
            27.209945469677706,
            7.684587829871616
           ]
          },
          {
           "label": "config/rollout_fragment_length",
           "values": [
            4350.336181824299,
            2865.445788885802,
            3446.377219296463,
            2038.9066351314991,
            2410.8911697510803,
            4352.367238340121,
            2574.840923141664,
            2198.059992050646,
            4946.096490704295,
            3495.0926554216453,
            2392.7847128674453,
            3346.2622987311706,
            4824.5533044046415,
            4045.560526350784,
            4616.791233419562
           ]
          },
          {
           "label": "config/sgd_minibatch_size",
           "values": [
            8041.544872826245,
            22627.467405434614,
            1980.0573368688777,
            11850.547105752376,
            1158.1669468093428,
            5480.487111917385,
            22335.162076326436,
            9531.80768231362,
            1707.8378885531706,
            6173.5607050112085,
            11326.163422507007,
            41833.11519983646,
            2772.100257104637,
            3188.9537844455576,
            44188.16432726878
           ]
          },
          {
           "label": "config/train_batch_size",
           "values": [
            8046.4330995012815,
            42879.762832241555,
            21693.268099217184,
            32255.177035068973,
            17172.81136775083,
            6411.628326034326,
            128388.83213187892,
            45689.26230339747,
            3900.2293886391662,
            70224.55822995765,
            21798.30084475684,
            96501.62322193274,
            15242.288563676768,
            72327.2391326456,
            52128.001708565556
           ]
          },
          {
           "label": "config/train_steps",
           "values": [
            99999999,
            99999999,
            99999999,
            99999999,
            99999999,
            99999999,
            99999999,
            99999999,
            99999999,
            99999999,
            99999999,
            99999999,
            99999999,
            99999999,
            99999999
           ]
          }
         ],
         "domain": {
          "x": [
           0,
           1
          ],
          "y": [
           0,
           1
          ]
         },
         "line": {
          "color": [
           5.683453237410072,
           3.8372093023255816,
           2.8571428571428568,
           1.4159292035398232,
           1.1764705882352942,
           0.9836065573770492,
           -0.8990011098779135,
           -1.2790697674418603,
           -2.7419354838709675,
           -3.1963470319634704,
           -3.551912568306011,
           -4.658753709198813,
           -4.915254237288137,
           -5.2683896620278325,
           -8.857142857142858
          ],
          "coloraxis": "coloraxis"
         },
         "name": "",
         "type": "parcoords"
        }
       ],
       "layout": {
        "autosize": true,
        "coloraxis": {
         "cmax": 6,
         "cmid": 2,
         "cmin": -10,
         "colorbar": {
          "title": {
           "text": "policy_reward_mean/player_1"
          }
         },
         "colorscale": [
          [
           0,
           "rgb(0, 147, 146)"
          ],
          [
           0.16666666666666666,
           "rgb(114, 170, 161)"
          ],
          [
           0.3333333333333333,
           "rgb(177, 199, 179)"
          ],
          [
           0.5,
           "rgb(241, 234, 200)"
          ],
          [
           0.6666666666666666,
           "rgb(229, 185, 173)"
          ],
          [
           0.8333333333333334,
           "rgb(217, 137, 148)"
          ],
          [
           1,
           "rgb(208, 88, 126)"
          ]
         ]
        },
        "legend": {
         "tracegroupgap": 0
        },
        "margin": {
         "t": 60
        },
        "template": {
         "data": {
          "bar": [
           {
            "error_x": {
             "color": "#2a3f5f"
            },
            "error_y": {
             "color": "#2a3f5f"
            },
            "marker": {
             "line": {
              "color": "#E5ECF6",
              "width": 0.5
             }
            },
            "type": "bar"
           }
          ],
          "barpolar": [
           {
            "marker": {
             "line": {
              "color": "#E5ECF6",
              "width": 0.5
             }
            },
            "type": "barpolar"
           }
          ],
          "carpet": [
           {
            "aaxis": {
             "endlinecolor": "#2a3f5f",
             "gridcolor": "white",
             "linecolor": "white",
             "minorgridcolor": "white",
             "startlinecolor": "#2a3f5f"
            },
            "baxis": {
             "endlinecolor": "#2a3f5f",
             "gridcolor": "white",
             "linecolor": "white",
             "minorgridcolor": "white",
             "startlinecolor": "#2a3f5f"
            },
            "type": "carpet"
           }
          ],
          "choropleth": [
           {
            "colorbar": {
             "outlinewidth": 0,
             "ticks": ""
            },
            "type": "choropleth"
           }
          ],
          "contour": [
           {
            "colorbar": {
             "outlinewidth": 0,
             "ticks": ""
            },
            "colorscale": [
             [
              0,
              "#0d0887"
             ],
             [
              0.1111111111111111,
              "#46039f"
             ],
             [
              0.2222222222222222,
              "#7201a8"
             ],
             [
              0.3333333333333333,
              "#9c179e"
             ],
             [
              0.4444444444444444,
              "#bd3786"
             ],
             [
              0.5555555555555556,
              "#d8576b"
             ],
             [
              0.6666666666666666,
              "#ed7953"
             ],
             [
              0.7777777777777778,
              "#fb9f3a"
             ],
             [
              0.8888888888888888,
              "#fdca26"
             ],
             [
              1,
              "#f0f921"
             ]
            ],
            "type": "contour"
           }
          ],
          "contourcarpet": [
           {
            "colorbar": {
             "outlinewidth": 0,
             "ticks": ""
            },
            "type": "contourcarpet"
           }
          ],
          "heatmap": [
           {
            "colorbar": {
             "outlinewidth": 0,
             "ticks": ""
            },
            "colorscale": [
             [
              0,
              "#0d0887"
             ],
             [
              0.1111111111111111,
              "#46039f"
             ],
             [
              0.2222222222222222,
              "#7201a8"
             ],
             [
              0.3333333333333333,
              "#9c179e"
             ],
             [
              0.4444444444444444,
              "#bd3786"
             ],
             [
              0.5555555555555556,
              "#d8576b"
             ],
             [
              0.6666666666666666,
              "#ed7953"
             ],
             [
              0.7777777777777778,
              "#fb9f3a"
             ],
             [
              0.8888888888888888,
              "#fdca26"
             ],
             [
              1,
              "#f0f921"
             ]
            ],
            "type": "heatmap"
           }
          ],
          "heatmapgl": [
           {
            "colorbar": {
             "outlinewidth": 0,
             "ticks": ""
            },
            "colorscale": [
             [
              0,
              "#0d0887"
             ],
             [
              0.1111111111111111,
              "#46039f"
             ],
             [
              0.2222222222222222,
              "#7201a8"
             ],
             [
              0.3333333333333333,
              "#9c179e"
             ],
             [
              0.4444444444444444,
              "#bd3786"
             ],
             [
              0.5555555555555556,
              "#d8576b"
             ],
             [
              0.6666666666666666,
              "#ed7953"
             ],
             [
              0.7777777777777778,
              "#fb9f3a"
             ],
             [
              0.8888888888888888,
              "#fdca26"
             ],
             [
              1,
              "#f0f921"
             ]
            ],
            "type": "heatmapgl"
           }
          ],
          "histogram": [
           {
            "marker": {
             "colorbar": {
              "outlinewidth": 0,
              "ticks": ""
             }
            },
            "type": "histogram"
           }
          ],
          "histogram2d": [
           {
            "colorbar": {
             "outlinewidth": 0,
             "ticks": ""
            },
            "colorscale": [
             [
              0,
              "#0d0887"
             ],
             [
              0.1111111111111111,
              "#46039f"
             ],
             [
              0.2222222222222222,
              "#7201a8"
             ],
             [
              0.3333333333333333,
              "#9c179e"
             ],
             [
              0.4444444444444444,
              "#bd3786"
             ],
             [
              0.5555555555555556,
              "#d8576b"
             ],
             [
              0.6666666666666666,
              "#ed7953"
             ],
             [
              0.7777777777777778,
              "#fb9f3a"
             ],
             [
              0.8888888888888888,
              "#fdca26"
             ],
             [
              1,
              "#f0f921"
             ]
            ],
            "type": "histogram2d"
           }
          ],
          "histogram2dcontour": [
           {
            "colorbar": {
             "outlinewidth": 0,
             "ticks": ""
            },
            "colorscale": [
             [
              0,
              "#0d0887"
             ],
             [
              0.1111111111111111,
              "#46039f"
             ],
             [
              0.2222222222222222,
              "#7201a8"
             ],
             [
              0.3333333333333333,
              "#9c179e"
             ],
             [
              0.4444444444444444,
              "#bd3786"
             ],
             [
              0.5555555555555556,
              "#d8576b"
             ],
             [
              0.6666666666666666,
              "#ed7953"
             ],
             [
              0.7777777777777778,
              "#fb9f3a"
             ],
             [
              0.8888888888888888,
              "#fdca26"
             ],
             [
              1,
              "#f0f921"
             ]
            ],
            "type": "histogram2dcontour"
           }
          ],
          "mesh3d": [
           {
            "colorbar": {
             "outlinewidth": 0,
             "ticks": ""
            },
            "type": "mesh3d"
           }
          ],
          "parcoords": [
           {
            "line": {
             "colorbar": {
              "outlinewidth": 0,
              "ticks": ""
             }
            },
            "type": "parcoords"
           }
          ],
          "pie": [
           {
            "automargin": true,
            "type": "pie"
           }
          ],
          "scatter": [
           {
            "marker": {
             "colorbar": {
              "outlinewidth": 0,
              "ticks": ""
             }
            },
            "type": "scatter"
           }
          ],
          "scatter3d": [
           {
            "line": {
             "colorbar": {
              "outlinewidth": 0,
              "ticks": ""
             }
            },
            "marker": {
             "colorbar": {
              "outlinewidth": 0,
              "ticks": ""
             }
            },
            "type": "scatter3d"
           }
          ],
          "scattercarpet": [
           {
            "marker": {
             "colorbar": {
              "outlinewidth": 0,
              "ticks": ""
             }
            },
            "type": "scattercarpet"
           }
          ],
          "scattergeo": [
           {
            "marker": {
             "colorbar": {
              "outlinewidth": 0,
              "ticks": ""
             }
            },
            "type": "scattergeo"
           }
          ],
          "scattergl": [
           {
            "marker": {
             "colorbar": {
              "outlinewidth": 0,
              "ticks": ""
             }
            },
            "type": "scattergl"
           }
          ],
          "scattermapbox": [
           {
            "marker": {
             "colorbar": {
              "outlinewidth": 0,
              "ticks": ""
             }
            },
            "type": "scattermapbox"
           }
          ],
          "scatterpolar": [
           {
            "marker": {
             "colorbar": {
              "outlinewidth": 0,
              "ticks": ""
             }
            },
            "type": "scatterpolar"
           }
          ],
          "scatterpolargl": [
           {
            "marker": {
             "colorbar": {
              "outlinewidth": 0,
              "ticks": ""
             }
            },
            "type": "scatterpolargl"
           }
          ],
          "scatterternary": [
           {
            "marker": {
             "colorbar": {
              "outlinewidth": 0,
              "ticks": ""
             }
            },
            "type": "scatterternary"
           }
          ],
          "surface": [
           {
            "colorbar": {
             "outlinewidth": 0,
             "ticks": ""
            },
            "colorscale": [
             [
              0,
              "#0d0887"
             ],
             [
              0.1111111111111111,
              "#46039f"
             ],
             [
              0.2222222222222222,
              "#7201a8"
             ],
             [
              0.3333333333333333,
              "#9c179e"
             ],
             [
              0.4444444444444444,
              "#bd3786"
             ],
             [
              0.5555555555555556,
              "#d8576b"
             ],
             [
              0.6666666666666666,
              "#ed7953"
             ],
             [
              0.7777777777777778,
              "#fb9f3a"
             ],
             [
              0.8888888888888888,
              "#fdca26"
             ],
             [
              1,
              "#f0f921"
             ]
            ],
            "type": "surface"
           }
          ],
          "table": [
           {
            "cells": {
             "fill": {
              "color": "#EBF0F8"
             },
             "line": {
              "color": "white"
             }
            },
            "header": {
             "fill": {
              "color": "#C8D4E3"
             },
             "line": {
              "color": "white"
             }
            },
            "type": "table"
           }
          ]
         },
         "layout": {
          "annotationdefaults": {
           "arrowcolor": "#2a3f5f",
           "arrowhead": 0,
           "arrowwidth": 1
          },
          "coloraxis": {
           "colorbar": {
            "outlinewidth": 0,
            "ticks": ""
           }
          },
          "colorscale": {
           "diverging": [
            [
             0,
             "#8e0152"
            ],
            [
             0.1,
             "#c51b7d"
            ],
            [
             0.2,
             "#de77ae"
            ],
            [
             0.3,
             "#f1b6da"
            ],
            [
             0.4,
             "#fde0ef"
            ],
            [
             0.5,
             "#f7f7f7"
            ],
            [
             0.6,
             "#e6f5d0"
            ],
            [
             0.7,
             "#b8e186"
            ],
            [
             0.8,
             "#7fbc41"
            ],
            [
             0.9,
             "#4d9221"
            ],
            [
             1,
             "#276419"
            ]
           ],
           "sequential": [
            [
             0,
             "#0d0887"
            ],
            [
             0.1111111111111111,
             "#46039f"
            ],
            [
             0.2222222222222222,
             "#7201a8"
            ],
            [
             0.3333333333333333,
             "#9c179e"
            ],
            [
             0.4444444444444444,
             "#bd3786"
            ],
            [
             0.5555555555555556,
             "#d8576b"
            ],
            [
             0.6666666666666666,
             "#ed7953"
            ],
            [
             0.7777777777777778,
             "#fb9f3a"
            ],
            [
             0.8888888888888888,
             "#fdca26"
            ],
            [
             1,
             "#f0f921"
            ]
           ],
           "sequentialminus": [
            [
             0,
             "#0d0887"
            ],
            [
             0.1111111111111111,
             "#46039f"
            ],
            [
             0.2222222222222222,
             "#7201a8"
            ],
            [
             0.3333333333333333,
             "#9c179e"
            ],
            [
             0.4444444444444444,
             "#bd3786"
            ],
            [
             0.5555555555555556,
             "#d8576b"
            ],
            [
             0.6666666666666666,
             "#ed7953"
            ],
            [
             0.7777777777777778,
             "#fb9f3a"
            ],
            [
             0.8888888888888888,
             "#fdca26"
            ],
            [
             1,
             "#f0f921"
            ]
           ]
          },
          "colorway": [
           "#636efa",
           "#EF553B",
           "#00cc96",
           "#ab63fa",
           "#FFA15A",
           "#19d3f3",
           "#FF6692",
           "#B6E880",
           "#FF97FF",
           "#FECB52"
          ],
          "font": {
           "color": "#2a3f5f"
          },
          "geo": {
           "bgcolor": "white",
           "lakecolor": "white",
           "landcolor": "#E5ECF6",
           "showlakes": true,
           "showland": true,
           "subunitcolor": "white"
          },
          "hoverlabel": {
           "align": "left"
          },
          "hovermode": "closest",
          "mapbox": {
           "style": "light"
          },
          "paper_bgcolor": "white",
          "plot_bgcolor": "#E5ECF6",
          "polar": {
           "angularaxis": {
            "gridcolor": "white",
            "linecolor": "white",
            "ticks": ""
           },
           "bgcolor": "#E5ECF6",
           "radialaxis": {
            "gridcolor": "white",
            "linecolor": "white",
            "ticks": ""
           }
          },
          "scene": {
           "xaxis": {
            "backgroundcolor": "#E5ECF6",
            "gridcolor": "white",
            "gridwidth": 2,
            "linecolor": "white",
            "showbackground": true,
            "ticks": "",
            "zerolinecolor": "white"
           },
           "yaxis": {
            "backgroundcolor": "#E5ECF6",
            "gridcolor": "white",
            "gridwidth": 2,
            "linecolor": "white",
            "showbackground": true,
            "ticks": "",
            "zerolinecolor": "white"
           },
           "zaxis": {
            "backgroundcolor": "#E5ECF6",
            "gridcolor": "white",
            "gridwidth": 2,
            "linecolor": "white",
            "showbackground": true,
            "ticks": "",
            "zerolinecolor": "white"
           }
          },
          "shapedefaults": {
           "line": {
            "color": "#2a3f5f"
           }
          },
          "ternary": {
           "aaxis": {
            "gridcolor": "white",
            "linecolor": "white",
            "ticks": ""
           },
           "baxis": {
            "gridcolor": "white",
            "linecolor": "white",
            "ticks": ""
           },
           "bgcolor": "#E5ECF6",
           "caxis": {
            "gridcolor": "white",
            "linecolor": "white",
            "ticks": ""
           }
          },
          "title": {
           "x": 0.05
          },
          "xaxis": {
           "automargin": true,
           "gridcolor": "white",
           "linecolor": "white",
           "ticks": "",
           "title": {
            "standoff": 15
           },
           "zerolinecolor": "white",
           "zerolinewidth": 2
          },
          "yaxis": {
           "automargin": true,
           "gridcolor": "white",
           "linecolor": "white",
           "ticks": "",
           "title": {
            "standoff": 15
           },
           "zerolinecolor": "white",
           "zerolinewidth": 2
          }
         }
        }
       }
      },
      "image/png": "[encoded data removed]",
      "text/html": [
       "<div>\n",
       "        \n",
       "        \n",
       "            <div id=\"a5f0f4f0-58ec-4c6c-b442-55891df48f01\" class=\"plotly-graph-div\" style=\"height:525px; width:100%;\"></div>\n",
       "            <script type=\"text/javascript\">\n",
       "                require([\"plotly\"], function(Plotly) {\n",
       "                    window.PLOTLYENV=window.PLOTLYENV || {};\n",
       "                    \n",
       "                if (document.getElementById(\"a5f0f4f0-58ec-4c6c-b442-55891df48f01\")) {\n",
       "                    Plotly.newPlot(\n",
       "                        'a5f0f4f0-58ec-4c6c-b442-55891df48f01',\n",
       "                        [{\"dimensions\": [{\"label\": \"policy_reward_mean/player_1\", \"values\": [5.683453237410072, 3.8372093023255816, 2.8571428571428568, 1.4159292035398232, 1.1764705882352942, 0.9836065573770492, -0.8990011098779135, -1.2790697674418603, -2.7419354838709675, -3.1963470319634704, -3.551912568306011, -4.658753709198813, -4.915254237288137, -5.2683896620278325, -8.857142857142858]}, {\"label\": \"config/lr\", \"values\": [0.0004559961268781996, 0.0007554536142417728, 2.726386505382237e-05, 3.326824937793271e-05, 1.0729462032108302e-05, 0.0004806368571324858, 9.015574425346667e-05, 3.9465756650826476e-05, 0.00011940271450074963, 9.259687990967474e-05, 0.0009962378857212614, 0.00023224114934993585, 0.0008809999720846845, 5.6073139237422024e-05, 1.6214829655981365e-05]}, {\"label\": \"config/num_sgd_iter\", \"values\": [6.681215969712518, 5.562134175488152, 19.67079855305187, 25.089852012579943, 28.9278269984854, 7.3064731540384225, 20.631147407185477, 9.947342075734, 26.298220677069487, 16.929950620829484, 18.064561028968978, 15.223364979457825, 23.502247330243875, 27.209945469677706, 7.684587829871616]}, {\"label\": \"config/rollout_fragment_length\", \"values\": [4350.336181824299, 2865.445788885802, 3446.377219296463, 2038.9066351314991, 2410.8911697510803, 4352.367238340121, 2574.840923141664, 2198.059992050646, 4946.096490704295, 3495.0926554216453, 2392.7847128674453, 3346.2622987311706, 4824.5533044046415, 4045.560526350784, 4616.791233419562]}, {\"label\": \"config/sgd_minibatch_size\", \"values\": [8041.544872826245, 22627.467405434614, 1980.0573368688777, 11850.547105752376, 1158.1669468093428, 5480.487111917385, 22335.162076326436, 9531.80768231362, 1707.8378885531706, 6173.5607050112085, 11326.163422507007, 41833.11519983646, 2772.100257104637, 3188.9537844455576, 44188.16432726878]}, {\"label\": \"config/train_batch_size\", \"values\": [8046.4330995012815, 42879.762832241555, 21693.268099217184, 32255.177035068973, 17172.81136775083, 6411.628326034326, 128388.83213187892, 45689.26230339747, 3900.2293886391662, 70224.55822995765, 21798.30084475684, 96501.62322193274, 15242.288563676768, 72327.2391326456, 52128.001708565556]}, {\"label\": \"config/train_steps\", \"values\": [99999999, 99999999, 99999999, 99999999, 99999999, 99999999, 99999999, 99999999, 99999999, 99999999, 99999999, 99999999, 99999999, 99999999, 99999999]}], \"domain\": {\"x\": [0.0, 1.0], \"y\": [0.0, 1.0]}, \"line\": {\"color\": [5.683453237410072, 3.8372093023255816, 2.8571428571428568, 1.4159292035398232, 1.1764705882352942, 0.9836065573770492, -0.8990011098779135, -1.2790697674418603, -2.7419354838709675, -3.1963470319634704, -3.551912568306011, -4.658753709198813, -4.915254237288137, -5.2683896620278325, -8.857142857142858], \"coloraxis\": \"coloraxis\"}, \"name\": \"\", \"type\": \"parcoords\"}],\n",
       "                        {\"coloraxis\": {\"cmax\": 6, \"cmid\": 2, \"cmin\": -10, \"colorbar\": {\"title\": {\"text\": \"policy_reward_mean/player_1\"}}, \"colorscale\": [[0.0, \"rgb(0, 147, 146)\"], [0.16666666666666666, \"rgb(114, 170, 161)\"], [0.3333333333333333, \"rgb(177, 199, 179)\"], [0.5, \"rgb(241, 234, 200)\"], [0.6666666666666666, \"rgb(229, 185, 173)\"], [0.8333333333333334, \"rgb(217, 137, 148)\"], [1.0, \"rgb(208, 88, 126)\"]]}, \"legend\": {\"tracegroupgap\": 0}, \"margin\": {\"t\": 60}, \"template\": {\"data\": {\"bar\": [{\"error_x\": {\"color\": \"#2a3f5f\"}, \"error_y\": {\"color\": \"#2a3f5f\"}, \"marker\": {\"line\": {\"color\": \"#E5ECF6\", \"width\": 0.5}}, \"type\": \"bar\"}], \"barpolar\": [{\"marker\": {\"line\": {\"color\": \"#E5ECF6\", \"width\": 0.5}}, \"type\": \"barpolar\"}], \"carpet\": [{\"aaxis\": {\"endlinecolor\": \"#2a3f5f\", \"gridcolor\": \"white\", \"linecolor\": \"white\", \"minorgridcolor\": \"white\", \"startlinecolor\": \"#2a3f5f\"}, \"baxis\": {\"endlinecolor\": \"#2a3f5f\", \"gridcolor\": \"white\", \"linecolor\": \"white\", \"minorgridcolor\": \"white\", \"startlinecolor\": \"#2a3f5f\"}, \"type\": \"carpet\"}], \"choropleth\": [{\"colorbar\": {\"outlinewidth\": 0, \"ticks\": \"\"}, \"type\": \"choropleth\"}], \"contour\": [{\"colorbar\": {\"outlinewidth\": 0, \"ticks\": \"\"}, \"colorscale\": [[0.0, \"#0d0887\"], [0.1111111111111111, \"#46039f\"], [0.2222222222222222, \"#7201a8\"], [0.3333333333333333, \"#9c179e\"], [0.4444444444444444, \"#bd3786\"], [0.5555555555555556, \"#d8576b\"], [0.6666666666666666, \"#ed7953\"], [0.7777777777777778, \"#fb9f3a\"], [0.8888888888888888, \"#fdca26\"], [1.0, \"#f0f921\"]], \"type\": \"contour\"}], \"contourcarpet\": [{\"colorbar\": {\"outlinewidth\": 0, \"ticks\": \"\"}, \"type\": \"contourcarpet\"}], \"heatmap\": [{\"colorbar\": {\"outlinewidth\": 0, \"ticks\": \"\"}, \"colorscale\": [[0.0, \"#0d0887\"], [0.1111111111111111, \"#46039f\"], [0.2222222222222222, \"#7201a8\"], [0.3333333333333333, \"#9c179e\"], [0.4444444444444444, \"#bd3786\"], [0.5555555555555556, \"#d8576b\"], [0.6666666666666666, \"#ed7953\"], [0.7777777777777778, \"#fb9f3a\"], [0.8888888888888888, \"#fdca26\"], [1.0, \"#f0f921\"]], \"type\": \"heatmap\"}], \"heatmapgl\": [{\"colorbar\": {\"outlinewidth\": 0, \"ticks\": \"\"}, \"colorscale\": [[0.0, \"#0d0887\"], [0.1111111111111111, \"#46039f\"], [0.2222222222222222, \"#7201a8\"], [0.3333333333333333, \"#9c179e\"], [0.4444444444444444, \"#bd3786\"], [0.5555555555555556, \"#d8576b\"], [0.6666666666666666, \"#ed7953\"], [0.7777777777777778, \"#fb9f3a\"], [0.8888888888888888, \"#fdca26\"], [1.0, \"#f0f921\"]], \"type\": \"heatmapgl\"}], \"histogram\": [{\"marker\": {\"colorbar\": {\"outlinewidth\": 0, \"ticks\": \"\"}}, \"type\": \"histogram\"}], \"histogram2d\": [{\"colorbar\": {\"outlinewidth\": 0, \"ticks\": \"\"}, \"colorscale\": [[0.0, \"#0d0887\"], [0.1111111111111111, \"#46039f\"], [0.2222222222222222, \"#7201a8\"], [0.3333333333333333, \"#9c179e\"], [0.4444444444444444, \"#bd3786\"], [0.5555555555555556, \"#d8576b\"], [0.6666666666666666, \"#ed7953\"], [0.7777777777777778, \"#fb9f3a\"], [0.8888888888888888, \"#fdca26\"], [1.0, \"#f0f921\"]], \"type\": \"histogram2d\"}], \"histogram2dcontour\": [{\"colorbar\": {\"outlinewidth\": 0, \"ticks\": \"\"}, \"colorscale\": [[0.0, \"#0d0887\"], [0.1111111111111111, \"#46039f\"], [0.2222222222222222, \"#7201a8\"], [0.3333333333333333, \"#9c179e\"], [0.4444444444444444, \"#bd3786\"], [0.5555555555555556, \"#d8576b\"], [0.6666666666666666, \"#ed7953\"], [0.7777777777777778, \"#fb9f3a\"], [0.8888888888888888, \"#fdca26\"], [1.0, \"#f0f921\"]], \"type\": \"histogram2dcontour\"}], \"mesh3d\": [{\"colorbar\": {\"outlinewidth\": 0, \"ticks\": \"\"}, \"type\": \"mesh3d\"}], \"parcoords\": [{\"line\": {\"colorbar\": {\"outlinewidth\": 0, \"ticks\": \"\"}}, \"type\": \"parcoords\"}], \"pie\": [{\"automargin\": true, \"type\": \"pie\"}], \"scatter\": [{\"marker\": {\"colorbar\": {\"outlinewidth\": 0, \"ticks\": \"\"}}, \"type\": \"scatter\"}], \"scatter3d\": [{\"line\": {\"colorbar\": {\"outlinewidth\": 0, \"ticks\": \"\"}}, \"marker\": {\"colorbar\": {\"outlinewidth\": 0, \"ticks\": \"\"}}, \"type\": \"scatter3d\"}], \"scattercarpet\": [{\"marker\": {\"colorbar\": {\"outlinewidth\": 0, \"ticks\": \"\"}}, \"type\": \"scattercarpet\"}], \"scattergeo\": [{\"marker\": {\"colorbar\": {\"outlinewidth\": 0, \"ticks\": \"\"}}, \"type\": \"scattergeo\"}], \"scattergl\": [{\"marker\": {\"colorbar\": {\"outlinewidth\": 0, \"ticks\": \"\"}}, \"type\": \"scattergl\"}], \"scattermapbox\": [{\"marker\": {\"colorbar\": {\"outlinewidth\": 0, \"ticks\": \"\"}}, \"type\": \"scattermapbox\"}], \"scatterpolar\": [{\"marker\": {\"colorbar\": {\"outlinewidth\": 0, \"ticks\": \"\"}}, \"type\": \"scatterpolar\"}], \"scatterpolargl\": [{\"marker\": {\"colorbar\": {\"outlinewidth\": 0, \"ticks\": \"\"}}, \"type\": \"scatterpolargl\"}], \"scatterternary\": [{\"marker\": {\"colorbar\": {\"outlinewidth\": 0, \"ticks\": \"\"}}, \"type\": \"scatterternary\"}], \"surface\": [{\"colorbar\": {\"outlinewidth\": 0, \"ticks\": \"\"}, \"colorscale\": [[0.0, \"#0d0887\"], [0.1111111111111111, \"#46039f\"], [0.2222222222222222, \"#7201a8\"], [0.3333333333333333, \"#9c179e\"], [0.4444444444444444, \"#bd3786\"], [0.5555555555555556, \"#d8576b\"], [0.6666666666666666, \"#ed7953\"], [0.7777777777777778, \"#fb9f3a\"], [0.8888888888888888, \"#fdca26\"], [1.0, \"#f0f921\"]], \"type\": \"surface\"}], \"table\": [{\"cells\": {\"fill\": {\"color\": \"#EBF0F8\"}, \"line\": {\"color\": \"white\"}}, \"header\": {\"fill\": {\"color\": \"#C8D4E3\"}, \"line\": {\"color\": \"white\"}}, \"type\": \"table\"}]}, \"layout\": {\"annotationdefaults\": {\"arrowcolor\": \"#2a3f5f\", \"arrowhead\": 0, \"arrowwidth\": 1}, \"coloraxis\": {\"colorbar\": {\"outlinewidth\": 0, \"ticks\": \"\"}}, \"colorscale\": {\"diverging\": [[0, \"#8e0152\"], [0.1, \"#c51b7d\"], [0.2, \"#de77ae\"], [0.3, \"#f1b6da\"], [0.4, \"#fde0ef\"], [0.5, \"#f7f7f7\"], [0.6, \"#e6f5d0\"], [0.7, \"#b8e186\"], [0.8, \"#7fbc41\"], [0.9, \"#4d9221\"], [1, \"#276419\"]], \"sequential\": [[0.0, \"#0d0887\"], [0.1111111111111111, \"#46039f\"], [0.2222222222222222, \"#7201a8\"], [0.3333333333333333, \"#9c179e\"], [0.4444444444444444, \"#bd3786\"], [0.5555555555555556, \"#d8576b\"], [0.6666666666666666, \"#ed7953\"], [0.7777777777777778, \"#fb9f3a\"], [0.8888888888888888, \"#fdca26\"], [1.0, \"#f0f921\"]], \"sequentialminus\": [[0.0, \"#0d0887\"], [0.1111111111111111, \"#46039f\"], [0.2222222222222222, \"#7201a8\"], [0.3333333333333333, \"#9c179e\"], [0.4444444444444444, \"#bd3786\"], [0.5555555555555556, \"#d8576b\"], [0.6666666666666666, \"#ed7953\"], [0.7777777777777778, \"#fb9f3a\"], [0.8888888888888888, \"#fdca26\"], [1.0, \"#f0f921\"]]}, \"colorway\": [\"#636efa\", \"#EF553B\", \"#00cc96\", \"#ab63fa\", \"#FFA15A\", \"#19d3f3\", \"#FF6692\", \"#B6E880\", \"#FF97FF\", \"#FECB52\"], \"font\": {\"color\": \"#2a3f5f\"}, \"geo\": {\"bgcolor\": \"white\", \"lakecolor\": \"white\", \"landcolor\": \"#E5ECF6\", \"showlakes\": true, \"showland\": true, \"subunitcolor\": \"white\"}, \"hoverlabel\": {\"align\": \"left\"}, \"hovermode\": \"closest\", \"mapbox\": {\"style\": \"light\"}, \"paper_bgcolor\": \"white\", \"plot_bgcolor\": \"#E5ECF6\", \"polar\": {\"angularaxis\": {\"gridcolor\": \"white\", \"linecolor\": \"white\", \"ticks\": \"\"}, \"bgcolor\": \"#E5ECF6\", \"radialaxis\": {\"gridcolor\": \"white\", \"linecolor\": \"white\", \"ticks\": \"\"}}, \"scene\": {\"xaxis\": {\"backgroundcolor\": \"#E5ECF6\", \"gridcolor\": \"white\", \"gridwidth\": 2, \"linecolor\": \"white\", \"showbackground\": true, \"ticks\": \"\", \"zerolinecolor\": \"white\"}, \"yaxis\": {\"backgroundcolor\": \"#E5ECF6\", \"gridcolor\": \"white\", \"gridwidth\": 2, \"linecolor\": \"white\", \"showbackground\": true, \"ticks\": \"\", \"zerolinecolor\": \"white\"}, \"zaxis\": {\"backgroundcolor\": \"#E5ECF6\", \"gridcolor\": \"white\", \"gridwidth\": 2, \"linecolor\": \"white\", \"showbackground\": true, \"ticks\": \"\", \"zerolinecolor\": \"white\"}}, \"shapedefaults\": {\"line\": {\"color\": \"#2a3f5f\"}}, \"ternary\": {\"aaxis\": {\"gridcolor\": \"white\", \"linecolor\": \"white\", \"ticks\": \"\"}, \"baxis\": {\"gridcolor\": \"white\", \"linecolor\": \"white\", \"ticks\": \"\"}, \"bgcolor\": \"#E5ECF6\", \"caxis\": {\"gridcolor\": \"white\", \"linecolor\": \"white\", \"ticks\": \"\"}}, \"title\": {\"x\": 0.05}, \"xaxis\": {\"automargin\": true, \"gridcolor\": \"white\", \"linecolor\": \"white\", \"ticks\": \"\", \"title\": {\"standoff\": 15}, \"zerolinecolor\": \"white\", \"zerolinewidth\": 2}, \"yaxis\": {\"automargin\": true, \"gridcolor\": \"white\", \"linecolor\": \"white\", \"ticks\": \"\", \"title\": {\"standoff\": 15}, \"zerolinecolor\": \"white\", \"zerolinewidth\": 2}}}},\n",
       "                        {\"responsive\": true}\n",
       "                    ).then(function(){\n",
       "                            \n",
       "var gd = document.getElementById('a5f0f4f0-58ec-4c6c-b442-55891df48f01');\n",
       "var x = new MutationObserver(function (mutations, observer) {{\n",
       "        var display = window.getComputedStyle(gd).display;\n",
       "        if (!display || display === 'none') {{\n",
       "            console.log([gd, 'removed!']);\n",
       "            Plotly.purge(gd);\n",
       "            observer.disconnect();\n",
       "        }}\n",
       "}});\n",
       "\n",
       "// Listen for the removal of the full notebook cells\n",
       "var notebookContainer = gd.closest('#notebook-container');\n",
       "if (notebookContainer) {{\n",
       "    x.observe(notebookContainer, {childList: true});\n",
       "}}\n",
       "\n",
       "// Listen for the clearing of the current output cell\n",
       "var outputEl = gd.closest('.output');\n",
       "if (outputEl) {{\n",
       "    x.observe(outputEl, {childList: true});\n",
       "}}\n",
       "\n",
       "                        })\n",
       "                };\n",
       "                });\n",
       "            </script>\n",
       "        </div>"
      ]
     },
     "metadata": {},
     "output_type": "display_data"
    }
   ],
   "source": [
    "fig = px.parallel_coordinates(df, color=target,\n",
    "                             color_continuous_scale=px.colors.diverging.Tealrose,\n",
    "                             color_continuous_midpoint=2, range_color=(-10, 6))\n",
    "fig.show()"
   ]
  },
  {
   "cell_type": "code",
   "execution_count": 82,
   "metadata": {},
   "outputs": [
    {
     "data": {
      "text/plain": [
       "checkpoint_rllib                  /home/sergei/ray_results/PPO_YouShallNotPassHu...\n",
       "policy_reward_mean/player_1                                                 5.68345\n",
       "config/lr                                                               0.000455996\n",
       "config/main_filename              /scratch/sergei/better-adversarial-defenses/yo...\n",
       "config/num_sgd_iter                                                         6.68122\n",
       "config/redis_address                                             128.32.175.10:6379\n",
       "config/rollout_fragment_length                                              4350.34\n",
       "config/sgd_minibatch_size                                                   8041.54\n",
       "config/train_batch_size                                                     8046.43\n",
       "config/train_policies                                                    [player_1]\n",
       "config/train_steps                                                         99999999\n",
       "logdir                            /home/sergei/ray_results/adversarial_tune_fine...\n",
       "Name: 9, dtype: object"
      ]
     },
     "execution_count": 82,
     "metadata": {},
     "output_type": "execute_result"
    }
   ],
   "source": [
    "best_trial = df.iloc[0].logdir\n",
    "df.iloc[0]"
   ]
  },
  {
   "cell_type": "code",
   "execution_count": 83,
   "metadata": {},
   "outputs": [
    {
     "data": {
      "text/html": [
       "<div>\n",
       "<style scoped>\n",
       "    .dataframe tbody tr th:only-of-type {\n",
       "        vertical-align: middle;\n",
       "    }\n",
       "\n",
       "    .dataframe tbody tr th {\n",
       "        vertical-align: top;\n",
       "    }\n",
       "\n",
       "    .dataframe thead th {\n",
       "        text-align: right;\n",
       "    }\n",
       "</style>\n",
       "<table border=\"1\" class=\"dataframe\">\n",
       "  <thead>\n",
       "    <tr style=\"text-align: right;\">\n",
       "      <th></th>\n",
       "      <th>checkpoint_rllib</th>\n",
       "      <th>policy_reward_mean/player_1</th>\n",
       "      <th>config/lr</th>\n",
       "      <th>config/main_filename</th>\n",
       "      <th>config/num_sgd_iter</th>\n",
       "      <th>config/redis_address</th>\n",
       "      <th>config/rollout_fragment_length</th>\n",
       "      <th>config/sgd_minibatch_size</th>\n",
       "      <th>config/train_batch_size</th>\n",
       "      <th>config/train_policies</th>\n",
       "      <th>config/train_steps</th>\n",
       "      <th>logdir</th>\n",
       "    </tr>\n",
       "  </thead>\n",
       "  <tbody>\n",
       "    <tr>\n",
       "      <th>9</th>\n",
       "      <td>/home/sergei/ray_results/PPO_YouShallNotPassHu...</td>\n",
       "      <td>5.683453</td>\n",
       "      <td>0.000456</td>\n",
       "      <td>/scratch/sergei/better-adversarial-defenses/yo...</td>\n",
       "      <td>6.681216</td>\n",
       "      <td>128.32.175.10:6379</td>\n",
       "      <td>4350.336182</td>\n",
       "      <td>8041.544873</td>\n",
       "      <td>8046.433100</td>\n",
       "      <td>[player_1]</td>\n",
       "      <td>99999999</td>\n",
       "      <td>/home/sergei/ray_results/adversarial_tune_fine...</td>\n",
       "    </tr>\n",
       "    <tr>\n",
       "      <th>7</th>\n",
       "      <td>/home/sergei/ray_results/PPO_YouShallNotPassHu...</td>\n",
       "      <td>3.837209</td>\n",
       "      <td>0.000755</td>\n",
       "      <td>/scratch/sergei/better-adversarial-defenses/yo...</td>\n",
       "      <td>5.562134</td>\n",
       "      <td>128.32.175.10:6379</td>\n",
       "      <td>2865.445789</td>\n",
       "      <td>22627.467405</td>\n",
       "      <td>42879.762832</td>\n",
       "      <td>[player_1]</td>\n",
       "      <td>99999999</td>\n",
       "      <td>/home/sergei/ray_results/adversarial_tune_fine...</td>\n",
       "    </tr>\n",
       "    <tr>\n",
       "      <th>12</th>\n",
       "      <td>/home/sergei/ray_results/PPO_YouShallNotPassHu...</td>\n",
       "      <td>2.857143</td>\n",
       "      <td>0.000027</td>\n",
       "      <td>/scratch/sergei/better-adversarial-defenses/yo...</td>\n",
       "      <td>19.670799</td>\n",
       "      <td>128.32.175.10:6379</td>\n",
       "      <td>3446.377219</td>\n",
       "      <td>1980.057337</td>\n",
       "      <td>21693.268099</td>\n",
       "      <td>[player_1]</td>\n",
       "      <td>99999999</td>\n",
       "      <td>/home/sergei/ray_results/adversarial_tune_fine...</td>\n",
       "    </tr>\n",
       "    <tr>\n",
       "      <th>1</th>\n",
       "      <td>/home/sergei/ray_results/PPO_YouShallNotPassHu...</td>\n",
       "      <td>1.415929</td>\n",
       "      <td>0.000033</td>\n",
       "      <td>/scratch/sergei/better-adversarial-defenses/yo...</td>\n",
       "      <td>25.089852</td>\n",
       "      <td>128.32.175.10:6379</td>\n",
       "      <td>2038.906635</td>\n",
       "      <td>11850.547106</td>\n",
       "      <td>32255.177035</td>\n",
       "      <td>[player_1]</td>\n",
       "      <td>99999999</td>\n",
       "      <td>/home/sergei/ray_results/adversarial_tune_fine...</td>\n",
       "    </tr>\n",
       "    <tr>\n",
       "      <th>5</th>\n",
       "      <td>/home/sergei/ray_results/PPO_YouShallNotPassHu...</td>\n",
       "      <td>1.176471</td>\n",
       "      <td>0.000011</td>\n",
       "      <td>/scratch/sergei/better-adversarial-defenses/yo...</td>\n",
       "      <td>28.927827</td>\n",
       "      <td>128.32.175.10:6379</td>\n",
       "      <td>2410.891170</td>\n",
       "      <td>1158.166947</td>\n",
       "      <td>17172.811368</td>\n",
       "      <td>[player_1]</td>\n",
       "      <td>99999999</td>\n",
       "      <td>/home/sergei/ray_results/adversarial_tune_fine...</td>\n",
       "    </tr>\n",
       "    <tr>\n",
       "      <th>3</th>\n",
       "      <td>/home/sergei/ray_results/PPO_YouShallNotPassHu...</td>\n",
       "      <td>0.983607</td>\n",
       "      <td>0.000481</td>\n",
       "      <td>/scratch/sergei/better-adversarial-defenses/yo...</td>\n",
       "      <td>7.306473</td>\n",
       "      <td>128.32.175.10:6379</td>\n",
       "      <td>4352.367238</td>\n",
       "      <td>5480.487112</td>\n",
       "      <td>6411.628326</td>\n",
       "      <td>[player_1]</td>\n",
       "      <td>99999999</td>\n",
       "      <td>/home/sergei/ray_results/adversarial_tune_fine...</td>\n",
       "    </tr>\n",
       "    <tr>\n",
       "      <th>14</th>\n",
       "      <td>/home/sergei/ray_results/PPO_YouShallNotPassHu...</td>\n",
       "      <td>-0.899001</td>\n",
       "      <td>0.000090</td>\n",
       "      <td>/scratch/sergei/better-adversarial-defenses/yo...</td>\n",
       "      <td>20.631147</td>\n",
       "      <td>128.32.175.10:6379</td>\n",
       "      <td>2574.840923</td>\n",
       "      <td>22335.162076</td>\n",
       "      <td>128388.832132</td>\n",
       "      <td>[player_1]</td>\n",
       "      <td>99999999</td>\n",
       "      <td>/home/sergei/ray_results/adversarial_tune_fine...</td>\n",
       "    </tr>\n",
       "    <tr>\n",
       "      <th>8</th>\n",
       "      <td>/home/sergei/ray_results/PPO_YouShallNotPassHu...</td>\n",
       "      <td>-1.279070</td>\n",
       "      <td>0.000039</td>\n",
       "      <td>/scratch/sergei/better-adversarial-defenses/yo...</td>\n",
       "      <td>9.947342</td>\n",
       "      <td>128.32.175.10:6379</td>\n",
       "      <td>2198.059992</td>\n",
       "      <td>9531.807682</td>\n",
       "      <td>45689.262303</td>\n",
       "      <td>[player_1]</td>\n",
       "      <td>99999999</td>\n",
       "      <td>/home/sergei/ray_results/adversarial_tune_fine...</td>\n",
       "    </tr>\n",
       "    <tr>\n",
       "      <th>13</th>\n",
       "      <td>/home/sergei/ray_results/PPO_YouShallNotPassHu...</td>\n",
       "      <td>-2.741935</td>\n",
       "      <td>0.000119</td>\n",
       "      <td>/scratch/sergei/better-adversarial-defenses/yo...</td>\n",
       "      <td>26.298221</td>\n",
       "      <td>128.32.175.10:6379</td>\n",
       "      <td>4946.096491</td>\n",
       "      <td>1707.837889</td>\n",
       "      <td>3900.229389</td>\n",
       "      <td>[player_1]</td>\n",
       "      <td>99999999</td>\n",
       "      <td>/home/sergei/ray_results/adversarial_tune_fine...</td>\n",
       "    </tr>\n",
       "    <tr>\n",
       "      <th>0</th>\n",
       "      <td>/home/sergei/ray_results/PPO_YouShallNotPassHu...</td>\n",
       "      <td>-3.196347</td>\n",
       "      <td>0.000093</td>\n",
       "      <td>/scratch/sergei/better-adversarial-defenses/yo...</td>\n",
       "      <td>16.929951</td>\n",
       "      <td>128.32.175.10:6379</td>\n",
       "      <td>3495.092655</td>\n",
       "      <td>6173.560705</td>\n",
       "      <td>70224.558230</td>\n",
       "      <td>[player_1]</td>\n",
       "      <td>99999999</td>\n",
       "      <td>/home/sergei/ray_results/adversarial_tune_fine...</td>\n",
       "    </tr>\n",
       "    <tr>\n",
       "      <th>11</th>\n",
       "      <td>/home/sergei/ray_results/PPO_YouShallNotPassHu...</td>\n",
       "      <td>-3.551913</td>\n",
       "      <td>0.000996</td>\n",
       "      <td>/scratch/sergei/better-adversarial-defenses/yo...</td>\n",
       "      <td>18.064561</td>\n",
       "      <td>128.32.175.10:6379</td>\n",
       "      <td>2392.784713</td>\n",
       "      <td>11326.163423</td>\n",
       "      <td>21798.300845</td>\n",
       "      <td>[player_1]</td>\n",
       "      <td>99999999</td>\n",
       "      <td>/home/sergei/ray_results/adversarial_tune_fine...</td>\n",
       "    </tr>\n",
       "    <tr>\n",
       "      <th>10</th>\n",
       "      <td>/home/sergei/ray_results/PPO_YouShallNotPassHu...</td>\n",
       "      <td>-4.658754</td>\n",
       "      <td>0.000232</td>\n",
       "      <td>/scratch/sergei/better-adversarial-defenses/yo...</td>\n",
       "      <td>15.223365</td>\n",
       "      <td>128.32.175.10:6379</td>\n",
       "      <td>3346.262299</td>\n",
       "      <td>41833.115200</td>\n",
       "      <td>96501.623222</td>\n",
       "      <td>[player_1]</td>\n",
       "      <td>99999999</td>\n",
       "      <td>/home/sergei/ray_results/adversarial_tune_fine...</td>\n",
       "    </tr>\n",
       "    <tr>\n",
       "      <th>6</th>\n",
       "      <td>/home/sergei/ray_results/PPO_YouShallNotPassHu...</td>\n",
       "      <td>-4.915254</td>\n",
       "      <td>0.000881</td>\n",
       "      <td>/scratch/sergei/better-adversarial-defenses/yo...</td>\n",
       "      <td>23.502247</td>\n",
       "      <td>128.32.175.10:6379</td>\n",
       "      <td>4824.553304</td>\n",
       "      <td>2772.100257</td>\n",
       "      <td>15242.288564</td>\n",
       "      <td>[player_1]</td>\n",
       "      <td>99999999</td>\n",
       "      <td>/home/sergei/ray_results/adversarial_tune_fine...</td>\n",
       "    </tr>\n",
       "    <tr>\n",
       "      <th>4</th>\n",
       "      <td>/home/sergei/ray_results/PPO_YouShallNotPassHu...</td>\n",
       "      <td>-5.268390</td>\n",
       "      <td>0.000056</td>\n",
       "      <td>/scratch/sergei/better-adversarial-defenses/yo...</td>\n",
       "      <td>27.209945</td>\n",
       "      <td>128.32.175.10:6379</td>\n",
       "      <td>4045.560526</td>\n",
       "      <td>3188.953784</td>\n",
       "      <td>72327.239133</td>\n",
       "      <td>[player_1]</td>\n",
       "      <td>99999999</td>\n",
       "      <td>/home/sergei/ray_results/adversarial_tune_fine...</td>\n",
       "    </tr>\n",
       "    <tr>\n",
       "      <th>2</th>\n",
       "      <td>/home/sergei/ray_results/PPO_YouShallNotPassHu...</td>\n",
       "      <td>-8.857143</td>\n",
       "      <td>0.000016</td>\n",
       "      <td>/scratch/sergei/better-adversarial-defenses/yo...</td>\n",
       "      <td>7.684588</td>\n",
       "      <td>128.32.175.10:6379</td>\n",
       "      <td>4616.791233</td>\n",
       "      <td>44188.164327</td>\n",
       "      <td>52128.001709</td>\n",
       "      <td>[player_1]</td>\n",
       "      <td>99999999</td>\n",
       "      <td>/home/sergei/ray_results/adversarial_tune_fine...</td>\n",
       "    </tr>\n",
       "  </tbody>\n",
       "</table>\n",
       "</div>"
      ],
      "text/plain": [
       "                                     checkpoint_rllib  \\\n",
       "9   /home/sergei/ray_results/PPO_YouShallNotPassHu...   \n",
       "7   /home/sergei/ray_results/PPO_YouShallNotPassHu...   \n",
       "12  /home/sergei/ray_results/PPO_YouShallNotPassHu...   \n",
       "1   /home/sergei/ray_results/PPO_YouShallNotPassHu...   \n",
       "5   /home/sergei/ray_results/PPO_YouShallNotPassHu...   \n",
       "3   /home/sergei/ray_results/PPO_YouShallNotPassHu...   \n",
       "14  /home/sergei/ray_results/PPO_YouShallNotPassHu...   \n",
       "8   /home/sergei/ray_results/PPO_YouShallNotPassHu...   \n",
       "13  /home/sergei/ray_results/PPO_YouShallNotPassHu...   \n",
       "0   /home/sergei/ray_results/PPO_YouShallNotPassHu...   \n",
       "11  /home/sergei/ray_results/PPO_YouShallNotPassHu...   \n",
       "10  /home/sergei/ray_results/PPO_YouShallNotPassHu...   \n",
       "6   /home/sergei/ray_results/PPO_YouShallNotPassHu...   \n",
       "4   /home/sergei/ray_results/PPO_YouShallNotPassHu...   \n",
       "2   /home/sergei/ray_results/PPO_YouShallNotPassHu...   \n",
       "\n",
       "    policy_reward_mean/player_1  config/lr  \\\n",
       "9                      5.683453   0.000456   \n",
       "7                      3.837209   0.000755   \n",
       "12                     2.857143   0.000027   \n",
       "1                      1.415929   0.000033   \n",
       "5                      1.176471   0.000011   \n",
       "3                      0.983607   0.000481   \n",
       "14                    -0.899001   0.000090   \n",
       "8                     -1.279070   0.000039   \n",
       "13                    -2.741935   0.000119   \n",
       "0                     -3.196347   0.000093   \n",
       "11                    -3.551913   0.000996   \n",
       "10                    -4.658754   0.000232   \n",
       "6                     -4.915254   0.000881   \n",
       "4                     -5.268390   0.000056   \n",
       "2                     -8.857143   0.000016   \n",
       "\n",
       "                                 config/main_filename  config/num_sgd_iter  \\\n",
       "9   /scratch/sergei/better-adversarial-defenses/yo...             6.681216   \n",
       "7   /scratch/sergei/better-adversarial-defenses/yo...             5.562134   \n",
       "12  /scratch/sergei/better-adversarial-defenses/yo...            19.670799   \n",
       "1   /scratch/sergei/better-adversarial-defenses/yo...            25.089852   \n",
       "5   /scratch/sergei/better-adversarial-defenses/yo...            28.927827   \n",
       "3   /scratch/sergei/better-adversarial-defenses/yo...             7.306473   \n",
       "14  /scratch/sergei/better-adversarial-defenses/yo...            20.631147   \n",
       "8   /scratch/sergei/better-adversarial-defenses/yo...             9.947342   \n",
       "13  /scratch/sergei/better-adversarial-defenses/yo...            26.298221   \n",
       "0   /scratch/sergei/better-adversarial-defenses/yo...            16.929951   \n",
       "11  /scratch/sergei/better-adversarial-defenses/yo...            18.064561   \n",
       "10  /scratch/sergei/better-adversarial-defenses/yo...            15.223365   \n",
       "6   /scratch/sergei/better-adversarial-defenses/yo...            23.502247   \n",
       "4   /scratch/sergei/better-adversarial-defenses/yo...            27.209945   \n",
       "2   /scratch/sergei/better-adversarial-defenses/yo...             7.684588   \n",
       "\n",
       "   config/redis_address  config/rollout_fragment_length  \\\n",
       "9    128.32.175.10:6379                     4350.336182   \n",
       "7    128.32.175.10:6379                     2865.445789   \n",
       "12   128.32.175.10:6379                     3446.377219   \n",
       "1    128.32.175.10:6379                     2038.906635   \n",
       "5    128.32.175.10:6379                     2410.891170   \n",
       "3    128.32.175.10:6379                     4352.367238   \n",
       "14   128.32.175.10:6379                     2574.840923   \n",
       "8    128.32.175.10:6379                     2198.059992   \n",
       "13   128.32.175.10:6379                     4946.096491   \n",
       "0    128.32.175.10:6379                     3495.092655   \n",
       "11   128.32.175.10:6379                     2392.784713   \n",
       "10   128.32.175.10:6379                     3346.262299   \n",
       "6    128.32.175.10:6379                     4824.553304   \n",
       "4    128.32.175.10:6379                     4045.560526   \n",
       "2    128.32.175.10:6379                     4616.791233   \n",
       "\n",
       "    config/sgd_minibatch_size  config/train_batch_size config/train_policies  \\\n",
       "9                 8041.544873              8046.433100            [player_1]   \n",
       "7                22627.467405             42879.762832            [player_1]   \n",
       "12                1980.057337             21693.268099            [player_1]   \n",
       "1                11850.547106             32255.177035            [player_1]   \n",
       "5                 1158.166947             17172.811368            [player_1]   \n",
       "3                 5480.487112              6411.628326            [player_1]   \n",
       "14               22335.162076            128388.832132            [player_1]   \n",
       "8                 9531.807682             45689.262303            [player_1]   \n",
       "13                1707.837889              3900.229389            [player_1]   \n",
       "0                 6173.560705             70224.558230            [player_1]   \n",
       "11               11326.163423             21798.300845            [player_1]   \n",
       "10               41833.115200             96501.623222            [player_1]   \n",
       "6                 2772.100257             15242.288564            [player_1]   \n",
       "4                 3188.953784             72327.239133            [player_1]   \n",
       "2                44188.164327             52128.001709            [player_1]   \n",
       "\n",
       "    config/train_steps                                             logdir  \n",
       "9             99999999  /home/sergei/ray_results/adversarial_tune_fine...  \n",
       "7             99999999  /home/sergei/ray_results/adversarial_tune_fine...  \n",
       "12            99999999  /home/sergei/ray_results/adversarial_tune_fine...  \n",
       "1             99999999  /home/sergei/ray_results/adversarial_tune_fine...  \n",
       "5             99999999  /home/sergei/ray_results/adversarial_tune_fine...  \n",
       "3             99999999  /home/sergei/ray_results/adversarial_tune_fine...  \n",
       "14            99999999  /home/sergei/ray_results/adversarial_tune_fine...  \n",
       "8             99999999  /home/sergei/ray_results/adversarial_tune_fine...  \n",
       "13            99999999  /home/sergei/ray_results/adversarial_tune_fine...  \n",
       "0             99999999  /home/sergei/ray_results/adversarial_tune_fine...  \n",
       "11            99999999  /home/sergei/ray_results/adversarial_tune_fine...  \n",
       "10            99999999  /home/sergei/ray_results/adversarial_tune_fine...  \n",
       "6             99999999  /home/sergei/ray_results/adversarial_tune_fine...  \n",
       "4             99999999  /home/sergei/ray_results/adversarial_tune_fine...  \n",
       "2             99999999  /home/sergei/ray_results/adversarial_tune_fine...  "
      ]
     },
     "execution_count": 83,
     "metadata": {},
     "output_type": "execute_result"
    }
   ],
   "source": [
    "df"
   ]
  },
  {
   "cell_type": "code",
   "execution_count": 84,
   "metadata": {},
   "outputs": [
    {
     "name": "stdout",
     "output_type": "stream",
     "text": [
      "2143\n"
     ]
    },
    {
     "data": {
      "image/png": "[encoded data removed]",
      "text/plain": [
       "<Figure size 432x288 with 1 Axes>"
      ]
     },
     "metadata": {
      "needs_background": "light"
     },
     "output_type": "display_data"
    }
   ],
   "source": [
    "df_best = analysis.trial_dataframes[best_trial]\n",
    "rew = df_best[target]\n",
    "plt.plot(rew)\n",
    "print(np.argmax(rew))"
   ]
  },
  {
   "cell_type": "code",
   "execution_count": 93,
   "metadata": {},
   "outputs": [
    {
     "data": {
      "text/plain": [
       "'/home/sergei/ray_results/PPO_YouShallNotPassHumans-v0_rllib_2020-08-10_05-58-07a4_u7hun/checkpoint_2151/checkpoint-2151'"
      ]
     },
     "execution_count": 93,
     "metadata": {},
     "output_type": "execute_result"
    }
   ],
   "source": [
    "checkpoint = df_best.checkpoint_rllib.iloc[-2]\n",
    "checkpoint"
   ]
  },
  {
   "cell_type": "code",
   "execution_count": 110,
   "metadata": {},
   "outputs": [
    {
     "name": "stdout",
     "output_type": "stream",
     "text": [
      "2020-08-10 07:15:43,695\tINFO resource_spec.py:212 -- Starting Ray with 125.54 GiB memory available for workers and up to 57.8 GiB for objects. You can adjust these settings with ray.init(memory=<bytes>, object_store_memory=<bytes>).\n",
      "2020-08-10 07:15:43,850\tWARNING services.py:923 -- Redis failed to start, retrying now.\n",
      "2020-08-10 07:15:44,173\tWARNING services.py:923 -- Redis failed to start, retrying now.\n",
      "2020-08-10 07:15:45,182\tINFO services.py:1165 -- View the Ray dashboard at \u001b[1m\u001b[32mlocalhost:8266\u001b[39m\u001b[22m\n",
      "Args: Namespace(checkpoint='/home/sergei/ray_results/PPO_YouShallNotPassHumans-v0_rllib_2020-08-10_05-58-07a4_u7hun/checkpoint_2151/checkpoint-2151', load_normal=False, no_video=True, steps=50)\n",
      "Creating agent humanoid_blocker\n",
      "Reading agent XML from: /scratch/sergei/better-adversarial-defenses/multiagent-competition/gym_compete/new_envs/assets/humanoid_body.xml\n",
      "Creating agent humanoid\n",
      "Reading agent XML from: /scratch/sergei/better-adversarial-defenses/multiagent-competition/gym_compete/new_envs/assets/humanoid_body.xml\n",
      "Scene XML path: /scratch/sergei/better-adversarial-defenses/multiagent-competition/gym_compete/new_envs/assets/world_body.humanoid_body.humanoid_body.xml\n",
      "Created Scene with agents\n",
      "Creating env...\n",
      "Created env\n",
      "Creating agent humanoid_blocker\n",
      "Reading agent XML from: /scratch/sergei/better-adversarial-defenses/multiagent-competition/gym_compete/new_envs/assets/humanoid_body.xml\n",
      "Creating agent humanoid\n",
      "Reading agent XML from: /scratch/sergei/better-adversarial-defenses/multiagent-competition/gym_compete/new_envs/assets/humanoid_body.xml\n",
      "Scene XML path: /scratch/sergei/better-adversarial-defenses/multiagent-competition/gym_compete/new_envs/assets/world_body.humanoid_body.humanoid_body.xml\n",
      "Created Scene with agents\n",
      "Creating env...\n",
      "Created env\n",
      "Config {'env': 'YouShallNotPassHumans-v0_rllib', 'env_config': {'with_video': False}, 'use_gae': True, 'num_gpus': 0, 'batch_mode': 'complete_episodes', 'num_workers': 5, 'train_batch_size': 256, 'rollout_fragment_length': 200, 'multiagent': {'policies_to_train': [], 'policies': {'player_1': (<class 'ray.rllib.policy.tf_policy_template.PPOTFPolicy'>, Box(380,), Box(17,), {'model': {'use_lstm': False, 'fcnet_hiddens': [64, 64], 'fcnet_activation': 'tanh', 'free_log_std': True}, 'framework': 'tfe', 'observation_filter': 'MeanStdFilter'}), 'player_2': (<class 'ray.rllib.policy.tf_policy_template.PPOTFPolicy'>, Box(380,), Box(17,), {'model': {'custom_model': 'GymCompetePretrainedModel', 'custom_model_config': {'agent_id': 1, 'env_name': 'multicomp/YouShallNotPassHumans-v0', 'model_config': {}, 'name': 'model_1'}}, 'framework': 'tfe'})}, 'policy_mapping_fn': <function build_trainer_config.<locals>.select_policy at 0x7f1617cb2680>}, 'framework': 'tfe', 'lr': 0, 'vf_loss_coeff': 0.5, 'gamma': 0.995, 'sgd_minibatch_size': 256, 'num_sgd_iter': 1, 'tf_session_args': {'intra_op_parallelism_threads': 32, 'inter_op_parallelism_threads': 32, 'gpu_options': {'allow_growth': True}, 'log_device_placement': True, 'device_count': {'CPU': 32}, 'allow_soft_placement': True}, 'local_tf_session_args': {'intra_op_parallelism_threads': 32, 'inter_op_parallelism_threads': 32}, 'kl_coeff': 1.0}\n",
      "2020-08-10 07:15:47,511\tINFO trainer.py:582 -- Executing eagerly, with eager_tracing=False\n",
      "2020-08-10 07:15:47,512\tINFO trainer.py:612 -- Current log_level is WARN. For more information, set 'log_level': 'INFO' / 'DEBUG' or use the -v and -vv flags.\n",
      "Creating agent humanoid_blocker\n",
      "Reading agent XML from: /scratch/sergei/better-adversarial-defenses/multiagent-competition/gym_compete/new_envs/assets/humanoid_body.xml\n",
      "Creating agent humanoid\n",
      "Reading agent XML from: /scratch/sergei/better-adversarial-defenses/multiagent-competition/gym_compete/new_envs/assets/humanoid_body.xml\n",
      "Scene XML path: /scratch/sergei/better-adversarial-defenses/multiagent-competition/gym_compete/new_envs/assets/world_body.humanoid_body.humanoid_body.xml\n",
      "Created Scene with agents\n",
      "Creating env...\n",
      "Created env\n",
      "WARNING:tensorflow:\n",
      "The following Variables were used a Lambda layer's call (lambda), but\n",
      "are not present in its tracked objects:\n",
      "  <tf.Variable 'player_1/log_std:0' shape=(17,) dtype=float32>\n",
      "It is possible that this is intended behavior, but it is more likely\n",
      "an omission. This is a strong indication that this layer should be\n",
      "formulated as a subclassed Layer rather than a Lambda layer.\n",
      "WARNING:tensorflow:From /scratch/sergei/miniconda3/lib/python3.7/site-packages/ray/rllib/models/tf/tf_action_dist.py:234: to_float (from tensorflow.python.ops.math_ops) is deprecated and will be removed in a future version.\n",
      "Instructions for updating:\n",
      "Use `tf.cast` instead.\n",
      "Creating agent humanoid_blocker\n",
      "Reading agent XML from: /scratch/sergei/better-adversarial-defenses/multiagent-competition/gym_compete/new_envs/assets/humanoid_body.xml\n",
      "Creating agent humanoid\n",
      "Reading agent XML from: /scratch/sergei/better-adversarial-defenses/multiagent-competition/gym_compete/new_envs/assets/humanoid_body.xml\n",
      "Scene XML path: /scratch/sergei/better-adversarial-defenses/multiagent-competition/gym_compete/new_envs/assets/world_body.humanoid_body.humanoid_body.xml\n",
      "Created Scene with agents\n",
      "2020-08-10 07:15:49,342\tINFO trainable.py:423 -- Restored on 128.32.175.10 from checkpoint: /home/sergei/ray_results/PPO_YouShallNotPassHumans-v0_rllib_2020-08-10_05-58-07a4_u7hun/checkpoint_2151/checkpoint-2151\n",
      "2020-08-10 07:15:49,346\tINFO trainable.py:430 -- Current state after restoring: {'_iteration': 2151, '_timesteps_total': None, '_time_total': 308249.74160552025, '_episodes_total': 240251}\n",
      "  0%|                                                    | 0/50 [00:00<?, ?it/s]WARNING:tensorflow:From /scratch/sergei/miniconda3/lib/python3.7/site-packages/ray/rllib/policy/tf_policy.py:761: Variable.load (from tensorflow.python.ops.variables) is deprecated and will be removed in a future version.\n",
      "Instructions for updating:\n",
      "Prefer Variable.assign which has equivalent behavior in 2.X.\n",
      "[-10.0, -10.0, -10.0, 10.0, 10.0, -10.0, 10.0, -10.0, 10.0, -10.0]\n",
      "  2%|▉                                           | 1/50 [00:17<14:30, 17.77s/it][-10.0, -10.0, -10.0, 10.0, 10.0, -10.0, 10.0, 10.0, 10.0, -10.0, -10.0, -10.0, 10.0, 10.0, -10.0, 10.0, -10.0, 10.0, -10.0]\n",
      "  4%|█▊                                          | 2/50 [00:28<12:27, 15.57s/it][10.0, 10.0, 10.0, 10.0, -10.0, -10.0, 10.0, -10.0, 10.0, -10.0, -10.0, -10.0, -10.0, 10.0, 10.0, -10.0, 10.0, -10.0, 10.0, -10.0, -10.0, -10.0, -10.0, 10.0, 10.0, -10.0, 10.0, 10.0, 10.0]\n",
      "  6%|██▋                                         | 3/50 [00:37<10:46, 13.75s/it][-10.0, 10.0, -10.0, -10.0, 10.0, 10.0, 10.0, 10.0, -10.0, -10.0, -10.0, 10.0, 10.0, -10.0, 10.0, -10.0, 10.0, -10.0, -10.0, -10.0, -10.0, 10.0, 10.0, -10.0, 10.0, 10.0, 10.0, 10.0, 10.0, 10.0, 10.0, -10.0, -10.0, 10.0, -10.0, 10.0, -10.0]\n",
      "  8%|███▌                                        | 4/50 [00:44<08:58, 11.71s/it][10.0, 10.0, 10.0, 10.0, 10.0, -10.0, -10.0, -10.0, -10.0, -10.0, -10.0, -10.0, 10.0, 10.0, -10.0, 10.0, -10.0, 10.0, -10.0, -10.0, -10.0, -10.0, 10.0, 10.0, -10.0, 10.0, 10.0, 10.0, 10.0, 10.0, 10.0, 10.0, -10.0, -10.0, 10.0, -10.0, 10.0, -10.0, -10.0, 10.0, -10.0, -10.0, 10.0, 10.0, 10.0, 10.0]\n",
      " 10%|████▍                                       | 5/50 [00:54<08:21, 11.15s/it][-10.0, 10.0, 10.0, -10.0, 10.0, 10.0, 10.0, 10.0, -10.0, 10.0, 10.0, -10.0, -10.0, -10.0, -10.0, 10.0, 10.0, -10.0, 10.0, -10.0, 10.0, -10.0, -10.0, -10.0, -10.0, 10.0, 10.0, -10.0, 10.0, 10.0, 10.0, 10.0, 10.0, 10.0, 10.0, -10.0, -10.0, 10.0, -10.0, 10.0, -10.0, -10.0, 10.0, -10.0, -10.0, 10.0, 10.0, 10.0, 10.0, 10.0, 10.0, 10.0, 10.0, 10.0, -10.0, -10.0, -10.0, -10.0]\n",
      " 12%|█████▎                                      | 6/50 [01:04<07:55, 10.82s/it][10.0, 10.0, 10.0, 10.0, 10.0, 10.0, 10.0, 10.0, 10.0, -10.0, -10.0, -10.0, -10.0, 10.0, 10.0, -10.0, 10.0, -10.0, 10.0, -10.0, -10.0, -10.0, -10.0, 10.0, 10.0, -10.0, 10.0, 10.0, 10.0, 10.0, 10.0, 10.0, 10.0, -10.0, -10.0, 10.0, -10.0, 10.0, -10.0, -10.0, 10.0, -10.0, -10.0, 10.0, 10.0, 10.0, 10.0, 10.0, 10.0, 10.0, 10.0, 10.0, -10.0, -10.0, -10.0, -10.0, -10.0, 10.0, 10.0, -10.0, 10.0, 10.0, 10.0, 10.0, -10.0, 10.0, 10.0, -10.0]\n",
      " 14%|██████▏                                     | 7/50 [01:13<07:20, 10.24s/it][10.0, 10.0, 10.0, 10.0, 10.0, 10.0, 10.0, -10.0, 10.0, 10.0, -10.0, -10.0, -10.0, 10.0, 10.0, -10.0, 10.0, -10.0, 10.0, -10.0, -10.0, -10.0, -10.0, 10.0, 10.0, -10.0, 10.0, 10.0, 10.0, 10.0, 10.0, 10.0, 10.0, -10.0, -10.0, 10.0, -10.0, 10.0, -10.0, -10.0, 10.0, -10.0, -10.0, 10.0, 10.0, 10.0, 10.0, 10.0, 10.0, 10.0, 10.0, 10.0, -10.0, -10.0, -10.0, -10.0, -10.0, 10.0, 10.0, -10.0, 10.0, 10.0, 10.0, 10.0, -10.0, 10.0, 10.0, -10.0, 10.0, 10.0, 10.0, 10.0, 10.0, 10.0, 10.0, 10.0, 10.0, -10.0]\n",
      " 16%|███████                                     | 8/50 [01:22<06:53,  9.84s/it][10.0, 10.0, 10.0, 10.0, 10.0, 10.0, 10.0, 10.0, -10.0, 10.0, -10.0, -10.0, -10.0, 10.0, 10.0, -10.0, 10.0, -10.0, 10.0, -10.0, -10.0, -10.0, -10.0, 10.0, 10.0, -10.0, 10.0, 10.0, 10.0, 10.0, 10.0, 10.0, 10.0, -10.0, -10.0, 10.0, -10.0, 10.0, -10.0, -10.0, 10.0, -10.0, -10.0, 10.0, 10.0, 10.0, 10.0, 10.0, 10.0, 10.0, 10.0, 10.0, -10.0, -10.0, -10.0, -10.0, -10.0, 10.0, 10.0, -10.0, 10.0, 10.0, 10.0, 10.0, -10.0, 10.0, 10.0, -10.0, 10.0, 10.0, 10.0, 10.0, 10.0, 10.0, 10.0, 10.0, 10.0, -10.0, 10.0, 10.0, 10.0, 10.0, 10.0, 10.0, 10.0, -10.0, 10.0, 10.0]\n",
      " 18%|███████▉                                    | 9/50 [01:30<06:23,  9.36s/it][10.0, 10.0, -10.0, 10.0, 10.0, -10.0, 10.0, 10.0, 10.0, 10.0, 10.0, 10.0, -10.0, -10.0, -10.0, 10.0, 10.0, -10.0, 10.0, -10.0, 10.0, -10.0, -10.0, -10.0, -10.0, 10.0, 10.0, -10.0, 10.0, 10.0, 10.0, 10.0, 10.0, 10.0, 10.0, -10.0, -10.0, 10.0, -10.0, 10.0, -10.0, -10.0, 10.0, -10.0, -10.0, 10.0, 10.0, 10.0, 10.0, 10.0, 10.0, 10.0, 10.0, 10.0, -10.0, -10.0, -10.0, -10.0, -10.0, 10.0, 10.0, -10.0, 10.0, 10.0, 10.0, 10.0, -10.0, 10.0, 10.0, -10.0, 10.0, 10.0, 10.0, 10.0, 10.0, 10.0, 10.0, 10.0, 10.0, -10.0, 10.0, 10.0, 10.0, 10.0, 10.0, 10.0, 10.0, -10.0, 10.0, 10.0, 10.0, 10.0, 10.0, 10.0, 10.0, 10.0, 10.0, 10.0, -10.0, 10.0]\n",
      " 20%|████████▌                                  | 10/50 [01:40<06:26,  9.67s/it][10.0, 10.0, 10.0, 10.0, 10.0, 10.0, -10.0, 10.0, 10.0, 10.0, 10.0, 10.0, 10.0, 10.0, -10.0, 10.0, 10.0, 10.0, 10.0, 10.0, 10.0, 10.0, -10.0, -10.0, 10.0, -10.0, 10.0, -10.0, -10.0, 10.0, -10.0, -10.0, 10.0, 10.0, 10.0, 10.0, 10.0, 10.0, 10.0, 10.0, 10.0, -10.0, -10.0, -10.0, -10.0, -10.0, 10.0, 10.0, -10.0, 10.0, 10.0, 10.0, 10.0, -10.0, 10.0, 10.0, -10.0, 10.0, 10.0, 10.0, 10.0, 10.0, 10.0, 10.0, 10.0, 10.0, -10.0, 10.0, 10.0, 10.0, 10.0, 10.0, 10.0, 10.0, -10.0, 10.0, 10.0, 10.0, 10.0, 10.0, 10.0, 10.0, 10.0, 10.0, 10.0, -10.0, 10.0, 10.0, 10.0, -10.0, 10.0, 10.0, -10.0, 10.0, 10.0, 10.0, 10.0, 10.0, 10.0, -10.0]\n",
      " 22%|█████████▍                                 | 11/50 [01:48<05:54,  9.09s/it][10.0, -10.0, -10.0, -10.0, 10.0, 10.0, 10.0, 10.0, 10.0, 10.0, -10.0, -10.0, 10.0, -10.0, 10.0, -10.0, -10.0, 10.0, -10.0, -10.0, 10.0, 10.0, 10.0, 10.0, 10.0, 10.0, 10.0, 10.0, 10.0, -10.0, -10.0, -10.0, -10.0, -10.0, 10.0, 10.0, -10.0, 10.0, 10.0, 10.0, 10.0, -10.0, 10.0, 10.0, -10.0, 10.0, 10.0, 10.0, 10.0, 10.0, 10.0, 10.0, 10.0, 10.0, -10.0, 10.0, 10.0, 10.0, 10.0, 10.0, 10.0, 10.0, -10.0, 10.0, 10.0, 10.0, 10.0, 10.0, 10.0, 10.0, 10.0, 10.0, 10.0, -10.0, 10.0, 10.0, 10.0, -10.0, 10.0, 10.0, -10.0, 10.0, 10.0, 10.0, 10.0, 10.0, 10.0, -10.0, 10.0, 10.0, 10.0, 10.0, 10.0, 10.0, -10.0, 10.0, 10.0, 10.0, 10.0, 10.0]\n",
      " 24%|██████████▎                                | 12/50 [01:56<05:28,  8.64s/it][10.0, 10.0, 10.0, 10.0, 10.0, -10.0, 10.0, 10.0, 10.0, 10.0, 10.0, 10.0, 10.0, 10.0, 10.0, 10.0, 10.0, 10.0, 10.0, 10.0, -10.0, -10.0, -10.0, -10.0, -10.0, 10.0, 10.0, -10.0, 10.0, 10.0, 10.0, 10.0, -10.0, 10.0, 10.0, -10.0, 10.0, 10.0, 10.0, 10.0, 10.0, 10.0, 10.0, 10.0, 10.0, -10.0, 10.0, 10.0, 10.0, 10.0, 10.0, 10.0, 10.0, -10.0, 10.0, 10.0, 10.0, 10.0, 10.0, 10.0, 10.0, 10.0, 10.0, 10.0, -10.0, 10.0, 10.0, 10.0, -10.0, 10.0, 10.0, -10.0, 10.0, 10.0, 10.0, 10.0, 10.0, 10.0, -10.0, 10.0, 10.0, 10.0, 10.0, 10.0, 10.0, -10.0, 10.0, 10.0, 10.0, 10.0, 10.0, 10.0, -10.0, -10.0, -10.0, 10.0, 10.0, 10.0, 10.0, 10.0]\n",
      " 26%|███████████▏                               | 13/50 [02:05<05:27,  8.86s/it][-10.0, 10.0, 10.0, -10.0, -10.0, 10.0, 10.0, 10.0, 10.0, 10.0, -10.0, -10.0, -10.0, -10.0, 10.0, 10.0, -10.0, 10.0, 10.0, 10.0, 10.0, -10.0, 10.0, 10.0, -10.0, 10.0, 10.0, 10.0, 10.0, 10.0, 10.0, 10.0, 10.0, 10.0, -10.0, 10.0, 10.0, 10.0, 10.0, 10.0, 10.0, 10.0, -10.0, 10.0, 10.0, 10.0, 10.0, 10.0, 10.0, 10.0, 10.0, 10.0, 10.0, -10.0, 10.0, 10.0, 10.0, -10.0, 10.0, 10.0, -10.0, 10.0, 10.0, 10.0, 10.0, 10.0, 10.0, -10.0, 10.0, 10.0, 10.0, 10.0, 10.0, 10.0, -10.0, 10.0, 10.0, 10.0, 10.0, 10.0, 10.0, -10.0, -10.0, -10.0, 10.0, 10.0, 10.0, 10.0, 10.0, 10.0, 10.0, 10.0, 10.0, 10.0, -10.0, 10.0, 10.0, 10.0, 10.0, 10.0]\n",
      " 28%|████████████                               | 14/50 [02:15<05:33,  9.25s/it][10.0, -10.0, -10.0, 10.0, -10.0, 10.0, -10.0, 10.0, -10.0, 10.0, 10.0, -10.0, 10.0, 10.0, -10.0, 10.0, 10.0, 10.0, 10.0, 10.0, 10.0, 10.0, 10.0, 10.0, -10.0, 10.0, 10.0, 10.0, 10.0, 10.0, 10.0, 10.0, -10.0, 10.0, 10.0, 10.0, 10.0, 10.0, 10.0, 10.0, 10.0, 10.0, 10.0, -10.0, 10.0, 10.0, 10.0, -10.0, 10.0, 10.0, -10.0, 10.0, 10.0, 10.0, 10.0, 10.0, 10.0, -10.0, 10.0, 10.0, 10.0, 10.0, 10.0, 10.0, -10.0, 10.0, 10.0, 10.0, 10.0, 10.0, 10.0, -10.0, -10.0, -10.0, 10.0, 10.0, 10.0, 10.0, 10.0, 10.0, 10.0, 10.0, 10.0, 10.0, -10.0, 10.0, 10.0, 10.0, 10.0, 10.0, -10.0, 10.0, 10.0, -10.0, -10.0, 10.0, 10.0, 10.0, 10.0, 10.0]\n",
      " 30%|████████████▉                              | 15/50 [02:24<05:21,  9.19s/it][-10.0, -10.0, 10.0, 10.0, -10.0, 10.0, 10.0, 10.0, -10.0, 10.0, 10.0, 10.0, 10.0, 10.0, 10.0, -10.0, 10.0, 10.0, 10.0, 10.0, 10.0, 10.0, 10.0, -10.0, 10.0, 10.0, 10.0, 10.0, 10.0, 10.0, 10.0, 10.0, 10.0, 10.0, -10.0, 10.0, 10.0, 10.0, -10.0, 10.0, 10.0, -10.0, 10.0, 10.0, 10.0, 10.0, 10.0, 10.0, -10.0, 10.0, 10.0, 10.0, 10.0, 10.0, 10.0, -10.0, 10.0, 10.0, 10.0, 10.0, 10.0, 10.0, -10.0, -10.0, -10.0, 10.0, 10.0, 10.0, 10.0, 10.0, 10.0, 10.0, 10.0, 10.0, 10.0, -10.0, 10.0, 10.0, 10.0, 10.0, 10.0, -10.0, 10.0, 10.0, -10.0, -10.0, 10.0, 10.0, 10.0, 10.0, 10.0, 10.0, -10.0, -10.0, 10.0, -10.0, 10.0, -10.0, 10.0, -10.0]\n",
      " 32%|█████████████▊                             | 16/50 [02:35<05:26,  9.61s/it][10.0, 10.0, 10.0, -10.0, 10.0, 10.0, -10.0, 10.0, 10.0, 10.0, 10.0, 10.0, 10.0, 10.0, -10.0, 10.0, 10.0, 10.0, 10.0, 10.0, 10.0, 10.0, 10.0, 10.0, 10.0, -10.0, 10.0, 10.0, 10.0, -10.0, 10.0, 10.0, -10.0, 10.0, 10.0, 10.0, 10.0, 10.0, 10.0, -10.0, 10.0, 10.0, 10.0, 10.0, 10.0, 10.0, -10.0, 10.0, 10.0, 10.0, 10.0, 10.0, 10.0, -10.0, -10.0, -10.0, 10.0, 10.0, 10.0, 10.0, 10.0, 10.0, 10.0, 10.0, 10.0, 10.0, -10.0, 10.0, 10.0, 10.0, 10.0, 10.0, -10.0, 10.0, 10.0, -10.0, -10.0, 10.0, 10.0, 10.0, 10.0, 10.0, 10.0, -10.0, -10.0, 10.0, -10.0, 10.0, -10.0, 10.0, -10.0, -10.0, -10.0, 10.0, 10.0, -10.0, 10.0, 10.0, 10.0, -10.0]\n",
      " 34%|██████████████▌                            | 17/50 [02:44<05:14,  9.53s/it][-10.0, 10.0, -10.0, 10.0, 10.0, 10.0, 10.0, 10.0, 10.0, -10.0, 10.0, 10.0, 10.0, 10.0, 10.0, -10.0, 10.0, 10.0, 10.0, -10.0, 10.0, 10.0, -10.0, 10.0, 10.0, 10.0, 10.0, 10.0, 10.0, -10.0, 10.0, 10.0, 10.0, 10.0, 10.0, 10.0, -10.0, 10.0, 10.0, 10.0, 10.0, 10.0, 10.0, -10.0, -10.0, -10.0, 10.0, 10.0, 10.0, 10.0, 10.0, 10.0, 10.0, 10.0, 10.0, 10.0, -10.0, 10.0, 10.0, 10.0, 10.0, 10.0, -10.0, 10.0, 10.0, -10.0, -10.0, 10.0, 10.0, 10.0, 10.0, 10.0, 10.0, -10.0, -10.0, 10.0, -10.0, 10.0, -10.0, 10.0, -10.0, -10.0, -10.0, 10.0, 10.0, -10.0, 10.0, 10.0, 10.0, -10.0, 10.0, 10.0, 10.0, -10.0, 10.0, 10.0, -10.0, 10.0, 10.0, 10.0]\n",
      " 36%|███████████████▍                           | 18/50 [02:54<05:06,  9.57s/it][-10.0, -10.0, 10.0, -10.0, 10.0, 10.0, -10.0, -10.0, -10.0, 10.0, 10.0, 10.0, -10.0, 10.0, 10.0, 10.0, 10.0, 10.0, 10.0, -10.0, 10.0, 10.0, 10.0, 10.0, 10.0, 10.0, -10.0, 10.0, 10.0, 10.0, 10.0, 10.0, 10.0, -10.0, -10.0, -10.0, 10.0, 10.0, 10.0, 10.0, 10.0, 10.0, 10.0, 10.0, 10.0, 10.0, -10.0, 10.0, 10.0, 10.0, 10.0, 10.0, -10.0, 10.0, 10.0, -10.0, -10.0, 10.0, 10.0, 10.0, 10.0, 10.0, 10.0, -10.0, -10.0, 10.0, -10.0, 10.0, -10.0, 10.0, -10.0, -10.0, -10.0, 10.0, 10.0, -10.0, 10.0, 10.0, 10.0, -10.0, 10.0, 10.0, 10.0, -10.0, 10.0, 10.0, -10.0, 10.0, 10.0, 10.0, -10.0, 10.0, -10.0, 10.0, 10.0, 10.0, 10.0, 10.0, 10.0, -10.0]\n",
      " 38%|████████████████▎                          | 19/50 [03:05<05:09,  9.99s/it][10.0, -10.0, 10.0, 10.0, -10.0, -10.0, 10.0, -10.0, 10.0, -10.0, 10.0, 10.0, 10.0, 10.0, 10.0, 10.0, -10.0, 10.0, 10.0, 10.0, 10.0, 10.0, 10.0, -10.0, -10.0, -10.0, 10.0, 10.0, 10.0, 10.0, 10.0, 10.0, 10.0, 10.0, 10.0, 10.0, -10.0, 10.0, 10.0, 10.0, 10.0, 10.0, -10.0, 10.0, 10.0, -10.0, -10.0, 10.0, 10.0, 10.0, 10.0, 10.0, 10.0, -10.0, -10.0, 10.0, -10.0, 10.0, -10.0, 10.0, -10.0, -10.0, -10.0, 10.0, 10.0, -10.0, 10.0, 10.0, 10.0, -10.0, 10.0, 10.0, 10.0, -10.0, 10.0, 10.0, -10.0, 10.0, 10.0, 10.0, -10.0, 10.0, -10.0, 10.0, 10.0, 10.0, 10.0, 10.0, 10.0, -10.0, -10.0, -10.0, 10.0, -10.0, 10.0, 10.0, -10.0, -10.0, -10.0, 10.0]\n",
      " 40%|█████████████████▏                         | 20/50 [03:14<04:54,  9.82s/it][10.0, -10.0, 10.0, 10.0, 10.0, 10.0, 10.0, 10.0, -10.0, 10.0, 10.0, 10.0, 10.0, 10.0, 10.0, -10.0, -10.0, -10.0, 10.0, 10.0, 10.0, 10.0, 10.0, 10.0, 10.0, 10.0, 10.0, 10.0, -10.0, 10.0, 10.0, 10.0, 10.0, 10.0, -10.0, 10.0, 10.0, -10.0, -10.0, 10.0, 10.0, 10.0, 10.0, 10.0, 10.0, -10.0, -10.0, 10.0, -10.0, 10.0, -10.0, 10.0, -10.0, -10.0, -10.0, 10.0, 10.0, -10.0, 10.0, 10.0, 10.0, -10.0, 10.0, 10.0, 10.0, -10.0, 10.0, 10.0, -10.0, 10.0, 10.0, 10.0, -10.0, 10.0, -10.0, 10.0, 10.0, 10.0, 10.0, 10.0, 10.0, -10.0, -10.0, -10.0, 10.0, -10.0, 10.0, 10.0, -10.0, -10.0, -10.0, 10.0, 10.0, -10.0, 10.0, 10.0, -10.0, -10.0, 10.0, -10.0]\n",
      " 42%|██████████████████                         | 21/50 [03:22<04:23,  9.08s/it][10.0, -10.0, 10.0, -10.0, 10.0, -10.0, -10.0, -10.0, -10.0, 10.0, 10.0, 10.0, 10.0, 10.0, 10.0, 10.0, 10.0, 10.0, 10.0, -10.0, 10.0, 10.0, 10.0, 10.0, 10.0, -10.0, 10.0, 10.0, -10.0, -10.0, 10.0, 10.0, 10.0, 10.0, 10.0, 10.0, -10.0, -10.0, 10.0, -10.0, 10.0, -10.0, 10.0, -10.0, -10.0, -10.0, 10.0, 10.0, -10.0, 10.0, 10.0, 10.0, -10.0, 10.0, 10.0, 10.0, -10.0, 10.0, 10.0, -10.0, 10.0, 10.0, 10.0, -10.0, 10.0, -10.0, 10.0, 10.0, 10.0, 10.0, 10.0, 10.0, -10.0, -10.0, -10.0, 10.0, -10.0, 10.0, 10.0, -10.0, -10.0, -10.0, 10.0, 10.0, -10.0, 10.0, 10.0, -10.0, -10.0, 10.0, -10.0, 10.0, -10.0, 10.0, 10.0, 10.0, 10.0, 10.0, 10.0, -10.0]\n",
      " 44%|██████████████████▉                        | 22/50 [03:32<04:23,  9.41s/it][-10.0, -10.0, -10.0, 10.0, 10.0, -10.0, -10.0, -10.0, 10.0, 10.0, -10.0, 10.0, 10.0, 10.0, 10.0, 10.0, -10.0, 10.0, 10.0, -10.0, -10.0, 10.0, 10.0, 10.0, 10.0, 10.0, 10.0, -10.0, -10.0, 10.0, -10.0, 10.0, -10.0, 10.0, -10.0, -10.0, -10.0, 10.0, 10.0, -10.0, 10.0, 10.0, 10.0, -10.0, 10.0, 10.0, 10.0, -10.0, 10.0, 10.0, -10.0, 10.0, 10.0, 10.0, -10.0, 10.0, -10.0, 10.0, 10.0, 10.0, 10.0, 10.0, 10.0, -10.0, -10.0, -10.0, 10.0, -10.0, 10.0, 10.0, -10.0, -10.0, -10.0, 10.0, 10.0, -10.0, 10.0, 10.0, -10.0, -10.0, 10.0, -10.0, 10.0, -10.0, 10.0, 10.0, 10.0, 10.0, 10.0, 10.0, -10.0, 10.0, -10.0, 10.0, -10.0, 10.0, -10.0, -10.0, -10.0, -10.0]\n",
      " 46%|███████████████████▊                       | 23/50 [03:42<04:19,  9.63s/it][10.0, -10.0, 10.0, -10.0, 10.0, 10.0, 10.0, -10.0, -10.0, -10.0, -10.0, -10.0, 10.0, 10.0, 10.0, 10.0, 10.0, 10.0, -10.0, -10.0, 10.0, -10.0, 10.0, -10.0, 10.0, -10.0, -10.0, -10.0, 10.0, 10.0, -10.0, 10.0, 10.0, 10.0, -10.0, 10.0, 10.0, 10.0, -10.0, 10.0, 10.0, -10.0, 10.0, 10.0, 10.0, -10.0, 10.0, -10.0, 10.0, 10.0, 10.0, 10.0, 10.0, 10.0, -10.0, -10.0, -10.0, 10.0, -10.0, 10.0, 10.0, -10.0, -10.0, -10.0, 10.0, 10.0, -10.0, 10.0, 10.0, -10.0, -10.0, 10.0, -10.0, 10.0, -10.0, 10.0, 10.0, 10.0, 10.0, 10.0, 10.0, -10.0, 10.0, -10.0, 10.0, -10.0, 10.0, -10.0, -10.0, -10.0, -10.0, -10.0, -10.0, -10.0, 10.0, 10.0, -10.0, -10.0, -10.0, 10.0]\n",
      " 48%|████████████████████▋                      | 24/50 [03:52<04:13,  9.73s/it][10.0, 10.0, 10.0, 10.0, 10.0, 10.0, 10.0, -10.0, -10.0, 10.0, -10.0, -10.0, 10.0, -10.0, 10.0, -10.0, -10.0, -10.0, 10.0, 10.0, -10.0, 10.0, 10.0, 10.0, -10.0, 10.0, 10.0, 10.0, -10.0, 10.0, 10.0, -10.0, 10.0, 10.0, 10.0, -10.0, 10.0, -10.0, 10.0, 10.0, 10.0, 10.0, 10.0, 10.0, -10.0, -10.0, -10.0, 10.0, -10.0, 10.0, 10.0, -10.0, -10.0, -10.0, 10.0, 10.0, -10.0, 10.0, 10.0, -10.0, -10.0, 10.0, -10.0, 10.0, -10.0, 10.0, 10.0, 10.0, 10.0, 10.0, 10.0, -10.0, 10.0, -10.0, 10.0, -10.0, 10.0, -10.0, -10.0, -10.0, -10.0, -10.0, -10.0, -10.0, 10.0, 10.0, -10.0, -10.0, -10.0, 10.0, 10.0, -10.0, 10.0, -10.0, 10.0, 10.0, 10.0, -10.0, -10.0, -10.0]\n",
      " 50%|█████████████████████▌                     | 25/50 [04:02<04:03,  9.73s/it][10.0, 10.0, 10.0, 10.0, -10.0, 10.0, -10.0, 10.0, 10.0, -10.0, 10.0, 10.0, -10.0, 10.0, 10.0, 10.0, -10.0, 10.0, 10.0, -10.0, 10.0, 10.0, 10.0, -10.0, 10.0, -10.0, 10.0, 10.0, 10.0, 10.0, 10.0, 10.0, -10.0, -10.0, -10.0, 10.0, -10.0, 10.0, 10.0, -10.0, -10.0, -10.0, 10.0, 10.0, -10.0, 10.0, 10.0, -10.0, -10.0, 10.0, -10.0, 10.0, -10.0, 10.0, 10.0, 10.0, 10.0, 10.0, 10.0, -10.0, 10.0, -10.0, 10.0, -10.0, 10.0, -10.0, -10.0, -10.0, -10.0, -10.0, -10.0, -10.0, 10.0, 10.0, -10.0, -10.0, -10.0, 10.0, 10.0, -10.0, 10.0, -10.0, 10.0, 10.0, 10.0, -10.0, -10.0, -10.0, 10.0, 10.0, 10.0, 10.0, 10.0, 10.0, 10.0, -10.0, -10.0, 10.0, -10.0, -10.0]\n",
      " 52%|██████████████████████▎                    | 26/50 [04:11<03:46,  9.44s/it][10.0, -10.0, -10.0, -10.0, 10.0, 10.0, 10.0, 10.0, 10.0, -10.0, 10.0, 10.0, 10.0, -10.0, 10.0, -10.0, 10.0, 10.0, 10.0, 10.0, 10.0, 10.0, -10.0, -10.0, -10.0, 10.0, -10.0, 10.0, 10.0, -10.0, -10.0, -10.0, 10.0, 10.0, -10.0, 10.0, 10.0, -10.0, -10.0, 10.0, -10.0, 10.0, -10.0, 10.0, 10.0, 10.0, 10.0, 10.0, 10.0, -10.0, 10.0, -10.0, 10.0, -10.0, 10.0, -10.0, -10.0, -10.0, -10.0, -10.0, -10.0, -10.0, 10.0, 10.0, -10.0, -10.0, -10.0, 10.0, 10.0, -10.0, 10.0, -10.0, 10.0, 10.0, 10.0, -10.0, -10.0, -10.0, 10.0, 10.0, 10.0, 10.0, 10.0, 10.0, 10.0, -10.0, -10.0, 10.0, -10.0, -10.0, 10.0, 10.0, 10.0, 10.0, -10.0, 10.0, -10.0, 10.0, 10.0, -10.0]\n",
      " 54%|███████████████████████▏                   | 27/50 [04:19<03:31,  9.20s/it][10.0, 10.0, 10.0, -10.0, 10.0, 10.0, 10.0, 10.0, -10.0, -10.0, 10.0, -10.0, 10.0, -10.0, -10.0, -10.0, 10.0, -10.0, 10.0, 10.0, -10.0, -10.0, -10.0, 10.0, 10.0, -10.0, 10.0, 10.0, -10.0, -10.0, 10.0, -10.0, 10.0, -10.0, 10.0, 10.0, 10.0, 10.0, 10.0, 10.0, -10.0, 10.0, -10.0, 10.0, -10.0, 10.0, -10.0, -10.0, -10.0, -10.0, -10.0, -10.0, -10.0, 10.0, 10.0, -10.0, -10.0, -10.0, 10.0, 10.0, -10.0, 10.0, -10.0, 10.0, 10.0, 10.0, -10.0, -10.0, -10.0, 10.0, 10.0, 10.0, 10.0, 10.0, 10.0, 10.0, -10.0, -10.0, 10.0, -10.0, -10.0, 10.0, 10.0, 10.0, 10.0, -10.0, 10.0, -10.0, 10.0, 10.0, -10.0, 10.0, -10.0, -10.0, -10.0, 10.0, 10.0, 10.0, 10.0, 10.0]\n",
      " 56%|████████████████████████                   | 28/50 [04:30<03:30,  9.58s/it][10.0, 10.0, 10.0, -10.0, 10.0, 10.0, -10.0, 10.0, 10.0, 10.0, -10.0, 10.0, 10.0, -10.0, 10.0, 10.0, -10.0, -10.0, 10.0, -10.0, 10.0, -10.0, 10.0, 10.0, 10.0, 10.0, 10.0, 10.0, -10.0, 10.0, -10.0, 10.0, -10.0, 10.0, -10.0, -10.0, -10.0, -10.0, -10.0, -10.0, -10.0, 10.0, 10.0, -10.0, -10.0, -10.0, 10.0, 10.0, -10.0, 10.0, -10.0, 10.0, 10.0, 10.0, -10.0, -10.0, -10.0, 10.0, 10.0, 10.0, 10.0, 10.0, 10.0, 10.0, -10.0, -10.0, 10.0, -10.0, -10.0, 10.0, 10.0, 10.0, 10.0, -10.0, 10.0, -10.0, 10.0, 10.0, -10.0, 10.0, -10.0, -10.0, -10.0, 10.0, 10.0, 10.0, 10.0, 10.0, 10.0, 10.0, 10.0, -10.0, 10.0, 10.0, 10.0, 10.0, -10.0, -10.0, 10.0, -10.0]\n",
      " 58%|████████████████████████▉                  | 29/50 [04:39<03:17,  9.42s/it][10.0, -10.0, 10.0, 10.0, -10.0, -10.0, 10.0, 10.0, 10.0, 10.0, -10.0, 10.0, 10.0, 10.0, 10.0, 10.0, 10.0, -10.0, 10.0, -10.0, 10.0, -10.0, 10.0, -10.0, -10.0, -10.0, -10.0, -10.0, -10.0, -10.0, 10.0, 10.0, -10.0, -10.0, -10.0, 10.0, 10.0, -10.0, 10.0, -10.0, 10.0, 10.0, 10.0, -10.0, -10.0, -10.0, 10.0, 10.0, 10.0, 10.0, 10.0, 10.0, 10.0, -10.0, -10.0, 10.0, -10.0, -10.0, 10.0, 10.0, 10.0, 10.0, -10.0, 10.0, -10.0, 10.0, 10.0, -10.0, 10.0, -10.0, -10.0, -10.0, 10.0, 10.0, 10.0, 10.0, 10.0, 10.0, 10.0, 10.0, -10.0, 10.0, 10.0, 10.0, 10.0, -10.0, -10.0, 10.0, -10.0, 10.0, 10.0, 10.0, -10.0, 10.0, 10.0, -10.0, 10.0, 10.0, 10.0, -10.0]\n",
      " 60%|█████████████████████████▊                 | 30/50 [04:50<03:19,  9.95s/it][10.0, -10.0, 10.0, 10.0, 10.0, 10.0, -10.0, 10.0, 10.0, 10.0, 10.0, 10.0, -10.0, 10.0, -10.0, -10.0, -10.0, -10.0, -10.0, -10.0, -10.0, 10.0, 10.0, -10.0, -10.0, -10.0, 10.0, 10.0, -10.0, 10.0, -10.0, 10.0, 10.0, 10.0, -10.0, -10.0, -10.0, 10.0, 10.0, 10.0, 10.0, 10.0, 10.0, 10.0, -10.0, -10.0, 10.0, -10.0, -10.0, 10.0, 10.0, 10.0, 10.0, -10.0, 10.0, -10.0, 10.0, 10.0, -10.0, 10.0, -10.0, -10.0, -10.0, 10.0, 10.0, 10.0, 10.0, 10.0, 10.0, 10.0, 10.0, -10.0, 10.0, 10.0, 10.0, 10.0, -10.0, -10.0, 10.0, -10.0, 10.0, 10.0, 10.0, -10.0, 10.0, 10.0, -10.0, 10.0, 10.0, 10.0, -10.0, 10.0, -10.0, 10.0, 10.0, -10.0, -10.0, 10.0, 10.0, 10.0]\n",
      " 62%|██████████████████████████▋                | 31/50 [05:01<03:18, 10.43s/it][10.0, 10.0, -10.0, -10.0, 10.0, 10.0, -10.0, 10.0, 10.0, -10.0, 10.0, 10.0, -10.0, -10.0, -10.0, 10.0, 10.0, -10.0, 10.0, -10.0, 10.0, 10.0, 10.0, -10.0, -10.0, -10.0, 10.0, 10.0, 10.0, 10.0, 10.0, 10.0, 10.0, -10.0, -10.0, 10.0, -10.0, -10.0, 10.0, 10.0, 10.0, 10.0, -10.0, 10.0, -10.0, 10.0, 10.0, -10.0, 10.0, -10.0, -10.0, -10.0, 10.0, 10.0, 10.0, 10.0, 10.0, 10.0, 10.0, 10.0, -10.0, 10.0, 10.0, 10.0, 10.0, -10.0, -10.0, 10.0, -10.0, 10.0, 10.0, 10.0, -10.0, 10.0, 10.0, -10.0, 10.0, 10.0, 10.0, -10.0, 10.0, -10.0, 10.0, 10.0, -10.0, -10.0, 10.0, 10.0, 10.0, 10.0, -10.0, 10.0, 10.0, 10.0, 10.0, -10.0, 10.0, 10.0, 10.0, 10.0]\n",
      " 64%|███████████████████████████▌               | 32/50 [05:11<03:04, 10.27s/it][10.0, 10.0, 10.0, -10.0, 10.0, -10.0, 10.0, 10.0, -10.0, -10.0, -10.0, 10.0, 10.0, 10.0, -10.0, -10.0, -10.0, 10.0, 10.0, 10.0, 10.0, 10.0, 10.0, 10.0, -10.0, -10.0, 10.0, -10.0, -10.0, 10.0, 10.0, 10.0, 10.0, -10.0, 10.0, -10.0, 10.0, 10.0, -10.0, 10.0, -10.0, -10.0, -10.0, 10.0, 10.0, 10.0, 10.0, 10.0, 10.0, 10.0, 10.0, -10.0, 10.0, 10.0, 10.0, 10.0, -10.0, -10.0, 10.0, -10.0, 10.0, 10.0, 10.0, -10.0, 10.0, 10.0, -10.0, 10.0, 10.0, 10.0, -10.0, 10.0, -10.0, 10.0, 10.0, -10.0, -10.0, 10.0, 10.0, 10.0, 10.0, -10.0, 10.0, 10.0, 10.0, 10.0, -10.0, 10.0, 10.0, 10.0, 10.0, 10.0, 10.0, -10.0, -10.0, 10.0, 10.0, -10.0, 10.0, 10.0]\n",
      " 66%|████████████████████████████▍              | 33/50 [05:22<02:56, 10.37s/it][-10.0, 10.0, -10.0, 10.0, 10.0, -10.0, -10.0, -10.0, -10.0, 10.0, 10.0, 10.0, 10.0, 10.0, -10.0, -10.0, 10.0, -10.0, -10.0, 10.0, 10.0, 10.0, 10.0, -10.0, 10.0, -10.0, 10.0, 10.0, -10.0, 10.0, -10.0, -10.0, -10.0, 10.0, 10.0, 10.0, 10.0, 10.0, 10.0, 10.0, 10.0, -10.0, 10.0, 10.0, 10.0, 10.0, -10.0, -10.0, 10.0, -10.0, 10.0, 10.0, 10.0, -10.0, 10.0, 10.0, -10.0, 10.0, 10.0, 10.0, -10.0, 10.0, -10.0, 10.0, 10.0, -10.0, -10.0, 10.0, 10.0, 10.0, 10.0, -10.0, 10.0, 10.0, 10.0, 10.0, -10.0, 10.0, 10.0, 10.0, 10.0, 10.0, 10.0, -10.0, -10.0, 10.0, 10.0, -10.0, 10.0, 10.0, 10.0, 10.0, 10.0, -10.0, 10.0, -10.0, 10.0, 10.0, -10.0, -10.0]\n",
      " 68%|█████████████████████████████▏             | 34/50 [05:32<02:46, 10.42s/it][-10.0, -10.0, -10.0, 10.0, -10.0, -10.0, 10.0, -10.0, -10.0, -10.0, 10.0, 10.0, 10.0, 10.0, -10.0, 10.0, -10.0, 10.0, 10.0, -10.0, 10.0, -10.0, -10.0, -10.0, 10.0, 10.0, 10.0, 10.0, 10.0, 10.0, 10.0, 10.0, -10.0, 10.0, 10.0, 10.0, 10.0, -10.0, -10.0, 10.0, -10.0, 10.0, 10.0, 10.0, -10.0, 10.0, 10.0, -10.0, 10.0, 10.0, 10.0, -10.0, 10.0, -10.0, 10.0, 10.0, -10.0, -10.0, 10.0, 10.0, 10.0, 10.0, -10.0, 10.0, 10.0, 10.0, 10.0, -10.0, 10.0, 10.0, 10.0, 10.0, 10.0, 10.0, -10.0, -10.0, 10.0, 10.0, -10.0, 10.0, 10.0, 10.0, 10.0, 10.0, -10.0, 10.0, -10.0, 10.0, 10.0, -10.0, -10.0, -10.0, 10.0, -10.0, 10.0, 10.0, -10.0, -10.0, -10.0, -10.0]\n",
      " 70%|██████████████████████████████             | 35/50 [05:43<02:37, 10.52s/it][10.0, -10.0, 10.0, 10.0, -10.0, 10.0, -10.0, 10.0, 10.0, 10.0, 10.0, -10.0, 10.0, -10.0, -10.0, -10.0, 10.0, 10.0, 10.0, 10.0, 10.0, 10.0, 10.0, 10.0, -10.0, 10.0, 10.0, 10.0, 10.0, -10.0, -10.0, 10.0, -10.0, 10.0, 10.0, 10.0, -10.0, 10.0, 10.0, -10.0, 10.0, 10.0, 10.0, -10.0, 10.0, -10.0, 10.0, 10.0, -10.0, -10.0, 10.0, 10.0, 10.0, 10.0, -10.0, 10.0, 10.0, 10.0, 10.0, -10.0, 10.0, 10.0, 10.0, 10.0, 10.0, 10.0, -10.0, -10.0, 10.0, 10.0, -10.0, 10.0, 10.0, 10.0, 10.0, 10.0, -10.0, 10.0, -10.0, 10.0, 10.0, -10.0, -10.0, -10.0, 10.0, -10.0, 10.0, 10.0, -10.0, -10.0, -10.0, -10.0, -10.0, -10.0, -10.0, 10.0, -10.0, -10.0, 10.0, -10.0]\n",
      " 72%|██████████████████████████████▉            | 36/50 [05:52<02:21, 10.13s/it][10.0, 10.0, 10.0, -10.0, -10.0, 10.0, 10.0, 10.0, 10.0, 10.0, 10.0, 10.0, 10.0, 10.0, 10.0, -10.0, 10.0, 10.0, 10.0, 10.0, -10.0, -10.0, 10.0, -10.0, 10.0, 10.0, 10.0, -10.0, 10.0, 10.0, -10.0, 10.0, 10.0, 10.0, -10.0, 10.0, -10.0, 10.0, 10.0, -10.0, -10.0, 10.0, 10.0, 10.0, 10.0, -10.0, 10.0, 10.0, 10.0, 10.0, -10.0, 10.0, 10.0, 10.0, 10.0, 10.0, 10.0, -10.0, -10.0, 10.0, 10.0, -10.0, 10.0, 10.0, 10.0, 10.0, 10.0, -10.0, 10.0, -10.0, 10.0, 10.0, -10.0, -10.0, -10.0, 10.0, -10.0, 10.0, 10.0, -10.0, -10.0, -10.0, -10.0, -10.0, -10.0, -10.0, 10.0, -10.0, -10.0, 10.0, -10.0, 10.0, -10.0, 10.0, 10.0, -10.0, 10.0, -10.0, 10.0, 10.0]\n",
      " 74%|███████████████████████████████▊           | 37/50 [06:00<02:03,  9.47s/it][-10.0, 10.0, -10.0, 10.0, 10.0, -10.0, 10.0, 10.0, 10.0, -10.0, 10.0, -10.0, 10.0, -10.0, 10.0, 10.0, 10.0, -10.0, 10.0, 10.0, -10.0, 10.0, 10.0, 10.0, -10.0, 10.0, -10.0, 10.0, 10.0, -10.0, -10.0, 10.0, 10.0, 10.0, 10.0, -10.0, 10.0, 10.0, 10.0, 10.0, -10.0, 10.0, 10.0, 10.0, 10.0, 10.0, 10.0, -10.0, -10.0, 10.0, 10.0, -10.0, 10.0, 10.0, 10.0, 10.0, 10.0, -10.0, 10.0, -10.0, 10.0, 10.0, -10.0, -10.0, -10.0, 10.0, -10.0, 10.0, 10.0, -10.0, -10.0, -10.0, -10.0, -10.0, -10.0, -10.0, 10.0, -10.0, -10.0, 10.0, -10.0, 10.0, -10.0, 10.0, 10.0, -10.0, 10.0, -10.0, 10.0, 10.0, 10.0, 10.0, 10.0, -10.0, -10.0, 10.0, 10.0, 10.0, 10.0, 10.0]\n",
      " 76%|████████████████████████████████▋          | 38/50 [06:09<01:52,  9.37s/it][10.0, 10.0, 10.0, 10.0, -10.0, 10.0, 10.0, -10.0, 10.0, -10.0, 10.0, 10.0, 10.0, -10.0, 10.0, -10.0, 10.0, 10.0, -10.0, -10.0, 10.0, 10.0, 10.0, 10.0, -10.0, 10.0, 10.0, 10.0, 10.0, -10.0, 10.0, 10.0, 10.0, 10.0, 10.0, 10.0, -10.0, -10.0, 10.0, 10.0, -10.0, 10.0, 10.0, 10.0, 10.0, 10.0, -10.0, 10.0, -10.0, 10.0, 10.0, -10.0, -10.0, -10.0, 10.0, -10.0, 10.0, 10.0, -10.0, -10.0, -10.0, -10.0, -10.0, -10.0, -10.0, 10.0, -10.0, -10.0, 10.0, -10.0, 10.0, -10.0, 10.0, 10.0, -10.0, 10.0, -10.0, 10.0, 10.0, 10.0, 10.0, 10.0, -10.0, -10.0, 10.0, 10.0, 10.0, 10.0, 10.0, -10.0, 10.0, -10.0, 10.0, 10.0, -10.0, 10.0, 10.0, 10.0, -10.0, 10.0]\n",
      " 78%|█████████████████████████████████▌         | 39/50 [06:18<01:41,  9.20s/it][10.0, 10.0, 10.0, -10.0, -10.0, 10.0, 10.0, 10.0, -10.0, -10.0, -10.0, 10.0, 10.0, 10.0, 10.0, -10.0, 10.0, 10.0, 10.0, 10.0, -10.0, 10.0, 10.0, 10.0, 10.0, 10.0, 10.0, -10.0, -10.0, 10.0, 10.0, -10.0, 10.0, 10.0, 10.0, 10.0, 10.0, -10.0, 10.0, -10.0, 10.0, 10.0, -10.0, -10.0, -10.0, 10.0, -10.0, 10.0, 10.0, -10.0, -10.0, -10.0, -10.0, -10.0, -10.0, -10.0, 10.0, -10.0, -10.0, 10.0, -10.0, 10.0, -10.0, 10.0, 10.0, -10.0, 10.0, -10.0, 10.0, 10.0, 10.0, 10.0, 10.0, -10.0, -10.0, 10.0, 10.0, 10.0, 10.0, 10.0, -10.0, 10.0, -10.0, 10.0, 10.0, -10.0, 10.0, 10.0, 10.0, -10.0, 10.0, 10.0, 10.0, 10.0, 10.0, -10.0, 10.0, 10.0, -10.0, 10.0]\n",
      " 80%|██████████████████████████████████▍        | 40/50 [06:26<01:28,  8.90s/it][-10.0, -10.0, 10.0, 10.0, 10.0, 10.0, 10.0, -10.0, -10.0, 10.0, 10.0, -10.0, 10.0, 10.0, 10.0, 10.0, 10.0, 10.0, -10.0, -10.0, 10.0, 10.0, -10.0, 10.0, 10.0, 10.0, 10.0, 10.0, -10.0, 10.0, -10.0, 10.0, 10.0, -10.0, -10.0, -10.0, 10.0, -10.0, 10.0, 10.0, -10.0, -10.0, -10.0, -10.0, -10.0, -10.0, -10.0, 10.0, -10.0, -10.0, 10.0, -10.0, 10.0, -10.0, 10.0, 10.0, -10.0, 10.0, -10.0, 10.0, 10.0, 10.0, 10.0, 10.0, -10.0, -10.0, 10.0, 10.0, 10.0, 10.0, 10.0, -10.0, 10.0, -10.0, 10.0, 10.0, -10.0, 10.0, 10.0, 10.0, -10.0, 10.0, 10.0, 10.0, 10.0, 10.0, -10.0, 10.0, 10.0, -10.0, 10.0, 10.0, 10.0, 10.0, -10.0, -10.0, 10.0, 10.0, 10.0, -10.0]\n",
      " 82%|███████████████████████████████████▎       | 41/50 [06:37<01:25,  9.49s/it][10.0, -10.0, -10.0, 10.0, 10.0, 10.0, -10.0, -10.0, -10.0, -10.0, 10.0, 10.0, -10.0, 10.0, 10.0, 10.0, 10.0, 10.0, -10.0, 10.0, -10.0, 10.0, 10.0, -10.0, -10.0, -10.0, 10.0, -10.0, 10.0, 10.0, -10.0, -10.0, -10.0, -10.0, -10.0, -10.0, -10.0, 10.0, -10.0, -10.0, 10.0, -10.0, 10.0, -10.0, 10.0, 10.0, -10.0, 10.0, -10.0, 10.0, 10.0, 10.0, 10.0, 10.0, -10.0, -10.0, 10.0, 10.0, 10.0, 10.0, 10.0, -10.0, 10.0, -10.0, 10.0, 10.0, -10.0, 10.0, 10.0, 10.0, -10.0, 10.0, 10.0, 10.0, 10.0, 10.0, -10.0, 10.0, 10.0, -10.0, 10.0, 10.0, 10.0, 10.0, -10.0, -10.0, 10.0, 10.0, 10.0, -10.0, -10.0, -10.0, 10.0, 10.0, 10.0, 10.0, 10.0, -10.0, -10.0, 10.0]\n",
      " 84%|████████████████████████████████████       | 42/50 [06:49<01:20, 10.08s/it][10.0, -10.0, 10.0, 10.0, 10.0, 10.0, 10.0, -10.0, 10.0, 10.0, 10.0, 10.0, -10.0, 10.0, 10.0, -10.0, -10.0, -10.0, 10.0, -10.0, 10.0, 10.0, -10.0, -10.0, -10.0, -10.0, -10.0, -10.0, -10.0, 10.0, -10.0, -10.0, 10.0, -10.0, 10.0, -10.0, 10.0, 10.0, -10.0, 10.0, -10.0, 10.0, 10.0, 10.0, 10.0, 10.0, -10.0, -10.0, 10.0, 10.0, 10.0, 10.0, 10.0, -10.0, 10.0, -10.0, 10.0, 10.0, -10.0, 10.0, 10.0, 10.0, -10.0, 10.0, 10.0, 10.0, 10.0, 10.0, -10.0, 10.0, 10.0, -10.0, 10.0, 10.0, 10.0, 10.0, -10.0, -10.0, 10.0, 10.0, 10.0, -10.0, -10.0, -10.0, 10.0, 10.0, 10.0, 10.0, 10.0, -10.0, -10.0, 10.0, 10.0, -10.0, -10.0, 10.0, 10.0, 10.0, -10.0, -10.0]\n",
      " 86%|████████████████████████████████████▉      | 43/50 [06:58<01:08,  9.83s/it][10.0, 10.0, 10.0, 10.0, 10.0, -10.0, 10.0, 10.0, 10.0, 10.0, 10.0, -10.0, -10.0, -10.0, -10.0, -10.0, -10.0, -10.0, 10.0, -10.0, -10.0, 10.0, -10.0, 10.0, -10.0, 10.0, 10.0, -10.0, 10.0, -10.0, 10.0, 10.0, 10.0, 10.0, 10.0, -10.0, -10.0, 10.0, 10.0, 10.0, 10.0, 10.0, -10.0, 10.0, -10.0, 10.0, 10.0, -10.0, 10.0, 10.0, 10.0, -10.0, 10.0, 10.0, 10.0, 10.0, 10.0, -10.0, 10.0, 10.0, -10.0, 10.0, 10.0, 10.0, 10.0, -10.0, -10.0, 10.0, 10.0, 10.0, -10.0, -10.0, -10.0, 10.0, 10.0, 10.0, 10.0, 10.0, -10.0, -10.0, 10.0, 10.0, -10.0, -10.0, 10.0, 10.0, 10.0, -10.0, -10.0, 10.0, -10.0, 10.0, 10.0, 10.0, 10.0, 10.0, -10.0, 10.0, 10.0, 10.0]\n",
      " 88%|█████████████████████████████████████▊     | 44/50 [07:07<00:57,  9.55s/it][-10.0, 10.0, 10.0, 10.0, 10.0, -10.0, 10.0, -10.0, 10.0, 10.0, 10.0, -10.0, 10.0, -10.0, 10.0, 10.0, -10.0, 10.0, -10.0, 10.0, 10.0, 10.0, 10.0, 10.0, -10.0, -10.0, 10.0, 10.0, 10.0, 10.0, 10.0, -10.0, 10.0, -10.0, 10.0, 10.0, -10.0, 10.0, 10.0, 10.0, -10.0, 10.0, 10.0, 10.0, 10.0, 10.0, -10.0, 10.0, 10.0, -10.0, 10.0, 10.0, 10.0, 10.0, -10.0, -10.0, 10.0, 10.0, 10.0, -10.0, -10.0, -10.0, 10.0, 10.0, 10.0, 10.0, 10.0, -10.0, -10.0, 10.0, 10.0, -10.0, -10.0, 10.0, 10.0, 10.0, -10.0, -10.0, 10.0, -10.0, 10.0, 10.0, 10.0, 10.0, 10.0, -10.0, 10.0, 10.0, 10.0, 10.0, 10.0, 10.0, 10.0, 10.0, -10.0, 10.0, 10.0, 10.0, 10.0, 10.0]\n",
      " 90%|██████████████████████████████████████▋    | 45/50 [07:19<00:50, 10.16s/it][10.0, -10.0, 10.0, 10.0, 10.0, 10.0, -10.0, 10.0, -10.0, 10.0, 10.0, 10.0, 10.0, 10.0, -10.0, -10.0, 10.0, 10.0, 10.0, 10.0, 10.0, -10.0, 10.0, -10.0, 10.0, 10.0, -10.0, 10.0, 10.0, 10.0, -10.0, 10.0, 10.0, 10.0, 10.0, 10.0, -10.0, 10.0, 10.0, -10.0, 10.0, 10.0, 10.0, 10.0, -10.0, -10.0, 10.0, 10.0, 10.0, -10.0, -10.0, -10.0, 10.0, 10.0, 10.0, 10.0, 10.0, -10.0, -10.0, 10.0, 10.0, -10.0, -10.0, 10.0, 10.0, 10.0, -10.0, -10.0, 10.0, -10.0, 10.0, 10.0, 10.0, 10.0, 10.0, -10.0, 10.0, 10.0, 10.0, 10.0, 10.0, 10.0, 10.0, 10.0, -10.0, 10.0, 10.0, 10.0, 10.0, 10.0, -10.0, 10.0, 10.0, 10.0, 10.0, -10.0, 10.0, -10.0, 10.0, 10.0]\n",
      " 92%|███████████████████████████████████████▌   | 46/50 [07:29<00:40, 10.21s/it][-10.0, 10.0, -10.0, 10.0, 10.0, -10.0, -10.0, 10.0, 10.0, 10.0, -10.0, -10.0, 10.0, -10.0, 10.0, 10.0, -10.0, 10.0, 10.0, 10.0, -10.0, 10.0, 10.0, 10.0, 10.0, 10.0, -10.0, 10.0, 10.0, -10.0, 10.0, 10.0, 10.0, 10.0, -10.0, -10.0, 10.0, 10.0, 10.0, -10.0, -10.0, -10.0, 10.0, 10.0, 10.0, 10.0, 10.0, -10.0, -10.0, 10.0, 10.0, -10.0, -10.0, 10.0, 10.0, 10.0, -10.0, -10.0, 10.0, -10.0, 10.0, 10.0, 10.0, 10.0, 10.0, -10.0, 10.0, 10.0, 10.0, 10.0, 10.0, 10.0, 10.0, 10.0, -10.0, 10.0, 10.0, 10.0, 10.0, 10.0, -10.0, 10.0, 10.0, 10.0, 10.0, -10.0, 10.0, -10.0, 10.0, 10.0, 10.0, -10.0, 10.0, 10.0, 10.0, 10.0, -10.0, 10.0, -10.0, 10.0]\n",
      " 94%|████████████████████████████████████████▍  | 47/50 [07:42<00:32, 10.97s/it][-10.0, -10.0, 10.0, 10.0, 10.0, 10.0, 10.0, 10.0, 10.0, -10.0, 10.0, 10.0, 10.0, 10.0, 10.0, -10.0, 10.0, 10.0, -10.0, 10.0, 10.0, 10.0, 10.0, -10.0, -10.0, 10.0, 10.0, 10.0, -10.0, -10.0, -10.0, 10.0, 10.0, 10.0, 10.0, 10.0, -10.0, -10.0, 10.0, 10.0, -10.0, -10.0, 10.0, 10.0, 10.0, -10.0, -10.0, 10.0, -10.0, 10.0, 10.0, 10.0, 10.0, 10.0, -10.0, 10.0, 10.0, 10.0, 10.0, 10.0, 10.0, 10.0, 10.0, -10.0, 10.0, 10.0, 10.0, 10.0, 10.0, -10.0, 10.0, 10.0, 10.0, 10.0, -10.0, 10.0, -10.0, 10.0, 10.0, 10.0, -10.0, 10.0, 10.0, 10.0, 10.0, -10.0, 10.0, -10.0, 10.0, -10.0, 10.0, -10.0, 10.0, 10.0, -10.0, -10.0, 10.0, 10.0, 10.0, -10.0]\n",
      " 96%|█████████████████████████████████████████▎ | 48/50 [07:49<00:19,  9.87s/it][10.0, 10.0, 10.0, -10.0, 10.0, 10.0, 10.0, -10.0, 10.0, 10.0, -10.0, 10.0, 10.0, 10.0, 10.0, -10.0, -10.0, 10.0, 10.0, 10.0, -10.0, -10.0, -10.0, 10.0, 10.0, 10.0, 10.0, 10.0, -10.0, -10.0, 10.0, 10.0, -10.0, -10.0, 10.0, 10.0, 10.0, -10.0, -10.0, 10.0, -10.0, 10.0, 10.0, 10.0, 10.0, 10.0, -10.0, 10.0, 10.0, 10.0, 10.0, 10.0, 10.0, 10.0, 10.0, -10.0, 10.0, 10.0, 10.0, 10.0, 10.0, -10.0, 10.0, 10.0, 10.0, 10.0, -10.0, 10.0, -10.0, 10.0, 10.0, 10.0, -10.0, 10.0, 10.0, 10.0, 10.0, -10.0, 10.0, -10.0, 10.0, -10.0, 10.0, -10.0, 10.0, 10.0, -10.0, -10.0, 10.0, 10.0, 10.0, -10.0, -10.0, -10.0, 10.0, 10.0, 10.0, 10.0, 10.0, 10.0]\n",
      " 98%|██████████████████████████████████████████▏| 49/50 [07:58<00:09,  9.50s/it][10.0, -10.0, -10.0, -10.0, -10.0, 10.0, 10.0, 10.0, -10.0, 10.0, -10.0, -10.0, -10.0, 10.0, 10.0, 10.0, 10.0, 10.0, -10.0, -10.0, 10.0, 10.0, -10.0, -10.0, 10.0, 10.0, 10.0, -10.0, -10.0, 10.0, -10.0, 10.0, 10.0, 10.0, 10.0, 10.0, -10.0, 10.0, 10.0, 10.0, 10.0, 10.0, 10.0, 10.0, 10.0, -10.0, 10.0, 10.0, 10.0, 10.0, 10.0, -10.0, 10.0, 10.0, 10.0, 10.0, -10.0, 10.0, -10.0, 10.0, 10.0, 10.0, -10.0, 10.0, 10.0, 10.0, 10.0, -10.0, 10.0, -10.0, 10.0, -10.0, 10.0, -10.0, 10.0, 10.0, -10.0, -10.0, 10.0, 10.0, 10.0, -10.0, -10.0, -10.0, 10.0, 10.0, 10.0, 10.0, 10.0, 10.0, 10.0, 10.0, 10.0, -10.0, 10.0, 10.0, 10.0, -10.0, 10.0, 10.0]\n",
      "100%|███████████████████████████████████████████| 50/50 [08:07<00:00,  9.75s/it]\n",
      "Total trials 100 win rate 68.0% loss rate 32.0% tie rate 0.0%\n"
     ]
    }
   ],
   "source": [
    "!python youshallnotpass_rllib_adversarial_makevideo.py --checkpoint {checkpoint} --no_video=True --steps 50"
   ]
  },
  {
   "cell_type": "code",
   "execution_count": 95,
   "metadata": {},
   "outputs": [
    {
     "name": "stdout",
     "output_type": "stream",
     "text": [
      "2020-08-10 06:36:46,621\tINFO resource_spec.py:212 -- Starting Ray with 124.12 GiB memory available for workers and up to 57.19 GiB for objects. You can adjust these settings with ray.init(memory=<bytes>, object_store_memory=<bytes>).\n",
      "2020-08-10 06:36:46,781\tWARNING services.py:923 -- Redis failed to start, retrying now.\n",
      "2020-08-10 06:36:47,118\tWARNING services.py:923 -- Redis failed to start, retrying now.\n",
      "2020-08-10 06:36:47,766\tINFO services.py:1165 -- View the Ray dashboard at \u001b[1m\u001b[32mlocalhost:8266\u001b[39m\u001b[22m\n",
      "Args: Namespace(checkpoint='/home/sergei/ray_results/PPO_YouShallNotPassHumans-v0_rllib_2020-08-10_05-58-07a4_u7hun/checkpoint_2151/checkpoint-2151', load_normal=False, no_video=False, steps=10)\n",
      "Creating agent humanoid_blocker\n",
      "Reading agent XML from: /scratch/sergei/better-adversarial-defenses/multiagent-competition/gym_compete/new_envs/assets/humanoid_body.xml\n",
      "Creating agent humanoid\n",
      "Reading agent XML from: /scratch/sergei/better-adversarial-defenses/multiagent-competition/gym_compete/new_envs/assets/humanoid_body.xml\n",
      "Scene XML path: /scratch/sergei/better-adversarial-defenses/multiagent-competition/gym_compete/new_envs/assets/world_body.humanoid_body.humanoid_body.xml\n",
      "Created Scene with agents\n",
      "GLFW error: 65544, desc: b'X11: RandR gamma ramp support seems broken'\n",
      "Creating env...\n",
      "Created env\n",
      "Creating agent humanoid_blocker\n",
      "Reading agent XML from: /scratch/sergei/better-adversarial-defenses/multiagent-competition/gym_compete/new_envs/assets/humanoid_body.xml\n",
      "Creating agent humanoid\n",
      "Reading agent XML from: /scratch/sergei/better-adversarial-defenses/multiagent-competition/gym_compete/new_envs/assets/humanoid_body.xml\n",
      "Scene XML path: /scratch/sergei/better-adversarial-defenses/multiagent-competition/gym_compete/new_envs/assets/world_body.humanoid_body.humanoid_body.xml\n",
      "Created Scene with agents\n",
      "Creating env...\n",
      "Created env\n",
      "Config {'env': 'YouShallNotPassHumans-v0_rllib', 'env_config': {'with_video': True}, 'use_gae': True, 'num_gpus': 0, 'batch_mode': 'complete_episodes', 'num_workers': 0, 'train_batch_size': 256, 'rollout_fragment_length': 200, 'multiagent': {'policies_to_train': [], 'policies': {'player_1': (<class 'ray.rllib.policy.tf_policy_template.PPOTFPolicy'>, Box(380,), Box(17,), {'model': {'use_lstm': False, 'fcnet_hiddens': [64, 64], 'fcnet_activation': 'tanh', 'free_log_std': True}, 'framework': 'tfe', 'observation_filter': 'MeanStdFilter'}), 'player_2': (<class 'ray.rllib.policy.tf_policy_template.PPOTFPolicy'>, Box(380,), Box(17,), {'model': {'custom_model': 'GymCompetePretrainedModel', 'custom_model_config': {'agent_id': 1, 'env_name': 'multicomp/YouShallNotPassHumans-v0', 'model_config': {}, 'name': 'model_1'}}, 'framework': 'tfe'})}, 'policy_mapping_fn': <function build_trainer_config.<locals>.select_policy at 0x7fa023170050>}, 'framework': 'tfe', 'lr': 0, 'vf_loss_coeff': 0.5, 'gamma': 0.995, 'sgd_minibatch_size': 256, 'num_sgd_iter': 1, 'tf_session_args': {'intra_op_parallelism_threads': 32, 'inter_op_parallelism_threads': 32, 'gpu_options': {'allow_growth': True}, 'log_device_placement': True, 'device_count': {'CPU': 32}, 'allow_soft_placement': True}, 'local_tf_session_args': {'intra_op_parallelism_threads': 32, 'inter_op_parallelism_threads': 32}, 'kl_coeff': 1.0}\n",
      "2020-08-10 06:36:59,922\tINFO trainer.py:582 -- Executing eagerly, with eager_tracing=False\n",
      "2020-08-10 06:36:59,924\tINFO trainer.py:612 -- Current log_level is WARN. For more information, set 'log_level': 'INFO' / 'DEBUG' or use the -v and -vv flags.\n",
      "Creating agent humanoid_blocker\n",
      "Reading agent XML from: /scratch/sergei/better-adversarial-defenses/multiagent-competition/gym_compete/new_envs/assets/humanoid_body.xml\n",
      "Creating agent humanoid\n",
      "Reading agent XML from: /scratch/sergei/better-adversarial-defenses/multiagent-competition/gym_compete/new_envs/assets/humanoid_body.xml\n",
      "Scene XML path: /scratch/sergei/better-adversarial-defenses/multiagent-competition/gym_compete/new_envs/assets/world_body.humanoid_body.humanoid_body.xml\n",
      "Created Scene with agents\n",
      "Creating env...\n",
      "Created env\n",
      "WARNING:tensorflow:\n",
      "The following Variables were used a Lambda layer's call (lambda), but\n",
      "are not present in its tracked objects:\n",
      "  <tf.Variable 'player_1/log_std:0' shape=(17,) dtype=float32>\n",
      "It is possible that this is intended behavior, but it is more likely\n",
      "an omission. This is a strong indication that this layer should be\n",
      "formulated as a subclassed Layer rather than a Lambda layer.\n",
      "WARNING:tensorflow:From /scratch/sergei/miniconda3/lib/python3.7/site-packages/ray/rllib/models/tf/tf_action_dist.py:234: to_float (from tensorflow.python.ops.math_ops) is deprecated and will be removed in a future version.\n",
      "Instructions for updating:\n",
      "Use `tf.cast` instead.\n",
      "Creating agent humanoid_blocker\n",
      "Reading agent XML from: /scratch/sergei/better-adversarial-defenses/multiagent-competition/gym_compete/new_envs/assets/humanoid_body.xml\n",
      "Creating agent humanoid\n",
      "Reading agent XML from: /scratch/sergei/better-adversarial-defenses/multiagent-competition/gym_compete/new_envs/assets/humanoid_body.xml\n",
      "Scene XML path: /scratch/sergei/better-adversarial-defenses/multiagent-competition/gym_compete/new_envs/assets/world_body.humanoid_body.humanoid_body.xml\n",
      "Created Scene with agents\n",
      "2020-08-10 06:37:02,190\tINFO trainable.py:423 -- Restored on 128.32.175.10 from checkpoint: /home/sergei/ray_results/PPO_YouShallNotPassHumans-v0_rllib_2020-08-10_05-58-07a4_u7hun/checkpoint_2151/checkpoint-2151\n",
      "2020-08-10 06:37:02,190\tINFO trainable.py:430 -- Current state after restoring: {'_iteration': 2151, '_timesteps_total': None, '_time_total': 308249.74160552025, '_episodes_total': 240251}\n",
      "  0%|                                                    | 0/10 [00:00<?, ?it/s]WARNING:tensorflow:Layer observation_preprocessing_layer_1 is casting an input tensor from dtype float64 to the layer's dtype of float32, which is new behavior in TensorFlow 2.  The layer has dtype float32 because it's dtype defaults to floatx.\n",
      "\n",
      "If you intended to run this layer in float32, you can safely ignore this warning. If in doubt, this warning is likely only an issue if you are porting a TensorFlow 1.X model to TensorFlow 2.\n",
      "\n",
      "To change all layers to have dtype float64 by default, call `tf.keras.backend.set_floatx('float64')`. To change just this layer, pass dtype='float64' to the layer constructor. If you are the author of this layer, you can disable autocasting by passing autocast=False to the base Layer constructor.\n",
      "\n",
      "WARNING:tensorflow:From /scratch/sergei/miniconda3/lib/python3.7/site-packages/ray/rllib/policy/tf_policy.py:761: Variable.load (from tensorflow.python.ops.variables) is deprecated and will be removed in a future version.\n",
      "Instructions for updating:\n",
      "Prefer Variable.assign which has equivalent behavior in 2.X.\n",
      "[-10.0, 10.0]\n",
      " 10%|████▎                                      | 1/10 [01:52<16:55, 112.88s/it][10.0, 10.0, -10.0, -10.0, 10.0]\n",
      " 20%|████████▌                                  | 2/10 [04:19<16:23, 122.97s/it][-10.0, 10.0, -10.0, 10.0, 10.0, 10.0, -10.0]\n",
      " 30%|████████████▉                              | 3/10 [06:15<14:07, 121.01s/it][10.0, 10.0, 10.0, 10.0, -10.0, 10.0, 10.0, 10.0, -10.0, -10.0, 10.0]\n",
      " 40%|█████████████████▏                         | 4/10 [08:49<13:05, 130.88s/it][10.0, 10.0, -10.0, -10.0, 10.0, 10.0, 10.0, -10.0, -10.0, 10.0, 10.0, 10.0, 10.0, 10.0]\n",
      " 50%|█████████████████████▌                     | 5/10 [11:22<11:26, 137.35s/it][10.0, 10.0, -10.0, -10.0, 10.0, 10.0, 10.0, -10.0, -10.0, 10.0, 10.0, 10.0, 10.0, 10.0, 10.0, 10.0, -10.0]\n",
      " 60%|█████████████████████████▊                 | 6/10 [13:06<08:29, 127.41s/it][10.0, 10.0, 10.0, -10.0, -10.0, 10.0, 10.0, 10.0, -10.0, -10.0, 10.0, 10.0, 10.0, 10.0, 10.0, 10.0, 10.0, -10.0, 10.0, 10.0, -10.0]\n",
      " 70%|██████████████████████████████             | 7/10 [17:03<08:00, 160.32s/it][10.0, 10.0, 10.0, -10.0, 10.0, 10.0, 10.0, -10.0, -10.0, 10.0, 10.0, 10.0, 10.0, 10.0, 10.0, 10.0, -10.0, 10.0, 10.0, -10.0, 10.0, 10.0, 10.0, -10.0]\n",
      " 80%|██████████████████████████████████▍        | 8/10 [19:16<05:04, 152.21s/it][10.0, 10.0, 10.0, -10.0, 10.0, 10.0, 10.0, -10.0, -10.0, 10.0, 10.0, 10.0, 10.0, 10.0, 10.0, 10.0, -10.0, 10.0, 10.0, -10.0, 10.0, 10.0, 10.0, -10.0, 10.0, 10.0, 10.0]\n",
      " 90%|██████████████████████████████████████▋    | 9/10 [21:17<02:22, 142.67s/it][-10.0, 10.0, 10.0, -10.0, 10.0, 10.0, 10.0, -10.0, -10.0, 10.0, 10.0, 10.0, 10.0, 10.0, 10.0, 10.0, -10.0, 10.0, 10.0, -10.0, 10.0, 10.0, 10.0, -10.0, 10.0, 10.0, 10.0, 10.0, 10.0, 10.0]\n",
      "100%|██████████████████████████████████████████| 10/10 [24:06<00:00, 144.68s/it]\n",
      "Total trials 30 win rate 76.66666666666667% loss rate 23.333333333333332% tie rate 0.0%\n",
      "Your video is in\n",
      "/scratch/sergei/better-adversarial-defenses/video-20200810-063659-906f9f6d-db0e-11ea-a969-1831bf455a80/video.000000.mp4\n"
     ]
    }
   ],
   "source": [
    "!export DISPLAY=:0; python youshallnotpass_rllib_adversarial_makevideo.py --checkpoint {checkpoint}"
   ]
  },
  {
   "cell_type": "code",
   "execution_count": 107,
   "metadata": {},
   "outputs": [],
   "source": [
    "#video = _\n",
    "video = \"video-20200810-063659-906f9f6d-db0e-11ea-a969-1831bf455a80/video.000000.mp4\""
   ]
  },
  {
   "cell_type": "code",
   "execution_count": 109,
   "metadata": {},
   "outputs": [
    {
     "data": {
      "text/html": [
       "Click here to download: <a href='video-20200810-063659-906f9f6d-db0e-11ea-a969-1831bf455a80/video.000000.mp4' target='_blank'>video-20200810-063659-906f9f6d-db0e-11ea-a969-1831bf455a80/video.000000.mp4</a><br>"
      ],
      "text/plain": [
       "/scratch/sergei/better-adversarial-defenses/video-20200810-063659-906f9f6d-db0e-11ea-a969-1831bf455a80/video.000000.mp4"
      ]
     },
     "metadata": {},
     "output_type": "display_data"
    }
   ],
   "source": [
    "from IPython.display import display, FileLink\n",
    "\n",
    "local_file = FileLink(video, result_html_prefix=\"Click here to download: \")\n",
    "display(local_file)"
   ]
  },
  {
   "cell_type": "code",
   "execution_count": 97,
   "metadata": {},
   "outputs": [
    {
     "data": {
      "text/html": [
       "\n",
       "    <video alt=\"test\" controls>\n",
       "        <source src=\"video-20200810-063659-906f9f6d-db0e-11ea-a969-1831bf455a80/video.000000.mp4\" type=\"video/mp4\">\n",
       "    </video>\n"
      ],
      "text/plain": [
       "<IPython.core.display.HTML object>"
      ]
     },
     "execution_count": 97,
     "metadata": {},
     "output_type": "execute_result"
    }
   ],
   "source": [
    "from IPython.display import HTML\n",
    "\n",
    "HTML(\"\"\"\n",
    "    <video alt=\"test\" controls>\n",
    "        <source src=\"video-20200810-063659-906f9f6d-db0e-11ea-a969-1831bf455a80/video.000000.mp4\" type=\"video/mp4\">\n",
    "    </video>\n",
    "\"\"\")\n"
   ]
  },
  {
   "cell_type": "code",
   "execution_count": null,
   "metadata": {},
   "outputs": [],
   "source": []
  }
 ],
 "metadata": {
  "kernelspec": {
   "display_name": "Python 3",
   "language": "python",
   "name": "python3"
  },
  "language_info": {
   "codemirror_mode": {
    "name": "ipython",
    "version": 3
   },
   "file_extension": ".py",
   "mimetype": "text/x-python",
   "name": "python",
   "nbconvert_exporter": "python",
   "pygments_lexer": "ipython3",
   "version": "3.7.7"
  }
 },
 "nbformat": 4,
 "nbformat_minor": 4
}
