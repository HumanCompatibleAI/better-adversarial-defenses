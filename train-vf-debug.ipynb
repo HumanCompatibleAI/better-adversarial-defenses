{
 "cells": [
  {
   "cell_type": "code",
   "execution_count": 1,
   "metadata": {},
   "outputs": [],
   "source": [
    "from train import ray_init, build_trainer_config\n",
    "from config import get_config_test, PPOTrainer\n",
    "import numpy as np"
   ]
  },
  {
   "cell_type": "code",
   "execution_count": 2,
   "metadata": {},
   "outputs": [],
   "source": [
    "c = get_config_test()\n",
    "c['num_workers'] = 0"
   ]
  },
  {
   "cell_type": "code",
   "execution_count": 3,
   "metadata": {},
   "outputs": [
    {
     "name": "stdout",
     "output_type": "stream",
     "text": [
      "Creating agent humanoid_blocker\n",
      "Reading agent XML from: /home/sergei/git/chai/multiagent-competition/gym_compete/new_envs/assets/humanoid_body.xml\n",
      "Creating agent humanoid\n",
      "Reading agent XML from: /home/sergei/git/chai/multiagent-competition/gym_compete/new_envs/assets/humanoid_body.xml\n",
      "Scene XML path: /home/sergei/git/chai/multiagent-competition/gym_compete/new_envs/assets/world_body.humanoid_body.humanoid_body.xml\n",
      "Created Scene with agents\n",
      "Config: env: multicomp\n",
      "env_config:\n",
      "  env_name: multicomp/YouShallNotPassHumans-v0\n",
      "  with_video: false\n",
      "framework: tfe\n",
      "kl_coeff: 1.0\n",
      "local_tf_session_args:\n",
      "  inter_op_parallelism_threads: 4\n",
      "  intra_op_parallelism_threads: 4\n",
      "lr: 0.0001\n",
      "multiagent:\n",
      "  policies:\n",
      "    player_1:\n",
      "    - <class 'ray.rllib.policy.tf_policy_template.PPOTFPolicy'>\n",
      "    - Box(380,)\n",
      "    - Box(17,)\n",
      "    - framework: tfe\n",
      "      model:\n",
      "        fcnet_activation: tanh\n",
      "        fcnet_hiddens:\n",
      "        - 64\n",
      "        - 64\n",
      "        free_log_std: true\n",
      "        use_lstm: false\n",
      "      observation_filter: MeanStdFilter\n",
      "    player_2:\n",
      "    - <class 'ray.rllib.policy.tf_policy_template.PPOTFPolicy'>\n",
      "    - Box(380,)\n",
      "    - Box(17,)\n",
      "    - framework: tfe\n",
      "      model:\n",
      "        custom_model: GymCompetePretrainedModel\n",
      "        custom_model_config:\n",
      "          agent_id: 1\n",
      "          env_name: multicomp/YouShallNotPassHumans-v0\n",
      "          model_config: {}\n",
      "          name: model_1\n",
      "  policies_to_train:\n",
      "  - player_1\n",
      "  - player_2\n",
      "  policy_mapping_fn: <function build_trainer_config.<locals>.select_policy at 0x7fe1f621b940>\n",
      "num_gpus: 0\n",
      "num_sgd_iter: 1\n",
      "num_workers: 0\n",
      "rollout_fragment_length: 4096\n",
      "sgd_minibatch_size: 8192\n",
      "tf_session_args:\n",
      "  allow_soft_placement: true\n",
      "  device_count:\n",
      "    CPU: 4\n",
      "  gpu_options:\n",
      "    allow_growth: true\n",
      "  inter_op_parallelism_threads: 4\n",
      "  intra_op_parallelism_threads: 4\n",
      "  log_device_placement: true\n",
      "train_batch_size: 16384\n",
      "use_gae: true\n",
      "\n"
     ]
    }
   ],
   "source": [
    "c_rl = build_trainer_config(c)"
   ]
  },
  {
   "cell_type": "code",
   "execution_count": 4,
   "metadata": {},
   "outputs": [
    {
     "name": "stdout",
     "output_type": "stream",
     "text": [
      "Creating agent humanoid_blocker\n",
      "Reading agent XML from: /home/sergei/git/chai/multiagent-competition/gym_compete/new_envs/assets/humanoid_body.xml\n",
      "Creating agent humanoid\n",
      "Reading agent XML from: /home/sergei/git/chai/multiagent-competition/gym_compete/new_envs/assets/humanoid_body.xml\n",
      "Scene XML path: /home/sergei/git/chai/multiagent-competition/gym_compete/new_envs/assets/world_body.humanoid_body.humanoid_body.xml\n",
      "Created Scene with agents\n",
      "WARNING:tensorflow:\n",
      "The following Variables were used a Lambda layer's call (lambda), but\n",
      "are not present in its tracked objects:\n",
      "  <tf.Variable 'player_1/log_std:0' shape=(17,) dtype=float32>\n",
      "It is possible that this is intended behavior, but it is more likely\n",
      "an omission. This is a strong indication that this layer should be\n",
      "formulated as a subclassed Layer rather than a Lambda layer.\n",
      "WARNING:tensorflow:From /home/sergei/miniconda3/envs/chai3.8/lib/python3.8/site-packages/ray/rllib/models/tf/tf_action_dist.py:233: to_float (from tensorflow.python.ops.math_ops) is deprecated and will be removed in a future version.\n",
      "Instructions for updating:\n",
      "Use `tf.cast` instead.\n",
      "Creating agent humanoid_blocker\n",
      "Reading agent XML from: /home/sergei/git/chai/multiagent-competition/gym_compete/new_envs/assets/humanoid_body.xml\n",
      "Creating agent humanoid\n",
      "Reading agent XML from: /home/sergei/git/chai/multiagent-competition/gym_compete/new_envs/assets/humanoid_body.xml\n",
      "Scene XML path: /home/sergei/git/chai/multiagent-competition/gym_compete/new_envs/assets/world_body.humanoid_body.humanoid_body.xml\n",
      "Created Scene with agents\n"
     ]
    },
    {
     "name": "stderr",
     "output_type": "stream",
     "text": [
      "Install gputil for GPU system monitoring.\n"
     ]
    }
   ],
   "source": [
    "trainer = PPOTrainer(c_rl)"
   ]
  },
  {
   "cell_type": "code",
   "execution_count": 5,
   "metadata": {},
   "outputs": [
    {
     "name": "stdout",
     "output_type": "stream",
     "text": [
      "Creating agent humanoid_blocker\n",
      "Reading agent XML from: /home/sergei/git/chai/multiagent-competition/gym_compete/new_envs/assets/humanoid_body.xml\n",
      "Creating agent humanoid\n",
      "Reading agent XML from: /home/sergei/git/chai/multiagent-competition/gym_compete/new_envs/assets/humanoid_body.xml\n",
      "Scene XML path: /home/sergei/git/chai/multiagent-competition/gym_compete/new_envs/assets/world_body.humanoid_body.humanoid_body.xml\n",
      "Created Scene with agents\n"
     ]
    }
   ],
   "source": [
    "env = trainer.env_creator(c_rl['env_config'])"
   ]
  },
  {
   "cell_type": "code",
   "execution_count": 6,
   "metadata": {},
   "outputs": [],
   "source": [
    "obs = env.reset()"
   ]
  },
  {
   "cell_type": "code",
   "execution_count": 7,
   "metadata": {},
   "outputs": [],
   "source": [
    "p = trainer.get_policy('player_2')"
   ]
  },
  {
   "cell_type": "code",
   "execution_count": 8,
   "metadata": {},
   "outputs": [
    {
     "name": "stdout",
     "output_type": "stream",
     "text": [
      "WARNING:tensorflow:Layer observation_preprocessing_layer_1 is casting an input tensor from dtype float64 to the layer's dtype of float32, which is new behavior in TensorFlow 2.  The layer has dtype float32 because it's dtype defaults to floatx.\n",
      "\n",
      "If you intended to run this layer in float32, you can safely ignore this warning. If in doubt, this warning is likely only an issue if you are porting a TensorFlow 1.X model to TensorFlow 2.\n",
      "\n",
      "To change all layers to have dtype float64 by default, call `tf.keras.backend.set_floatx('float64')`. To change just this layer, pass dtype='float64' to the layer constructor. If you are the author of this layer, you can disable autocasting by passing autocast=False to the base Layer constructor.\n",
      "\n"
     ]
    },
    {
     "data": {
      "text/plain": [
       "(<tf.Tensor: shape=(1, 34), dtype=float32, numpy=\n",
       " array([[ 1.0901332 , -2.4825482 ,  1.1352253 , -1.9470645 ,  1.1479528 ,\n",
       "          0.950797  , -0.14320488, -1.3485874 ,  1.6573427 ,  0.08454831,\n",
       "         -0.79728556, -0.8633359 , -1.3563421 , -1.4148328 , -1.6738188 ,\n",
       "          1.0254254 , -0.25747362, -1.1946142 , -1.1943502 , -1.3822243 ,\n",
       "         -1.2458018 , -1.3420836 , -1.6185255 , -1.7103587 , -1.162646  ,\n",
       "         -1.3695905 , -1.8137943 , -1.822718  , -0.96715873, -0.9660747 ,\n",
       "         -0.9697067 , -0.8741934 , -1.0161136 , -0.80789745]],\n",
       "       dtype=float32)>,\n",
       " None)"
      ]
     },
     "execution_count": 8,
     "metadata": {},
     "output_type": "execute_result"
    }
   ],
   "source": [
    "p.model.forward(input_dict={'obs': np.array([obs['player_2']])}, state=None, seq_lens=None)"
   ]
  },
  {
   "cell_type": "code",
   "execution_count": 9,
   "metadata": {},
   "outputs": [
    {
     "data": {
      "text/plain": [
       "<tf.Tensor: shape=(1,), dtype=float32, numpy=array([4.2595572], dtype=float32)>"
      ]
     },
     "execution_count": 9,
     "metadata": {},
     "output_type": "execute_result"
    }
   ],
   "source": [
    "p.model.value_function()"
   ]
  },
  {
   "cell_type": "code",
   "execution_count": null,
   "metadata": {},
   "outputs": [],
   "source": []
  }
 ],
 "metadata": {
  "kernelspec": {
   "display_name": "Python 3",
   "language": "python",
   "name": "python3"
  },
  "language_info": {
   "codemirror_mode": {
    "name": "ipython",
    "version": 3
   },
   "file_extension": ".py",
   "mimetype": "text/x-python",
   "name": "python",
   "nbconvert_exporter": "python",
   "pygments_lexer": "ipython3",
   "version": "3.7.7"
  }
 },
 "nbformat": 4,
 "nbformat_minor": 4
}
